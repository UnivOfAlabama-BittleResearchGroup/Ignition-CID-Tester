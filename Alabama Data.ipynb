{
 "cells": [
  {
   "cell_type": "code",
   "execution_count": 15,
   "id": "66ca06b7",
   "metadata": {},
   "outputs": [],
   "source": [
    "import pandas as pd\n",
    "import matplotlib.pyplot as plt"
   ]
  },
  {
   "cell_type": "code",
   "execution_count": 16,
   "id": "23222be9",
   "metadata": {},
   "outputs": [],
   "source": [
    "ipt = pd.read_csv(\"/Users/kadetownsend/Downloads/06-13-24-450TempTest.xlsx - Slow.csv\")"
   ]
  },
  {
   "cell_type": "code",
   "execution_count": 17,
   "id": "8fb4a709",
   "metadata": {},
   "outputs": [
    {
     "data": {
      "text/html": [
       "<div>\n",
       "<style scoped>\n",
       "    .dataframe tbody tr th:only-of-type {\n",
       "        vertical-align: middle;\n",
       "    }\n",
       "\n",
       "    .dataframe tbody tr th {\n",
       "        vertical-align: top;\n",
       "    }\n",
       "\n",
       "    .dataframe thead th {\n",
       "        text-align: right;\n",
       "    }\n",
       "</style>\n",
       "<table border=\"1\" class=\"dataframe\">\n",
       "  <thead>\n",
       "    <tr style=\"text-align: right;\">\n",
       "      <th></th>\n",
       "      <th>Time</th>\n",
       "      <th>Chamber Pressure [Bar]</th>\n",
       "      <th>N2 Pressure [Bar]</th>\n",
       "      <th>Leakage Rate [Bar/Min]</th>\n",
       "      <th>Wall Temp [C]</th>\n",
       "      <th>Coolant In Temp</th>\n",
       "      <th>Coolant Out Temp</th>\n",
       "      <th>Injector Temp [C]</th>\n",
       "      <th>Internal Temp [C]</th>\n",
       "      <th>Heater on?</th>\n",
       "    </tr>\n",
       "  </thead>\n",
       "  <tbody>\n",
       "    <tr>\n",
       "      <th>0</th>\n",
       "      <td>06/13/2024 10:23:18.256 AM</td>\n",
       "      <td>0.042770</td>\n",
       "      <td>0.348571</td>\n",
       "      <td>0.146234</td>\n",
       "      <td>21.973886</td>\n",
       "      <td>35.439632</td>\n",
       "      <td>35.087303</td>\n",
       "      <td>30.795338</td>\n",
       "      <td>22.129391</td>\n",
       "      <td>0</td>\n",
       "    </tr>\n",
       "    <tr>\n",
       "      <th>1</th>\n",
       "      <td>06/13/2024 10:23:18.256 AM</td>\n",
       "      <td>0.042770</td>\n",
       "      <td>0.348571</td>\n",
       "      <td>0.146234</td>\n",
       "      <td>21.973886</td>\n",
       "      <td>35.439632</td>\n",
       "      <td>35.087303</td>\n",
       "      <td>30.795338</td>\n",
       "      <td>22.129391</td>\n",
       "      <td>0</td>\n",
       "    </tr>\n",
       "    <tr>\n",
       "      <th>2</th>\n",
       "      <td>06/13/2024 10:24:30.671 AM</td>\n",
       "      <td>0.014102</td>\n",
       "      <td>0.336625</td>\n",
       "      <td>-0.868743</td>\n",
       "      <td>22.106525</td>\n",
       "      <td>37.233669</td>\n",
       "      <td>36.851913</td>\n",
       "      <td>32.256809</td>\n",
       "      <td>22.275396</td>\n",
       "      <td>0</td>\n",
       "    </tr>\n",
       "    <tr>\n",
       "      <th>3</th>\n",
       "      <td>06/13/2024 10:24:31.771 AM</td>\n",
       "      <td>-0.016957</td>\n",
       "      <td>0.331848</td>\n",
       "      <td>-0.028037</td>\n",
       "      <td>22.106565</td>\n",
       "      <td>37.224983</td>\n",
       "      <td>36.883492</td>\n",
       "      <td>32.278309</td>\n",
       "      <td>22.279030</td>\n",
       "      <td>0</td>\n",
       "    </tr>\n",
       "    <tr>\n",
       "      <th>4</th>\n",
       "      <td>06/13/2024 10:24:32.771 AM</td>\n",
       "      <td>0.011713</td>\n",
       "      <td>0.329458</td>\n",
       "      <td>-0.059952</td>\n",
       "      <td>22.109686</td>\n",
       "      <td>37.230911</td>\n",
       "      <td>36.882832</td>\n",
       "      <td>32.292492</td>\n",
       "      <td>22.279972</td>\n",
       "      <td>0</td>\n",
       "    </tr>\n",
       "    <tr>\n",
       "      <th>...</th>\n",
       "      <td>...</td>\n",
       "      <td>...</td>\n",
       "      <td>...</td>\n",
       "      <td>...</td>\n",
       "      <td>...</td>\n",
       "      <td>...</td>\n",
       "      <td>...</td>\n",
       "      <td>...</td>\n",
       "      <td>...</td>\n",
       "      <td>...</td>\n",
       "    </tr>\n",
       "    <tr>\n",
       "      <th>5299</th>\n",
       "      <td>06/13/2024 11:52:47.771 AM</td>\n",
       "      <td>0.052326</td>\n",
       "      <td>0.374851</td>\n",
       "      <td>-0.066948</td>\n",
       "      <td>148.891312</td>\n",
       "      <td>43.467522</td>\n",
       "      <td>43.637848</td>\n",
       "      <td>56.933727</td>\n",
       "      <td>147.224457</td>\n",
       "      <td>0</td>\n",
       "    </tr>\n",
       "    <tr>\n",
       "      <th>5300</th>\n",
       "      <td>06/13/2024 11:52:48.671 AM</td>\n",
       "      <td>0.092940</td>\n",
       "      <td>0.315123</td>\n",
       "      <td>-0.006728</td>\n",
       "      <td>148.860123</td>\n",
       "      <td>43.459946</td>\n",
       "      <td>43.633286</td>\n",
       "      <td>56.929909</td>\n",
       "      <td>147.198334</td>\n",
       "      <td>0</td>\n",
       "    </tr>\n",
       "    <tr>\n",
       "      <th>5301</th>\n",
       "      <td>06/13/2024 11:52:49.771 AM</td>\n",
       "      <td>0.033214</td>\n",
       "      <td>0.291233</td>\n",
       "      <td>0.005324</td>\n",
       "      <td>148.799362</td>\n",
       "      <td>43.446808</td>\n",
       "      <td>43.629364</td>\n",
       "      <td>56.921989</td>\n",
       "      <td>147.137970</td>\n",
       "      <td>0</td>\n",
       "    </tr>\n",
       "    <tr>\n",
       "      <th>5302</th>\n",
       "      <td>06/13/2024 11:52:50.672 AM</td>\n",
       "      <td>0.033214</td>\n",
       "      <td>0.379629</td>\n",
       "      <td>0.031147</td>\n",
       "      <td>148.739227</td>\n",
       "      <td>43.446392</td>\n",
       "      <td>43.620975</td>\n",
       "      <td>56.912453</td>\n",
       "      <td>147.081238</td>\n",
       "      <td>0</td>\n",
       "    </tr>\n",
       "    <tr>\n",
       "      <th>5303</th>\n",
       "      <td>06/13/2024 11:52:51.672 AM</td>\n",
       "      <td>0.045159</td>\n",
       "      <td>0.350960</td>\n",
       "      <td>0.030037</td>\n",
       "      <td>148.678940</td>\n",
       "      <td>43.447941</td>\n",
       "      <td>43.612244</td>\n",
       "      <td>56.905384</td>\n",
       "      <td>147.023758</td>\n",
       "      <td>0</td>\n",
       "    </tr>\n",
       "  </tbody>\n",
       "</table>\n",
       "<p>5304 rows × 10 columns</p>\n",
       "</div>"
      ],
      "text/plain": [
       "                            Time  Chamber Pressure [Bar]  N2 Pressure [Bar]  \\\n",
       "0     06/13/2024 10:23:18.256 AM                0.042770           0.348571   \n",
       "1     06/13/2024 10:23:18.256 AM                0.042770           0.348571   \n",
       "2     06/13/2024 10:24:30.671 AM                0.014102           0.336625   \n",
       "3     06/13/2024 10:24:31.771 AM               -0.016957           0.331848   \n",
       "4     06/13/2024 10:24:32.771 AM                0.011713           0.329458   \n",
       "...                          ...                     ...                ...   \n",
       "5299  06/13/2024 11:52:47.771 AM                0.052326           0.374851   \n",
       "5300  06/13/2024 11:52:48.671 AM                0.092940           0.315123   \n",
       "5301  06/13/2024 11:52:49.771 AM                0.033214           0.291233   \n",
       "5302  06/13/2024 11:52:50.672 AM                0.033214           0.379629   \n",
       "5303  06/13/2024 11:52:51.672 AM                0.045159           0.350960   \n",
       "\n",
       "      Leakage Rate [Bar/Min]  Wall Temp [C]  Coolant In Temp  \\\n",
       "0                   0.146234      21.973886        35.439632   \n",
       "1                   0.146234      21.973886        35.439632   \n",
       "2                  -0.868743      22.106525        37.233669   \n",
       "3                  -0.028037      22.106565        37.224983   \n",
       "4                  -0.059952      22.109686        37.230911   \n",
       "...                      ...            ...              ...   \n",
       "5299               -0.066948     148.891312        43.467522   \n",
       "5300               -0.006728     148.860123        43.459946   \n",
       "5301                0.005324     148.799362        43.446808   \n",
       "5302                0.031147     148.739227        43.446392   \n",
       "5303                0.030037     148.678940        43.447941   \n",
       "\n",
       "      Coolant Out Temp  Injector Temp [C]  Internal Temp [C]  Heater on?  \n",
       "0            35.087303          30.795338          22.129391           0  \n",
       "1            35.087303          30.795338          22.129391           0  \n",
       "2            36.851913          32.256809          22.275396           0  \n",
       "3            36.883492          32.278309          22.279030           0  \n",
       "4            36.882832          32.292492          22.279972           0  \n",
       "...                ...                ...                ...         ...  \n",
       "5299         43.637848          56.933727         147.224457           0  \n",
       "5300         43.633286          56.929909         147.198334           0  \n",
       "5301         43.629364          56.921989         147.137970           0  \n",
       "5302         43.620975          56.912453         147.081238           0  \n",
       "5303         43.612244          56.905384         147.023758           0  \n",
       "\n",
       "[5304 rows x 10 columns]"
      ]
     },
     "execution_count": 17,
     "metadata": {},
     "output_type": "execute_result"
    }
   ],
   "source": [
    "ipt"
   ]
  },
  {
   "cell_type": "code",
   "execution_count": 18,
   "id": "19e796de",
   "metadata": {},
   "outputs": [
    {
     "data": {
      "text/plain": [
       "[<matplotlib.lines.Line2D at 0x7fc08d80b760>]"
      ]
     },
     "execution_count": 18,
     "metadata": {},
     "output_type": "execute_result"
    },
    {
     "data": {
      "image/png": "[encoded data removed]",
      "text/plain": [
       "<Figure size 432x288 with 1 Axes>"
      ]
     },
     "metadata": {
      "needs_background": "light"
     },
     "output_type": "display_data"
    }
   ],
   "source": [
    "plt.plot(ipt[\"Wall Temp [C]\"], ipt[\"Internal Temp [C]\"])"
   ]
  },
  {
   "cell_type": "code",
   "execution_count": 22,
   "id": "79f2837d",
   "metadata": {},
   "outputs": [
    {
     "data": {
      "image/png": "[encoded data removed]",
      "text/plain": [
       "<Figure size 432x288 with 1 Axes>"
      ]
     },
     "metadata": {
      "needs_background": "light"
     },
     "output_type": "display_data"
    }
   ],
   "source": [
    "plt.plot(ipt[\"Time\"], ipt[\"Wall Temp [C]\"], label = \"Wall\")\n",
    "plt.plot(ipt[\"Time\"], ipt[\"Internal Temp [C]\"], label = \"Internal\")\n",
    "plt.show()"
   ]
  }
 ],
 "metadata": {
  "kernelspec": {
   "display_name": "Python 3 (ipykernel)",
   "language": "python",
   "name": "python3"
  },
  "language_info": {
   "codemirror_mode": {
    "name": "ipython",
    "version": 3
   },
   "file_extension": ".py",
   "mimetype": "text/x-python",
   "name": "python",
   "nbconvert_exporter": "python",
   "pygments_lexer": "ipython3",
   "version": "3.9.12"
  }
 },
 "nbformat": 4,
 "nbformat_minor": 5
}
