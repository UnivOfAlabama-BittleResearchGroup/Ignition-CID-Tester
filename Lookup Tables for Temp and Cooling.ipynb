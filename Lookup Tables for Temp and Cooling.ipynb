{
 "cells": [
  {
   "cell_type": "code",
   "execution_count": 44,
   "id": "ce8d2ebe",
   "metadata": {},
   "outputs": [],
   "source": [
    "import numpy as np\n",
    "from scipy import signal\n",
    "import matplotlib.pyplot as plt\n",
    "import pandas as pd\n",
    "# import time\n",
    "%matplotlib inline\n",
    "import plotly.express as px"
   ]
  },
  {
   "cell_type": "code",
   "execution_count": 45,
   "id": "7c22cd4c",
   "metadata": {},
   "outputs": [],
   "source": [
    "plt.rcParams[\"font.family\"] = 'serif'\n",
    "plt.rcParams['mathtext.fontset'] = 'dejavuserif'"
   ]
  },
  {
   "cell_type": "code",
   "execution_count": 46,
   "id": "6ca31c88",
   "metadata": {},
   "outputs": [],
   "source": [
    "June18Test = pd.read_csv('June18,2024(0-530,15Bar,380A).xlsx - Slow.csv')\n",
    "June17Test = pd.read_csv(\"June17,2024TempTest(0-500,5Bar-,380A).xlsx - Slow.csv\")\n",
    "June14Test = pd.read_csv(\"SLOWDATA2024_06_14 (0-400C 5bar 240V).xlsx - Slow.csv\")\n",
    "June13Test = pd.read_csv(\"06-13-24-450TempTest.xlsx - Slow.csv\")"
   ]
  },
  {
   "cell_type": "code",
   "execution_count": 47,
   "id": "026b77b5",
   "metadata": {},
   "outputs": [],
   "source": [
    "June18maxid = June18Test[\"Wall Temp [C]\"].idxmax() + 1\n",
    "June17maxid = June17Test[\"Wall Temp [C]\"].idxmax() + 1\n",
    "June14maxid = June14Test[\"Wall Temp [C]\"].idxmax() + 1\n",
    "June13maxid = June13Test[\"Wall Temp [C]\"].idxmax() + 1"
   ]
  },
  {
   "cell_type": "code",
   "execution_count": 48,
   "id": "eb93c18b",
   "metadata": {},
   "outputs": [],
   "source": [
    "June18Heating = June18Test.iloc[75:June18maxid,:]\n",
    "June17Heating = June17Test.iloc[75:June17maxid,:]\n",
    "June14Heating = June14Test.iloc[75:June14maxid,:]\n",
    "June13Heating = June13Test.iloc[75:June13maxid,:]"
   ]
  },
  {
   "cell_type": "code",
   "execution_count": 49,
   "id": "29cfd44e",
   "metadata": {},
   "outputs": [],
   "source": [
    "June18Heating = June18Heating.drop(columns=(\"Time\"))\n",
    "June17Heating = June17Heating.drop(columns=(\"Time\"))\n",
    "June14Heating = June14Heating.drop(columns=(\"Time\"))\n",
    "June13Heating = June13Heating.drop(columns=(\"Time\"))"
   ]
  },
  {
   "cell_type": "code",
   "execution_count": 50,
   "id": "048c3fc3",
   "metadata": {},
   "outputs": [],
   "source": [
    "pd.set_option('display.max_columns', None)  # or 1000\n",
    "pd.set_option('display.max_rows', None)  # or 1000\n",
    "pd.set_option('display.max_colwidth', None)  # or 199\n",
    "June18Heating[\"l\"]=0\n",
    "June17Heating[\"l\"]=0\n",
    "June14Heating[\"l\"]=0\n",
    "June13Heating[\"l\"]=0"
   ]
  },
  {
   "cell_type": "code",
   "execution_count": 51,
   "id": "1586b7fc",
   "metadata": {},
   "outputs": [],
   "source": [
    "i = 0\n",
    "j = 0\n",
    "for index, row in June18Heating.iterrows():\n",
    "    June18Heating.loc[index,\"l\"] = i\n",
    "    j += 1\n",
    "    if j == 15:\n",
    "        j = 0\n",
    "        i += 1"
   ]
  },
  {
   "cell_type": "code",
   "execution_count": 52,
   "id": "aa211880",
   "metadata": {},
   "outputs": [],
   "source": [
    "i = 0\n",
    "j = 0\n",
    "for index, row in June17Heating.iterrows():\n",
    "    June17Heating.loc[index,\"l\"] = i\n",
    "    j += 1\n",
    "    if j == 15:\n",
    "        j = 0\n",
    "        i += 1"
   ]
  },
  {
   "cell_type": "code",
   "execution_count": 53,
   "id": "660e3289",
   "metadata": {},
   "outputs": [],
   "source": [
    "i = 0\n",
    "j = 0\n",
    "for index, row in June14Heating.iterrows():\n",
    "    June14Heating.loc[index,\"l\"] = i\n",
    "    j += 1\n",
    "    if j == 15:\n",
    "        j = 0\n",
    "        i += 1"
   ]
  },
  {
   "cell_type": "code",
   "execution_count": 54,
   "id": "ccc9824b",
   "metadata": {},
   "outputs": [],
   "source": [
    "i = 0\n",
    "j = 0\n",
    "for index, row in June13Heating.iterrows():\n",
    "    June13Heating.loc[index,\"l\"] = i\n",
    "    j += 1\n",
    "    if j == 15:\n",
    "        j = 0\n",
    "        i += 1"
   ]
  },
  {
   "cell_type": "code",
   "execution_count": 55,
   "id": "cd502149",
   "metadata": {},
   "outputs": [],
   "source": [
    "June13HeatingFilt=June13Heating.groupby([\"l\"]).mean()\n",
    "June14HeatingFilt=June14Heating.groupby([\"l\"]).mean()\n",
    "June17HeatingFilt=June17Heating.groupby([\"l\"]).mean()\n",
    "June18HeatingFilt=June18Heating.groupby([\"l\"]).mean()\n",
    "June13HeatingFilt[\"walllimit\"] = 0\n",
    "June14HeatingFilt[\"walllimit\"] = 0\n",
    "June17HeatingFilt[\"walllimit\"] = 0\n",
    "June18HeatingFilt[\"walllimit\"] = 0"
   ]
  },
  {
   "cell_type": "code",
   "execution_count": 56,
   "id": "1497d649",
   "metadata": {},
   "outputs": [
    {
     "data": {
      "text/html": [
       "<div>\n",
       "<style scoped>\n",
       "    .dataframe tbody tr th:only-of-type {\n",
       "        vertical-align: middle;\n",
       "    }\n",
       "\n",
       "    .dataframe tbody tr th {\n",
       "        vertical-align: top;\n",
       "    }\n",
       "\n",
       "    .dataframe thead th {\n",
       "        text-align: right;\n",
       "    }\n",
       "</style>\n",
       "<table border=\"1\" class=\"dataframe\">\n",
       "  <thead>\n",
       "    <tr style=\"text-align: right;\">\n",
       "      <th></th>\n",
       "      <th>Chamber Pressure [Bar]</th>\n",
       "      <th>N2 Pressure [Bar]</th>\n",
       "      <th>Leakage Rate [Bar/Min]</th>\n",
       "      <th>Wall Temp [C]</th>\n",
       "      <th>Coolant In Temp</th>\n",
       "      <th>Coolant Out Temp</th>\n",
       "      <th>Injector Temp [C]</th>\n",
       "      <th>Internal Temp [C]</th>\n",
       "      <th>Heater on?</th>\n",
       "      <th>walllimit</th>\n",
       "    </tr>\n",
       "    <tr>\n",
       "      <th>l</th>\n",
       "      <th></th>\n",
       "      <th></th>\n",
       "      <th></th>\n",
       "      <th></th>\n",
       "      <th></th>\n",
       "      <th></th>\n",
       "      <th></th>\n",
       "      <th></th>\n",
       "      <th></th>\n",
       "      <th></th>\n",
       "    </tr>\n",
       "  </thead>\n",
       "  <tbody>\n",
       "    <tr>\n",
       "      <th>0</th>\n",
       "      <td>0.043248</td>\n",
       "      <td>0.347934</td>\n",
       "      <td>0.100568</td>\n",
       "      <td>37.936659</td>\n",
       "      <td>38.835231</td>\n",
       "      <td>38.477473</td>\n",
       "      <td>34.006500</td>\n",
       "      <td>33.461891</td>\n",
       "      <td>1.000000</td>\n",
       "      <td>0</td>\n",
       "    </tr>\n",
       "    <tr>\n",
       "      <th>1</th>\n",
       "      <td>0.049141</td>\n",
       "      <td>0.348730</td>\n",
       "      <td>0.002460</td>\n",
       "      <td>42.162821</td>\n",
       "      <td>39.226843</td>\n",
       "      <td>38.845642</td>\n",
       "      <td>34.431367</td>\n",
       "      <td>37.079371</td>\n",
       "      <td>1.000000</td>\n",
       "      <td>0</td>\n",
       "    </tr>\n",
       "    <tr>\n",
       "      <th>2</th>\n",
       "      <td>0.038629</td>\n",
       "      <td>0.346978</td>\n",
       "      <td>-0.014162</td>\n",
       "      <td>46.283655</td>\n",
       "      <td>39.501847</td>\n",
       "      <td>39.137519</td>\n",
       "      <td>34.913596</td>\n",
       "      <td>40.109402</td>\n",
       "      <td>1.000000</td>\n",
       "      <td>0</td>\n",
       "    </tr>\n",
       "    <tr>\n",
       "      <th>3</th>\n",
       "      <td>0.036558</td>\n",
       "      <td>0.335988</td>\n",
       "      <td>-0.007143</td>\n",
       "      <td>50.232508</td>\n",
       "      <td>39.840294</td>\n",
       "      <td>39.468429</td>\n",
       "      <td>35.448884</td>\n",
       "      <td>42.423023</td>\n",
       "      <td>0.466667</td>\n",
       "      <td>0</td>\n",
       "    </tr>\n",
       "    <tr>\n",
       "      <th>4</th>\n",
       "      <td>0.063157</td>\n",
       "      <td>0.349367</td>\n",
       "      <td>0.082024</td>\n",
       "      <td>53.072575</td>\n",
       "      <td>40.250171</td>\n",
       "      <td>39.852651</td>\n",
       "      <td>36.032654</td>\n",
       "      <td>44.328655</td>\n",
       "      <td>0.000000</td>\n",
       "      <td>0</td>\n",
       "    </tr>\n",
       "    <tr>\n",
       "      <th>5</th>\n",
       "      <td>0.056786</td>\n",
       "      <td>0.347774</td>\n",
       "      <td>-0.038460</td>\n",
       "      <td>53.734189</td>\n",
       "      <td>40.494688</td>\n",
       "      <td>40.141093</td>\n",
       "      <td>36.618184</td>\n",
       "      <td>45.413387</td>\n",
       "      <td>0.000000</td>\n",
       "      <td>0</td>\n",
       "    </tr>\n",
       "    <tr>\n",
       "      <th>6</th>\n",
       "      <td>0.065546</td>\n",
       "      <td>0.348571</td>\n",
       "      <td>0.021759</td>\n",
       "      <td>53.388396</td>\n",
       "      <td>40.777607</td>\n",
       "      <td>40.416936</td>\n",
       "      <td>37.156950</td>\n",
       "      <td>45.812303</td>\n",
       "      <td>0.000000</td>\n",
       "      <td>0</td>\n",
       "    </tr>\n",
       "    <tr>\n",
       "      <th>7</th>\n",
       "      <td>0.055512</td>\n",
       "      <td>0.335033</td>\n",
       "      <td>-0.024424</td>\n",
       "      <td>52.694966</td>\n",
       "      <td>41.144920</td>\n",
       "      <td>40.771470</td>\n",
       "      <td>37.646578</td>\n",
       "      <td>45.996797</td>\n",
       "      <td>0.000000</td>\n",
       "      <td>0</td>\n",
       "    </tr>\n",
       "    <tr>\n",
       "      <th>8</th>\n",
       "      <td>0.061086</td>\n",
       "      <td>0.346978</td>\n",
       "      <td>0.040428</td>\n",
       "      <td>51.897353</td>\n",
       "      <td>41.432753</td>\n",
       "      <td>41.058295</td>\n",
       "      <td>38.114055</td>\n",
       "      <td>46.155595</td>\n",
       "      <td>0.000000</td>\n",
       "      <td>0</td>\n",
       "    </tr>\n",
       "    <tr>\n",
       "      <th>9</th>\n",
       "      <td>0.059494</td>\n",
       "      <td>0.344111</td>\n",
       "      <td>-0.002621</td>\n",
       "      <td>51.097364</td>\n",
       "      <td>41.796857</td>\n",
       "      <td>41.424609</td>\n",
       "      <td>38.558899</td>\n",
       "      <td>46.298280</td>\n",
       "      <td>0.000000</td>\n",
       "      <td>0</td>\n",
       "    </tr>\n",
       "    <tr>\n",
       "      <th>10</th>\n",
       "      <td>0.059175</td>\n",
       "      <td>0.342518</td>\n",
       "      <td>-0.004503</td>\n",
       "      <td>50.330918</td>\n",
       "      <td>42.093583</td>\n",
       "      <td>41.724319</td>\n",
       "      <td>38.992154</td>\n",
       "      <td>46.389178</td>\n",
       "      <td>0.000000</td>\n",
       "      <td>0</td>\n",
       "    </tr>\n",
       "    <tr>\n",
       "      <th>11</th>\n",
       "      <td>0.063316</td>\n",
       "      <td>0.341563</td>\n",
       "      <td>-0.004993</td>\n",
       "      <td>49.619587</td>\n",
       "      <td>42.381057</td>\n",
       "      <td>42.013734</td>\n",
       "      <td>39.395999</td>\n",
       "      <td>46.409423</td>\n",
       "      <td>0.000000</td>\n",
       "      <td>0</td>\n",
       "    </tr>\n",
       "    <tr>\n",
       "      <th>12</th>\n",
       "      <td>0.058697</td>\n",
       "      <td>0.347934</td>\n",
       "      <td>0.008187</td>\n",
       "      <td>48.967376</td>\n",
       "      <td>42.621511</td>\n",
       "      <td>42.269157</td>\n",
       "      <td>39.763661</td>\n",
       "      <td>46.371116</td>\n",
       "      <td>0.000000</td>\n",
       "      <td>0</td>\n",
       "    </tr>\n",
       "    <tr>\n",
       "      <th>13</th>\n",
       "      <td>0.061405</td>\n",
       "      <td>0.348093</td>\n",
       "      <td>0.001461</td>\n",
       "      <td>48.371493</td>\n",
       "      <td>42.768632</td>\n",
       "      <td>42.437711</td>\n",
       "      <td>40.106118</td>\n",
       "      <td>46.291966</td>\n",
       "      <td>0.000000</td>\n",
       "      <td>0</td>\n",
       "    </tr>\n",
       "    <tr>\n",
       "      <th>14</th>\n",
       "      <td>0.056149</td>\n",
       "      <td>0.346819</td>\n",
       "      <td>-0.043977</td>\n",
       "      <td>47.827052</td>\n",
       "      <td>42.786469</td>\n",
       "      <td>42.491705</td>\n",
       "      <td>40.407499</td>\n",
       "      <td>46.180029</td>\n",
       "      <td>0.000000</td>\n",
       "      <td>0</td>\n",
       "    </tr>\n",
       "    <tr>\n",
       "      <th>15</th>\n",
       "      <td>0.067776</td>\n",
       "      <td>0.349686</td>\n",
       "      <td>0.073900</td>\n",
       "      <td>47.388705</td>\n",
       "      <td>42.830010</td>\n",
       "      <td>42.540968</td>\n",
       "      <td>40.654002</td>\n",
       "      <td>46.038120</td>\n",
       "      <td>0.800000</td>\n",
       "      <td>0</td>\n",
       "    </tr>\n",
       "    <tr>\n",
       "      <th>16</th>\n",
       "      <td>0.065386</td>\n",
       "      <td>0.336307</td>\n",
       "      <td>-0.020602</td>\n",
       "      <td>48.403775</td>\n",
       "      <td>42.863016</td>\n",
       "      <td>42.586313</td>\n",
       "      <td>40.854136</td>\n",
       "      <td>46.156173</td>\n",
       "      <td>1.000000</td>\n",
       "      <td>0</td>\n",
       "    </tr>\n",
       "    <tr>\n",
       "      <th>17</th>\n",
       "      <td>0.065068</td>\n",
       "      <td>0.333599</td>\n",
       "      <td>-0.022939</td>\n",
       "      <td>51.316319</td>\n",
       "      <td>42.886511</td>\n",
       "      <td>42.617215</td>\n",
       "      <td>41.047315</td>\n",
       "      <td>47.233077</td>\n",
       "      <td>1.000000</td>\n",
       "      <td>0</td>\n",
       "    </tr>\n",
       "    <tr>\n",
       "      <th>18</th>\n",
       "      <td>0.050574</td>\n",
       "      <td>0.339651</td>\n",
       "      <td>0.006764</td>\n",
       "      <td>54.954148</td>\n",
       "      <td>42.933727</td>\n",
       "      <td>42.674160</td>\n",
       "      <td>41.263494</td>\n",
       "      <td>49.011576</td>\n",
       "      <td>1.000000</td>\n",
       "      <td>0</td>\n",
       "    </tr>\n",
       "    <tr>\n",
       "      <th>19</th>\n",
       "      <td>0.060927</td>\n",
       "      <td>0.334396</td>\n",
       "      <td>0.010106</td>\n",
       "      <td>58.769374</td>\n",
       "      <td>42.969890</td>\n",
       "      <td>42.708984</td>\n",
       "      <td>41.539640</td>\n",
       "      <td>51.070845</td>\n",
       "      <td>1.000000</td>\n",
       "      <td>0</td>\n",
       "    </tr>\n",
       "    <tr>\n",
       "      <th>20</th>\n",
       "      <td>0.055512</td>\n",
       "      <td>0.334555</td>\n",
       "      <td>-0.006669</td>\n",
       "      <td>62.612107</td>\n",
       "      <td>43.000606</td>\n",
       "      <td>42.749920</td>\n",
       "      <td>41.874916</td>\n",
       "      <td>53.186604</td>\n",
       "      <td>1.000000</td>\n",
       "      <td>0</td>\n",
       "    </tr>\n",
       "    <tr>\n",
       "      <th>21</th>\n",
       "      <td>0.084977</td>\n",
       "      <td>0.342200</td>\n",
       "      <td>0.057154</td>\n",
       "      <td>66.345259</td>\n",
       "      <td>43.012814</td>\n",
       "      <td>42.772815</td>\n",
       "      <td>42.273395</td>\n",
       "      <td>55.347307</td>\n",
       "      <td>1.000000</td>\n",
       "      <td>0</td>\n",
       "    </tr>\n",
       "    <tr>\n",
       "      <th>22</th>\n",
       "      <td>0.075421</td>\n",
       "      <td>0.348889</td>\n",
       "      <td>0.036987</td>\n",
       "      <td>69.947645</td>\n",
       "      <td>43.053773</td>\n",
       "      <td>42.810770</td>\n",
       "      <td>42.720423</td>\n",
       "      <td>57.559471</td>\n",
       "      <td>1.000000</td>\n",
       "      <td>0</td>\n",
       "    </tr>\n",
       "    <tr>\n",
       "      <th>23</th>\n",
       "      <td>0.081154</td>\n",
       "      <td>0.357968</td>\n",
       "      <td>0.001287</td>\n",
       "      <td>73.444287</td>\n",
       "      <td>43.100417</td>\n",
       "      <td>42.865875</td>\n",
       "      <td>43.220305</td>\n",
       "      <td>59.954953</td>\n",
       "      <td>1.000000</td>\n",
       "      <td>0</td>\n",
       "    </tr>\n",
       "    <tr>\n",
       "      <th>24</th>\n",
       "      <td>0.087207</td>\n",
       "      <td>0.343156</td>\n",
       "      <td>-0.005150</td>\n",
       "      <td>76.585937</td>\n",
       "      <td>43.084883</td>\n",
       "      <td>42.861251</td>\n",
       "      <td>43.763422</td>\n",
       "      <td>62.620450</td>\n",
       "      <td>0.000000</td>\n",
       "      <td>0</td>\n",
       "    </tr>\n",
       "    <tr>\n",
       "      <th>25</th>\n",
       "      <td>0.087525</td>\n",
       "      <td>0.349845</td>\n",
       "      <td>0.015021</td>\n",
       "      <td>77.781414</td>\n",
       "      <td>43.087274</td>\n",
       "      <td>42.873785</td>\n",
       "      <td>44.327226</td>\n",
       "      <td>65.220728</td>\n",
       "      <td>0.000000</td>\n",
       "      <td>0</td>\n",
       "    </tr>\n",
       "    <tr>\n",
       "      <th>26</th>\n",
       "      <td>0.089914</td>\n",
       "      <td>0.353668</td>\n",
       "      <td>0.030625</td>\n",
       "      <td>77.397739</td>\n",
       "      <td>43.098951</td>\n",
       "      <td>42.890406</td>\n",
       "      <td>44.833100</td>\n",
       "      <td>67.112444</td>\n",
       "      <td>0.000000</td>\n",
       "      <td>0</td>\n",
       "    </tr>\n",
       "    <tr>\n",
       "      <th>27</th>\n",
       "      <td>0.096604</td>\n",
       "      <td>0.348412</td>\n",
       "      <td>-0.030111</td>\n",
       "      <td>76.481363</td>\n",
       "      <td>43.162264</td>\n",
       "      <td>42.953433</td>\n",
       "      <td>45.250770</td>\n",
       "      <td>68.284821</td>\n",
       "      <td>0.000000</td>\n",
       "      <td>0</td>\n",
       "    </tr>\n",
       "    <tr>\n",
       "      <th>28</th>\n",
       "      <td>0.090392</td>\n",
       "      <td>0.346819</td>\n",
       "      <td>-0.016101</td>\n",
       "      <td>75.404091</td>\n",
       "      <td>43.155773</td>\n",
       "      <td>42.960760</td>\n",
       "      <td>45.588595</td>\n",
       "      <td>68.962448</td>\n",
       "      <td>0.000000</td>\n",
       "      <td>0</td>\n",
       "    </tr>\n",
       "    <tr>\n",
       "      <th>29</th>\n",
       "      <td>0.090392</td>\n",
       "      <td>0.348889</td>\n",
       "      <td>0.006242</td>\n",
       "      <td>74.323731</td>\n",
       "      <td>43.172142</td>\n",
       "      <td>42.978835</td>\n",
       "      <td>45.840526</td>\n",
       "      <td>69.297483</td>\n",
       "      <td>0.000000</td>\n",
       "      <td>0</td>\n",
       "    </tr>\n",
       "    <tr>\n",
       "      <th>30</th>\n",
       "      <td>0.083066</td>\n",
       "      <td>0.339492</td>\n",
       "      <td>-0.032221</td>\n",
       "      <td>73.285147</td>\n",
       "      <td>43.180572</td>\n",
       "      <td>42.994890</td>\n",
       "      <td>46.033339</td>\n",
       "      <td>69.402759</td>\n",
       "      <td>0.000000</td>\n",
       "      <td>0</td>\n",
       "    </tr>\n",
       "    <tr>\n",
       "      <th>31</th>\n",
       "      <td>0.085614</td>\n",
       "      <td>0.333281</td>\n",
       "      <td>-0.017890</td>\n",
       "      <td>72.317884</td>\n",
       "      <td>43.159088</td>\n",
       "      <td>42.987104</td>\n",
       "      <td>46.179060</td>\n",
       "      <td>69.344099</td>\n",
       "      <td>0.533333</td>\n",
       "      <td>0</td>\n",
       "    </tr>\n",
       "    <tr>\n",
       "      <th>32</th>\n",
       "      <td>0.085932</td>\n",
       "      <td>0.346182</td>\n",
       "      <td>0.034698</td>\n",
       "      <td>72.284706</td>\n",
       "      <td>43.174544</td>\n",
       "      <td>43.000291</td>\n",
       "      <td>46.293900</td>\n",
       "      <td>69.216779</td>\n",
       "      <td>1.000000</td>\n",
       "      <td>0</td>\n",
       "    </tr>\n",
       "    <tr>\n",
       "      <th>33</th>\n",
       "      <td>0.088162</td>\n",
       "      <td>0.346819</td>\n",
       "      <td>-0.011241</td>\n",
       "      <td>74.380472</td>\n",
       "      <td>43.179739</td>\n",
       "      <td>43.008868</td>\n",
       "      <td>46.441022</td>\n",
       "      <td>69.401021</td>\n",
       "      <td>1.000000</td>\n",
       "      <td>0</td>\n",
       "    </tr>\n",
       "    <tr>\n",
       "      <th>34</th>\n",
       "      <td>0.097559</td>\n",
       "      <td>0.344111</td>\n",
       "      <td>0.035985</td>\n",
       "      <td>77.424790</td>\n",
       "      <td>43.193402</td>\n",
       "      <td>43.028892</td>\n",
       "      <td>46.673729</td>\n",
       "      <td>70.212590</td>\n",
       "      <td>1.000000</td>\n",
       "      <td>0</td>\n",
       "    </tr>\n",
       "    <tr>\n",
       "      <th>35</th>\n",
       "      <td>0.090551</td>\n",
       "      <td>0.339811</td>\n",
       "      <td>-0.007668</td>\n",
       "      <td>80.774471</td>\n",
       "      <td>43.191902</td>\n",
       "      <td>43.032334</td>\n",
       "      <td>46.995346</td>\n",
       "      <td>71.635977</td>\n",
       "      <td>1.000000</td>\n",
       "      <td>0</td>\n",
       "    </tr>\n",
       "    <tr>\n",
       "      <th>36</th>\n",
       "      <td>0.091826</td>\n",
       "      <td>0.334714</td>\n",
       "      <td>-0.026028</td>\n",
       "      <td>84.120427</td>\n",
       "      <td>43.204565</td>\n",
       "      <td>43.045766</td>\n",
       "      <td>47.375615</td>\n",
       "      <td>73.508953</td>\n",
       "      <td>1.000000</td>\n",
       "      <td>0</td>\n",
       "    </tr>\n",
       "    <tr>\n",
       "      <th>37</th>\n",
       "      <td>0.098515</td>\n",
       "      <td>0.343952</td>\n",
       "      <td>0.060163</td>\n",
       "      <td>87.429313</td>\n",
       "      <td>43.204346</td>\n",
       "      <td>43.055930</td>\n",
       "      <td>47.793403</td>\n",
       "      <td>75.713386</td>\n",
       "      <td>1.000000</td>\n",
       "      <td>0</td>\n",
       "    </tr>\n",
       "    <tr>\n",
       "      <th>38</th>\n",
       "      <td>0.113964</td>\n",
       "      <td>0.343792</td>\n",
       "      <td>0.018110</td>\n",
       "      <td>90.616915</td>\n",
       "      <td>43.187832</td>\n",
       "      <td>43.044564</td>\n",
       "      <td>48.233926</td>\n",
       "      <td>78.144823</td>\n",
       "      <td>1.000000</td>\n",
       "      <td>0</td>\n",
       "    </tr>\n",
       "    <tr>\n",
       "      <th>39</th>\n",
       "      <td>0.104249</td>\n",
       "      <td>0.348093</td>\n",
       "      <td>-0.016996</td>\n",
       "      <td>93.713128</td>\n",
       "      <td>43.225824</td>\n",
       "      <td>43.077323</td>\n",
       "      <td>48.688880</td>\n",
       "      <td>80.721218</td>\n",
       "      <td>1.000000</td>\n",
       "      <td>0</td>\n",
       "    </tr>\n",
       "    <tr>\n",
       "      <th>40</th>\n",
       "      <td>0.093259</td>\n",
       "      <td>0.332325</td>\n",
       "      <td>0.003539</td>\n",
       "      <td>96.710239</td>\n",
       "      <td>43.248858</td>\n",
       "      <td>43.111305</td>\n",
       "      <td>49.173328</td>\n",
       "      <td>83.381094</td>\n",
       "      <td>1.000000</td>\n",
       "      <td>0</td>\n",
       "    </tr>\n",
       "    <tr>\n",
       "      <th>41</th>\n",
       "      <td>0.124158</td>\n",
       "      <td>0.343156</td>\n",
       "      <td>0.099718</td>\n",
       "      <td>99.597475</td>\n",
       "      <td>43.207417</td>\n",
       "      <td>43.085415</td>\n",
       "      <td>49.683022</td>\n",
       "      <td>86.051201</td>\n",
       "      <td>0.600000</td>\n",
       "      <td>0</td>\n",
       "    </tr>\n",
       "    <tr>\n",
       "      <th>42</th>\n",
       "      <td>0.118902</td>\n",
       "      <td>0.341404</td>\n",
       "      <td>-0.038382</td>\n",
       "      <td>101.697600</td>\n",
       "      <td>43.225548</td>\n",
       "      <td>43.099919</td>\n",
       "      <td>50.192063</td>\n",
       "      <td>88.674265</td>\n",
       "      <td>0.000000</td>\n",
       "      <td>0</td>\n",
       "    </tr>\n",
       "    <tr>\n",
       "      <th>43</th>\n",
       "      <td>0.111097</td>\n",
       "      <td>0.338218</td>\n",
       "      <td>-0.040460</td>\n",
       "      <td>101.698491</td>\n",
       "      <td>43.239153</td>\n",
       "      <td>43.120653</td>\n",
       "      <td>50.676599</td>\n",
       "      <td>90.864806</td>\n",
       "      <td>0.000000</td>\n",
       "      <td>0</td>\n",
       "    </tr>\n",
       "    <tr>\n",
       "      <th>44</th>\n",
       "      <td>0.125591</td>\n",
       "      <td>0.349367</td>\n",
       "      <td>0.078444</td>\n",
       "      <td>100.689179</td>\n",
       "      <td>43.264208</td>\n",
       "      <td>43.146338</td>\n",
       "      <td>51.079637</td>\n",
       "      <td>92.336219</td>\n",
       "      <td>0.000000</td>\n",
       "      <td>0</td>\n",
       "    </tr>\n",
       "    <tr>\n",
       "      <th>45</th>\n",
       "      <td>0.114283</td>\n",
       "      <td>0.345544</td>\n",
       "      <td>-0.054824</td>\n",
       "      <td>99.385297</td>\n",
       "      <td>43.289898</td>\n",
       "      <td>43.175823</td>\n",
       "      <td>51.386667</td>\n",
       "      <td>93.196135</td>\n",
       "      <td>0.000000</td>\n",
       "      <td>0</td>\n",
       "    </tr>\n",
       "    <tr>\n",
       "      <th>46</th>\n",
       "      <td>0.124795</td>\n",
       "      <td>0.351916</td>\n",
       "      <td>0.052418</td>\n",
       "      <td>98.036806</td>\n",
       "      <td>43.313738</td>\n",
       "      <td>43.202998</td>\n",
       "      <td>51.633110</td>\n",
       "      <td>93.614092</td>\n",
       "      <td>0.000000</td>\n",
       "      <td>0</td>\n",
       "    </tr>\n",
       "    <tr>\n",
       "      <th>47</th>\n",
       "      <td>0.124954</td>\n",
       "      <td>0.349526</td>\n",
       "      <td>-0.013058</td>\n",
       "      <td>96.717037</td>\n",
       "      <td>43.315477</td>\n",
       "      <td>43.218235</td>\n",
       "      <td>51.853205</td>\n",
       "      <td>93.738013</td>\n",
       "      <td>0.000000</td>\n",
       "      <td>0</td>\n",
       "    </tr>\n",
       "    <tr>\n",
       "      <th>48</th>\n",
       "      <td>0.116353</td>\n",
       "      <td>0.350323</td>\n",
       "      <td>-0.035834</td>\n",
       "      <td>95.470850</td>\n",
       "      <td>43.272208</td>\n",
       "      <td>43.186486</td>\n",
       "      <td>52.027508</td>\n",
       "      <td>93.659291</td>\n",
       "      <td>0.066667</td>\n",
       "      <td>0</td>\n",
       "    </tr>\n",
       "    <tr>\n",
       "      <th>49</th>\n",
       "      <td>0.103771</td>\n",
       "      <td>0.341403</td>\n",
       "      <td>-0.009497</td>\n",
       "      <td>94.564827</td>\n",
       "      <td>43.271826</td>\n",
       "      <td>43.183302</td>\n",
       "      <td>52.138127</td>\n",
       "      <td>93.339852</td>\n",
       "      <td>1.000000</td>\n",
       "      <td>0</td>\n",
       "    </tr>\n",
       "    <tr>\n",
       "      <th>50</th>\n",
       "      <td>0.120494</td>\n",
       "      <td>0.350641</td>\n",
       "      <td>0.078494</td>\n",
       "      <td>95.630706</td>\n",
       "      <td>43.292542</td>\n",
       "      <td>43.202105</td>\n",
       "      <td>52.253917</td>\n",
       "      <td>92.951734</td>\n",
       "      <td>1.000000</td>\n",
       "      <td>0</td>\n",
       "    </tr>\n",
       "    <tr>\n",
       "      <th>51</th>\n",
       "      <td>0.121291</td>\n",
       "      <td>0.349686</td>\n",
       "      <td>-0.021241</td>\n",
       "      <td>98.103485</td>\n",
       "      <td>43.312127</td>\n",
       "      <td>43.226325</td>\n",
       "      <td>52.455916</td>\n",
       "      <td>92.783497</td>\n",
       "      <td>1.000000</td>\n",
       "      <td>0</td>\n",
       "    </tr>\n",
       "    <tr>\n",
       "      <th>52</th>\n",
       "      <td>0.129573</td>\n",
       "      <td>0.362905</td>\n",
       "      <td>0.015961</td>\n",
       "      <td>101.028639</td>\n",
       "      <td>43.330933</td>\n",
       "      <td>43.249292</td>\n",
       "      <td>52.716724</td>\n",
       "      <td>93.359909</td>\n",
       "      <td>1.000000</td>\n",
       "      <td>0</td>\n",
       "    </tr>\n",
       "    <tr>\n",
       "      <th>53</th>\n",
       "      <td>0.132121</td>\n",
       "      <td>0.343155</td>\n",
       "      <td>-0.030358</td>\n",
       "      <td>104.048947</td>\n",
       "      <td>43.351564</td>\n",
       "      <td>43.269901</td>\n",
       "      <td>53.026628</td>\n",
       "      <td>94.659050</td>\n",
       "      <td>1.000000</td>\n",
       "      <td>0</td>\n",
       "    </tr>\n",
       "    <tr>\n",
       "      <th>54</th>\n",
       "      <td>0.139925</td>\n",
       "      <td>0.332803</td>\n",
       "      <td>0.046193</td>\n",
       "      <td>107.019350</td>\n",
       "      <td>43.339290</td>\n",
       "      <td>43.272826</td>\n",
       "      <td>53.495780</td>\n",
       "      <td>96.553259</td>\n",
       "      <td>1.000000</td>\n",
       "      <td>0</td>\n",
       "    </tr>\n",
       "    <tr>\n",
       "      <th>55</th>\n",
       "      <td>0.160631</td>\n",
       "      <td>0.345863</td>\n",
       "      <td>0.082621</td>\n",
       "      <td>109.904870</td>\n",
       "      <td>43.352901</td>\n",
       "      <td>43.280562</td>\n",
       "      <td>54.622405</td>\n",
       "      <td>99.173169</td>\n",
       "      <td>1.000000</td>\n",
       "      <td>0</td>\n",
       "    </tr>\n",
       "    <tr>\n",
       "      <th>56</th>\n",
       "      <td>0.156649</td>\n",
       "      <td>0.340289</td>\n",
       "      <td>0.016116</td>\n",
       "      <td>112.678304</td>\n",
       "      <td>43.360768</td>\n",
       "      <td>43.293960</td>\n",
       "      <td>56.185407</td>\n",
       "      <td>101.587994</td>\n",
       "      <td>1.000000</td>\n",
       "      <td>0</td>\n",
       "    </tr>\n",
       "    <tr>\n",
       "      <th>57</th>\n",
       "      <td>0.168754</td>\n",
       "      <td>0.338855</td>\n",
       "      <td>0.031106</td>\n",
       "      <td>115.354782</td>\n",
       "      <td>43.366933</td>\n",
       "      <td>43.305999</td>\n",
       "      <td>57.251949</td>\n",
       "      <td>103.847724</td>\n",
       "      <td>1.000000</td>\n",
       "      <td>0</td>\n",
       "    </tr>\n",
       "    <tr>\n",
       "      <th>58</th>\n",
       "      <td>0.157604</td>\n",
       "      <td>0.328502</td>\n",
       "      <td>-0.025008</td>\n",
       "      <td>117.943437</td>\n",
       "      <td>43.353566</td>\n",
       "      <td>43.297950</td>\n",
       "      <td>57.688603</td>\n",
       "      <td>105.772804</td>\n",
       "      <td>1.000000</td>\n",
       "      <td>0</td>\n",
       "    </tr>\n",
       "    <tr>\n",
       "      <th>59</th>\n",
       "      <td>0.151712</td>\n",
       "      <td>0.338537</td>\n",
       "      <td>-0.003573</td>\n",
       "      <td>120.433615</td>\n",
       "      <td>43.344254</td>\n",
       "      <td>43.295138</td>\n",
       "      <td>58.524752</td>\n",
       "      <td>107.508438</td>\n",
       "      <td>1.000000</td>\n",
       "      <td>0</td>\n",
       "    </tr>\n",
       "    <tr>\n",
       "      <th>60</th>\n",
       "      <td>0.148844</td>\n",
       "      <td>0.342837</td>\n",
       "      <td>-0.003494</td>\n",
       "      <td>122.838947</td>\n",
       "      <td>43.364531</td>\n",
       "      <td>43.309389</td>\n",
       "      <td>59.355556</td>\n",
       "      <td>109.460894</td>\n",
       "      <td>1.000000</td>\n",
       "      <td>0</td>\n",
       "    </tr>\n",
       "    <tr>\n",
       "      <th>61</th>\n",
       "      <td>0.156490</td>\n",
       "      <td>0.343156</td>\n",
       "      <td>0.008468</td>\n",
       "      <td>125.141683</td>\n",
       "      <td>43.418346</td>\n",
       "      <td>43.366196</td>\n",
       "      <td>59.576637</td>\n",
       "      <td>111.630516</td>\n",
       "      <td>0.400000</td>\n",
       "      <td>0</td>\n",
       "    </tr>\n",
       "    <tr>\n",
       "      <th>62</th>\n",
       "      <td>0.159516</td>\n",
       "      <td>0.348889</td>\n",
       "      <td>0.032575</td>\n",
       "      <td>126.326120</td>\n",
       "      <td>43.417766</td>\n",
       "      <td>43.376618</td>\n",
       "      <td>59.529030</td>\n",
       "      <td>113.911633</td>\n",
       "      <td>0.000000</td>\n",
       "      <td>0</td>\n",
       "    </tr>\n",
       "    <tr>\n",
       "      <th>63</th>\n",
       "      <td>0.167639</td>\n",
       "      <td>0.354623</td>\n",
       "      <td>-0.013345</td>\n",
       "      <td>125.611611</td>\n",
       "      <td>43.392037</td>\n",
       "      <td>43.362907</td>\n",
       "      <td>59.687701</td>\n",
       "      <td>116.058385</td>\n",
       "      <td>0.000000</td>\n",
       "      <td>0</td>\n",
       "    </tr>\n",
       "    <tr>\n",
       "      <th>64</th>\n",
       "      <td>0.155375</td>\n",
       "      <td>0.339333</td>\n",
       "      <td>-0.029660</td>\n",
       "      <td>124.219610</td>\n",
       "      <td>43.368284</td>\n",
       "      <td>43.340560</td>\n",
       "      <td>59.801179</td>\n",
       "      <td>117.358326</td>\n",
       "      <td>0.000000</td>\n",
       "      <td>0</td>\n",
       "    </tr>\n",
       "    <tr>\n",
       "      <th>65</th>\n",
       "      <td>0.158242</td>\n",
       "      <td>0.344748</td>\n",
       "      <td>0.012264</td>\n",
       "      <td>122.664262</td>\n",
       "      <td>43.381324</td>\n",
       "      <td>43.352618</td>\n",
       "      <td>59.865365</td>\n",
       "      <td>117.635753</td>\n",
       "      <td>0.000000</td>\n",
       "      <td>0</td>\n",
       "    </tr>\n",
       "    <tr>\n",
       "      <th>66</th>\n",
       "      <td>0.169232</td>\n",
       "      <td>0.341085</td>\n",
       "      <td>0.017456</td>\n",
       "      <td>121.127595</td>\n",
       "      <td>43.382600</td>\n",
       "      <td>43.359910</td>\n",
       "      <td>60.307558</td>\n",
       "      <td>117.296059</td>\n",
       "      <td>0.666667</td>\n",
       "      <td>0</td>\n",
       "    </tr>\n",
       "    <tr>\n",
       "      <th>67</th>\n",
       "      <td>0.157923</td>\n",
       "      <td>0.335192</td>\n",
       "      <td>-0.014857</td>\n",
       "      <td>120.782429</td>\n",
       "      <td>43.400142</td>\n",
       "      <td>43.373092</td>\n",
       "      <td>60.446045</td>\n",
       "      <td>116.779369</td>\n",
       "      <td>1.000000</td>\n",
       "      <td>0</td>\n",
       "    </tr>\n",
       "    <tr>\n",
       "      <th>68</th>\n",
       "      <td>0.149960</td>\n",
       "      <td>0.344270</td>\n",
       "      <td>-0.044188</td>\n",
       "      <td>122.346023</td>\n",
       "      <td>43.406818</td>\n",
       "      <td>43.387757</td>\n",
       "      <td>60.407594</td>\n",
       "      <td>116.554897</td>\n",
       "      <td>1.000000</td>\n",
       "      <td>0</td>\n",
       "    </tr>\n",
       "    <tr>\n",
       "      <th>69</th>\n",
       "      <td>0.160312</td>\n",
       "      <td>0.351756</td>\n",
       "      <td>0.040667</td>\n",
       "      <td>124.613572</td>\n",
       "      <td>43.405809</td>\n",
       "      <td>43.390659</td>\n",
       "      <td>60.537366</td>\n",
       "      <td>116.919420</td>\n",
       "      <td>1.000000</td>\n",
       "      <td>0</td>\n",
       "    </tr>\n",
       "    <tr>\n",
       "      <th>70</th>\n",
       "      <td>0.175284</td>\n",
       "      <td>0.334236</td>\n",
       "      <td>0.033633</td>\n",
       "      <td>127.072208</td>\n",
       "      <td>43.404906</td>\n",
       "      <td>43.393833</td>\n",
       "      <td>61.075119</td>\n",
       "      <td>117.536147</td>\n",
       "      <td>1.000000</td>\n",
       "      <td>0</td>\n",
       "    </tr>\n",
       "    <tr>\n",
       "      <th>71</th>\n",
       "      <td>0.163020</td>\n",
       "      <td>0.353508</td>\n",
       "      <td>-0.041421</td>\n",
       "      <td>129.558507</td>\n",
       "      <td>43.407926</td>\n",
       "      <td>43.399157</td>\n",
       "      <td>61.216435</td>\n",
       "      <td>118.842693</td>\n",
       "      <td>1.000000</td>\n",
       "      <td>0</td>\n",
       "    </tr>\n",
       "    <tr>\n",
       "      <th>72</th>\n",
       "      <td>0.148526</td>\n",
       "      <td>0.346659</td>\n",
       "      <td>0.021052</td>\n",
       "      <td>131.991145</td>\n",
       "      <td>43.396481</td>\n",
       "      <td>43.399145</td>\n",
       "      <td>61.270312</td>\n",
       "      <td>120.462216</td>\n",
       "      <td>1.000000</td>\n",
       "      <td>0</td>\n",
       "    </tr>\n",
       "    <tr>\n",
       "      <th>73</th>\n",
       "      <td>0.159038</td>\n",
       "      <td>0.337422</td>\n",
       "      <td>0.004749</td>\n",
       "      <td>134.354722</td>\n",
       "      <td>43.356695</td>\n",
       "      <td>43.367756</td>\n",
       "      <td>61.621571</td>\n",
       "      <td>122.370236</td>\n",
       "      <td>1.000000</td>\n",
       "      <td>0</td>\n",
       "    </tr>\n",
       "    <tr>\n",
       "      <th>74</th>\n",
       "      <td>0.162701</td>\n",
       "      <td>0.343315</td>\n",
       "      <td>-0.003792</td>\n",
       "      <td>136.653602</td>\n",
       "      <td>43.380005</td>\n",
       "      <td>43.384885</td>\n",
       "      <td>62.280446</td>\n",
       "      <td>124.656051</td>\n",
       "      <td>1.000000</td>\n",
       "      <td>0</td>\n",
       "    </tr>\n",
       "    <tr>\n",
       "      <th>75</th>\n",
       "      <td>0.164612</td>\n",
       "      <td>0.359242</td>\n",
       "      <td>0.072595</td>\n",
       "      <td>138.897807</td>\n",
       "      <td>43.413711</td>\n",
       "      <td>43.417728</td>\n",
       "      <td>62.630208</td>\n",
       "      <td>127.043677</td>\n",
       "      <td>1.000000</td>\n",
       "      <td>0</td>\n",
       "    </tr>\n",
       "    <tr>\n",
       "      <th>76</th>\n",
       "      <td>0.168276</td>\n",
       "      <td>0.344111</td>\n",
       "      <td>-0.019836</td>\n",
       "      <td>141.069925</td>\n",
       "      <td>43.414641</td>\n",
       "      <td>43.433525</td>\n",
       "      <td>63.696203</td>\n",
       "      <td>128.578676</td>\n",
       "      <td>1.000000</td>\n",
       "      <td>0</td>\n",
       "    </tr>\n",
       "    <tr>\n",
       "      <th>77</th>\n",
       "      <td>0.175443</td>\n",
       "      <td>0.347775</td>\n",
       "      <td>-0.003815</td>\n",
       "      <td>143.174897</td>\n",
       "      <td>43.413741</td>\n",
       "      <td>43.439041</td>\n",
       "      <td>66.475903</td>\n",
       "      <td>130.283417</td>\n",
       "      <td>1.000000</td>\n",
       "      <td>0</td>\n",
       "    </tr>\n",
       "    <tr>\n",
       "      <th>78</th>\n",
       "      <td>0.168435</td>\n",
       "      <td>0.343474</td>\n",
       "      <td>-0.083225</td>\n",
       "      <td>145.221981</td>\n",
       "      <td>43.427038</td>\n",
       "      <td>43.455471</td>\n",
       "      <td>65.307534</td>\n",
       "      <td>132.798375</td>\n",
       "      <td>1.000000</td>\n",
       "      <td>0</td>\n",
       "    </tr>\n",
       "    <tr>\n",
       "      <th>79</th>\n",
       "      <td>0.153304</td>\n",
       "      <td>0.339174</td>\n",
       "      <td>0.002526</td>\n",
       "      <td>147.217363</td>\n",
       "      <td>43.418401</td>\n",
       "      <td>43.455069</td>\n",
       "      <td>64.645842</td>\n",
       "      <td>135.114881</td>\n",
       "      <td>1.000000</td>\n",
       "      <td>0</td>\n",
       "    </tr>\n",
       "    <tr>\n",
       "      <th>80</th>\n",
       "      <td>0.163338</td>\n",
       "      <td>0.353827</td>\n",
       "      <td>0.075896</td>\n",
       "      <td>149.173717</td>\n",
       "      <td>43.440759</td>\n",
       "      <td>43.478679</td>\n",
       "      <td>64.799353</td>\n",
       "      <td>137.135449</td>\n",
       "      <td>0.933333</td>\n",
       "      <td>0</td>\n",
       "    </tr>\n",
       "    <tr>\n",
       "      <th>81</th>\n",
       "      <td>0.184681</td>\n",
       "      <td>0.353986</td>\n",
       "      <td>0.037890</td>\n",
       "      <td>150.812939</td>\n",
       "      <td>43.447525</td>\n",
       "      <td>43.493078</td>\n",
       "      <td>65.863014</td>\n",
       "      <td>138.676126</td>\n",
       "      <td>0.000000</td>\n",
       "      <td>0</td>\n",
       "    </tr>\n",
       "    <tr>\n",
       "      <th>82</th>\n",
       "      <td>0.178469</td>\n",
       "      <td>0.354942</td>\n",
       "      <td>-0.020014</td>\n",
       "      <td>150.560484</td>\n",
       "      <td>43.446680</td>\n",
       "      <td>43.496545</td>\n",
       "      <td>66.427531</td>\n",
       "      <td>140.398126</td>\n",
       "      <td>0.000000</td>\n",
       "      <td>0</td>\n",
       "    </tr>\n",
       "    <tr>\n",
       "      <th>83</th>\n",
       "      <td>0.163657</td>\n",
       "      <td>0.348889</td>\n",
       "      <td>-0.065155</td>\n",
       "      <td>149.067797</td>\n",
       "      <td>43.447120</td>\n",
       "      <td>43.505554</td>\n",
       "      <td>66.358999</td>\n",
       "      <td>141.583086</td>\n",
       "      <td>0.000000</td>\n",
       "      <td>0</td>\n",
       "    </tr>\n",
       "    <tr>\n",
       "      <th>84</th>\n",
       "      <td>0.157286</td>\n",
       "      <td>0.349686</td>\n",
       "      <td>-0.025324</td>\n",
       "      <td>147.241447</td>\n",
       "      <td>43.421698</td>\n",
       "      <td>43.499148</td>\n",
       "      <td>66.377455</td>\n",
       "      <td>141.926664</td>\n",
       "      <td>0.000000</td>\n",
       "      <td>0</td>\n",
       "    </tr>\n",
       "    <tr>\n",
       "      <th>85</th>\n",
       "      <td>0.157445</td>\n",
       "      <td>0.346182</td>\n",
       "      <td>-0.008662</td>\n",
       "      <td>145.601031</td>\n",
       "      <td>43.382845</td>\n",
       "      <td>43.462646</td>\n",
       "      <td>66.279238</td>\n",
       "      <td>141.629399</td>\n",
       "      <td>1.000000</td>\n",
       "      <td>0</td>\n",
       "    </tr>\n",
       "    <tr>\n",
       "      <th>86</th>\n",
       "      <td>0.155216</td>\n",
       "      <td>0.346819</td>\n",
       "      <td>0.043534</td>\n",
       "      <td>145.767638</td>\n",
       "      <td>43.416233</td>\n",
       "      <td>43.493905</td>\n",
       "      <td>66.538560</td>\n",
       "      <td>140.933628</td>\n",
       "      <td>1.000000</td>\n",
       "      <td>0</td>\n",
       "    </tr>\n",
       "    <tr>\n",
       "      <th>87</th>\n",
       "      <td>0.176399</td>\n",
       "      <td>0.344748</td>\n",
       "      <td>0.045651</td>\n",
       "      <td>147.359125</td>\n",
       "      <td>43.452510</td>\n",
       "      <td>43.527426</td>\n",
       "      <td>67.628874</td>\n",
       "      <td>140.696392</td>\n",
       "      <td>1.000000</td>\n",
       "      <td>0</td>\n",
       "    </tr>\n",
       "    <tr>\n",
       "      <th>88</th>\n",
       "      <td>0.166524</td>\n",
       "      <td>0.355260</td>\n",
       "      <td>-0.050753</td>\n",
       "      <td>149.384263</td>\n",
       "      <td>43.459464</td>\n",
       "      <td>43.544814</td>\n",
       "      <td>67.456715</td>\n",
       "      <td>141.337493</td>\n",
       "      <td>1.000000</td>\n",
       "      <td>0</td>\n",
       "    </tr>\n",
       "    <tr>\n",
       "      <th>89</th>\n",
       "      <td>0.145978</td>\n",
       "      <td>0.352075</td>\n",
       "      <td>-0.016221</td>\n",
       "      <td>151.495396</td>\n",
       "      <td>43.456299</td>\n",
       "      <td>43.552733</td>\n",
       "      <td>67.738353</td>\n",
       "      <td>142.046251</td>\n",
       "      <td>1.000000</td>\n",
       "      <td>0</td>\n",
       "    </tr>\n",
       "    <tr>\n",
       "      <th>90</th>\n",
       "      <td>0.165887</td>\n",
       "      <td>0.347456</td>\n",
       "      <td>-0.019397</td>\n",
       "      <td>153.606914</td>\n",
       "      <td>43.443324</td>\n",
       "      <td>43.547334</td>\n",
       "      <td>68.088346</td>\n",
       "      <td>143.214521</td>\n",
       "      <td>1.000000</td>\n",
       "      <td>0</td>\n",
       "    </tr>\n",
       "    <tr>\n",
       "      <th>91</th>\n",
       "      <td>0.152508</td>\n",
       "      <td>0.341563</td>\n",
       "      <td>0.021825</td>\n",
       "      <td>155.678302</td>\n",
       "      <td>43.450360</td>\n",
       "      <td>43.561280</td>\n",
       "      <td>68.363309</td>\n",
       "      <td>144.708241</td>\n",
       "      <td>1.000000</td>\n",
       "      <td>0</td>\n",
       "    </tr>\n",
       "    <tr>\n",
       "      <th>92</th>\n",
       "      <td>0.173213</td>\n",
       "      <td>0.344430</td>\n",
       "      <td>0.047500</td>\n",
       "      <td>158.213757</td>\n",
       "      <td>43.458604</td>\n",
       "      <td>43.578315</td>\n",
       "      <td>69.265508</td>\n",
       "      <td>146.120495</td>\n",
       "      <td>1.000000</td>\n",
       "      <td>0</td>\n",
       "    </tr>\n",
       "    <tr>\n",
       "      <th>93</th>\n",
       "      <td>0.169072</td>\n",
       "      <td>0.357171</td>\n",
       "      <td>0.025530</td>\n",
       "      <td>163.384041</td>\n",
       "      <td>43.473200</td>\n",
       "      <td>43.604122</td>\n",
       "      <td>69.592949</td>\n",
       "      <td>148.458731</td>\n",
       "      <td>1.000000</td>\n",
       "      <td>0</td>\n",
       "    </tr>\n",
       "    <tr>\n",
       "      <th>94</th>\n",
       "      <td>0.148845</td>\n",
       "      <td>0.333758</td>\n",
       "      <td>-0.031434</td>\n",
       "      <td>170.493390</td>\n",
       "      <td>43.463818</td>\n",
       "      <td>43.609770</td>\n",
       "      <td>69.896165</td>\n",
       "      <td>152.049778</td>\n",
       "      <td>1.000000</td>\n",
       "      <td>0</td>\n",
       "    </tr>\n",
       "    <tr>\n",
       "      <th>95</th>\n",
       "      <td>0.165409</td>\n",
       "      <td>0.341881</td>\n",
       "      <td>-0.010034</td>\n",
       "      <td>177.607567</td>\n",
       "      <td>43.443596</td>\n",
       "      <td>43.597434</td>\n",
       "      <td>70.528487</td>\n",
       "      <td>156.353747</td>\n",
       "      <td>0.066667</td>\n",
       "      <td>0</td>\n",
       "    </tr>\n",
       "    <tr>\n",
       "      <th>96</th>\n",
       "      <td>0.168754</td>\n",
       "      <td>0.350960</td>\n",
       "      <td>0.025022</td>\n",
       "      <td>180.099990</td>\n",
       "      <td>43.461612</td>\n",
       "      <td>43.612385</td>\n",
       "      <td>71.166698</td>\n",
       "      <td>160.536054</td>\n",
       "      <td>0.000000</td>\n",
       "      <td>0</td>\n",
       "    </tr>\n",
       "    <tr>\n",
       "      <th>97</th>\n",
       "      <td>0.160631</td>\n",
       "      <td>0.348570</td>\n",
       "      <td>-0.040584</td>\n",
       "      <td>178.836185</td>\n",
       "      <td>43.481614</td>\n",
       "      <td>43.631900</td>\n",
       "      <td>71.021827</td>\n",
       "      <td>164.087764</td>\n",
       "      <td>0.000000</td>\n",
       "      <td>0</td>\n",
       "    </tr>\n",
       "    <tr>\n",
       "      <th>98</th>\n",
       "      <td>0.161268</td>\n",
       "      <td>0.361312</td>\n",
       "      <td>-0.005872</td>\n",
       "      <td>176.520006</td>\n",
       "      <td>43.456320</td>\n",
       "      <td>43.611749</td>\n",
       "      <td>70.551258</td>\n",
       "      <td>166.036110</td>\n",
       "      <td>0.000000</td>\n",
       "      <td>0</td>\n",
       "    </tr>\n",
       "    <tr>\n",
       "      <th>99</th>\n",
       "      <td>0.155853</td>\n",
       "      <td>0.343633</td>\n",
       "      <td>-0.000251</td>\n",
       "      <td>174.021776</td>\n",
       "      <td>43.449545</td>\n",
       "      <td>43.607858</td>\n",
       "      <td>70.138816</td>\n",
       "      <td>166.616073</td>\n",
       "      <td>0.000000</td>\n",
       "      <td>0</td>\n",
       "    </tr>\n",
       "    <tr>\n",
       "      <th>100</th>\n",
       "      <td>0.167798</td>\n",
       "      <td>0.347137</td>\n",
       "      <td>0.000334</td>\n",
       "      <td>171.561736</td>\n",
       "      <td>43.475540</td>\n",
       "      <td>43.624917</td>\n",
       "      <td>70.178897</td>\n",
       "      <td>165.885348</td>\n",
       "      <td>0.133333</td>\n",
       "      <td>0</td>\n",
       "    </tr>\n",
       "    <tr>\n",
       "      <th>101</th>\n",
       "      <td>0.155056</td>\n",
       "      <td>0.338059</td>\n",
       "      <td>0.000298</td>\n",
       "      <td>169.993635</td>\n",
       "      <td>43.468435</td>\n",
       "      <td>43.621181</td>\n",
       "      <td>69.708965</td>\n",
       "      <td>165.085500</td>\n",
       "      <td>1.000000</td>\n",
       "      <td>0</td>\n",
       "    </tr>\n",
       "    <tr>\n",
       "      <th>102</th>\n",
       "      <td>0.214783</td>\n",
       "      <td>0.311142</td>\n",
       "      <td>0.150318</td>\n",
       "      <td>173.485092</td>\n",
       "      <td>43.453838</td>\n",
       "      <td>43.610143</td>\n",
       "      <td>72.420235</td>\n",
       "      <td>164.025098</td>\n",
       "      <td>1.000000</td>\n",
       "      <td>0</td>\n",
       "    </tr>\n",
       "    <tr>\n",
       "      <th>103</th>\n",
       "      <td>0.210482</td>\n",
       "      <td>0.367205</td>\n",
       "      <td>-0.104330</td>\n",
       "      <td>180.077515</td>\n",
       "      <td>43.422572</td>\n",
       "      <td>43.582897</td>\n",
       "      <td>73.774147</td>\n",
       "      <td>165.621929</td>\n",
       "      <td>1.000000</td>\n",
       "      <td>0</td>\n",
       "    </tr>\n",
       "    <tr>\n",
       "      <th>104</th>\n",
       "      <td>0.183407</td>\n",
       "      <td>0.303975</td>\n",
       "      <td>-0.005036</td>\n",
       "      <td>187.480605</td>\n",
       "      <td>43.418983</td>\n",
       "      <td>43.580620</td>\n",
       "      <td>71.188522</td>\n",
       "      <td>169.047381</td>\n",
       "      <td>1.000000</td>\n",
       "      <td>0</td>\n",
       "    </tr>\n",
       "    <tr>\n",
       "      <th>105</th>\n",
       "      <td>0.168117</td>\n",
       "      <td>0.321335</td>\n",
       "      <td>0.033907</td>\n",
       "      <td>194.894510</td>\n",
       "      <td>43.423255</td>\n",
       "      <td>43.584585</td>\n",
       "      <td>70.040511</td>\n",
       "      <td>173.764758</td>\n",
       "      <td>1.000000</td>\n",
       "      <td>0</td>\n",
       "    </tr>\n",
       "    <tr>\n",
       "      <th>106</th>\n",
       "      <td>0.157127</td>\n",
       "      <td>0.342996</td>\n",
       "      <td>-0.055917</td>\n",
       "      <td>201.822119</td>\n",
       "      <td>43.456224</td>\n",
       "      <td>43.623763</td>\n",
       "      <td>69.821602</td>\n",
       "      <td>179.254235</td>\n",
       "      <td>0.200000</td>\n",
       "      <td>0</td>\n",
       "    </tr>\n",
       "    <tr>\n",
       "      <th>107</th>\n",
       "      <td>0.162223</td>\n",
       "      <td>0.345385</td>\n",
       "      <td>0.014276</td>\n",
       "      <td>204.394321</td>\n",
       "      <td>43.472953</td>\n",
       "      <td>43.653924</td>\n",
       "      <td>70.716036</td>\n",
       "      <td>184.196005</td>\n",
       "      <td>0.000000</td>\n",
       "      <td>0</td>\n",
       "    </tr>\n",
       "    <tr>\n",
       "      <th>108</th>\n",
       "      <td>0.174169</td>\n",
       "      <td>0.332803</td>\n",
       "      <td>0.012955</td>\n",
       "      <td>202.743646</td>\n",
       "      <td>43.467302</td>\n",
       "      <td>43.670712</td>\n",
       "      <td>71.955051</td>\n",
       "      <td>187.794896</td>\n",
       "      <td>0.000000</td>\n",
       "      <td>0</td>\n",
       "    </tr>\n",
       "    <tr>\n",
       "      <th>109</th>\n",
       "      <td>0.175761</td>\n",
       "      <td>0.345545</td>\n",
       "      <td>0.047791</td>\n",
       "      <td>199.945550</td>\n",
       "      <td>43.455913</td>\n",
       "      <td>43.674635</td>\n",
       "      <td>74.618151</td>\n",
       "      <td>189.379718</td>\n",
       "      <td>0.000000</td>\n",
       "      <td>0</td>\n",
       "    </tr>\n",
       "    <tr>\n",
       "      <th>110</th>\n",
       "      <td>0.184840</td>\n",
       "      <td>0.364339</td>\n",
       "      <td>-0.018430</td>\n",
       "      <td>196.961128</td>\n",
       "      <td>43.465680</td>\n",
       "      <td>43.684801</td>\n",
       "      <td>73.928467</td>\n",
       "      <td>189.427675</td>\n",
       "      <td>0.000000</td>\n",
       "      <td>0</td>\n",
       "    </tr>\n",
       "    <tr>\n",
       "      <th>111</th>\n",
       "      <td>0.153941</td>\n",
       "      <td>0.352075</td>\n",
       "      <td>0.013753</td>\n",
       "      <td>194.208409</td>\n",
       "      <td>43.486817</td>\n",
       "      <td>43.713450</td>\n",
       "      <td>73.382152</td>\n",
       "      <td>188.414558</td>\n",
       "      <td>0.733333</td>\n",
       "      <td>0</td>\n",
       "    </tr>\n",
       "    <tr>\n",
       "      <th>112</th>\n",
       "      <td>0.192963</td>\n",
       "      <td>0.338696</td>\n",
       "      <td>0.041064</td>\n",
       "      <td>195.251181</td>\n",
       "      <td>43.458543</td>\n",
       "      <td>43.700729</td>\n",
       "      <td>73.335148</td>\n",
       "      <td>187.036359</td>\n",
       "      <td>1.000000</td>\n",
       "      <td>0</td>\n",
       "    </tr>\n",
       "    <tr>\n",
       "      <th>113</th>\n",
       "      <td>0.167479</td>\n",
       "      <td>0.326273</td>\n",
       "      <td>-0.071976</td>\n",
       "      <td>200.807992</td>\n",
       "      <td>43.443933</td>\n",
       "      <td>43.685521</td>\n",
       "      <td>73.216631</td>\n",
       "      <td>187.552004</td>\n",
       "      <td>1.000000</td>\n",
       "      <td>0</td>\n",
       "    </tr>\n",
       "    <tr>\n",
       "      <th>114</th>\n",
       "      <td>0.189140</td>\n",
       "      <td>0.324999</td>\n",
       "      <td>0.004367</td>\n",
       "      <td>207.625400</td>\n",
       "      <td>43.473992</td>\n",
       "      <td>43.708590</td>\n",
       "      <td>73.048051</td>\n",
       "      <td>190.153821</td>\n",
       "      <td>1.000000</td>\n",
       "      <td>0</td>\n",
       "    </tr>\n",
       "    <tr>\n",
       "      <th>115</th>\n",
       "      <td>0.190255</td>\n",
       "      <td>0.337740</td>\n",
       "      <td>0.027100</td>\n",
       "      <td>214.654903</td>\n",
       "      <td>43.470408</td>\n",
       "      <td>43.711327</td>\n",
       "      <td>72.949049</td>\n",
       "      <td>194.248782</td>\n",
       "      <td>1.000000</td>\n",
       "      <td>0</td>\n",
       "    </tr>\n",
       "    <tr>\n",
       "      <th>116</th>\n",
       "      <td>0.207934</td>\n",
       "      <td>0.326432</td>\n",
       "      <td>0.048352</td>\n",
       "      <td>221.547100</td>\n",
       "      <td>43.478454</td>\n",
       "      <td>43.726651</td>\n",
       "      <td>72.910895</td>\n",
       "      <td>199.274385</td>\n",
       "      <td>1.000000</td>\n",
       "      <td>0</td>\n",
       "    </tr>\n",
       "    <tr>\n",
       "      <th>117</th>\n",
       "      <td>0.193441</td>\n",
       "      <td>0.356853</td>\n",
       "      <td>-0.004625</td>\n",
       "      <td>228.156474</td>\n",
       "      <td>43.486839</td>\n",
       "      <td>43.745135</td>\n",
       "      <td>73.510651</td>\n",
       "      <td>204.200063</td>\n",
       "      <td>1.000000</td>\n",
       "      <td>0</td>\n",
       "    </tr>\n",
       "    <tr>\n",
       "      <th>118</th>\n",
       "      <td>0.132440</td>\n",
       "      <td>0.340926</td>\n",
       "      <td>-0.051642</td>\n",
       "      <td>234.525258</td>\n",
       "      <td>43.497324</td>\n",
       "      <td>43.754613</td>\n",
       "      <td>73.873329</td>\n",
       "      <td>210.397527</td>\n",
       "      <td>1.000000</td>\n",
       "      <td>0</td>\n",
       "    </tr>\n",
       "    <tr>\n",
       "      <th>119</th>\n",
       "      <td>0.191689</td>\n",
       "      <td>0.345544</td>\n",
       "      <td>0.154192</td>\n",
       "      <td>240.705308</td>\n",
       "      <td>43.500247</td>\n",
       "      <td>43.769574</td>\n",
       "      <td>73.810532</td>\n",
       "      <td>216.650002</td>\n",
       "      <td>1.000000</td>\n",
       "      <td>0</td>\n",
       "    </tr>\n",
       "    <tr>\n",
       "      <th>120</th>\n",
       "      <td>0.197741</td>\n",
       "      <td>0.345863</td>\n",
       "      <td>-0.182952</td>\n",
       "      <td>246.639900</td>\n",
       "      <td>43.493902</td>\n",
       "      <td>43.789505</td>\n",
       "      <td>74.113111</td>\n",
       "      <td>222.667944</td>\n",
       "      <td>1.000000</td>\n",
       "      <td>0</td>\n",
       "    </tr>\n",
       "    <tr>\n",
       "      <th>121</th>\n",
       "      <td>0.166365</td>\n",
       "      <td>0.350641</td>\n",
       "      <td>0.072117</td>\n",
       "      <td>251.796557</td>\n",
       "      <td>43.458345</td>\n",
       "      <td>43.778434</td>\n",
       "      <td>74.759213</td>\n",
       "      <td>228.581177</td>\n",
       "      <td>0.066667</td>\n",
       "      <td>0</td>\n",
       "    </tr>\n",
       "    <tr>\n",
       "      <th>122</th>\n",
       "      <td>0.185477</td>\n",
       "      <td>0.338059</td>\n",
       "      <td>0.039708</td>\n",
       "      <td>251.807109</td>\n",
       "      <td>43.442535</td>\n",
       "      <td>43.768501</td>\n",
       "      <td>75.486701</td>\n",
       "      <td>233.213348</td>\n",
       "      <td>0.000000</td>\n",
       "      <td>0</td>\n",
       "    </tr>\n",
       "    <tr>\n",
       "      <th>123</th>\n",
       "      <td>0.199652</td>\n",
       "      <td>0.364657</td>\n",
       "      <td>0.054565</td>\n",
       "      <td>248.360257</td>\n",
       "      <td>43.436040</td>\n",
       "      <td>43.772154</td>\n",
       "      <td>76.338894</td>\n",
       "      <td>235.132098</td>\n",
       "      <td>0.000000</td>\n",
       "      <td>0</td>\n",
       "    </tr>\n",
       "    <tr>\n",
       "      <th>124</th>\n",
       "      <td>0.193600</td>\n",
       "      <td>0.349845</td>\n",
       "      <td>-0.092360</td>\n",
       "      <td>244.242335</td>\n",
       "      <td>43.444934</td>\n",
       "      <td>43.777785</td>\n",
       "      <td>76.307698</td>\n",
       "      <td>234.906524</td>\n",
       "      <td>0.133333</td>\n",
       "      <td>0</td>\n",
       "    </tr>\n",
       "    <tr>\n",
       "      <th>125</th>\n",
       "      <td>0.208094</td>\n",
       "      <td>0.345226</td>\n",
       "      <td>0.047179</td>\n",
       "      <td>241.117669</td>\n",
       "      <td>43.458408</td>\n",
       "      <td>43.775579</td>\n",
       "      <td>76.146931</td>\n",
       "      <td>233.189929</td>\n",
       "      <td>1.000000</td>\n",
       "      <td>0</td>\n",
       "    </tr>\n",
       "    <tr>\n",
       "      <th>126</th>\n",
       "      <td>0.122406</td>\n",
       "      <td>0.394441</td>\n",
       "      <td>-0.011795</td>\n",
       "      <td>243.478886</td>\n",
       "      <td>43.460670</td>\n",
       "      <td>43.784338</td>\n",
       "      <td>76.079069</td>\n",
       "      <td>231.636379</td>\n",
       "      <td>1.000000</td>\n",
       "      <td>0</td>\n",
       "    </tr>\n",
       "    <tr>\n",
       "      <th>127</th>\n",
       "      <td>0.264794</td>\n",
       "      <td>0.313690</td>\n",
       "      <td>0.114819</td>\n",
       "      <td>248.860989</td>\n",
       "      <td>43.460711</td>\n",
       "      <td>43.778981</td>\n",
       "      <td>76.109626</td>\n",
       "      <td>232.343263</td>\n",
       "      <td>1.000000</td>\n",
       "      <td>0</td>\n",
       "    </tr>\n",
       "    <tr>\n",
       "      <th>128</th>\n",
       "      <td>0.170983</td>\n",
       "      <td>0.356534</td>\n",
       "      <td>-0.095169</td>\n",
       "      <td>254.873080</td>\n",
       "      <td>43.475899</td>\n",
       "      <td>43.790668</td>\n",
       "      <td>75.880341</td>\n",
       "      <td>235.324162</td>\n",
       "      <td>1.000000</td>\n",
       "      <td>0</td>\n",
       "    </tr>\n",
       "    <tr>\n",
       "      <th>129</th>\n",
       "      <td>0.175602</td>\n",
       "      <td>0.346341</td>\n",
       "      <td>-0.033139</td>\n",
       "      <td>260.859322</td>\n",
       "      <td>43.454974</td>\n",
       "      <td>43.772453</td>\n",
       "      <td>76.068137</td>\n",
       "      <td>238.980245</td>\n",
       "      <td>1.000000</td>\n",
       "      <td>0</td>\n",
       "    </tr>\n",
       "    <tr>\n",
       "      <th>130</th>\n",
       "      <td>0.179743</td>\n",
       "      <td>0.336785</td>\n",
       "      <td>0.080344</td>\n",
       "      <td>266.767080</td>\n",
       "      <td>43.458840</td>\n",
       "      <td>43.770916</td>\n",
       "      <td>76.212346</td>\n",
       "      <td>244.002103</td>\n",
       "      <td>1.000000</td>\n",
       "      <td>0</td>\n",
       "    </tr>\n",
       "    <tr>\n",
       "      <th>131</th>\n",
       "      <td>0.166046</td>\n",
       "      <td>0.372621</td>\n",
       "      <td>-0.010540</td>\n",
       "      <td>272.394969</td>\n",
       "      <td>43.485204</td>\n",
       "      <td>43.800833</td>\n",
       "      <td>76.145609</td>\n",
       "      <td>249.255933</td>\n",
       "      <td>1.000000</td>\n",
       "      <td>0</td>\n",
       "    </tr>\n",
       "    <tr>\n",
       "      <th>132</th>\n",
       "      <td>0.226091</td>\n",
       "      <td>0.342359</td>\n",
       "      <td>-0.034229</td>\n",
       "      <td>277.847880</td>\n",
       "      <td>43.473997</td>\n",
       "      <td>43.798017</td>\n",
       "      <td>76.323579</td>\n",
       "      <td>254.495372</td>\n",
       "      <td>1.000000</td>\n",
       "      <td>0</td>\n",
       "    </tr>\n",
       "    <tr>\n",
       "      <th>133</th>\n",
       "      <td>0.196307</td>\n",
       "      <td>0.387592</td>\n",
       "      <td>-0.077158</td>\n",
       "      <td>283.141854</td>\n",
       "      <td>43.484972</td>\n",
       "      <td>43.815380</td>\n",
       "      <td>76.915186</td>\n",
       "      <td>259.696100</td>\n",
       "      <td>1.000000</td>\n",
       "      <td>0</td>\n",
       "    </tr>\n",
       "    <tr>\n",
       "      <th>134</th>\n",
       "      <td>0.205864</td>\n",
       "      <td>0.387592</td>\n",
       "      <td>-0.018511</td>\n",
       "      <td>288.278774</td>\n",
       "      <td>43.477323</td>\n",
       "      <td>43.823647</td>\n",
       "      <td>77.136753</td>\n",
       "      <td>264.631950</td>\n",
       "      <td>1.000000</td>\n",
       "      <td>0</td>\n",
       "    </tr>\n",
       "    <tr>\n",
       "      <th>135</th>\n",
       "      <td>0.195193</td>\n",
       "      <td>0.370869</td>\n",
       "      <td>0.045260</td>\n",
       "      <td>293.187443</td>\n",
       "      <td>43.479841</td>\n",
       "      <td>43.835590</td>\n",
       "      <td>77.484223</td>\n",
       "      <td>269.592643</td>\n",
       "      <td>1.000000</td>\n",
       "      <td>0</td>\n",
       "    </tr>\n",
       "    <tr>\n",
       "      <th>136</th>\n",
       "      <td>0.193918</td>\n",
       "      <td>0.338696</td>\n",
       "      <td>0.067035</td>\n",
       "      <td>298.006677</td>\n",
       "      <td>43.482965</td>\n",
       "      <td>43.845341</td>\n",
       "      <td>77.910045</td>\n",
       "      <td>274.404191</td>\n",
       "      <td>0.933333</td>\n",
       "      <td>0</td>\n",
       "    </tr>\n",
       "    <tr>\n",
       "      <th>137</th>\n",
       "      <td>0.192166</td>\n",
       "      <td>0.337263</td>\n",
       "      <td>-0.090982</td>\n",
       "      <td>301.658327</td>\n",
       "      <td>43.472386</td>\n",
       "      <td>43.853373</td>\n",
       "      <td>78.488492</td>\n",
       "      <td>278.986959</td>\n",
       "      <td>0.000000</td>\n",
       "      <td>0</td>\n",
       "    </tr>\n",
       "    <tr>\n",
       "      <th>138</th>\n",
       "      <td>0.201563</td>\n",
       "      <td>0.338696</td>\n",
       "      <td>0.028661</td>\n",
       "      <td>299.582544</td>\n",
       "      <td>43.485831</td>\n",
       "      <td>43.873038</td>\n",
       "      <td>79.095173</td>\n",
       "      <td>281.985933</td>\n",
       "      <td>0.000000</td>\n",
       "      <td>0</td>\n",
       "    </tr>\n",
       "    <tr>\n",
       "      <th>139</th>\n",
       "      <td>0.202678</td>\n",
       "      <td>0.342041</td>\n",
       "      <td>0.057142</td>\n",
       "      <td>294.919548</td>\n",
       "      <td>43.502807</td>\n",
       "      <td>43.901455</td>\n",
       "      <td>79.708650</td>\n",
       "      <td>281.798446</td>\n",
       "      <td>0.200000</td>\n",
       "      <td>0</td>\n",
       "    </tr>\n",
       "    <tr>\n",
       "      <th>140</th>\n",
       "      <td>0.177513</td>\n",
       "      <td>0.374373</td>\n",
       "      <td>0.024655</td>\n",
       "      <td>291.473574</td>\n",
       "      <td>43.493895</td>\n",
       "      <td>43.902765</td>\n",
       "      <td>80.230484</td>\n",
       "      <td>279.454167</td>\n",
       "      <td>1.000000</td>\n",
       "      <td>0</td>\n",
       "    </tr>\n",
       "    <tr>\n",
       "      <th>141</th>\n",
       "      <td>0.142952</td>\n",
       "      <td>0.385999</td>\n",
       "      <td>-0.064388</td>\n",
       "      <td>293.874467</td>\n",
       "      <td>43.509571</td>\n",
       "      <td>43.923041</td>\n",
       "      <td>80.646815</td>\n",
       "      <td>277.949390</td>\n",
       "      <td>1.000000</td>\n",
       "      <td>0</td>\n",
       "    </tr>\n",
       "    <tr>\n",
       "      <th>142</th>\n",
       "      <td>0.181336</td>\n",
       "      <td>0.356694</td>\n",
       "      <td>-0.059776</td>\n",
       "      <td>298.614099</td>\n",
       "      <td>43.521915</td>\n",
       "      <td>43.945010</td>\n",
       "      <td>80.910848</td>\n",
       "      <td>279.063049</td>\n",
       "      <td>1.000000</td>\n",
       "      <td>0</td>\n",
       "    </tr>\n",
       "    <tr>\n",
       "      <th>143</th>\n",
       "      <td>0.208572</td>\n",
       "      <td>0.343633</td>\n",
       "      <td>-0.056805</td>\n",
       "      <td>303.777228</td>\n",
       "      <td>43.524190</td>\n",
       "      <td>43.958694</td>\n",
       "      <td>81.129850</td>\n",
       "      <td>282.090293</td>\n",
       "      <td>1.000000</td>\n",
       "      <td>0</td>\n",
       "    </tr>\n",
       "    <tr>\n",
       "      <th>144</th>\n",
       "      <td>0.221472</td>\n",
       "      <td>0.323724</td>\n",
       "      <td>0.031774</td>\n",
       "      <td>308.926394</td>\n",
       "      <td>43.515341</td>\n",
       "      <td>43.958554</td>\n",
       "      <td>81.581373</td>\n",
       "      <td>286.085728</td>\n",
       "      <td>1.000000</td>\n",
       "      <td>0</td>\n",
       "    </tr>\n",
       "    <tr>\n",
       "      <th>145</th>\n",
       "      <td>0.201722</td>\n",
       "      <td>0.329140</td>\n",
       "      <td>0.125017</td>\n",
       "      <td>313.904545</td>\n",
       "      <td>43.506148</td>\n",
       "      <td>43.959960</td>\n",
       "      <td>82.166476</td>\n",
       "      <td>290.481366</td>\n",
       "      <td>1.000000</td>\n",
       "      <td>0</td>\n",
       "    </tr>\n",
       "    <tr>\n",
       "      <th>146</th>\n",
       "      <td>0.188662</td>\n",
       "      <td>0.373895</td>\n",
       "      <td>-0.052080</td>\n",
       "      <td>318.715837</td>\n",
       "      <td>43.513588</td>\n",
       "      <td>43.972702</td>\n",
       "      <td>82.538005</td>\n",
       "      <td>294.845009</td>\n",
       "      <td>1.000000</td>\n",
       "      <td>0</td>\n",
       "    </tr>\n",
       "    <tr>\n",
       "      <th>147</th>\n",
       "      <td>0.198537</td>\n",
       "      <td>0.340129</td>\n",
       "      <td>0.067027</td>\n",
       "      <td>323.372367</td>\n",
       "      <td>43.497385</td>\n",
       "      <td>43.966545</td>\n",
       "      <td>82.972327</td>\n",
       "      <td>299.380750</td>\n",
       "      <td>1.000000</td>\n",
       "      <td>0</td>\n",
       "    </tr>\n",
       "    <tr>\n",
       "      <th>148</th>\n",
       "      <td>0.243611</td>\n",
       "      <td>0.352712</td>\n",
       "      <td>-0.030578</td>\n",
       "      <td>327.854830</td>\n",
       "      <td>43.505762</td>\n",
       "      <td>43.980871</td>\n",
       "      <td>83.368407</td>\n",
       "      <td>303.795461</td>\n",
       "      <td>1.000000</td>\n",
       "      <td>0</td>\n",
       "    </tr>\n",
       "    <tr>\n",
       "      <th>149</th>\n",
       "      <td>0.213509</td>\n",
       "      <td>0.340767</td>\n",
       "      <td>-0.008415</td>\n",
       "      <td>332.206569</td>\n",
       "      <td>43.504884</td>\n",
       "      <td>43.992644</td>\n",
       "      <td>83.704713</td>\n",
       "      <td>308.078888</td>\n",
       "      <td>1.000000</td>\n",
       "      <td>0</td>\n",
       "    </tr>\n",
       "    <tr>\n",
       "      <th>150</th>\n",
       "      <td>0.206023</td>\n",
       "      <td>0.350960</td>\n",
       "      <td>0.011719</td>\n",
       "      <td>336.432196</td>\n",
       "      <td>43.501010</td>\n",
       "      <td>44.000100</td>\n",
       "      <td>83.987811</td>\n",
       "      <td>312.226064</td>\n",
       "      <td>1.000000</td>\n",
       "      <td>0</td>\n",
       "    </tr>\n",
       "    <tr>\n",
       "      <th>151</th>\n",
       "      <td>0.171620</td>\n",
       "      <td>0.399378</td>\n",
       "      <td>0.036531</td>\n",
       "      <td>340.525834</td>\n",
       "      <td>43.492539</td>\n",
       "      <td>43.998978</td>\n",
       "      <td>84.375369</td>\n",
       "      <td>316.240617</td>\n",
       "      <td>1.000000</td>\n",
       "      <td>0</td>\n",
       "    </tr>\n",
       "    <tr>\n",
       "      <th>152</th>\n",
       "      <td>0.208412</td>\n",
       "      <td>0.356534</td>\n",
       "      <td>-0.096723</td>\n",
       "      <td>344.515686</td>\n",
       "      <td>43.509337</td>\n",
       "      <td>44.023578</td>\n",
       "      <td>84.837548</td>\n",
       "      <td>320.134045</td>\n",
       "      <td>1.000000</td>\n",
       "      <td>0</td>\n",
       "    </tr>\n",
       "    <tr>\n",
       "      <th>153</th>\n",
       "      <td>0.182929</td>\n",
       "      <td>0.334077</td>\n",
       "      <td>0.105469</td>\n",
       "      <td>348.407902</td>\n",
       "      <td>43.502571</td>\n",
       "      <td>44.031579</td>\n",
       "      <td>85.261956</td>\n",
       "      <td>323.949725</td>\n",
       "      <td>0.933333</td>\n",
       "      <td>0</td>\n",
       "    </tr>\n",
       "    <tr>\n",
       "      <th>154</th>\n",
       "      <td>0.231666</td>\n",
       "      <td>0.347615</td>\n",
       "      <td>0.027216</td>\n",
       "      <td>351.020467</td>\n",
       "      <td>43.503628</td>\n",
       "      <td>44.035659</td>\n",
       "      <td>85.545079</td>\n",
       "      <td>327.611285</td>\n",
       "      <td>0.000000</td>\n",
       "      <td>0</td>\n",
       "    </tr>\n",
       "    <tr>\n",
       "      <th>155</th>\n",
       "      <td>0.204908</td>\n",
       "      <td>0.341085</td>\n",
       "      <td>-0.094075</td>\n",
       "      <td>347.738458</td>\n",
       "      <td>43.522434</td>\n",
       "      <td>44.068159</td>\n",
       "      <td>85.801762</td>\n",
       "      <td>329.354899</td>\n",
       "      <td>0.000000</td>\n",
       "      <td>0</td>\n",
       "    </tr>\n",
       "    <tr>\n",
       "      <th>156</th>\n",
       "      <td>0.250460</td>\n",
       "      <td>0.344907</td>\n",
       "      <td>0.100763</td>\n",
       "      <td>342.158319</td>\n",
       "      <td>43.508802</td>\n",
       "      <td>44.078533</td>\n",
       "      <td>86.007156</td>\n",
       "      <td>327.686684</td>\n",
       "      <td>0.133333</td>\n",
       "      <td>0</td>\n",
       "    </tr>\n",
       "    <tr>\n",
       "      <th>157</th>\n",
       "      <td>0.258423</td>\n",
       "      <td>0.330892</td>\n",
       "      <td>-0.058822</td>\n",
       "      <td>337.682397</td>\n",
       "      <td>43.518412</td>\n",
       "      <td>44.092438</td>\n",
       "      <td>86.102589</td>\n",
       "      <td>324.187374</td>\n",
       "      <td>1.000000</td>\n",
       "      <td>0</td>\n",
       "    </tr>\n",
       "    <tr>\n",
       "      <th>158</th>\n",
       "      <td>0.205864</td>\n",
       "      <td>0.370869</td>\n",
       "      <td>0.051182</td>\n",
       "      <td>339.285966</td>\n",
       "      <td>43.528067</td>\n",
       "      <td>44.105030</td>\n",
       "      <td>86.194566</td>\n",
       "      <td>321.672699</td>\n",
       "      <td>1.000000</td>\n",
       "      <td>0</td>\n",
       "    </tr>\n",
       "    <tr>\n",
       "      <th>159</th>\n",
       "      <td>0.232940</td>\n",
       "      <td>0.325795</td>\n",
       "      <td>-0.099952</td>\n",
       "      <td>343.493972</td>\n",
       "      <td>43.532073</td>\n",
       "      <td>44.117634</td>\n",
       "      <td>86.392710</td>\n",
       "      <td>322.310461</td>\n",
       "      <td>1.000000</td>\n",
       "      <td>0</td>\n",
       "    </tr>\n",
       "    <tr>\n",
       "      <th>160</th>\n",
       "      <td>0.262883</td>\n",
       "      <td>0.318628</td>\n",
       "      <td>0.124141</td>\n",
       "      <td>348.075201</td>\n",
       "      <td>43.524346</td>\n",
       "      <td>44.119842</td>\n",
       "      <td>86.501777</td>\n",
       "      <td>325.229653</td>\n",
       "      <td>1.000000</td>\n",
       "      <td>0</td>\n",
       "    </tr>\n",
       "    <tr>\n",
       "      <th>161</th>\n",
       "      <td>0.201882</td>\n",
       "      <td>0.356216</td>\n",
       "      <td>0.015676</td>\n",
       "      <td>352.629336</td>\n",
       "      <td>43.519584</td>\n",
       "      <td>44.122666</td>\n",
       "      <td>86.436530</td>\n",
       "      <td>328.996397</td>\n",
       "      <td>1.000000</td>\n",
       "      <td>0</td>\n",
       "    </tr>\n",
       "    <tr>\n",
       "      <th>162</th>\n",
       "      <td>0.204749</td>\n",
       "      <td>0.378991</td>\n",
       "      <td>-0.044575</td>\n",
       "      <td>357.041878</td>\n",
       "      <td>43.519316</td>\n",
       "      <td>44.132342</td>\n",
       "      <td>86.343957</td>\n",
       "      <td>333.012311</td>\n",
       "      <td>1.000000</td>\n",
       "      <td>0</td>\n",
       "    </tr>\n",
       "    <tr>\n",
       "      <th>163</th>\n",
       "      <td>0.194555</td>\n",
       "      <td>0.350482</td>\n",
       "      <td>-0.009638</td>\n",
       "      <td>361.263192</td>\n",
       "      <td>43.529386</td>\n",
       "      <td>44.135804</td>\n",
       "      <td>86.400397</td>\n",
       "      <td>337.018833</td>\n",
       "      <td>1.000000</td>\n",
       "      <td>0</td>\n",
       "    </tr>\n",
       "    <tr>\n",
       "      <th>164</th>\n",
       "      <td>0.228799</td>\n",
       "      <td>0.381221</td>\n",
       "      <td>0.015305</td>\n",
       "      <td>365.316431</td>\n",
       "      <td>43.527965</td>\n",
       "      <td>44.150931</td>\n",
       "      <td>86.489729</td>\n",
       "      <td>340.953910</td>\n",
       "      <td>1.000000</td>\n",
       "      <td>0</td>\n",
       "    </tr>\n",
       "    <tr>\n",
       "      <th>165</th>\n",
       "      <td>0.207297</td>\n",
       "      <td>0.360994</td>\n",
       "      <td>-0.153842</td>\n",
       "      <td>369.203524</td>\n",
       "      <td>43.532393</td>\n",
       "      <td>44.159348</td>\n",
       "      <td>86.581164</td>\n",
       "      <td>344.758459</td>\n",
       "      <td>1.000000</td>\n",
       "      <td>0</td>\n",
       "    </tr>\n",
       "    <tr>\n",
       "      <th>166</th>\n",
       "      <td>0.184840</td>\n",
       "      <td>0.364498</td>\n",
       "      <td>0.054316</td>\n",
       "      <td>372.992601</td>\n",
       "      <td>43.536665</td>\n",
       "      <td>44.171910</td>\n",
       "      <td>86.680518</td>\n",
       "      <td>348.448197</td>\n",
       "      <td>1.000000</td>\n",
       "      <td>0</td>\n",
       "    </tr>\n",
       "    <tr>\n",
       "      <th>167</th>\n",
       "      <td>0.259857</td>\n",
       "      <td>0.304930</td>\n",
       "      <td>-0.001417</td>\n",
       "      <td>376.630393</td>\n",
       "      <td>43.533500</td>\n",
       "      <td>44.177569</td>\n",
       "      <td>86.741649</td>\n",
       "      <td>352.018125</td>\n",
       "      <td>1.000000</td>\n",
       "      <td>0</td>\n",
       "    </tr>\n",
       "    <tr>\n",
       "      <th>168</th>\n",
       "      <td>0.236444</td>\n",
       "      <td>0.331847</td>\n",
       "      <td>0.138524</td>\n",
       "      <td>380.144210</td>\n",
       "      <td>43.522572</td>\n",
       "      <td>44.176059</td>\n",
       "      <td>86.956646</td>\n",
       "      <td>355.447398</td>\n",
       "      <td>1.000000</td>\n",
       "      <td>0</td>\n",
       "    </tr>\n",
       "    <tr>\n",
       "      <th>169</th>\n",
       "      <td>0.260812</td>\n",
       "      <td>0.363383</td>\n",
       "      <td>-0.049894</td>\n",
       "      <td>383.563896</td>\n",
       "      <td>43.540664</td>\n",
       "      <td>44.197083</td>\n",
       "      <td>87.214669</td>\n",
       "      <td>358.788755</td>\n",
       "      <td>1.000000</td>\n",
       "      <td>0</td>\n",
       "    </tr>\n",
       "    <tr>\n",
       "      <th>170</th>\n",
       "      <td>0.201245</td>\n",
       "      <td>0.386159</td>\n",
       "      <td>-0.030015</td>\n",
       "      <td>386.889099</td>\n",
       "      <td>43.533582</td>\n",
       "      <td>44.209644</td>\n",
       "      <td>87.451113</td>\n",
       "      <td>362.057424</td>\n",
       "      <td>1.000000</td>\n",
       "      <td>0</td>\n",
       "    </tr>\n",
       "    <tr>\n",
       "      <th>171</th>\n",
       "      <td>0.298400</td>\n",
       "      <td>0.357808</td>\n",
       "      <td>0.091868</td>\n",
       "      <td>390.119637</td>\n",
       "      <td>43.531700</td>\n",
       "      <td>44.213090</td>\n",
       "      <td>87.644066</td>\n",
       "      <td>365.225922</td>\n",
       "      <td>1.000000</td>\n",
       "      <td>0</td>\n",
       "    </tr>\n",
       "    <tr>\n",
       "      <th>172</th>\n",
       "      <td>0.187548</td>\n",
       "      <td>0.339014</td>\n",
       "      <td>-0.051268</td>\n",
       "      <td>393.252631</td>\n",
       "      <td>43.542667</td>\n",
       "      <td>44.223296</td>\n",
       "      <td>87.878176</td>\n",
       "      <td>368.309908</td>\n",
       "      <td>1.000000</td>\n",
       "      <td>0</td>\n",
       "    </tr>\n",
       "    <tr>\n",
       "      <th>173</th>\n",
       "      <td>0.276421</td>\n",
       "      <td>0.374850</td>\n",
       "      <td>0.086693</td>\n",
       "      <td>396.288991</td>\n",
       "      <td>43.545287</td>\n",
       "      <td>44.233910</td>\n",
       "      <td>88.194025</td>\n",
       "      <td>371.315769</td>\n",
       "      <td>1.000000</td>\n",
       "      <td>0</td>\n",
       "    </tr>\n",
       "    <tr>\n",
       "      <th>174</th>\n",
       "      <td>0.260494</td>\n",
       "      <td>0.331210</td>\n",
       "      <td>-0.037565</td>\n",
       "      <td>399.217244</td>\n",
       "      <td>43.546490</td>\n",
       "      <td>44.251788</td>\n",
       "      <td>88.526655</td>\n",
       "      <td>374.224367</td>\n",
       "      <td>0.800000</td>\n",
       "      <td>0</td>\n",
       "    </tr>\n",
       "    <tr>\n",
       "      <th>175</th>\n",
       "      <td>0.260812</td>\n",
       "      <td>0.339174</td>\n",
       "      <td>0.020609</td>\n",
       "      <td>400.174251</td>\n",
       "      <td>43.529333</td>\n",
       "      <td>44.244701</td>\n",
       "      <td>88.868236</td>\n",
       "      <td>376.898600</td>\n",
       "      <td>0.000000</td>\n",
       "      <td>0</td>\n",
       "    </tr>\n",
       "    <tr>\n",
       "      <th>176</th>\n",
       "      <td>0.251256</td>\n",
       "      <td>0.309231</td>\n",
       "      <td>-0.037092</td>\n",
       "      <td>395.351217</td>\n",
       "      <td>43.546451</td>\n",
       "      <td>44.274754</td>\n",
       "      <td>89.217405</td>\n",
       "      <td>376.897968</td>\n",
       "      <td>0.600000</td>\n",
       "      <td>0</td>\n",
       "    </tr>\n",
       "    <tr>\n",
       "      <th>177</th>\n",
       "      <td>0.260016</td>\n",
       "      <td>0.317194</td>\n",
       "      <td>0.025294</td>\n",
       "      <td>393.064449</td>\n",
       "      <td>43.561464</td>\n",
       "      <td>44.291022</td>\n",
       "      <td>89.474049</td>\n",
       "      <td>374.160972</td>\n",
       "      <td>1.000000</td>\n",
       "      <td>0</td>\n",
       "    </tr>\n",
       "    <tr>\n",
       "      <th>178</th>\n",
       "      <td>0.265113</td>\n",
       "      <td>0.343952</td>\n",
       "      <td>0.001590</td>\n",
       "      <td>395.495795</td>\n",
       "      <td>43.546318</td>\n",
       "      <td>44.292672</td>\n",
       "      <td>89.716430</td>\n",
       "      <td>373.398916</td>\n",
       "      <td>1.000000</td>\n",
       "      <td>0</td>\n",
       "    </tr>\n",
       "    <tr>\n",
       "      <th>179</th>\n",
       "      <td>0.265272</td>\n",
       "      <td>0.324839</td>\n",
       "      <td>-0.057443</td>\n",
       "      <td>398.802214</td>\n",
       "      <td>43.544161</td>\n",
       "      <td>44.291809</td>\n",
       "      <td>90.032633</td>\n",
       "      <td>375.084532</td>\n",
       "      <td>1.000000</td>\n",
       "      <td>0</td>\n",
       "    </tr>\n",
       "    <tr>\n",
       "      <th>180</th>\n",
       "      <td>0.245522</td>\n",
       "      <td>0.331688</td>\n",
       "      <td>0.113939</td>\n",
       "      <td>402.156934</td>\n",
       "      <td>43.552065</td>\n",
       "      <td>44.317504</td>\n",
       "      <td>90.272766</td>\n",
       "      <td>377.805548</td>\n",
       "      <td>1.000000</td>\n",
       "      <td>0</td>\n",
       "    </tr>\n",
       "    <tr>\n",
       "      <th>181</th>\n",
       "      <td>0.260016</td>\n",
       "      <td>0.317831</td>\n",
       "      <td>-0.143992</td>\n",
       "      <td>405.404759</td>\n",
       "      <td>43.565748</td>\n",
       "      <td>44.334100</td>\n",
       "      <td>90.505496</td>\n",
       "      <td>380.807558</td>\n",
       "      <td>1.000000</td>\n",
       "      <td>0</td>\n",
       "    </tr>\n",
       "    <tr>\n",
       "      <th>182</th>\n",
       "      <td>0.221791</td>\n",
       "      <td>0.341404</td>\n",
       "      <td>0.104761</td>\n",
       "      <td>408.520140</td>\n",
       "      <td>43.568943</td>\n",
       "      <td>44.344280</td>\n",
       "      <td>90.730657</td>\n",
       "      <td>383.819224</td>\n",
       "      <td>1.000000</td>\n",
       "      <td>0</td>\n",
       "    </tr>\n",
       "    <tr>\n",
       "      <th>183</th>\n",
       "      <td>0.277536</td>\n",
       "      <td>0.338218</td>\n",
       "      <td>-0.038889</td>\n",
       "      <td>411.504301</td>\n",
       "      <td>43.569159</td>\n",
       "      <td>44.359717</td>\n",
       "      <td>90.958699</td>\n",
       "      <td>386.743972</td>\n",
       "      <td>1.000000</td>\n",
       "      <td>0</td>\n",
       "    </tr>\n",
       "    <tr>\n",
       "      <th>184</th>\n",
       "      <td>0.273554</td>\n",
       "      <td>0.361153</td>\n",
       "      <td>0.036831</td>\n",
       "      <td>414.345827</td>\n",
       "      <td>43.558819</td>\n",
       "      <td>44.353551</td>\n",
       "      <td>91.179806</td>\n",
       "      <td>389.568858</td>\n",
       "      <td>1.000000</td>\n",
       "      <td>0</td>\n",
       "    </tr>\n",
       "    <tr>\n",
       "      <th>185</th>\n",
       "      <td>0.261449</td>\n",
       "      <td>0.348412</td>\n",
       "      <td>0.085991</td>\n",
       "      <td>417.071568</td>\n",
       "      <td>43.578945</td>\n",
       "      <td>44.377255</td>\n",
       "      <td>91.431382</td>\n",
       "      <td>392.280501</td>\n",
       "      <td>1.000000</td>\n",
       "      <td>0</td>\n",
       "    </tr>\n",
       "    <tr>\n",
       "      <th>186</th>\n",
       "      <td>0.274510</td>\n",
       "      <td>0.347137</td>\n",
       "      <td>-0.062417</td>\n",
       "      <td>419.678691</td>\n",
       "      <td>43.576527</td>\n",
       "      <td>44.379834</td>\n",
       "      <td>91.755541</td>\n",
       "      <td>394.890120</td>\n",
       "      <td>1.000000</td>\n",
       "      <td>0</td>\n",
       "    </tr>\n",
       "    <tr>\n",
       "      <th>187</th>\n",
       "      <td>0.240107</td>\n",
       "      <td>0.384407</td>\n",
       "      <td>-0.008110</td>\n",
       "      <td>422.207800</td>\n",
       "      <td>43.561554</td>\n",
       "      <td>44.380599</td>\n",
       "      <td>92.088190</td>\n",
       "      <td>397.422847</td>\n",
       "      <td>1.000000</td>\n",
       "      <td>0</td>\n",
       "    </tr>\n",
       "    <tr>\n",
       "      <th>188</th>\n",
       "      <td>0.263042</td>\n",
       "      <td>0.327388</td>\n",
       "      <td>-0.067878</td>\n",
       "      <td>424.642383</td>\n",
       "      <td>43.553362</td>\n",
       "      <td>44.382851</td>\n",
       "      <td>92.306982</td>\n",
       "      <td>399.863230</td>\n",
       "      <td>1.000000</td>\n",
       "      <td>0</td>\n",
       "    </tr>\n",
       "    <tr>\n",
       "      <th>189</th>\n",
       "      <td>0.265750</td>\n",
       "      <td>0.334396</td>\n",
       "      <td>-0.056160</td>\n",
       "      <td>427.021547</td>\n",
       "      <td>43.556947</td>\n",
       "      <td>44.387071</td>\n",
       "      <td>92.530460</td>\n",
       "      <td>402.241189</td>\n",
       "      <td>1.000000</td>\n",
       "      <td>0</td>\n",
       "    </tr>\n",
       "    <tr>\n",
       "      <th>190</th>\n",
       "      <td>0.261927</td>\n",
       "      <td>0.383451</td>\n",
       "      <td>0.129133</td>\n",
       "      <td>429.322843</td>\n",
       "      <td>43.572990</td>\n",
       "      <td>44.410708</td>\n",
       "      <td>92.797000</td>\n",
       "      <td>404.550924</td>\n",
       "      <td>1.000000</td>\n",
       "      <td>0</td>\n",
       "    </tr>\n",
       "    <tr>\n",
       "      <th>191</th>\n",
       "      <td>0.310824</td>\n",
       "      <td>0.334077</td>\n",
       "      <td>0.050335</td>\n",
       "      <td>431.567238</td>\n",
       "      <td>43.577996</td>\n",
       "      <td>44.420824</td>\n",
       "      <td>93.121994</td>\n",
       "      <td>406.799357</td>\n",
       "      <td>1.000000</td>\n",
       "      <td>0</td>\n",
       "    </tr>\n",
       "    <tr>\n",
       "      <th>192</th>\n",
       "      <td>0.278651</td>\n",
       "      <td>0.369276</td>\n",
       "      <td>-0.099516</td>\n",
       "      <td>433.773686</td>\n",
       "      <td>43.558777</td>\n",
       "      <td>44.415919</td>\n",
       "      <td>93.543185</td>\n",
       "      <td>408.994708</td>\n",
       "      <td>1.000000</td>\n",
       "      <td>0</td>\n",
       "    </tr>\n",
       "    <tr>\n",
       "      <th>193</th>\n",
       "      <td>0.314805</td>\n",
       "      <td>0.309071</td>\n",
       "      <td>0.000736</td>\n",
       "      <td>435.905493</td>\n",
       "      <td>43.562603</td>\n",
       "      <td>44.427972</td>\n",
       "      <td>93.882780</td>\n",
       "      <td>411.125623</td>\n",
       "      <td>1.000000</td>\n",
       "      <td>0</td>\n",
       "    </tr>\n",
       "    <tr>\n",
       "      <th>194</th>\n",
       "      <td>0.231666</td>\n",
       "      <td>0.424702</td>\n",
       "      <td>0.054638</td>\n",
       "      <td>438.005019</td>\n",
       "      <td>43.564687</td>\n",
       "      <td>44.433279</td>\n",
       "      <td>94.209586</td>\n",
       "      <td>413.223024</td>\n",
       "      <td>1.000000</td>\n",
       "      <td>0</td>\n",
       "    </tr>\n",
       "    <tr>\n",
       "      <th>195</th>\n",
       "      <td>0.276580</td>\n",
       "      <td>0.344908</td>\n",
       "      <td>-0.081131</td>\n",
       "      <td>440.056370</td>\n",
       "      <td>43.582710</td>\n",
       "      <td>44.461845</td>\n",
       "      <td>94.590839</td>\n",
       "      <td>415.260887</td>\n",
       "      <td>1.000000</td>\n",
       "      <td>0</td>\n",
       "    </tr>\n",
       "    <tr>\n",
       "      <th>196</th>\n",
       "      <td>0.281199</td>\n",
       "      <td>0.348730</td>\n",
       "      <td>0.082003</td>\n",
       "      <td>442.046318</td>\n",
       "      <td>43.586840</td>\n",
       "      <td>44.473778</td>\n",
       "      <td>94.992389</td>\n",
       "      <td>417.261705</td>\n",
       "      <td>1.000000</td>\n",
       "      <td>0</td>\n",
       "    </tr>\n",
       "    <tr>\n",
       "      <th>197</th>\n",
       "      <td>0.267183</td>\n",
       "      <td>0.344270</td>\n",
       "      <td>-0.086514</td>\n",
       "      <td>444.001530</td>\n",
       "      <td>43.586188</td>\n",
       "      <td>44.486409</td>\n",
       "      <td>95.367889</td>\n",
       "      <td>419.220605</td>\n",
       "      <td>1.000000</td>\n",
       "      <td>0</td>\n",
       "    </tr>\n",
       "    <tr>\n",
       "      <th>198</th>\n",
       "      <td>0.248708</td>\n",
       "      <td>0.362905</td>\n",
       "      <td>0.060371</td>\n",
       "      <td>445.903208</td>\n",
       "      <td>43.571635</td>\n",
       "      <td>44.484785</td>\n",
       "      <td>95.596442</td>\n",
       "      <td>421.119580</td>\n",
       "      <td>1.000000</td>\n",
       "      <td>0</td>\n",
       "    </tr>\n",
       "    <tr>\n",
       "      <th>199</th>\n",
       "      <td>0.267342</td>\n",
       "      <td>0.281836</td>\n",
       "      <td>-0.069973</td>\n",
       "      <td>447.789528</td>\n",
       "      <td>43.590835</td>\n",
       "      <td>44.506120</td>\n",
       "      <td>95.777043</td>\n",
       "      <td>422.990696</td>\n",
       "      <td>1.000000</td>\n",
       "      <td>0</td>\n",
       "    </tr>\n",
       "    <tr>\n",
       "      <th>200</th>\n",
       "      <td>0.252530</td>\n",
       "      <td>0.361472</td>\n",
       "      <td>0.014892</td>\n",
       "      <td>449.621702</td>\n",
       "      <td>43.595415</td>\n",
       "      <td>44.530628</td>\n",
       "      <td>96.086056</td>\n",
       "      <td>424.821478</td>\n",
       "      <td>0.666667</td>\n",
       "      <td>0</td>\n",
       "    </tr>\n",
       "    <tr>\n",
       "      <th>201</th>\n",
       "      <td>0.248230</td>\n",
       "      <td>0.367683</td>\n",
       "      <td>0.218367</td>\n",
       "      <td>450.469727</td>\n",
       "      <td>43.585762</td>\n",
       "      <td>44.515205</td>\n",
       "      <td>96.191505</td>\n",
       "      <td>425.832458</td>\n",
       "      <td>0.000000</td>\n",
       "      <td>0</td>\n",
       "    </tr>\n",
       "  </tbody>\n",
       "</table>\n",
       "</div>"
      ],
      "text/plain": [
       "     Chamber Pressure [Bar]  N2 Pressure [Bar]  Leakage Rate [Bar/Min]  \\\n",
       "l                                                                        \n",
       "0                  0.043248           0.347934                0.100568   \n",
       "1                  0.049141           0.348730                0.002460   \n",
       "2                  0.038629           0.346978               -0.014162   \n",
       "3                  0.036558           0.335988               -0.007143   \n",
       "4                  0.063157           0.349367                0.082024   \n",
       "5                  0.056786           0.347774               -0.038460   \n",
       "6                  0.065546           0.348571                0.021759   \n",
       "7                  0.055512           0.335033               -0.024424   \n",
       "8                  0.061086           0.346978                0.040428   \n",
       "9                  0.059494           0.344111               -0.002621   \n",
       "10                 0.059175           0.342518               -0.004503   \n",
       "11                 0.063316           0.341563               -0.004993   \n",
       "12                 0.058697           0.347934                0.008187   \n",
       "13                 0.061405           0.348093                0.001461   \n",
       "14                 0.056149           0.346819               -0.043977   \n",
       "15                 0.067776           0.349686                0.073900   \n",
       "16                 0.065386           0.336307               -0.020602   \n",
       "17                 0.065068           0.333599               -0.022939   \n",
       "18                 0.050574           0.339651                0.006764   \n",
       "19                 0.060927           0.334396                0.010106   \n",
       "20                 0.055512           0.334555               -0.006669   \n",
       "21                 0.084977           0.342200                0.057154   \n",
       "22                 0.075421           0.348889                0.036987   \n",
       "23                 0.081154           0.357968                0.001287   \n",
       "24                 0.087207           0.343156               -0.005150   \n",
       "25                 0.087525           0.349845                0.015021   \n",
       "26                 0.089914           0.353668                0.030625   \n",
       "27                 0.096604           0.348412               -0.030111   \n",
       "28                 0.090392           0.346819               -0.016101   \n",
       "29                 0.090392           0.348889                0.006242   \n",
       "30                 0.083066           0.339492               -0.032221   \n",
       "31                 0.085614           0.333281               -0.017890   \n",
       "32                 0.085932           0.346182                0.034698   \n",
       "33                 0.088162           0.346819               -0.011241   \n",
       "34                 0.097559           0.344111                0.035985   \n",
       "35                 0.090551           0.339811               -0.007668   \n",
       "36                 0.091826           0.334714               -0.026028   \n",
       "37                 0.098515           0.343952                0.060163   \n",
       "38                 0.113964           0.343792                0.018110   \n",
       "39                 0.104249           0.348093               -0.016996   \n",
       "40                 0.093259           0.332325                0.003539   \n",
       "41                 0.124158           0.343156                0.099718   \n",
       "42                 0.118902           0.341404               -0.038382   \n",
       "43                 0.111097           0.338218               -0.040460   \n",
       "44                 0.125591           0.349367                0.078444   \n",
       "45                 0.114283           0.345544               -0.054824   \n",
       "46                 0.124795           0.351916                0.052418   \n",
       "47                 0.124954           0.349526               -0.013058   \n",
       "48                 0.116353           0.350323               -0.035834   \n",
       "49                 0.103771           0.341403               -0.009497   \n",
       "50                 0.120494           0.350641                0.078494   \n",
       "51                 0.121291           0.349686               -0.021241   \n",
       "52                 0.129573           0.362905                0.015961   \n",
       "53                 0.132121           0.343155               -0.030358   \n",
       "54                 0.139925           0.332803                0.046193   \n",
       "55                 0.160631           0.345863                0.082621   \n",
       "56                 0.156649           0.340289                0.016116   \n",
       "57                 0.168754           0.338855                0.031106   \n",
       "58                 0.157604           0.328502               -0.025008   \n",
       "59                 0.151712           0.338537               -0.003573   \n",
       "60                 0.148844           0.342837               -0.003494   \n",
       "61                 0.156490           0.343156                0.008468   \n",
       "62                 0.159516           0.348889                0.032575   \n",
       "63                 0.167639           0.354623               -0.013345   \n",
       "64                 0.155375           0.339333               -0.029660   \n",
       "65                 0.158242           0.344748                0.012264   \n",
       "66                 0.169232           0.341085                0.017456   \n",
       "67                 0.157923           0.335192               -0.014857   \n",
       "68                 0.149960           0.344270               -0.044188   \n",
       "69                 0.160312           0.351756                0.040667   \n",
       "70                 0.175284           0.334236                0.033633   \n",
       "71                 0.163020           0.353508               -0.041421   \n",
       "72                 0.148526           0.346659                0.021052   \n",
       "73                 0.159038           0.337422                0.004749   \n",
       "74                 0.162701           0.343315               -0.003792   \n",
       "75                 0.164612           0.359242                0.072595   \n",
       "76                 0.168276           0.344111               -0.019836   \n",
       "77                 0.175443           0.347775               -0.003815   \n",
       "78                 0.168435           0.343474               -0.083225   \n",
       "79                 0.153304           0.339174                0.002526   \n",
       "80                 0.163338           0.353827                0.075896   \n",
       "81                 0.184681           0.353986                0.037890   \n",
       "82                 0.178469           0.354942               -0.020014   \n",
       "83                 0.163657           0.348889               -0.065155   \n",
       "84                 0.157286           0.349686               -0.025324   \n",
       "85                 0.157445           0.346182               -0.008662   \n",
       "86                 0.155216           0.346819                0.043534   \n",
       "87                 0.176399           0.344748                0.045651   \n",
       "88                 0.166524           0.355260               -0.050753   \n",
       "89                 0.145978           0.352075               -0.016221   \n",
       "90                 0.165887           0.347456               -0.019397   \n",
       "91                 0.152508           0.341563                0.021825   \n",
       "92                 0.173213           0.344430                0.047500   \n",
       "93                 0.169072           0.357171                0.025530   \n",
       "94                 0.148845           0.333758               -0.031434   \n",
       "95                 0.165409           0.341881               -0.010034   \n",
       "96                 0.168754           0.350960                0.025022   \n",
       "97                 0.160631           0.348570               -0.040584   \n",
       "98                 0.161268           0.361312               -0.005872   \n",
       "99                 0.155853           0.343633               -0.000251   \n",
       "100                0.167798           0.347137                0.000334   \n",
       "101                0.155056           0.338059                0.000298   \n",
       "102                0.214783           0.311142                0.150318   \n",
       "103                0.210482           0.367205               -0.104330   \n",
       "104                0.183407           0.303975               -0.005036   \n",
       "105                0.168117           0.321335                0.033907   \n",
       "106                0.157127           0.342996               -0.055917   \n",
       "107                0.162223           0.345385                0.014276   \n",
       "108                0.174169           0.332803                0.012955   \n",
       "109                0.175761           0.345545                0.047791   \n",
       "110                0.184840           0.364339               -0.018430   \n",
       "111                0.153941           0.352075                0.013753   \n",
       "112                0.192963           0.338696                0.041064   \n",
       "113                0.167479           0.326273               -0.071976   \n",
       "114                0.189140           0.324999                0.004367   \n",
       "115                0.190255           0.337740                0.027100   \n",
       "116                0.207934           0.326432                0.048352   \n",
       "117                0.193441           0.356853               -0.004625   \n",
       "118                0.132440           0.340926               -0.051642   \n",
       "119                0.191689           0.345544                0.154192   \n",
       "120                0.197741           0.345863               -0.182952   \n",
       "121                0.166365           0.350641                0.072117   \n",
       "122                0.185477           0.338059                0.039708   \n",
       "123                0.199652           0.364657                0.054565   \n",
       "124                0.193600           0.349845               -0.092360   \n",
       "125                0.208094           0.345226                0.047179   \n",
       "126                0.122406           0.394441               -0.011795   \n",
       "127                0.264794           0.313690                0.114819   \n",
       "128                0.170983           0.356534               -0.095169   \n",
       "129                0.175602           0.346341               -0.033139   \n",
       "130                0.179743           0.336785                0.080344   \n",
       "131                0.166046           0.372621               -0.010540   \n",
       "132                0.226091           0.342359               -0.034229   \n",
       "133                0.196307           0.387592               -0.077158   \n",
       "134                0.205864           0.387592               -0.018511   \n",
       "135                0.195193           0.370869                0.045260   \n",
       "136                0.193918           0.338696                0.067035   \n",
       "137                0.192166           0.337263               -0.090982   \n",
       "138                0.201563           0.338696                0.028661   \n",
       "139                0.202678           0.342041                0.057142   \n",
       "140                0.177513           0.374373                0.024655   \n",
       "141                0.142952           0.385999               -0.064388   \n",
       "142                0.181336           0.356694               -0.059776   \n",
       "143                0.208572           0.343633               -0.056805   \n",
       "144                0.221472           0.323724                0.031774   \n",
       "145                0.201722           0.329140                0.125017   \n",
       "146                0.188662           0.373895               -0.052080   \n",
       "147                0.198537           0.340129                0.067027   \n",
       "148                0.243611           0.352712               -0.030578   \n",
       "149                0.213509           0.340767               -0.008415   \n",
       "150                0.206023           0.350960                0.011719   \n",
       "151                0.171620           0.399378                0.036531   \n",
       "152                0.208412           0.356534               -0.096723   \n",
       "153                0.182929           0.334077                0.105469   \n",
       "154                0.231666           0.347615                0.027216   \n",
       "155                0.204908           0.341085               -0.094075   \n",
       "156                0.250460           0.344907                0.100763   \n",
       "157                0.258423           0.330892               -0.058822   \n",
       "158                0.205864           0.370869                0.051182   \n",
       "159                0.232940           0.325795               -0.099952   \n",
       "160                0.262883           0.318628                0.124141   \n",
       "161                0.201882           0.356216                0.015676   \n",
       "162                0.204749           0.378991               -0.044575   \n",
       "163                0.194555           0.350482               -0.009638   \n",
       "164                0.228799           0.381221                0.015305   \n",
       "165                0.207297           0.360994               -0.153842   \n",
       "166                0.184840           0.364498                0.054316   \n",
       "167                0.259857           0.304930               -0.001417   \n",
       "168                0.236444           0.331847                0.138524   \n",
       "169                0.260812           0.363383               -0.049894   \n",
       "170                0.201245           0.386159               -0.030015   \n",
       "171                0.298400           0.357808                0.091868   \n",
       "172                0.187548           0.339014               -0.051268   \n",
       "173                0.276421           0.374850                0.086693   \n",
       "174                0.260494           0.331210               -0.037565   \n",
       "175                0.260812           0.339174                0.020609   \n",
       "176                0.251256           0.309231               -0.037092   \n",
       "177                0.260016           0.317194                0.025294   \n",
       "178                0.265113           0.343952                0.001590   \n",
       "179                0.265272           0.324839               -0.057443   \n",
       "180                0.245522           0.331688                0.113939   \n",
       "181                0.260016           0.317831               -0.143992   \n",
       "182                0.221791           0.341404                0.104761   \n",
       "183                0.277536           0.338218               -0.038889   \n",
       "184                0.273554           0.361153                0.036831   \n",
       "185                0.261449           0.348412                0.085991   \n",
       "186                0.274510           0.347137               -0.062417   \n",
       "187                0.240107           0.384407               -0.008110   \n",
       "188                0.263042           0.327388               -0.067878   \n",
       "189                0.265750           0.334396               -0.056160   \n",
       "190                0.261927           0.383451                0.129133   \n",
       "191                0.310824           0.334077                0.050335   \n",
       "192                0.278651           0.369276               -0.099516   \n",
       "193                0.314805           0.309071                0.000736   \n",
       "194                0.231666           0.424702                0.054638   \n",
       "195                0.276580           0.344908               -0.081131   \n",
       "196                0.281199           0.348730                0.082003   \n",
       "197                0.267183           0.344270               -0.086514   \n",
       "198                0.248708           0.362905                0.060371   \n",
       "199                0.267342           0.281836               -0.069973   \n",
       "200                0.252530           0.361472                0.014892   \n",
       "201                0.248230           0.367683                0.218367   \n",
       "\n",
       "     Wall Temp [C]  Coolant In Temp  Coolant Out Temp  Injector Temp [C]  \\\n",
       "l                                                                          \n",
       "0        37.936659        38.835231         38.477473          34.006500   \n",
       "1        42.162821        39.226843         38.845642          34.431367   \n",
       "2        46.283655        39.501847         39.137519          34.913596   \n",
       "3        50.232508        39.840294         39.468429          35.448884   \n",
       "4        53.072575        40.250171         39.852651          36.032654   \n",
       "5        53.734189        40.494688         40.141093          36.618184   \n",
       "6        53.388396        40.777607         40.416936          37.156950   \n",
       "7        52.694966        41.144920         40.771470          37.646578   \n",
       "8        51.897353        41.432753         41.058295          38.114055   \n",
       "9        51.097364        41.796857         41.424609          38.558899   \n",
       "10       50.330918        42.093583         41.724319          38.992154   \n",
       "11       49.619587        42.381057         42.013734          39.395999   \n",
       "12       48.967376        42.621511         42.269157          39.763661   \n",
       "13       48.371493        42.768632         42.437711          40.106118   \n",
       "14       47.827052        42.786469         42.491705          40.407499   \n",
       "15       47.388705        42.830010         42.540968          40.654002   \n",
       "16       48.403775        42.863016         42.586313          40.854136   \n",
       "17       51.316319        42.886511         42.617215          41.047315   \n",
       "18       54.954148        42.933727         42.674160          41.263494   \n",
       "19       58.769374        42.969890         42.708984          41.539640   \n",
       "20       62.612107        43.000606         42.749920          41.874916   \n",
       "21       66.345259        43.012814         42.772815          42.273395   \n",
       "22       69.947645        43.053773         42.810770          42.720423   \n",
       "23       73.444287        43.100417         42.865875          43.220305   \n",
       "24       76.585937        43.084883         42.861251          43.763422   \n",
       "25       77.781414        43.087274         42.873785          44.327226   \n",
       "26       77.397739        43.098951         42.890406          44.833100   \n",
       "27       76.481363        43.162264         42.953433          45.250770   \n",
       "28       75.404091        43.155773         42.960760          45.588595   \n",
       "29       74.323731        43.172142         42.978835          45.840526   \n",
       "30       73.285147        43.180572         42.994890          46.033339   \n",
       "31       72.317884        43.159088         42.987104          46.179060   \n",
       "32       72.284706        43.174544         43.000291          46.293900   \n",
       "33       74.380472        43.179739         43.008868          46.441022   \n",
       "34       77.424790        43.193402         43.028892          46.673729   \n",
       "35       80.774471        43.191902         43.032334          46.995346   \n",
       "36       84.120427        43.204565         43.045766          47.375615   \n",
       "37       87.429313        43.204346         43.055930          47.793403   \n",
       "38       90.616915        43.187832         43.044564          48.233926   \n",
       "39       93.713128        43.225824         43.077323          48.688880   \n",
       "40       96.710239        43.248858         43.111305          49.173328   \n",
       "41       99.597475        43.207417         43.085415          49.683022   \n",
       "42      101.697600        43.225548         43.099919          50.192063   \n",
       "43      101.698491        43.239153         43.120653          50.676599   \n",
       "44      100.689179        43.264208         43.146338          51.079637   \n",
       "45       99.385297        43.289898         43.175823          51.386667   \n",
       "46       98.036806        43.313738         43.202998          51.633110   \n",
       "47       96.717037        43.315477         43.218235          51.853205   \n",
       "48       95.470850        43.272208         43.186486          52.027508   \n",
       "49       94.564827        43.271826         43.183302          52.138127   \n",
       "50       95.630706        43.292542         43.202105          52.253917   \n",
       "51       98.103485        43.312127         43.226325          52.455916   \n",
       "52      101.028639        43.330933         43.249292          52.716724   \n",
       "53      104.048947        43.351564         43.269901          53.026628   \n",
       "54      107.019350        43.339290         43.272826          53.495780   \n",
       "55      109.904870        43.352901         43.280562          54.622405   \n",
       "56      112.678304        43.360768         43.293960          56.185407   \n",
       "57      115.354782        43.366933         43.305999          57.251949   \n",
       "58      117.943437        43.353566         43.297950          57.688603   \n",
       "59      120.433615        43.344254         43.295138          58.524752   \n",
       "60      122.838947        43.364531         43.309389          59.355556   \n",
       "61      125.141683        43.418346         43.366196          59.576637   \n",
       "62      126.326120        43.417766         43.376618          59.529030   \n",
       "63      125.611611        43.392037         43.362907          59.687701   \n",
       "64      124.219610        43.368284         43.340560          59.801179   \n",
       "65      122.664262        43.381324         43.352618          59.865365   \n",
       "66      121.127595        43.382600         43.359910          60.307558   \n",
       "67      120.782429        43.400142         43.373092          60.446045   \n",
       "68      122.346023        43.406818         43.387757          60.407594   \n",
       "69      124.613572        43.405809         43.390659          60.537366   \n",
       "70      127.072208        43.404906         43.393833          61.075119   \n",
       "71      129.558507        43.407926         43.399157          61.216435   \n",
       "72      131.991145        43.396481         43.399145          61.270312   \n",
       "73      134.354722        43.356695         43.367756          61.621571   \n",
       "74      136.653602        43.380005         43.384885          62.280446   \n",
       "75      138.897807        43.413711         43.417728          62.630208   \n",
       "76      141.069925        43.414641         43.433525          63.696203   \n",
       "77      143.174897        43.413741         43.439041          66.475903   \n",
       "78      145.221981        43.427038         43.455471          65.307534   \n",
       "79      147.217363        43.418401         43.455069          64.645842   \n",
       "80      149.173717        43.440759         43.478679          64.799353   \n",
       "81      150.812939        43.447525         43.493078          65.863014   \n",
       "82      150.560484        43.446680         43.496545          66.427531   \n",
       "83      149.067797        43.447120         43.505554          66.358999   \n",
       "84      147.241447        43.421698         43.499148          66.377455   \n",
       "85      145.601031        43.382845         43.462646          66.279238   \n",
       "86      145.767638        43.416233         43.493905          66.538560   \n",
       "87      147.359125        43.452510         43.527426          67.628874   \n",
       "88      149.384263        43.459464         43.544814          67.456715   \n",
       "89      151.495396        43.456299         43.552733          67.738353   \n",
       "90      153.606914        43.443324         43.547334          68.088346   \n",
       "91      155.678302        43.450360         43.561280          68.363309   \n",
       "92      158.213757        43.458604         43.578315          69.265508   \n",
       "93      163.384041        43.473200         43.604122          69.592949   \n",
       "94      170.493390        43.463818         43.609770          69.896165   \n",
       "95      177.607567        43.443596         43.597434          70.528487   \n",
       "96      180.099990        43.461612         43.612385          71.166698   \n",
       "97      178.836185        43.481614         43.631900          71.021827   \n",
       "98      176.520006        43.456320         43.611749          70.551258   \n",
       "99      174.021776        43.449545         43.607858          70.138816   \n",
       "100     171.561736        43.475540         43.624917          70.178897   \n",
       "101     169.993635        43.468435         43.621181          69.708965   \n",
       "102     173.485092        43.453838         43.610143          72.420235   \n",
       "103     180.077515        43.422572         43.582897          73.774147   \n",
       "104     187.480605        43.418983         43.580620          71.188522   \n",
       "105     194.894510        43.423255         43.584585          70.040511   \n",
       "106     201.822119        43.456224         43.623763          69.821602   \n",
       "107     204.394321        43.472953         43.653924          70.716036   \n",
       "108     202.743646        43.467302         43.670712          71.955051   \n",
       "109     199.945550        43.455913         43.674635          74.618151   \n",
       "110     196.961128        43.465680         43.684801          73.928467   \n",
       "111     194.208409        43.486817         43.713450          73.382152   \n",
       "112     195.251181        43.458543         43.700729          73.335148   \n",
       "113     200.807992        43.443933         43.685521          73.216631   \n",
       "114     207.625400        43.473992         43.708590          73.048051   \n",
       "115     214.654903        43.470408         43.711327          72.949049   \n",
       "116     221.547100        43.478454         43.726651          72.910895   \n",
       "117     228.156474        43.486839         43.745135          73.510651   \n",
       "118     234.525258        43.497324         43.754613          73.873329   \n",
       "119     240.705308        43.500247         43.769574          73.810532   \n",
       "120     246.639900        43.493902         43.789505          74.113111   \n",
       "121     251.796557        43.458345         43.778434          74.759213   \n",
       "122     251.807109        43.442535         43.768501          75.486701   \n",
       "123     248.360257        43.436040         43.772154          76.338894   \n",
       "124     244.242335        43.444934         43.777785          76.307698   \n",
       "125     241.117669        43.458408         43.775579          76.146931   \n",
       "126     243.478886        43.460670         43.784338          76.079069   \n",
       "127     248.860989        43.460711         43.778981          76.109626   \n",
       "128     254.873080        43.475899         43.790668          75.880341   \n",
       "129     260.859322        43.454974         43.772453          76.068137   \n",
       "130     266.767080        43.458840         43.770916          76.212346   \n",
       "131     272.394969        43.485204         43.800833          76.145609   \n",
       "132     277.847880        43.473997         43.798017          76.323579   \n",
       "133     283.141854        43.484972         43.815380          76.915186   \n",
       "134     288.278774        43.477323         43.823647          77.136753   \n",
       "135     293.187443        43.479841         43.835590          77.484223   \n",
       "136     298.006677        43.482965         43.845341          77.910045   \n",
       "137     301.658327        43.472386         43.853373          78.488492   \n",
       "138     299.582544        43.485831         43.873038          79.095173   \n",
       "139     294.919548        43.502807         43.901455          79.708650   \n",
       "140     291.473574        43.493895         43.902765          80.230484   \n",
       "141     293.874467        43.509571         43.923041          80.646815   \n",
       "142     298.614099        43.521915         43.945010          80.910848   \n",
       "143     303.777228        43.524190         43.958694          81.129850   \n",
       "144     308.926394        43.515341         43.958554          81.581373   \n",
       "145     313.904545        43.506148         43.959960          82.166476   \n",
       "146     318.715837        43.513588         43.972702          82.538005   \n",
       "147     323.372367        43.497385         43.966545          82.972327   \n",
       "148     327.854830        43.505762         43.980871          83.368407   \n",
       "149     332.206569        43.504884         43.992644          83.704713   \n",
       "150     336.432196        43.501010         44.000100          83.987811   \n",
       "151     340.525834        43.492539         43.998978          84.375369   \n",
       "152     344.515686        43.509337         44.023578          84.837548   \n",
       "153     348.407902        43.502571         44.031579          85.261956   \n",
       "154     351.020467        43.503628         44.035659          85.545079   \n",
       "155     347.738458        43.522434         44.068159          85.801762   \n",
       "156     342.158319        43.508802         44.078533          86.007156   \n",
       "157     337.682397        43.518412         44.092438          86.102589   \n",
       "158     339.285966        43.528067         44.105030          86.194566   \n",
       "159     343.493972        43.532073         44.117634          86.392710   \n",
       "160     348.075201        43.524346         44.119842          86.501777   \n",
       "161     352.629336        43.519584         44.122666          86.436530   \n",
       "162     357.041878        43.519316         44.132342          86.343957   \n",
       "163     361.263192        43.529386         44.135804          86.400397   \n",
       "164     365.316431        43.527965         44.150931          86.489729   \n",
       "165     369.203524        43.532393         44.159348          86.581164   \n",
       "166     372.992601        43.536665         44.171910          86.680518   \n",
       "167     376.630393        43.533500         44.177569          86.741649   \n",
       "168     380.144210        43.522572         44.176059          86.956646   \n",
       "169     383.563896        43.540664         44.197083          87.214669   \n",
       "170     386.889099        43.533582         44.209644          87.451113   \n",
       "171     390.119637        43.531700         44.213090          87.644066   \n",
       "172     393.252631        43.542667         44.223296          87.878176   \n",
       "173     396.288991        43.545287         44.233910          88.194025   \n",
       "174     399.217244        43.546490         44.251788          88.526655   \n",
       "175     400.174251        43.529333         44.244701          88.868236   \n",
       "176     395.351217        43.546451         44.274754          89.217405   \n",
       "177     393.064449        43.561464         44.291022          89.474049   \n",
       "178     395.495795        43.546318         44.292672          89.716430   \n",
       "179     398.802214        43.544161         44.291809          90.032633   \n",
       "180     402.156934        43.552065         44.317504          90.272766   \n",
       "181     405.404759        43.565748         44.334100          90.505496   \n",
       "182     408.520140        43.568943         44.344280          90.730657   \n",
       "183     411.504301        43.569159         44.359717          90.958699   \n",
       "184     414.345827        43.558819         44.353551          91.179806   \n",
       "185     417.071568        43.578945         44.377255          91.431382   \n",
       "186     419.678691        43.576527         44.379834          91.755541   \n",
       "187     422.207800        43.561554         44.380599          92.088190   \n",
       "188     424.642383        43.553362         44.382851          92.306982   \n",
       "189     427.021547        43.556947         44.387071          92.530460   \n",
       "190     429.322843        43.572990         44.410708          92.797000   \n",
       "191     431.567238        43.577996         44.420824          93.121994   \n",
       "192     433.773686        43.558777         44.415919          93.543185   \n",
       "193     435.905493        43.562603         44.427972          93.882780   \n",
       "194     438.005019        43.564687         44.433279          94.209586   \n",
       "195     440.056370        43.582710         44.461845          94.590839   \n",
       "196     442.046318        43.586840         44.473778          94.992389   \n",
       "197     444.001530        43.586188         44.486409          95.367889   \n",
       "198     445.903208        43.571635         44.484785          95.596442   \n",
       "199     447.789528        43.590835         44.506120          95.777043   \n",
       "200     449.621702        43.595415         44.530628          96.086056   \n",
       "201     450.469727        43.585762         44.515205          96.191505   \n",
       "\n",
       "     Internal Temp [C]  Heater on?  walllimit  \n",
       "l                                              \n",
       "0            33.461891    1.000000          0  \n",
       "1            37.079371    1.000000          0  \n",
       "2            40.109402    1.000000          0  \n",
       "3            42.423023    0.466667          0  \n",
       "4            44.328655    0.000000          0  \n",
       "5            45.413387    0.000000          0  \n",
       "6            45.812303    0.000000          0  \n",
       "7            45.996797    0.000000          0  \n",
       "8            46.155595    0.000000          0  \n",
       "9            46.298280    0.000000          0  \n",
       "10           46.389178    0.000000          0  \n",
       "11           46.409423    0.000000          0  \n",
       "12           46.371116    0.000000          0  \n",
       "13           46.291966    0.000000          0  \n",
       "14           46.180029    0.000000          0  \n",
       "15           46.038120    0.800000          0  \n",
       "16           46.156173    1.000000          0  \n",
       "17           47.233077    1.000000          0  \n",
       "18           49.011576    1.000000          0  \n",
       "19           51.070845    1.000000          0  \n",
       "20           53.186604    1.000000          0  \n",
       "21           55.347307    1.000000          0  \n",
       "22           57.559471    1.000000          0  \n",
       "23           59.954953    1.000000          0  \n",
       "24           62.620450    0.000000          0  \n",
       "25           65.220728    0.000000          0  \n",
       "26           67.112444    0.000000          0  \n",
       "27           68.284821    0.000000          0  \n",
       "28           68.962448    0.000000          0  \n",
       "29           69.297483    0.000000          0  \n",
       "30           69.402759    0.000000          0  \n",
       "31           69.344099    0.533333          0  \n",
       "32           69.216779    1.000000          0  \n",
       "33           69.401021    1.000000          0  \n",
       "34           70.212590    1.000000          0  \n",
       "35           71.635977    1.000000          0  \n",
       "36           73.508953    1.000000          0  \n",
       "37           75.713386    1.000000          0  \n",
       "38           78.144823    1.000000          0  \n",
       "39           80.721218    1.000000          0  \n",
       "40           83.381094    1.000000          0  \n",
       "41           86.051201    0.600000          0  \n",
       "42           88.674265    0.000000          0  \n",
       "43           90.864806    0.000000          0  \n",
       "44           92.336219    0.000000          0  \n",
       "45           93.196135    0.000000          0  \n",
       "46           93.614092    0.000000          0  \n",
       "47           93.738013    0.000000          0  \n",
       "48           93.659291    0.066667          0  \n",
       "49           93.339852    1.000000          0  \n",
       "50           92.951734    1.000000          0  \n",
       "51           92.783497    1.000000          0  \n",
       "52           93.359909    1.000000          0  \n",
       "53           94.659050    1.000000          0  \n",
       "54           96.553259    1.000000          0  \n",
       "55           99.173169    1.000000          0  \n",
       "56          101.587994    1.000000          0  \n",
       "57          103.847724    1.000000          0  \n",
       "58          105.772804    1.000000          0  \n",
       "59          107.508438    1.000000          0  \n",
       "60          109.460894    1.000000          0  \n",
       "61          111.630516    0.400000          0  \n",
       "62          113.911633    0.000000          0  \n",
       "63          116.058385    0.000000          0  \n",
       "64          117.358326    0.000000          0  \n",
       "65          117.635753    0.000000          0  \n",
       "66          117.296059    0.666667          0  \n",
       "67          116.779369    1.000000          0  \n",
       "68          116.554897    1.000000          0  \n",
       "69          116.919420    1.000000          0  \n",
       "70          117.536147    1.000000          0  \n",
       "71          118.842693    1.000000          0  \n",
       "72          120.462216    1.000000          0  \n",
       "73          122.370236    1.000000          0  \n",
       "74          124.656051    1.000000          0  \n",
       "75          127.043677    1.000000          0  \n",
       "76          128.578676    1.000000          0  \n",
       "77          130.283417    1.000000          0  \n",
       "78          132.798375    1.000000          0  \n",
       "79          135.114881    1.000000          0  \n",
       "80          137.135449    0.933333          0  \n",
       "81          138.676126    0.000000          0  \n",
       "82          140.398126    0.000000          0  \n",
       "83          141.583086    0.000000          0  \n",
       "84          141.926664    0.000000          0  \n",
       "85          141.629399    1.000000          0  \n",
       "86          140.933628    1.000000          0  \n",
       "87          140.696392    1.000000          0  \n",
       "88          141.337493    1.000000          0  \n",
       "89          142.046251    1.000000          0  \n",
       "90          143.214521    1.000000          0  \n",
       "91          144.708241    1.000000          0  \n",
       "92          146.120495    1.000000          0  \n",
       "93          148.458731    1.000000          0  \n",
       "94          152.049778    1.000000          0  \n",
       "95          156.353747    0.066667          0  \n",
       "96          160.536054    0.000000          0  \n",
       "97          164.087764    0.000000          0  \n",
       "98          166.036110    0.000000          0  \n",
       "99          166.616073    0.000000          0  \n",
       "100         165.885348    0.133333          0  \n",
       "101         165.085500    1.000000          0  \n",
       "102         164.025098    1.000000          0  \n",
       "103         165.621929    1.000000          0  \n",
       "104         169.047381    1.000000          0  \n",
       "105         173.764758    1.000000          0  \n",
       "106         179.254235    0.200000          0  \n",
       "107         184.196005    0.000000          0  \n",
       "108         187.794896    0.000000          0  \n",
       "109         189.379718    0.000000          0  \n",
       "110         189.427675    0.000000          0  \n",
       "111         188.414558    0.733333          0  \n",
       "112         187.036359    1.000000          0  \n",
       "113         187.552004    1.000000          0  \n",
       "114         190.153821    1.000000          0  \n",
       "115         194.248782    1.000000          0  \n",
       "116         199.274385    1.000000          0  \n",
       "117         204.200063    1.000000          0  \n",
       "118         210.397527    1.000000          0  \n",
       "119         216.650002    1.000000          0  \n",
       "120         222.667944    1.000000          0  \n",
       "121         228.581177    0.066667          0  \n",
       "122         233.213348    0.000000          0  \n",
       "123         235.132098    0.000000          0  \n",
       "124         234.906524    0.133333          0  \n",
       "125         233.189929    1.000000          0  \n",
       "126         231.636379    1.000000          0  \n",
       "127         232.343263    1.000000          0  \n",
       "128         235.324162    1.000000          0  \n",
       "129         238.980245    1.000000          0  \n",
       "130         244.002103    1.000000          0  \n",
       "131         249.255933    1.000000          0  \n",
       "132         254.495372    1.000000          0  \n",
       "133         259.696100    1.000000          0  \n",
       "134         264.631950    1.000000          0  \n",
       "135         269.592643    1.000000          0  \n",
       "136         274.404191    0.933333          0  \n",
       "137         278.986959    0.000000          0  \n",
       "138         281.985933    0.000000          0  \n",
       "139         281.798446    0.200000          0  \n",
       "140         279.454167    1.000000          0  \n",
       "141         277.949390    1.000000          0  \n",
       "142         279.063049    1.000000          0  \n",
       "143         282.090293    1.000000          0  \n",
       "144         286.085728    1.000000          0  \n",
       "145         290.481366    1.000000          0  \n",
       "146         294.845009    1.000000          0  \n",
       "147         299.380750    1.000000          0  \n",
       "148         303.795461    1.000000          0  \n",
       "149         308.078888    1.000000          0  \n",
       "150         312.226064    1.000000          0  \n",
       "151         316.240617    1.000000          0  \n",
       "152         320.134045    1.000000          0  \n",
       "153         323.949725    0.933333          0  \n",
       "154         327.611285    0.000000          0  \n",
       "155         329.354899    0.000000          0  \n",
       "156         327.686684    0.133333          0  \n",
       "157         324.187374    1.000000          0  \n",
       "158         321.672699    1.000000          0  \n",
       "159         322.310461    1.000000          0  \n",
       "160         325.229653    1.000000          0  \n",
       "161         328.996397    1.000000          0  \n",
       "162         333.012311    1.000000          0  \n",
       "163         337.018833    1.000000          0  \n",
       "164         340.953910    1.000000          0  \n",
       "165         344.758459    1.000000          0  \n",
       "166         348.448197    1.000000          0  \n",
       "167         352.018125    1.000000          0  \n",
       "168         355.447398    1.000000          0  \n",
       "169         358.788755    1.000000          0  \n",
       "170         362.057424    1.000000          0  \n",
       "171         365.225922    1.000000          0  \n",
       "172         368.309908    1.000000          0  \n",
       "173         371.315769    1.000000          0  \n",
       "174         374.224367    0.800000          0  \n",
       "175         376.898600    0.000000          0  \n",
       "176         376.897968    0.600000          0  \n",
       "177         374.160972    1.000000          0  \n",
       "178         373.398916    1.000000          0  \n",
       "179         375.084532    1.000000          0  \n",
       "180         377.805548    1.000000          0  \n",
       "181         380.807558    1.000000          0  \n",
       "182         383.819224    1.000000          0  \n",
       "183         386.743972    1.000000          0  \n",
       "184         389.568858    1.000000          0  \n",
       "185         392.280501    1.000000          0  \n",
       "186         394.890120    1.000000          0  \n",
       "187         397.422847    1.000000          0  \n",
       "188         399.863230    1.000000          0  \n",
       "189         402.241189    1.000000          0  \n",
       "190         404.550924    1.000000          0  \n",
       "191         406.799357    1.000000          0  \n",
       "192         408.994708    1.000000          0  \n",
       "193         411.125623    1.000000          0  \n",
       "194         413.223024    1.000000          0  \n",
       "195         415.260887    1.000000          0  \n",
       "196         417.261705    1.000000          0  \n",
       "197         419.220605    1.000000          0  \n",
       "198         421.119580    1.000000          0  \n",
       "199         422.990696    1.000000          0  \n",
       "200         424.821478    0.666667          0  \n",
       "201         425.832458    0.000000          0  "
      ]
     },
     "execution_count": 56,
     "metadata": {},
     "output_type": "execute_result"
    }
   ],
   "source": [
    "June13HeatingFilt"
   ]
  },
  {
   "cell_type": "code",
   "execution_count": 57,
   "id": "358dda4a",
   "metadata": {},
   "outputs": [],
   "source": [
    "fig13li = px.scatter(June13HeatingFilt, x=\"Wall Temp [C]\", y=\"Internal Temp [C]\", trendline=\"lowess\")\n",
    "fig13linj = px.scatter(June13HeatingFilt, x=\"Wall Temp [C]\", y=\"Injector Temp [C]\", trendline=\"lowess\")"
   ]
  },
  {
   "cell_type": "code",
   "execution_count": 58,
   "id": "24b8473e",
   "metadata": {},
   "outputs": [],
   "source": [
    "fig14li = px.scatter(June14HeatingFilt, x=\"Wall Temp [C]\", y=\"Internal Temp [C]\", trendline=\"lowess\")\n",
    "fig14linj = px.scatter(June14HeatingFilt, x=\"Wall Temp [C]\", y=\"Injector Temp [C]\", trendline=\"lowess\")\n",
    "fig14lp = px.scatter(June14HeatingFilt, x=\"Wall Temp [C]\", y=\"Pressure Temp [C]\", trendline=\"lowess\")"
   ]
  },
  {
   "cell_type": "code",
   "execution_count": 59,
   "id": "d1070ecb",
   "metadata": {},
   "outputs": [],
   "source": [
    "fig17li = px.scatter(June17HeatingFilt, x=\"Wall Temp [C]\", y=\"Internal Temp [C]\", trendline=\"lowess\")\n",
    "fig17linj = px.scatter(June17HeatingFilt, x=\"Wall Temp [C]\", y=\"Injector Temp [C]\", trendline=\"lowess\")\n",
    "fig17lp = px.scatter(June17HeatingFilt, x=\"Wall Temp [C]\", y=\"Pressure Temp [C]\", trendline=\"lowess\")"
   ]
  },
  {
   "cell_type": "code",
   "execution_count": 60,
   "id": "66303e2e",
   "metadata": {},
   "outputs": [],
   "source": [
    "fig18li = px.scatter(June18HeatingFilt, x=\"Wall Temp [C]\", y=\"Internal Temp [C]\", trendline=\"lowess\")\n",
    "fig18linj = px.scatter(June18HeatingFilt, x=\"Wall Temp [C]\", y=\"Injector Temp [C]\", trendline=\"lowess\")\n",
    "fig18lp = px.scatter(June18HeatingFilt, x=\"Wall Temp [C]\", y=\"Pressure Temp [C]\", trendline=\"lowess\")"
   ]
  },
  {
   "cell_type": "code",
   "execution_count": 61,
   "id": "730ddaef",
   "metadata": {},
   "outputs": [],
   "source": [
    "June13HeatingFilt[\"LowessInternal\"]=fig13li.data[1].y\n",
    "June13HeatingFilt[\"LowessInjection\"]=fig13linj.data[1].y"
   ]
  },
  {
   "cell_type": "code",
   "execution_count": 62,
   "id": "c494623f",
   "metadata": {},
   "outputs": [],
   "source": [
    "June14HeatingFilt[\"LowessInternal\"]=fig14li.data[1].y\n",
    "June14HeatingFilt[\"LowessInjection\"]=fig14linj.data[1].y\n",
    "June14HeatingFilt[\"LowessPressure\"]=fig14lp.data[1].y"
   ]
  },
  {
   "cell_type": "code",
   "execution_count": 63,
   "id": "e95e1d99",
   "metadata": {
    "scrolled": true
   },
   "outputs": [],
   "source": [
    "June17HeatingFilt[\"LowessInternal\"]=fig17li.data[1].y\n",
    "June17HeatingFilt[\"LowessInjection\"]=fig17linj.data[1].y\n",
    "June17HeatingFilt[\"LowessPressure\"]=fig17lp.data[1].y"
   ]
  },
  {
   "cell_type": "code",
   "execution_count": 64,
   "id": "ce943c3a",
   "metadata": {
    "scrolled": true
   },
   "outputs": [
    {
     "data": {
      "text/html": [
       "<div>\n",
       "<style scoped>\n",
       "    .dataframe tbody tr th:only-of-type {\n",
       "        vertical-align: middle;\n",
       "    }\n",
       "\n",
       "    .dataframe tbody tr th {\n",
       "        vertical-align: top;\n",
       "    }\n",
       "\n",
       "    .dataframe thead th {\n",
       "        text-align: right;\n",
       "    }\n",
       "</style>\n",
       "<table border=\"1\" class=\"dataframe\">\n",
       "  <thead>\n",
       "    <tr style=\"text-align: right;\">\n",
       "      <th></th>\n",
       "      <th>Chamber Pressure [Bar]</th>\n",
       "      <th>N2 Pressure [Bar]</th>\n",
       "      <th>Leakage Rate [Bar/Min]</th>\n",
       "      <th>Wall Temp [C]</th>\n",
       "      <th>Coolant In Temp [C]</th>\n",
       "      <th>Coolant Out Temp [C]</th>\n",
       "      <th>Injector Temp [C]</th>\n",
       "      <th>Internal Temp [C]</th>\n",
       "      <th>Pressure Temp [C]</th>\n",
       "      <th>Rate of Temp Change [C/min]</th>\n",
       "      <th>Heater On</th>\n",
       "      <th>walllimit</th>\n",
       "      <th>LowessInternal</th>\n",
       "      <th>LowessInjection</th>\n",
       "      <th>LowessPressure</th>\n",
       "    </tr>\n",
       "    <tr>\n",
       "      <th>l</th>\n",
       "      <th></th>\n",
       "      <th></th>\n",
       "      <th></th>\n",
       "      <th></th>\n",
       "      <th></th>\n",
       "      <th></th>\n",
       "      <th></th>\n",
       "      <th></th>\n",
       "      <th></th>\n",
       "      <th></th>\n",
       "      <th></th>\n",
       "      <th></th>\n",
       "      <th></th>\n",
       "      <th></th>\n",
       "      <th></th>\n",
       "    </tr>\n",
       "  </thead>\n",
       "  <tbody>\n",
       "    <tr>\n",
       "      <th>0</th>\n",
       "      <td>-0.791652</td>\n",
       "      <td>0.337262</td>\n",
       "      <td>0.030059</td>\n",
       "      <td>92.090600</td>\n",
       "      <td>42.197753</td>\n",
       "      <td>41.789748</td>\n",
       "      <td>38.195120</td>\n",
       "      <td>49.175871</td>\n",
       "      <td>22.043673</td>\n",
       "      <td>84.143494</td>\n",
       "      <td>1.000000</td>\n",
       "      <td>0</td>\n",
       "      <td>34.683192</td>\n",
       "      <td>35.179803</td>\n",
       "      <td>20.062270</td>\n",
       "    </tr>\n",
       "    <tr>\n",
       "      <th>1</th>\n",
       "      <td>-0.852971</td>\n",
       "      <td>0.347775</td>\n",
       "      <td>-0.271953</td>\n",
       "      <td>112.446990</td>\n",
       "      <td>42.349838</td>\n",
       "      <td>41.989047</td>\n",
       "      <td>38.775996</td>\n",
       "      <td>62.745649</td>\n",
       "      <td>22.163637</td>\n",
       "      <td>78.654571</td>\n",
       "      <td>1.000000</td>\n",
       "      <td>0</td>\n",
       "      <td>56.916186</td>\n",
       "      <td>36.787774</td>\n",
       "      <td>20.754071</td>\n",
       "    </tr>\n",
       "    <tr>\n",
       "      <th>2</th>\n",
       "      <td>-0.855042</td>\n",
       "      <td>0.326273</td>\n",
       "      <td>-0.101146</td>\n",
       "      <td>131.468867</td>\n",
       "      <td>42.449266</td>\n",
       "      <td>42.089212</td>\n",
       "      <td>39.498604</td>\n",
       "      <td>78.120492</td>\n",
       "      <td>22.307517</td>\n",
       "      <td>73.254873</td>\n",
       "      <td>1.000000</td>\n",
       "      <td>0</td>\n",
       "      <td>77.697922</td>\n",
       "      <td>38.313853</td>\n",
       "      <td>21.418405</td>\n",
       "    </tr>\n",
       "    <tr>\n",
       "      <th>3</th>\n",
       "      <td>-0.872721</td>\n",
       "      <td>0.349845</td>\n",
       "      <td>-0.048577</td>\n",
       "      <td>149.477052</td>\n",
       "      <td>42.629572</td>\n",
       "      <td>42.282341</td>\n",
       "      <td>40.269369</td>\n",
       "      <td>95.201154</td>\n",
       "      <td>22.486438</td>\n",
       "      <td>70.810279</td>\n",
       "      <td>1.000000</td>\n",
       "      <td>0</td>\n",
       "      <td>97.371686</td>\n",
       "      <td>39.779436</td>\n",
       "      <td>22.063511</td>\n",
       "    </tr>\n",
       "    <tr>\n",
       "      <th>4</th>\n",
       "      <td>-0.880207</td>\n",
       "      <td>0.338536</td>\n",
       "      <td>-0.016326</td>\n",
       "      <td>166.725910</td>\n",
       "      <td>42.661098</td>\n",
       "      <td>42.359541</td>\n",
       "      <td>41.045489</td>\n",
       "      <td>113.105596</td>\n",
       "      <td>22.700287</td>\n",
       "      <td>68.214860</td>\n",
       "      <td>1.000000</td>\n",
       "      <td>0</td>\n",
       "      <td>116.208179</td>\n",
       "      <td>41.201027</td>\n",
       "      <td>22.695624</td>\n",
       "    </tr>\n",
       "    <tr>\n",
       "      <th>5</th>\n",
       "      <td>-0.855997</td>\n",
       "      <td>0.372621</td>\n",
       "      <td>-0.052246</td>\n",
       "      <td>183.292141</td>\n",
       "      <td>42.721148</td>\n",
       "      <td>42.429324</td>\n",
       "      <td>41.895218</td>\n",
       "      <td>131.172650</td>\n",
       "      <td>22.948894</td>\n",
       "      <td>63.788889</td>\n",
       "      <td>1.000000</td>\n",
       "      <td>0</td>\n",
       "      <td>134.285964</td>\n",
       "      <td>42.580915</td>\n",
       "      <td>23.314759</td>\n",
       "    </tr>\n",
       "    <tr>\n",
       "      <th>6</th>\n",
       "      <td>-0.905372</td>\n",
       "      <td>0.359879</td>\n",
       "      <td>-0.018512</td>\n",
       "      <td>199.328164</td>\n",
       "      <td>42.828581</td>\n",
       "      <td>42.544988</td>\n",
       "      <td>42.864974</td>\n",
       "      <td>149.075449</td>\n",
       "      <td>23.244626</td>\n",
       "      <td>64.296264</td>\n",
       "      <td>1.000000</td>\n",
       "      <td>0</td>\n",
       "      <td>151.768388</td>\n",
       "      <td>43.927972</td>\n",
       "      <td>23.923917</td>\n",
       "    </tr>\n",
       "    <tr>\n",
       "      <th>7</th>\n",
       "      <td>-0.923529</td>\n",
       "      <td>0.385203</td>\n",
       "      <td>0.010290</td>\n",
       "      <td>214.651321</td>\n",
       "      <td>42.915705</td>\n",
       "      <td>42.661243</td>\n",
       "      <td>43.924317</td>\n",
       "      <td>166.461806</td>\n",
       "      <td>23.581846</td>\n",
       "      <td>60.896016</td>\n",
       "      <td>1.000000</td>\n",
       "      <td>0</td>\n",
       "      <td>168.455897</td>\n",
       "      <td>45.223062</td>\n",
       "      <td>24.513392</td>\n",
       "    </tr>\n",
       "    <tr>\n",
       "      <th>8</th>\n",
       "      <td>-0.870810</td>\n",
       "      <td>0.341244</td>\n",
       "      <td>0.071051</td>\n",
       "      <td>229.535968</td>\n",
       "      <td>42.969211</td>\n",
       "      <td>42.741089</td>\n",
       "      <td>45.051823</td>\n",
       "      <td>183.677351</td>\n",
       "      <td>23.975569</td>\n",
       "      <td>58.331240</td>\n",
       "      <td>1.000000</td>\n",
       "      <td>0</td>\n",
       "      <td>184.649303</td>\n",
       "      <td>46.485696</td>\n",
       "      <td>25.090993</td>\n",
       "    </tr>\n",
       "    <tr>\n",
       "      <th>9</th>\n",
       "      <td>-0.861094</td>\n",
       "      <td>0.335351</td>\n",
       "      <td>0.004797</td>\n",
       "      <td>243.936241</td>\n",
       "      <td>43.003175</td>\n",
       "      <td>42.807454</td>\n",
       "      <td>46.172661</td>\n",
       "      <td>200.521371</td>\n",
       "      <td>24.431515</td>\n",
       "      <td>57.313480</td>\n",
       "      <td>1.000000</td>\n",
       "      <td>0</td>\n",
       "      <td>200.303496</td>\n",
       "      <td>47.708555</td>\n",
       "      <td>25.652350</td>\n",
       "    </tr>\n",
       "    <tr>\n",
       "      <th>10</th>\n",
       "      <td>-0.901868</td>\n",
       "      <td>0.347934</td>\n",
       "      <td>-0.034234</td>\n",
       "      <td>257.849531</td>\n",
       "      <td>43.002515</td>\n",
       "      <td>42.833937</td>\n",
       "      <td>47.323805</td>\n",
       "      <td>216.691479</td>\n",
       "      <td>24.926638</td>\n",
       "      <td>54.683864</td>\n",
       "      <td>1.000000</td>\n",
       "      <td>0</td>\n",
       "      <td>215.425043</td>\n",
       "      <td>48.889311</td>\n",
       "      <td>26.195664</td>\n",
       "    </tr>\n",
       "    <tr>\n",
       "      <th>11</th>\n",
       "      <td>-0.870650</td>\n",
       "      <td>0.327228</td>\n",
       "      <td>-0.019157</td>\n",
       "      <td>271.408415</td>\n",
       "      <td>43.074070</td>\n",
       "      <td>42.919842</td>\n",
       "      <td>48.537784</td>\n",
       "      <td>232.206868</td>\n",
       "      <td>25.474317</td>\n",
       "      <td>53.629264</td>\n",
       "      <td>1.000000</td>\n",
       "      <td>0</td>\n",
       "      <td>230.175337</td>\n",
       "      <td>50.044527</td>\n",
       "      <td>26.729920</td>\n",
       "    </tr>\n",
       "    <tr>\n",
       "      <th>12</th>\n",
       "      <td>-0.901231</td>\n",
       "      <td>0.336466</td>\n",
       "      <td>0.038667</td>\n",
       "      <td>284.549424</td>\n",
       "      <td>43.155575</td>\n",
       "      <td>43.026405</td>\n",
       "      <td>49.816825</td>\n",
       "      <td>246.956828</td>\n",
       "      <td>26.086834</td>\n",
       "      <td>53.148358</td>\n",
       "      <td>1.000000</td>\n",
       "      <td>0</td>\n",
       "      <td>244.515432</td>\n",
       "      <td>51.197199</td>\n",
       "      <td>27.274093</td>\n",
       "    </tr>\n",
       "    <tr>\n",
       "      <th>13</th>\n",
       "      <td>-0.876862</td>\n",
       "      <td>0.349686</td>\n",
       "      <td>0.024748</td>\n",
       "      <td>297.257701</td>\n",
       "      <td>43.184338</td>\n",
       "      <td>43.091376</td>\n",
       "      <td>51.152332</td>\n",
       "      <td>260.955112</td>\n",
       "      <td>26.742708</td>\n",
       "      <td>49.422462</td>\n",
       "      <td>1.000000</td>\n",
       "      <td>0</td>\n",
       "      <td>258.415507</td>\n",
       "      <td>52.412141</td>\n",
       "      <td>27.880277</td>\n",
       "    </tr>\n",
       "    <tr>\n",
       "      <th>14</th>\n",
       "      <td>-0.872880</td>\n",
       "      <td>0.358127</td>\n",
       "      <td>0.011962</td>\n",
       "      <td>309.710620</td>\n",
       "      <td>43.161439</td>\n",
       "      <td>43.105957</td>\n",
       "      <td>52.542856</td>\n",
       "      <td>274.436477</td>\n",
       "      <td>27.463988</td>\n",
       "      <td>49.219320</td>\n",
       "      <td>1.000000</td>\n",
       "      <td>0</td>\n",
       "      <td>272.061091</td>\n",
       "      <td>53.663607</td>\n",
       "      <td>28.524751</td>\n",
       "    </tr>\n",
       "    <tr>\n",
       "      <th>15</th>\n",
       "      <td>-0.861094</td>\n",
       "      <td>0.342359</td>\n",
       "      <td>-0.001627</td>\n",
       "      <td>321.801870</td>\n",
       "      <td>43.138108</td>\n",
       "      <td>43.115119</td>\n",
       "      <td>53.967216</td>\n",
       "      <td>287.326927</td>\n",
       "      <td>28.224384</td>\n",
       "      <td>48.988157</td>\n",
       "      <td>1.000000</td>\n",
       "      <td>0</td>\n",
       "      <td>285.255480</td>\n",
       "      <td>54.957519</td>\n",
       "      <td>29.218820</td>\n",
       "    </tr>\n",
       "    <tr>\n",
       "      <th>16</th>\n",
       "      <td>-0.868898</td>\n",
       "      <td>0.345704</td>\n",
       "      <td>0.007357</td>\n",
       "      <td>333.561218</td>\n",
       "      <td>43.168196</td>\n",
       "      <td>43.163562</td>\n",
       "      <td>55.406638</td>\n",
       "      <td>299.686519</td>\n",
       "      <td>29.033908</td>\n",
       "      <td>45.422089</td>\n",
       "      <td>1.000000</td>\n",
       "      <td>0</td>\n",
       "      <td>298.034359</td>\n",
       "      <td>56.273117</td>\n",
       "      <td>29.948358</td>\n",
       "    </tr>\n",
       "    <tr>\n",
       "      <th>17</th>\n",
       "      <td>-0.863802</td>\n",
       "      <td>0.348252</td>\n",
       "      <td>0.022046</td>\n",
       "      <td>345.081681</td>\n",
       "      <td>43.271169</td>\n",
       "      <td>43.284606</td>\n",
       "      <td>56.879533</td>\n",
       "      <td>311.664498</td>\n",
       "      <td>29.898737</td>\n",
       "      <td>46.597579</td>\n",
       "      <td>1.000000</td>\n",
       "      <td>0</td>\n",
       "      <td>310.413276</td>\n",
       "      <td>57.655707</td>\n",
       "      <td>30.754614</td>\n",
       "    </tr>\n",
       "    <tr>\n",
       "      <th>18</th>\n",
       "      <td>-0.853608</td>\n",
       "      <td>0.326910</td>\n",
       "      <td>-0.018202</td>\n",
       "      <td>356.241575</td>\n",
       "      <td>43.272969</td>\n",
       "      <td>43.338205</td>\n",
       "      <td>58.399180</td>\n",
       "      <td>323.169196</td>\n",
       "      <td>30.839111</td>\n",
       "      <td>44.483521</td>\n",
       "      <td>1.000000</td>\n",
       "      <td>0</td>\n",
       "      <td>322.272215</td>\n",
       "      <td>59.073818</td>\n",
       "      <td>31.623008</td>\n",
       "    </tr>\n",
       "    <tr>\n",
       "      <th>19</th>\n",
       "      <td>-0.872243</td>\n",
       "      <td>0.337900</td>\n",
       "      <td>0.001392</td>\n",
       "      <td>367.183580</td>\n",
       "      <td>43.215421</td>\n",
       "      <td>43.317521</td>\n",
       "      <td>59.953668</td>\n",
       "      <td>334.375187</td>\n",
       "      <td>31.831100</td>\n",
       "      <td>42.374405</td>\n",
       "      <td>1.000000</td>\n",
       "      <td>0</td>\n",
       "      <td>333.814025</td>\n",
       "      <td>60.500639</td>\n",
       "      <td>32.520147</td>\n",
       "    </tr>\n",
       "    <tr>\n",
       "      <th>20</th>\n",
       "      <td>-0.866510</td>\n",
       "      <td>0.333281</td>\n",
       "      <td>0.033447</td>\n",
       "      <td>377.910795</td>\n",
       "      <td>43.252261</td>\n",
       "      <td>43.374732</td>\n",
       "      <td>61.511194</td>\n",
       "      <td>345.291282</td>\n",
       "      <td>32.852204</td>\n",
       "      <td>43.191924</td>\n",
       "      <td>1.000000</td>\n",
       "      <td>0</td>\n",
       "      <td>344.996506</td>\n",
       "      <td>61.970165</td>\n",
       "      <td>33.489755</td>\n",
       "    </tr>\n",
       "    <tr>\n",
       "      <th>21</th>\n",
       "      <td>-0.853927</td>\n",
       "      <td>0.347456</td>\n",
       "      <td>-0.041387</td>\n",
       "      <td>388.263826</td>\n",
       "      <td>43.298226</td>\n",
       "      <td>43.456214</td>\n",
       "      <td>63.064060</td>\n",
       "      <td>355.778210</td>\n",
       "      <td>33.931497</td>\n",
       "      <td>41.268657</td>\n",
       "      <td>1.000000</td>\n",
       "      <td>0</td>\n",
       "      <td>355.673394</td>\n",
       "      <td>63.489503</td>\n",
       "      <td>34.614652</td>\n",
       "    </tr>\n",
       "    <tr>\n",
       "      <th>22</th>\n",
       "      <td>-0.879092</td>\n",
       "      <td>0.399538</td>\n",
       "      <td>-0.038255</td>\n",
       "      <td>398.366974</td>\n",
       "      <td>43.327259</td>\n",
       "      <td>43.517159</td>\n",
       "      <td>64.605046</td>\n",
       "      <td>366.006126</td>\n",
       "      <td>35.056463</td>\n",
       "      <td>39.591127</td>\n",
       "      <td>1.000000</td>\n",
       "      <td>0</td>\n",
       "      <td>366.031031</td>\n",
       "      <td>65.049883</td>\n",
       "      <td>35.960493</td>\n",
       "    </tr>\n",
       "    <tr>\n",
       "      <th>23</th>\n",
       "      <td>-0.880685</td>\n",
       "      <td>0.345385</td>\n",
       "      <td>0.057364</td>\n",
       "      <td>408.147215</td>\n",
       "      <td>43.306029</td>\n",
       "      <td>43.537940</td>\n",
       "      <td>66.124507</td>\n",
       "      <td>375.953174</td>\n",
       "      <td>36.253602</td>\n",
       "      <td>38.836998</td>\n",
       "      <td>1.000000</td>\n",
       "      <td>0</td>\n",
       "      <td>375.990148</td>\n",
       "      <td>66.731774</td>\n",
       "      <td>37.994314</td>\n",
       "    </tr>\n",
       "    <tr>\n",
       "      <th>24</th>\n",
       "      <td>-0.897089</td>\n",
       "      <td>0.348889</td>\n",
       "      <td>-0.084782</td>\n",
       "      <td>417.544686</td>\n",
       "      <td>43.333090</td>\n",
       "      <td>43.590920</td>\n",
       "      <td>67.675247</td>\n",
       "      <td>385.606984</td>\n",
       "      <td>37.498681</td>\n",
       "      <td>36.460932</td>\n",
       "      <td>1.000000</td>\n",
       "      <td>0</td>\n",
       "      <td>385.527163</td>\n",
       "      <td>68.421722</td>\n",
       "      <td>40.135358</td>\n",
       "    </tr>\n",
       "    <tr>\n",
       "      <th>25</th>\n",
       "      <td>-0.836885</td>\n",
       "      <td>0.260494</td>\n",
       "      <td>0.093391</td>\n",
       "      <td>426.625765</td>\n",
       "      <td>43.360756</td>\n",
       "      <td>43.656307</td>\n",
       "      <td>69.239935</td>\n",
       "      <td>394.994871</td>\n",
       "      <td>38.778706</td>\n",
       "      <td>35.695762</td>\n",
       "      <td>1.000000</td>\n",
       "      <td>0</td>\n",
       "      <td>394.747855</td>\n",
       "      <td>70.021719</td>\n",
       "      <td>41.890863</td>\n",
       "    </tr>\n",
       "    <tr>\n",
       "      <th>26</th>\n",
       "      <td>-0.875110</td>\n",
       "      <td>0.327706</td>\n",
       "      <td>0.105684</td>\n",
       "      <td>435.351453</td>\n",
       "      <td>43.386441</td>\n",
       "      <td>43.706878</td>\n",
       "      <td>70.754259</td>\n",
       "      <td>404.150804</td>\n",
       "      <td>40.091677</td>\n",
       "      <td>35.222460</td>\n",
       "      <td>1.000000</td>\n",
       "      <td>0</td>\n",
       "      <td>403.551053</td>\n",
       "      <td>71.760059</td>\n",
       "      <td>44.012938</td>\n",
       "    </tr>\n",
       "    <tr>\n",
       "      <th>27</th>\n",
       "      <td>-0.841822</td>\n",
       "      <td>0.365294</td>\n",
       "      <td>0.006060</td>\n",
       "      <td>443.769175</td>\n",
       "      <td>43.391344</td>\n",
       "      <td>43.751547</td>\n",
       "      <td>72.244301</td>\n",
       "      <td>412.716180</td>\n",
       "      <td>41.440203</td>\n",
       "      <td>32.721851</td>\n",
       "      <td>1.000000</td>\n",
       "      <td>0</td>\n",
       "      <td>412.024871</td>\n",
       "      <td>73.539763</td>\n",
       "      <td>46.079195</td>\n",
       "    </tr>\n",
       "    <tr>\n",
       "      <th>28</th>\n",
       "      <td>-0.863961</td>\n",
       "      <td>0.301108</td>\n",
       "      <td>-0.027077</td>\n",
       "      <td>452.041760</td>\n",
       "      <td>43.366758</td>\n",
       "      <td>43.766050</td>\n",
       "      <td>73.740979</td>\n",
       "      <td>420.831405</td>\n",
       "      <td>42.803513</td>\n",
       "      <td>32.771209</td>\n",
       "      <td>1.000000</td>\n",
       "      <td>0</td>\n",
       "      <td>420.292212</td>\n",
       "      <td>75.657098</td>\n",
       "      <td>48.605212</td>\n",
       "    </tr>\n",
       "    <tr>\n",
       "      <th>29</th>\n",
       "      <td>-0.831470</td>\n",
       "      <td>0.315283</td>\n",
       "      <td>-0.057617</td>\n",
       "      <td>460.129637</td>\n",
       "      <td>43.386136</td>\n",
       "      <td>43.810975</td>\n",
       "      <td>75.142889</td>\n",
       "      <td>428.751141</td>\n",
       "      <td>44.201531</td>\n",
       "      <td>32.912379</td>\n",
       "      <td>1.000000</td>\n",
       "      <td>0</td>\n",
       "      <td>428.394582</td>\n",
       "      <td>77.768872</td>\n",
       "      <td>51.120737</td>\n",
       "    </tr>\n",
       "    <tr>\n",
       "      <th>30</th>\n",
       "      <td>-0.866669</td>\n",
       "      <td>0.317513</td>\n",
       "      <td>-0.063654</td>\n",
       "      <td>468.042537</td>\n",
       "      <td>43.442427</td>\n",
       "      <td>43.896001</td>\n",
       "      <td>76.484700</td>\n",
       "      <td>436.534841</td>\n",
       "      <td>45.653244</td>\n",
       "      <td>30.616895</td>\n",
       "      <td>1.000000</td>\n",
       "      <td>0</td>\n",
       "      <td>436.333030</td>\n",
       "      <td>79.811834</td>\n",
       "      <td>53.585070</td>\n",
       "    </tr>\n",
       "    <tr>\n",
       "      <th>31</th>\n",
       "      <td>-0.892949</td>\n",
       "      <td>0.357490</td>\n",
       "      <td>-0.026530</td>\n",
       "      <td>475.832442</td>\n",
       "      <td>43.445396</td>\n",
       "      <td>43.936497</td>\n",
       "      <td>77.824068</td>\n",
       "      <td>444.192828</td>\n",
       "      <td>47.148849</td>\n",
       "      <td>31.547766</td>\n",
       "      <td>1.000000</td>\n",
       "      <td>0</td>\n",
       "      <td>444.150698</td>\n",
       "      <td>81.819172</td>\n",
       "      <td>56.029389</td>\n",
       "    </tr>\n",
       "    <tr>\n",
       "      <th>32</th>\n",
       "      <td>-0.889126</td>\n",
       "      <td>0.342678</td>\n",
       "      <td>0.013125</td>\n",
       "      <td>483.379995</td>\n",
       "      <td>43.443987</td>\n",
       "      <td>43.964408</td>\n",
       "      <td>79.113017</td>\n",
       "      <td>451.587573</td>\n",
       "      <td>48.644389</td>\n",
       "      <td>30.085692</td>\n",
       "      <td>1.000000</td>\n",
       "      <td>0</td>\n",
       "      <td>451.724248</td>\n",
       "      <td>83.770422</td>\n",
       "      <td>58.417570</td>\n",
       "    </tr>\n",
       "    <tr>\n",
       "      <th>33</th>\n",
       "      <td>-0.878933</td>\n",
       "      <td>0.336307</td>\n",
       "      <td>-0.018261</td>\n",
       "      <td>490.785156</td>\n",
       "      <td>43.446971</td>\n",
       "      <td>43.998905</td>\n",
       "      <td>80.361731</td>\n",
       "      <td>458.823570</td>\n",
       "      <td>50.160637</td>\n",
       "      <td>28.714402</td>\n",
       "      <td>1.000000</td>\n",
       "      <td>0</td>\n",
       "      <td>454.504713</td>\n",
       "      <td>84.489666</td>\n",
       "      <td>59.299374</td>\n",
       "    </tr>\n",
       "    <tr>\n",
       "      <th>34</th>\n",
       "      <td>-0.871765</td>\n",
       "      <td>0.381699</td>\n",
       "      <td>0.034914</td>\n",
       "      <td>498.037638</td>\n",
       "      <td>43.463415</td>\n",
       "      <td>44.041528</td>\n",
       "      <td>81.557232</td>\n",
       "      <td>465.951693</td>\n",
       "      <td>51.702720</td>\n",
       "      <td>29.214250</td>\n",
       "      <td>0.733333</td>\n",
       "      <td>0</td>\n",
       "      <td>456.199753</td>\n",
       "      <td>84.929047</td>\n",
       "      <td>59.838246</td>\n",
       "    </tr>\n",
       "    <tr>\n",
       "      <th>35</th>\n",
       "      <td>-0.850423</td>\n",
       "      <td>0.322928</td>\n",
       "      <td>0.017875</td>\n",
       "      <td>501.159670</td>\n",
       "      <td>43.485546</td>\n",
       "      <td>44.093674</td>\n",
       "      <td>82.746777</td>\n",
       "      <td>472.446594</td>\n",
       "      <td>53.242745</td>\n",
       "      <td>-9.676658</td>\n",
       "      <td>0.000000</td>\n",
       "      <td>0</td>\n",
       "      <td>457.691653</td>\n",
       "      <td>85.316368</td>\n",
       "      <td>60.313348</td>\n",
       "    </tr>\n",
       "    <tr>\n",
       "      <th>36</th>\n",
       "      <td>2.932746</td>\n",
       "      <td>0.334396</td>\n",
       "      <td>17.638575</td>\n",
       "      <td>493.521444</td>\n",
       "      <td>43.508538</td>\n",
       "      <td>44.155147</td>\n",
       "      <td>85.925470</td>\n",
       "      <td>426.755827</td>\n",
       "      <td>57.135459</td>\n",
       "      <td>-40.958561</td>\n",
       "      <td>0.200000</td>\n",
       "      <td>0</td>\n",
       "      <td>458.494814</td>\n",
       "      <td>85.525118</td>\n",
       "      <td>60.569430</td>\n",
       "    </tr>\n",
       "    <tr>\n",
       "      <th>37</th>\n",
       "      <td>0.012986</td>\n",
       "      <td>0.364498</td>\n",
       "      <td>-17.239031</td>\n",
       "      <td>486.151469</td>\n",
       "      <td>43.523890</td>\n",
       "      <td>44.201068</td>\n",
       "      <td>88.189464</td>\n",
       "      <td>435.516602</td>\n",
       "      <td>57.614453</td>\n",
       "      <td>-5.871347</td>\n",
       "      <td>1.000000</td>\n",
       "      <td>0</td>\n",
       "      <td>459.152606</td>\n",
       "      <td>85.696209</td>\n",
       "      <td>60.779323</td>\n",
       "    </tr>\n",
       "    <tr>\n",
       "      <th>38</th>\n",
       "      <td>5.105365</td>\n",
       "      <td>0.339174</td>\n",
       "      <td>16.925127</td>\n",
       "      <td>490.129309</td>\n",
       "      <td>43.522768</td>\n",
       "      <td>44.242923</td>\n",
       "      <td>90.745827</td>\n",
       "      <td>403.905080</td>\n",
       "      <td>61.003790</td>\n",
       "      <td>24.327270</td>\n",
       "      <td>1.000000</td>\n",
       "      <td>0</td>\n",
       "      <td>461.896770</td>\n",
       "      <td>86.411166</td>\n",
       "      <td>61.656498</td>\n",
       "    </tr>\n",
       "    <tr>\n",
       "      <th>39</th>\n",
       "      <td>7.261260</td>\n",
       "      <td>0.343633</td>\n",
       "      <td>18.346526</td>\n",
       "      <td>497.395276</td>\n",
       "      <td>43.531673</td>\n",
       "      <td>44.283932</td>\n",
       "      <td>99.631442</td>\n",
       "      <td>430.789699</td>\n",
       "      <td>61.690536</td>\n",
       "      <td>31.426597</td>\n",
       "      <td>0.866667</td>\n",
       "      <td>0</td>\n",
       "      <td>464.466378</td>\n",
       "      <td>87.082402</td>\n",
       "      <td>62.480100</td>\n",
       "    </tr>\n",
       "    <tr>\n",
       "      <th>40</th>\n",
       "      <td>7.938800</td>\n",
       "      <td>0.348412</td>\n",
       "      <td>-2.577205</td>\n",
       "      <td>502.063936</td>\n",
       "      <td>43.537494</td>\n",
       "      <td>44.332135</td>\n",
       "      <td>107.516840</td>\n",
       "      <td>443.937514</td>\n",
       "      <td>62.774559</td>\n",
       "      <td>-2.366766</td>\n",
       "      <td>0.000000</td>\n",
       "      <td>0</td>\n",
       "      <td>465.501670</td>\n",
       "      <td>87.353322</td>\n",
       "      <td>62.812528</td>\n",
       "    </tr>\n",
       "    <tr>\n",
       "      <th>41</th>\n",
       "      <td>10.464683</td>\n",
       "      <td>0.344907</td>\n",
       "      <td>13.207855</td>\n",
       "      <td>496.084023</td>\n",
       "      <td>43.569597</td>\n",
       "      <td>44.404484</td>\n",
       "      <td>111.256509</td>\n",
       "      <td>444.695308</td>\n",
       "      <td>64.277765</td>\n",
       "      <td>-33.215737</td>\n",
       "      <td>0.000000</td>\n",
       "      <td>0</td>\n",
       "      <td>465.781099</td>\n",
       "      <td>87.426491</td>\n",
       "      <td>62.902310</td>\n",
       "    </tr>\n",
       "    <tr>\n",
       "      <th>42</th>\n",
       "      <td>11.993527</td>\n",
       "      <td>0.339014</td>\n",
       "      <td>5.120747</td>\n",
       "      <td>487.841205</td>\n",
       "      <td>43.575189</td>\n",
       "      <td>44.463339</td>\n",
       "      <td>115.226018</td>\n",
       "      <td>427.557597</td>\n",
       "      <td>65.508392</td>\n",
       "      <td>-22.067893</td>\n",
       "      <td>0.866667</td>\n",
       "      <td>0</td>\n",
       "      <td>466.425129</td>\n",
       "      <td>87.595208</td>\n",
       "      <td>63.109334</td>\n",
       "    </tr>\n",
       "    <tr>\n",
       "      <th>43</th>\n",
       "      <td>9.777587</td>\n",
       "      <td>0.341403</td>\n",
       "      <td>-5.798934</td>\n",
       "      <td>489.328552</td>\n",
       "      <td>43.564636</td>\n",
       "      <td>44.493766</td>\n",
       "      <td>117.837063</td>\n",
       "      <td>414.187101</td>\n",
       "      <td>66.908814</td>\n",
       "      <td>24.266088</td>\n",
       "      <td>1.000000</td>\n",
       "      <td>0</td>\n",
       "      <td>469.554984</td>\n",
       "      <td>88.416643</td>\n",
       "      <td>64.117263</td>\n",
       "    </tr>\n",
       "    <tr>\n",
       "      <th>44</th>\n",
       "      <td>-0.765213</td>\n",
       "      <td>0.338855</td>\n",
       "      <td>-45.614047</td>\n",
       "      <td>497.116577</td>\n",
       "      <td>43.583659</td>\n",
       "      <td>44.545552</td>\n",
       "      <td>111.568892</td>\n",
       "      <td>443.276123</td>\n",
       "      <td>67.360431</td>\n",
       "      <td>34.747316</td>\n",
       "      <td>1.000000</td>\n",
       "      <td>0</td>\n",
       "      <td>470.461432</td>\n",
       "      <td>88.655008</td>\n",
       "      <td>64.409729</td>\n",
       "    </tr>\n",
       "    <tr>\n",
       "      <th>45</th>\n",
       "      <td>-0.792926</td>\n",
       "      <td>0.348093</td>\n",
       "      <td>-0.097725</td>\n",
       "      <td>506.066492</td>\n",
       "      <td>43.619906</td>\n",
       "      <td>44.583567</td>\n",
       "      <td>102.479384</td>\n",
       "      <td>468.960370</td>\n",
       "      <td>68.463027</td>\n",
       "      <td>35.247443</td>\n",
       "      <td>1.000000</td>\n",
       "      <td>0</td>\n",
       "      <td>474.473185</td>\n",
       "      <td>89.712492</td>\n",
       "      <td>65.707049</td>\n",
       "    </tr>\n",
       "    <tr>\n",
       "      <th>46</th>\n",
       "      <td>-0.791015</td>\n",
       "      <td>0.341403</td>\n",
       "      <td>-0.004676</td>\n",
       "      <td>514.714583</td>\n",
       "      <td>43.634223</td>\n",
       "      <td>44.598901</td>\n",
       "      <td>97.864134</td>\n",
       "      <td>481.457294</td>\n",
       "      <td>69.671365</td>\n",
       "      <td>33.902015</td>\n",
       "      <td>1.000000</td>\n",
       "      <td>0</td>\n",
       "      <td>483.138998</td>\n",
       "      <td>92.010806</td>\n",
       "      <td>68.524774</td>\n",
       "    </tr>\n",
       "    <tr>\n",
       "      <th>47</th>\n",
       "      <td>-0.797545</td>\n",
       "      <td>0.342518</td>\n",
       "      <td>-0.017319</td>\n",
       "      <td>521.729451</td>\n",
       "      <td>43.637847</td>\n",
       "      <td>44.614706</td>\n",
       "      <td>95.803056</td>\n",
       "      <td>490.356453</td>\n",
       "      <td>70.866200</td>\n",
       "      <td>14.383460</td>\n",
       "      <td>0.400000</td>\n",
       "      <td>0</td>\n",
       "      <td>490.167557</td>\n",
       "      <td>93.888194</td>\n",
       "      <td>70.823630</td>\n",
       "    </tr>\n",
       "    <tr>\n",
       "      <th>48</th>\n",
       "      <td>-0.789741</td>\n",
       "      <td>0.314805</td>\n",
       "      <td>0.063823</td>\n",
       "      <td>522.371354</td>\n",
       "      <td>43.650986</td>\n",
       "      <td>44.635533</td>\n",
       "      <td>94.937555</td>\n",
       "      <td>495.404091</td>\n",
       "      <td>72.003536</td>\n",
       "      <td>8.649526</td>\n",
       "      <td>1.000000</td>\n",
       "      <td>0</td>\n",
       "      <td>490.810750</td>\n",
       "      <td>94.060522</td>\n",
       "      <td>71.034523</td>\n",
       "    </tr>\n",
       "    <tr>\n",
       "      <th>49</th>\n",
       "      <td>-0.776999</td>\n",
       "      <td>0.328821</td>\n",
       "      <td>-0.042774</td>\n",
       "      <td>528.108309</td>\n",
       "      <td>43.658120</td>\n",
       "      <td>44.646524</td>\n",
       "      <td>94.481645</td>\n",
       "      <td>498.096206</td>\n",
       "      <td>73.096852</td>\n",
       "      <td>28.760227</td>\n",
       "      <td>0.933333</td>\n",
       "      <td>0</td>\n",
       "      <td>496.559832</td>\n",
       "      <td>95.604112</td>\n",
       "      <td>72.922930</td>\n",
       "    </tr>\n",
       "    <tr>\n",
       "      <th>50</th>\n",
       "      <td>-0.803643</td>\n",
       "      <td>0.345499</td>\n",
       "      <td>-0.059769</td>\n",
       "      <td>533.143154</td>\n",
       "      <td>43.678734</td>\n",
       "      <td>44.679786</td>\n",
       "      <td>94.410259</td>\n",
       "      <td>501.751805</td>\n",
       "      <td>73.912094</td>\n",
       "      <td>21.557327</td>\n",
       "      <td>0.000000</td>\n",
       "      <td>0</td>\n",
       "      <td>501.606392</td>\n",
       "      <td>96.963047</td>\n",
       "      <td>74.585004</td>\n",
       "    </tr>\n",
       "  </tbody>\n",
       "</table>\n",
       "</div>"
      ],
      "text/plain": [
       "    Chamber Pressure [Bar]  N2 Pressure [Bar]  Leakage Rate [Bar/Min]  \\\n",
       "l                                                                       \n",
       "0                -0.791652           0.337262                0.030059   \n",
       "1                -0.852971           0.347775               -0.271953   \n",
       "2                -0.855042           0.326273               -0.101146   \n",
       "3                -0.872721           0.349845               -0.048577   \n",
       "4                -0.880207           0.338536               -0.016326   \n",
       "5                -0.855997           0.372621               -0.052246   \n",
       "6                -0.905372           0.359879               -0.018512   \n",
       "7                -0.923529           0.385203                0.010290   \n",
       "8                -0.870810           0.341244                0.071051   \n",
       "9                -0.861094           0.335351                0.004797   \n",
       "10               -0.901868           0.347934               -0.034234   \n",
       "11               -0.870650           0.327228               -0.019157   \n",
       "12               -0.901231           0.336466                0.038667   \n",
       "13               -0.876862           0.349686                0.024748   \n",
       "14               -0.872880           0.358127                0.011962   \n",
       "15               -0.861094           0.342359               -0.001627   \n",
       "16               -0.868898           0.345704                0.007357   \n",
       "17               -0.863802           0.348252                0.022046   \n",
       "18               -0.853608           0.326910               -0.018202   \n",
       "19               -0.872243           0.337900                0.001392   \n",
       "20               -0.866510           0.333281                0.033447   \n",
       "21               -0.853927           0.347456               -0.041387   \n",
       "22               -0.879092           0.399538               -0.038255   \n",
       "23               -0.880685           0.345385                0.057364   \n",
       "24               -0.897089           0.348889               -0.084782   \n",
       "25               -0.836885           0.260494                0.093391   \n",
       "26               -0.875110           0.327706                0.105684   \n",
       "27               -0.841822           0.365294                0.006060   \n",
       "28               -0.863961           0.301108               -0.027077   \n",
       "29               -0.831470           0.315283               -0.057617   \n",
       "30               -0.866669           0.317513               -0.063654   \n",
       "31               -0.892949           0.357490               -0.026530   \n",
       "32               -0.889126           0.342678                0.013125   \n",
       "33               -0.878933           0.336307               -0.018261   \n",
       "34               -0.871765           0.381699                0.034914   \n",
       "35               -0.850423           0.322928                0.017875   \n",
       "36                2.932746           0.334396               17.638575   \n",
       "37                0.012986           0.364498              -17.239031   \n",
       "38                5.105365           0.339174               16.925127   \n",
       "39                7.261260           0.343633               18.346526   \n",
       "40                7.938800           0.348412               -2.577205   \n",
       "41               10.464683           0.344907               13.207855   \n",
       "42               11.993527           0.339014                5.120747   \n",
       "43                9.777587           0.341403               -5.798934   \n",
       "44               -0.765213           0.338855              -45.614047   \n",
       "45               -0.792926           0.348093               -0.097725   \n",
       "46               -0.791015           0.341403               -0.004676   \n",
       "47               -0.797545           0.342518               -0.017319   \n",
       "48               -0.789741           0.314805                0.063823   \n",
       "49               -0.776999           0.328821               -0.042774   \n",
       "50               -0.803643           0.345499               -0.059769   \n",
       "\n",
       "    Wall Temp [C]  Coolant In Temp [C]  Coolant Out Temp [C]  \\\n",
       "l                                                              \n",
       "0       92.090600            42.197753             41.789748   \n",
       "1      112.446990            42.349838             41.989047   \n",
       "2      131.468867            42.449266             42.089212   \n",
       "3      149.477052            42.629572             42.282341   \n",
       "4      166.725910            42.661098             42.359541   \n",
       "5      183.292141            42.721148             42.429324   \n",
       "6      199.328164            42.828581             42.544988   \n",
       "7      214.651321            42.915705             42.661243   \n",
       "8      229.535968            42.969211             42.741089   \n",
       "9      243.936241            43.003175             42.807454   \n",
       "10     257.849531            43.002515             42.833937   \n",
       "11     271.408415            43.074070             42.919842   \n",
       "12     284.549424            43.155575             43.026405   \n",
       "13     297.257701            43.184338             43.091376   \n",
       "14     309.710620            43.161439             43.105957   \n",
       "15     321.801870            43.138108             43.115119   \n",
       "16     333.561218            43.168196             43.163562   \n",
       "17     345.081681            43.271169             43.284606   \n",
       "18     356.241575            43.272969             43.338205   \n",
       "19     367.183580            43.215421             43.317521   \n",
       "20     377.910795            43.252261             43.374732   \n",
       "21     388.263826            43.298226             43.456214   \n",
       "22     398.366974            43.327259             43.517159   \n",
       "23     408.147215            43.306029             43.537940   \n",
       "24     417.544686            43.333090             43.590920   \n",
       "25     426.625765            43.360756             43.656307   \n",
       "26     435.351453            43.386441             43.706878   \n",
       "27     443.769175            43.391344             43.751547   \n",
       "28     452.041760            43.366758             43.766050   \n",
       "29     460.129637            43.386136             43.810975   \n",
       "30     468.042537            43.442427             43.896001   \n",
       "31     475.832442            43.445396             43.936497   \n",
       "32     483.379995            43.443987             43.964408   \n",
       "33     490.785156            43.446971             43.998905   \n",
       "34     498.037638            43.463415             44.041528   \n",
       "35     501.159670            43.485546             44.093674   \n",
       "36     493.521444            43.508538             44.155147   \n",
       "37     486.151469            43.523890             44.201068   \n",
       "38     490.129309            43.522768             44.242923   \n",
       "39     497.395276            43.531673             44.283932   \n",
       "40     502.063936            43.537494             44.332135   \n",
       "41     496.084023            43.569597             44.404484   \n",
       "42     487.841205            43.575189             44.463339   \n",
       "43     489.328552            43.564636             44.493766   \n",
       "44     497.116577            43.583659             44.545552   \n",
       "45     506.066492            43.619906             44.583567   \n",
       "46     514.714583            43.634223             44.598901   \n",
       "47     521.729451            43.637847             44.614706   \n",
       "48     522.371354            43.650986             44.635533   \n",
       "49     528.108309            43.658120             44.646524   \n",
       "50     533.143154            43.678734             44.679786   \n",
       "\n",
       "    Injector Temp [C]  Internal Temp [C]  Pressure Temp [C]  \\\n",
       "l                                                             \n",
       "0           38.195120          49.175871          22.043673   \n",
       "1           38.775996          62.745649          22.163637   \n",
       "2           39.498604          78.120492          22.307517   \n",
       "3           40.269369          95.201154          22.486438   \n",
       "4           41.045489         113.105596          22.700287   \n",
       "5           41.895218         131.172650          22.948894   \n",
       "6           42.864974         149.075449          23.244626   \n",
       "7           43.924317         166.461806          23.581846   \n",
       "8           45.051823         183.677351          23.975569   \n",
       "9           46.172661         200.521371          24.431515   \n",
       "10          47.323805         216.691479          24.926638   \n",
       "11          48.537784         232.206868          25.474317   \n",
       "12          49.816825         246.956828          26.086834   \n",
       "13          51.152332         260.955112          26.742708   \n",
       "14          52.542856         274.436477          27.463988   \n",
       "15          53.967216         287.326927          28.224384   \n",
       "16          55.406638         299.686519          29.033908   \n",
       "17          56.879533         311.664498          29.898737   \n",
       "18          58.399180         323.169196          30.839111   \n",
       "19          59.953668         334.375187          31.831100   \n",
       "20          61.511194         345.291282          32.852204   \n",
       "21          63.064060         355.778210          33.931497   \n",
       "22          64.605046         366.006126          35.056463   \n",
       "23          66.124507         375.953174          36.253602   \n",
       "24          67.675247         385.606984          37.498681   \n",
       "25          69.239935         394.994871          38.778706   \n",
       "26          70.754259         404.150804          40.091677   \n",
       "27          72.244301         412.716180          41.440203   \n",
       "28          73.740979         420.831405          42.803513   \n",
       "29          75.142889         428.751141          44.201531   \n",
       "30          76.484700         436.534841          45.653244   \n",
       "31          77.824068         444.192828          47.148849   \n",
       "32          79.113017         451.587573          48.644389   \n",
       "33          80.361731         458.823570          50.160637   \n",
       "34          81.557232         465.951693          51.702720   \n",
       "35          82.746777         472.446594          53.242745   \n",
       "36          85.925470         426.755827          57.135459   \n",
       "37          88.189464         435.516602          57.614453   \n",
       "38          90.745827         403.905080          61.003790   \n",
       "39          99.631442         430.789699          61.690536   \n",
       "40         107.516840         443.937514          62.774559   \n",
       "41         111.256509         444.695308          64.277765   \n",
       "42         115.226018         427.557597          65.508392   \n",
       "43         117.837063         414.187101          66.908814   \n",
       "44         111.568892         443.276123          67.360431   \n",
       "45         102.479384         468.960370          68.463027   \n",
       "46          97.864134         481.457294          69.671365   \n",
       "47          95.803056         490.356453          70.866200   \n",
       "48          94.937555         495.404091          72.003536   \n",
       "49          94.481645         498.096206          73.096852   \n",
       "50          94.410259         501.751805          73.912094   \n",
       "\n",
       "    Rate of Temp Change [C/min]  Heater On  walllimit  LowessInternal  \\\n",
       "l                                                                       \n",
       "0                     84.143494   1.000000          0       34.683192   \n",
       "1                     78.654571   1.000000          0       56.916186   \n",
       "2                     73.254873   1.000000          0       77.697922   \n",
       "3                     70.810279   1.000000          0       97.371686   \n",
       "4                     68.214860   1.000000          0      116.208179   \n",
       "5                     63.788889   1.000000          0      134.285964   \n",
       "6                     64.296264   1.000000          0      151.768388   \n",
       "7                     60.896016   1.000000          0      168.455897   \n",
       "8                     58.331240   1.000000          0      184.649303   \n",
       "9                     57.313480   1.000000          0      200.303496   \n",
       "10                    54.683864   1.000000          0      215.425043   \n",
       "11                    53.629264   1.000000          0      230.175337   \n",
       "12                    53.148358   1.000000          0      244.515432   \n",
       "13                    49.422462   1.000000          0      258.415507   \n",
       "14                    49.219320   1.000000          0      272.061091   \n",
       "15                    48.988157   1.000000          0      285.255480   \n",
       "16                    45.422089   1.000000          0      298.034359   \n",
       "17                    46.597579   1.000000          0      310.413276   \n",
       "18                    44.483521   1.000000          0      322.272215   \n",
       "19                    42.374405   1.000000          0      333.814025   \n",
       "20                    43.191924   1.000000          0      344.996506   \n",
       "21                    41.268657   1.000000          0      355.673394   \n",
       "22                    39.591127   1.000000          0      366.031031   \n",
       "23                    38.836998   1.000000          0      375.990148   \n",
       "24                    36.460932   1.000000          0      385.527163   \n",
       "25                    35.695762   1.000000          0      394.747855   \n",
       "26                    35.222460   1.000000          0      403.551053   \n",
       "27                    32.721851   1.000000          0      412.024871   \n",
       "28                    32.771209   1.000000          0      420.292212   \n",
       "29                    32.912379   1.000000          0      428.394582   \n",
       "30                    30.616895   1.000000          0      436.333030   \n",
       "31                    31.547766   1.000000          0      444.150698   \n",
       "32                    30.085692   1.000000          0      451.724248   \n",
       "33                    28.714402   1.000000          0      454.504713   \n",
       "34                    29.214250   0.733333          0      456.199753   \n",
       "35                    -9.676658   0.000000          0      457.691653   \n",
       "36                   -40.958561   0.200000          0      458.494814   \n",
       "37                    -5.871347   1.000000          0      459.152606   \n",
       "38                    24.327270   1.000000          0      461.896770   \n",
       "39                    31.426597   0.866667          0      464.466378   \n",
       "40                    -2.366766   0.000000          0      465.501670   \n",
       "41                   -33.215737   0.000000          0      465.781099   \n",
       "42                   -22.067893   0.866667          0      466.425129   \n",
       "43                    24.266088   1.000000          0      469.554984   \n",
       "44                    34.747316   1.000000          0      470.461432   \n",
       "45                    35.247443   1.000000          0      474.473185   \n",
       "46                    33.902015   1.000000          0      483.138998   \n",
       "47                    14.383460   0.400000          0      490.167557   \n",
       "48                     8.649526   1.000000          0      490.810750   \n",
       "49                    28.760227   0.933333          0      496.559832   \n",
       "50                    21.557327   0.000000          0      501.606392   \n",
       "\n",
       "    LowessInjection  LowessPressure  \n",
       "l                                    \n",
       "0         35.179803       20.062270  \n",
       "1         36.787774       20.754071  \n",
       "2         38.313853       21.418405  \n",
       "3         39.779436       22.063511  \n",
       "4         41.201027       22.695624  \n",
       "5         42.580915       23.314759  \n",
       "6         43.927972       23.923917  \n",
       "7         45.223062       24.513392  \n",
       "8         46.485696       25.090993  \n",
       "9         47.708555       25.652350  \n",
       "10        48.889311       26.195664  \n",
       "11        50.044527       26.729920  \n",
       "12        51.197199       27.274093  \n",
       "13        52.412141       27.880277  \n",
       "14        53.663607       28.524751  \n",
       "15        54.957519       29.218820  \n",
       "16        56.273117       29.948358  \n",
       "17        57.655707       30.754614  \n",
       "18        59.073818       31.623008  \n",
       "19        60.500639       32.520147  \n",
       "20        61.970165       33.489755  \n",
       "21        63.489503       34.614652  \n",
       "22        65.049883       35.960493  \n",
       "23        66.731774       37.994314  \n",
       "24        68.421722       40.135358  \n",
       "25        70.021719       41.890863  \n",
       "26        71.760059       44.012938  \n",
       "27        73.539763       46.079195  \n",
       "28        75.657098       48.605212  \n",
       "29        77.768872       51.120737  \n",
       "30        79.811834       53.585070  \n",
       "31        81.819172       56.029389  \n",
       "32        83.770422       58.417570  \n",
       "33        84.489666       59.299374  \n",
       "34        84.929047       59.838246  \n",
       "35        85.316368       60.313348  \n",
       "36        85.525118       60.569430  \n",
       "37        85.696209       60.779323  \n",
       "38        86.411166       61.656498  \n",
       "39        87.082402       62.480100  \n",
       "40        87.353322       62.812528  \n",
       "41        87.426491       62.902310  \n",
       "42        87.595208       63.109334  \n",
       "43        88.416643       64.117263  \n",
       "44        88.655008       64.409729  \n",
       "45        89.712492       65.707049  \n",
       "46        92.010806       68.524774  \n",
       "47        93.888194       70.823630  \n",
       "48        94.060522       71.034523  \n",
       "49        95.604112       72.922930  \n",
       "50        96.963047       74.585004  "
      ]
     },
     "execution_count": 64,
     "metadata": {},
     "output_type": "execute_result"
    }
   ],
   "source": [
    "June18HeatingFilt[\"LowessInternal\"]=fig18li.data[1].y\n",
    "June18HeatingFilt[\"LowessInjection\"]=fig18linj.data[1].y\n",
    "June18HeatingFilt[\"LowessPressure\"]=fig18lp.data[1].y\n",
    "June18HeatingFilt"
   ]
  },
  {
   "cell_type": "code",
   "execution_count": 65,
   "id": "8975e0e3",
   "metadata": {},
   "outputs": [],
   "source": [
    "temp = [40, 60, 80, 100, 120, 140, 160, 180, 200, 220, 240, 260, 280, 300, 320, 340, 360, 380, 400, 420, 440, 460, 480, 500, 520]"
   ]
  },
  {
   "cell_type": "code",
   "execution_count": 66,
   "id": "5438f638",
   "metadata": {},
   "outputs": [],
   "source": [
    "for index, row in June13HeatingFilt.iterrows():\n",
    "    for te in temp:\n",
    "        if (row[\"Wall Temp [C]\"] <= te + 5) and (row[\"Wall Temp [C]\"] >= te - 5):\n",
    "            June13HeatingFilt.loc[index,\"walllimit\"] = te"
   ]
  },
  {
   "cell_type": "code",
   "execution_count": 67,
   "id": "24515bed",
   "metadata": {},
   "outputs": [],
   "source": [
    "for index, row in June14HeatingFilt.iterrows():\n",
    "    for te in temp:\n",
    "        if (row[\"Wall Temp [C]\"] <= te + 5) and (row[\"Wall Temp [C]\"] >= te - 5):\n",
    "            June14HeatingFilt.loc[index,\"walllimit\"] = te"
   ]
  },
  {
   "cell_type": "code",
   "execution_count": 68,
   "id": "74f39272",
   "metadata": {},
   "outputs": [],
   "source": [
    "for index, row in June17HeatingFilt.iterrows():\n",
    "    for te in temp:\n",
    "        if (row[\"Wall Temp [C]\"] <= te + 5) and (row[\"Wall Temp [C]\"] >= te - 5):\n",
    "            June17HeatingFilt.loc[index,\"walllimit\"] = te"
   ]
  },
  {
   "cell_type": "code",
   "execution_count": 69,
   "id": "3531005d",
   "metadata": {
    "scrolled": true
   },
   "outputs": [
    {
     "data": {
      "text/html": [
       "<div>\n",
       "<style scoped>\n",
       "    .dataframe tbody tr th:only-of-type {\n",
       "        vertical-align: middle;\n",
       "    }\n",
       "\n",
       "    .dataframe tbody tr th {\n",
       "        vertical-align: top;\n",
       "    }\n",
       "\n",
       "    .dataframe thead th {\n",
       "        text-align: right;\n",
       "    }\n",
       "</style>\n",
       "<table border=\"1\" class=\"dataframe\">\n",
       "  <thead>\n",
       "    <tr style=\"text-align: right;\">\n",
       "      <th></th>\n",
       "      <th>Chamber Pressure [Bar]</th>\n",
       "      <th>N2 Pressure [Bar]</th>\n",
       "      <th>Leakage Rate [Bar/Min]</th>\n",
       "      <th>Wall Temp [C]</th>\n",
       "      <th>Coolant In Temp [C]</th>\n",
       "      <th>Coolant Out Temp [C]</th>\n",
       "      <th>Injector Temp [C]</th>\n",
       "      <th>Internal Temp [C]</th>\n",
       "      <th>Pressure Temp [C]</th>\n",
       "      <th>Rate of Temp Change [C/min]</th>\n",
       "      <th>Heater On</th>\n",
       "      <th>walllimit</th>\n",
       "      <th>LowessInternal</th>\n",
       "      <th>LowessInjection</th>\n",
       "      <th>LowessPressure</th>\n",
       "    </tr>\n",
       "    <tr>\n",
       "      <th>l</th>\n",
       "      <th></th>\n",
       "      <th></th>\n",
       "      <th></th>\n",
       "      <th></th>\n",
       "      <th></th>\n",
       "      <th></th>\n",
       "      <th></th>\n",
       "      <th></th>\n",
       "      <th></th>\n",
       "      <th></th>\n",
       "      <th></th>\n",
       "      <th></th>\n",
       "      <th></th>\n",
       "      <th></th>\n",
       "      <th></th>\n",
       "    </tr>\n",
       "  </thead>\n",
       "  <tbody>\n",
       "    <tr>\n",
       "      <th>0</th>\n",
       "      <td>-0.791652</td>\n",
       "      <td>0.337262</td>\n",
       "      <td>0.030059</td>\n",
       "      <td>92.090600</td>\n",
       "      <td>42.197753</td>\n",
       "      <td>41.789748</td>\n",
       "      <td>38.195120</td>\n",
       "      <td>49.175871</td>\n",
       "      <td>22.043673</td>\n",
       "      <td>84.143494</td>\n",
       "      <td>1.000000</td>\n",
       "      <td>0</td>\n",
       "      <td>34.683192</td>\n",
       "      <td>35.179803</td>\n",
       "      <td>20.062270</td>\n",
       "    </tr>\n",
       "    <tr>\n",
       "      <th>1</th>\n",
       "      <td>-0.852971</td>\n",
       "      <td>0.347775</td>\n",
       "      <td>-0.271953</td>\n",
       "      <td>112.446990</td>\n",
       "      <td>42.349838</td>\n",
       "      <td>41.989047</td>\n",
       "      <td>38.775996</td>\n",
       "      <td>62.745649</td>\n",
       "      <td>22.163637</td>\n",
       "      <td>78.654571</td>\n",
       "      <td>1.000000</td>\n",
       "      <td>0</td>\n",
       "      <td>56.916186</td>\n",
       "      <td>36.787774</td>\n",
       "      <td>20.754071</td>\n",
       "    </tr>\n",
       "    <tr>\n",
       "      <th>2</th>\n",
       "      <td>-0.855042</td>\n",
       "      <td>0.326273</td>\n",
       "      <td>-0.101146</td>\n",
       "      <td>131.468867</td>\n",
       "      <td>42.449266</td>\n",
       "      <td>42.089212</td>\n",
       "      <td>39.498604</td>\n",
       "      <td>78.120492</td>\n",
       "      <td>22.307517</td>\n",
       "      <td>73.254873</td>\n",
       "      <td>1.000000</td>\n",
       "      <td>0</td>\n",
       "      <td>77.697922</td>\n",
       "      <td>38.313853</td>\n",
       "      <td>21.418405</td>\n",
       "    </tr>\n",
       "    <tr>\n",
       "      <th>3</th>\n",
       "      <td>-0.872721</td>\n",
       "      <td>0.349845</td>\n",
       "      <td>-0.048577</td>\n",
       "      <td>149.477052</td>\n",
       "      <td>42.629572</td>\n",
       "      <td>42.282341</td>\n",
       "      <td>40.269369</td>\n",
       "      <td>95.201154</td>\n",
       "      <td>22.486438</td>\n",
       "      <td>70.810279</td>\n",
       "      <td>1.000000</td>\n",
       "      <td>0</td>\n",
       "      <td>97.371686</td>\n",
       "      <td>39.779436</td>\n",
       "      <td>22.063511</td>\n",
       "    </tr>\n",
       "    <tr>\n",
       "      <th>4</th>\n",
       "      <td>-0.880207</td>\n",
       "      <td>0.338536</td>\n",
       "      <td>-0.016326</td>\n",
       "      <td>166.725910</td>\n",
       "      <td>42.661098</td>\n",
       "      <td>42.359541</td>\n",
       "      <td>41.045489</td>\n",
       "      <td>113.105596</td>\n",
       "      <td>22.700287</td>\n",
       "      <td>68.214860</td>\n",
       "      <td>1.000000</td>\n",
       "      <td>0</td>\n",
       "      <td>116.208179</td>\n",
       "      <td>41.201027</td>\n",
       "      <td>22.695624</td>\n",
       "    </tr>\n",
       "    <tr>\n",
       "      <th>5</th>\n",
       "      <td>-0.855997</td>\n",
       "      <td>0.372621</td>\n",
       "      <td>-0.052246</td>\n",
       "      <td>183.292141</td>\n",
       "      <td>42.721148</td>\n",
       "      <td>42.429324</td>\n",
       "      <td>41.895218</td>\n",
       "      <td>131.172650</td>\n",
       "      <td>22.948894</td>\n",
       "      <td>63.788889</td>\n",
       "      <td>1.000000</td>\n",
       "      <td>180</td>\n",
       "      <td>134.285964</td>\n",
       "      <td>42.580915</td>\n",
       "      <td>23.314759</td>\n",
       "    </tr>\n",
       "    <tr>\n",
       "      <th>6</th>\n",
       "      <td>-0.905372</td>\n",
       "      <td>0.359879</td>\n",
       "      <td>-0.018512</td>\n",
       "      <td>199.328164</td>\n",
       "      <td>42.828581</td>\n",
       "      <td>42.544988</td>\n",
       "      <td>42.864974</td>\n",
       "      <td>149.075449</td>\n",
       "      <td>23.244626</td>\n",
       "      <td>64.296264</td>\n",
       "      <td>1.000000</td>\n",
       "      <td>200</td>\n",
       "      <td>151.768388</td>\n",
       "      <td>43.927972</td>\n",
       "      <td>23.923917</td>\n",
       "    </tr>\n",
       "    <tr>\n",
       "      <th>7</th>\n",
       "      <td>-0.923529</td>\n",
       "      <td>0.385203</td>\n",
       "      <td>0.010290</td>\n",
       "      <td>214.651321</td>\n",
       "      <td>42.915705</td>\n",
       "      <td>42.661243</td>\n",
       "      <td>43.924317</td>\n",
       "      <td>166.461806</td>\n",
       "      <td>23.581846</td>\n",
       "      <td>60.896016</td>\n",
       "      <td>1.000000</td>\n",
       "      <td>0</td>\n",
       "      <td>168.455897</td>\n",
       "      <td>45.223062</td>\n",
       "      <td>24.513392</td>\n",
       "    </tr>\n",
       "    <tr>\n",
       "      <th>8</th>\n",
       "      <td>-0.870810</td>\n",
       "      <td>0.341244</td>\n",
       "      <td>0.071051</td>\n",
       "      <td>229.535968</td>\n",
       "      <td>42.969211</td>\n",
       "      <td>42.741089</td>\n",
       "      <td>45.051823</td>\n",
       "      <td>183.677351</td>\n",
       "      <td>23.975569</td>\n",
       "      <td>58.331240</td>\n",
       "      <td>1.000000</td>\n",
       "      <td>0</td>\n",
       "      <td>184.649303</td>\n",
       "      <td>46.485696</td>\n",
       "      <td>25.090993</td>\n",
       "    </tr>\n",
       "    <tr>\n",
       "      <th>9</th>\n",
       "      <td>-0.861094</td>\n",
       "      <td>0.335351</td>\n",
       "      <td>0.004797</td>\n",
       "      <td>243.936241</td>\n",
       "      <td>43.003175</td>\n",
       "      <td>42.807454</td>\n",
       "      <td>46.172661</td>\n",
       "      <td>200.521371</td>\n",
       "      <td>24.431515</td>\n",
       "      <td>57.313480</td>\n",
       "      <td>1.000000</td>\n",
       "      <td>240</td>\n",
       "      <td>200.303496</td>\n",
       "      <td>47.708555</td>\n",
       "      <td>25.652350</td>\n",
       "    </tr>\n",
       "    <tr>\n",
       "      <th>10</th>\n",
       "      <td>-0.901868</td>\n",
       "      <td>0.347934</td>\n",
       "      <td>-0.034234</td>\n",
       "      <td>257.849531</td>\n",
       "      <td>43.002515</td>\n",
       "      <td>42.833937</td>\n",
       "      <td>47.323805</td>\n",
       "      <td>216.691479</td>\n",
       "      <td>24.926638</td>\n",
       "      <td>54.683864</td>\n",
       "      <td>1.000000</td>\n",
       "      <td>260</td>\n",
       "      <td>215.425043</td>\n",
       "      <td>48.889311</td>\n",
       "      <td>26.195664</td>\n",
       "    </tr>\n",
       "    <tr>\n",
       "      <th>11</th>\n",
       "      <td>-0.870650</td>\n",
       "      <td>0.327228</td>\n",
       "      <td>-0.019157</td>\n",
       "      <td>271.408415</td>\n",
       "      <td>43.074070</td>\n",
       "      <td>42.919842</td>\n",
       "      <td>48.537784</td>\n",
       "      <td>232.206868</td>\n",
       "      <td>25.474317</td>\n",
       "      <td>53.629264</td>\n",
       "      <td>1.000000</td>\n",
       "      <td>0</td>\n",
       "      <td>230.175337</td>\n",
       "      <td>50.044527</td>\n",
       "      <td>26.729920</td>\n",
       "    </tr>\n",
       "    <tr>\n",
       "      <th>12</th>\n",
       "      <td>-0.901231</td>\n",
       "      <td>0.336466</td>\n",
       "      <td>0.038667</td>\n",
       "      <td>284.549424</td>\n",
       "      <td>43.155575</td>\n",
       "      <td>43.026405</td>\n",
       "      <td>49.816825</td>\n",
       "      <td>246.956828</td>\n",
       "      <td>26.086834</td>\n",
       "      <td>53.148358</td>\n",
       "      <td>1.000000</td>\n",
       "      <td>280</td>\n",
       "      <td>244.515432</td>\n",
       "      <td>51.197199</td>\n",
       "      <td>27.274093</td>\n",
       "    </tr>\n",
       "    <tr>\n",
       "      <th>13</th>\n",
       "      <td>-0.876862</td>\n",
       "      <td>0.349686</td>\n",
       "      <td>0.024748</td>\n",
       "      <td>297.257701</td>\n",
       "      <td>43.184338</td>\n",
       "      <td>43.091376</td>\n",
       "      <td>51.152332</td>\n",
       "      <td>260.955112</td>\n",
       "      <td>26.742708</td>\n",
       "      <td>49.422462</td>\n",
       "      <td>1.000000</td>\n",
       "      <td>300</td>\n",
       "      <td>258.415507</td>\n",
       "      <td>52.412141</td>\n",
       "      <td>27.880277</td>\n",
       "    </tr>\n",
       "    <tr>\n",
       "      <th>14</th>\n",
       "      <td>-0.872880</td>\n",
       "      <td>0.358127</td>\n",
       "      <td>0.011962</td>\n",
       "      <td>309.710620</td>\n",
       "      <td>43.161439</td>\n",
       "      <td>43.105957</td>\n",
       "      <td>52.542856</td>\n",
       "      <td>274.436477</td>\n",
       "      <td>27.463988</td>\n",
       "      <td>49.219320</td>\n",
       "      <td>1.000000</td>\n",
       "      <td>0</td>\n",
       "      <td>272.061091</td>\n",
       "      <td>53.663607</td>\n",
       "      <td>28.524751</td>\n",
       "    </tr>\n",
       "    <tr>\n",
       "      <th>15</th>\n",
       "      <td>-0.861094</td>\n",
       "      <td>0.342359</td>\n",
       "      <td>-0.001627</td>\n",
       "      <td>321.801870</td>\n",
       "      <td>43.138108</td>\n",
       "      <td>43.115119</td>\n",
       "      <td>53.967216</td>\n",
       "      <td>287.326927</td>\n",
       "      <td>28.224384</td>\n",
       "      <td>48.988157</td>\n",
       "      <td>1.000000</td>\n",
       "      <td>320</td>\n",
       "      <td>285.255480</td>\n",
       "      <td>54.957519</td>\n",
       "      <td>29.218820</td>\n",
       "    </tr>\n",
       "    <tr>\n",
       "      <th>16</th>\n",
       "      <td>-0.868898</td>\n",
       "      <td>0.345704</td>\n",
       "      <td>0.007357</td>\n",
       "      <td>333.561218</td>\n",
       "      <td>43.168196</td>\n",
       "      <td>43.163562</td>\n",
       "      <td>55.406638</td>\n",
       "      <td>299.686519</td>\n",
       "      <td>29.033908</td>\n",
       "      <td>45.422089</td>\n",
       "      <td>1.000000</td>\n",
       "      <td>0</td>\n",
       "      <td>298.034359</td>\n",
       "      <td>56.273117</td>\n",
       "      <td>29.948358</td>\n",
       "    </tr>\n",
       "    <tr>\n",
       "      <th>17</th>\n",
       "      <td>-0.863802</td>\n",
       "      <td>0.348252</td>\n",
       "      <td>0.022046</td>\n",
       "      <td>345.081681</td>\n",
       "      <td>43.271169</td>\n",
       "      <td>43.284606</td>\n",
       "      <td>56.879533</td>\n",
       "      <td>311.664498</td>\n",
       "      <td>29.898737</td>\n",
       "      <td>46.597579</td>\n",
       "      <td>1.000000</td>\n",
       "      <td>0</td>\n",
       "      <td>310.413276</td>\n",
       "      <td>57.655707</td>\n",
       "      <td>30.754614</td>\n",
       "    </tr>\n",
       "    <tr>\n",
       "      <th>18</th>\n",
       "      <td>-0.853608</td>\n",
       "      <td>0.326910</td>\n",
       "      <td>-0.018202</td>\n",
       "      <td>356.241575</td>\n",
       "      <td>43.272969</td>\n",
       "      <td>43.338205</td>\n",
       "      <td>58.399180</td>\n",
       "      <td>323.169196</td>\n",
       "      <td>30.839111</td>\n",
       "      <td>44.483521</td>\n",
       "      <td>1.000000</td>\n",
       "      <td>360</td>\n",
       "      <td>322.272215</td>\n",
       "      <td>59.073818</td>\n",
       "      <td>31.623008</td>\n",
       "    </tr>\n",
       "    <tr>\n",
       "      <th>19</th>\n",
       "      <td>-0.872243</td>\n",
       "      <td>0.337900</td>\n",
       "      <td>0.001392</td>\n",
       "      <td>367.183580</td>\n",
       "      <td>43.215421</td>\n",
       "      <td>43.317521</td>\n",
       "      <td>59.953668</td>\n",
       "      <td>334.375187</td>\n",
       "      <td>31.831100</td>\n",
       "      <td>42.374405</td>\n",
       "      <td>1.000000</td>\n",
       "      <td>0</td>\n",
       "      <td>333.814025</td>\n",
       "      <td>60.500639</td>\n",
       "      <td>32.520147</td>\n",
       "    </tr>\n",
       "    <tr>\n",
       "      <th>20</th>\n",
       "      <td>-0.866510</td>\n",
       "      <td>0.333281</td>\n",
       "      <td>0.033447</td>\n",
       "      <td>377.910795</td>\n",
       "      <td>43.252261</td>\n",
       "      <td>43.374732</td>\n",
       "      <td>61.511194</td>\n",
       "      <td>345.291282</td>\n",
       "      <td>32.852204</td>\n",
       "      <td>43.191924</td>\n",
       "      <td>1.000000</td>\n",
       "      <td>380</td>\n",
       "      <td>344.996506</td>\n",
       "      <td>61.970165</td>\n",
       "      <td>33.489755</td>\n",
       "    </tr>\n",
       "    <tr>\n",
       "      <th>21</th>\n",
       "      <td>-0.853927</td>\n",
       "      <td>0.347456</td>\n",
       "      <td>-0.041387</td>\n",
       "      <td>388.263826</td>\n",
       "      <td>43.298226</td>\n",
       "      <td>43.456214</td>\n",
       "      <td>63.064060</td>\n",
       "      <td>355.778210</td>\n",
       "      <td>33.931497</td>\n",
       "      <td>41.268657</td>\n",
       "      <td>1.000000</td>\n",
       "      <td>0</td>\n",
       "      <td>355.673394</td>\n",
       "      <td>63.489503</td>\n",
       "      <td>34.614652</td>\n",
       "    </tr>\n",
       "    <tr>\n",
       "      <th>22</th>\n",
       "      <td>-0.879092</td>\n",
       "      <td>0.399538</td>\n",
       "      <td>-0.038255</td>\n",
       "      <td>398.366974</td>\n",
       "      <td>43.327259</td>\n",
       "      <td>43.517159</td>\n",
       "      <td>64.605046</td>\n",
       "      <td>366.006126</td>\n",
       "      <td>35.056463</td>\n",
       "      <td>39.591127</td>\n",
       "      <td>1.000000</td>\n",
       "      <td>400</td>\n",
       "      <td>366.031031</td>\n",
       "      <td>65.049883</td>\n",
       "      <td>35.960493</td>\n",
       "    </tr>\n",
       "    <tr>\n",
       "      <th>23</th>\n",
       "      <td>-0.880685</td>\n",
       "      <td>0.345385</td>\n",
       "      <td>0.057364</td>\n",
       "      <td>408.147215</td>\n",
       "      <td>43.306029</td>\n",
       "      <td>43.537940</td>\n",
       "      <td>66.124507</td>\n",
       "      <td>375.953174</td>\n",
       "      <td>36.253602</td>\n",
       "      <td>38.836998</td>\n",
       "      <td>1.000000</td>\n",
       "      <td>0</td>\n",
       "      <td>375.990148</td>\n",
       "      <td>66.731774</td>\n",
       "      <td>37.994314</td>\n",
       "    </tr>\n",
       "    <tr>\n",
       "      <th>24</th>\n",
       "      <td>-0.897089</td>\n",
       "      <td>0.348889</td>\n",
       "      <td>-0.084782</td>\n",
       "      <td>417.544686</td>\n",
       "      <td>43.333090</td>\n",
       "      <td>43.590920</td>\n",
       "      <td>67.675247</td>\n",
       "      <td>385.606984</td>\n",
       "      <td>37.498681</td>\n",
       "      <td>36.460932</td>\n",
       "      <td>1.000000</td>\n",
       "      <td>420</td>\n",
       "      <td>385.527163</td>\n",
       "      <td>68.421722</td>\n",
       "      <td>40.135358</td>\n",
       "    </tr>\n",
       "    <tr>\n",
       "      <th>25</th>\n",
       "      <td>-0.836885</td>\n",
       "      <td>0.260494</td>\n",
       "      <td>0.093391</td>\n",
       "      <td>426.625765</td>\n",
       "      <td>43.360756</td>\n",
       "      <td>43.656307</td>\n",
       "      <td>69.239935</td>\n",
       "      <td>394.994871</td>\n",
       "      <td>38.778706</td>\n",
       "      <td>35.695762</td>\n",
       "      <td>1.000000</td>\n",
       "      <td>0</td>\n",
       "      <td>394.747855</td>\n",
       "      <td>70.021719</td>\n",
       "      <td>41.890863</td>\n",
       "    </tr>\n",
       "    <tr>\n",
       "      <th>26</th>\n",
       "      <td>-0.875110</td>\n",
       "      <td>0.327706</td>\n",
       "      <td>0.105684</td>\n",
       "      <td>435.351453</td>\n",
       "      <td>43.386441</td>\n",
       "      <td>43.706878</td>\n",
       "      <td>70.754259</td>\n",
       "      <td>404.150804</td>\n",
       "      <td>40.091677</td>\n",
       "      <td>35.222460</td>\n",
       "      <td>1.000000</td>\n",
       "      <td>440</td>\n",
       "      <td>403.551053</td>\n",
       "      <td>71.760059</td>\n",
       "      <td>44.012938</td>\n",
       "    </tr>\n",
       "    <tr>\n",
       "      <th>27</th>\n",
       "      <td>-0.841822</td>\n",
       "      <td>0.365294</td>\n",
       "      <td>0.006060</td>\n",
       "      <td>443.769175</td>\n",
       "      <td>43.391344</td>\n",
       "      <td>43.751547</td>\n",
       "      <td>72.244301</td>\n",
       "      <td>412.716180</td>\n",
       "      <td>41.440203</td>\n",
       "      <td>32.721851</td>\n",
       "      <td>1.000000</td>\n",
       "      <td>440</td>\n",
       "      <td>412.024871</td>\n",
       "      <td>73.539763</td>\n",
       "      <td>46.079195</td>\n",
       "    </tr>\n",
       "    <tr>\n",
       "      <th>28</th>\n",
       "      <td>-0.863961</td>\n",
       "      <td>0.301108</td>\n",
       "      <td>-0.027077</td>\n",
       "      <td>452.041760</td>\n",
       "      <td>43.366758</td>\n",
       "      <td>43.766050</td>\n",
       "      <td>73.740979</td>\n",
       "      <td>420.831405</td>\n",
       "      <td>42.803513</td>\n",
       "      <td>32.771209</td>\n",
       "      <td>1.000000</td>\n",
       "      <td>0</td>\n",
       "      <td>420.292212</td>\n",
       "      <td>75.657098</td>\n",
       "      <td>48.605212</td>\n",
       "    </tr>\n",
       "    <tr>\n",
       "      <th>29</th>\n",
       "      <td>-0.831470</td>\n",
       "      <td>0.315283</td>\n",
       "      <td>-0.057617</td>\n",
       "      <td>460.129637</td>\n",
       "      <td>43.386136</td>\n",
       "      <td>43.810975</td>\n",
       "      <td>75.142889</td>\n",
       "      <td>428.751141</td>\n",
       "      <td>44.201531</td>\n",
       "      <td>32.912379</td>\n",
       "      <td>1.000000</td>\n",
       "      <td>460</td>\n",
       "      <td>428.394582</td>\n",
       "      <td>77.768872</td>\n",
       "      <td>51.120737</td>\n",
       "    </tr>\n",
       "    <tr>\n",
       "      <th>30</th>\n",
       "      <td>-0.866669</td>\n",
       "      <td>0.317513</td>\n",
       "      <td>-0.063654</td>\n",
       "      <td>468.042537</td>\n",
       "      <td>43.442427</td>\n",
       "      <td>43.896001</td>\n",
       "      <td>76.484700</td>\n",
       "      <td>436.534841</td>\n",
       "      <td>45.653244</td>\n",
       "      <td>30.616895</td>\n",
       "      <td>1.000000</td>\n",
       "      <td>0</td>\n",
       "      <td>436.333030</td>\n",
       "      <td>79.811834</td>\n",
       "      <td>53.585070</td>\n",
       "    </tr>\n",
       "    <tr>\n",
       "      <th>31</th>\n",
       "      <td>-0.892949</td>\n",
       "      <td>0.357490</td>\n",
       "      <td>-0.026530</td>\n",
       "      <td>475.832442</td>\n",
       "      <td>43.445396</td>\n",
       "      <td>43.936497</td>\n",
       "      <td>77.824068</td>\n",
       "      <td>444.192828</td>\n",
       "      <td>47.148849</td>\n",
       "      <td>31.547766</td>\n",
       "      <td>1.000000</td>\n",
       "      <td>480</td>\n",
       "      <td>444.150698</td>\n",
       "      <td>81.819172</td>\n",
       "      <td>56.029389</td>\n",
       "    </tr>\n",
       "    <tr>\n",
       "      <th>32</th>\n",
       "      <td>-0.889126</td>\n",
       "      <td>0.342678</td>\n",
       "      <td>0.013125</td>\n",
       "      <td>483.379995</td>\n",
       "      <td>43.443987</td>\n",
       "      <td>43.964408</td>\n",
       "      <td>79.113017</td>\n",
       "      <td>451.587573</td>\n",
       "      <td>48.644389</td>\n",
       "      <td>30.085692</td>\n",
       "      <td>1.000000</td>\n",
       "      <td>480</td>\n",
       "      <td>451.724248</td>\n",
       "      <td>83.770422</td>\n",
       "      <td>58.417570</td>\n",
       "    </tr>\n",
       "    <tr>\n",
       "      <th>33</th>\n",
       "      <td>-0.878933</td>\n",
       "      <td>0.336307</td>\n",
       "      <td>-0.018261</td>\n",
       "      <td>490.785156</td>\n",
       "      <td>43.446971</td>\n",
       "      <td>43.998905</td>\n",
       "      <td>80.361731</td>\n",
       "      <td>458.823570</td>\n",
       "      <td>50.160637</td>\n",
       "      <td>28.714402</td>\n",
       "      <td>1.000000</td>\n",
       "      <td>0</td>\n",
       "      <td>454.504713</td>\n",
       "      <td>84.489666</td>\n",
       "      <td>59.299374</td>\n",
       "    </tr>\n",
       "    <tr>\n",
       "      <th>34</th>\n",
       "      <td>-0.871765</td>\n",
       "      <td>0.381699</td>\n",
       "      <td>0.034914</td>\n",
       "      <td>498.037638</td>\n",
       "      <td>43.463415</td>\n",
       "      <td>44.041528</td>\n",
       "      <td>81.557232</td>\n",
       "      <td>465.951693</td>\n",
       "      <td>51.702720</td>\n",
       "      <td>29.214250</td>\n",
       "      <td>0.733333</td>\n",
       "      <td>500</td>\n",
       "      <td>456.199753</td>\n",
       "      <td>84.929047</td>\n",
       "      <td>59.838246</td>\n",
       "    </tr>\n",
       "    <tr>\n",
       "      <th>35</th>\n",
       "      <td>-0.850423</td>\n",
       "      <td>0.322928</td>\n",
       "      <td>0.017875</td>\n",
       "      <td>501.159670</td>\n",
       "      <td>43.485546</td>\n",
       "      <td>44.093674</td>\n",
       "      <td>82.746777</td>\n",
       "      <td>472.446594</td>\n",
       "      <td>53.242745</td>\n",
       "      <td>-9.676658</td>\n",
       "      <td>0.000000</td>\n",
       "      <td>500</td>\n",
       "      <td>457.691653</td>\n",
       "      <td>85.316368</td>\n",
       "      <td>60.313348</td>\n",
       "    </tr>\n",
       "    <tr>\n",
       "      <th>36</th>\n",
       "      <td>2.932746</td>\n",
       "      <td>0.334396</td>\n",
       "      <td>17.638575</td>\n",
       "      <td>493.521444</td>\n",
       "      <td>43.508538</td>\n",
       "      <td>44.155147</td>\n",
       "      <td>85.925470</td>\n",
       "      <td>426.755827</td>\n",
       "      <td>57.135459</td>\n",
       "      <td>-40.958561</td>\n",
       "      <td>0.200000</td>\n",
       "      <td>0</td>\n",
       "      <td>458.494814</td>\n",
       "      <td>85.525118</td>\n",
       "      <td>60.569430</td>\n",
       "    </tr>\n",
       "    <tr>\n",
       "      <th>37</th>\n",
       "      <td>0.012986</td>\n",
       "      <td>0.364498</td>\n",
       "      <td>-17.239031</td>\n",
       "      <td>486.151469</td>\n",
       "      <td>43.523890</td>\n",
       "      <td>44.201068</td>\n",
       "      <td>88.189464</td>\n",
       "      <td>435.516602</td>\n",
       "      <td>57.614453</td>\n",
       "      <td>-5.871347</td>\n",
       "      <td>1.000000</td>\n",
       "      <td>0</td>\n",
       "      <td>459.152606</td>\n",
       "      <td>85.696209</td>\n",
       "      <td>60.779323</td>\n",
       "    </tr>\n",
       "    <tr>\n",
       "      <th>38</th>\n",
       "      <td>5.105365</td>\n",
       "      <td>0.339174</td>\n",
       "      <td>16.925127</td>\n",
       "      <td>490.129309</td>\n",
       "      <td>43.522768</td>\n",
       "      <td>44.242923</td>\n",
       "      <td>90.745827</td>\n",
       "      <td>403.905080</td>\n",
       "      <td>61.003790</td>\n",
       "      <td>24.327270</td>\n",
       "      <td>1.000000</td>\n",
       "      <td>0</td>\n",
       "      <td>461.896770</td>\n",
       "      <td>86.411166</td>\n",
       "      <td>61.656498</td>\n",
       "    </tr>\n",
       "    <tr>\n",
       "      <th>39</th>\n",
       "      <td>7.261260</td>\n",
       "      <td>0.343633</td>\n",
       "      <td>18.346526</td>\n",
       "      <td>497.395276</td>\n",
       "      <td>43.531673</td>\n",
       "      <td>44.283932</td>\n",
       "      <td>99.631442</td>\n",
       "      <td>430.789699</td>\n",
       "      <td>61.690536</td>\n",
       "      <td>31.426597</td>\n",
       "      <td>0.866667</td>\n",
       "      <td>500</td>\n",
       "      <td>464.466378</td>\n",
       "      <td>87.082402</td>\n",
       "      <td>62.480100</td>\n",
       "    </tr>\n",
       "    <tr>\n",
       "      <th>40</th>\n",
       "      <td>7.938800</td>\n",
       "      <td>0.348412</td>\n",
       "      <td>-2.577205</td>\n",
       "      <td>502.063936</td>\n",
       "      <td>43.537494</td>\n",
       "      <td>44.332135</td>\n",
       "      <td>107.516840</td>\n",
       "      <td>443.937514</td>\n",
       "      <td>62.774559</td>\n",
       "      <td>-2.366766</td>\n",
       "      <td>0.000000</td>\n",
       "      <td>500</td>\n",
       "      <td>465.501670</td>\n",
       "      <td>87.353322</td>\n",
       "      <td>62.812528</td>\n",
       "    </tr>\n",
       "    <tr>\n",
       "      <th>41</th>\n",
       "      <td>10.464683</td>\n",
       "      <td>0.344907</td>\n",
       "      <td>13.207855</td>\n",
       "      <td>496.084023</td>\n",
       "      <td>43.569597</td>\n",
       "      <td>44.404484</td>\n",
       "      <td>111.256509</td>\n",
       "      <td>444.695308</td>\n",
       "      <td>64.277765</td>\n",
       "      <td>-33.215737</td>\n",
       "      <td>0.000000</td>\n",
       "      <td>500</td>\n",
       "      <td>465.781099</td>\n",
       "      <td>87.426491</td>\n",
       "      <td>62.902310</td>\n",
       "    </tr>\n",
       "    <tr>\n",
       "      <th>42</th>\n",
       "      <td>11.993527</td>\n",
       "      <td>0.339014</td>\n",
       "      <td>5.120747</td>\n",
       "      <td>487.841205</td>\n",
       "      <td>43.575189</td>\n",
       "      <td>44.463339</td>\n",
       "      <td>115.226018</td>\n",
       "      <td>427.557597</td>\n",
       "      <td>65.508392</td>\n",
       "      <td>-22.067893</td>\n",
       "      <td>0.866667</td>\n",
       "      <td>0</td>\n",
       "      <td>466.425129</td>\n",
       "      <td>87.595208</td>\n",
       "      <td>63.109334</td>\n",
       "    </tr>\n",
       "    <tr>\n",
       "      <th>43</th>\n",
       "      <td>9.777587</td>\n",
       "      <td>0.341403</td>\n",
       "      <td>-5.798934</td>\n",
       "      <td>489.328552</td>\n",
       "      <td>43.564636</td>\n",
       "      <td>44.493766</td>\n",
       "      <td>117.837063</td>\n",
       "      <td>414.187101</td>\n",
       "      <td>66.908814</td>\n",
       "      <td>24.266088</td>\n",
       "      <td>1.000000</td>\n",
       "      <td>0</td>\n",
       "      <td>469.554984</td>\n",
       "      <td>88.416643</td>\n",
       "      <td>64.117263</td>\n",
       "    </tr>\n",
       "    <tr>\n",
       "      <th>44</th>\n",
       "      <td>-0.765213</td>\n",
       "      <td>0.338855</td>\n",
       "      <td>-45.614047</td>\n",
       "      <td>497.116577</td>\n",
       "      <td>43.583659</td>\n",
       "      <td>44.545552</td>\n",
       "      <td>111.568892</td>\n",
       "      <td>443.276123</td>\n",
       "      <td>67.360431</td>\n",
       "      <td>34.747316</td>\n",
       "      <td>1.000000</td>\n",
       "      <td>500</td>\n",
       "      <td>470.461432</td>\n",
       "      <td>88.655008</td>\n",
       "      <td>64.409729</td>\n",
       "    </tr>\n",
       "    <tr>\n",
       "      <th>45</th>\n",
       "      <td>-0.792926</td>\n",
       "      <td>0.348093</td>\n",
       "      <td>-0.097725</td>\n",
       "      <td>506.066492</td>\n",
       "      <td>43.619906</td>\n",
       "      <td>44.583567</td>\n",
       "      <td>102.479384</td>\n",
       "      <td>468.960370</td>\n",
       "      <td>68.463027</td>\n",
       "      <td>35.247443</td>\n",
       "      <td>1.000000</td>\n",
       "      <td>0</td>\n",
       "      <td>474.473185</td>\n",
       "      <td>89.712492</td>\n",
       "      <td>65.707049</td>\n",
       "    </tr>\n",
       "    <tr>\n",
       "      <th>46</th>\n",
       "      <td>-0.791015</td>\n",
       "      <td>0.341403</td>\n",
       "      <td>-0.004676</td>\n",
       "      <td>514.714583</td>\n",
       "      <td>43.634223</td>\n",
       "      <td>44.598901</td>\n",
       "      <td>97.864134</td>\n",
       "      <td>481.457294</td>\n",
       "      <td>69.671365</td>\n",
       "      <td>33.902015</td>\n",
       "      <td>1.000000</td>\n",
       "      <td>0</td>\n",
       "      <td>483.138998</td>\n",
       "      <td>92.010806</td>\n",
       "      <td>68.524774</td>\n",
       "    </tr>\n",
       "    <tr>\n",
       "      <th>47</th>\n",
       "      <td>-0.797545</td>\n",
       "      <td>0.342518</td>\n",
       "      <td>-0.017319</td>\n",
       "      <td>521.729451</td>\n",
       "      <td>43.637847</td>\n",
       "      <td>44.614706</td>\n",
       "      <td>95.803056</td>\n",
       "      <td>490.356453</td>\n",
       "      <td>70.866200</td>\n",
       "      <td>14.383460</td>\n",
       "      <td>0.400000</td>\n",
       "      <td>520</td>\n",
       "      <td>490.167557</td>\n",
       "      <td>93.888194</td>\n",
       "      <td>70.823630</td>\n",
       "    </tr>\n",
       "    <tr>\n",
       "      <th>48</th>\n",
       "      <td>-0.789741</td>\n",
       "      <td>0.314805</td>\n",
       "      <td>0.063823</td>\n",
       "      <td>522.371354</td>\n",
       "      <td>43.650986</td>\n",
       "      <td>44.635533</td>\n",
       "      <td>94.937555</td>\n",
       "      <td>495.404091</td>\n",
       "      <td>72.003536</td>\n",
       "      <td>8.649526</td>\n",
       "      <td>1.000000</td>\n",
       "      <td>520</td>\n",
       "      <td>490.810750</td>\n",
       "      <td>94.060522</td>\n",
       "      <td>71.034523</td>\n",
       "    </tr>\n",
       "    <tr>\n",
       "      <th>49</th>\n",
       "      <td>-0.776999</td>\n",
       "      <td>0.328821</td>\n",
       "      <td>-0.042774</td>\n",
       "      <td>528.108309</td>\n",
       "      <td>43.658120</td>\n",
       "      <td>44.646524</td>\n",
       "      <td>94.481645</td>\n",
       "      <td>498.096206</td>\n",
       "      <td>73.096852</td>\n",
       "      <td>28.760227</td>\n",
       "      <td>0.933333</td>\n",
       "      <td>0</td>\n",
       "      <td>496.559832</td>\n",
       "      <td>95.604112</td>\n",
       "      <td>72.922930</td>\n",
       "    </tr>\n",
       "    <tr>\n",
       "      <th>50</th>\n",
       "      <td>-0.803643</td>\n",
       "      <td>0.345499</td>\n",
       "      <td>-0.059769</td>\n",
       "      <td>533.143154</td>\n",
       "      <td>43.678734</td>\n",
       "      <td>44.679786</td>\n",
       "      <td>94.410259</td>\n",
       "      <td>501.751805</td>\n",
       "      <td>73.912094</td>\n",
       "      <td>21.557327</td>\n",
       "      <td>0.000000</td>\n",
       "      <td>0</td>\n",
       "      <td>501.606392</td>\n",
       "      <td>96.963047</td>\n",
       "      <td>74.585004</td>\n",
       "    </tr>\n",
       "  </tbody>\n",
       "</table>\n",
       "</div>"
      ],
      "text/plain": [
       "    Chamber Pressure [Bar]  N2 Pressure [Bar]  Leakage Rate [Bar/Min]  \\\n",
       "l                                                                       \n",
       "0                -0.791652           0.337262                0.030059   \n",
       "1                -0.852971           0.347775               -0.271953   \n",
       "2                -0.855042           0.326273               -0.101146   \n",
       "3                -0.872721           0.349845               -0.048577   \n",
       "4                -0.880207           0.338536               -0.016326   \n",
       "5                -0.855997           0.372621               -0.052246   \n",
       "6                -0.905372           0.359879               -0.018512   \n",
       "7                -0.923529           0.385203                0.010290   \n",
       "8                -0.870810           0.341244                0.071051   \n",
       "9                -0.861094           0.335351                0.004797   \n",
       "10               -0.901868           0.347934               -0.034234   \n",
       "11               -0.870650           0.327228               -0.019157   \n",
       "12               -0.901231           0.336466                0.038667   \n",
       "13               -0.876862           0.349686                0.024748   \n",
       "14               -0.872880           0.358127                0.011962   \n",
       "15               -0.861094           0.342359               -0.001627   \n",
       "16               -0.868898           0.345704                0.007357   \n",
       "17               -0.863802           0.348252                0.022046   \n",
       "18               -0.853608           0.326910               -0.018202   \n",
       "19               -0.872243           0.337900                0.001392   \n",
       "20               -0.866510           0.333281                0.033447   \n",
       "21               -0.853927           0.347456               -0.041387   \n",
       "22               -0.879092           0.399538               -0.038255   \n",
       "23               -0.880685           0.345385                0.057364   \n",
       "24               -0.897089           0.348889               -0.084782   \n",
       "25               -0.836885           0.260494                0.093391   \n",
       "26               -0.875110           0.327706                0.105684   \n",
       "27               -0.841822           0.365294                0.006060   \n",
       "28               -0.863961           0.301108               -0.027077   \n",
       "29               -0.831470           0.315283               -0.057617   \n",
       "30               -0.866669           0.317513               -0.063654   \n",
       "31               -0.892949           0.357490               -0.026530   \n",
       "32               -0.889126           0.342678                0.013125   \n",
       "33               -0.878933           0.336307               -0.018261   \n",
       "34               -0.871765           0.381699                0.034914   \n",
       "35               -0.850423           0.322928                0.017875   \n",
       "36                2.932746           0.334396               17.638575   \n",
       "37                0.012986           0.364498              -17.239031   \n",
       "38                5.105365           0.339174               16.925127   \n",
       "39                7.261260           0.343633               18.346526   \n",
       "40                7.938800           0.348412               -2.577205   \n",
       "41               10.464683           0.344907               13.207855   \n",
       "42               11.993527           0.339014                5.120747   \n",
       "43                9.777587           0.341403               -5.798934   \n",
       "44               -0.765213           0.338855              -45.614047   \n",
       "45               -0.792926           0.348093               -0.097725   \n",
       "46               -0.791015           0.341403               -0.004676   \n",
       "47               -0.797545           0.342518               -0.017319   \n",
       "48               -0.789741           0.314805                0.063823   \n",
       "49               -0.776999           0.328821               -0.042774   \n",
       "50               -0.803643           0.345499               -0.059769   \n",
       "\n",
       "    Wall Temp [C]  Coolant In Temp [C]  Coolant Out Temp [C]  \\\n",
       "l                                                              \n",
       "0       92.090600            42.197753             41.789748   \n",
       "1      112.446990            42.349838             41.989047   \n",
       "2      131.468867            42.449266             42.089212   \n",
       "3      149.477052            42.629572             42.282341   \n",
       "4      166.725910            42.661098             42.359541   \n",
       "5      183.292141            42.721148             42.429324   \n",
       "6      199.328164            42.828581             42.544988   \n",
       "7      214.651321            42.915705             42.661243   \n",
       "8      229.535968            42.969211             42.741089   \n",
       "9      243.936241            43.003175             42.807454   \n",
       "10     257.849531            43.002515             42.833937   \n",
       "11     271.408415            43.074070             42.919842   \n",
       "12     284.549424            43.155575             43.026405   \n",
       "13     297.257701            43.184338             43.091376   \n",
       "14     309.710620            43.161439             43.105957   \n",
       "15     321.801870            43.138108             43.115119   \n",
       "16     333.561218            43.168196             43.163562   \n",
       "17     345.081681            43.271169             43.284606   \n",
       "18     356.241575            43.272969             43.338205   \n",
       "19     367.183580            43.215421             43.317521   \n",
       "20     377.910795            43.252261             43.374732   \n",
       "21     388.263826            43.298226             43.456214   \n",
       "22     398.366974            43.327259             43.517159   \n",
       "23     408.147215            43.306029             43.537940   \n",
       "24     417.544686            43.333090             43.590920   \n",
       "25     426.625765            43.360756             43.656307   \n",
       "26     435.351453            43.386441             43.706878   \n",
       "27     443.769175            43.391344             43.751547   \n",
       "28     452.041760            43.366758             43.766050   \n",
       "29     460.129637            43.386136             43.810975   \n",
       "30     468.042537            43.442427             43.896001   \n",
       "31     475.832442            43.445396             43.936497   \n",
       "32     483.379995            43.443987             43.964408   \n",
       "33     490.785156            43.446971             43.998905   \n",
       "34     498.037638            43.463415             44.041528   \n",
       "35     501.159670            43.485546             44.093674   \n",
       "36     493.521444            43.508538             44.155147   \n",
       "37     486.151469            43.523890             44.201068   \n",
       "38     490.129309            43.522768             44.242923   \n",
       "39     497.395276            43.531673             44.283932   \n",
       "40     502.063936            43.537494             44.332135   \n",
       "41     496.084023            43.569597             44.404484   \n",
       "42     487.841205            43.575189             44.463339   \n",
       "43     489.328552            43.564636             44.493766   \n",
       "44     497.116577            43.583659             44.545552   \n",
       "45     506.066492            43.619906             44.583567   \n",
       "46     514.714583            43.634223             44.598901   \n",
       "47     521.729451            43.637847             44.614706   \n",
       "48     522.371354            43.650986             44.635533   \n",
       "49     528.108309            43.658120             44.646524   \n",
       "50     533.143154            43.678734             44.679786   \n",
       "\n",
       "    Injector Temp [C]  Internal Temp [C]  Pressure Temp [C]  \\\n",
       "l                                                             \n",
       "0           38.195120          49.175871          22.043673   \n",
       "1           38.775996          62.745649          22.163637   \n",
       "2           39.498604          78.120492          22.307517   \n",
       "3           40.269369          95.201154          22.486438   \n",
       "4           41.045489         113.105596          22.700287   \n",
       "5           41.895218         131.172650          22.948894   \n",
       "6           42.864974         149.075449          23.244626   \n",
       "7           43.924317         166.461806          23.581846   \n",
       "8           45.051823         183.677351          23.975569   \n",
       "9           46.172661         200.521371          24.431515   \n",
       "10          47.323805         216.691479          24.926638   \n",
       "11          48.537784         232.206868          25.474317   \n",
       "12          49.816825         246.956828          26.086834   \n",
       "13          51.152332         260.955112          26.742708   \n",
       "14          52.542856         274.436477          27.463988   \n",
       "15          53.967216         287.326927          28.224384   \n",
       "16          55.406638         299.686519          29.033908   \n",
       "17          56.879533         311.664498          29.898737   \n",
       "18          58.399180         323.169196          30.839111   \n",
       "19          59.953668         334.375187          31.831100   \n",
       "20          61.511194         345.291282          32.852204   \n",
       "21          63.064060         355.778210          33.931497   \n",
       "22          64.605046         366.006126          35.056463   \n",
       "23          66.124507         375.953174          36.253602   \n",
       "24          67.675247         385.606984          37.498681   \n",
       "25          69.239935         394.994871          38.778706   \n",
       "26          70.754259         404.150804          40.091677   \n",
       "27          72.244301         412.716180          41.440203   \n",
       "28          73.740979         420.831405          42.803513   \n",
       "29          75.142889         428.751141          44.201531   \n",
       "30          76.484700         436.534841          45.653244   \n",
       "31          77.824068         444.192828          47.148849   \n",
       "32          79.113017         451.587573          48.644389   \n",
       "33          80.361731         458.823570          50.160637   \n",
       "34          81.557232         465.951693          51.702720   \n",
       "35          82.746777         472.446594          53.242745   \n",
       "36          85.925470         426.755827          57.135459   \n",
       "37          88.189464         435.516602          57.614453   \n",
       "38          90.745827         403.905080          61.003790   \n",
       "39          99.631442         430.789699          61.690536   \n",
       "40         107.516840         443.937514          62.774559   \n",
       "41         111.256509         444.695308          64.277765   \n",
       "42         115.226018         427.557597          65.508392   \n",
       "43         117.837063         414.187101          66.908814   \n",
       "44         111.568892         443.276123          67.360431   \n",
       "45         102.479384         468.960370          68.463027   \n",
       "46          97.864134         481.457294          69.671365   \n",
       "47          95.803056         490.356453          70.866200   \n",
       "48          94.937555         495.404091          72.003536   \n",
       "49          94.481645         498.096206          73.096852   \n",
       "50          94.410259         501.751805          73.912094   \n",
       "\n",
       "    Rate of Temp Change [C/min]  Heater On  walllimit  LowessInternal  \\\n",
       "l                                                                       \n",
       "0                     84.143494   1.000000          0       34.683192   \n",
       "1                     78.654571   1.000000          0       56.916186   \n",
       "2                     73.254873   1.000000          0       77.697922   \n",
       "3                     70.810279   1.000000          0       97.371686   \n",
       "4                     68.214860   1.000000          0      116.208179   \n",
       "5                     63.788889   1.000000        180      134.285964   \n",
       "6                     64.296264   1.000000        200      151.768388   \n",
       "7                     60.896016   1.000000          0      168.455897   \n",
       "8                     58.331240   1.000000          0      184.649303   \n",
       "9                     57.313480   1.000000        240      200.303496   \n",
       "10                    54.683864   1.000000        260      215.425043   \n",
       "11                    53.629264   1.000000          0      230.175337   \n",
       "12                    53.148358   1.000000        280      244.515432   \n",
       "13                    49.422462   1.000000        300      258.415507   \n",
       "14                    49.219320   1.000000          0      272.061091   \n",
       "15                    48.988157   1.000000        320      285.255480   \n",
       "16                    45.422089   1.000000          0      298.034359   \n",
       "17                    46.597579   1.000000          0      310.413276   \n",
       "18                    44.483521   1.000000        360      322.272215   \n",
       "19                    42.374405   1.000000          0      333.814025   \n",
       "20                    43.191924   1.000000        380      344.996506   \n",
       "21                    41.268657   1.000000          0      355.673394   \n",
       "22                    39.591127   1.000000        400      366.031031   \n",
       "23                    38.836998   1.000000          0      375.990148   \n",
       "24                    36.460932   1.000000        420      385.527163   \n",
       "25                    35.695762   1.000000          0      394.747855   \n",
       "26                    35.222460   1.000000        440      403.551053   \n",
       "27                    32.721851   1.000000        440      412.024871   \n",
       "28                    32.771209   1.000000          0      420.292212   \n",
       "29                    32.912379   1.000000        460      428.394582   \n",
       "30                    30.616895   1.000000          0      436.333030   \n",
       "31                    31.547766   1.000000        480      444.150698   \n",
       "32                    30.085692   1.000000        480      451.724248   \n",
       "33                    28.714402   1.000000          0      454.504713   \n",
       "34                    29.214250   0.733333        500      456.199753   \n",
       "35                    -9.676658   0.000000        500      457.691653   \n",
       "36                   -40.958561   0.200000          0      458.494814   \n",
       "37                    -5.871347   1.000000          0      459.152606   \n",
       "38                    24.327270   1.000000          0      461.896770   \n",
       "39                    31.426597   0.866667        500      464.466378   \n",
       "40                    -2.366766   0.000000        500      465.501670   \n",
       "41                   -33.215737   0.000000        500      465.781099   \n",
       "42                   -22.067893   0.866667          0      466.425129   \n",
       "43                    24.266088   1.000000          0      469.554984   \n",
       "44                    34.747316   1.000000        500      470.461432   \n",
       "45                    35.247443   1.000000          0      474.473185   \n",
       "46                    33.902015   1.000000          0      483.138998   \n",
       "47                    14.383460   0.400000        520      490.167557   \n",
       "48                     8.649526   1.000000        520      490.810750   \n",
       "49                    28.760227   0.933333          0      496.559832   \n",
       "50                    21.557327   0.000000          0      501.606392   \n",
       "\n",
       "    LowessInjection  LowessPressure  \n",
       "l                                    \n",
       "0         35.179803       20.062270  \n",
       "1         36.787774       20.754071  \n",
       "2         38.313853       21.418405  \n",
       "3         39.779436       22.063511  \n",
       "4         41.201027       22.695624  \n",
       "5         42.580915       23.314759  \n",
       "6         43.927972       23.923917  \n",
       "7         45.223062       24.513392  \n",
       "8         46.485696       25.090993  \n",
       "9         47.708555       25.652350  \n",
       "10        48.889311       26.195664  \n",
       "11        50.044527       26.729920  \n",
       "12        51.197199       27.274093  \n",
       "13        52.412141       27.880277  \n",
       "14        53.663607       28.524751  \n",
       "15        54.957519       29.218820  \n",
       "16        56.273117       29.948358  \n",
       "17        57.655707       30.754614  \n",
       "18        59.073818       31.623008  \n",
       "19        60.500639       32.520147  \n",
       "20        61.970165       33.489755  \n",
       "21        63.489503       34.614652  \n",
       "22        65.049883       35.960493  \n",
       "23        66.731774       37.994314  \n",
       "24        68.421722       40.135358  \n",
       "25        70.021719       41.890863  \n",
       "26        71.760059       44.012938  \n",
       "27        73.539763       46.079195  \n",
       "28        75.657098       48.605212  \n",
       "29        77.768872       51.120737  \n",
       "30        79.811834       53.585070  \n",
       "31        81.819172       56.029389  \n",
       "32        83.770422       58.417570  \n",
       "33        84.489666       59.299374  \n",
       "34        84.929047       59.838246  \n",
       "35        85.316368       60.313348  \n",
       "36        85.525118       60.569430  \n",
       "37        85.696209       60.779323  \n",
       "38        86.411166       61.656498  \n",
       "39        87.082402       62.480100  \n",
       "40        87.353322       62.812528  \n",
       "41        87.426491       62.902310  \n",
       "42        87.595208       63.109334  \n",
       "43        88.416643       64.117263  \n",
       "44        88.655008       64.409729  \n",
       "45        89.712492       65.707049  \n",
       "46        92.010806       68.524774  \n",
       "47        93.888194       70.823630  \n",
       "48        94.060522       71.034523  \n",
       "49        95.604112       72.922930  \n",
       "50        96.963047       74.585004  "
      ]
     },
     "execution_count": 69,
     "metadata": {},
     "output_type": "execute_result"
    }
   ],
   "source": [
    "for index, row in June18HeatingFilt.iterrows():\n",
    "    for te in temp:\n",
    "        if (row[\"Wall Temp [C]\"] <= te + 5) and (row[\"Wall Temp [C]\"] >= te - 5):\n",
    "            June18HeatingFilt.loc[index,\"walllimit\"] = te\n",
    "June18HeatingFilt"
   ]
  },
  {
   "cell_type": "code",
   "execution_count": 70,
   "id": "d7a8342a",
   "metadata": {},
   "outputs": [],
   "source": [
    "li = []\n",
    "linj = []\n",
    "lp = []\n",
    "for te in temp:\n",
    "    sumsli = 0\n",
    "    ili = 0\n",
    "    sumslinj = 0\n",
    "    ilinj = 0\n",
    "    sumslp = 0\n",
    "    ilp = 0\n",
    "    for index13, row13 in June13HeatingFilt.iterrows():\n",
    "        if row13[\"walllimit\"] == te:\n",
    "            sumsli += row13[\"LowessInternal\"]\n",
    "            ili += 1\n",
    "            sumslinj += row13[\"LowessInjection\"]\n",
    "            ilinj += 1\n",
    "    for index14, row14 in June14HeatingFilt.iterrows():\n",
    "        if row14[\"walllimit\"] == te:\n",
    "            sumsli += row14[\"LowessInternal\"]\n",
    "            ili += 1\n",
    "            sumslinj += row14[\"LowessInjection\"]\n",
    "            ilinj += 1\n",
    "            sumslp += row14[\"LowessPressure\"]\n",
    "            ilp += 1\n",
    "    for index17, row17 in June17HeatingFilt.iterrows():\n",
    "        if row17[\"walllimit\"] == te:\n",
    "            sumsli += row17[\"LowessInternal\"]\n",
    "            ili += 1\n",
    "            sumslinj += row17[\"LowessInjection\"]\n",
    "            ilinj += 1\n",
    "            sumslp += row17[\"LowessPressure\"]\n",
    "            ilp += 1\n",
    "    for index18, row18 in June18HeatingFilt.iterrows():\n",
    "        if row18[\"walllimit\"] == te:\n",
    "            sumsli += row18[\"LowessInternal\"]\n",
    "            ili += 1\n",
    "            sumslinj += row18[\"LowessInjection\"]\n",
    "            ilinj += 1\n",
    "            sumslp += row18[\"LowessPressure\"]\n",
    "            ilp += 1\n",
    "    li.append(sumsli/ili)\n",
    "    linj.append(sumslinj/ilinj)\n",
    "    lp.append(sumslp/ilp)          "
   ]
  },
  {
   "cell_type": "code",
   "execution_count": 71,
   "id": "cdc326f9",
   "metadata": {},
   "outputs": [
    {
     "data": {
      "text/plain": [
       "[31.76911035115154,\n",
       " 50.9203037529892,\n",
       " 69.68263763394607,\n",
       " 89.37362399109033,\n",
       " 110.5009425057507,\n",
       " 125.17223606321944,\n",
       " 139.72093554082696,\n",
       " 153.95595040150843,\n",
       " 177.53373129926516,\n",
       " 193.54762305321907,\n",
       " 218.36073922514643,\n",
       " 229.9975655257628,\n",
       " 250.37801560129174,\n",
       " 270.12212222391594,\n",
       " 289.8916726385383,\n",
       " 315.6938225397675,\n",
       " 328.5227919255123,\n",
       " 350.1236423526086,\n",
       " 370.36922570759987,\n",
       " 391.7334749025742,\n",
       " 410.92503527171453,\n",
       " 426.1665527289138,\n",
       " 446.0326430828377,\n",
       " 463.8056752153052,\n",
       " 490.4891536126583]"
      ]
     },
     "execution_count": 71,
     "metadata": {},
     "output_type": "execute_result"
    }
   ],
   "source": [
    "li"
   ]
  },
  {
   "cell_type": "code",
   "execution_count": 72,
   "id": "6861fe6a",
   "metadata": {},
   "outputs": [
    {
     "data": {
      "text/plain": [
       "[32.54968739239515,\n",
       " 41.603281070566226,\n",
       " 44.73900555713787,\n",
       " 50.283276428707346,\n",
       " 55.03749815395491,\n",
       " 58.045427344976815,\n",
       " 59.14703686901151,\n",
       " 60.94405569116223,\n",
       " 64.26803548830792,\n",
       " 68.23313346427415,\n",
       " 69.43598393133774,\n",
       " 65.83359156279762,\n",
       " 73.44437541879181,\n",
       " 76.24031046395159,\n",
       " 78.31986898413467,\n",
       " 83.8305150328507,\n",
       " 82.89821360743169,\n",
       " 85.65425953813445,\n",
       " 88.45901935978124,\n",
       " 90.15952205076302,\n",
       " 90.01865161636184,\n",
       " 92.07135553354496,\n",
       " 95.00841539289519,\n",
       " 98.18106242540937,\n",
       " 93.97435792561319]"
      ]
     },
     "execution_count": 72,
     "metadata": {},
     "output_type": "execute_result"
    }
   ],
   "source": [
    "linj"
   ]
  },
  {
   "cell_type": "code",
   "execution_count": 73,
   "id": "d4d1986e",
   "metadata": {},
   "outputs": [
    {
     "data": {
      "text/plain": [
       "[20.66316002202136,\n",
       " 21.704507911816904,\n",
       " 23.55958515745313,\n",
       " 24.53085330117462,\n",
       " 26.00657170272055,\n",
       " 25.9961774585485,\n",
       " 28.746124642996794,\n",
       " 28.891905886442753,\n",
       " 32.6729775333772,\n",
       " 33.640932577697754,\n",
       " 36.09909401048281,\n",
       " 37.61003761660649,\n",
       " 34.09206607705012,\n",
       " 44.3739609460985,\n",
       " 41.74423572547411,\n",
       " 53.674256450017296,\n",
       " 49.10932181491012,\n",
       " 51.96848223652985,\n",
       " 51.92785841367101,\n",
       " 40.53070975625863,\n",
       " 44.409779099512754,\n",
       " 48.708215932754996,\n",
       " 53.029473784383,\n",
       " 56.352139586662744,\n",
       " 70.92907642327734]"
      ]
     },
     "execution_count": 73,
     "metadata": {},
     "output_type": "execute_result"
    }
   ],
   "source": [
    "lp"
   ]
  },
  {
   "cell_type": "code",
   "execution_count": 74,
   "id": "162d3146",
   "metadata": {},
   "outputs": [],
   "source": [
    "LowessTable = pd.DataFrame()\n",
    "LowessTable[\"Wall Temp [C]\"] = temp\n",
    "LowessTable[\"Lowess Internal Temp [C]\"] = li\n",
    "LowessTable[\"Lowess Injector Temp [C]\"] = linj\n",
    "LowessTable[\"Lowess Pressure Temp [C]\"] = lp"
   ]
  },
  {
   "cell_type": "code",
   "execution_count": 75,
   "id": "0ff44aa2",
   "metadata": {
    "collapsed": true
   },
   "outputs": [
    {
     "data": {
      "application/vnd.plotly.v1+json": {
       "config": {
        "plotlyServerURL": "https://plot.ly"
       },
       "data": [
        {
         "hovertemplate": "Wall Temp [C]=%{x}<br>Internal Temp [C]=%{y}<extra></extra>",
         "legendgroup": "",
         "marker": {
          "color": "#636efa",
          "symbol": "circle"
         },
         "mode": "markers",
         "name": "",
         "orientation": "v",
         "showlegend": false,
         "type": "scatter",
         "x": [
          37.936658732,
          42.162820944,
          46.28365529333333,
          50.23250757866666,
          53.072574870000004,
          53.73418909666667,
          53.38839594533333,
          52.69496587066667,
          51.89735310933334,
          51.097363535333336,
          50.33091761266667,
          49.619586946,
          48.96737594533333,
          48.37149251266667,
          47.82705230733333,
          47.38870544466667,
          48.403775024,
          51.31631927533333,
          54.95414784733334,
          58.769373574,
          62.612107339333335,
          66.34525909466667,
          69.94764505933334,
          73.44428711,
          76.58593749933334,
          77.78141377799999,
          77.39773915666666,
          76.48136291466668,
          75.40409088333334,
          74.32373097733333,
          73.285147094,
          72.31788381066667,
          72.28470560733334,
          74.380471802,
          77.424790446,
          80.77447102866667,
          84.12042744933333,
          87.42931264399999,
          90.616914876,
          93.71312764533333,
          96.71023915399999,
          99.59747466666666,
          101.69759978666666,
          101.69849091333334,
          100.68917897333333,
          99.38529663,
          98.03680572466666,
          96.71703745533334,
          95.47084961066666,
          94.56482747333332,
          95.63070577066667,
          98.10348510733334,
          101.02863923333332,
          104.04894713333333,
          107.01934967333334,
          109.90486959333333,
          112.67830404666667,
          115.35478159333334,
          117.94343668,
          120.43361511333335,
          122.83894704666666,
          125.14168294,
          126.32611998666667,
          125.61161092666666,
          124.21960958,
          122.66426188,
          121.1275945,
          120.78242899333333,
          122.34602304666667,
          124.61357167999999,
          127.07220764666667,
          129.55850729333332,
          131.99114481333334,
          134.35472208666667,
          136.6536021,
          138.89780680666667,
          141.06992492,
          143.17489726,
          145.22198078666668,
          147.21736348666667,
          149.17371724666666,
          150.81293945333334,
          150.56048381333332,
          149.06779684666665,
          147.24144695333334,
          145.60103149333332,
          145.76763813333335,
          147.35912475333333,
          149.38426309999997,
          151.4953959133333,
          153.60691427333333,
          155.678302,
          158.21375731999998,
          163.3840413466667,
          170.49338988666665,
          177.60756736,
          180.09998982666667,
          178.83618468666666,
          176.5200063,
          174.0217763266667,
          171.56173605333333,
          169.99363505333335,
          173.48509216,
          180.07751465333334,
          187.48060506000002,
          194.89450987333333,
          201.82211913999998,
          204.39432068,
          202.74364624666666,
          199.94554952,
          196.96112772666666,
          194.20840861333332,
          195.25118102,
          200.80799154666664,
          207.62539978,
          214.65490315333332,
          221.54709982,
          228.15647380000001,
          234.52525839333333,
          240.70530804,
          246.6398997,
          251.79655661333334,
          251.80710855333334,
          248.36025695333333,
          244.24233500666665,
          241.11766866000002,
          243.47888591333333,
          248.86098938666666,
          254.87308044000002,
          260.85932210666664,
          266.76707966,
          272.39496866666667,
          277.8478800533333,
          283.14185386,
          288.27877400666665,
          293.1874430266667,
          298.0066772466667,
          301.65832723333335,
          299.58254394,
          294.91954754,
          291.47357380666665,
          293.87446697999997,
          298.61409912,
          303.77722778000003,
          308.92639364,
          313.9045450866667,
          318.7158365866666,
          323.37236734666664,
          327.8548299066667,
          332.20656942666665,
          336.43219604,
          340.5258341466667,
          344.5156860466667,
          348.4079020333333,
          351.0204671266667,
          347.73845824,
          342.1583190933333,
          337.68239745333335,
          339.2859659933334,
          343.49397176,
          348.0752014333333,
          352.6293355466667,
          357.0418782666667,
          361.26319174,
          365.3164306666667,
          369.2035237666667,
          372.9926005133333,
          376.6303934733333,
          380.1442098,
          383.5638956666666,
          386.88909911999997,
          390.1196370466667,
          393.25263061333334,
          396.28899128666666,
          399.2172444733333,
          400.17425128,
          395.3512166333333,
          393.06444905999996,
          395.4957946733333,
          398.80221353999997,
          402.1569336,
          405.4047587066667,
          408.52013955999996,
          411.50430093999995,
          414.34582723333335,
          417.07156778666666,
          419.6786905866667,
          422.20780028,
          424.64238282,
          427.02154744666666,
          429.32284343333333,
          431.5672383533334,
          433.7736857,
          435.9054931666667,
          438.00501912666664,
          440.05637004666664,
          442.0463175533333,
          444.0015299533333,
          445.90320842,
          447.78952841333336,
          449.62170208000003,
          450.4697266
         ],
         "xaxis": "x",
         "y": [
          33.461890792,
          37.079371134666665,
          40.10940195733333,
          42.42302296933334,
          44.328654734,
          45.41338704466667,
          45.812302908,
          45.99679718066667,
          46.15559514466667,
          46.298280334666664,
          46.389177702,
          46.40942255733333,
          46.371115620666664,
          46.291965739333335,
          46.180028533333335,
          46.038119507333334,
          46.156172688,
          47.233076986,
          49.011576080000005,
          51.07084503066667,
          53.18660431,
          55.34730656866667,
          57.55947138466667,
          59.954953255999996,
          62.620450084000005,
          65.22072753866667,
          67.11244354133333,
          68.28482106599999,
          68.96244812,
          69.29748331733335,
          69.402759298,
          69.34409942666666,
          69.21677856533333,
          69.401020814,
          70.21259002666667,
          71.635976664,
          73.50895283999999,
          75.713385518,
          78.144823202,
          80.72121785533334,
          83.38109436066667,
          86.05120086733334,
          88.67426503466666,
          90.86480560466666,
          92.33621877,
          93.19613494933333,
          93.61409199866667,
          93.73801320333334,
          93.65929107533334,
          93.33985239733333,
          92.95173441466666,
          92.78349711066667,
          93.35990905733334,
          94.65904998733335,
          96.55325927666667,
          99.17316945866666,
          101.58799388666667,
          103.84772440666667,
          105.77280425333333,
          107.50843759333334,
          109.46089375333332,
          111.63051554666666,
          113.91163329999999,
          116.05838468666667,
          117.35832571333334,
          117.63575338000001,
          117.29605916,
          116.77936909333333,
          116.55489705333333,
          116.91942036666666,
          117.53614655333334,
          118.84269256666667,
          120.46221568000001,
          122.37023621333333,
          124.65605062,
          127.04367676,
          128.57867585333332,
          130.28341675333334,
          132.79837544666668,
          135.11488137333333,
          137.13544921333332,
          138.67612608,
          140.39812622666665,
          141.58308616000002,
          141.92666422666667,
          141.62939862,
          140.93362833999998,
          140.69639180000001,
          141.33749287999999,
          142.04625142,
          143.21452128,
          144.70824076,
          146.12049458,
          148.45873106666667,
          152.0497782333333,
          156.35374654,
          160.53605448000002,
          164.08776448666669,
          166.03611042666665,
          166.61607258666666,
          165.88534849333334,
          165.08550008,
          164.02509765333335,
          165.62192891333333,
          169.04738056666665,
          173.76475829333333,
          179.25423482,
          184.19600524666666,
          187.79489642666667,
          189.37971801333333,
          189.42767537333333,
          188.41455789333335,
          187.03635863333332,
          187.55200398,
          190.1538208,
          194.24878235333333,
          199.27438456,
          204.20006306,
          210.39752704666668,
          216.65000204,
          222.66794432666666,
          228.58117675333332,
          233.2133483866667,
          235.13209837333335,
          234.90652364000002,
          233.18992919333334,
          231.63637898666667,
          232.34326274666668,
          235.32416178,
          238.98024494666666,
          244.00210264666666,
          249.25593261999998,
          254.49537150666666,
          259.69609986,
          264.6319498666667,
          269.5926432333333,
          274.40419106666667,
          278.98695881333333,
          281.9859334266667,
          281.79844564,
          279.45416666666665,
          277.94938964666665,
          279.06304930666664,
          282.09029338,
          286.0857279466666,
          290.4813659533333,
          294.84500936,
          299.38074951333334,
          303.795461,
          308.0788879333333,
          312.22606406,
          316.24061686,
          320.13404541333335,
          323.9497253466667,
          327.61128540000004,
          329.35489908666665,
          327.68668416,
          324.18737386666663,
          321.67269897333335,
          322.31046142,
          325.2296529066667,
          328.99639687333337,
          333.0123107933333,
          337.01883342,
          340.9539103266667,
          344.75845948,
          348.44819742,
          352.0181254066666,
          355.4473978666667,
          358.7887552866667,
          362.0574239133333,
          365.2259216333333,
          368.30990804,
          371.31576946,
          374.2243672733333,
          376.8986002666667,
          376.89796753999997,
          374.1609720933333,
          373.3989156133333,
          375.08453166,
          377.80554808,
          380.80755818,
          383.81922403333334,
          386.7439717666667,
          389.5688578333333,
          392.28050129999997,
          394.89012044,
          397.4228475,
          399.8632303866667,
          402.24118856,
          404.5509236666667,
          406.79935709333336,
          408.99470825333333,
          411.12562256666666,
          413.22302449333336,
          415.26088662666666,
          417.26170450666666,
          419.2206054733333,
          421.11958008666664,
          422.9906962066667,
          424.8214782733333,
          425.8324585
         ],
         "yaxis": "y"
        },
        {
         "hovertemplate": "<b>OLS trendline</b><br>Internal Temp [C] = 0.947131 * Wall Temp [C] + -3.49425<br>R<sup>2</sup>=0.999009<br><br>Wall Temp [C]=%{x}<br>Internal Temp [C]=%{y} <b>(trend)</b><extra></extra>",
         "legendgroup": "",
         "marker": {
          "color": "#636efa",
          "symbol": "circle"
         },
         "mode": "lines",
         "name": "",
         "showlegend": false,
         "type": "scatter",
         "x": [
          37.936658732,
          42.162820944,
          46.28365529333333,
          47.38870544466667,
          47.82705230733333,
          48.37149251266667,
          48.403775024,
          48.96737594533333,
          49.619586946,
          50.23250757866666,
          50.33091761266667,
          51.097363535333336,
          51.31631927533333,
          51.89735310933334,
          52.69496587066667,
          53.072574870000004,
          53.38839594533333,
          53.73418909666667,
          54.95414784733334,
          58.769373574,
          62.612107339333335,
          66.34525909466667,
          69.94764505933334,
          72.28470560733334,
          72.31788381066667,
          73.285147094,
          73.44428711,
          74.32373097733333,
          74.380471802,
          75.40409088333334,
          76.48136291466668,
          76.58593749933334,
          77.39773915666666,
          77.424790446,
          77.78141377799999,
          80.77447102866667,
          84.12042744933333,
          87.42931264399999,
          90.616914876,
          93.71312764533333,
          94.56482747333332,
          95.47084961066666,
          95.63070577066667,
          96.71023915399999,
          96.71703745533334,
          98.03680572466666,
          98.10348510733334,
          99.38529663,
          99.59747466666666,
          100.68917897333333,
          101.02863923333332,
          101.69759978666666,
          101.69849091333334,
          104.04894713333333,
          107.01934967333334,
          109.90486959333333,
          112.67830404666667,
          115.35478159333334,
          117.94343668,
          120.43361511333335,
          120.78242899333333,
          121.1275945,
          122.34602304666667,
          122.66426188,
          122.83894704666666,
          124.21960958,
          124.61357167999999,
          125.14168294,
          125.61161092666666,
          126.32611998666667,
          127.07220764666667,
          129.55850729333332,
          131.99114481333334,
          134.35472208666667,
          136.6536021,
          138.89780680666667,
          141.06992492,
          143.17489726,
          145.22198078666668,
          145.60103149333332,
          145.76763813333335,
          147.21736348666667,
          147.24144695333334,
          147.35912475333333,
          149.06779684666665,
          149.17371724666666,
          149.38426309999997,
          150.56048381333332,
          150.81293945333334,
          151.4953959133333,
          153.60691427333333,
          155.678302,
          158.21375731999998,
          163.3840413466667,
          169.99363505333335,
          170.49338988666665,
          171.56173605333333,
          173.48509216,
          174.0217763266667,
          176.5200063,
          177.60756736,
          178.83618468666666,
          180.07751465333334,
          180.09998982666667,
          187.48060506000002,
          194.20840861333332,
          194.89450987333333,
          195.25118102,
          196.96112772666666,
          199.94554952,
          200.80799154666664,
          201.82211913999998,
          202.74364624666666,
          204.39432068,
          207.62539978,
          214.65490315333332,
          221.54709982,
          228.15647380000001,
          234.52525839333333,
          240.70530804,
          241.11766866000002,
          243.47888591333333,
          244.24233500666665,
          246.6398997,
          248.36025695333333,
          248.86098938666666,
          251.79655661333334,
          251.80710855333334,
          254.87308044000002,
          260.85932210666664,
          266.76707966,
          272.39496866666667,
          277.8478800533333,
          283.14185386,
          288.27877400666665,
          291.47357380666665,
          293.1874430266667,
          293.87446697999997,
          294.91954754,
          298.0066772466667,
          298.61409912,
          299.58254394,
          301.65832723333335,
          303.77722778000003,
          308.92639364,
          313.9045450866667,
          318.7158365866666,
          323.37236734666664,
          327.8548299066667,
          332.20656942666665,
          336.43219604,
          337.68239745333335,
          339.2859659933334,
          340.5258341466667,
          342.1583190933333,
          343.49397176,
          344.5156860466667,
          347.73845824,
          348.0752014333333,
          348.4079020333333,
          351.0204671266667,
          352.6293355466667,
          357.0418782666667,
          361.26319174,
          365.3164306666667,
          369.2035237666667,
          372.9926005133333,
          376.6303934733333,
          380.1442098,
          383.5638956666666,
          386.88909911999997,
          390.1196370466667,
          393.06444905999996,
          393.25263061333334,
          395.3512166333333,
          395.4957946733333,
          396.28899128666666,
          398.80221353999997,
          399.2172444733333,
          400.17425128,
          402.1569336,
          405.4047587066667,
          408.52013955999996,
          411.50430093999995,
          414.34582723333335,
          417.07156778666666,
          419.6786905866667,
          422.20780028,
          424.64238282,
          427.02154744666666,
          429.32284343333333,
          431.5672383533334,
          433.7736857,
          435.9054931666667,
          438.00501912666664,
          440.05637004666664,
          442.0463175533333,
          444.0015299533333,
          445.90320842,
          447.78952841333336,
          449.62170208000003,
          450.4697266
         ],
         "xaxis": "x",
         "y": [
          32.43673432732545,
          36.43946323177599,
          40.342432860744196,
          41.3890600273612,
          41.80423189473274,
          42.319888047363335,
          42.35046381202642,
          42.88426767123235,
          43.50199687640965,
          44.082512959191035,
          44.17572014524302,
          44.90164477720462,
          45.109024528697546,
          45.659339638517935,
          46.41478334706329,
          46.77242850604948,
          47.07155241172491,
          47.399063797320295,
          48.5545244513542,
          52.16804270433788,
          55.80761467129477,
          59.3433981282912,
          62.75532926165258,
          64.96883156886845,
          65.00025567111966,
          65.91638063466662,
          66.06710706444947,
          66.90005554371547,
          66.95379653319068,
          67.92329781555179,
          68.94361546581383,
          69.0426612884109,
          69.81154373908029,
          69.83716485163716,
          70.17493383621247,
          73.00975090402424,
          76.17880968742958,
          79.31275716644333,
          82.33183380143112,
          85.26435265055363,
          86.07102389231787,
          86.92914547290432,
          87.08055018481284,
          88.10300963147536,
          88.1094485128725,
          89.35944184815841,
          89.42259595321688,
          90.63663928010743,
          90.8375996592059,
          91.87158656368392,
          92.1930998720837,
          92.82669309648986,
          92.82753711010963,
          95.05372687247257,
          97.86708696332543,
          100.60005210019504,
          103.22685762588799,
          105.76183226735722,
          108.21362754147898,
          110.57215253231828,
          110.90252494343515,
          111.2294418673599,
          112.38345321787129,
          112.6848670569059,
          112.85031677954314,
          114.15798495512173,
          114.53111864138924,
          115.0313091450016,
          115.47639247140584,
          116.15312609484155,
          116.85976878675153,
          119.21462005880623,
          121.5186462714553,
          123.75726338913485,
          125.934603731421,
          128.06015940019583,
          130.11743962749816,
          132.11112401672077,
          134.049980120906,
          134.40899076548536,
          134.5667890657276,
          135.9398687735592,
          135.962678969503,
          136.07413525249535,
          137.69247142444664,
          137.7927919103587,
          137.99220639815482,
          139.10624140464475,
          139.3453499472488,
          139.99172556215404,
          141.99160988932243,
          143.9534852528166,
          146.35489338298487,
          151.2518292504711,
          157.51197981952097,
          157.98531307465305,
          158.99717676250046,
          160.81884680153635,
          161.32715697012807,
          163.69330782345597,
          164.72337053090627,
          165.887031989994,
          167.06273398350217,
          167.08402091510135,
          174.07442981213953,
          180.44654058203068,
          181.09636829971365,
          181.43418257103818,
          183.0537259686887,
          185.88036412785064,
          186.6972096381222,
          187.6577212387205,
          188.53052805517817,
          190.09393285004853,
          193.15418777102934,
          199.81204776903874,
          206.33986033962358,
          212.59980279875353,
          218.63187561071746,
          224.48519171898516,
          224.87575121242924,
          227.11213308219467,
          227.83521932443233,
          230.10602697848918,
          231.7354305267831,
          232.20968969710268,
          234.9900561855853,
          235.0000502542266,
          237.9039270283237,
          243.5736816061663,
          249.1691014535324,
          254.49944914677994,
          259.6640701257955,
          264.67815640842326,
          269.54349231354604,
          272.5693859877363,
          274.19264451904945,
          274.84334614811814,
          275.8331742605161,
          278.7570902601376,
          279.33239829793206,
          280.2496423313893,
          282.2156808719849,
          284.2225570964034,
          289.09949129526325,
          293.814452455468,
          298.37137540085416,
          302.78171966416494,
          307.0271985530452,
          311.14886560876863,
          315.15108723116117,
          316.3351916461136,
          317.8539809928879,
          319.0282984577886,
          320.57447542741573,
          321.8395133665636,
          322.80721055899943,
          325.8595977518256,
          326.1785376423733,
          326.49364866777756,
          328.9680898485138,
          330.49189887550904,
          334.671154521995,
          338.66929103613074,
          342.5082389502324,
          346.1898250146483,
          349.7785767601442,
          353.2240429535745,
          356.55208704420176,
          359.79097726563737,
          362.94038027199696,
          366.0001226309807,
          368.78924514276514,
          368.9674777105244,
          370.9551134186092,
          371.0920477506643,
          371.843308788891,
          374.2236592941701,
          374.6167479239386,
          375.52315866130306,
          377.4010183913609,
          380.4771339730443,
          383.4278075072027,
          386.2541990208447,
          388.9454964336099,
          391.52712959191143,
          393.99641620835524,
          396.3918141993,
          398.69768260053127,
          400.95106298251574,
          403.1306915678481,
          405.25642739355237,
          407.34622189920884,
          409.365322666643,
          411.35384862096475,
          413.29674650532434,
          415.18148731831474,
          417.0333294377672,
          418.83446791368374,
          420.62105990462044,
          422.35636823535987,
          423.1595584792763
         ],
         "yaxis": "y"
        }
       ],
       "layout": {
        "legend": {
         "tracegroupgap": 0
        },
        "margin": {
         "t": 60
        },
        "template": {
         "data": {
          "bar": [
           {
            "error_x": {
             "color": "#2a3f5f"
            },
            "error_y": {
             "color": "#2a3f5f"
            },
            "marker": {
             "line": {
              "color": "#E5ECF6",
              "width": 0.5
             },
             "pattern": {
              "fillmode": "overlay",
              "size": 10,
              "solidity": 0.2
             }
            },
            "type": "bar"
           }
          ],
          "barpolar": [
           {
            "marker": {
             "line": {
              "color": "#E5ECF6",
              "width": 0.5
             },
             "pattern": {
              "fillmode": "overlay",
              "size": 10,
              "solidity": 0.2
             }
            },
            "type": "barpolar"
           }
          ],
          "carpet": [
           {
            "aaxis": {
             "endlinecolor": "#2a3f5f",
             "gridcolor": "white",
             "linecolor": "white",
             "minorgridcolor": "white",
             "startlinecolor": "#2a3f5f"
            },
            "baxis": {
             "endlinecolor": "#2a3f5f",
             "gridcolor": "white",
             "linecolor": "white",
             "minorgridcolor": "white",
             "startlinecolor": "#2a3f5f"
            },
            "type": "carpet"
           }
          ],
          "choropleth": [
           {
            "colorbar": {
             "outlinewidth": 0,
             "ticks": ""
            },
            "type": "choropleth"
           }
          ],
          "contour": [
           {
            "colorbar": {
             "outlinewidth": 0,
             "ticks": ""
            },
            "colorscale": [
             [
              0,
              "#0d0887"
             ],
             [
              0.1111111111111111,
              "#46039f"
             ],
             [
              0.2222222222222222,
              "#7201a8"
             ],
             [
              0.3333333333333333,
              "#9c179e"
             ],
             [
              0.4444444444444444,
              "#bd3786"
             ],
             [
              0.5555555555555556,
              "#d8576b"
             ],
             [
              0.6666666666666666,
              "#ed7953"
             ],
             [
              0.7777777777777778,
              "#fb9f3a"
             ],
             [
              0.8888888888888888,
              "#fdca26"
             ],
             [
              1,
              "#f0f921"
             ]
            ],
            "type": "contour"
           }
          ],
          "contourcarpet": [
           {
            "colorbar": {
             "outlinewidth": 0,
             "ticks": ""
            },
            "type": "contourcarpet"
           }
          ],
          "heatmap": [
           {
            "colorbar": {
             "outlinewidth": 0,
             "ticks": ""
            },
            "colorscale": [
             [
              0,
              "#0d0887"
             ],
             [
              0.1111111111111111,
              "#46039f"
             ],
             [
              0.2222222222222222,
              "#7201a8"
             ],
             [
              0.3333333333333333,
              "#9c179e"
             ],
             [
              0.4444444444444444,
              "#bd3786"
             ],
             [
              0.5555555555555556,
              "#d8576b"
             ],
             [
              0.6666666666666666,
              "#ed7953"
             ],
             [
              0.7777777777777778,
              "#fb9f3a"
             ],
             [
              0.8888888888888888,
              "#fdca26"
             ],
             [
              1,
              "#f0f921"
             ]
            ],
            "type": "heatmap"
           }
          ],
          "heatmapgl": [
           {
            "colorbar": {
             "outlinewidth": 0,
             "ticks": ""
            },
            "colorscale": [
             [
              0,
              "#0d0887"
             ],
             [
              0.1111111111111111,
              "#46039f"
             ],
             [
              0.2222222222222222,
              "#7201a8"
             ],
             [
              0.3333333333333333,
              "#9c179e"
             ],
             [
              0.4444444444444444,
              "#bd3786"
             ],
             [
              0.5555555555555556,
              "#d8576b"
             ],
             [
              0.6666666666666666,
              "#ed7953"
             ],
             [
              0.7777777777777778,
              "#fb9f3a"
             ],
             [
              0.8888888888888888,
              "#fdca26"
             ],
             [
              1,
              "#f0f921"
             ]
            ],
            "type": "heatmapgl"
           }
          ],
          "histogram": [
           {
            "marker": {
             "pattern": {
              "fillmode": "overlay",
              "size": 10,
              "solidity": 0.2
             }
            },
            "type": "histogram"
           }
          ],
          "histogram2d": [
           {
            "colorbar": {
             "outlinewidth": 0,
             "ticks": ""
            },
            "colorscale": [
             [
              0,
              "#0d0887"
             ],
             [
              0.1111111111111111,
              "#46039f"
             ],
             [
              0.2222222222222222,
              "#7201a8"
             ],
             [
              0.3333333333333333,
              "#9c179e"
             ],
             [
              0.4444444444444444,
              "#bd3786"
             ],
             [
              0.5555555555555556,
              "#d8576b"
             ],
             [
              0.6666666666666666,
              "#ed7953"
             ],
             [
              0.7777777777777778,
              "#fb9f3a"
             ],
             [
              0.8888888888888888,
              "#fdca26"
             ],
             [
              1,
              "#f0f921"
             ]
            ],
            "type": "histogram2d"
           }
          ],
          "histogram2dcontour": [
           {
            "colorbar": {
             "outlinewidth": 0,
             "ticks": ""
            },
            "colorscale": [
             [
              0,
              "#0d0887"
             ],
             [
              0.1111111111111111,
              "#46039f"
             ],
             [
              0.2222222222222222,
              "#7201a8"
             ],
             [
              0.3333333333333333,
              "#9c179e"
             ],
             [
              0.4444444444444444,
              "#bd3786"
             ],
             [
              0.5555555555555556,
              "#d8576b"
             ],
             [
              0.6666666666666666,
              "#ed7953"
             ],
             [
              0.7777777777777778,
              "#fb9f3a"
             ],
             [
              0.8888888888888888,
              "#fdca26"
             ],
             [
              1,
              "#f0f921"
             ]
            ],
            "type": "histogram2dcontour"
           }
          ],
          "mesh3d": [
           {
            "colorbar": {
             "outlinewidth": 0,
             "ticks": ""
            },
            "type": "mesh3d"
           }
          ],
          "parcoords": [
           {
            "line": {
             "colorbar": {
              "outlinewidth": 0,
              "ticks": ""
             }
            },
            "type": "parcoords"
           }
          ],
          "pie": [
           {
            "automargin": true,
            "type": "pie"
           }
          ],
          "scatter": [
           {
            "marker": {
             "colorbar": {
              "outlinewidth": 0,
              "ticks": ""
             }
            },
            "type": "scatter"
           }
          ],
          "scatter3d": [
           {
            "line": {
             "colorbar": {
              "outlinewidth": 0,
              "ticks": ""
             }
            },
            "marker": {
             "colorbar": {
              "outlinewidth": 0,
              "ticks": ""
             }
            },
            "type": "scatter3d"
           }
          ],
          "scattercarpet": [
           {
            "marker": {
             "colorbar": {
              "outlinewidth": 0,
              "ticks": ""
             }
            },
            "type": "scattercarpet"
           }
          ],
          "scattergeo": [
           {
            "marker": {
             "colorbar": {
              "outlinewidth": 0,
              "ticks": ""
             }
            },
            "type": "scattergeo"
           }
          ],
          "scattergl": [
           {
            "marker": {
             "colorbar": {
              "outlinewidth": 0,
              "ticks": ""
             }
            },
            "type": "scattergl"
           }
          ],
          "scattermapbox": [
           {
            "marker": {
             "colorbar": {
              "outlinewidth": 0,
              "ticks": ""
             }
            },
            "type": "scattermapbox"
           }
          ],
          "scatterpolar": [
           {
            "marker": {
             "colorbar": {
              "outlinewidth": 0,
              "ticks": ""
             }
            },
            "type": "scatterpolar"
           }
          ],
          "scatterpolargl": [
           {
            "marker": {
             "colorbar": {
              "outlinewidth": 0,
              "ticks": ""
             }
            },
            "type": "scatterpolargl"
           }
          ],
          "scatterternary": [
           {
            "marker": {
             "colorbar": {
              "outlinewidth": 0,
              "ticks": ""
             }
            },
            "type": "scatterternary"
           }
          ],
          "surface": [
           {
            "colorbar": {
             "outlinewidth": 0,
             "ticks": ""
            },
            "colorscale": [
             [
              0,
              "#0d0887"
             ],
             [
              0.1111111111111111,
              "#46039f"
             ],
             [
              0.2222222222222222,
              "#7201a8"
             ],
             [
              0.3333333333333333,
              "#9c179e"
             ],
             [
              0.4444444444444444,
              "#bd3786"
             ],
             [
              0.5555555555555556,
              "#d8576b"
             ],
             [
              0.6666666666666666,
              "#ed7953"
             ],
             [
              0.7777777777777778,
              "#fb9f3a"
             ],
             [
              0.8888888888888888,
              "#fdca26"
             ],
             [
              1,
              "#f0f921"
             ]
            ],
            "type": "surface"
           }
          ],
          "table": [
           {
            "cells": {
             "fill": {
              "color": "#EBF0F8"
             },
             "line": {
              "color": "white"
             }
            },
            "header": {
             "fill": {
              "color": "#C8D4E3"
             },
             "line": {
              "color": "white"
             }
            },
            "type": "table"
           }
          ]
         },
         "layout": {
          "annotationdefaults": {
           "arrowcolor": "#2a3f5f",
           "arrowhead": 0,
           "arrowwidth": 1
          },
          "autotypenumbers": "strict",
          "coloraxis": {
           "colorbar": {
            "outlinewidth": 0,
            "ticks": ""
           }
          },
          "colorscale": {
           "diverging": [
            [
             0,
             "#8e0152"
            ],
            [
             0.1,
             "#c51b7d"
            ],
            [
             0.2,
             "#de77ae"
            ],
            [
             0.3,
             "#f1b6da"
            ],
            [
             0.4,
             "#fde0ef"
            ],
            [
             0.5,
             "#f7f7f7"
            ],
            [
             0.6,
             "#e6f5d0"
            ],
            [
             0.7,
             "#b8e186"
            ],
            [
             0.8,
             "#7fbc41"
            ],
            [
             0.9,
             "#4d9221"
            ],
            [
             1,
             "#276419"
            ]
           ],
           "sequential": [
            [
             0,
             "#0d0887"
            ],
            [
             0.1111111111111111,
             "#46039f"
            ],
            [
             0.2222222222222222,
             "#7201a8"
            ],
            [
             0.3333333333333333,
             "#9c179e"
            ],
            [
             0.4444444444444444,
             "#bd3786"
            ],
            [
             0.5555555555555556,
             "#d8576b"
            ],
            [
             0.6666666666666666,
             "#ed7953"
            ],
            [
             0.7777777777777778,
             "#fb9f3a"
            ],
            [
             0.8888888888888888,
             "#fdca26"
            ],
            [
             1,
             "#f0f921"
            ]
           ],
           "sequentialminus": [
            [
             0,
             "#0d0887"
            ],
            [
             0.1111111111111111,
             "#46039f"
            ],
            [
             0.2222222222222222,
             "#7201a8"
            ],
            [
             0.3333333333333333,
             "#9c179e"
            ],
            [
             0.4444444444444444,
             "#bd3786"
            ],
            [
             0.5555555555555556,
             "#d8576b"
            ],
            [
             0.6666666666666666,
             "#ed7953"
            ],
            [
             0.7777777777777778,
             "#fb9f3a"
            ],
            [
             0.8888888888888888,
             "#fdca26"
            ],
            [
             1,
             "#f0f921"
            ]
           ]
          },
          "colorway": [
           "#636efa",
           "#EF553B",
           "#00cc96",
           "#ab63fa",
           "#FFA15A",
           "#19d3f3",
           "#FF6692",
           "#B6E880",
           "#FF97FF",
           "#FECB52"
          ],
          "font": {
           "color": "#2a3f5f"
          },
          "geo": {
           "bgcolor": "white",
           "lakecolor": "white",
           "landcolor": "#E5ECF6",
           "showlakes": true,
           "showland": true,
           "subunitcolor": "white"
          },
          "hoverlabel": {
           "align": "left"
          },
          "hovermode": "closest",
          "mapbox": {
           "style": "light"
          },
          "paper_bgcolor": "white",
          "plot_bgcolor": "#E5ECF6",
          "polar": {
           "angularaxis": {
            "gridcolor": "white",
            "linecolor": "white",
            "ticks": ""
           },
           "bgcolor": "#E5ECF6",
           "radialaxis": {
            "gridcolor": "white",
            "linecolor": "white",
            "ticks": ""
           }
          },
          "scene": {
           "xaxis": {
            "backgroundcolor": "#E5ECF6",
            "gridcolor": "white",
            "gridwidth": 2,
            "linecolor": "white",
            "showbackground": true,
            "ticks": "",
            "zerolinecolor": "white"
           },
           "yaxis": {
            "backgroundcolor": "#E5ECF6",
            "gridcolor": "white",
            "gridwidth": 2,
            "linecolor": "white",
            "showbackground": true,
            "ticks": "",
            "zerolinecolor": "white"
           },
           "zaxis": {
            "backgroundcolor": "#E5ECF6",
            "gridcolor": "white",
            "gridwidth": 2,
            "linecolor": "white",
            "showbackground": true,
            "ticks": "",
            "zerolinecolor": "white"
           }
          },
          "shapedefaults": {
           "line": {
            "color": "#2a3f5f"
           }
          },
          "ternary": {
           "aaxis": {
            "gridcolor": "white",
            "linecolor": "white",
            "ticks": ""
           },
           "baxis": {
            "gridcolor": "white",
            "linecolor": "white",
            "ticks": ""
           },
           "bgcolor": "#E5ECF6",
           "caxis": {
            "gridcolor": "white",
            "linecolor": "white",
            "ticks": ""
           }
          },
          "title": {
           "x": 0.05
          },
          "xaxis": {
           "automargin": true,
           "gridcolor": "white",
           "linecolor": "white",
           "ticks": "",
           "title": {
            "standoff": 15
           },
           "zerolinecolor": "white",
           "zerolinewidth": 2
          },
          "yaxis": {
           "automargin": true,
           "gridcolor": "white",
           "linecolor": "white",
           "ticks": "",
           "title": {
            "standoff": 15
           },
           "zerolinecolor": "white",
           "zerolinewidth": 2
          }
         }
        },
        "xaxis": {
         "anchor": "y",
         "domain": [
          0,
          1
         ],
         "title": {
          "text": "Wall Temp [C]"
         }
        },
        "yaxis": {
         "anchor": "x",
         "domain": [
          0,
          1
         ],
         "title": {
          "text": "Internal Temp [C]"
         }
        }
       }
      },
      "text/html": [
       "<div>                            <div id=\"13235b96-8cfb-4301-8bb9-5c8f4155d2ee\" class=\"plotly-graph-div\" style=\"height:525px; width:100%;\"></div>            <script type=\"text/javascript\">                require([\"plotly\"], function(Plotly) {                    window.PLOTLYENV=window.PLOTLYENV || {};                                    if (document.getElementById(\"13235b96-8cfb-4301-8bb9-5c8f4155d2ee\")) {                    Plotly.newPlot(                        \"13235b96-8cfb-4301-8bb9-5c8f4155d2ee\",                        [{\"hovertemplate\":\"Wall Temp [C]=%{x}<br>Internal Temp [C]=%{y}<extra></extra>\",\"legendgroup\":\"\",\"marker\":{\"color\":\"#636efa\",\"symbol\":\"circle\"},\"mode\":\"markers\",\"name\":\"\",\"orientation\":\"v\",\"showlegend\":false,\"x\":[37.936658732,42.162820944,46.28365529333333,50.23250757866666,53.072574870000004,53.73418909666667,53.38839594533333,52.69496587066667,51.89735310933334,51.097363535333336,50.33091761266667,49.619586946,48.96737594533333,48.37149251266667,47.82705230733333,47.38870544466667,48.403775024,51.31631927533333,54.95414784733334,58.769373574,62.612107339333335,66.34525909466667,69.94764505933334,73.44428711,76.58593749933334,77.78141377799999,77.39773915666666,76.48136291466668,75.40409088333334,74.32373097733333,73.285147094,72.31788381066667,72.28470560733334,74.380471802,77.424790446,80.77447102866667,84.12042744933333,87.42931264399999,90.616914876,93.71312764533333,96.71023915399999,99.59747466666666,101.69759978666666,101.69849091333334,100.68917897333333,99.38529663,98.03680572466666,96.71703745533334,95.47084961066666,94.56482747333332,95.63070577066667,98.10348510733334,101.02863923333332,104.04894713333333,107.01934967333334,109.90486959333333,112.67830404666667,115.35478159333334,117.94343668,120.43361511333335,122.83894704666666,125.14168294,126.32611998666667,125.61161092666666,124.21960958,122.66426188,121.1275945,120.78242899333333,122.34602304666667,124.61357167999999,127.07220764666667,129.55850729333332,131.99114481333334,134.35472208666667,136.6536021,138.89780680666667,141.06992492,143.17489726,145.22198078666668,147.21736348666667,149.17371724666666,150.81293945333334,150.56048381333332,149.06779684666665,147.24144695333334,145.60103149333332,145.76763813333335,147.35912475333333,149.38426309999997,151.4953959133333,153.60691427333333,155.678302,158.21375731999998,163.3840413466667,170.49338988666665,177.60756736,180.09998982666667,178.83618468666666,176.5200063,174.0217763266667,171.56173605333333,169.99363505333335,173.48509216,180.07751465333334,187.48060506000002,194.89450987333333,201.82211913999998,204.39432068,202.74364624666666,199.94554952,196.96112772666666,194.20840861333332,195.25118102,200.80799154666664,207.62539978,214.65490315333332,221.54709982,228.15647380000001,234.52525839333333,240.70530804,246.6398997,251.79655661333334,251.80710855333334,248.36025695333333,244.24233500666665,241.11766866000002,243.47888591333333,248.86098938666666,254.87308044000002,260.85932210666664,266.76707966,272.39496866666667,277.8478800533333,283.14185386,288.27877400666665,293.1874430266667,298.0066772466667,301.65832723333335,299.58254394,294.91954754,291.47357380666665,293.87446697999997,298.61409912,303.77722778000003,308.92639364,313.9045450866667,318.7158365866666,323.37236734666664,327.8548299066667,332.20656942666665,336.43219604,340.5258341466667,344.5156860466667,348.4079020333333,351.0204671266667,347.73845824,342.1583190933333,337.68239745333335,339.2859659933334,343.49397176,348.0752014333333,352.6293355466667,357.0418782666667,361.26319174,365.3164306666667,369.2035237666667,372.9926005133333,376.6303934733333,380.1442098,383.5638956666666,386.88909911999997,390.1196370466667,393.25263061333334,396.28899128666666,399.2172444733333,400.17425128,395.3512166333333,393.06444905999996,395.4957946733333,398.80221353999997,402.1569336,405.4047587066667,408.52013955999996,411.50430093999995,414.34582723333335,417.07156778666666,419.6786905866667,422.20780028,424.64238282,427.02154744666666,429.32284343333333,431.5672383533334,433.7736857,435.9054931666667,438.00501912666664,440.05637004666664,442.0463175533333,444.0015299533333,445.90320842,447.78952841333336,449.62170208000003,450.4697266],\"xaxis\":\"x\",\"y\":[33.461890792,37.079371134666665,40.10940195733333,42.42302296933334,44.328654734,45.41338704466667,45.812302908,45.99679718066667,46.15559514466667,46.298280334666664,46.389177702,46.40942255733333,46.371115620666664,46.291965739333335,46.180028533333335,46.038119507333334,46.156172688,47.233076986,49.011576080000005,51.07084503066667,53.18660431,55.34730656866667,57.55947138466667,59.954953255999996,62.620450084000005,65.22072753866667,67.11244354133333,68.28482106599999,68.96244812,69.29748331733335,69.402759298,69.34409942666666,69.21677856533333,69.401020814,70.21259002666667,71.635976664,73.50895283999999,75.713385518,78.144823202,80.72121785533334,83.38109436066667,86.05120086733334,88.67426503466666,90.86480560466666,92.33621877,93.19613494933333,93.61409199866667,93.73801320333334,93.65929107533334,93.33985239733333,92.95173441466666,92.78349711066667,93.35990905733334,94.65904998733335,96.55325927666667,99.17316945866666,101.58799388666667,103.84772440666667,105.77280425333333,107.50843759333334,109.46089375333332,111.63051554666666,113.91163329999999,116.05838468666667,117.35832571333334,117.63575338000001,117.29605916,116.77936909333333,116.55489705333333,116.91942036666666,117.53614655333334,118.84269256666667,120.46221568000001,122.37023621333333,124.65605062,127.04367676,128.57867585333332,130.28341675333334,132.79837544666668,135.11488137333333,137.13544921333332,138.67612608,140.39812622666665,141.58308616000002,141.92666422666667,141.62939862,140.93362833999998,140.69639180000001,141.33749287999999,142.04625142,143.21452128,144.70824076,146.12049458,148.45873106666667,152.0497782333333,156.35374654,160.53605448000002,164.08776448666669,166.03611042666665,166.61607258666666,165.88534849333334,165.08550008,164.02509765333335,165.62192891333333,169.04738056666665,173.76475829333333,179.25423482,184.19600524666666,187.79489642666667,189.37971801333333,189.42767537333333,188.41455789333335,187.03635863333332,187.55200398,190.1538208,194.24878235333333,199.27438456,204.20006306,210.39752704666668,216.65000204,222.66794432666666,228.58117675333332,233.2133483866667,235.13209837333335,234.90652364000002,233.18992919333334,231.63637898666667,232.34326274666668,235.32416178,238.98024494666666,244.00210264666666,249.25593261999998,254.49537150666666,259.69609986,264.6319498666667,269.5926432333333,274.40419106666667,278.98695881333333,281.9859334266667,281.79844564,279.45416666666665,277.94938964666665,279.06304930666664,282.09029338,286.0857279466666,290.4813659533333,294.84500936,299.38074951333334,303.795461,308.0788879333333,312.22606406,316.24061686,320.13404541333335,323.9497253466667,327.61128540000004,329.35489908666665,327.68668416,324.18737386666663,321.67269897333335,322.31046142,325.2296529066667,328.99639687333337,333.0123107933333,337.01883342,340.9539103266667,344.75845948,348.44819742,352.0181254066666,355.4473978666667,358.7887552866667,362.0574239133333,365.2259216333333,368.30990804,371.31576946,374.2243672733333,376.8986002666667,376.89796753999997,374.1609720933333,373.3989156133333,375.08453166,377.80554808,380.80755818,383.81922403333334,386.7439717666667,389.5688578333333,392.28050129999997,394.89012044,397.4228475,399.8632303866667,402.24118856,404.5509236666667,406.79935709333336,408.99470825333333,411.12562256666666,413.22302449333336,415.26088662666666,417.26170450666666,419.2206054733333,421.11958008666664,422.9906962066667,424.8214782733333,425.8324585],\"yaxis\":\"y\",\"type\":\"scatter\"},{\"hovertemplate\":\"<b>OLS trendline</b><br>Internal Temp [C] = 0.947131 * Wall Temp [C] + -3.49425<br>R<sup>2</sup>=0.999009<br><br>Wall Temp [C]=%{x}<br>Internal Temp [C]=%{y} <b>(trend)</b><extra></extra>\",\"legendgroup\":\"\",\"marker\":{\"color\":\"#636efa\",\"symbol\":\"circle\"},\"mode\":\"lines\",\"name\":\"\",\"showlegend\":false,\"x\":[37.936658732,42.162820944,46.28365529333333,47.38870544466667,47.82705230733333,48.37149251266667,48.403775024,48.96737594533333,49.619586946,50.23250757866666,50.33091761266667,51.097363535333336,51.31631927533333,51.89735310933334,52.69496587066667,53.072574870000004,53.38839594533333,53.73418909666667,54.95414784733334,58.769373574,62.612107339333335,66.34525909466667,69.94764505933334,72.28470560733334,72.31788381066667,73.285147094,73.44428711,74.32373097733333,74.380471802,75.40409088333334,76.48136291466668,76.58593749933334,77.39773915666666,77.424790446,77.78141377799999,80.77447102866667,84.12042744933333,87.42931264399999,90.616914876,93.71312764533333,94.56482747333332,95.47084961066666,95.63070577066667,96.71023915399999,96.71703745533334,98.03680572466666,98.10348510733334,99.38529663,99.59747466666666,100.68917897333333,101.02863923333332,101.69759978666666,101.69849091333334,104.04894713333333,107.01934967333334,109.90486959333333,112.67830404666667,115.35478159333334,117.94343668,120.43361511333335,120.78242899333333,121.1275945,122.34602304666667,122.66426188,122.83894704666666,124.21960958,124.61357167999999,125.14168294,125.61161092666666,126.32611998666667,127.07220764666667,129.55850729333332,131.99114481333334,134.35472208666667,136.6536021,138.89780680666667,141.06992492,143.17489726,145.22198078666668,145.60103149333332,145.76763813333335,147.21736348666667,147.24144695333334,147.35912475333333,149.06779684666665,149.17371724666666,149.38426309999997,150.56048381333332,150.81293945333334,151.4953959133333,153.60691427333333,155.678302,158.21375731999998,163.3840413466667,169.99363505333335,170.49338988666665,171.56173605333333,173.48509216,174.0217763266667,176.5200063,177.60756736,178.83618468666666,180.07751465333334,180.09998982666667,187.48060506000002,194.20840861333332,194.89450987333333,195.25118102,196.96112772666666,199.94554952,200.80799154666664,201.82211913999998,202.74364624666666,204.39432068,207.62539978,214.65490315333332,221.54709982,228.15647380000001,234.52525839333333,240.70530804,241.11766866000002,243.47888591333333,244.24233500666665,246.6398997,248.36025695333333,248.86098938666666,251.79655661333334,251.80710855333334,254.87308044000002,260.85932210666664,266.76707966,272.39496866666667,277.8478800533333,283.14185386,288.27877400666665,291.47357380666665,293.1874430266667,293.87446697999997,294.91954754,298.0066772466667,298.61409912,299.58254394,301.65832723333335,303.77722778000003,308.92639364,313.9045450866667,318.7158365866666,323.37236734666664,327.8548299066667,332.20656942666665,336.43219604,337.68239745333335,339.2859659933334,340.5258341466667,342.1583190933333,343.49397176,344.5156860466667,347.73845824,348.0752014333333,348.4079020333333,351.0204671266667,352.6293355466667,357.0418782666667,361.26319174,365.3164306666667,369.2035237666667,372.9926005133333,376.6303934733333,380.1442098,383.5638956666666,386.88909911999997,390.1196370466667,393.06444905999996,393.25263061333334,395.3512166333333,395.4957946733333,396.28899128666666,398.80221353999997,399.2172444733333,400.17425128,402.1569336,405.4047587066667,408.52013955999996,411.50430093999995,414.34582723333335,417.07156778666666,419.6786905866667,422.20780028,424.64238282,427.02154744666666,429.32284343333333,431.5672383533334,433.7736857,435.9054931666667,438.00501912666664,440.05637004666664,442.0463175533333,444.0015299533333,445.90320842,447.78952841333336,449.62170208000003,450.4697266],\"xaxis\":\"x\",\"y\":[32.43673432732545,36.43946323177599,40.342432860744196,41.3890600273612,41.80423189473274,42.319888047363335,42.35046381202642,42.88426767123235,43.50199687640965,44.082512959191035,44.17572014524302,44.90164477720462,45.109024528697546,45.659339638517935,46.41478334706329,46.77242850604948,47.07155241172491,47.399063797320295,48.5545244513542,52.16804270433788,55.80761467129477,59.3433981282912,62.75532926165258,64.96883156886845,65.00025567111966,65.91638063466662,66.06710706444947,66.90005554371547,66.95379653319068,67.92329781555179,68.94361546581383,69.0426612884109,69.81154373908029,69.83716485163716,70.17493383621247,73.00975090402424,76.17880968742958,79.31275716644333,82.33183380143112,85.26435265055363,86.07102389231787,86.92914547290432,87.08055018481284,88.10300963147536,88.1094485128725,89.35944184815841,89.42259595321688,90.63663928010743,90.8375996592059,91.87158656368392,92.1930998720837,92.82669309648986,92.82753711010963,95.05372687247257,97.86708696332543,100.60005210019504,103.22685762588799,105.76183226735722,108.21362754147898,110.57215253231828,110.90252494343515,111.2294418673599,112.38345321787129,112.6848670569059,112.85031677954314,114.15798495512173,114.53111864138924,115.0313091450016,115.47639247140584,116.15312609484155,116.85976878675153,119.21462005880623,121.5186462714553,123.75726338913485,125.934603731421,128.06015940019583,130.11743962749816,132.11112401672077,134.049980120906,134.40899076548536,134.5667890657276,135.9398687735592,135.962678969503,136.07413525249535,137.69247142444664,137.7927919103587,137.99220639815482,139.10624140464475,139.3453499472488,139.99172556215404,141.99160988932243,143.9534852528166,146.35489338298487,151.2518292504711,157.51197981952097,157.98531307465305,158.99717676250046,160.81884680153635,161.32715697012807,163.69330782345597,164.72337053090627,165.887031989994,167.06273398350217,167.08402091510135,174.07442981213953,180.44654058203068,181.09636829971365,181.43418257103818,183.0537259686887,185.88036412785064,186.6972096381222,187.6577212387205,188.53052805517817,190.09393285004853,193.15418777102934,199.81204776903874,206.33986033962358,212.59980279875353,218.63187561071746,224.48519171898516,224.87575121242924,227.11213308219467,227.83521932443233,230.10602697848918,231.7354305267831,232.20968969710268,234.9900561855853,235.0000502542266,237.9039270283237,243.5736816061663,249.1691014535324,254.49944914677994,259.6640701257955,264.67815640842326,269.54349231354604,272.5693859877363,274.19264451904945,274.84334614811814,275.8331742605161,278.7570902601376,279.33239829793206,280.2496423313893,282.2156808719849,284.2225570964034,289.09949129526325,293.814452455468,298.37137540085416,302.78171966416494,307.0271985530452,311.14886560876863,315.15108723116117,316.3351916461136,317.8539809928879,319.0282984577886,320.57447542741573,321.8395133665636,322.80721055899943,325.8595977518256,326.1785376423733,326.49364866777756,328.9680898485138,330.49189887550904,334.671154521995,338.66929103613074,342.5082389502324,346.1898250146483,349.7785767601442,353.2240429535745,356.55208704420176,359.79097726563737,362.94038027199696,366.0001226309807,368.78924514276514,368.9674777105244,370.9551134186092,371.0920477506643,371.843308788891,374.2236592941701,374.6167479239386,375.52315866130306,377.4010183913609,380.4771339730443,383.4278075072027,386.2541990208447,388.9454964336099,391.52712959191143,393.99641620835524,396.3918141993,398.69768260053127,400.95106298251574,403.1306915678481,405.25642739355237,407.34622189920884,409.365322666643,411.35384862096475,413.29674650532434,415.18148731831474,417.0333294377672,418.83446791368374,420.62105990462044,422.35636823535987,423.1595584792763],\"yaxis\":\"y\",\"type\":\"scatter\"}],                        {\"template\":{\"data\":{\"bar\":[{\"error_x\":{\"color\":\"#2a3f5f\"},\"error_y\":{\"color\":\"#2a3f5f\"},\"marker\":{\"line\":{\"color\":\"#E5ECF6\",\"width\":0.5},\"pattern\":{\"fillmode\":\"overlay\",\"size\":10,\"solidity\":0.2}},\"type\":\"bar\"}],\"barpolar\":[{\"marker\":{\"line\":{\"color\":\"#E5ECF6\",\"width\":0.5},\"pattern\":{\"fillmode\":\"overlay\",\"size\":10,\"solidity\":0.2}},\"type\":\"barpolar\"}],\"carpet\":[{\"aaxis\":{\"endlinecolor\":\"#2a3f5f\",\"gridcolor\":\"white\",\"linecolor\":\"white\",\"minorgridcolor\":\"white\",\"startlinecolor\":\"#2a3f5f\"},\"baxis\":{\"endlinecolor\":\"#2a3f5f\",\"gridcolor\":\"white\",\"linecolor\":\"white\",\"minorgridcolor\":\"white\",\"startlinecolor\":\"#2a3f5f\"},\"type\":\"carpet\"}],\"choropleth\":[{\"colorbar\":{\"outlinewidth\":0,\"ticks\":\"\"},\"type\":\"choropleth\"}],\"contour\":[{\"colorbar\":{\"outlinewidth\":0,\"ticks\":\"\"},\"colorscale\":[[0.0,\"#0d0887\"],[0.1111111111111111,\"#46039f\"],[0.2222222222222222,\"#7201a8\"],[0.3333333333333333,\"#9c179e\"],[0.4444444444444444,\"#bd3786\"],[0.5555555555555556,\"#d8576b\"],[0.6666666666666666,\"#ed7953\"],[0.7777777777777778,\"#fb9f3a\"],[0.8888888888888888,\"#fdca26\"],[1.0,\"#f0f921\"]],\"type\":\"contour\"}],\"contourcarpet\":[{\"colorbar\":{\"outlinewidth\":0,\"ticks\":\"\"},\"type\":\"contourcarpet\"}],\"heatmap\":[{\"colorbar\":{\"outlinewidth\":0,\"ticks\":\"\"},\"colorscale\":[[0.0,\"#0d0887\"],[0.1111111111111111,\"#46039f\"],[0.2222222222222222,\"#7201a8\"],[0.3333333333333333,\"#9c179e\"],[0.4444444444444444,\"#bd3786\"],[0.5555555555555556,\"#d8576b\"],[0.6666666666666666,\"#ed7953\"],[0.7777777777777778,\"#fb9f3a\"],[0.8888888888888888,\"#fdca26\"],[1.0,\"#f0f921\"]],\"type\":\"heatmap\"}],\"heatmapgl\":[{\"colorbar\":{\"outlinewidth\":0,\"ticks\":\"\"},\"colorscale\":[[0.0,\"#0d0887\"],[0.1111111111111111,\"#46039f\"],[0.2222222222222222,\"#7201a8\"],[0.3333333333333333,\"#9c179e\"],[0.4444444444444444,\"#bd3786\"],[0.5555555555555556,\"#d8576b\"],[0.6666666666666666,\"#ed7953\"],[0.7777777777777778,\"#fb9f3a\"],[0.8888888888888888,\"#fdca26\"],[1.0,\"#f0f921\"]],\"type\":\"heatmapgl\"}],\"histogram\":[{\"marker\":{\"pattern\":{\"fillmode\":\"overlay\",\"size\":10,\"solidity\":0.2}},\"type\":\"histogram\"}],\"histogram2d\":[{\"colorbar\":{\"outlinewidth\":0,\"ticks\":\"\"},\"colorscale\":[[0.0,\"#0d0887\"],[0.1111111111111111,\"#46039f\"],[0.2222222222222222,\"#7201a8\"],[0.3333333333333333,\"#9c179e\"],[0.4444444444444444,\"#bd3786\"],[0.5555555555555556,\"#d8576b\"],[0.6666666666666666,\"#ed7953\"],[0.7777777777777778,\"#fb9f3a\"],[0.8888888888888888,\"#fdca26\"],[1.0,\"#f0f921\"]],\"type\":\"histogram2d\"}],\"histogram2dcontour\":[{\"colorbar\":{\"outlinewidth\":0,\"ticks\":\"\"},\"colorscale\":[[0.0,\"#0d0887\"],[0.1111111111111111,\"#46039f\"],[0.2222222222222222,\"#7201a8\"],[0.3333333333333333,\"#9c179e\"],[0.4444444444444444,\"#bd3786\"],[0.5555555555555556,\"#d8576b\"],[0.6666666666666666,\"#ed7953\"],[0.7777777777777778,\"#fb9f3a\"],[0.8888888888888888,\"#fdca26\"],[1.0,\"#f0f921\"]],\"type\":\"histogram2dcontour\"}],\"mesh3d\":[{\"colorbar\":{\"outlinewidth\":0,\"ticks\":\"\"},\"type\":\"mesh3d\"}],\"parcoords\":[{\"line\":{\"colorbar\":{\"outlinewidth\":0,\"ticks\":\"\"}},\"type\":\"parcoords\"}],\"pie\":[{\"automargin\":true,\"type\":\"pie\"}],\"scatter\":[{\"marker\":{\"colorbar\":{\"outlinewidth\":0,\"ticks\":\"\"}},\"type\":\"scatter\"}],\"scatter3d\":[{\"line\":{\"colorbar\":{\"outlinewidth\":0,\"ticks\":\"\"}},\"marker\":{\"colorbar\":{\"outlinewidth\":0,\"ticks\":\"\"}},\"type\":\"scatter3d\"}],\"scattercarpet\":[{\"marker\":{\"colorbar\":{\"outlinewidth\":0,\"ticks\":\"\"}},\"type\":\"scattercarpet\"}],\"scattergeo\":[{\"marker\":{\"colorbar\":{\"outlinewidth\":0,\"ticks\":\"\"}},\"type\":\"scattergeo\"}],\"scattergl\":[{\"marker\":{\"colorbar\":{\"outlinewidth\":0,\"ticks\":\"\"}},\"type\":\"scattergl\"}],\"scattermapbox\":[{\"marker\":{\"colorbar\":{\"outlinewidth\":0,\"ticks\":\"\"}},\"type\":\"scattermapbox\"}],\"scatterpolar\":[{\"marker\":{\"colorbar\":{\"outlinewidth\":0,\"ticks\":\"\"}},\"type\":\"scatterpolar\"}],\"scatterpolargl\":[{\"marker\":{\"colorbar\":{\"outlinewidth\":0,\"ticks\":\"\"}},\"type\":\"scatterpolargl\"}],\"scatterternary\":[{\"marker\":{\"colorbar\":{\"outlinewidth\":0,\"ticks\":\"\"}},\"type\":\"scatterternary\"}],\"surface\":[{\"colorbar\":{\"outlinewidth\":0,\"ticks\":\"\"},\"colorscale\":[[0.0,\"#0d0887\"],[0.1111111111111111,\"#46039f\"],[0.2222222222222222,\"#7201a8\"],[0.3333333333333333,\"#9c179e\"],[0.4444444444444444,\"#bd3786\"],[0.5555555555555556,\"#d8576b\"],[0.6666666666666666,\"#ed7953\"],[0.7777777777777778,\"#fb9f3a\"],[0.8888888888888888,\"#fdca26\"],[1.0,\"#f0f921\"]],\"type\":\"surface\"}],\"table\":[{\"cells\":{\"fill\":{\"color\":\"#EBF0F8\"},\"line\":{\"color\":\"white\"}},\"header\":{\"fill\":{\"color\":\"#C8D4E3\"},\"line\":{\"color\":\"white\"}},\"type\":\"table\"}]},\"layout\":{\"annotationdefaults\":{\"arrowcolor\":\"#2a3f5f\",\"arrowhead\":0,\"arrowwidth\":1},\"autotypenumbers\":\"strict\",\"coloraxis\":{\"colorbar\":{\"outlinewidth\":0,\"ticks\":\"\"}},\"colorscale\":{\"diverging\":[[0,\"#8e0152\"],[0.1,\"#c51b7d\"],[0.2,\"#de77ae\"],[0.3,\"#f1b6da\"],[0.4,\"#fde0ef\"],[0.5,\"#f7f7f7\"],[0.6,\"#e6f5d0\"],[0.7,\"#b8e186\"],[0.8,\"#7fbc41\"],[0.9,\"#4d9221\"],[1,\"#276419\"]],\"sequential\":[[0.0,\"#0d0887\"],[0.1111111111111111,\"#46039f\"],[0.2222222222222222,\"#7201a8\"],[0.3333333333333333,\"#9c179e\"],[0.4444444444444444,\"#bd3786\"],[0.5555555555555556,\"#d8576b\"],[0.6666666666666666,\"#ed7953\"],[0.7777777777777778,\"#fb9f3a\"],[0.8888888888888888,\"#fdca26\"],[1.0,\"#f0f921\"]],\"sequentialminus\":[[0.0,\"#0d0887\"],[0.1111111111111111,\"#46039f\"],[0.2222222222222222,\"#7201a8\"],[0.3333333333333333,\"#9c179e\"],[0.4444444444444444,\"#bd3786\"],[0.5555555555555556,\"#d8576b\"],[0.6666666666666666,\"#ed7953\"],[0.7777777777777778,\"#fb9f3a\"],[0.8888888888888888,\"#fdca26\"],[1.0,\"#f0f921\"]]},\"colorway\":[\"#636efa\",\"#EF553B\",\"#00cc96\",\"#ab63fa\",\"#FFA15A\",\"#19d3f3\",\"#FF6692\",\"#B6E880\",\"#FF97FF\",\"#FECB52\"],\"font\":{\"color\":\"#2a3f5f\"},\"geo\":{\"bgcolor\":\"white\",\"lakecolor\":\"white\",\"landcolor\":\"#E5ECF6\",\"showlakes\":true,\"showland\":true,\"subunitcolor\":\"white\"},\"hoverlabel\":{\"align\":\"left\"},\"hovermode\":\"closest\",\"mapbox\":{\"style\":\"light\"},\"paper_bgcolor\":\"white\",\"plot_bgcolor\":\"#E5ECF6\",\"polar\":{\"angularaxis\":{\"gridcolor\":\"white\",\"linecolor\":\"white\",\"ticks\":\"\"},\"bgcolor\":\"#E5ECF6\",\"radialaxis\":{\"gridcolor\":\"white\",\"linecolor\":\"white\",\"ticks\":\"\"}},\"scene\":{\"xaxis\":{\"backgroundcolor\":\"#E5ECF6\",\"gridcolor\":\"white\",\"gridwidth\":2,\"linecolor\":\"white\",\"showbackground\":true,\"ticks\":\"\",\"zerolinecolor\":\"white\"},\"yaxis\":{\"backgroundcolor\":\"#E5ECF6\",\"gridcolor\":\"white\",\"gridwidth\":2,\"linecolor\":\"white\",\"showbackground\":true,\"ticks\":\"\",\"zerolinecolor\":\"white\"},\"zaxis\":{\"backgroundcolor\":\"#E5ECF6\",\"gridcolor\":\"white\",\"gridwidth\":2,\"linecolor\":\"white\",\"showbackground\":true,\"ticks\":\"\",\"zerolinecolor\":\"white\"}},\"shapedefaults\":{\"line\":{\"color\":\"#2a3f5f\"}},\"ternary\":{\"aaxis\":{\"gridcolor\":\"white\",\"linecolor\":\"white\",\"ticks\":\"\"},\"baxis\":{\"gridcolor\":\"white\",\"linecolor\":\"white\",\"ticks\":\"\"},\"bgcolor\":\"#E5ECF6\",\"caxis\":{\"gridcolor\":\"white\",\"linecolor\":\"white\",\"ticks\":\"\"}},\"title\":{\"x\":0.05},\"xaxis\":{\"automargin\":true,\"gridcolor\":\"white\",\"linecolor\":\"white\",\"ticks\":\"\",\"title\":{\"standoff\":15},\"zerolinecolor\":\"white\",\"zerolinewidth\":2},\"yaxis\":{\"automargin\":true,\"gridcolor\":\"white\",\"linecolor\":\"white\",\"ticks\":\"\",\"title\":{\"standoff\":15},\"zerolinecolor\":\"white\",\"zerolinewidth\":2}}},\"xaxis\":{\"anchor\":\"y\",\"domain\":[0.0,1.0],\"title\":{\"text\":\"Wall Temp [C]\"}},\"yaxis\":{\"anchor\":\"x\",\"domain\":[0.0,1.0],\"title\":{\"text\":\"Internal Temp [C]\"}},\"legend\":{\"tracegroupgap\":0},\"margin\":{\"t\":60}},                        {\"responsive\": true}                    ).then(function(){\n",
       "                            \n",
       "var gd = document.getElementById('13235b96-8cfb-4301-8bb9-5c8f4155d2ee');\n",
       "var x = new MutationObserver(function (mutations, observer) {{\n",
       "        var display = window.getComputedStyle(gd).display;\n",
       "        if (!display || display === 'none') {{\n",
       "            console.log([gd, 'removed!']);\n",
       "            Plotly.purge(gd);\n",
       "            observer.disconnect();\n",
       "        }}\n",
       "}});\n",
       "\n",
       "// Listen for the removal of the full notebook cells\n",
       "var notebookContainer = gd.closest('#notebook-container');\n",
       "if (notebookContainer) {{\n",
       "    x.observe(notebookContainer, {childList: true});\n",
       "}}\n",
       "\n",
       "// Listen for the clearing of the current output cell\n",
       "var outputEl = gd.closest('.output');\n",
       "if (outputEl) {{\n",
       "    x.observe(outputEl, {childList: true});\n",
       "}}\n",
       "\n",
       "                        })                };                });            </script>        </div>"
      ]
     },
     "metadata": {},
     "output_type": "display_data"
    }
   ],
   "source": [
    "fig13i = px.scatter(June13HeatingFilt, x=\"Wall Temp [C]\", y=\"Internal Temp [C]\", trendline=\"ols\")\n",
    "fig13i.show()"
   ]
  },
  {
   "cell_type": "code",
   "execution_count": 76,
   "id": "faef4473",
   "metadata": {
    "collapsed": true
   },
   "outputs": [
    {
     "data": {
      "application/vnd.plotly.v1+json": {
       "config": {
        "plotlyServerURL": "https://plot.ly"
       },
       "data": [
        {
         "hovertemplate": "Wall Temp [C]=%{x}<br>Internal Temp [C]=%{y}<extra></extra>",
         "legendgroup": "",
         "marker": {
          "color": "#636efa",
          "symbol": "circle"
         },
         "mode": "markers",
         "name": "",
         "orientation": "v",
         "showlegend": false,
         "type": "scatter",
         "x": [
          56.935774484666666,
          61.46727650933334,
          62.31811269133333,
          61.82202479066667,
          60.85544840533333,
          59.75977045533333,
          58.673587291333334,
          57.64210459466666,
          56.68772684666667,
          55.813182321999996,
          55.016317494,
          55.65392964666667,
          61.871396892,
          71.22979024266667,
          80.58819071333333,
          84.72806650866666,
          85.14921061066667,
          84.28589731866667,
          83.00301157666667,
          81.62783508333334,
          80.287793478,
          79.703616842,
          84.23167978933334,
          92.56270141666667,
          101.80110067066667,
          107.63562978,
          108.48156381333334,
          107.47003682666667,
          105.87923686666666,
          104.34830117999999,
          106.59127604666668,
          113.50078174666666,
          121.85698902666667,
          129.51670632666668,
          131.97793274,
          131.16241965333333,
          129.3625763,
          127.32605032666667,
          125.30724335333333,
          124.65008596,
          129.30344087333333,
          136.79371439333332,
          145.00312093333332,
          152.83860678000002,
          156.00712891333333,
          155.10895589333333,
          154.36778361333333,
          158.62871397333336,
          165.44292195333335,
          172.86003825333333,
          179.01117860000002,
          179.62798563333334,
          177.49405518,
          174.72851564666664,
          174.39670716666666,
          179.34639384,
          186.23562824666666,
          193.53633115333332,
          200.67081909333334,
          204.16614278666665,
          202.64888509333332,
          199.67902019333332,
          198.1860860333333,
          202.21966044,
          208.64738159333334,
          215.5792867,
          222.47864074,
          229.17128601333334,
          235.65744832000001,
          241.92031046,
          247.96418760666666,
          252.51919046,
          251.24885457333332,
          247.3866099,
          243.52226155333335,
          244.62016805333332,
          249.79031982,
          255.89308675333334,
          262.0868347066667,
          268.12266642000003,
          273.9745280133333,
          279.60542806,
          285.0778646,
          290.37296548666666,
          295.49937133333333,
          300.37825318,
          301.3224263533333,
          297.28062134,
          292.87257689333336,
          293.9388956733334,
          298.58813273333334,
          303.9475158733333,
          309.3155273333333,
          314.55785115333333,
          319.6187479733333,
          324.49163208000004,
          329.20671996666664,
          333.76493734,
          338.1774454733333,
          342.47202961333335,
          346.6205993666666,
          350.52572836666667,
          349.91291300666666,
          344.70472207999995,
          339.06710408666663,
          338.1007670066667,
          341.9188679933333,
          346.7303263333333,
          351.3944742733333,
          356.00705364,
          360.5527119866667,
          364.91309204000004,
          369.10147298666664,
          373.1117472266667,
          376.94286294666665,
          380.6869832333333,
          384.2861796133333,
          387.7961832666667,
          391.22416992,
          394.53285930000004,
          397.75081584,
          400.31269226
         ],
         "xaxis": "x",
         "y": [
          38.989777374,
          44.375639342666666,
          48.48760986333333,
          51.13990656466667,
          52.64415156,
          53.39997304133333,
          53.853317516,
          53.94423294133333,
          53.91397272733333,
          53.66769383733333,
          53.22070948266666,
          52.991293588666665,
          53.409992980666665,
          55.99046071333333,
          61.01403579666667,
          66.538990276,
          70.18528849266666,
          72.21773579933333,
          73.78851572666667,
          74.3814209,
          74.51030985533333,
          74.36151122999999,
          74.398168436,
          76.24781087133333,
          80.35501759799999,
          85.62390187666666,
          90.15891265799999,
          92.788639832,
          94.41671396933334,
          95.16929931666667,
          95.064389038,
          96.75708414733334,
          100.46994172266666,
          105.16501922666666,
          110.34511669333332,
          113.66960347333334,
          116.12229258,
          116.94632567333333,
          116.44378459333332,
          115.43441721999999,
          115.75318808,
          117.56710560666667,
          121.53456012,
          126.99204406666667,
          132.73998412666666,
          136.10538839333333,
          137.71070657333334,
          139.78701884,
          142.21510315333336,
          145.86986389333333,
          151.66838582,
          156.88642171333333,
          159.11197408,
          159.05449117333333,
          159.20573831333334,
          160.02287902,
          161.56830953333335,
          165.78463133333335,
          171.67067260666667,
          176.41676433333333,
          180.65998941333334,
          182.19986368666665,
          181.84712016,
          182.665743,
          185.14379068666668,
          188.28284912666666,
          192.87299804,
          197.0369323666667,
          202.39009806,
          208.05524290666665,
          214.11878358,
          219.84940592666666,
          224.37701110666666,
          226.31810607333333,
          225.22997233333334,
          223.86915385333336,
          225.14967244,
          228.43763934666669,
          230.89396057333335,
          235.85052288,
          239.58449299999998,
          244.35134683333334,
          249.88888039999998,
          255.07481383333334,
          260.92761433333334,
          265.8422037733333,
          270.10932820666665,
          273.04629924,
          272.23807170666663,
          271.35609130666666,
          272.04290569333335,
          274.8769002333333,
          278.7172424333333,
          283.48937378,
          288.75388591333336,
          293.77652994666664,
          296.2365865066667,
          301.45289306666666,
          303.73367105333335,
          309.52434488666665,
          314.63724364666666,
          319.16061807333335,
          323.64278768,
          323.43389078666667,
          321.07291258,
          318.9423014266667,
          317.8565795933334,
          319.2912821333333,
          307.0708231533333,
          318.00130412,
          329.0140543733333,
          333.6004211466667,
          339.27412517333335,
          339.06569823999996,
          342.3841369666667,
          349.85108643999996,
          348.9406494066667,
          353.89776612,
          360.54028729333334,
          365.41475626666664,
          366.9889973933333,
          372.32619323999995
         ],
         "yaxis": "y"
        },
        {
         "hovertemplate": "<b>OLS trendline</b><br>Internal Temp [C] = 0.927913 * Wall Temp [C] + -7.14268<br>R<sup>2</sup>=0.996991<br><br>Wall Temp [C]=%{x}<br>Internal Temp [C]=%{y} <b>(trend)</b><extra></extra>",
         "legendgroup": "",
         "marker": {
          "color": "#636efa",
          "symbol": "circle"
         },
         "mode": "lines",
         "name": "",
         "showlegend": false,
         "type": "scatter",
         "x": [
          55.016317494,
          55.65392964666667,
          55.813182321999996,
          56.68772684666667,
          56.935774484666666,
          57.64210459466666,
          58.673587291333334,
          59.75977045533333,
          60.85544840533333,
          61.46727650933334,
          61.82202479066667,
          61.871396892,
          62.31811269133333,
          71.22979024266667,
          79.703616842,
          80.287793478,
          80.58819071333333,
          81.62783508333334,
          83.00301157666667,
          84.23167978933334,
          84.28589731866667,
          84.72806650866666,
          85.14921061066667,
          92.56270141666667,
          101.80110067066667,
          104.34830117999999,
          105.87923686666666,
          106.59127604666668,
          107.47003682666667,
          107.63562978,
          108.48156381333334,
          113.50078174666666,
          121.85698902666667,
          124.65008596,
          125.30724335333333,
          127.32605032666667,
          129.30344087333333,
          129.3625763,
          129.51670632666668,
          131.16241965333333,
          131.97793274,
          136.79371439333332,
          145.00312093333332,
          152.83860678000002,
          154.36778361333333,
          155.10895589333333,
          156.00712891333333,
          158.62871397333336,
          165.44292195333335,
          172.86003825333333,
          174.39670716666666,
          174.72851564666664,
          177.49405518,
          179.01117860000002,
          179.34639384,
          179.62798563333334,
          186.23562824666666,
          193.53633115333332,
          198.1860860333333,
          199.67902019333332,
          200.67081909333334,
          202.21966044,
          202.64888509333332,
          204.16614278666665,
          208.64738159333334,
          215.5792867,
          222.47864074,
          229.17128601333334,
          235.65744832000001,
          241.92031046,
          243.52226155333335,
          244.62016805333332,
          247.3866099,
          247.96418760666666,
          249.79031982,
          251.24885457333332,
          252.51919046,
          255.89308675333334,
          262.0868347066667,
          268.12266642000003,
          273.9745280133333,
          279.60542806,
          285.0778646,
          290.37296548666666,
          292.87257689333336,
          293.9388956733334,
          295.49937133333333,
          297.28062134,
          298.58813273333334,
          300.37825318,
          301.3224263533333,
          303.9475158733333,
          309.3155273333333,
          314.55785115333333,
          319.6187479733333,
          324.49163208000004,
          329.20671996666664,
          333.76493734,
          338.1007670066667,
          338.1774454733333,
          339.06710408666663,
          341.9188679933333,
          342.47202961333335,
          344.70472207999995,
          346.6205993666666,
          346.7303263333333,
          349.91291300666666,
          350.52572836666667,
          351.3944742733333,
          356.00705364,
          360.5527119866667,
          364.91309204000004,
          369.10147298666664,
          373.1117472266667,
          376.94286294666665,
          380.6869832333333,
          384.2861796133333,
          387.7961832666667,
          391.22416992,
          394.53285930000004,
          397.75081584,
          400.31269226
         ],
         "xaxis": "x",
         "y": [
          43.907674147256095,
          44.499322777219085,
          44.64709541107627,
          45.45859667825989,
          45.68876331572825,
          46.34417623427966,
          47.30130247749982,
          48.309185997570395,
          49.32587985336811,
          49.893603128388094,
          50.22277868402138,
          50.26859170058653,
          50.683105115290154,
          58.95236691004567,
          66.81534109752243,
          67.35740621485164,
          67.63614872624564,
          68.60084829256773,
          69.87689249096513,
          71.01698974548428,
          71.06729889786772,
          71.47759345448999,
          71.86837855782154,
          78.74745333748017,
          87.31988446009973,
          89.68346502437412,
          91.10404020913116,
          91.76475064817326,
          92.5801642336543,
          92.73382009413537,
          93.518773313373,
          98.17617107676662,
          105.93000476425495,
          108.52175582647851,
          109.13154074009665,
          111.00481805285958,
          112.83966452331056,
          112.8945370567516,
          113.03755631811937,
          114.56463517156021,
          115.32136039774244,
          119.78998698442089,
          127.40760235120236,
          134.67825183127633,
          136.09719495309253,
          136.78493837547643,
          137.6183648315599,
          140.0509677902606,
          146.37396022192698,
          153.2563991447392,
          154.68229426527287,
          154.99018368014842,
          157.556363871605,
          158.96412247403083,
          159.27517306592944,
          159.53646576249693,
          165.6677834971316,
          172.44220091441423,
          176.75676909337727,
          178.14208216605755,
          179.06238529693368,
          180.4995753770676,
          180.89785852933957,
          182.30574172574214,
          186.463941643063,
          192.89614677315697,
          199.29814734407395,
          205.5083401552295,
          211.52693472938765,
          217.33832616739744,
          218.8247974739346,
          219.84355923033422,
          222.41057669009757,
          222.94651857485826,
          224.64101046562809,
          225.9944038803458,
          227.17316511285335,
          230.30384747397113,
          236.05110695702794,
          241.6518339019984,
          247.0818525739271,
          252.30683814569764,
          257.38478336350624,
          262.2981765163967,
          264.6175985318164,
          265.6070496309717,
          267.05503534214154,
          268.70788044814884,
          269.9211373180051,
          271.58221342094566,
          272.4583240190799,
          274.89417881190747,
          279.87522663643813,
          284.73964726103503,
          289.43571940679664,
          293.95733210445326,
          298.3325236321464,
          302.56215296516206,
          306.5854258455604,
          306.6565767945522,
          307.48210262167464,
          310.12829153338333,
          310.64157741297697,
          312.71332186374906,
          314.49108937820563,
          314.5929064612503,
          317.54607013158034,
          318.11470949431504,
          318.9208301482511,
          323.20090268367943,
          327.41887833210023,
          331.4649318363867,
          335.35138512698745,
          339.07257088222866,
          342.62751311080416,
          346.10173114250006,
          349.4414723916101,
          352.69845054670725,
          355.879324058126,
          358.9495000741617,
          361.9354839049415,
          364.31268243807534
         ],
         "yaxis": "y"
        }
       ],
       "layout": {
        "legend": {
         "tracegroupgap": 0
        },
        "margin": {
         "t": 60
        },
        "template": {
         "data": {
          "bar": [
           {
            "error_x": {
             "color": "#2a3f5f"
            },
            "error_y": {
             "color": "#2a3f5f"
            },
            "marker": {
             "line": {
              "color": "#E5ECF6",
              "width": 0.5
             },
             "pattern": {
              "fillmode": "overlay",
              "size": 10,
              "solidity": 0.2
             }
            },
            "type": "bar"
           }
          ],
          "barpolar": [
           {
            "marker": {
             "line": {
              "color": "#E5ECF6",
              "width": 0.5
             },
             "pattern": {
              "fillmode": "overlay",
              "size": 10,
              "solidity": 0.2
             }
            },
            "type": "barpolar"
           }
          ],
          "carpet": [
           {
            "aaxis": {
             "endlinecolor": "#2a3f5f",
             "gridcolor": "white",
             "linecolor": "white",
             "minorgridcolor": "white",
             "startlinecolor": "#2a3f5f"
            },
            "baxis": {
             "endlinecolor": "#2a3f5f",
             "gridcolor": "white",
             "linecolor": "white",
             "minorgridcolor": "white",
             "startlinecolor": "#2a3f5f"
            },
            "type": "carpet"
           }
          ],
          "choropleth": [
           {
            "colorbar": {
             "outlinewidth": 0,
             "ticks": ""
            },
            "type": "choropleth"
           }
          ],
          "contour": [
           {
            "colorbar": {
             "outlinewidth": 0,
             "ticks": ""
            },
            "colorscale": [
             [
              0,
              "#0d0887"
             ],
             [
              0.1111111111111111,
              "#46039f"
             ],
             [
              0.2222222222222222,
              "#7201a8"
             ],
             [
              0.3333333333333333,
              "#9c179e"
             ],
             [
              0.4444444444444444,
              "#bd3786"
             ],
             [
              0.5555555555555556,
              "#d8576b"
             ],
             [
              0.6666666666666666,
              "#ed7953"
             ],
             [
              0.7777777777777778,
              "#fb9f3a"
             ],
             [
              0.8888888888888888,
              "#fdca26"
             ],
             [
              1,
              "#f0f921"
             ]
            ],
            "type": "contour"
           }
          ],
          "contourcarpet": [
           {
            "colorbar": {
             "outlinewidth": 0,
             "ticks": ""
            },
            "type": "contourcarpet"
           }
          ],
          "heatmap": [
           {
            "colorbar": {
             "outlinewidth": 0,
             "ticks": ""
            },
            "colorscale": [
             [
              0,
              "#0d0887"
             ],
             [
              0.1111111111111111,
              "#46039f"
             ],
             [
              0.2222222222222222,
              "#7201a8"
             ],
             [
              0.3333333333333333,
              "#9c179e"
             ],
             [
              0.4444444444444444,
              "#bd3786"
             ],
             [
              0.5555555555555556,
              "#d8576b"
             ],
             [
              0.6666666666666666,
              "#ed7953"
             ],
             [
              0.7777777777777778,
              "#fb9f3a"
             ],
             [
              0.8888888888888888,
              "#fdca26"
             ],
             [
              1,
              "#f0f921"
             ]
            ],
            "type": "heatmap"
           }
          ],
          "heatmapgl": [
           {
            "colorbar": {
             "outlinewidth": 0,
             "ticks": ""
            },
            "colorscale": [
             [
              0,
              "#0d0887"
             ],
             [
              0.1111111111111111,
              "#46039f"
             ],
             [
              0.2222222222222222,
              "#7201a8"
             ],
             [
              0.3333333333333333,
              "#9c179e"
             ],
             [
              0.4444444444444444,
              "#bd3786"
             ],
             [
              0.5555555555555556,
              "#d8576b"
             ],
             [
              0.6666666666666666,
              "#ed7953"
             ],
             [
              0.7777777777777778,
              "#fb9f3a"
             ],
             [
              0.8888888888888888,
              "#fdca26"
             ],
             [
              1,
              "#f0f921"
             ]
            ],
            "type": "heatmapgl"
           }
          ],
          "histogram": [
           {
            "marker": {
             "pattern": {
              "fillmode": "overlay",
              "size": 10,
              "solidity": 0.2
             }
            },
            "type": "histogram"
           }
          ],
          "histogram2d": [
           {
            "colorbar": {
             "outlinewidth": 0,
             "ticks": ""
            },
            "colorscale": [
             [
              0,
              "#0d0887"
             ],
             [
              0.1111111111111111,
              "#46039f"
             ],
             [
              0.2222222222222222,
              "#7201a8"
             ],
             [
              0.3333333333333333,
              "#9c179e"
             ],
             [
              0.4444444444444444,
              "#bd3786"
             ],
             [
              0.5555555555555556,
              "#d8576b"
             ],
             [
              0.6666666666666666,
              "#ed7953"
             ],
             [
              0.7777777777777778,
              "#fb9f3a"
             ],
             [
              0.8888888888888888,
              "#fdca26"
             ],
             [
              1,
              "#f0f921"
             ]
            ],
            "type": "histogram2d"
           }
          ],
          "histogram2dcontour": [
           {
            "colorbar": {
             "outlinewidth": 0,
             "ticks": ""
            },
            "colorscale": [
             [
              0,
              "#0d0887"
             ],
             [
              0.1111111111111111,
              "#46039f"
             ],
             [
              0.2222222222222222,
              "#7201a8"
             ],
             [
              0.3333333333333333,
              "#9c179e"
             ],
             [
              0.4444444444444444,
              "#bd3786"
             ],
             [
              0.5555555555555556,
              "#d8576b"
             ],
             [
              0.6666666666666666,
              "#ed7953"
             ],
             [
              0.7777777777777778,
              "#fb9f3a"
             ],
             [
              0.8888888888888888,
              "#fdca26"
             ],
             [
              1,
              "#f0f921"
             ]
            ],
            "type": "histogram2dcontour"
           }
          ],
          "mesh3d": [
           {
            "colorbar": {
             "outlinewidth": 0,
             "ticks": ""
            },
            "type": "mesh3d"
           }
          ],
          "parcoords": [
           {
            "line": {
             "colorbar": {
              "outlinewidth": 0,
              "ticks": ""
             }
            },
            "type": "parcoords"
           }
          ],
          "pie": [
           {
            "automargin": true,
            "type": "pie"
           }
          ],
          "scatter": [
           {
            "marker": {
             "colorbar": {
              "outlinewidth": 0,
              "ticks": ""
             }
            },
            "type": "scatter"
           }
          ],
          "scatter3d": [
           {
            "line": {
             "colorbar": {
              "outlinewidth": 0,
              "ticks": ""
             }
            },
            "marker": {
             "colorbar": {
              "outlinewidth": 0,
              "ticks": ""
             }
            },
            "type": "scatter3d"
           }
          ],
          "scattercarpet": [
           {
            "marker": {
             "colorbar": {
              "outlinewidth": 0,
              "ticks": ""
             }
            },
            "type": "scattercarpet"
           }
          ],
          "scattergeo": [
           {
            "marker": {
             "colorbar": {
              "outlinewidth": 0,
              "ticks": ""
             }
            },
            "type": "scattergeo"
           }
          ],
          "scattergl": [
           {
            "marker": {
             "colorbar": {
              "outlinewidth": 0,
              "ticks": ""
             }
            },
            "type": "scattergl"
           }
          ],
          "scattermapbox": [
           {
            "marker": {
             "colorbar": {
              "outlinewidth": 0,
              "ticks": ""
             }
            },
            "type": "scattermapbox"
           }
          ],
          "scatterpolar": [
           {
            "marker": {
             "colorbar": {
              "outlinewidth": 0,
              "ticks": ""
             }
            },
            "type": "scatterpolar"
           }
          ],
          "scatterpolargl": [
           {
            "marker": {
             "colorbar": {
              "outlinewidth": 0,
              "ticks": ""
             }
            },
            "type": "scatterpolargl"
           }
          ],
          "scatterternary": [
           {
            "marker": {
             "colorbar": {
              "outlinewidth": 0,
              "ticks": ""
             }
            },
            "type": "scatterternary"
           }
          ],
          "surface": [
           {
            "colorbar": {
             "outlinewidth": 0,
             "ticks": ""
            },
            "colorscale": [
             [
              0,
              "#0d0887"
             ],
             [
              0.1111111111111111,
              "#46039f"
             ],
             [
              0.2222222222222222,
              "#7201a8"
             ],
             [
              0.3333333333333333,
              "#9c179e"
             ],
             [
              0.4444444444444444,
              "#bd3786"
             ],
             [
              0.5555555555555556,
              "#d8576b"
             ],
             [
              0.6666666666666666,
              "#ed7953"
             ],
             [
              0.7777777777777778,
              "#fb9f3a"
             ],
             [
              0.8888888888888888,
              "#fdca26"
             ],
             [
              1,
              "#f0f921"
             ]
            ],
            "type": "surface"
           }
          ],
          "table": [
           {
            "cells": {
             "fill": {
              "color": "#EBF0F8"
             },
             "line": {
              "color": "white"
             }
            },
            "header": {
             "fill": {
              "color": "#C8D4E3"
             },
             "line": {
              "color": "white"
             }
            },
            "type": "table"
           }
          ]
         },
         "layout": {
          "annotationdefaults": {
           "arrowcolor": "#2a3f5f",
           "arrowhead": 0,
           "arrowwidth": 1
          },
          "autotypenumbers": "strict",
          "coloraxis": {
           "colorbar": {
            "outlinewidth": 0,
            "ticks": ""
           }
          },
          "colorscale": {
           "diverging": [
            [
             0,
             "#8e0152"
            ],
            [
             0.1,
             "#c51b7d"
            ],
            [
             0.2,
             "#de77ae"
            ],
            [
             0.3,
             "#f1b6da"
            ],
            [
             0.4,
             "#fde0ef"
            ],
            [
             0.5,
             "#f7f7f7"
            ],
            [
             0.6,
             "#e6f5d0"
            ],
            [
             0.7,
             "#b8e186"
            ],
            [
             0.8,
             "#7fbc41"
            ],
            [
             0.9,
             "#4d9221"
            ],
            [
             1,
             "#276419"
            ]
           ],
           "sequential": [
            [
             0,
             "#0d0887"
            ],
            [
             0.1111111111111111,
             "#46039f"
            ],
            [
             0.2222222222222222,
             "#7201a8"
            ],
            [
             0.3333333333333333,
             "#9c179e"
            ],
            [
             0.4444444444444444,
             "#bd3786"
            ],
            [
             0.5555555555555556,
             "#d8576b"
            ],
            [
             0.6666666666666666,
             "#ed7953"
            ],
            [
             0.7777777777777778,
             "#fb9f3a"
            ],
            [
             0.8888888888888888,
             "#fdca26"
            ],
            [
             1,
             "#f0f921"
            ]
           ],
           "sequentialminus": [
            [
             0,
             "#0d0887"
            ],
            [
             0.1111111111111111,
             "#46039f"
            ],
            [
             0.2222222222222222,
             "#7201a8"
            ],
            [
             0.3333333333333333,
             "#9c179e"
            ],
            [
             0.4444444444444444,
             "#bd3786"
            ],
            [
             0.5555555555555556,
             "#d8576b"
            ],
            [
             0.6666666666666666,
             "#ed7953"
            ],
            [
             0.7777777777777778,
             "#fb9f3a"
            ],
            [
             0.8888888888888888,
             "#fdca26"
            ],
            [
             1,
             "#f0f921"
            ]
           ]
          },
          "colorway": [
           "#636efa",
           "#EF553B",
           "#00cc96",
           "#ab63fa",
           "#FFA15A",
           "#19d3f3",
           "#FF6692",
           "#B6E880",
           "#FF97FF",
           "#FECB52"
          ],
          "font": {
           "color": "#2a3f5f"
          },
          "geo": {
           "bgcolor": "white",
           "lakecolor": "white",
           "landcolor": "#E5ECF6",
           "showlakes": true,
           "showland": true,
           "subunitcolor": "white"
          },
          "hoverlabel": {
           "align": "left"
          },
          "hovermode": "closest",
          "mapbox": {
           "style": "light"
          },
          "paper_bgcolor": "white",
          "plot_bgcolor": "#E5ECF6",
          "polar": {
           "angularaxis": {
            "gridcolor": "white",
            "linecolor": "white",
            "ticks": ""
           },
           "bgcolor": "#E5ECF6",
           "radialaxis": {
            "gridcolor": "white",
            "linecolor": "white",
            "ticks": ""
           }
          },
          "scene": {
           "xaxis": {
            "backgroundcolor": "#E5ECF6",
            "gridcolor": "white",
            "gridwidth": 2,
            "linecolor": "white",
            "showbackground": true,
            "ticks": "",
            "zerolinecolor": "white"
           },
           "yaxis": {
            "backgroundcolor": "#E5ECF6",
            "gridcolor": "white",
            "gridwidth": 2,
            "linecolor": "white",
            "showbackground": true,
            "ticks": "",
            "zerolinecolor": "white"
           },
           "zaxis": {
            "backgroundcolor": "#E5ECF6",
            "gridcolor": "white",
            "gridwidth": 2,
            "linecolor": "white",
            "showbackground": true,
            "ticks": "",
            "zerolinecolor": "white"
           }
          },
          "shapedefaults": {
           "line": {
            "color": "#2a3f5f"
           }
          },
          "ternary": {
           "aaxis": {
            "gridcolor": "white",
            "linecolor": "white",
            "ticks": ""
           },
           "baxis": {
            "gridcolor": "white",
            "linecolor": "white",
            "ticks": ""
           },
           "bgcolor": "#E5ECF6",
           "caxis": {
            "gridcolor": "white",
            "linecolor": "white",
            "ticks": ""
           }
          },
          "title": {
           "x": 0.05
          },
          "xaxis": {
           "automargin": true,
           "gridcolor": "white",
           "linecolor": "white",
           "ticks": "",
           "title": {
            "standoff": 15
           },
           "zerolinecolor": "white",
           "zerolinewidth": 2
          },
          "yaxis": {
           "automargin": true,
           "gridcolor": "white",
           "linecolor": "white",
           "ticks": "",
           "title": {
            "standoff": 15
           },
           "zerolinecolor": "white",
           "zerolinewidth": 2
          }
         }
        },
        "xaxis": {
         "anchor": "y",
         "domain": [
          0,
          1
         ],
         "title": {
          "text": "Wall Temp [C]"
         }
        },
        "yaxis": {
         "anchor": "x",
         "domain": [
          0,
          1
         ],
         "title": {
          "text": "Internal Temp [C]"
         }
        }
       }
      },
      "text/html": [
       "<div>                            <div id=\"97fda30b-697c-4a58-9aba-a6d11a8682da\" class=\"plotly-graph-div\" style=\"height:525px; width:100%;\"></div>            <script type=\"text/javascript\">                require([\"plotly\"], function(Plotly) {                    window.PLOTLYENV=window.PLOTLYENV || {};                                    if (document.getElementById(\"97fda30b-697c-4a58-9aba-a6d11a8682da\")) {                    Plotly.newPlot(                        \"97fda30b-697c-4a58-9aba-a6d11a8682da\",                        [{\"hovertemplate\":\"Wall Temp [C]=%{x}<br>Internal Temp [C]=%{y}<extra></extra>\",\"legendgroup\":\"\",\"marker\":{\"color\":\"#636efa\",\"symbol\":\"circle\"},\"mode\":\"markers\",\"name\":\"\",\"orientation\":\"v\",\"showlegend\":false,\"x\":[56.935774484666666,61.46727650933334,62.31811269133333,61.82202479066667,60.85544840533333,59.75977045533333,58.673587291333334,57.64210459466666,56.68772684666667,55.813182321999996,55.016317494,55.65392964666667,61.871396892,71.22979024266667,80.58819071333333,84.72806650866666,85.14921061066667,84.28589731866667,83.00301157666667,81.62783508333334,80.287793478,79.703616842,84.23167978933334,92.56270141666667,101.80110067066667,107.63562978,108.48156381333334,107.47003682666667,105.87923686666666,104.34830117999999,106.59127604666668,113.50078174666666,121.85698902666667,129.51670632666668,131.97793274,131.16241965333333,129.3625763,127.32605032666667,125.30724335333333,124.65008596,129.30344087333333,136.79371439333332,145.00312093333332,152.83860678000002,156.00712891333333,155.10895589333333,154.36778361333333,158.62871397333336,165.44292195333335,172.86003825333333,179.01117860000002,179.62798563333334,177.49405518,174.72851564666664,174.39670716666666,179.34639384,186.23562824666666,193.53633115333332,200.67081909333334,204.16614278666665,202.64888509333332,199.67902019333332,198.1860860333333,202.21966044,208.64738159333334,215.5792867,222.47864074,229.17128601333334,235.65744832000001,241.92031046,247.96418760666666,252.51919046,251.24885457333332,247.3866099,243.52226155333335,244.62016805333332,249.79031982,255.89308675333334,262.0868347066667,268.12266642000003,273.9745280133333,279.60542806,285.0778646,290.37296548666666,295.49937133333333,300.37825318,301.3224263533333,297.28062134,292.87257689333336,293.9388956733334,298.58813273333334,303.9475158733333,309.3155273333333,314.55785115333333,319.6187479733333,324.49163208000004,329.20671996666664,333.76493734,338.1774454733333,342.47202961333335,346.6205993666666,350.52572836666667,349.91291300666666,344.70472207999995,339.06710408666663,338.1007670066667,341.9188679933333,346.7303263333333,351.3944742733333,356.00705364,360.5527119866667,364.91309204000004,369.10147298666664,373.1117472266667,376.94286294666665,380.6869832333333,384.2861796133333,387.7961832666667,391.22416992,394.53285930000004,397.75081584,400.31269226],\"xaxis\":\"x\",\"y\":[38.989777374,44.375639342666666,48.48760986333333,51.13990656466667,52.64415156,53.39997304133333,53.853317516,53.94423294133333,53.91397272733333,53.66769383733333,53.22070948266666,52.991293588666665,53.409992980666665,55.99046071333333,61.01403579666667,66.538990276,70.18528849266666,72.21773579933333,73.78851572666667,74.3814209,74.51030985533333,74.36151122999999,74.398168436,76.24781087133333,80.35501759799999,85.62390187666666,90.15891265799999,92.788639832,94.41671396933334,95.16929931666667,95.064389038,96.75708414733334,100.46994172266666,105.16501922666666,110.34511669333332,113.66960347333334,116.12229258,116.94632567333333,116.44378459333332,115.43441721999999,115.75318808,117.56710560666667,121.53456012,126.99204406666667,132.73998412666666,136.10538839333333,137.71070657333334,139.78701884,142.21510315333336,145.86986389333333,151.66838582,156.88642171333333,159.11197408,159.05449117333333,159.20573831333334,160.02287902,161.56830953333335,165.78463133333335,171.67067260666667,176.41676433333333,180.65998941333334,182.19986368666665,181.84712016,182.665743,185.14379068666668,188.28284912666666,192.87299804,197.0369323666667,202.39009806,208.05524290666665,214.11878358,219.84940592666666,224.37701110666666,226.31810607333333,225.22997233333334,223.86915385333336,225.14967244,228.43763934666669,230.89396057333335,235.85052288,239.58449299999998,244.35134683333334,249.88888039999998,255.07481383333334,260.92761433333334,265.8422037733333,270.10932820666665,273.04629924,272.23807170666663,271.35609130666666,272.04290569333335,274.8769002333333,278.7172424333333,283.48937378,288.75388591333336,293.77652994666664,296.2365865066667,301.45289306666666,303.73367105333335,309.52434488666665,314.63724364666666,319.16061807333335,323.64278768,323.43389078666667,321.07291258,318.9423014266667,317.8565795933334,319.2912821333333,307.0708231533333,318.00130412,329.0140543733333,333.6004211466667,339.27412517333335,339.06569823999996,342.3841369666667,349.85108643999996,348.9406494066667,353.89776612,360.54028729333334,365.41475626666664,366.9889973933333,372.32619323999995],\"yaxis\":\"y\",\"type\":\"scatter\"},{\"hovertemplate\":\"<b>OLS trendline</b><br>Internal Temp [C] = 0.927913 * Wall Temp [C] + -7.14268<br>R<sup>2</sup>=0.996991<br><br>Wall Temp [C]=%{x}<br>Internal Temp [C]=%{y} <b>(trend)</b><extra></extra>\",\"legendgroup\":\"\",\"marker\":{\"color\":\"#636efa\",\"symbol\":\"circle\"},\"mode\":\"lines\",\"name\":\"\",\"showlegend\":false,\"x\":[55.016317494,55.65392964666667,55.813182321999996,56.68772684666667,56.935774484666666,57.64210459466666,58.673587291333334,59.75977045533333,60.85544840533333,61.46727650933334,61.82202479066667,61.871396892,62.31811269133333,71.22979024266667,79.703616842,80.287793478,80.58819071333333,81.62783508333334,83.00301157666667,84.23167978933334,84.28589731866667,84.72806650866666,85.14921061066667,92.56270141666667,101.80110067066667,104.34830117999999,105.87923686666666,106.59127604666668,107.47003682666667,107.63562978,108.48156381333334,113.50078174666666,121.85698902666667,124.65008596,125.30724335333333,127.32605032666667,129.30344087333333,129.3625763,129.51670632666668,131.16241965333333,131.97793274,136.79371439333332,145.00312093333332,152.83860678000002,154.36778361333333,155.10895589333333,156.00712891333333,158.62871397333336,165.44292195333335,172.86003825333333,174.39670716666666,174.72851564666664,177.49405518,179.01117860000002,179.34639384,179.62798563333334,186.23562824666666,193.53633115333332,198.1860860333333,199.67902019333332,200.67081909333334,202.21966044,202.64888509333332,204.16614278666665,208.64738159333334,215.5792867,222.47864074,229.17128601333334,235.65744832000001,241.92031046,243.52226155333335,244.62016805333332,247.3866099,247.96418760666666,249.79031982,251.24885457333332,252.51919046,255.89308675333334,262.0868347066667,268.12266642000003,273.9745280133333,279.60542806,285.0778646,290.37296548666666,292.87257689333336,293.9388956733334,295.49937133333333,297.28062134,298.58813273333334,300.37825318,301.3224263533333,303.9475158733333,309.3155273333333,314.55785115333333,319.6187479733333,324.49163208000004,329.20671996666664,333.76493734,338.1007670066667,338.1774454733333,339.06710408666663,341.9188679933333,342.47202961333335,344.70472207999995,346.6205993666666,346.7303263333333,349.91291300666666,350.52572836666667,351.3944742733333,356.00705364,360.5527119866667,364.91309204000004,369.10147298666664,373.1117472266667,376.94286294666665,380.6869832333333,384.2861796133333,387.7961832666667,391.22416992,394.53285930000004,397.75081584,400.31269226],\"xaxis\":\"x\",\"y\":[43.907674147256095,44.499322777219085,44.64709541107627,45.45859667825989,45.68876331572825,46.34417623427966,47.30130247749982,48.309185997570395,49.32587985336811,49.893603128388094,50.22277868402138,50.26859170058653,50.683105115290154,58.95236691004567,66.81534109752243,67.35740621485164,67.63614872624564,68.60084829256773,69.87689249096513,71.01698974548428,71.06729889786772,71.47759345448999,71.86837855782154,78.74745333748017,87.31988446009973,89.68346502437412,91.10404020913116,91.76475064817326,92.5801642336543,92.73382009413537,93.518773313373,98.17617107676662,105.93000476425495,108.52175582647851,109.13154074009665,111.00481805285958,112.83966452331056,112.8945370567516,113.03755631811937,114.56463517156021,115.32136039774244,119.78998698442089,127.40760235120236,134.67825183127633,136.09719495309253,136.78493837547643,137.6183648315599,140.0509677902606,146.37396022192698,153.2563991447392,154.68229426527287,154.99018368014842,157.556363871605,158.96412247403083,159.27517306592944,159.53646576249693,165.6677834971316,172.44220091441423,176.75676909337727,178.14208216605755,179.06238529693368,180.4995753770676,180.89785852933957,182.30574172574214,186.463941643063,192.89614677315697,199.29814734407395,205.5083401552295,211.52693472938765,217.33832616739744,218.8247974739346,219.84355923033422,222.41057669009757,222.94651857485826,224.64101046562809,225.9944038803458,227.17316511285335,230.30384747397113,236.05110695702794,241.6518339019984,247.0818525739271,252.30683814569764,257.38478336350624,262.2981765163967,264.6175985318164,265.6070496309717,267.05503534214154,268.70788044814884,269.9211373180051,271.58221342094566,272.4583240190799,274.89417881190747,279.87522663643813,284.73964726103503,289.43571940679664,293.95733210445326,298.3325236321464,302.56215296516206,306.5854258455604,306.6565767945522,307.48210262167464,310.12829153338333,310.64157741297697,312.71332186374906,314.49108937820563,314.5929064612503,317.54607013158034,318.11470949431504,318.9208301482511,323.20090268367943,327.41887833210023,331.4649318363867,335.35138512698745,339.07257088222866,342.62751311080416,346.10173114250006,349.4414723916101,352.69845054670725,355.879324058126,358.9495000741617,361.9354839049415,364.31268243807534],\"yaxis\":\"y\",\"type\":\"scatter\"}],                        {\"template\":{\"data\":{\"bar\":[{\"error_x\":{\"color\":\"#2a3f5f\"},\"error_y\":{\"color\":\"#2a3f5f\"},\"marker\":{\"line\":{\"color\":\"#E5ECF6\",\"width\":0.5},\"pattern\":{\"fillmode\":\"overlay\",\"size\":10,\"solidity\":0.2}},\"type\":\"bar\"}],\"barpolar\":[{\"marker\":{\"line\":{\"color\":\"#E5ECF6\",\"width\":0.5},\"pattern\":{\"fillmode\":\"overlay\",\"size\":10,\"solidity\":0.2}},\"type\":\"barpolar\"}],\"carpet\":[{\"aaxis\":{\"endlinecolor\":\"#2a3f5f\",\"gridcolor\":\"white\",\"linecolor\":\"white\",\"minorgridcolor\":\"white\",\"startlinecolor\":\"#2a3f5f\"},\"baxis\":{\"endlinecolor\":\"#2a3f5f\",\"gridcolor\":\"white\",\"linecolor\":\"white\",\"minorgridcolor\":\"white\",\"startlinecolor\":\"#2a3f5f\"},\"type\":\"carpet\"}],\"choropleth\":[{\"colorbar\":{\"outlinewidth\":0,\"ticks\":\"\"},\"type\":\"choropleth\"}],\"contour\":[{\"colorbar\":{\"outlinewidth\":0,\"ticks\":\"\"},\"colorscale\":[[0.0,\"#0d0887\"],[0.1111111111111111,\"#46039f\"],[0.2222222222222222,\"#7201a8\"],[0.3333333333333333,\"#9c179e\"],[0.4444444444444444,\"#bd3786\"],[0.5555555555555556,\"#d8576b\"],[0.6666666666666666,\"#ed7953\"],[0.7777777777777778,\"#fb9f3a\"],[0.8888888888888888,\"#fdca26\"],[1.0,\"#f0f921\"]],\"type\":\"contour\"}],\"contourcarpet\":[{\"colorbar\":{\"outlinewidth\":0,\"ticks\":\"\"},\"type\":\"contourcarpet\"}],\"heatmap\":[{\"colorbar\":{\"outlinewidth\":0,\"ticks\":\"\"},\"colorscale\":[[0.0,\"#0d0887\"],[0.1111111111111111,\"#46039f\"],[0.2222222222222222,\"#7201a8\"],[0.3333333333333333,\"#9c179e\"],[0.4444444444444444,\"#bd3786\"],[0.5555555555555556,\"#d8576b\"],[0.6666666666666666,\"#ed7953\"],[0.7777777777777778,\"#fb9f3a\"],[0.8888888888888888,\"#fdca26\"],[1.0,\"#f0f921\"]],\"type\":\"heatmap\"}],\"heatmapgl\":[{\"colorbar\":{\"outlinewidth\":0,\"ticks\":\"\"},\"colorscale\":[[0.0,\"#0d0887\"],[0.1111111111111111,\"#46039f\"],[0.2222222222222222,\"#7201a8\"],[0.3333333333333333,\"#9c179e\"],[0.4444444444444444,\"#bd3786\"],[0.5555555555555556,\"#d8576b\"],[0.6666666666666666,\"#ed7953\"],[0.7777777777777778,\"#fb9f3a\"],[0.8888888888888888,\"#fdca26\"],[1.0,\"#f0f921\"]],\"type\":\"heatmapgl\"}],\"histogram\":[{\"marker\":{\"pattern\":{\"fillmode\":\"overlay\",\"size\":10,\"solidity\":0.2}},\"type\":\"histogram\"}],\"histogram2d\":[{\"colorbar\":{\"outlinewidth\":0,\"ticks\":\"\"},\"colorscale\":[[0.0,\"#0d0887\"],[0.1111111111111111,\"#46039f\"],[0.2222222222222222,\"#7201a8\"],[0.3333333333333333,\"#9c179e\"],[0.4444444444444444,\"#bd3786\"],[0.5555555555555556,\"#d8576b\"],[0.6666666666666666,\"#ed7953\"],[0.7777777777777778,\"#fb9f3a\"],[0.8888888888888888,\"#fdca26\"],[1.0,\"#f0f921\"]],\"type\":\"histogram2d\"}],\"histogram2dcontour\":[{\"colorbar\":{\"outlinewidth\":0,\"ticks\":\"\"},\"colorscale\":[[0.0,\"#0d0887\"],[0.1111111111111111,\"#46039f\"],[0.2222222222222222,\"#7201a8\"],[0.3333333333333333,\"#9c179e\"],[0.4444444444444444,\"#bd3786\"],[0.5555555555555556,\"#d8576b\"],[0.6666666666666666,\"#ed7953\"],[0.7777777777777778,\"#fb9f3a\"],[0.8888888888888888,\"#fdca26\"],[1.0,\"#f0f921\"]],\"type\":\"histogram2dcontour\"}],\"mesh3d\":[{\"colorbar\":{\"outlinewidth\":0,\"ticks\":\"\"},\"type\":\"mesh3d\"}],\"parcoords\":[{\"line\":{\"colorbar\":{\"outlinewidth\":0,\"ticks\":\"\"}},\"type\":\"parcoords\"}],\"pie\":[{\"automargin\":true,\"type\":\"pie\"}],\"scatter\":[{\"marker\":{\"colorbar\":{\"outlinewidth\":0,\"ticks\":\"\"}},\"type\":\"scatter\"}],\"scatter3d\":[{\"line\":{\"colorbar\":{\"outlinewidth\":0,\"ticks\":\"\"}},\"marker\":{\"colorbar\":{\"outlinewidth\":0,\"ticks\":\"\"}},\"type\":\"scatter3d\"}],\"scattercarpet\":[{\"marker\":{\"colorbar\":{\"outlinewidth\":0,\"ticks\":\"\"}},\"type\":\"scattercarpet\"}],\"scattergeo\":[{\"marker\":{\"colorbar\":{\"outlinewidth\":0,\"ticks\":\"\"}},\"type\":\"scattergeo\"}],\"scattergl\":[{\"marker\":{\"colorbar\":{\"outlinewidth\":0,\"ticks\":\"\"}},\"type\":\"scattergl\"}],\"scattermapbox\":[{\"marker\":{\"colorbar\":{\"outlinewidth\":0,\"ticks\":\"\"}},\"type\":\"scattermapbox\"}],\"scatterpolar\":[{\"marker\":{\"colorbar\":{\"outlinewidth\":0,\"ticks\":\"\"}},\"type\":\"scatterpolar\"}],\"scatterpolargl\":[{\"marker\":{\"colorbar\":{\"outlinewidth\":0,\"ticks\":\"\"}},\"type\":\"scatterpolargl\"}],\"scatterternary\":[{\"marker\":{\"colorbar\":{\"outlinewidth\":0,\"ticks\":\"\"}},\"type\":\"scatterternary\"}],\"surface\":[{\"colorbar\":{\"outlinewidth\":0,\"ticks\":\"\"},\"colorscale\":[[0.0,\"#0d0887\"],[0.1111111111111111,\"#46039f\"],[0.2222222222222222,\"#7201a8\"],[0.3333333333333333,\"#9c179e\"],[0.4444444444444444,\"#bd3786\"],[0.5555555555555556,\"#d8576b\"],[0.6666666666666666,\"#ed7953\"],[0.7777777777777778,\"#fb9f3a\"],[0.8888888888888888,\"#fdca26\"],[1.0,\"#f0f921\"]],\"type\":\"surface\"}],\"table\":[{\"cells\":{\"fill\":{\"color\":\"#EBF0F8\"},\"line\":{\"color\":\"white\"}},\"header\":{\"fill\":{\"color\":\"#C8D4E3\"},\"line\":{\"color\":\"white\"}},\"type\":\"table\"}]},\"layout\":{\"annotationdefaults\":{\"arrowcolor\":\"#2a3f5f\",\"arrowhead\":0,\"arrowwidth\":1},\"autotypenumbers\":\"strict\",\"coloraxis\":{\"colorbar\":{\"outlinewidth\":0,\"ticks\":\"\"}},\"colorscale\":{\"diverging\":[[0,\"#8e0152\"],[0.1,\"#c51b7d\"],[0.2,\"#de77ae\"],[0.3,\"#f1b6da\"],[0.4,\"#fde0ef\"],[0.5,\"#f7f7f7\"],[0.6,\"#e6f5d0\"],[0.7,\"#b8e186\"],[0.8,\"#7fbc41\"],[0.9,\"#4d9221\"],[1,\"#276419\"]],\"sequential\":[[0.0,\"#0d0887\"],[0.1111111111111111,\"#46039f\"],[0.2222222222222222,\"#7201a8\"],[0.3333333333333333,\"#9c179e\"],[0.4444444444444444,\"#bd3786\"],[0.5555555555555556,\"#d8576b\"],[0.6666666666666666,\"#ed7953\"],[0.7777777777777778,\"#fb9f3a\"],[0.8888888888888888,\"#fdca26\"],[1.0,\"#f0f921\"]],\"sequentialminus\":[[0.0,\"#0d0887\"],[0.1111111111111111,\"#46039f\"],[0.2222222222222222,\"#7201a8\"],[0.3333333333333333,\"#9c179e\"],[0.4444444444444444,\"#bd3786\"],[0.5555555555555556,\"#d8576b\"],[0.6666666666666666,\"#ed7953\"],[0.7777777777777778,\"#fb9f3a\"],[0.8888888888888888,\"#fdca26\"],[1.0,\"#f0f921\"]]},\"colorway\":[\"#636efa\",\"#EF553B\",\"#00cc96\",\"#ab63fa\",\"#FFA15A\",\"#19d3f3\",\"#FF6692\",\"#B6E880\",\"#FF97FF\",\"#FECB52\"],\"font\":{\"color\":\"#2a3f5f\"},\"geo\":{\"bgcolor\":\"white\",\"lakecolor\":\"white\",\"landcolor\":\"#E5ECF6\",\"showlakes\":true,\"showland\":true,\"subunitcolor\":\"white\"},\"hoverlabel\":{\"align\":\"left\"},\"hovermode\":\"closest\",\"mapbox\":{\"style\":\"light\"},\"paper_bgcolor\":\"white\",\"plot_bgcolor\":\"#E5ECF6\",\"polar\":{\"angularaxis\":{\"gridcolor\":\"white\",\"linecolor\":\"white\",\"ticks\":\"\"},\"bgcolor\":\"#E5ECF6\",\"radialaxis\":{\"gridcolor\":\"white\",\"linecolor\":\"white\",\"ticks\":\"\"}},\"scene\":{\"xaxis\":{\"backgroundcolor\":\"#E5ECF6\",\"gridcolor\":\"white\",\"gridwidth\":2,\"linecolor\":\"white\",\"showbackground\":true,\"ticks\":\"\",\"zerolinecolor\":\"white\"},\"yaxis\":{\"backgroundcolor\":\"#E5ECF6\",\"gridcolor\":\"white\",\"gridwidth\":2,\"linecolor\":\"white\",\"showbackground\":true,\"ticks\":\"\",\"zerolinecolor\":\"white\"},\"zaxis\":{\"backgroundcolor\":\"#E5ECF6\",\"gridcolor\":\"white\",\"gridwidth\":2,\"linecolor\":\"white\",\"showbackground\":true,\"ticks\":\"\",\"zerolinecolor\":\"white\"}},\"shapedefaults\":{\"line\":{\"color\":\"#2a3f5f\"}},\"ternary\":{\"aaxis\":{\"gridcolor\":\"white\",\"linecolor\":\"white\",\"ticks\":\"\"},\"baxis\":{\"gridcolor\":\"white\",\"linecolor\":\"white\",\"ticks\":\"\"},\"bgcolor\":\"#E5ECF6\",\"caxis\":{\"gridcolor\":\"white\",\"linecolor\":\"white\",\"ticks\":\"\"}},\"title\":{\"x\":0.05},\"xaxis\":{\"automargin\":true,\"gridcolor\":\"white\",\"linecolor\":\"white\",\"ticks\":\"\",\"title\":{\"standoff\":15},\"zerolinecolor\":\"white\",\"zerolinewidth\":2},\"yaxis\":{\"automargin\":true,\"gridcolor\":\"white\",\"linecolor\":\"white\",\"ticks\":\"\",\"title\":{\"standoff\":15},\"zerolinecolor\":\"white\",\"zerolinewidth\":2}}},\"xaxis\":{\"anchor\":\"y\",\"domain\":[0.0,1.0],\"title\":{\"text\":\"Wall Temp [C]\"}},\"yaxis\":{\"anchor\":\"x\",\"domain\":[0.0,1.0],\"title\":{\"text\":\"Internal Temp [C]\"}},\"legend\":{\"tracegroupgap\":0},\"margin\":{\"t\":60}},                        {\"responsive\": true}                    ).then(function(){\n",
       "                            \n",
       "var gd = document.getElementById('97fda30b-697c-4a58-9aba-a6d11a8682da');\n",
       "var x = new MutationObserver(function (mutations, observer) {{\n",
       "        var display = window.getComputedStyle(gd).display;\n",
       "        if (!display || display === 'none') {{\n",
       "            console.log([gd, 'removed!']);\n",
       "            Plotly.purge(gd);\n",
       "            observer.disconnect();\n",
       "        }}\n",
       "}});\n",
       "\n",
       "// Listen for the removal of the full notebook cells\n",
       "var notebookContainer = gd.closest('#notebook-container');\n",
       "if (notebookContainer) {{\n",
       "    x.observe(notebookContainer, {childList: true});\n",
       "}}\n",
       "\n",
       "// Listen for the clearing of the current output cell\n",
       "var outputEl = gd.closest('.output');\n",
       "if (outputEl) {{\n",
       "    x.observe(outputEl, {childList: true});\n",
       "}}\n",
       "\n",
       "                        })                };                });            </script>        </div>"
      ]
     },
     "metadata": {},
     "output_type": "display_data"
    }
   ],
   "source": [
    "fig14i = px.scatter(June14HeatingFilt, x=\"Wall Temp [C]\", y=\"Internal Temp [C]\", trendline=\"ols\")\n",
    "fig14i.show()"
   ]
  },
  {
   "cell_type": "code",
   "execution_count": 77,
   "id": "f42355cb",
   "metadata": {
    "collapsed": true
   },
   "outputs": [
    {
     "data": {
      "application/vnd.plotly.v1+json": {
       "config": {
        "plotlyServerURL": "https://plot.ly"
       },
       "data": [
        {
         "hovertemplate": "Wall Temp [C]=%{x}<br>Internal Temp [C]=%{y}<extra></extra>",
         "legendgroup": "",
         "marker": {
          "color": "#636efa",
          "symbol": "circle"
         },
         "mode": "markers",
         "name": "",
         "orientation": "v",
         "showlegend": false,
         "type": "scatter",
         "x": [
          21.467992782,
          21.491050337999997,
          21.516554514,
          21.544210306666667,
          23.383564123333333,
          35.297876994666666,
          54.19170252466667,
          75.15282287666668,
          95.99884236999999,
          115.94801890666666,
          133.28598175333335,
          144.50969644666665,
          152.40819193333334,
          159.06800944,
          165.23399149333332,
          171.12679443333334,
          176.8213216133333,
          181.98653767333332,
          187.31461386,
          195.26128437999998,
          208.05585224666666,
          222.5552927533333,
          237.1949585,
          251.51134134,
          265.4667806,
          278.9541382,
          292.0002400866667,
          304.64209797999996,
          316.88417154666666,
          328.81524862,
          340.4143717466667,
          351.6939107266666,
          362.6494568,
          373.3432963133334,
          383.69018350666664,
          393.70282594,
          403.29643146666666,
          412.48720906666665,
          421.32496540666665,
          429.80466308666666,
          437.99857584666665,
          445.99790039333334,
          453.80137735999995,
          461.4715922066667,
          469.00543213333333,
          476.40194092,
          483.61771647333336,
          490.625236,
          497.4003601066667,
          503.8320577066667,
          502.3599995933334,
          493.42195028,
          485.23202717333334,
          487.11563314666665,
          493.71888834000003,
          500.80207112,
          507.34561768,
          505.6987447066667,
          497.80555014000004,
          496.6663655533333,
          502.8454569533333,
          509.92820638666666,
          512.49823
         ],
         "xaxis": "x",
         "y": [
          22.303731792,
          22.088381448,
          21.960430779333333,
          21.893261591999998,
          21.92045873,
          24.380285518666664,
          35.36068306000001,
          54.724657948,
          69.96583150133333,
          77.247397868,
          89.58816935266667,
          103.043136086,
          112.07624867999999,
          121.12214609333334,
          128.31878866,
          135.95807799333335,
          143.94222513333335,
          149.91107382666667,
          155.45741882666667,
          161.06939595999998,
          169.18339844666667,
          177.27372945333335,
          187.13869323333336,
          198.87132974666667,
          212.44843443333332,
          226.89875794666665,
          241.63134663333332,
          255.98569844,
          268.6738728733333,
          281.10151365999997,
          293.1227233866667,
          303.27369588,
          319.54386597333337,
          332.1511962866667,
          337.39651082,
          348.6422648133333,
          359.6686543866667,
          368.1399068133333,
          375.69931641333335,
          386.50614421333336,
          395.38567505333333,
          406.57950235333334,
          413.61183675333336,
          421.8283345533334,
          431.58862712,
          442.05962728000003,
          447.44333699333333,
          446.30029296666663,
          457.64551596,
          465.744694,
          472.06842244,
          469.17256877333335,
          461.09367878666666,
          458.1469726533333,
          459.99623006,
          464.45174560000004,
          471.72394410000004,
          478.1681172666667,
          475.52702026000003,
          468.57070718666665,
          467.64181518,
          470.81829426666667,
          477.3258667
         ],
         "yaxis": "y"
        },
        {
         "hovertemplate": "<b>OLS trendline</b><br>Internal Temp [C] = 0.964099 * Wall Temp [C] + -23.6889<br>R<sup>2</sup>=0.994357<br><br>Wall Temp [C]=%{x}<br>Internal Temp [C]=%{y} <b>(trend)</b><extra></extra>",
         "legendgroup": "",
         "marker": {
          "color": "#636efa",
          "symbol": "circle"
         },
         "mode": "lines",
         "name": "",
         "showlegend": false,
         "type": "scatter",
         "x": [
          21.467992782,
          21.491050337999997,
          21.516554514,
          21.544210306666667,
          23.383564123333333,
          35.297876994666666,
          54.19170252466667,
          75.15282287666668,
          95.99884236999999,
          115.94801890666666,
          133.28598175333335,
          144.50969644666665,
          152.40819193333334,
          159.06800944,
          165.23399149333332,
          171.12679443333334,
          176.8213216133333,
          181.98653767333332,
          187.31461386,
          195.26128437999998,
          208.05585224666666,
          222.5552927533333,
          237.1949585,
          251.51134134,
          265.4667806,
          278.9541382,
          292.0002400866667,
          304.64209797999996,
          316.88417154666666,
          328.81524862,
          340.4143717466667,
          351.6939107266666,
          362.6494568,
          373.3432963133334,
          383.69018350666664,
          393.70282594,
          403.29643146666666,
          412.48720906666665,
          421.32496540666665,
          429.80466308666666,
          437.99857584666665,
          445.99790039333334,
          453.80137735999995,
          461.4715922066667,
          469.00543213333333,
          476.40194092,
          483.61771647333336,
          485.23202717333334,
          487.11563314666665,
          490.625236,
          493.42195028,
          493.71888834000003,
          496.6663655533333,
          497.4003601066667,
          497.80555014000004,
          500.80207112,
          502.3599995933334,
          502.8454569533333,
          503.8320577066667,
          505.6987447066667,
          507.34561768,
          509.92820638666666,
          512.49823
         ],
         "xaxis": "x",
         "y": [
          -2.9916061120636535,
          -2.969376335634731,
          -2.944787774276193,
          -2.9181248405314086,
          -1.1448048877061296,
          10.341777273646066,
          28.557303560082374,
          48.76590759099994,
          68.86354295052243,
          88.09653253325251,
          104.81205250485635,
          115.63282936146757,
          123.24776430051566,
          129.66849051411032,
          135.6131102522279,
          141.2943581648818,
          146.78444853178038,
          151.76423035344797,
          156.90102552921894,
          164.5624059900931,
          176.89764148429217,
          190.8765437065255,
          204.99063700169359,
          218.7930534331692,
          232.2474843675325,
          245.25063804370419,
          257.82837734137956,
          270.01638523844434,
          281.81896129695764,
          293.3217058157803,
          304.5044137262523,
          315.3790107454126,
          325.94124639029036,
          336.2511708917503,
          346.22659886178684,
          355.87978165166055,
          365.1289712017186,
          373.9897945802221,
          382.51027036575186,
          390.6855420038759,
          398.585288565606,
          406.29743274319344,
          413.82076038196175,
          421.21561008776786,
          428.4789808119284,
          435.6099506632936,
          442.56667570873594,
          444.1230317226958,
          445.93901515421754,
          449.32262123909095,
          452.0189318619504,
          452.30520967417993,
          455.14687075403344,
          455.85451447918143,
          456.2451579564098,
          459.1341021033947,
          460.63610004517375,
          461.1041292057046,
          462.055310422448,
          463.854982281546,
          465.442731564429,
          467.93260384564826,
          470.4103621276385
         ],
         "yaxis": "y"
        }
       ],
       "layout": {
        "legend": {
         "tracegroupgap": 0
        },
        "margin": {
         "t": 60
        },
        "template": {
         "data": {
          "bar": [
           {
            "error_x": {
             "color": "#2a3f5f"
            },
            "error_y": {
             "color": "#2a3f5f"
            },
            "marker": {
             "line": {
              "color": "#E5ECF6",
              "width": 0.5
             },
             "pattern": {
              "fillmode": "overlay",
              "size": 10,
              "solidity": 0.2
             }
            },
            "type": "bar"
           }
          ],
          "barpolar": [
           {
            "marker": {
             "line": {
              "color": "#E5ECF6",
              "width": 0.5
             },
             "pattern": {
              "fillmode": "overlay",
              "size": 10,
              "solidity": 0.2
             }
            },
            "type": "barpolar"
           }
          ],
          "carpet": [
           {
            "aaxis": {
             "endlinecolor": "#2a3f5f",
             "gridcolor": "white",
             "linecolor": "white",
             "minorgridcolor": "white",
             "startlinecolor": "#2a3f5f"
            },
            "baxis": {
             "endlinecolor": "#2a3f5f",
             "gridcolor": "white",
             "linecolor": "white",
             "minorgridcolor": "white",
             "startlinecolor": "#2a3f5f"
            },
            "type": "carpet"
           }
          ],
          "choropleth": [
           {
            "colorbar": {
             "outlinewidth": 0,
             "ticks": ""
            },
            "type": "choropleth"
           }
          ],
          "contour": [
           {
            "colorbar": {
             "outlinewidth": 0,
             "ticks": ""
            },
            "colorscale": [
             [
              0,
              "#0d0887"
             ],
             [
              0.1111111111111111,
              "#46039f"
             ],
             [
              0.2222222222222222,
              "#7201a8"
             ],
             [
              0.3333333333333333,
              "#9c179e"
             ],
             [
              0.4444444444444444,
              "#bd3786"
             ],
             [
              0.5555555555555556,
              "#d8576b"
             ],
             [
              0.6666666666666666,
              "#ed7953"
             ],
             [
              0.7777777777777778,
              "#fb9f3a"
             ],
             [
              0.8888888888888888,
              "#fdca26"
             ],
             [
              1,
              "#f0f921"
             ]
            ],
            "type": "contour"
           }
          ],
          "contourcarpet": [
           {
            "colorbar": {
             "outlinewidth": 0,
             "ticks": ""
            },
            "type": "contourcarpet"
           }
          ],
          "heatmap": [
           {
            "colorbar": {
             "outlinewidth": 0,
             "ticks": ""
            },
            "colorscale": [
             [
              0,
              "#0d0887"
             ],
             [
              0.1111111111111111,
              "#46039f"
             ],
             [
              0.2222222222222222,
              "#7201a8"
             ],
             [
              0.3333333333333333,
              "#9c179e"
             ],
             [
              0.4444444444444444,
              "#bd3786"
             ],
             [
              0.5555555555555556,
              "#d8576b"
             ],
             [
              0.6666666666666666,
              "#ed7953"
             ],
             [
              0.7777777777777778,
              "#fb9f3a"
             ],
             [
              0.8888888888888888,
              "#fdca26"
             ],
             [
              1,
              "#f0f921"
             ]
            ],
            "type": "heatmap"
           }
          ],
          "heatmapgl": [
           {
            "colorbar": {
             "outlinewidth": 0,
             "ticks": ""
            },
            "colorscale": [
             [
              0,
              "#0d0887"
             ],
             [
              0.1111111111111111,
              "#46039f"
             ],
             [
              0.2222222222222222,
              "#7201a8"
             ],
             [
              0.3333333333333333,
              "#9c179e"
             ],
             [
              0.4444444444444444,
              "#bd3786"
             ],
             [
              0.5555555555555556,
              "#d8576b"
             ],
             [
              0.6666666666666666,
              "#ed7953"
             ],
             [
              0.7777777777777778,
              "#fb9f3a"
             ],
             [
              0.8888888888888888,
              "#fdca26"
             ],
             [
              1,
              "#f0f921"
             ]
            ],
            "type": "heatmapgl"
           }
          ],
          "histogram": [
           {
            "marker": {
             "pattern": {
              "fillmode": "overlay",
              "size": 10,
              "solidity": 0.2
             }
            },
            "type": "histogram"
           }
          ],
          "histogram2d": [
           {
            "colorbar": {
             "outlinewidth": 0,
             "ticks": ""
            },
            "colorscale": [
             [
              0,
              "#0d0887"
             ],
             [
              0.1111111111111111,
              "#46039f"
             ],
             [
              0.2222222222222222,
              "#7201a8"
             ],
             [
              0.3333333333333333,
              "#9c179e"
             ],
             [
              0.4444444444444444,
              "#bd3786"
             ],
             [
              0.5555555555555556,
              "#d8576b"
             ],
             [
              0.6666666666666666,
              "#ed7953"
             ],
             [
              0.7777777777777778,
              "#fb9f3a"
             ],
             [
              0.8888888888888888,
              "#fdca26"
             ],
             [
              1,
              "#f0f921"
             ]
            ],
            "type": "histogram2d"
           }
          ],
          "histogram2dcontour": [
           {
            "colorbar": {
             "outlinewidth": 0,
             "ticks": ""
            },
            "colorscale": [
             [
              0,
              "#0d0887"
             ],
             [
              0.1111111111111111,
              "#46039f"
             ],
             [
              0.2222222222222222,
              "#7201a8"
             ],
             [
              0.3333333333333333,
              "#9c179e"
             ],
             [
              0.4444444444444444,
              "#bd3786"
             ],
             [
              0.5555555555555556,
              "#d8576b"
             ],
             [
              0.6666666666666666,
              "#ed7953"
             ],
             [
              0.7777777777777778,
              "#fb9f3a"
             ],
             [
              0.8888888888888888,
              "#fdca26"
             ],
             [
              1,
              "#f0f921"
             ]
            ],
            "type": "histogram2dcontour"
           }
          ],
          "mesh3d": [
           {
            "colorbar": {
             "outlinewidth": 0,
             "ticks": ""
            },
            "type": "mesh3d"
           }
          ],
          "parcoords": [
           {
            "line": {
             "colorbar": {
              "outlinewidth": 0,
              "ticks": ""
             }
            },
            "type": "parcoords"
           }
          ],
          "pie": [
           {
            "automargin": true,
            "type": "pie"
           }
          ],
          "scatter": [
           {
            "marker": {
             "colorbar": {
              "outlinewidth": 0,
              "ticks": ""
             }
            },
            "type": "scatter"
           }
          ],
          "scatter3d": [
           {
            "line": {
             "colorbar": {
              "outlinewidth": 0,
              "ticks": ""
             }
            },
            "marker": {
             "colorbar": {
              "outlinewidth": 0,
              "ticks": ""
             }
            },
            "type": "scatter3d"
           }
          ],
          "scattercarpet": [
           {
            "marker": {
             "colorbar": {
              "outlinewidth": 0,
              "ticks": ""
             }
            },
            "type": "scattercarpet"
           }
          ],
          "scattergeo": [
           {
            "marker": {
             "colorbar": {
              "outlinewidth": 0,
              "ticks": ""
             }
            },
            "type": "scattergeo"
           }
          ],
          "scattergl": [
           {
            "marker": {
             "colorbar": {
              "outlinewidth": 0,
              "ticks": ""
             }
            },
            "type": "scattergl"
           }
          ],
          "scattermapbox": [
           {
            "marker": {
             "colorbar": {
              "outlinewidth": 0,
              "ticks": ""
             }
            },
            "type": "scattermapbox"
           }
          ],
          "scatterpolar": [
           {
            "marker": {
             "colorbar": {
              "outlinewidth": 0,
              "ticks": ""
             }
            },
            "type": "scatterpolar"
           }
          ],
          "scatterpolargl": [
           {
            "marker": {
             "colorbar": {
              "outlinewidth": 0,
              "ticks": ""
             }
            },
            "type": "scatterpolargl"
           }
          ],
          "scatterternary": [
           {
            "marker": {
             "colorbar": {
              "outlinewidth": 0,
              "ticks": ""
             }
            },
            "type": "scatterternary"
           }
          ],
          "surface": [
           {
            "colorbar": {
             "outlinewidth": 0,
             "ticks": ""
            },
            "colorscale": [
             [
              0,
              "#0d0887"
             ],
             [
              0.1111111111111111,
              "#46039f"
             ],
             [
              0.2222222222222222,
              "#7201a8"
             ],
             [
              0.3333333333333333,
              "#9c179e"
             ],
             [
              0.4444444444444444,
              "#bd3786"
             ],
             [
              0.5555555555555556,
              "#d8576b"
             ],
             [
              0.6666666666666666,
              "#ed7953"
             ],
             [
              0.7777777777777778,
              "#fb9f3a"
             ],
             [
              0.8888888888888888,
              "#fdca26"
             ],
             [
              1,
              "#f0f921"
             ]
            ],
            "type": "surface"
           }
          ],
          "table": [
           {
            "cells": {
             "fill": {
              "color": "#EBF0F8"
             },
             "line": {
              "color": "white"
             }
            },
            "header": {
             "fill": {
              "color": "#C8D4E3"
             },
             "line": {
              "color": "white"
             }
            },
            "type": "table"
           }
          ]
         },
         "layout": {
          "annotationdefaults": {
           "arrowcolor": "#2a3f5f",
           "arrowhead": 0,
           "arrowwidth": 1
          },
          "autotypenumbers": "strict",
          "coloraxis": {
           "colorbar": {
            "outlinewidth": 0,
            "ticks": ""
           }
          },
          "colorscale": {
           "diverging": [
            [
             0,
             "#8e0152"
            ],
            [
             0.1,
             "#c51b7d"
            ],
            [
             0.2,
             "#de77ae"
            ],
            [
             0.3,
             "#f1b6da"
            ],
            [
             0.4,
             "#fde0ef"
            ],
            [
             0.5,
             "#f7f7f7"
            ],
            [
             0.6,
             "#e6f5d0"
            ],
            [
             0.7,
             "#b8e186"
            ],
            [
             0.8,
             "#7fbc41"
            ],
            [
             0.9,
             "#4d9221"
            ],
            [
             1,
             "#276419"
            ]
           ],
           "sequential": [
            [
             0,
             "#0d0887"
            ],
            [
             0.1111111111111111,
             "#46039f"
            ],
            [
             0.2222222222222222,
             "#7201a8"
            ],
            [
             0.3333333333333333,
             "#9c179e"
            ],
            [
             0.4444444444444444,
             "#bd3786"
            ],
            [
             0.5555555555555556,
             "#d8576b"
            ],
            [
             0.6666666666666666,
             "#ed7953"
            ],
            [
             0.7777777777777778,
             "#fb9f3a"
            ],
            [
             0.8888888888888888,
             "#fdca26"
            ],
            [
             1,
             "#f0f921"
            ]
           ],
           "sequentialminus": [
            [
             0,
             "#0d0887"
            ],
            [
             0.1111111111111111,
             "#46039f"
            ],
            [
             0.2222222222222222,
             "#7201a8"
            ],
            [
             0.3333333333333333,
             "#9c179e"
            ],
            [
             0.4444444444444444,
             "#bd3786"
            ],
            [
             0.5555555555555556,
             "#d8576b"
            ],
            [
             0.6666666666666666,
             "#ed7953"
            ],
            [
             0.7777777777777778,
             "#fb9f3a"
            ],
            [
             0.8888888888888888,
             "#fdca26"
            ],
            [
             1,
             "#f0f921"
            ]
           ]
          },
          "colorway": [
           "#636efa",
           "#EF553B",
           "#00cc96",
           "#ab63fa",
           "#FFA15A",
           "#19d3f3",
           "#FF6692",
           "#B6E880",
           "#FF97FF",
           "#FECB52"
          ],
          "font": {
           "color": "#2a3f5f"
          },
          "geo": {
           "bgcolor": "white",
           "lakecolor": "white",
           "landcolor": "#E5ECF6",
           "showlakes": true,
           "showland": true,
           "subunitcolor": "white"
          },
          "hoverlabel": {
           "align": "left"
          },
          "hovermode": "closest",
          "mapbox": {
           "style": "light"
          },
          "paper_bgcolor": "white",
          "plot_bgcolor": "#E5ECF6",
          "polar": {
           "angularaxis": {
            "gridcolor": "white",
            "linecolor": "white",
            "ticks": ""
           },
           "bgcolor": "#E5ECF6",
           "radialaxis": {
            "gridcolor": "white",
            "linecolor": "white",
            "ticks": ""
           }
          },
          "scene": {
           "xaxis": {
            "backgroundcolor": "#E5ECF6",
            "gridcolor": "white",
            "gridwidth": 2,
            "linecolor": "white",
            "showbackground": true,
            "ticks": "",
            "zerolinecolor": "white"
           },
           "yaxis": {
            "backgroundcolor": "#E5ECF6",
            "gridcolor": "white",
            "gridwidth": 2,
            "linecolor": "white",
            "showbackground": true,
            "ticks": "",
            "zerolinecolor": "white"
           },
           "zaxis": {
            "backgroundcolor": "#E5ECF6",
            "gridcolor": "white",
            "gridwidth": 2,
            "linecolor": "white",
            "showbackground": true,
            "ticks": "",
            "zerolinecolor": "white"
           }
          },
          "shapedefaults": {
           "line": {
            "color": "#2a3f5f"
           }
          },
          "ternary": {
           "aaxis": {
            "gridcolor": "white",
            "linecolor": "white",
            "ticks": ""
           },
           "baxis": {
            "gridcolor": "white",
            "linecolor": "white",
            "ticks": ""
           },
           "bgcolor": "#E5ECF6",
           "caxis": {
            "gridcolor": "white",
            "linecolor": "white",
            "ticks": ""
           }
          },
          "title": {
           "x": 0.05
          },
          "xaxis": {
           "automargin": true,
           "gridcolor": "white",
           "linecolor": "white",
           "ticks": "",
           "title": {
            "standoff": 15
           },
           "zerolinecolor": "white",
           "zerolinewidth": 2
          },
          "yaxis": {
           "automargin": true,
           "gridcolor": "white",
           "linecolor": "white",
           "ticks": "",
           "title": {
            "standoff": 15
           },
           "zerolinecolor": "white",
           "zerolinewidth": 2
          }
         }
        },
        "xaxis": {
         "anchor": "y",
         "domain": [
          0,
          1
         ],
         "title": {
          "text": "Wall Temp [C]"
         }
        },
        "yaxis": {
         "anchor": "x",
         "domain": [
          0,
          1
         ],
         "title": {
          "text": "Internal Temp [C]"
         }
        }
       }
      },
      "text/html": [
       "<div>                            <div id=\"c20e48c8-34cb-4189-9ec4-da0eb02ee04f\" class=\"plotly-graph-div\" style=\"height:525px; width:100%;\"></div>            <script type=\"text/javascript\">                require([\"plotly\"], function(Plotly) {                    window.PLOTLYENV=window.PLOTLYENV || {};                                    if (document.getElementById(\"c20e48c8-34cb-4189-9ec4-da0eb02ee04f\")) {                    Plotly.newPlot(                        \"c20e48c8-34cb-4189-9ec4-da0eb02ee04f\",                        [{\"hovertemplate\":\"Wall Temp [C]=%{x}<br>Internal Temp [C]=%{y}<extra></extra>\",\"legendgroup\":\"\",\"marker\":{\"color\":\"#636efa\",\"symbol\":\"circle\"},\"mode\":\"markers\",\"name\":\"\",\"orientation\":\"v\",\"showlegend\":false,\"x\":[21.467992782,21.491050337999997,21.516554514,21.544210306666667,23.383564123333333,35.297876994666666,54.19170252466667,75.15282287666668,95.99884236999999,115.94801890666666,133.28598175333335,144.50969644666665,152.40819193333334,159.06800944,165.23399149333332,171.12679443333334,176.8213216133333,181.98653767333332,187.31461386,195.26128437999998,208.05585224666666,222.5552927533333,237.1949585,251.51134134,265.4667806,278.9541382,292.0002400866667,304.64209797999996,316.88417154666666,328.81524862,340.4143717466667,351.6939107266666,362.6494568,373.3432963133334,383.69018350666664,393.70282594,403.29643146666666,412.48720906666665,421.32496540666665,429.80466308666666,437.99857584666665,445.99790039333334,453.80137735999995,461.4715922066667,469.00543213333333,476.40194092,483.61771647333336,490.625236,497.4003601066667,503.8320577066667,502.3599995933334,493.42195028,485.23202717333334,487.11563314666665,493.71888834000003,500.80207112,507.34561768,505.6987447066667,497.80555014000004,496.6663655533333,502.8454569533333,509.92820638666666,512.49823],\"xaxis\":\"x\",\"y\":[22.303731792,22.088381448,21.960430779333333,21.893261591999998,21.92045873,24.380285518666664,35.36068306000001,54.724657948,69.96583150133333,77.247397868,89.58816935266667,103.043136086,112.07624867999999,121.12214609333334,128.31878866,135.95807799333335,143.94222513333335,149.91107382666667,155.45741882666667,161.06939595999998,169.18339844666667,177.27372945333335,187.13869323333336,198.87132974666667,212.44843443333332,226.89875794666665,241.63134663333332,255.98569844,268.6738728733333,281.10151365999997,293.1227233866667,303.27369588,319.54386597333337,332.1511962866667,337.39651082,348.6422648133333,359.6686543866667,368.1399068133333,375.69931641333335,386.50614421333336,395.38567505333333,406.57950235333334,413.61183675333336,421.8283345533334,431.58862712,442.05962728000003,447.44333699333333,446.30029296666663,457.64551596,465.744694,472.06842244,469.17256877333335,461.09367878666666,458.1469726533333,459.99623006,464.45174560000004,471.72394410000004,478.1681172666667,475.52702026000003,468.57070718666665,467.64181518,470.81829426666667,477.3258667],\"yaxis\":\"y\",\"type\":\"scatter\"},{\"hovertemplate\":\"<b>OLS trendline</b><br>Internal Temp [C] = 0.964099 * Wall Temp [C] + -23.6889<br>R<sup>2</sup>=0.994357<br><br>Wall Temp [C]=%{x}<br>Internal Temp [C]=%{y} <b>(trend)</b><extra></extra>\",\"legendgroup\":\"\",\"marker\":{\"color\":\"#636efa\",\"symbol\":\"circle\"},\"mode\":\"lines\",\"name\":\"\",\"showlegend\":false,\"x\":[21.467992782,21.491050337999997,21.516554514,21.544210306666667,23.383564123333333,35.297876994666666,54.19170252466667,75.15282287666668,95.99884236999999,115.94801890666666,133.28598175333335,144.50969644666665,152.40819193333334,159.06800944,165.23399149333332,171.12679443333334,176.8213216133333,181.98653767333332,187.31461386,195.26128437999998,208.05585224666666,222.5552927533333,237.1949585,251.51134134,265.4667806,278.9541382,292.0002400866667,304.64209797999996,316.88417154666666,328.81524862,340.4143717466667,351.6939107266666,362.6494568,373.3432963133334,383.69018350666664,393.70282594,403.29643146666666,412.48720906666665,421.32496540666665,429.80466308666666,437.99857584666665,445.99790039333334,453.80137735999995,461.4715922066667,469.00543213333333,476.40194092,483.61771647333336,485.23202717333334,487.11563314666665,490.625236,493.42195028,493.71888834000003,496.6663655533333,497.4003601066667,497.80555014000004,500.80207112,502.3599995933334,502.8454569533333,503.8320577066667,505.6987447066667,507.34561768,509.92820638666666,512.49823],\"xaxis\":\"x\",\"y\":[-2.9916061120636535,-2.969376335634731,-2.944787774276193,-2.9181248405314086,-1.1448048877061296,10.341777273646066,28.557303560082374,48.76590759099994,68.86354295052243,88.09653253325251,104.81205250485635,115.63282936146757,123.24776430051566,129.66849051411032,135.6131102522279,141.2943581648818,146.78444853178038,151.76423035344797,156.90102552921894,164.5624059900931,176.89764148429217,190.8765437065255,204.99063700169359,218.7930534331692,232.2474843675325,245.25063804370419,257.82837734137956,270.01638523844434,281.81896129695764,293.3217058157803,304.5044137262523,315.3790107454126,325.94124639029036,336.2511708917503,346.22659886178684,355.87978165166055,365.1289712017186,373.9897945802221,382.51027036575186,390.6855420038759,398.585288565606,406.29743274319344,413.82076038196175,421.21561008776786,428.4789808119284,435.6099506632936,442.56667570873594,444.1230317226958,445.93901515421754,449.32262123909095,452.0189318619504,452.30520967417993,455.14687075403344,455.85451447918143,456.2451579564098,459.1341021033947,460.63610004517375,461.1041292057046,462.055310422448,463.854982281546,465.442731564429,467.93260384564826,470.4103621276385],\"yaxis\":\"y\",\"type\":\"scatter\"}],                        {\"template\":{\"data\":{\"bar\":[{\"error_x\":{\"color\":\"#2a3f5f\"},\"error_y\":{\"color\":\"#2a3f5f\"},\"marker\":{\"line\":{\"color\":\"#E5ECF6\",\"width\":0.5},\"pattern\":{\"fillmode\":\"overlay\",\"size\":10,\"solidity\":0.2}},\"type\":\"bar\"}],\"barpolar\":[{\"marker\":{\"line\":{\"color\":\"#E5ECF6\",\"width\":0.5},\"pattern\":{\"fillmode\":\"overlay\",\"size\":10,\"solidity\":0.2}},\"type\":\"barpolar\"}],\"carpet\":[{\"aaxis\":{\"endlinecolor\":\"#2a3f5f\",\"gridcolor\":\"white\",\"linecolor\":\"white\",\"minorgridcolor\":\"white\",\"startlinecolor\":\"#2a3f5f\"},\"baxis\":{\"endlinecolor\":\"#2a3f5f\",\"gridcolor\":\"white\",\"linecolor\":\"white\",\"minorgridcolor\":\"white\",\"startlinecolor\":\"#2a3f5f\"},\"type\":\"carpet\"}],\"choropleth\":[{\"colorbar\":{\"outlinewidth\":0,\"ticks\":\"\"},\"type\":\"choropleth\"}],\"contour\":[{\"colorbar\":{\"outlinewidth\":0,\"ticks\":\"\"},\"colorscale\":[[0.0,\"#0d0887\"],[0.1111111111111111,\"#46039f\"],[0.2222222222222222,\"#7201a8\"],[0.3333333333333333,\"#9c179e\"],[0.4444444444444444,\"#bd3786\"],[0.5555555555555556,\"#d8576b\"],[0.6666666666666666,\"#ed7953\"],[0.7777777777777778,\"#fb9f3a\"],[0.8888888888888888,\"#fdca26\"],[1.0,\"#f0f921\"]],\"type\":\"contour\"}],\"contourcarpet\":[{\"colorbar\":{\"outlinewidth\":0,\"ticks\":\"\"},\"type\":\"contourcarpet\"}],\"heatmap\":[{\"colorbar\":{\"outlinewidth\":0,\"ticks\":\"\"},\"colorscale\":[[0.0,\"#0d0887\"],[0.1111111111111111,\"#46039f\"],[0.2222222222222222,\"#7201a8\"],[0.3333333333333333,\"#9c179e\"],[0.4444444444444444,\"#bd3786\"],[0.5555555555555556,\"#d8576b\"],[0.6666666666666666,\"#ed7953\"],[0.7777777777777778,\"#fb9f3a\"],[0.8888888888888888,\"#fdca26\"],[1.0,\"#f0f921\"]],\"type\":\"heatmap\"}],\"heatmapgl\":[{\"colorbar\":{\"outlinewidth\":0,\"ticks\":\"\"},\"colorscale\":[[0.0,\"#0d0887\"],[0.1111111111111111,\"#46039f\"],[0.2222222222222222,\"#7201a8\"],[0.3333333333333333,\"#9c179e\"],[0.4444444444444444,\"#bd3786\"],[0.5555555555555556,\"#d8576b\"],[0.6666666666666666,\"#ed7953\"],[0.7777777777777778,\"#fb9f3a\"],[0.8888888888888888,\"#fdca26\"],[1.0,\"#f0f921\"]],\"type\":\"heatmapgl\"}],\"histogram\":[{\"marker\":{\"pattern\":{\"fillmode\":\"overlay\",\"size\":10,\"solidity\":0.2}},\"type\":\"histogram\"}],\"histogram2d\":[{\"colorbar\":{\"outlinewidth\":0,\"ticks\":\"\"},\"colorscale\":[[0.0,\"#0d0887\"],[0.1111111111111111,\"#46039f\"],[0.2222222222222222,\"#7201a8\"],[0.3333333333333333,\"#9c179e\"],[0.4444444444444444,\"#bd3786\"],[0.5555555555555556,\"#d8576b\"],[0.6666666666666666,\"#ed7953\"],[0.7777777777777778,\"#fb9f3a\"],[0.8888888888888888,\"#fdca26\"],[1.0,\"#f0f921\"]],\"type\":\"histogram2d\"}],\"histogram2dcontour\":[{\"colorbar\":{\"outlinewidth\":0,\"ticks\":\"\"},\"colorscale\":[[0.0,\"#0d0887\"],[0.1111111111111111,\"#46039f\"],[0.2222222222222222,\"#7201a8\"],[0.3333333333333333,\"#9c179e\"],[0.4444444444444444,\"#bd3786\"],[0.5555555555555556,\"#d8576b\"],[0.6666666666666666,\"#ed7953\"],[0.7777777777777778,\"#fb9f3a\"],[0.8888888888888888,\"#fdca26\"],[1.0,\"#f0f921\"]],\"type\":\"histogram2dcontour\"}],\"mesh3d\":[{\"colorbar\":{\"outlinewidth\":0,\"ticks\":\"\"},\"type\":\"mesh3d\"}],\"parcoords\":[{\"line\":{\"colorbar\":{\"outlinewidth\":0,\"ticks\":\"\"}},\"type\":\"parcoords\"}],\"pie\":[{\"automargin\":true,\"type\":\"pie\"}],\"scatter\":[{\"marker\":{\"colorbar\":{\"outlinewidth\":0,\"ticks\":\"\"}},\"type\":\"scatter\"}],\"scatter3d\":[{\"line\":{\"colorbar\":{\"outlinewidth\":0,\"ticks\":\"\"}},\"marker\":{\"colorbar\":{\"outlinewidth\":0,\"ticks\":\"\"}},\"type\":\"scatter3d\"}],\"scattercarpet\":[{\"marker\":{\"colorbar\":{\"outlinewidth\":0,\"ticks\":\"\"}},\"type\":\"scattercarpet\"}],\"scattergeo\":[{\"marker\":{\"colorbar\":{\"outlinewidth\":0,\"ticks\":\"\"}},\"type\":\"scattergeo\"}],\"scattergl\":[{\"marker\":{\"colorbar\":{\"outlinewidth\":0,\"ticks\":\"\"}},\"type\":\"scattergl\"}],\"scattermapbox\":[{\"marker\":{\"colorbar\":{\"outlinewidth\":0,\"ticks\":\"\"}},\"type\":\"scattermapbox\"}],\"scatterpolar\":[{\"marker\":{\"colorbar\":{\"outlinewidth\":0,\"ticks\":\"\"}},\"type\":\"scatterpolar\"}],\"scatterpolargl\":[{\"marker\":{\"colorbar\":{\"outlinewidth\":0,\"ticks\":\"\"}},\"type\":\"scatterpolargl\"}],\"scatterternary\":[{\"marker\":{\"colorbar\":{\"outlinewidth\":0,\"ticks\":\"\"}},\"type\":\"scatterternary\"}],\"surface\":[{\"colorbar\":{\"outlinewidth\":0,\"ticks\":\"\"},\"colorscale\":[[0.0,\"#0d0887\"],[0.1111111111111111,\"#46039f\"],[0.2222222222222222,\"#7201a8\"],[0.3333333333333333,\"#9c179e\"],[0.4444444444444444,\"#bd3786\"],[0.5555555555555556,\"#d8576b\"],[0.6666666666666666,\"#ed7953\"],[0.7777777777777778,\"#fb9f3a\"],[0.8888888888888888,\"#fdca26\"],[1.0,\"#f0f921\"]],\"type\":\"surface\"}],\"table\":[{\"cells\":{\"fill\":{\"color\":\"#EBF0F8\"},\"line\":{\"color\":\"white\"}},\"header\":{\"fill\":{\"color\":\"#C8D4E3\"},\"line\":{\"color\":\"white\"}},\"type\":\"table\"}]},\"layout\":{\"annotationdefaults\":{\"arrowcolor\":\"#2a3f5f\",\"arrowhead\":0,\"arrowwidth\":1},\"autotypenumbers\":\"strict\",\"coloraxis\":{\"colorbar\":{\"outlinewidth\":0,\"ticks\":\"\"}},\"colorscale\":{\"diverging\":[[0,\"#8e0152\"],[0.1,\"#c51b7d\"],[0.2,\"#de77ae\"],[0.3,\"#f1b6da\"],[0.4,\"#fde0ef\"],[0.5,\"#f7f7f7\"],[0.6,\"#e6f5d0\"],[0.7,\"#b8e186\"],[0.8,\"#7fbc41\"],[0.9,\"#4d9221\"],[1,\"#276419\"]],\"sequential\":[[0.0,\"#0d0887\"],[0.1111111111111111,\"#46039f\"],[0.2222222222222222,\"#7201a8\"],[0.3333333333333333,\"#9c179e\"],[0.4444444444444444,\"#bd3786\"],[0.5555555555555556,\"#d8576b\"],[0.6666666666666666,\"#ed7953\"],[0.7777777777777778,\"#fb9f3a\"],[0.8888888888888888,\"#fdca26\"],[1.0,\"#f0f921\"]],\"sequentialminus\":[[0.0,\"#0d0887\"],[0.1111111111111111,\"#46039f\"],[0.2222222222222222,\"#7201a8\"],[0.3333333333333333,\"#9c179e\"],[0.4444444444444444,\"#bd3786\"],[0.5555555555555556,\"#d8576b\"],[0.6666666666666666,\"#ed7953\"],[0.7777777777777778,\"#fb9f3a\"],[0.8888888888888888,\"#fdca26\"],[1.0,\"#f0f921\"]]},\"colorway\":[\"#636efa\",\"#EF553B\",\"#00cc96\",\"#ab63fa\",\"#FFA15A\",\"#19d3f3\",\"#FF6692\",\"#B6E880\",\"#FF97FF\",\"#FECB52\"],\"font\":{\"color\":\"#2a3f5f\"},\"geo\":{\"bgcolor\":\"white\",\"lakecolor\":\"white\",\"landcolor\":\"#E5ECF6\",\"showlakes\":true,\"showland\":true,\"subunitcolor\":\"white\"},\"hoverlabel\":{\"align\":\"left\"},\"hovermode\":\"closest\",\"mapbox\":{\"style\":\"light\"},\"paper_bgcolor\":\"white\",\"plot_bgcolor\":\"#E5ECF6\",\"polar\":{\"angularaxis\":{\"gridcolor\":\"white\",\"linecolor\":\"white\",\"ticks\":\"\"},\"bgcolor\":\"#E5ECF6\",\"radialaxis\":{\"gridcolor\":\"white\",\"linecolor\":\"white\",\"ticks\":\"\"}},\"scene\":{\"xaxis\":{\"backgroundcolor\":\"#E5ECF6\",\"gridcolor\":\"white\",\"gridwidth\":2,\"linecolor\":\"white\",\"showbackground\":true,\"ticks\":\"\",\"zerolinecolor\":\"white\"},\"yaxis\":{\"backgroundcolor\":\"#E5ECF6\",\"gridcolor\":\"white\",\"gridwidth\":2,\"linecolor\":\"white\",\"showbackground\":true,\"ticks\":\"\",\"zerolinecolor\":\"white\"},\"zaxis\":{\"backgroundcolor\":\"#E5ECF6\",\"gridcolor\":\"white\",\"gridwidth\":2,\"linecolor\":\"white\",\"showbackground\":true,\"ticks\":\"\",\"zerolinecolor\":\"white\"}},\"shapedefaults\":{\"line\":{\"color\":\"#2a3f5f\"}},\"ternary\":{\"aaxis\":{\"gridcolor\":\"white\",\"linecolor\":\"white\",\"ticks\":\"\"},\"baxis\":{\"gridcolor\":\"white\",\"linecolor\":\"white\",\"ticks\":\"\"},\"bgcolor\":\"#E5ECF6\",\"caxis\":{\"gridcolor\":\"white\",\"linecolor\":\"white\",\"ticks\":\"\"}},\"title\":{\"x\":0.05},\"xaxis\":{\"automargin\":true,\"gridcolor\":\"white\",\"linecolor\":\"white\",\"ticks\":\"\",\"title\":{\"standoff\":15},\"zerolinecolor\":\"white\",\"zerolinewidth\":2},\"yaxis\":{\"automargin\":true,\"gridcolor\":\"white\",\"linecolor\":\"white\",\"ticks\":\"\",\"title\":{\"standoff\":15},\"zerolinecolor\":\"white\",\"zerolinewidth\":2}}},\"xaxis\":{\"anchor\":\"y\",\"domain\":[0.0,1.0],\"title\":{\"text\":\"Wall Temp [C]\"}},\"yaxis\":{\"anchor\":\"x\",\"domain\":[0.0,1.0],\"title\":{\"text\":\"Internal Temp [C]\"}},\"legend\":{\"tracegroupgap\":0},\"margin\":{\"t\":60}},                        {\"responsive\": true}                    ).then(function(){\n",
       "                            \n",
       "var gd = document.getElementById('c20e48c8-34cb-4189-9ec4-da0eb02ee04f');\n",
       "var x = new MutationObserver(function (mutations, observer) {{\n",
       "        var display = window.getComputedStyle(gd).display;\n",
       "        if (!display || display === 'none') {{\n",
       "            console.log([gd, 'removed!']);\n",
       "            Plotly.purge(gd);\n",
       "            observer.disconnect();\n",
       "        }}\n",
       "}});\n",
       "\n",
       "// Listen for the removal of the full notebook cells\n",
       "var notebookContainer = gd.closest('#notebook-container');\n",
       "if (notebookContainer) {{\n",
       "    x.observe(notebookContainer, {childList: true});\n",
       "}}\n",
       "\n",
       "// Listen for the clearing of the current output cell\n",
       "var outputEl = gd.closest('.output');\n",
       "if (outputEl) {{\n",
       "    x.observe(outputEl, {childList: true});\n",
       "}}\n",
       "\n",
       "                        })                };                });            </script>        </div>"
      ]
     },
     "metadata": {},
     "output_type": "display_data"
    }
   ],
   "source": [
    "fig17i = px.scatter(June17HeatingFilt, x=\"Wall Temp [C]\", y=\"Internal Temp [C]\", trendline=\"ols\")\n",
    "fig17i.show()"
   ]
  },
  {
   "cell_type": "code",
   "execution_count": 78,
   "id": "ab02e323",
   "metadata": {
    "collapsed": true
   },
   "outputs": [
    {
     "data": {
      "application/vnd.plotly.v1+json": {
       "config": {
        "plotlyServerURL": "https://plot.ly"
       },
       "data": [
        {
         "hovertemplate": "Wall Temp [C]=%{x}<br>Internal Temp [C]=%{y}<extra></extra>",
         "legendgroup": "",
         "marker": {
          "color": "#636efa",
          "symbol": "circle"
         },
         "mode": "markers",
         "name": "",
         "orientation": "v",
         "showlegend": false,
         "type": "scatter",
         "x": [
          92.09059956666667,
          112.44698994000001,
          131.46886749333333,
          149.47705179333335,
          166.72591044666666,
          183.29214071333334,
          199.32816365333332,
          214.65132142,
          229.53596801333333,
          243.93624063333334,
          257.8495310466667,
          271.40841472,
          284.54942424,
          297.2577006,
          309.7106201133333,
          321.80186970666665,
          333.56121826666663,
          345.0816813133333,
          356.24157512,
          367.1835795133333,
          377.91079506666665,
          388.2638265,
          398.36697388,
          408.14721476,
          417.5446858733333,
          426.62576496,
          435.3514526333333,
          443.76917520666666,
          452.04176026,
          460.12963664,
          468.04253744666664,
          475.83244221333337,
          483.3799947,
          490.78515626,
          498.0376383533333,
          501.15966999333335,
          493.52144368,
          486.1514689,
          490.12930908,
          497.39527587333333,
          502.0639363733333,
          496.08402302666667,
          487.8412048466667,
          489.32855224,
          497.1165771533333,
          506.0664917066667,
          514.7145833333333,
          521.7294514933334,
          522.37135416,
          528.1083089066667,
          533.1431536
         ],
         "xaxis": "x",
         "y": [
          49.175871023333336,
          62.74564895466666,
          78.120491536,
          95.201154078,
          113.10559640666666,
          131.17265014666665,
          149.07544860666667,
          166.46180623333333,
          183.67735088,
          200.52137146666666,
          216.69147949333333,
          232.20686849999998,
          246.9568278,
          260.9551117,
          274.43647664,
          287.32692668,
          299.68651936,
          311.66449788000006,
          323.16919555333334,
          334.37518716666665,
          345.2912821333333,
          355.77821044666666,
          366.00612590000003,
          375.95317384000003,
          385.6069844466667,
          394.9948710133333,
          404.15080363333334,
          412.7161804266667,
          420.8314046266667,
          428.75114135999996,
          436.5348409,
          444.1928283666667,
          451.58757324666664,
          458.82356974,
          465.9516927,
          472.4465942466667,
          426.75582681333333,
          435.5166015533333,
          403.90508016666666,
          430.7896993,
          443.93751424000004,
          444.69530844,
          427.55759684,
          414.18710124,
          443.27612304,
          468.9603698866667,
          481.45729370000004,
          490.35645344,
          495.40409138666666,
          498.0962056466667,
          501.75180488571425
         ],
         "yaxis": "y"
        },
        {
         "hovertemplate": "<b>OLS trendline</b><br>Internal Temp [C] = 1.01302 * Wall Temp [C] + -46.4805<br>R<sup>2</sup>=0.990066<br><br>Wall Temp [C]=%{x}<br>Internal Temp [C]=%{y} <b>(trend)</b><extra></extra>",
         "legendgroup": "",
         "marker": {
          "color": "#636efa",
          "symbol": "circle"
         },
         "mode": "lines",
         "name": "",
         "showlegend": false,
         "type": "scatter",
         "x": [
          92.09059956666667,
          112.44698994000001,
          131.46886749333333,
          149.47705179333335,
          166.72591044666666,
          183.29214071333334,
          199.32816365333332,
          214.65132142,
          229.53596801333333,
          243.93624063333334,
          257.8495310466667,
          271.40841472,
          284.54942424,
          297.2577006,
          309.7106201133333,
          321.80186970666665,
          333.56121826666663,
          345.0816813133333,
          356.24157512,
          367.1835795133333,
          377.91079506666665,
          388.2638265,
          398.36697388,
          408.14721476,
          417.5446858733333,
          426.62576496,
          435.3514526333333,
          443.76917520666666,
          452.04176026,
          460.12963664,
          468.04253744666664,
          475.83244221333337,
          483.3799947,
          486.1514689,
          487.8412048466667,
          489.32855224,
          490.12930908,
          490.78515626,
          493.52144368,
          496.08402302666667,
          497.1165771533333,
          497.39527587333333,
          498.0376383533333,
          501.15966999333335,
          502.0639363733333,
          506.0664917066667,
          514.7145833333333,
          521.7294514933334,
          522.37135416,
          528.1083089066667,
          533.1431536
         ],
         "xaxis": "x",
         "y": [
          46.80956622950523,
          67.43108698518614,
          86.70071365200133,
          104.94344428861999,
          122.416959494807,
          139.19895546865982,
          155.4438384676114,
          170.96657163064944,
          186.04508226225397,
          200.63291022559477,
          214.72741331658597,
          228.46289372178518,
          241.77505740097416,
          254.6488518173934,
          267.26396350976046,
          279.5126947375559,
          291.42520211022804,
          303.0957126219102,
          314.40095768475027,
          325.48547544883587,
          336.35240687070086,
          346.8402806376717,
          357.0750157539377,
          366.9826386970839,
          376.50250651551494,
          385.70186148146183,
          394.5411962634744,
          403.06855487558636,
          411.44888563422245,
          419.64210199433103,
          427.6580638239921,
          435.54942766033474,
          443.1952827163606,
          446.0028537881948,
          447.7145975824901,
          449.22131682789774,
          450.0325030693418,
          450.6968922850567,
          453.4688182891363,
          456.06477377123355,
          457.11077632688864,
          457.3931049388704,
          458.0438338240535,
          461.20652814674105,
          462.12257208094763,
          466.1772584162137,
          474.9379865072781,
          482.0442193268898,
          482.6944824099328,
          488.5061577223579,
          493.6065783981775
         ],
         "yaxis": "y"
        }
       ],
       "layout": {
        "legend": {
         "tracegroupgap": 0
        },
        "margin": {
         "t": 60
        },
        "template": {
         "data": {
          "bar": [
           {
            "error_x": {
             "color": "#2a3f5f"
            },
            "error_y": {
             "color": "#2a3f5f"
            },
            "marker": {
             "line": {
              "color": "#E5ECF6",
              "width": 0.5
             },
             "pattern": {
              "fillmode": "overlay",
              "size": 10,
              "solidity": 0.2
             }
            },
            "type": "bar"
           }
          ],
          "barpolar": [
           {
            "marker": {
             "line": {
              "color": "#E5ECF6",
              "width": 0.5
             },
             "pattern": {
              "fillmode": "overlay",
              "size": 10,
              "solidity": 0.2
             }
            },
            "type": "barpolar"
           }
          ],
          "carpet": [
           {
            "aaxis": {
             "endlinecolor": "#2a3f5f",
             "gridcolor": "white",
             "linecolor": "white",
             "minorgridcolor": "white",
             "startlinecolor": "#2a3f5f"
            },
            "baxis": {
             "endlinecolor": "#2a3f5f",
             "gridcolor": "white",
             "linecolor": "white",
             "minorgridcolor": "white",
             "startlinecolor": "#2a3f5f"
            },
            "type": "carpet"
           }
          ],
          "choropleth": [
           {
            "colorbar": {
             "outlinewidth": 0,
             "ticks": ""
            },
            "type": "choropleth"
           }
          ],
          "contour": [
           {
            "colorbar": {
             "outlinewidth": 0,
             "ticks": ""
            },
            "colorscale": [
             [
              0,
              "#0d0887"
             ],
             [
              0.1111111111111111,
              "#46039f"
             ],
             [
              0.2222222222222222,
              "#7201a8"
             ],
             [
              0.3333333333333333,
              "#9c179e"
             ],
             [
              0.4444444444444444,
              "#bd3786"
             ],
             [
              0.5555555555555556,
              "#d8576b"
             ],
             [
              0.6666666666666666,
              "#ed7953"
             ],
             [
              0.7777777777777778,
              "#fb9f3a"
             ],
             [
              0.8888888888888888,
              "#fdca26"
             ],
             [
              1,
              "#f0f921"
             ]
            ],
            "type": "contour"
           }
          ],
          "contourcarpet": [
           {
            "colorbar": {
             "outlinewidth": 0,
             "ticks": ""
            },
            "type": "contourcarpet"
           }
          ],
          "heatmap": [
           {
            "colorbar": {
             "outlinewidth": 0,
             "ticks": ""
            },
            "colorscale": [
             [
              0,
              "#0d0887"
             ],
             [
              0.1111111111111111,
              "#46039f"
             ],
             [
              0.2222222222222222,
              "#7201a8"
             ],
             [
              0.3333333333333333,
              "#9c179e"
             ],
             [
              0.4444444444444444,
              "#bd3786"
             ],
             [
              0.5555555555555556,
              "#d8576b"
             ],
             [
              0.6666666666666666,
              "#ed7953"
             ],
             [
              0.7777777777777778,
              "#fb9f3a"
             ],
             [
              0.8888888888888888,
              "#fdca26"
             ],
             [
              1,
              "#f0f921"
             ]
            ],
            "type": "heatmap"
           }
          ],
          "heatmapgl": [
           {
            "colorbar": {
             "outlinewidth": 0,
             "ticks": ""
            },
            "colorscale": [
             [
              0,
              "#0d0887"
             ],
             [
              0.1111111111111111,
              "#46039f"
             ],
             [
              0.2222222222222222,
              "#7201a8"
             ],
             [
              0.3333333333333333,
              "#9c179e"
             ],
             [
              0.4444444444444444,
              "#bd3786"
             ],
             [
              0.5555555555555556,
              "#d8576b"
             ],
             [
              0.6666666666666666,
              "#ed7953"
             ],
             [
              0.7777777777777778,
              "#fb9f3a"
             ],
             [
              0.8888888888888888,
              "#fdca26"
             ],
             [
              1,
              "#f0f921"
             ]
            ],
            "type": "heatmapgl"
           }
          ],
          "histogram": [
           {
            "marker": {
             "pattern": {
              "fillmode": "overlay",
              "size": 10,
              "solidity": 0.2
             }
            },
            "type": "histogram"
           }
          ],
          "histogram2d": [
           {
            "colorbar": {
             "outlinewidth": 0,
             "ticks": ""
            },
            "colorscale": [
             [
              0,
              "#0d0887"
             ],
             [
              0.1111111111111111,
              "#46039f"
             ],
             [
              0.2222222222222222,
              "#7201a8"
             ],
             [
              0.3333333333333333,
              "#9c179e"
             ],
             [
              0.4444444444444444,
              "#bd3786"
             ],
             [
              0.5555555555555556,
              "#d8576b"
             ],
             [
              0.6666666666666666,
              "#ed7953"
             ],
             [
              0.7777777777777778,
              "#fb9f3a"
             ],
             [
              0.8888888888888888,
              "#fdca26"
             ],
             [
              1,
              "#f0f921"
             ]
            ],
            "type": "histogram2d"
           }
          ],
          "histogram2dcontour": [
           {
            "colorbar": {
             "outlinewidth": 0,
             "ticks": ""
            },
            "colorscale": [
             [
              0,
              "#0d0887"
             ],
             [
              0.1111111111111111,
              "#46039f"
             ],
             [
              0.2222222222222222,
              "#7201a8"
             ],
             [
              0.3333333333333333,
              "#9c179e"
             ],
             [
              0.4444444444444444,
              "#bd3786"
             ],
             [
              0.5555555555555556,
              "#d8576b"
             ],
             [
              0.6666666666666666,
              "#ed7953"
             ],
             [
              0.7777777777777778,
              "#fb9f3a"
             ],
             [
              0.8888888888888888,
              "#fdca26"
             ],
             [
              1,
              "#f0f921"
             ]
            ],
            "type": "histogram2dcontour"
           }
          ],
          "mesh3d": [
           {
            "colorbar": {
             "outlinewidth": 0,
             "ticks": ""
            },
            "type": "mesh3d"
           }
          ],
          "parcoords": [
           {
            "line": {
             "colorbar": {
              "outlinewidth": 0,
              "ticks": ""
             }
            },
            "type": "parcoords"
           }
          ],
          "pie": [
           {
            "automargin": true,
            "type": "pie"
           }
          ],
          "scatter": [
           {
            "marker": {
             "colorbar": {
              "outlinewidth": 0,
              "ticks": ""
             }
            },
            "type": "scatter"
           }
          ],
          "scatter3d": [
           {
            "line": {
             "colorbar": {
              "outlinewidth": 0,
              "ticks": ""
             }
            },
            "marker": {
             "colorbar": {
              "outlinewidth": 0,
              "ticks": ""
             }
            },
            "type": "scatter3d"
           }
          ],
          "scattercarpet": [
           {
            "marker": {
             "colorbar": {
              "outlinewidth": 0,
              "ticks": ""
             }
            },
            "type": "scattercarpet"
           }
          ],
          "scattergeo": [
           {
            "marker": {
             "colorbar": {
              "outlinewidth": 0,
              "ticks": ""
             }
            },
            "type": "scattergeo"
           }
          ],
          "scattergl": [
           {
            "marker": {
             "colorbar": {
              "outlinewidth": 0,
              "ticks": ""
             }
            },
            "type": "scattergl"
           }
          ],
          "scattermapbox": [
           {
            "marker": {
             "colorbar": {
              "outlinewidth": 0,
              "ticks": ""
             }
            },
            "type": "scattermapbox"
           }
          ],
          "scatterpolar": [
           {
            "marker": {
             "colorbar": {
              "outlinewidth": 0,
              "ticks": ""
             }
            },
            "type": "scatterpolar"
           }
          ],
          "scatterpolargl": [
           {
            "marker": {
             "colorbar": {
              "outlinewidth": 0,
              "ticks": ""
             }
            },
            "type": "scatterpolargl"
           }
          ],
          "scatterternary": [
           {
            "marker": {
             "colorbar": {
              "outlinewidth": 0,
              "ticks": ""
             }
            },
            "type": "scatterternary"
           }
          ],
          "surface": [
           {
            "colorbar": {
             "outlinewidth": 0,
             "ticks": ""
            },
            "colorscale": [
             [
              0,
              "#0d0887"
             ],
             [
              0.1111111111111111,
              "#46039f"
             ],
             [
              0.2222222222222222,
              "#7201a8"
             ],
             [
              0.3333333333333333,
              "#9c179e"
             ],
             [
              0.4444444444444444,
              "#bd3786"
             ],
             [
              0.5555555555555556,
              "#d8576b"
             ],
             [
              0.6666666666666666,
              "#ed7953"
             ],
             [
              0.7777777777777778,
              "#fb9f3a"
             ],
             [
              0.8888888888888888,
              "#fdca26"
             ],
             [
              1,
              "#f0f921"
             ]
            ],
            "type": "surface"
           }
          ],
          "table": [
           {
            "cells": {
             "fill": {
              "color": "#EBF0F8"
             },
             "line": {
              "color": "white"
             }
            },
            "header": {
             "fill": {
              "color": "#C8D4E3"
             },
             "line": {
              "color": "white"
             }
            },
            "type": "table"
           }
          ]
         },
         "layout": {
          "annotationdefaults": {
           "arrowcolor": "#2a3f5f",
           "arrowhead": 0,
           "arrowwidth": 1
          },
          "autotypenumbers": "strict",
          "coloraxis": {
           "colorbar": {
            "outlinewidth": 0,
            "ticks": ""
           }
          },
          "colorscale": {
           "diverging": [
            [
             0,
             "#8e0152"
            ],
            [
             0.1,
             "#c51b7d"
            ],
            [
             0.2,
             "#de77ae"
            ],
            [
             0.3,
             "#f1b6da"
            ],
            [
             0.4,
             "#fde0ef"
            ],
            [
             0.5,
             "#f7f7f7"
            ],
            [
             0.6,
             "#e6f5d0"
            ],
            [
             0.7,
             "#b8e186"
            ],
            [
             0.8,
             "#7fbc41"
            ],
            [
             0.9,
             "#4d9221"
            ],
            [
             1,
             "#276419"
            ]
           ],
           "sequential": [
            [
             0,
             "#0d0887"
            ],
            [
             0.1111111111111111,
             "#46039f"
            ],
            [
             0.2222222222222222,
             "#7201a8"
            ],
            [
             0.3333333333333333,
             "#9c179e"
            ],
            [
             0.4444444444444444,
             "#bd3786"
            ],
            [
             0.5555555555555556,
             "#d8576b"
            ],
            [
             0.6666666666666666,
             "#ed7953"
            ],
            [
             0.7777777777777778,
             "#fb9f3a"
            ],
            [
             0.8888888888888888,
             "#fdca26"
            ],
            [
             1,
             "#f0f921"
            ]
           ],
           "sequentialminus": [
            [
             0,
             "#0d0887"
            ],
            [
             0.1111111111111111,
             "#46039f"
            ],
            [
             0.2222222222222222,
             "#7201a8"
            ],
            [
             0.3333333333333333,
             "#9c179e"
            ],
            [
             0.4444444444444444,
             "#bd3786"
            ],
            [
             0.5555555555555556,
             "#d8576b"
            ],
            [
             0.6666666666666666,
             "#ed7953"
            ],
            [
             0.7777777777777778,
             "#fb9f3a"
            ],
            [
             0.8888888888888888,
             "#fdca26"
            ],
            [
             1,
             "#f0f921"
            ]
           ]
          },
          "colorway": [
           "#636efa",
           "#EF553B",
           "#00cc96",
           "#ab63fa",
           "#FFA15A",
           "#19d3f3",
           "#FF6692",
           "#B6E880",
           "#FF97FF",
           "#FECB52"
          ],
          "font": {
           "color": "#2a3f5f"
          },
          "geo": {
           "bgcolor": "white",
           "lakecolor": "white",
           "landcolor": "#E5ECF6",
           "showlakes": true,
           "showland": true,
           "subunitcolor": "white"
          },
          "hoverlabel": {
           "align": "left"
          },
          "hovermode": "closest",
          "mapbox": {
           "style": "light"
          },
          "paper_bgcolor": "white",
          "plot_bgcolor": "#E5ECF6",
          "polar": {
           "angularaxis": {
            "gridcolor": "white",
            "linecolor": "white",
            "ticks": ""
           },
           "bgcolor": "#E5ECF6",
           "radialaxis": {
            "gridcolor": "white",
            "linecolor": "white",
            "ticks": ""
           }
          },
          "scene": {
           "xaxis": {
            "backgroundcolor": "#E5ECF6",
            "gridcolor": "white",
            "gridwidth": 2,
            "linecolor": "white",
            "showbackground": true,
            "ticks": "",
            "zerolinecolor": "white"
           },
           "yaxis": {
            "backgroundcolor": "#E5ECF6",
            "gridcolor": "white",
            "gridwidth": 2,
            "linecolor": "white",
            "showbackground": true,
            "ticks": "",
            "zerolinecolor": "white"
           },
           "zaxis": {
            "backgroundcolor": "#E5ECF6",
            "gridcolor": "white",
            "gridwidth": 2,
            "linecolor": "white",
            "showbackground": true,
            "ticks": "",
            "zerolinecolor": "white"
           }
          },
          "shapedefaults": {
           "line": {
            "color": "#2a3f5f"
           }
          },
          "ternary": {
           "aaxis": {
            "gridcolor": "white",
            "linecolor": "white",
            "ticks": ""
           },
           "baxis": {
            "gridcolor": "white",
            "linecolor": "white",
            "ticks": ""
           },
           "bgcolor": "#E5ECF6",
           "caxis": {
            "gridcolor": "white",
            "linecolor": "white",
            "ticks": ""
           }
          },
          "title": {
           "x": 0.05
          },
          "xaxis": {
           "automargin": true,
           "gridcolor": "white",
           "linecolor": "white",
           "ticks": "",
           "title": {
            "standoff": 15
           },
           "zerolinecolor": "white",
           "zerolinewidth": 2
          },
          "yaxis": {
           "automargin": true,
           "gridcolor": "white",
           "linecolor": "white",
           "ticks": "",
           "title": {
            "standoff": 15
           },
           "zerolinecolor": "white",
           "zerolinewidth": 2
          }
         }
        },
        "xaxis": {
         "anchor": "y",
         "domain": [
          0,
          1
         ],
         "title": {
          "text": "Wall Temp [C]"
         }
        },
        "yaxis": {
         "anchor": "x",
         "domain": [
          0,
          1
         ],
         "title": {
          "text": "Internal Temp [C]"
         }
        }
       }
      },
      "text/html": [
       "<div>                            <div id=\"69957c9b-8ac8-4af6-bfc9-c9dede6660b1\" class=\"plotly-graph-div\" style=\"height:525px; width:100%;\"></div>            <script type=\"text/javascript\">                require([\"plotly\"], function(Plotly) {                    window.PLOTLYENV=window.PLOTLYENV || {};                                    if (document.getElementById(\"69957c9b-8ac8-4af6-bfc9-c9dede6660b1\")) {                    Plotly.newPlot(                        \"69957c9b-8ac8-4af6-bfc9-c9dede6660b1\",                        [{\"hovertemplate\":\"Wall Temp [C]=%{x}<br>Internal Temp [C]=%{y}<extra></extra>\",\"legendgroup\":\"\",\"marker\":{\"color\":\"#636efa\",\"symbol\":\"circle\"},\"mode\":\"markers\",\"name\":\"\",\"orientation\":\"v\",\"showlegend\":false,\"x\":[92.09059956666667,112.44698994000001,131.46886749333333,149.47705179333335,166.72591044666666,183.29214071333334,199.32816365333332,214.65132142,229.53596801333333,243.93624063333334,257.8495310466667,271.40841472,284.54942424,297.2577006,309.7106201133333,321.80186970666665,333.56121826666663,345.0816813133333,356.24157512,367.1835795133333,377.91079506666665,388.2638265,398.36697388,408.14721476,417.5446858733333,426.62576496,435.3514526333333,443.76917520666666,452.04176026,460.12963664,468.04253744666664,475.83244221333337,483.3799947,490.78515626,498.0376383533333,501.15966999333335,493.52144368,486.1514689,490.12930908,497.39527587333333,502.0639363733333,496.08402302666667,487.8412048466667,489.32855224,497.1165771533333,506.0664917066667,514.7145833333333,521.7294514933334,522.37135416,528.1083089066667,533.1431536],\"xaxis\":\"x\",\"y\":[49.175871023333336,62.74564895466666,78.120491536,95.201154078,113.10559640666666,131.17265014666665,149.07544860666667,166.46180623333333,183.67735088,200.52137146666666,216.69147949333333,232.20686849999998,246.9568278,260.9551117,274.43647664,287.32692668,299.68651936,311.66449788000006,323.16919555333334,334.37518716666665,345.2912821333333,355.77821044666666,366.00612590000003,375.95317384000003,385.6069844466667,394.9948710133333,404.15080363333334,412.7161804266667,420.8314046266667,428.75114135999996,436.5348409,444.1928283666667,451.58757324666664,458.82356974,465.9516927,472.4465942466667,426.75582681333333,435.5166015533333,403.90508016666666,430.7896993,443.93751424000004,444.69530844,427.55759684,414.18710124,443.27612304,468.9603698866667,481.45729370000004,490.35645344,495.40409138666666,498.0962056466667,501.75180488571425],\"yaxis\":\"y\",\"type\":\"scatter\"},{\"hovertemplate\":\"<b>OLS trendline</b><br>Internal Temp [C] = 1.01302 * Wall Temp [C] + -46.4805<br>R<sup>2</sup>=0.990066<br><br>Wall Temp [C]=%{x}<br>Internal Temp [C]=%{y} <b>(trend)</b><extra></extra>\",\"legendgroup\":\"\",\"marker\":{\"color\":\"#636efa\",\"symbol\":\"circle\"},\"mode\":\"lines\",\"name\":\"\",\"showlegend\":false,\"x\":[92.09059956666667,112.44698994000001,131.46886749333333,149.47705179333335,166.72591044666666,183.29214071333334,199.32816365333332,214.65132142,229.53596801333333,243.93624063333334,257.8495310466667,271.40841472,284.54942424,297.2577006,309.7106201133333,321.80186970666665,333.56121826666663,345.0816813133333,356.24157512,367.1835795133333,377.91079506666665,388.2638265,398.36697388,408.14721476,417.5446858733333,426.62576496,435.3514526333333,443.76917520666666,452.04176026,460.12963664,468.04253744666664,475.83244221333337,483.3799947,486.1514689,487.8412048466667,489.32855224,490.12930908,490.78515626,493.52144368,496.08402302666667,497.1165771533333,497.39527587333333,498.0376383533333,501.15966999333335,502.0639363733333,506.0664917066667,514.7145833333333,521.7294514933334,522.37135416,528.1083089066667,533.1431536],\"xaxis\":\"x\",\"y\":[46.80956622950523,67.43108698518614,86.70071365200133,104.94344428861999,122.416959494807,139.19895546865982,155.4438384676114,170.96657163064944,186.04508226225397,200.63291022559477,214.72741331658597,228.46289372178518,241.77505740097416,254.6488518173934,267.26396350976046,279.5126947375559,291.42520211022804,303.0957126219102,314.40095768475027,325.48547544883587,336.35240687070086,346.8402806376717,357.0750157539377,366.9826386970839,376.50250651551494,385.70186148146183,394.5411962634744,403.06855487558636,411.44888563422245,419.64210199433103,427.6580638239921,435.54942766033474,443.1952827163606,446.0028537881948,447.7145975824901,449.22131682789774,450.0325030693418,450.6968922850567,453.4688182891363,456.06477377123355,457.11077632688864,457.3931049388704,458.0438338240535,461.20652814674105,462.12257208094763,466.1772584162137,474.9379865072781,482.0442193268898,482.6944824099328,488.5061577223579,493.6065783981775],\"yaxis\":\"y\",\"type\":\"scatter\"}],                        {\"template\":{\"data\":{\"bar\":[{\"error_x\":{\"color\":\"#2a3f5f\"},\"error_y\":{\"color\":\"#2a3f5f\"},\"marker\":{\"line\":{\"color\":\"#E5ECF6\",\"width\":0.5},\"pattern\":{\"fillmode\":\"overlay\",\"size\":10,\"solidity\":0.2}},\"type\":\"bar\"}],\"barpolar\":[{\"marker\":{\"line\":{\"color\":\"#E5ECF6\",\"width\":0.5},\"pattern\":{\"fillmode\":\"overlay\",\"size\":10,\"solidity\":0.2}},\"type\":\"barpolar\"}],\"carpet\":[{\"aaxis\":{\"endlinecolor\":\"#2a3f5f\",\"gridcolor\":\"white\",\"linecolor\":\"white\",\"minorgridcolor\":\"white\",\"startlinecolor\":\"#2a3f5f\"},\"baxis\":{\"endlinecolor\":\"#2a3f5f\",\"gridcolor\":\"white\",\"linecolor\":\"white\",\"minorgridcolor\":\"white\",\"startlinecolor\":\"#2a3f5f\"},\"type\":\"carpet\"}],\"choropleth\":[{\"colorbar\":{\"outlinewidth\":0,\"ticks\":\"\"},\"type\":\"choropleth\"}],\"contour\":[{\"colorbar\":{\"outlinewidth\":0,\"ticks\":\"\"},\"colorscale\":[[0.0,\"#0d0887\"],[0.1111111111111111,\"#46039f\"],[0.2222222222222222,\"#7201a8\"],[0.3333333333333333,\"#9c179e\"],[0.4444444444444444,\"#bd3786\"],[0.5555555555555556,\"#d8576b\"],[0.6666666666666666,\"#ed7953\"],[0.7777777777777778,\"#fb9f3a\"],[0.8888888888888888,\"#fdca26\"],[1.0,\"#f0f921\"]],\"type\":\"contour\"}],\"contourcarpet\":[{\"colorbar\":{\"outlinewidth\":0,\"ticks\":\"\"},\"type\":\"contourcarpet\"}],\"heatmap\":[{\"colorbar\":{\"outlinewidth\":0,\"ticks\":\"\"},\"colorscale\":[[0.0,\"#0d0887\"],[0.1111111111111111,\"#46039f\"],[0.2222222222222222,\"#7201a8\"],[0.3333333333333333,\"#9c179e\"],[0.4444444444444444,\"#bd3786\"],[0.5555555555555556,\"#d8576b\"],[0.6666666666666666,\"#ed7953\"],[0.7777777777777778,\"#fb9f3a\"],[0.8888888888888888,\"#fdca26\"],[1.0,\"#f0f921\"]],\"type\":\"heatmap\"}],\"heatmapgl\":[{\"colorbar\":{\"outlinewidth\":0,\"ticks\":\"\"},\"colorscale\":[[0.0,\"#0d0887\"],[0.1111111111111111,\"#46039f\"],[0.2222222222222222,\"#7201a8\"],[0.3333333333333333,\"#9c179e\"],[0.4444444444444444,\"#bd3786\"],[0.5555555555555556,\"#d8576b\"],[0.6666666666666666,\"#ed7953\"],[0.7777777777777778,\"#fb9f3a\"],[0.8888888888888888,\"#fdca26\"],[1.0,\"#f0f921\"]],\"type\":\"heatmapgl\"}],\"histogram\":[{\"marker\":{\"pattern\":{\"fillmode\":\"overlay\",\"size\":10,\"solidity\":0.2}},\"type\":\"histogram\"}],\"histogram2d\":[{\"colorbar\":{\"outlinewidth\":0,\"ticks\":\"\"},\"colorscale\":[[0.0,\"#0d0887\"],[0.1111111111111111,\"#46039f\"],[0.2222222222222222,\"#7201a8\"],[0.3333333333333333,\"#9c179e\"],[0.4444444444444444,\"#bd3786\"],[0.5555555555555556,\"#d8576b\"],[0.6666666666666666,\"#ed7953\"],[0.7777777777777778,\"#fb9f3a\"],[0.8888888888888888,\"#fdca26\"],[1.0,\"#f0f921\"]],\"type\":\"histogram2d\"}],\"histogram2dcontour\":[{\"colorbar\":{\"outlinewidth\":0,\"ticks\":\"\"},\"colorscale\":[[0.0,\"#0d0887\"],[0.1111111111111111,\"#46039f\"],[0.2222222222222222,\"#7201a8\"],[0.3333333333333333,\"#9c179e\"],[0.4444444444444444,\"#bd3786\"],[0.5555555555555556,\"#d8576b\"],[0.6666666666666666,\"#ed7953\"],[0.7777777777777778,\"#fb9f3a\"],[0.8888888888888888,\"#fdca26\"],[1.0,\"#f0f921\"]],\"type\":\"histogram2dcontour\"}],\"mesh3d\":[{\"colorbar\":{\"outlinewidth\":0,\"ticks\":\"\"},\"type\":\"mesh3d\"}],\"parcoords\":[{\"line\":{\"colorbar\":{\"outlinewidth\":0,\"ticks\":\"\"}},\"type\":\"parcoords\"}],\"pie\":[{\"automargin\":true,\"type\":\"pie\"}],\"scatter\":[{\"marker\":{\"colorbar\":{\"outlinewidth\":0,\"ticks\":\"\"}},\"type\":\"scatter\"}],\"scatter3d\":[{\"line\":{\"colorbar\":{\"outlinewidth\":0,\"ticks\":\"\"}},\"marker\":{\"colorbar\":{\"outlinewidth\":0,\"ticks\":\"\"}},\"type\":\"scatter3d\"}],\"scattercarpet\":[{\"marker\":{\"colorbar\":{\"outlinewidth\":0,\"ticks\":\"\"}},\"type\":\"scattercarpet\"}],\"scattergeo\":[{\"marker\":{\"colorbar\":{\"outlinewidth\":0,\"ticks\":\"\"}},\"type\":\"scattergeo\"}],\"scattergl\":[{\"marker\":{\"colorbar\":{\"outlinewidth\":0,\"ticks\":\"\"}},\"type\":\"scattergl\"}],\"scattermapbox\":[{\"marker\":{\"colorbar\":{\"outlinewidth\":0,\"ticks\":\"\"}},\"type\":\"scattermapbox\"}],\"scatterpolar\":[{\"marker\":{\"colorbar\":{\"outlinewidth\":0,\"ticks\":\"\"}},\"type\":\"scatterpolar\"}],\"scatterpolargl\":[{\"marker\":{\"colorbar\":{\"outlinewidth\":0,\"ticks\":\"\"}},\"type\":\"scatterpolargl\"}],\"scatterternary\":[{\"marker\":{\"colorbar\":{\"outlinewidth\":0,\"ticks\":\"\"}},\"type\":\"scatterternary\"}],\"surface\":[{\"colorbar\":{\"outlinewidth\":0,\"ticks\":\"\"},\"colorscale\":[[0.0,\"#0d0887\"],[0.1111111111111111,\"#46039f\"],[0.2222222222222222,\"#7201a8\"],[0.3333333333333333,\"#9c179e\"],[0.4444444444444444,\"#bd3786\"],[0.5555555555555556,\"#d8576b\"],[0.6666666666666666,\"#ed7953\"],[0.7777777777777778,\"#fb9f3a\"],[0.8888888888888888,\"#fdca26\"],[1.0,\"#f0f921\"]],\"type\":\"surface\"}],\"table\":[{\"cells\":{\"fill\":{\"color\":\"#EBF0F8\"},\"line\":{\"color\":\"white\"}},\"header\":{\"fill\":{\"color\":\"#C8D4E3\"},\"line\":{\"color\":\"white\"}},\"type\":\"table\"}]},\"layout\":{\"annotationdefaults\":{\"arrowcolor\":\"#2a3f5f\",\"arrowhead\":0,\"arrowwidth\":1},\"autotypenumbers\":\"strict\",\"coloraxis\":{\"colorbar\":{\"outlinewidth\":0,\"ticks\":\"\"}},\"colorscale\":{\"diverging\":[[0,\"#8e0152\"],[0.1,\"#c51b7d\"],[0.2,\"#de77ae\"],[0.3,\"#f1b6da\"],[0.4,\"#fde0ef\"],[0.5,\"#f7f7f7\"],[0.6,\"#e6f5d0\"],[0.7,\"#b8e186\"],[0.8,\"#7fbc41\"],[0.9,\"#4d9221\"],[1,\"#276419\"]],\"sequential\":[[0.0,\"#0d0887\"],[0.1111111111111111,\"#46039f\"],[0.2222222222222222,\"#7201a8\"],[0.3333333333333333,\"#9c179e\"],[0.4444444444444444,\"#bd3786\"],[0.5555555555555556,\"#d8576b\"],[0.6666666666666666,\"#ed7953\"],[0.7777777777777778,\"#fb9f3a\"],[0.8888888888888888,\"#fdca26\"],[1.0,\"#f0f921\"]],\"sequentialminus\":[[0.0,\"#0d0887\"],[0.1111111111111111,\"#46039f\"],[0.2222222222222222,\"#7201a8\"],[0.3333333333333333,\"#9c179e\"],[0.4444444444444444,\"#bd3786\"],[0.5555555555555556,\"#d8576b\"],[0.6666666666666666,\"#ed7953\"],[0.7777777777777778,\"#fb9f3a\"],[0.8888888888888888,\"#fdca26\"],[1.0,\"#f0f921\"]]},\"colorway\":[\"#636efa\",\"#EF553B\",\"#00cc96\",\"#ab63fa\",\"#FFA15A\",\"#19d3f3\",\"#FF6692\",\"#B6E880\",\"#FF97FF\",\"#FECB52\"],\"font\":{\"color\":\"#2a3f5f\"},\"geo\":{\"bgcolor\":\"white\",\"lakecolor\":\"white\",\"landcolor\":\"#E5ECF6\",\"showlakes\":true,\"showland\":true,\"subunitcolor\":\"white\"},\"hoverlabel\":{\"align\":\"left\"},\"hovermode\":\"closest\",\"mapbox\":{\"style\":\"light\"},\"paper_bgcolor\":\"white\",\"plot_bgcolor\":\"#E5ECF6\",\"polar\":{\"angularaxis\":{\"gridcolor\":\"white\",\"linecolor\":\"white\",\"ticks\":\"\"},\"bgcolor\":\"#E5ECF6\",\"radialaxis\":{\"gridcolor\":\"white\",\"linecolor\":\"white\",\"ticks\":\"\"}},\"scene\":{\"xaxis\":{\"backgroundcolor\":\"#E5ECF6\",\"gridcolor\":\"white\",\"gridwidth\":2,\"linecolor\":\"white\",\"showbackground\":true,\"ticks\":\"\",\"zerolinecolor\":\"white\"},\"yaxis\":{\"backgroundcolor\":\"#E5ECF6\",\"gridcolor\":\"white\",\"gridwidth\":2,\"linecolor\":\"white\",\"showbackground\":true,\"ticks\":\"\",\"zerolinecolor\":\"white\"},\"zaxis\":{\"backgroundcolor\":\"#E5ECF6\",\"gridcolor\":\"white\",\"gridwidth\":2,\"linecolor\":\"white\",\"showbackground\":true,\"ticks\":\"\",\"zerolinecolor\":\"white\"}},\"shapedefaults\":{\"line\":{\"color\":\"#2a3f5f\"}},\"ternary\":{\"aaxis\":{\"gridcolor\":\"white\",\"linecolor\":\"white\",\"ticks\":\"\"},\"baxis\":{\"gridcolor\":\"white\",\"linecolor\":\"white\",\"ticks\":\"\"},\"bgcolor\":\"#E5ECF6\",\"caxis\":{\"gridcolor\":\"white\",\"linecolor\":\"white\",\"ticks\":\"\"}},\"title\":{\"x\":0.05},\"xaxis\":{\"automargin\":true,\"gridcolor\":\"white\",\"linecolor\":\"white\",\"ticks\":\"\",\"title\":{\"standoff\":15},\"zerolinecolor\":\"white\",\"zerolinewidth\":2},\"yaxis\":{\"automargin\":true,\"gridcolor\":\"white\",\"linecolor\":\"white\",\"ticks\":\"\",\"title\":{\"standoff\":15},\"zerolinecolor\":\"white\",\"zerolinewidth\":2}}},\"xaxis\":{\"anchor\":\"y\",\"domain\":[0.0,1.0],\"title\":{\"text\":\"Wall Temp [C]\"}},\"yaxis\":{\"anchor\":\"x\",\"domain\":[0.0,1.0],\"title\":{\"text\":\"Internal Temp [C]\"}},\"legend\":{\"tracegroupgap\":0},\"margin\":{\"t\":60}},                        {\"responsive\": true}                    ).then(function(){\n",
       "                            \n",
       "var gd = document.getElementById('69957c9b-8ac8-4af6-bfc9-c9dede6660b1');\n",
       "var x = new MutationObserver(function (mutations, observer) {{\n",
       "        var display = window.getComputedStyle(gd).display;\n",
       "        if (!display || display === 'none') {{\n",
       "            console.log([gd, 'removed!']);\n",
       "            Plotly.purge(gd);\n",
       "            observer.disconnect();\n",
       "        }}\n",
       "}});\n",
       "\n",
       "// Listen for the removal of the full notebook cells\n",
       "var notebookContainer = gd.closest('#notebook-container');\n",
       "if (notebookContainer) {{\n",
       "    x.observe(notebookContainer, {childList: true});\n",
       "}}\n",
       "\n",
       "// Listen for the clearing of the current output cell\n",
       "var outputEl = gd.closest('.output');\n",
       "if (outputEl) {{\n",
       "    x.observe(outputEl, {childList: true});\n",
       "}}\n",
       "\n",
       "                        })                };                });            </script>        </div>"
      ]
     },
     "metadata": {},
     "output_type": "display_data"
    }
   ],
   "source": [
    "fig18i = px.scatter(June18HeatingFilt, x=\"Wall Temp [C]\", y=\"Internal Temp [C]\", trendline=\"ols\")\n",
    "fig18i.show()"
   ]
  },
  {
   "cell_type": "code",
   "execution_count": 79,
   "id": "1b4eec23",
   "metadata": {
    "collapsed": true
   },
   "outputs": [
    {
     "data": {
      "application/vnd.plotly.v1+json": {
       "config": {
        "plotlyServerURL": "https://plot.ly"
       },
       "data": [
        {
         "hovertemplate": "Wall Temp [C]=%{x}<br>Injector Temp [C]=%{y}<extra></extra>",
         "legendgroup": "",
         "marker": {
          "color": "#636efa",
          "symbol": "circle"
         },
         "mode": "markers",
         "name": "",
         "orientation": "v",
         "showlegend": false,
         "type": "scatter",
         "x": [
          37.936658732,
          42.162820944,
          46.28365529333333,
          50.23250757866666,
          53.072574870000004,
          53.73418909666667,
          53.38839594533333,
          52.69496587066667,
          51.89735310933334,
          51.097363535333336,
          50.33091761266667,
          49.619586946,
          48.96737594533333,
          48.37149251266667,
          47.82705230733333,
          47.38870544466667,
          48.403775024,
          51.31631927533333,
          54.95414784733334,
          58.769373574,
          62.612107339333335,
          66.34525909466667,
          69.94764505933334,
          73.44428711,
          76.58593749933334,
          77.78141377799999,
          77.39773915666666,
          76.48136291466668,
          75.40409088333334,
          74.32373097733333,
          73.285147094,
          72.31788381066667,
          72.28470560733334,
          74.380471802,
          77.424790446,
          80.77447102866667,
          84.12042744933333,
          87.42931264399999,
          90.616914876,
          93.71312764533333,
          96.71023915399999,
          99.59747466666666,
          101.69759978666666,
          101.69849091333334,
          100.68917897333333,
          99.38529663,
          98.03680572466666,
          96.71703745533334,
          95.47084961066666,
          94.56482747333332,
          95.63070577066667,
          98.10348510733334,
          101.02863923333332,
          104.04894713333333,
          107.01934967333334,
          109.90486959333333,
          112.67830404666667,
          115.35478159333334,
          117.94343668,
          120.43361511333335,
          122.83894704666666,
          125.14168294,
          126.32611998666667,
          125.61161092666666,
          124.21960958,
          122.66426188,
          121.1275945,
          120.78242899333333,
          122.34602304666667,
          124.61357167999999,
          127.07220764666667,
          129.55850729333332,
          131.99114481333334,
          134.35472208666667,
          136.6536021,
          138.89780680666667,
          141.06992492,
          143.17489726,
          145.22198078666668,
          147.21736348666667,
          149.17371724666666,
          150.81293945333334,
          150.56048381333332,
          149.06779684666665,
          147.24144695333334,
          145.60103149333332,
          145.76763813333335,
          147.35912475333333,
          149.38426309999997,
          151.4953959133333,
          153.60691427333333,
          155.678302,
          158.21375731999998,
          163.3840413466667,
          170.49338988666665,
          177.60756736,
          180.09998982666667,
          178.83618468666666,
          176.5200063,
          174.0217763266667,
          171.56173605333333,
          169.99363505333335,
          173.48509216,
          180.07751465333334,
          187.48060506000002,
          194.89450987333333,
          201.82211913999998,
          204.39432068,
          202.74364624666666,
          199.94554952,
          196.96112772666666,
          194.20840861333332,
          195.25118102,
          200.80799154666664,
          207.62539978,
          214.65490315333332,
          221.54709982,
          228.15647380000001,
          234.52525839333333,
          240.70530804,
          246.6398997,
          251.79655661333334,
          251.80710855333334,
          248.36025695333333,
          244.24233500666665,
          241.11766866000002,
          243.47888591333333,
          248.86098938666666,
          254.87308044000002,
          260.85932210666664,
          266.76707966,
          272.39496866666667,
          277.8478800533333,
          283.14185386,
          288.27877400666665,
          293.1874430266667,
          298.0066772466667,
          301.65832723333335,
          299.58254394,
          294.91954754,
          291.47357380666665,
          293.87446697999997,
          298.61409912,
          303.77722778000003,
          308.92639364,
          313.9045450866667,
          318.7158365866666,
          323.37236734666664,
          327.8548299066667,
          332.20656942666665,
          336.43219604,
          340.5258341466667,
          344.5156860466667,
          348.4079020333333,
          351.0204671266667,
          347.73845824,
          342.1583190933333,
          337.68239745333335,
          339.2859659933334,
          343.49397176,
          348.0752014333333,
          352.6293355466667,
          357.0418782666667,
          361.26319174,
          365.3164306666667,
          369.2035237666667,
          372.9926005133333,
          376.6303934733333,
          380.1442098,
          383.5638956666666,
          386.88909911999997,
          390.1196370466667,
          393.25263061333334,
          396.28899128666666,
          399.2172444733333,
          400.17425128,
          395.3512166333333,
          393.06444905999996,
          395.4957946733333,
          398.80221353999997,
          402.1569336,
          405.4047587066667,
          408.52013955999996,
          411.50430093999995,
          414.34582723333335,
          417.07156778666666,
          419.6786905866667,
          422.20780028,
          424.64238282,
          427.02154744666666,
          429.32284343333333,
          431.5672383533334,
          433.7736857,
          435.9054931666667,
          438.00501912666664,
          440.05637004666664,
          442.0463175533333,
          444.0015299533333,
          445.90320842,
          447.78952841333336,
          449.62170208000003,
          450.4697266
         ],
         "xaxis": "x",
         "y": [
          34.00650049866667,
          34.431366984,
          34.91359608933333,
          35.44888432733333,
          36.032654062,
          36.618184152000005,
          37.15695012333333,
          37.646577961333335,
          38.11405487066667,
          38.558899180000004,
          38.99215444066667,
          39.395999145333334,
          39.763661193999994,
          40.10611750133333,
          40.407498931999996,
          40.65400187333333,
          40.854136404,
          41.047314962,
          41.26349436533334,
          41.539639535333336,
          41.874916076666665,
          42.27339502933333,
          42.720423380666666,
          43.22030461666667,
          43.76342213866667,
          44.32722574866667,
          44.833099874,
          45.25076955066667,
          45.588595072,
          45.84052632666667,
          46.033338674,
          46.17905960066666,
          46.293900044666664,
          46.44102172866667,
          46.67372945266666,
          46.995346324,
          47.375614674666664,
          47.79340337133333,
          48.23392613666667,
          48.68887990266667,
          49.173328144,
          49.683022054000006,
          50.19206339466667,
          50.67659861333333,
          51.079637399333336,
          51.38666687,
          51.633109792,
          51.85320459933334,
          52.027507527333334,
          52.138126627333335,
          52.25391667666667,
          52.45591583133333,
          52.71672439666667,
          53.02662760466667,
          53.49577967333333,
          54.62240499,
          56.185407256666664,
          57.251949055999994,
          57.68860346666667,
          58.52475179133333,
          59.355556234666665,
          59.57663676,
          59.52903010133333,
          59.687701162,
          59.80117899733333,
          59.865364836666664,
          60.307558441999994,
          60.446045176,
          60.407594046,
          60.53736648533334,
          61.075118509333336,
          61.21643549666667,
          61.27031173733334,
          61.62157109533334,
          62.280445861333334,
          62.63020782533333,
          63.69620285,
          66.475902812,
          65.30753377333333,
          64.64584198133333,
          64.79935302733334,
          65.863013712,
          66.42753143266667,
          66.358999126,
          66.37745462933334,
          66.27923838333334,
          66.538560486,
          67.62887369733333,
          67.456715394,
          67.73835296733334,
          68.08834635466667,
          68.36330922399999,
          69.265507508,
          69.59294942266666,
          69.896165466,
          70.52848714133333,
          71.16669769333333,
          71.02182718866668,
          70.551258342,
          70.13881581666666,
          70.17889658666667,
          69.70896504666666,
          72.42023518933334,
          73.774147034,
          71.18852233999999,
          70.04051106733333,
          69.82160186866666,
          70.71603647933333,
          71.95505066,
          74.61815083866666,
          73.92846679666667,
          73.38215230333334,
          73.33514760266667,
          73.216631062,
          73.04805094333332,
          72.94904937733332,
          72.91089528533332,
          73.510650634,
          73.87332865333333,
          73.81053212533334,
          74.11311136866667,
          74.75921274666666,
          75.48670094866667,
          76.33889414533334,
          76.30769755,
          76.14693145733332,
          76.07906901066667,
          76.10962575266667,
          75.88034108400001,
          76.068137106,
          76.212346396,
          76.14560852066667,
          76.323579406,
          76.915186056,
          77.13675282733332,
          77.48422342933333,
          77.91004537,
          78.48849233066667,
          79.095173136,
          79.70865020866667,
          80.2304835,
          80.646814982,
          80.91084849133334,
          81.12984975133332,
          81.58137258066667,
          82.166475932,
          82.53800455666666,
          82.97232716933333,
          83.36840667599999,
          83.70471344066667,
          83.98781077,
          84.37536875466667,
          84.837547812,
          85.26195577,
          85.54507904,
          85.80176239000001,
          86.00715637200001,
          86.10258941866667,
          86.194566344,
          86.39270986066667,
          86.50177714,
          86.43653005066668,
          86.34395650133334,
          86.40039723800001,
          86.48972930933334,
          86.581164042,
          86.68051757733333,
          86.74164886466666,
          86.95664622,
          87.214669292,
          87.45111287466668,
          87.64406585733333,
          87.87817637266667,
          88.19402516733334,
          88.52665507,
          88.868235778,
          89.21740519266667,
          89.474049378,
          89.71642964666667,
          90.03263346333333,
          90.27276611266667,
          90.505496216,
          90.73065745133334,
          90.95869852733334,
          91.17980600933333,
          91.43138173466667,
          91.75554097533333,
          92.08818969733333,
          92.30698242199999,
          92.53046010266667,
          92.79699961266667,
          93.12199351066667,
          93.54318542533333,
          93.882779948,
          94.20958608000001,
          94.59083913266666,
          94.99238891466666,
          95.36788940466666,
          95.59644165133334,
          95.77704264333333,
          96.08605601,
          96.19150543
         ],
         "yaxis": "y"
        },
        {
         "hovertemplate": "<b>OLS trendline</b><br>Injector Temp [C] = 0.13217 * Wall Temp [C] + 39.8724<br>R<sup>2</sup>=0.923327<br><br>Wall Temp [C]=%{x}<br>Injector Temp [C]=%{y} <b>(trend)</b><extra></extra>",
         "legendgroup": "",
         "marker": {
          "color": "#636efa",
          "symbol": "circle"
         },
         "mode": "lines",
         "name": "",
         "showlegend": false,
         "type": "scatter",
         "x": [
          37.936658732,
          42.162820944,
          46.28365529333333,
          47.38870544466667,
          47.82705230733333,
          48.37149251266667,
          48.403775024,
          48.96737594533333,
          49.619586946,
          50.23250757866666,
          50.33091761266667,
          51.097363535333336,
          51.31631927533333,
          51.89735310933334,
          52.69496587066667,
          53.072574870000004,
          53.38839594533333,
          53.73418909666667,
          54.95414784733334,
          58.769373574,
          62.612107339333335,
          66.34525909466667,
          69.94764505933334,
          72.28470560733334,
          72.31788381066667,
          73.285147094,
          73.44428711,
          74.32373097733333,
          74.380471802,
          75.40409088333334,
          76.48136291466668,
          76.58593749933334,
          77.39773915666666,
          77.424790446,
          77.78141377799999,
          80.77447102866667,
          84.12042744933333,
          87.42931264399999,
          90.616914876,
          93.71312764533333,
          94.56482747333332,
          95.47084961066666,
          95.63070577066667,
          96.71023915399999,
          96.71703745533334,
          98.03680572466666,
          98.10348510733334,
          99.38529663,
          99.59747466666666,
          100.68917897333333,
          101.02863923333332,
          101.69759978666666,
          101.69849091333334,
          104.04894713333333,
          107.01934967333334,
          109.90486959333333,
          112.67830404666667,
          115.35478159333334,
          117.94343668,
          120.43361511333335,
          120.78242899333333,
          121.1275945,
          122.34602304666667,
          122.66426188,
          122.83894704666666,
          124.21960958,
          124.61357167999999,
          125.14168294,
          125.61161092666666,
          126.32611998666667,
          127.07220764666667,
          129.55850729333332,
          131.99114481333334,
          134.35472208666667,
          136.6536021,
          138.89780680666667,
          141.06992492,
          143.17489726,
          145.22198078666668,
          145.60103149333332,
          145.76763813333335,
          147.21736348666667,
          147.24144695333334,
          147.35912475333333,
          149.06779684666665,
          149.17371724666666,
          149.38426309999997,
          150.56048381333332,
          150.81293945333334,
          151.4953959133333,
          153.60691427333333,
          155.678302,
          158.21375731999998,
          163.3840413466667,
          169.99363505333335,
          170.49338988666665,
          171.56173605333333,
          173.48509216,
          174.0217763266667,
          176.5200063,
          177.60756736,
          178.83618468666666,
          180.07751465333334,
          180.09998982666667,
          187.48060506000002,
          194.20840861333332,
          194.89450987333333,
          195.25118102,
          196.96112772666666,
          199.94554952,
          200.80799154666664,
          201.82211913999998,
          202.74364624666666,
          204.39432068,
          207.62539978,
          214.65490315333332,
          221.54709982,
          228.15647380000001,
          234.52525839333333,
          240.70530804,
          241.11766866000002,
          243.47888591333333,
          244.24233500666665,
          246.6398997,
          248.36025695333333,
          248.86098938666666,
          251.79655661333334,
          251.80710855333334,
          254.87308044000002,
          260.85932210666664,
          266.76707966,
          272.39496866666667,
          277.8478800533333,
          283.14185386,
          288.27877400666665,
          291.47357380666665,
          293.1874430266667,
          293.87446697999997,
          294.91954754,
          298.0066772466667,
          298.61409912,
          299.58254394,
          301.65832723333335,
          303.77722778000003,
          308.92639364,
          313.9045450866667,
          318.7158365866666,
          323.37236734666664,
          327.8548299066667,
          332.20656942666665,
          336.43219604,
          337.68239745333335,
          339.2859659933334,
          340.5258341466667,
          342.1583190933333,
          343.49397176,
          344.5156860466667,
          347.73845824,
          348.0752014333333,
          348.4079020333333,
          351.0204671266667,
          352.6293355466667,
          357.0418782666667,
          361.26319174,
          365.3164306666667,
          369.2035237666667,
          372.9926005133333,
          376.6303934733333,
          380.1442098,
          383.5638956666666,
          386.88909911999997,
          390.1196370466667,
          393.06444905999996,
          393.25263061333334,
          395.3512166333333,
          395.4957946733333,
          396.28899128666666,
          398.80221353999997,
          399.2172444733333,
          400.17425128,
          402.1569336,
          405.4047587066667,
          408.52013955999996,
          411.50430093999995,
          414.34582723333335,
          417.07156778666666,
          419.6786905866667,
          422.20780028,
          424.64238282,
          427.02154744666666,
          429.32284343333333,
          431.5672383533334,
          433.7736857,
          435.9054931666667,
          438.00501912666664,
          440.05637004666664,
          442.0463175533333,
          444.0015299533333,
          445.90320842,
          447.78952841333336,
          449.62170208000003,
          450.4697266
         ],
         "xaxis": "x",
         "y": [
          44.88652362609742,
          45.44509617075513,
          45.98974751472962,
          46.135802172369594,
          46.19373854826809,
          46.26569729846549,
          46.26996408322169,
          46.34445530835893,
          46.43065814204612,
          46.511667961425445,
          46.52467483157235,
          46.62597611341875,
          46.654915529069186,
          46.7317108650996,
          46.837131473065,
          46.88704011572059,
          46.92878223844474,
          46.974485775312544,
          47.135727921154086,
          47.63998692392891,
          48.147881668633595,
          48.641292941312386,
          49.117420878240495,
          49.4263105497275,
          49.43069571824054,
          49.5585390632005,
          49.579572624913204,
          49.695808863424155,
          49.70330830741853,
          49.838600207335915,
          49.98098342635241,
          49.994805066160254,
          50.10210102281012,
          50.10567639610655,
          50.152811359708735,
          50.548404221729974,
          50.99063982425814,
          51.427975716836315,
          51.84928162057781,
          52.258508564223625,
          52.37107786855834,
          52.49082696132376,
          52.51195517590503,
          52.65463727818195,
          52.65553581077125,
          52.82996979687495,
          52.83878282169131,
          53.008200058434966,
          53.03624366393711,
          53.18053439912401,
          53.22540091671767,
          53.313817541496064,
          53.31393532185206,
          53.624595501478865,
          54.01719408671876,
          54.398573722313046,
          54.76513900360797,
          55.11888947483121,
          55.46103243727945,
          55.79015972449271,
          55.836262511558076,
          55.88188309252854,
          56.04292299105934,
          56.08498466925029,
          56.10807283604661,
          56.29055522689469,
          56.342625261516375,
          56.412425812362,
          56.47453627053915,
          56.56897304882749,
          56.66758357579699,
          56.99619820314773,
          57.31772029851784,
          57.630114689890746,
          57.93395803392147,
          58.23057493380671,
          58.51766413696522,
          58.795878672377356,
          59.06644203394694,
          59.11654122729449,
          59.13856165391168,
          59.330172088874846,
          59.33335520456831,
          59.34890869847091,
          59.57474416603739,
          59.58874368247601,
          59.61657156204238,
          59.77203284439926,
          59.805399947263325,
          59.89560032821365,
          60.17468005215035,
          60.44845570377386,
          60.78356724443763,
          61.4669245223902,
          62.34051559407298,
          62.40656827140925,
          62.547771757445794,
          62.80198204585669,
          62.8729156791662,
          63.203107139726484,
          63.34685026132979,
          63.50923681256488,
          63.67330359548961,
          63.676274142792494,
          64.6517712546441,
          65.54098614092368,
          65.63166825568086,
          65.67880953895528,
          65.90481347237267,
          66.29926498459827,
          66.41325408707215,
          66.54729149548193,
          66.66908988255763,
          66.88725978999997,
          67.31431203843302,
          68.24340263883015,
          69.15434538954852,
          70.02790741992217,
          70.86967071205842,
          71.68648887569819,
          71.74099064569083,
          72.05307311283775,
          72.15397830326538,
          72.47086481744932,
          72.69824471450728,
          72.76442660139404,
          73.15242099762355,
          73.15381564924391,
          73.55904565052538,
          74.35024818203055,
          75.13107745555354,
          75.87491645789444,
          76.59562863983456,
          77.29533401606092,
          77.9742815845853,
          78.39653879205615,
          78.62306116469668,
          78.71386523198129,
          78.85199369901315,
          79.26002013279387,
          79.3403031802607,
          79.46830268911344,
          79.74265930349583,
          80.02271473224098,
          80.70328081868178,
          81.36124390238938,
          81.99715307989658,
          82.61260750530994,
          83.20505530851133,
          83.78022542632456,
          84.33872718081969,
          84.50396650428848,
          84.71591041817268,
          84.87978399299217,
          85.09554979303311,
          85.27208322250738,
          85.40712336540489,
          85.83307768863716,
          85.87758509108903,
          85.92155818332469,
          86.26686133523009,
          86.47950573511307,
          87.06271222172704,
          87.62064390780915,
          88.15636115381199,
          88.6701188789706,
          89.17092176681983,
          89.65172945206092,
          90.11615112557666,
          90.56813156093483,
          91.0076242404063,
          91.43460496187215,
          91.82382124305406,
          91.848693229464,
          92.12606368392645,
          92.1451725869106,
          92.25000951187896,
          92.58218250451722,
          92.63703721025601,
          92.76352495503227,
          93.02557639867673,
          93.45484196952557,
          93.86660236194098,
          94.2610194552941,
          94.63658444612011,
          94.99684601692044,
          95.34142986003374,
          95.67570269819228,
          95.9974818671711,
          96.31193644156093,
          96.61609910517876,
          96.91274114559111,
          97.20436764908436,
          97.48612898753822,
          97.76362367402285,
          98.03475105766108,
          98.29776274220502,
          98.55618348206997,
          98.80752863328793,
          99.05684385259568,
          99.29900254313031,
          99.41108608141086
         ],
         "yaxis": "y"
        }
       ],
       "layout": {
        "legend": {
         "tracegroupgap": 0
        },
        "margin": {
         "t": 60
        },
        "template": {
         "data": {
          "bar": [
           {
            "error_x": {
             "color": "#2a3f5f"
            },
            "error_y": {
             "color": "#2a3f5f"
            },
            "marker": {
             "line": {
              "color": "#E5ECF6",
              "width": 0.5
             },
             "pattern": {
              "fillmode": "overlay",
              "size": 10,
              "solidity": 0.2
             }
            },
            "type": "bar"
           }
          ],
          "barpolar": [
           {
            "marker": {
             "line": {
              "color": "#E5ECF6",
              "width": 0.5
             },
             "pattern": {
              "fillmode": "overlay",
              "size": 10,
              "solidity": 0.2
             }
            },
            "type": "barpolar"
           }
          ],
          "carpet": [
           {
            "aaxis": {
             "endlinecolor": "#2a3f5f",
             "gridcolor": "white",
             "linecolor": "white",
             "minorgridcolor": "white",
             "startlinecolor": "#2a3f5f"
            },
            "baxis": {
             "endlinecolor": "#2a3f5f",
             "gridcolor": "white",
             "linecolor": "white",
             "minorgridcolor": "white",
             "startlinecolor": "#2a3f5f"
            },
            "type": "carpet"
           }
          ],
          "choropleth": [
           {
            "colorbar": {
             "outlinewidth": 0,
             "ticks": ""
            },
            "type": "choropleth"
           }
          ],
          "contour": [
           {
            "colorbar": {
             "outlinewidth": 0,
             "ticks": ""
            },
            "colorscale": [
             [
              0,
              "#0d0887"
             ],
             [
              0.1111111111111111,
              "#46039f"
             ],
             [
              0.2222222222222222,
              "#7201a8"
             ],
             [
              0.3333333333333333,
              "#9c179e"
             ],
             [
              0.4444444444444444,
              "#bd3786"
             ],
             [
              0.5555555555555556,
              "#d8576b"
             ],
             [
              0.6666666666666666,
              "#ed7953"
             ],
             [
              0.7777777777777778,
              "#fb9f3a"
             ],
             [
              0.8888888888888888,
              "#fdca26"
             ],
             [
              1,
              "#f0f921"
             ]
            ],
            "type": "contour"
           }
          ],
          "contourcarpet": [
           {
            "colorbar": {
             "outlinewidth": 0,
             "ticks": ""
            },
            "type": "contourcarpet"
           }
          ],
          "heatmap": [
           {
            "colorbar": {
             "outlinewidth": 0,
             "ticks": ""
            },
            "colorscale": [
             [
              0,
              "#0d0887"
             ],
             [
              0.1111111111111111,
              "#46039f"
             ],
             [
              0.2222222222222222,
              "#7201a8"
             ],
             [
              0.3333333333333333,
              "#9c179e"
             ],
             [
              0.4444444444444444,
              "#bd3786"
             ],
             [
              0.5555555555555556,
              "#d8576b"
             ],
             [
              0.6666666666666666,
              "#ed7953"
             ],
             [
              0.7777777777777778,
              "#fb9f3a"
             ],
             [
              0.8888888888888888,
              "#fdca26"
             ],
             [
              1,
              "#f0f921"
             ]
            ],
            "type": "heatmap"
           }
          ],
          "heatmapgl": [
           {
            "colorbar": {
             "outlinewidth": 0,
             "ticks": ""
            },
            "colorscale": [
             [
              0,
              "#0d0887"
             ],
             [
              0.1111111111111111,
              "#46039f"
             ],
             [
              0.2222222222222222,
              "#7201a8"
             ],
             [
              0.3333333333333333,
              "#9c179e"
             ],
             [
              0.4444444444444444,
              "#bd3786"
             ],
             [
              0.5555555555555556,
              "#d8576b"
             ],
             [
              0.6666666666666666,
              "#ed7953"
             ],
             [
              0.7777777777777778,
              "#fb9f3a"
             ],
             [
              0.8888888888888888,
              "#fdca26"
             ],
             [
              1,
              "#f0f921"
             ]
            ],
            "type": "heatmapgl"
           }
          ],
          "histogram": [
           {
            "marker": {
             "pattern": {
              "fillmode": "overlay",
              "size": 10,
              "solidity": 0.2
             }
            },
            "type": "histogram"
           }
          ],
          "histogram2d": [
           {
            "colorbar": {
             "outlinewidth": 0,
             "ticks": ""
            },
            "colorscale": [
             [
              0,
              "#0d0887"
             ],
             [
              0.1111111111111111,
              "#46039f"
             ],
             [
              0.2222222222222222,
              "#7201a8"
             ],
             [
              0.3333333333333333,
              "#9c179e"
             ],
             [
              0.4444444444444444,
              "#bd3786"
             ],
             [
              0.5555555555555556,
              "#d8576b"
             ],
             [
              0.6666666666666666,
              "#ed7953"
             ],
             [
              0.7777777777777778,
              "#fb9f3a"
             ],
             [
              0.8888888888888888,
              "#fdca26"
             ],
             [
              1,
              "#f0f921"
             ]
            ],
            "type": "histogram2d"
           }
          ],
          "histogram2dcontour": [
           {
            "colorbar": {
             "outlinewidth": 0,
             "ticks": ""
            },
            "colorscale": [
             [
              0,
              "#0d0887"
             ],
             [
              0.1111111111111111,
              "#46039f"
             ],
             [
              0.2222222222222222,
              "#7201a8"
             ],
             [
              0.3333333333333333,
              "#9c179e"
             ],
             [
              0.4444444444444444,
              "#bd3786"
             ],
             [
              0.5555555555555556,
              "#d8576b"
             ],
             [
              0.6666666666666666,
              "#ed7953"
             ],
             [
              0.7777777777777778,
              "#fb9f3a"
             ],
             [
              0.8888888888888888,
              "#fdca26"
             ],
             [
              1,
              "#f0f921"
             ]
            ],
            "type": "histogram2dcontour"
           }
          ],
          "mesh3d": [
           {
            "colorbar": {
             "outlinewidth": 0,
             "ticks": ""
            },
            "type": "mesh3d"
           }
          ],
          "parcoords": [
           {
            "line": {
             "colorbar": {
              "outlinewidth": 0,
              "ticks": ""
             }
            },
            "type": "parcoords"
           }
          ],
          "pie": [
           {
            "automargin": true,
            "type": "pie"
           }
          ],
          "scatter": [
           {
            "marker": {
             "colorbar": {
              "outlinewidth": 0,
              "ticks": ""
             }
            },
            "type": "scatter"
           }
          ],
          "scatter3d": [
           {
            "line": {
             "colorbar": {
              "outlinewidth": 0,
              "ticks": ""
             }
            },
            "marker": {
             "colorbar": {
              "outlinewidth": 0,
              "ticks": ""
             }
            },
            "type": "scatter3d"
           }
          ],
          "scattercarpet": [
           {
            "marker": {
             "colorbar": {
              "outlinewidth": 0,
              "ticks": ""
             }
            },
            "type": "scattercarpet"
           }
          ],
          "scattergeo": [
           {
            "marker": {
             "colorbar": {
              "outlinewidth": 0,
              "ticks": ""
             }
            },
            "type": "scattergeo"
           }
          ],
          "scattergl": [
           {
            "marker": {
             "colorbar": {
              "outlinewidth": 0,
              "ticks": ""
             }
            },
            "type": "scattergl"
           }
          ],
          "scattermapbox": [
           {
            "marker": {
             "colorbar": {
              "outlinewidth": 0,
              "ticks": ""
             }
            },
            "type": "scattermapbox"
           }
          ],
          "scatterpolar": [
           {
            "marker": {
             "colorbar": {
              "outlinewidth": 0,
              "ticks": ""
             }
            },
            "type": "scatterpolar"
           }
          ],
          "scatterpolargl": [
           {
            "marker": {
             "colorbar": {
              "outlinewidth": 0,
              "ticks": ""
             }
            },
            "type": "scatterpolargl"
           }
          ],
          "scatterternary": [
           {
            "marker": {
             "colorbar": {
              "outlinewidth": 0,
              "ticks": ""
             }
            },
            "type": "scatterternary"
           }
          ],
          "surface": [
           {
            "colorbar": {
             "outlinewidth": 0,
             "ticks": ""
            },
            "colorscale": [
             [
              0,
              "#0d0887"
             ],
             [
              0.1111111111111111,
              "#46039f"
             ],
             [
              0.2222222222222222,
              "#7201a8"
             ],
             [
              0.3333333333333333,
              "#9c179e"
             ],
             [
              0.4444444444444444,
              "#bd3786"
             ],
             [
              0.5555555555555556,
              "#d8576b"
             ],
             [
              0.6666666666666666,
              "#ed7953"
             ],
             [
              0.7777777777777778,
              "#fb9f3a"
             ],
             [
              0.8888888888888888,
              "#fdca26"
             ],
             [
              1,
              "#f0f921"
             ]
            ],
            "type": "surface"
           }
          ],
          "table": [
           {
            "cells": {
             "fill": {
              "color": "#EBF0F8"
             },
             "line": {
              "color": "white"
             }
            },
            "header": {
             "fill": {
              "color": "#C8D4E3"
             },
             "line": {
              "color": "white"
             }
            },
            "type": "table"
           }
          ]
         },
         "layout": {
          "annotationdefaults": {
           "arrowcolor": "#2a3f5f",
           "arrowhead": 0,
           "arrowwidth": 1
          },
          "autotypenumbers": "strict",
          "coloraxis": {
           "colorbar": {
            "outlinewidth": 0,
            "ticks": ""
           }
          },
          "colorscale": {
           "diverging": [
            [
             0,
             "#8e0152"
            ],
            [
             0.1,
             "#c51b7d"
            ],
            [
             0.2,
             "#de77ae"
            ],
            [
             0.3,
             "#f1b6da"
            ],
            [
             0.4,
             "#fde0ef"
            ],
            [
             0.5,
             "#f7f7f7"
            ],
            [
             0.6,
             "#e6f5d0"
            ],
            [
             0.7,
             "#b8e186"
            ],
            [
             0.8,
             "#7fbc41"
            ],
            [
             0.9,
             "#4d9221"
            ],
            [
             1,
             "#276419"
            ]
           ],
           "sequential": [
            [
             0,
             "#0d0887"
            ],
            [
             0.1111111111111111,
             "#46039f"
            ],
            [
             0.2222222222222222,
             "#7201a8"
            ],
            [
             0.3333333333333333,
             "#9c179e"
            ],
            [
             0.4444444444444444,
             "#bd3786"
            ],
            [
             0.5555555555555556,
             "#d8576b"
            ],
            [
             0.6666666666666666,
             "#ed7953"
            ],
            [
             0.7777777777777778,
             "#fb9f3a"
            ],
            [
             0.8888888888888888,
             "#fdca26"
            ],
            [
             1,
             "#f0f921"
            ]
           ],
           "sequentialminus": [
            [
             0,
             "#0d0887"
            ],
            [
             0.1111111111111111,
             "#46039f"
            ],
            [
             0.2222222222222222,
             "#7201a8"
            ],
            [
             0.3333333333333333,
             "#9c179e"
            ],
            [
             0.4444444444444444,
             "#bd3786"
            ],
            [
             0.5555555555555556,
             "#d8576b"
            ],
            [
             0.6666666666666666,
             "#ed7953"
            ],
            [
             0.7777777777777778,
             "#fb9f3a"
            ],
            [
             0.8888888888888888,
             "#fdca26"
            ],
            [
             1,
             "#f0f921"
            ]
           ]
          },
          "colorway": [
           "#636efa",
           "#EF553B",
           "#00cc96",
           "#ab63fa",
           "#FFA15A",
           "#19d3f3",
           "#FF6692",
           "#B6E880",
           "#FF97FF",
           "#FECB52"
          ],
          "font": {
           "color": "#2a3f5f"
          },
          "geo": {
           "bgcolor": "white",
           "lakecolor": "white",
           "landcolor": "#E5ECF6",
           "showlakes": true,
           "showland": true,
           "subunitcolor": "white"
          },
          "hoverlabel": {
           "align": "left"
          },
          "hovermode": "closest",
          "mapbox": {
           "style": "light"
          },
          "paper_bgcolor": "white",
          "plot_bgcolor": "#E5ECF6",
          "polar": {
           "angularaxis": {
            "gridcolor": "white",
            "linecolor": "white",
            "ticks": ""
           },
           "bgcolor": "#E5ECF6",
           "radialaxis": {
            "gridcolor": "white",
            "linecolor": "white",
            "ticks": ""
           }
          },
          "scene": {
           "xaxis": {
            "backgroundcolor": "#E5ECF6",
            "gridcolor": "white",
            "gridwidth": 2,
            "linecolor": "white",
            "showbackground": true,
            "ticks": "",
            "zerolinecolor": "white"
           },
           "yaxis": {
            "backgroundcolor": "#E5ECF6",
            "gridcolor": "white",
            "gridwidth": 2,
            "linecolor": "white",
            "showbackground": true,
            "ticks": "",
            "zerolinecolor": "white"
           },
           "zaxis": {
            "backgroundcolor": "#E5ECF6",
            "gridcolor": "white",
            "gridwidth": 2,
            "linecolor": "white",
            "showbackground": true,
            "ticks": "",
            "zerolinecolor": "white"
           }
          },
          "shapedefaults": {
           "line": {
            "color": "#2a3f5f"
           }
          },
          "ternary": {
           "aaxis": {
            "gridcolor": "white",
            "linecolor": "white",
            "ticks": ""
           },
           "baxis": {
            "gridcolor": "white",
            "linecolor": "white",
            "ticks": ""
           },
           "bgcolor": "#E5ECF6",
           "caxis": {
            "gridcolor": "white",
            "linecolor": "white",
            "ticks": ""
           }
          },
          "title": {
           "x": 0.05
          },
          "xaxis": {
           "automargin": true,
           "gridcolor": "white",
           "linecolor": "white",
           "ticks": "",
           "title": {
            "standoff": 15
           },
           "zerolinecolor": "white",
           "zerolinewidth": 2
          },
          "yaxis": {
           "automargin": true,
           "gridcolor": "white",
           "linecolor": "white",
           "ticks": "",
           "title": {
            "standoff": 15
           },
           "zerolinecolor": "white",
           "zerolinewidth": 2
          }
         }
        },
        "xaxis": {
         "anchor": "y",
         "domain": [
          0,
          1
         ],
         "title": {
          "text": "Wall Temp [C]"
         }
        },
        "yaxis": {
         "anchor": "x",
         "domain": [
          0,
          1
         ],
         "title": {
          "text": "Injector Temp [C]"
         }
        }
       }
      },
      "text/html": [
       "<div>                            <div id=\"e21c4b92-4809-4bf2-a0fd-d7eb7319c73a\" class=\"plotly-graph-div\" style=\"height:525px; width:100%;\"></div>            <script type=\"text/javascript\">                require([\"plotly\"], function(Plotly) {                    window.PLOTLYENV=window.PLOTLYENV || {};                                    if (document.getElementById(\"e21c4b92-4809-4bf2-a0fd-d7eb7319c73a\")) {                    Plotly.newPlot(                        \"e21c4b92-4809-4bf2-a0fd-d7eb7319c73a\",                        [{\"hovertemplate\":\"Wall Temp [C]=%{x}<br>Injector Temp [C]=%{y}<extra></extra>\",\"legendgroup\":\"\",\"marker\":{\"color\":\"#636efa\",\"symbol\":\"circle\"},\"mode\":\"markers\",\"name\":\"\",\"orientation\":\"v\",\"showlegend\":false,\"x\":[37.936658732,42.162820944,46.28365529333333,50.23250757866666,53.072574870000004,53.73418909666667,53.38839594533333,52.69496587066667,51.89735310933334,51.097363535333336,50.33091761266667,49.619586946,48.96737594533333,48.37149251266667,47.82705230733333,47.38870544466667,48.403775024,51.31631927533333,54.95414784733334,58.769373574,62.612107339333335,66.34525909466667,69.94764505933334,73.44428711,76.58593749933334,77.78141377799999,77.39773915666666,76.48136291466668,75.40409088333334,74.32373097733333,73.285147094,72.31788381066667,72.28470560733334,74.380471802,77.424790446,80.77447102866667,84.12042744933333,87.42931264399999,90.616914876,93.71312764533333,96.71023915399999,99.59747466666666,101.69759978666666,101.69849091333334,100.68917897333333,99.38529663,98.03680572466666,96.71703745533334,95.47084961066666,94.56482747333332,95.63070577066667,98.10348510733334,101.02863923333332,104.04894713333333,107.01934967333334,109.90486959333333,112.67830404666667,115.35478159333334,117.94343668,120.43361511333335,122.83894704666666,125.14168294,126.32611998666667,125.61161092666666,124.21960958,122.66426188,121.1275945,120.78242899333333,122.34602304666667,124.61357167999999,127.07220764666667,129.55850729333332,131.99114481333334,134.35472208666667,136.6536021,138.89780680666667,141.06992492,143.17489726,145.22198078666668,147.21736348666667,149.17371724666666,150.81293945333334,150.56048381333332,149.06779684666665,147.24144695333334,145.60103149333332,145.76763813333335,147.35912475333333,149.38426309999997,151.4953959133333,153.60691427333333,155.678302,158.21375731999998,163.3840413466667,170.49338988666665,177.60756736,180.09998982666667,178.83618468666666,176.5200063,174.0217763266667,171.56173605333333,169.99363505333335,173.48509216,180.07751465333334,187.48060506000002,194.89450987333333,201.82211913999998,204.39432068,202.74364624666666,199.94554952,196.96112772666666,194.20840861333332,195.25118102,200.80799154666664,207.62539978,214.65490315333332,221.54709982,228.15647380000001,234.52525839333333,240.70530804,246.6398997,251.79655661333334,251.80710855333334,248.36025695333333,244.24233500666665,241.11766866000002,243.47888591333333,248.86098938666666,254.87308044000002,260.85932210666664,266.76707966,272.39496866666667,277.8478800533333,283.14185386,288.27877400666665,293.1874430266667,298.0066772466667,301.65832723333335,299.58254394,294.91954754,291.47357380666665,293.87446697999997,298.61409912,303.77722778000003,308.92639364,313.9045450866667,318.7158365866666,323.37236734666664,327.8548299066667,332.20656942666665,336.43219604,340.5258341466667,344.5156860466667,348.4079020333333,351.0204671266667,347.73845824,342.1583190933333,337.68239745333335,339.2859659933334,343.49397176,348.0752014333333,352.6293355466667,357.0418782666667,361.26319174,365.3164306666667,369.2035237666667,372.9926005133333,376.6303934733333,380.1442098,383.5638956666666,386.88909911999997,390.1196370466667,393.25263061333334,396.28899128666666,399.2172444733333,400.17425128,395.3512166333333,393.06444905999996,395.4957946733333,398.80221353999997,402.1569336,405.4047587066667,408.52013955999996,411.50430093999995,414.34582723333335,417.07156778666666,419.6786905866667,422.20780028,424.64238282,427.02154744666666,429.32284343333333,431.5672383533334,433.7736857,435.9054931666667,438.00501912666664,440.05637004666664,442.0463175533333,444.0015299533333,445.90320842,447.78952841333336,449.62170208000003,450.4697266],\"xaxis\":\"x\",\"y\":[34.00650049866667,34.431366984,34.91359608933333,35.44888432733333,36.032654062,36.618184152000005,37.15695012333333,37.646577961333335,38.11405487066667,38.558899180000004,38.99215444066667,39.395999145333334,39.763661193999994,40.10611750133333,40.407498931999996,40.65400187333333,40.854136404,41.047314962,41.26349436533334,41.539639535333336,41.874916076666665,42.27339502933333,42.720423380666666,43.22030461666667,43.76342213866667,44.32722574866667,44.833099874,45.25076955066667,45.588595072,45.84052632666667,46.033338674,46.17905960066666,46.293900044666664,46.44102172866667,46.67372945266666,46.995346324,47.375614674666664,47.79340337133333,48.23392613666667,48.68887990266667,49.173328144,49.683022054000006,50.19206339466667,50.67659861333333,51.079637399333336,51.38666687,51.633109792,51.85320459933334,52.027507527333334,52.138126627333335,52.25391667666667,52.45591583133333,52.71672439666667,53.02662760466667,53.49577967333333,54.62240499,56.185407256666664,57.251949055999994,57.68860346666667,58.52475179133333,59.355556234666665,59.57663676,59.52903010133333,59.687701162,59.80117899733333,59.865364836666664,60.307558441999994,60.446045176,60.407594046,60.53736648533334,61.075118509333336,61.21643549666667,61.27031173733334,61.62157109533334,62.280445861333334,62.63020782533333,63.69620285,66.475902812,65.30753377333333,64.64584198133333,64.79935302733334,65.863013712,66.42753143266667,66.358999126,66.37745462933334,66.27923838333334,66.538560486,67.62887369733333,67.456715394,67.73835296733334,68.08834635466667,68.36330922399999,69.265507508,69.59294942266666,69.896165466,70.52848714133333,71.16669769333333,71.02182718866668,70.551258342,70.13881581666666,70.17889658666667,69.70896504666666,72.42023518933334,73.774147034,71.18852233999999,70.04051106733333,69.82160186866666,70.71603647933333,71.95505066,74.61815083866666,73.92846679666667,73.38215230333334,73.33514760266667,73.216631062,73.04805094333332,72.94904937733332,72.91089528533332,73.510650634,73.87332865333333,73.81053212533334,74.11311136866667,74.75921274666666,75.48670094866667,76.33889414533334,76.30769755,76.14693145733332,76.07906901066667,76.10962575266667,75.88034108400001,76.068137106,76.212346396,76.14560852066667,76.323579406,76.915186056,77.13675282733332,77.48422342933333,77.91004537,78.48849233066667,79.095173136,79.70865020866667,80.2304835,80.646814982,80.91084849133334,81.12984975133332,81.58137258066667,82.166475932,82.53800455666666,82.97232716933333,83.36840667599999,83.70471344066667,83.98781077,84.37536875466667,84.837547812,85.26195577,85.54507904,85.80176239000001,86.00715637200001,86.10258941866667,86.194566344,86.39270986066667,86.50177714,86.43653005066668,86.34395650133334,86.40039723800001,86.48972930933334,86.581164042,86.68051757733333,86.74164886466666,86.95664622,87.214669292,87.45111287466668,87.64406585733333,87.87817637266667,88.19402516733334,88.52665507,88.868235778,89.21740519266667,89.474049378,89.71642964666667,90.03263346333333,90.27276611266667,90.505496216,90.73065745133334,90.95869852733334,91.17980600933333,91.43138173466667,91.75554097533333,92.08818969733333,92.30698242199999,92.53046010266667,92.79699961266667,93.12199351066667,93.54318542533333,93.882779948,94.20958608000001,94.59083913266666,94.99238891466666,95.36788940466666,95.59644165133334,95.77704264333333,96.08605601,96.19150543],\"yaxis\":\"y\",\"type\":\"scatter\"},{\"hovertemplate\":\"<b>OLS trendline</b><br>Injector Temp [C] = 0.13217 * Wall Temp [C] + 39.8724<br>R<sup>2</sup>=0.923327<br><br>Wall Temp [C]=%{x}<br>Injector Temp [C]=%{y} <b>(trend)</b><extra></extra>\",\"legendgroup\":\"\",\"marker\":{\"color\":\"#636efa\",\"symbol\":\"circle\"},\"mode\":\"lines\",\"name\":\"\",\"showlegend\":false,\"x\":[37.936658732,42.162820944,46.28365529333333,47.38870544466667,47.82705230733333,48.37149251266667,48.403775024,48.96737594533333,49.619586946,50.23250757866666,50.33091761266667,51.097363535333336,51.31631927533333,51.89735310933334,52.69496587066667,53.072574870000004,53.38839594533333,53.73418909666667,54.95414784733334,58.769373574,62.612107339333335,66.34525909466667,69.94764505933334,72.28470560733334,72.31788381066667,73.285147094,73.44428711,74.32373097733333,74.380471802,75.40409088333334,76.48136291466668,76.58593749933334,77.39773915666666,77.424790446,77.78141377799999,80.77447102866667,84.12042744933333,87.42931264399999,90.616914876,93.71312764533333,94.56482747333332,95.47084961066666,95.63070577066667,96.71023915399999,96.71703745533334,98.03680572466666,98.10348510733334,99.38529663,99.59747466666666,100.68917897333333,101.02863923333332,101.69759978666666,101.69849091333334,104.04894713333333,107.01934967333334,109.90486959333333,112.67830404666667,115.35478159333334,117.94343668,120.43361511333335,120.78242899333333,121.1275945,122.34602304666667,122.66426188,122.83894704666666,124.21960958,124.61357167999999,125.14168294,125.61161092666666,126.32611998666667,127.07220764666667,129.55850729333332,131.99114481333334,134.35472208666667,136.6536021,138.89780680666667,141.06992492,143.17489726,145.22198078666668,145.60103149333332,145.76763813333335,147.21736348666667,147.24144695333334,147.35912475333333,149.06779684666665,149.17371724666666,149.38426309999997,150.56048381333332,150.81293945333334,151.4953959133333,153.60691427333333,155.678302,158.21375731999998,163.3840413466667,169.99363505333335,170.49338988666665,171.56173605333333,173.48509216,174.0217763266667,176.5200063,177.60756736,178.83618468666666,180.07751465333334,180.09998982666667,187.48060506000002,194.20840861333332,194.89450987333333,195.25118102,196.96112772666666,199.94554952,200.80799154666664,201.82211913999998,202.74364624666666,204.39432068,207.62539978,214.65490315333332,221.54709982,228.15647380000001,234.52525839333333,240.70530804,241.11766866000002,243.47888591333333,244.24233500666665,246.6398997,248.36025695333333,248.86098938666666,251.79655661333334,251.80710855333334,254.87308044000002,260.85932210666664,266.76707966,272.39496866666667,277.8478800533333,283.14185386,288.27877400666665,291.47357380666665,293.1874430266667,293.87446697999997,294.91954754,298.0066772466667,298.61409912,299.58254394,301.65832723333335,303.77722778000003,308.92639364,313.9045450866667,318.7158365866666,323.37236734666664,327.8548299066667,332.20656942666665,336.43219604,337.68239745333335,339.2859659933334,340.5258341466667,342.1583190933333,343.49397176,344.5156860466667,347.73845824,348.0752014333333,348.4079020333333,351.0204671266667,352.6293355466667,357.0418782666667,361.26319174,365.3164306666667,369.2035237666667,372.9926005133333,376.6303934733333,380.1442098,383.5638956666666,386.88909911999997,390.1196370466667,393.06444905999996,393.25263061333334,395.3512166333333,395.4957946733333,396.28899128666666,398.80221353999997,399.2172444733333,400.17425128,402.1569336,405.4047587066667,408.52013955999996,411.50430093999995,414.34582723333335,417.07156778666666,419.6786905866667,422.20780028,424.64238282,427.02154744666666,429.32284343333333,431.5672383533334,433.7736857,435.9054931666667,438.00501912666664,440.05637004666664,442.0463175533333,444.0015299533333,445.90320842,447.78952841333336,449.62170208000003,450.4697266],\"xaxis\":\"x\",\"y\":[44.88652362609742,45.44509617075513,45.98974751472962,46.135802172369594,46.19373854826809,46.26569729846549,46.26996408322169,46.34445530835893,46.43065814204612,46.511667961425445,46.52467483157235,46.62597611341875,46.654915529069186,46.7317108650996,46.837131473065,46.88704011572059,46.92878223844474,46.974485775312544,47.135727921154086,47.63998692392891,48.147881668633595,48.641292941312386,49.117420878240495,49.4263105497275,49.43069571824054,49.5585390632005,49.579572624913204,49.695808863424155,49.70330830741853,49.838600207335915,49.98098342635241,49.994805066160254,50.10210102281012,50.10567639610655,50.152811359708735,50.548404221729974,50.99063982425814,51.427975716836315,51.84928162057781,52.258508564223625,52.37107786855834,52.49082696132376,52.51195517590503,52.65463727818195,52.65553581077125,52.82996979687495,52.83878282169131,53.008200058434966,53.03624366393711,53.18053439912401,53.22540091671767,53.313817541496064,53.31393532185206,53.624595501478865,54.01719408671876,54.398573722313046,54.76513900360797,55.11888947483121,55.46103243727945,55.79015972449271,55.836262511558076,55.88188309252854,56.04292299105934,56.08498466925029,56.10807283604661,56.29055522689469,56.342625261516375,56.412425812362,56.47453627053915,56.56897304882749,56.66758357579699,56.99619820314773,57.31772029851784,57.630114689890746,57.93395803392147,58.23057493380671,58.51766413696522,58.795878672377356,59.06644203394694,59.11654122729449,59.13856165391168,59.330172088874846,59.33335520456831,59.34890869847091,59.57474416603739,59.58874368247601,59.61657156204238,59.77203284439926,59.805399947263325,59.89560032821365,60.17468005215035,60.44845570377386,60.78356724443763,61.4669245223902,62.34051559407298,62.40656827140925,62.547771757445794,62.80198204585669,62.8729156791662,63.203107139726484,63.34685026132979,63.50923681256488,63.67330359548961,63.676274142792494,64.6517712546441,65.54098614092368,65.63166825568086,65.67880953895528,65.90481347237267,66.29926498459827,66.41325408707215,66.54729149548193,66.66908988255763,66.88725978999997,67.31431203843302,68.24340263883015,69.15434538954852,70.02790741992217,70.86967071205842,71.68648887569819,71.74099064569083,72.05307311283775,72.15397830326538,72.47086481744932,72.69824471450728,72.76442660139404,73.15242099762355,73.15381564924391,73.55904565052538,74.35024818203055,75.13107745555354,75.87491645789444,76.59562863983456,77.29533401606092,77.9742815845853,78.39653879205615,78.62306116469668,78.71386523198129,78.85199369901315,79.26002013279387,79.3403031802607,79.46830268911344,79.74265930349583,80.02271473224098,80.70328081868178,81.36124390238938,81.99715307989658,82.61260750530994,83.20505530851133,83.78022542632456,84.33872718081969,84.50396650428848,84.71591041817268,84.87978399299217,85.09554979303311,85.27208322250738,85.40712336540489,85.83307768863716,85.87758509108903,85.92155818332469,86.26686133523009,86.47950573511307,87.06271222172704,87.62064390780915,88.15636115381199,88.6701188789706,89.17092176681983,89.65172945206092,90.11615112557666,90.56813156093483,91.0076242404063,91.43460496187215,91.82382124305406,91.848693229464,92.12606368392645,92.1451725869106,92.25000951187896,92.58218250451722,92.63703721025601,92.76352495503227,93.02557639867673,93.45484196952557,93.86660236194098,94.2610194552941,94.63658444612011,94.99684601692044,95.34142986003374,95.67570269819228,95.9974818671711,96.31193644156093,96.61609910517876,96.91274114559111,97.20436764908436,97.48612898753822,97.76362367402285,98.03475105766108,98.29776274220502,98.55618348206997,98.80752863328793,99.05684385259568,99.29900254313031,99.41108608141086],\"yaxis\":\"y\",\"type\":\"scatter\"}],                        {\"template\":{\"data\":{\"bar\":[{\"error_x\":{\"color\":\"#2a3f5f\"},\"error_y\":{\"color\":\"#2a3f5f\"},\"marker\":{\"line\":{\"color\":\"#E5ECF6\",\"width\":0.5},\"pattern\":{\"fillmode\":\"overlay\",\"size\":10,\"solidity\":0.2}},\"type\":\"bar\"}],\"barpolar\":[{\"marker\":{\"line\":{\"color\":\"#E5ECF6\",\"width\":0.5},\"pattern\":{\"fillmode\":\"overlay\",\"size\":10,\"solidity\":0.2}},\"type\":\"barpolar\"}],\"carpet\":[{\"aaxis\":{\"endlinecolor\":\"#2a3f5f\",\"gridcolor\":\"white\",\"linecolor\":\"white\",\"minorgridcolor\":\"white\",\"startlinecolor\":\"#2a3f5f\"},\"baxis\":{\"endlinecolor\":\"#2a3f5f\",\"gridcolor\":\"white\",\"linecolor\":\"white\",\"minorgridcolor\":\"white\",\"startlinecolor\":\"#2a3f5f\"},\"type\":\"carpet\"}],\"choropleth\":[{\"colorbar\":{\"outlinewidth\":0,\"ticks\":\"\"},\"type\":\"choropleth\"}],\"contour\":[{\"colorbar\":{\"outlinewidth\":0,\"ticks\":\"\"},\"colorscale\":[[0.0,\"#0d0887\"],[0.1111111111111111,\"#46039f\"],[0.2222222222222222,\"#7201a8\"],[0.3333333333333333,\"#9c179e\"],[0.4444444444444444,\"#bd3786\"],[0.5555555555555556,\"#d8576b\"],[0.6666666666666666,\"#ed7953\"],[0.7777777777777778,\"#fb9f3a\"],[0.8888888888888888,\"#fdca26\"],[1.0,\"#f0f921\"]],\"type\":\"contour\"}],\"contourcarpet\":[{\"colorbar\":{\"outlinewidth\":0,\"ticks\":\"\"},\"type\":\"contourcarpet\"}],\"heatmap\":[{\"colorbar\":{\"outlinewidth\":0,\"ticks\":\"\"},\"colorscale\":[[0.0,\"#0d0887\"],[0.1111111111111111,\"#46039f\"],[0.2222222222222222,\"#7201a8\"],[0.3333333333333333,\"#9c179e\"],[0.4444444444444444,\"#bd3786\"],[0.5555555555555556,\"#d8576b\"],[0.6666666666666666,\"#ed7953\"],[0.7777777777777778,\"#fb9f3a\"],[0.8888888888888888,\"#fdca26\"],[1.0,\"#f0f921\"]],\"type\":\"heatmap\"}],\"heatmapgl\":[{\"colorbar\":{\"outlinewidth\":0,\"ticks\":\"\"},\"colorscale\":[[0.0,\"#0d0887\"],[0.1111111111111111,\"#46039f\"],[0.2222222222222222,\"#7201a8\"],[0.3333333333333333,\"#9c179e\"],[0.4444444444444444,\"#bd3786\"],[0.5555555555555556,\"#d8576b\"],[0.6666666666666666,\"#ed7953\"],[0.7777777777777778,\"#fb9f3a\"],[0.8888888888888888,\"#fdca26\"],[1.0,\"#f0f921\"]],\"type\":\"heatmapgl\"}],\"histogram\":[{\"marker\":{\"pattern\":{\"fillmode\":\"overlay\",\"size\":10,\"solidity\":0.2}},\"type\":\"histogram\"}],\"histogram2d\":[{\"colorbar\":{\"outlinewidth\":0,\"ticks\":\"\"},\"colorscale\":[[0.0,\"#0d0887\"],[0.1111111111111111,\"#46039f\"],[0.2222222222222222,\"#7201a8\"],[0.3333333333333333,\"#9c179e\"],[0.4444444444444444,\"#bd3786\"],[0.5555555555555556,\"#d8576b\"],[0.6666666666666666,\"#ed7953\"],[0.7777777777777778,\"#fb9f3a\"],[0.8888888888888888,\"#fdca26\"],[1.0,\"#f0f921\"]],\"type\":\"histogram2d\"}],\"histogram2dcontour\":[{\"colorbar\":{\"outlinewidth\":0,\"ticks\":\"\"},\"colorscale\":[[0.0,\"#0d0887\"],[0.1111111111111111,\"#46039f\"],[0.2222222222222222,\"#7201a8\"],[0.3333333333333333,\"#9c179e\"],[0.4444444444444444,\"#bd3786\"],[0.5555555555555556,\"#d8576b\"],[0.6666666666666666,\"#ed7953\"],[0.7777777777777778,\"#fb9f3a\"],[0.8888888888888888,\"#fdca26\"],[1.0,\"#f0f921\"]],\"type\":\"histogram2dcontour\"}],\"mesh3d\":[{\"colorbar\":{\"outlinewidth\":0,\"ticks\":\"\"},\"type\":\"mesh3d\"}],\"parcoords\":[{\"line\":{\"colorbar\":{\"outlinewidth\":0,\"ticks\":\"\"}},\"type\":\"parcoords\"}],\"pie\":[{\"automargin\":true,\"type\":\"pie\"}],\"scatter\":[{\"marker\":{\"colorbar\":{\"outlinewidth\":0,\"ticks\":\"\"}},\"type\":\"scatter\"}],\"scatter3d\":[{\"line\":{\"colorbar\":{\"outlinewidth\":0,\"ticks\":\"\"}},\"marker\":{\"colorbar\":{\"outlinewidth\":0,\"ticks\":\"\"}},\"type\":\"scatter3d\"}],\"scattercarpet\":[{\"marker\":{\"colorbar\":{\"outlinewidth\":0,\"ticks\":\"\"}},\"type\":\"scattercarpet\"}],\"scattergeo\":[{\"marker\":{\"colorbar\":{\"outlinewidth\":0,\"ticks\":\"\"}},\"type\":\"scattergeo\"}],\"scattergl\":[{\"marker\":{\"colorbar\":{\"outlinewidth\":0,\"ticks\":\"\"}},\"type\":\"scattergl\"}],\"scattermapbox\":[{\"marker\":{\"colorbar\":{\"outlinewidth\":0,\"ticks\":\"\"}},\"type\":\"scattermapbox\"}],\"scatterpolar\":[{\"marker\":{\"colorbar\":{\"outlinewidth\":0,\"ticks\":\"\"}},\"type\":\"scatterpolar\"}],\"scatterpolargl\":[{\"marker\":{\"colorbar\":{\"outlinewidth\":0,\"ticks\":\"\"}},\"type\":\"scatterpolargl\"}],\"scatterternary\":[{\"marker\":{\"colorbar\":{\"outlinewidth\":0,\"ticks\":\"\"}},\"type\":\"scatterternary\"}],\"surface\":[{\"colorbar\":{\"outlinewidth\":0,\"ticks\":\"\"},\"colorscale\":[[0.0,\"#0d0887\"],[0.1111111111111111,\"#46039f\"],[0.2222222222222222,\"#7201a8\"],[0.3333333333333333,\"#9c179e\"],[0.4444444444444444,\"#bd3786\"],[0.5555555555555556,\"#d8576b\"],[0.6666666666666666,\"#ed7953\"],[0.7777777777777778,\"#fb9f3a\"],[0.8888888888888888,\"#fdca26\"],[1.0,\"#f0f921\"]],\"type\":\"surface\"}],\"table\":[{\"cells\":{\"fill\":{\"color\":\"#EBF0F8\"},\"line\":{\"color\":\"white\"}},\"header\":{\"fill\":{\"color\":\"#C8D4E3\"},\"line\":{\"color\":\"white\"}},\"type\":\"table\"}]},\"layout\":{\"annotationdefaults\":{\"arrowcolor\":\"#2a3f5f\",\"arrowhead\":0,\"arrowwidth\":1},\"autotypenumbers\":\"strict\",\"coloraxis\":{\"colorbar\":{\"outlinewidth\":0,\"ticks\":\"\"}},\"colorscale\":{\"diverging\":[[0,\"#8e0152\"],[0.1,\"#c51b7d\"],[0.2,\"#de77ae\"],[0.3,\"#f1b6da\"],[0.4,\"#fde0ef\"],[0.5,\"#f7f7f7\"],[0.6,\"#e6f5d0\"],[0.7,\"#b8e186\"],[0.8,\"#7fbc41\"],[0.9,\"#4d9221\"],[1,\"#276419\"]],\"sequential\":[[0.0,\"#0d0887\"],[0.1111111111111111,\"#46039f\"],[0.2222222222222222,\"#7201a8\"],[0.3333333333333333,\"#9c179e\"],[0.4444444444444444,\"#bd3786\"],[0.5555555555555556,\"#d8576b\"],[0.6666666666666666,\"#ed7953\"],[0.7777777777777778,\"#fb9f3a\"],[0.8888888888888888,\"#fdca26\"],[1.0,\"#f0f921\"]],\"sequentialminus\":[[0.0,\"#0d0887\"],[0.1111111111111111,\"#46039f\"],[0.2222222222222222,\"#7201a8\"],[0.3333333333333333,\"#9c179e\"],[0.4444444444444444,\"#bd3786\"],[0.5555555555555556,\"#d8576b\"],[0.6666666666666666,\"#ed7953\"],[0.7777777777777778,\"#fb9f3a\"],[0.8888888888888888,\"#fdca26\"],[1.0,\"#f0f921\"]]},\"colorway\":[\"#636efa\",\"#EF553B\",\"#00cc96\",\"#ab63fa\",\"#FFA15A\",\"#19d3f3\",\"#FF6692\",\"#B6E880\",\"#FF97FF\",\"#FECB52\"],\"font\":{\"color\":\"#2a3f5f\"},\"geo\":{\"bgcolor\":\"white\",\"lakecolor\":\"white\",\"landcolor\":\"#E5ECF6\",\"showlakes\":true,\"showland\":true,\"subunitcolor\":\"white\"},\"hoverlabel\":{\"align\":\"left\"},\"hovermode\":\"closest\",\"mapbox\":{\"style\":\"light\"},\"paper_bgcolor\":\"white\",\"plot_bgcolor\":\"#E5ECF6\",\"polar\":{\"angularaxis\":{\"gridcolor\":\"white\",\"linecolor\":\"white\",\"ticks\":\"\"},\"bgcolor\":\"#E5ECF6\",\"radialaxis\":{\"gridcolor\":\"white\",\"linecolor\":\"white\",\"ticks\":\"\"}},\"scene\":{\"xaxis\":{\"backgroundcolor\":\"#E5ECF6\",\"gridcolor\":\"white\",\"gridwidth\":2,\"linecolor\":\"white\",\"showbackground\":true,\"ticks\":\"\",\"zerolinecolor\":\"white\"},\"yaxis\":{\"backgroundcolor\":\"#E5ECF6\",\"gridcolor\":\"white\",\"gridwidth\":2,\"linecolor\":\"white\",\"showbackground\":true,\"ticks\":\"\",\"zerolinecolor\":\"white\"},\"zaxis\":{\"backgroundcolor\":\"#E5ECF6\",\"gridcolor\":\"white\",\"gridwidth\":2,\"linecolor\":\"white\",\"showbackground\":true,\"ticks\":\"\",\"zerolinecolor\":\"white\"}},\"shapedefaults\":{\"line\":{\"color\":\"#2a3f5f\"}},\"ternary\":{\"aaxis\":{\"gridcolor\":\"white\",\"linecolor\":\"white\",\"ticks\":\"\"},\"baxis\":{\"gridcolor\":\"white\",\"linecolor\":\"white\",\"ticks\":\"\"},\"bgcolor\":\"#E5ECF6\",\"caxis\":{\"gridcolor\":\"white\",\"linecolor\":\"white\",\"ticks\":\"\"}},\"title\":{\"x\":0.05},\"xaxis\":{\"automargin\":true,\"gridcolor\":\"white\",\"linecolor\":\"white\",\"ticks\":\"\",\"title\":{\"standoff\":15},\"zerolinecolor\":\"white\",\"zerolinewidth\":2},\"yaxis\":{\"automargin\":true,\"gridcolor\":\"white\",\"linecolor\":\"white\",\"ticks\":\"\",\"title\":{\"standoff\":15},\"zerolinecolor\":\"white\",\"zerolinewidth\":2}}},\"xaxis\":{\"anchor\":\"y\",\"domain\":[0.0,1.0],\"title\":{\"text\":\"Wall Temp [C]\"}},\"yaxis\":{\"anchor\":\"x\",\"domain\":[0.0,1.0],\"title\":{\"text\":\"Injector Temp [C]\"}},\"legend\":{\"tracegroupgap\":0},\"margin\":{\"t\":60}},                        {\"responsive\": true}                    ).then(function(){\n",
       "                            \n",
       "var gd = document.getElementById('e21c4b92-4809-4bf2-a0fd-d7eb7319c73a');\n",
       "var x = new MutationObserver(function (mutations, observer) {{\n",
       "        var display = window.getComputedStyle(gd).display;\n",
       "        if (!display || display === 'none') {{\n",
       "            console.log([gd, 'removed!']);\n",
       "            Plotly.purge(gd);\n",
       "            observer.disconnect();\n",
       "        }}\n",
       "}});\n",
       "\n",
       "// Listen for the removal of the full notebook cells\n",
       "var notebookContainer = gd.closest('#notebook-container');\n",
       "if (notebookContainer) {{\n",
       "    x.observe(notebookContainer, {childList: true});\n",
       "}}\n",
       "\n",
       "// Listen for the clearing of the current output cell\n",
       "var outputEl = gd.closest('.output');\n",
       "if (outputEl) {{\n",
       "    x.observe(outputEl, {childList: true});\n",
       "}}\n",
       "\n",
       "                        })                };                });            </script>        </div>"
      ]
     },
     "metadata": {},
     "output_type": "display_data"
    }
   ],
   "source": [
    "fig13inj = px.scatter(June13HeatingFilt, x=\"Wall Temp [C]\", y=\"Injector Temp [C]\", trendline=\"ols\")\n",
    "fig13inj.show()"
   ]
  },
  {
   "cell_type": "code",
   "execution_count": 80,
   "id": "438ce6b8",
   "metadata": {
    "collapsed": true
   },
   "outputs": [
    {
     "data": {
      "application/vnd.plotly.v1+json": {
       "config": {
        "plotlyServerURL": "https://plot.ly"
       },
       "data": [
        {
         "hovertemplate": "Wall Temp [C]=%{x}<br>Injector Temp [C]=%{y}<extra></extra>",
         "legendgroup": "",
         "marker": {
          "color": "#636efa",
          "symbol": "circle"
         },
         "mode": "markers",
         "name": "",
         "orientation": "v",
         "showlegend": false,
         "type": "scatter",
         "x": [
          56.935774484666666,
          61.46727650933334,
          62.31811269133333,
          61.82202479066667,
          60.85544840533333,
          59.75977045533333,
          58.673587291333334,
          57.64210459466666,
          56.68772684666667,
          55.813182321999996,
          55.016317494,
          55.65392964666667,
          61.871396892,
          71.22979024266667,
          80.58819071333333,
          84.72806650866666,
          85.14921061066667,
          84.28589731866667,
          83.00301157666667,
          81.62783508333334,
          80.287793478,
          79.703616842,
          84.23167978933334,
          92.56270141666667,
          101.80110067066667,
          107.63562978,
          108.48156381333334,
          107.47003682666667,
          105.87923686666666,
          104.34830117999999,
          106.59127604666668,
          113.50078174666666,
          121.85698902666667,
          129.51670632666668,
          131.97793274,
          131.16241965333333,
          129.3625763,
          127.32605032666667,
          125.30724335333333,
          124.65008596,
          129.30344087333333,
          136.79371439333332,
          145.00312093333332,
          152.83860678000002,
          156.00712891333333,
          155.10895589333333,
          154.36778361333333,
          158.62871397333336,
          165.44292195333335,
          172.86003825333333,
          179.01117860000002,
          179.62798563333334,
          177.49405518,
          174.72851564666664,
          174.39670716666666,
          179.34639384,
          186.23562824666666,
          193.53633115333332,
          200.67081909333334,
          204.16614278666665,
          202.64888509333332,
          199.67902019333332,
          198.1860860333333,
          202.21966044,
          208.64738159333334,
          215.5792867,
          222.47864074,
          229.17128601333334,
          235.65744832000001,
          241.92031046,
          247.96418760666666,
          252.51919046,
          251.24885457333332,
          247.3866099,
          243.52226155333335,
          244.62016805333332,
          249.79031982,
          255.89308675333334,
          262.0868347066667,
          268.12266642000003,
          273.9745280133333,
          279.60542806,
          285.0778646,
          290.37296548666666,
          295.49937133333333,
          300.37825318,
          301.3224263533333,
          297.28062134,
          292.87257689333336,
          293.9388956733334,
          298.58813273333334,
          303.9475158733333,
          309.3155273333333,
          314.55785115333333,
          319.6187479733333,
          324.49163208000004,
          329.20671996666664,
          333.76493734,
          338.1774454733333,
          342.47202961333335,
          346.6205993666666,
          350.52572836666667,
          349.91291300666666,
          344.70472207999995,
          339.06710408666663,
          338.1007670066667,
          341.9188679933333,
          346.7303263333333,
          351.3944742733333,
          356.00705364,
          360.5527119866667,
          364.91309204000004,
          369.10147298666664,
          373.1117472266667,
          376.94286294666665,
          380.6869832333333,
          384.2861796133333,
          387.7961832666667,
          391.22416992,
          394.53285930000004,
          397.75081584,
          400.31269226
         ],
         "xaxis": "x",
         "y": [
          40.42002894066666,
          40.78146209666667,
          41.126491292,
          41.399348958000004,
          41.65439071666666,
          41.873931375333335,
          42.051701864,
          42.20870920733333,
          42.340703837999996,
          42.48096898266667,
          42.591761016,
          42.671688334,
          42.78788528333334,
          43.03044204733333,
          43.398081462,
          43.79860458466667,
          44.167415364,
          44.400818634,
          44.64208526533333,
          44.845559437333335,
          45.03930104733333,
          45.202798462000004,
          45.380691782666666,
          45.614046986,
          45.96808649733334,
          46.479313151333336,
          46.82813034,
          47.190990702,
          47.378195954666666,
          47.597270456000004,
          47.8773585,
          48.16482976333334,
          48.55087356533333,
          48.93222554533334,
          49.47872238066667,
          49.88111089066667,
          50.204853058,
          50.556013998000005,
          50.82560145066667,
          51.043668112,
          51.21800461,
          51.473727161333336,
          52.002516428,
          52.506726838,
          53.103932953333334,
          53.423658498,
          53.88785197,
          54.40524368133333,
          54.986646016,
          55.702745564,
          56.438249715333335,
          56.95699615533333,
          57.436218262666664,
          57.94828949,
          58.321872457333335,
          58.64828008,
          58.984814705999995,
          59.25970891266666,
          59.745205688000006,
          60.01827646866666,
          60.470559692,
          60.932573700666666,
          61.259245809333336,
          61.67975209666667,
          61.935144296666664,
          62.375296528,
          62.750156403333335,
          63.440953572666665,
          63.98639729666666,
          64.506578064,
          65.25726064133333,
          65.91165161133333,
          66.623975118,
          67.21643524066667,
          67.637247722,
          68.109418232,
          68.56359965,
          69.03116048133333,
          69.437922668,
          69.79887949733333,
          70.07876434333333,
          70.53375803533332,
          71.23891448933334,
          72.193247988,
          72.95808766666667,
          73.73537699466667,
          74.42178039466667,
          75.05020650333333,
          75.50475514666667,
          76.00152892999999,
          76.435131328,
          76.78264872266666,
          77.03197377466667,
          77.61442769466666,
          78.18153737466668,
          78.475165304,
          79.03933054533333,
          79.75205841066666,
          80.28025156666666,
          80.935306294,
          81.53850962466666,
          82.12267354333333,
          82.75129241933334,
          83.282603962,
          83.26004994666667,
          83.63294423399999,
          83.70677541133334,
          82.618276978,
          78.68882242866667,
          80.76554362066666,
          82.14157358866667,
          82.45289916933334,
          82.929261778,
          83.36343282,
          84.16694081733334,
          84.64059804333333,
          85.696091716,
          86.44595286,
          86.88026885933333,
          86.93805643666666,
          87.00769551533334,
          87.229529572
         ],
         "yaxis": "y"
        },
        {
         "hovertemplate": "<b>OLS trendline</b><br>Injector Temp [C] = 0.138735 * Wall Temp [C] + 32.8766<br>R<sup>2</sup>=0.993347<br><br>Wall Temp [C]=%{x}<br>Injector Temp [C]=%{y} <b>(trend)</b><extra></extra>",
         "legendgroup": "",
         "marker": {
          "color": "#636efa",
          "symbol": "circle"
         },
         "mode": "lines",
         "name": "",
         "showlegend": false,
         "type": "scatter",
         "x": [
          55.016317494,
          55.65392964666667,
          55.813182321999996,
          56.68772684666667,
          56.935774484666666,
          57.64210459466666,
          58.673587291333334,
          59.75977045533333,
          60.85544840533333,
          61.46727650933334,
          61.82202479066667,
          61.871396892,
          62.31811269133333,
          71.22979024266667,
          79.703616842,
          80.287793478,
          80.58819071333333,
          81.62783508333334,
          83.00301157666667,
          84.23167978933334,
          84.28589731866667,
          84.72806650866666,
          85.14921061066667,
          92.56270141666667,
          101.80110067066667,
          104.34830117999999,
          105.87923686666666,
          106.59127604666668,
          107.47003682666667,
          107.63562978,
          108.48156381333334,
          113.50078174666666,
          121.85698902666667,
          124.65008596,
          125.30724335333333,
          127.32605032666667,
          129.30344087333333,
          129.3625763,
          129.51670632666668,
          131.16241965333333,
          131.97793274,
          136.79371439333332,
          145.00312093333332,
          152.83860678000002,
          154.36778361333333,
          155.10895589333333,
          156.00712891333333,
          158.62871397333336,
          165.44292195333335,
          172.86003825333333,
          174.39670716666666,
          174.72851564666664,
          177.49405518,
          179.01117860000002,
          179.34639384,
          179.62798563333334,
          186.23562824666666,
          193.53633115333332,
          198.1860860333333,
          199.67902019333332,
          200.67081909333334,
          202.21966044,
          202.64888509333332,
          204.16614278666665,
          208.64738159333334,
          215.5792867,
          222.47864074,
          229.17128601333334,
          235.65744832000001,
          241.92031046,
          243.52226155333335,
          244.62016805333332,
          247.3866099,
          247.96418760666666,
          249.79031982,
          251.24885457333332,
          252.51919046,
          255.89308675333334,
          262.0868347066667,
          268.12266642000003,
          273.9745280133333,
          279.60542806,
          285.0778646,
          290.37296548666666,
          292.87257689333336,
          293.9388956733334,
          295.49937133333333,
          297.28062134,
          298.58813273333334,
          300.37825318,
          301.3224263533333,
          303.9475158733333,
          309.3155273333333,
          314.55785115333333,
          319.6187479733333,
          324.49163208000004,
          329.20671996666664,
          333.76493734,
          338.1007670066667,
          338.1774454733333,
          339.06710408666663,
          341.9188679933333,
          342.47202961333335,
          344.70472207999995,
          346.6205993666666,
          346.7303263333333,
          349.91291300666666,
          350.52572836666667,
          351.3944742733333,
          356.00705364,
          360.5527119866667,
          364.91309204000004,
          369.10147298666664,
          373.1117472266667,
          376.94286294666665,
          380.6869832333333,
          384.2861796133333,
          387.7961832666667,
          391.22416992,
          394.53285930000004,
          397.75081584,
          400.31269226
         ],
         "xaxis": "x",
         "y": [
          40.509325895771745,
          40.59778532325711,
          40.61987931946873,
          40.74120967309973,
          40.7756226809993,
          40.873615727218635,
          41.01671897333241,
          41.16741111498911,
          41.31942052033055,
          41.404302785470804,
          41.45351895824436,
          41.46036862037741,
          41.522343950823085,
          42.75870980556431,
          43.934330198701865,
          44.01537622418109,
          44.05705197854781,
          44.20128753832181,
          44.39207330798262,
          44.56253318113184,
          44.57005507603996,
          44.63139963046145,
          44.68982725922598,
          45.71834145805995,
          47.000035204755655,
          47.35342228780244,
          47.56581738377584,
          47.66460248055689,
          47.786517778391605,
          47.80949139610923,
          47.92685245951759,
          48.623196064246606,
          49.78249848476409,
          50.170000126005476,
          50.261171171819015,
          50.54125132449121,
          50.81558554936686,
          50.82378973111772,
          50.845173034212266,
          51.07349186106197,
          51.1866324598596,
          51.854752234814846,
          52.993688184335,
          54.080748067317124,
          54.29289914793064,
          54.3957260392981,
          54.520334503549776,
          54.88404136287154,
          55.829413771719146,
          56.85843095520022,
          57.07162145312206,
          57.11765506156699,
          57.50133351371642,
          57.71181235825625,
          57.758318605181984,
          57.797385377543,
          58.714099841278966,
          59.72696635686134,
          60.372052327873405,
          60.579175263837875,
          60.716772959408274,
          60.93165220570053,
          60.99120089362573,
          61.2016983666408,
          61.82340517948156,
          62.78510635558692,
          63.74229154386279,
          64.67079889235933,
          65.57065972754769,
          66.43954090712863,
          66.66178835957,
          66.81410694386341,
          67.19791057888543,
          67.278041098742,
          67.53139042627355,
          67.73374094407308,
          67.909981601938,
          68.37806072065467,
          69.23735331043525,
          70.07473731500048,
          70.88659813682594,
          71.66780375261011,
          72.42702485787575,
          73.16164321631322,
          73.50842800240122,
          73.6563642492265,
          73.87285758755314,
          74.11998016063936,
          74.30137838023278,
          74.5497315980623,
          74.68072191562572,
          75.04491496788461,
          75.78964860964552,
          76.5169449164531,
          77.2190708614925,
          77.89511277266921,
          78.54926274966274,
          79.18164922083106,
          79.78318262696722,
          79.79382065077749,
          79.91724786474094,
          80.31288869663555,
          80.38963183901049,
          80.69938549807455,
          80.96518565135258,
          80.98040867464417,
          81.42194636157217,
          81.50696559414658,
          81.62749147373117,
          82.26741988208987,
          82.89806397067645,
          83.5030033864691,
          84.08408042379217,
          84.6404477418335,
          85.1719594167663,
          85.6914017385754,
          86.19073797275887,
          86.67770001127529,
          87.15328338200169,
          87.61231598835593,
          88.05876073068188,
          88.41418388322637
         ],
         "yaxis": "y"
        }
       ],
       "layout": {
        "legend": {
         "tracegroupgap": 0
        },
        "margin": {
         "t": 60
        },
        "template": {
         "data": {
          "bar": [
           {
            "error_x": {
             "color": "#2a3f5f"
            },
            "error_y": {
             "color": "#2a3f5f"
            },
            "marker": {
             "line": {
              "color": "#E5ECF6",
              "width": 0.5
             },
             "pattern": {
              "fillmode": "overlay",
              "size": 10,
              "solidity": 0.2
             }
            },
            "type": "bar"
           }
          ],
          "barpolar": [
           {
            "marker": {
             "line": {
              "color": "#E5ECF6",
              "width": 0.5
             },
             "pattern": {
              "fillmode": "overlay",
              "size": 10,
              "solidity": 0.2
             }
            },
            "type": "barpolar"
           }
          ],
          "carpet": [
           {
            "aaxis": {
             "endlinecolor": "#2a3f5f",
             "gridcolor": "white",
             "linecolor": "white",
             "minorgridcolor": "white",
             "startlinecolor": "#2a3f5f"
            },
            "baxis": {
             "endlinecolor": "#2a3f5f",
             "gridcolor": "white",
             "linecolor": "white",
             "minorgridcolor": "white",
             "startlinecolor": "#2a3f5f"
            },
            "type": "carpet"
           }
          ],
          "choropleth": [
           {
            "colorbar": {
             "outlinewidth": 0,
             "ticks": ""
            },
            "type": "choropleth"
           }
          ],
          "contour": [
           {
            "colorbar": {
             "outlinewidth": 0,
             "ticks": ""
            },
            "colorscale": [
             [
              0,
              "#0d0887"
             ],
             [
              0.1111111111111111,
              "#46039f"
             ],
             [
              0.2222222222222222,
              "#7201a8"
             ],
             [
              0.3333333333333333,
              "#9c179e"
             ],
             [
              0.4444444444444444,
              "#bd3786"
             ],
             [
              0.5555555555555556,
              "#d8576b"
             ],
             [
              0.6666666666666666,
              "#ed7953"
             ],
             [
              0.7777777777777778,
              "#fb9f3a"
             ],
             [
              0.8888888888888888,
              "#fdca26"
             ],
             [
              1,
              "#f0f921"
             ]
            ],
            "type": "contour"
           }
          ],
          "contourcarpet": [
           {
            "colorbar": {
             "outlinewidth": 0,
             "ticks": ""
            },
            "type": "contourcarpet"
           }
          ],
          "heatmap": [
           {
            "colorbar": {
             "outlinewidth": 0,
             "ticks": ""
            },
            "colorscale": [
             [
              0,
              "#0d0887"
             ],
             [
              0.1111111111111111,
              "#46039f"
             ],
             [
              0.2222222222222222,
              "#7201a8"
             ],
             [
              0.3333333333333333,
              "#9c179e"
             ],
             [
              0.4444444444444444,
              "#bd3786"
             ],
             [
              0.5555555555555556,
              "#d8576b"
             ],
             [
              0.6666666666666666,
              "#ed7953"
             ],
             [
              0.7777777777777778,
              "#fb9f3a"
             ],
             [
              0.8888888888888888,
              "#fdca26"
             ],
             [
              1,
              "#f0f921"
             ]
            ],
            "type": "heatmap"
           }
          ],
          "heatmapgl": [
           {
            "colorbar": {
             "outlinewidth": 0,
             "ticks": ""
            },
            "colorscale": [
             [
              0,
              "#0d0887"
             ],
             [
              0.1111111111111111,
              "#46039f"
             ],
             [
              0.2222222222222222,
              "#7201a8"
             ],
             [
              0.3333333333333333,
              "#9c179e"
             ],
             [
              0.4444444444444444,
              "#bd3786"
             ],
             [
              0.5555555555555556,
              "#d8576b"
             ],
             [
              0.6666666666666666,
              "#ed7953"
             ],
             [
              0.7777777777777778,
              "#fb9f3a"
             ],
             [
              0.8888888888888888,
              "#fdca26"
             ],
             [
              1,
              "#f0f921"
             ]
            ],
            "type": "heatmapgl"
           }
          ],
          "histogram": [
           {
            "marker": {
             "pattern": {
              "fillmode": "overlay",
              "size": 10,
              "solidity": 0.2
             }
            },
            "type": "histogram"
           }
          ],
          "histogram2d": [
           {
            "colorbar": {
             "outlinewidth": 0,
             "ticks": ""
            },
            "colorscale": [
             [
              0,
              "#0d0887"
             ],
             [
              0.1111111111111111,
              "#46039f"
             ],
             [
              0.2222222222222222,
              "#7201a8"
             ],
             [
              0.3333333333333333,
              "#9c179e"
             ],
             [
              0.4444444444444444,
              "#bd3786"
             ],
             [
              0.5555555555555556,
              "#d8576b"
             ],
             [
              0.6666666666666666,
              "#ed7953"
             ],
             [
              0.7777777777777778,
              "#fb9f3a"
             ],
             [
              0.8888888888888888,
              "#fdca26"
             ],
             [
              1,
              "#f0f921"
             ]
            ],
            "type": "histogram2d"
           }
          ],
          "histogram2dcontour": [
           {
            "colorbar": {
             "outlinewidth": 0,
             "ticks": ""
            },
            "colorscale": [
             [
              0,
              "#0d0887"
             ],
             [
              0.1111111111111111,
              "#46039f"
             ],
             [
              0.2222222222222222,
              "#7201a8"
             ],
             [
              0.3333333333333333,
              "#9c179e"
             ],
             [
              0.4444444444444444,
              "#bd3786"
             ],
             [
              0.5555555555555556,
              "#d8576b"
             ],
             [
              0.6666666666666666,
              "#ed7953"
             ],
             [
              0.7777777777777778,
              "#fb9f3a"
             ],
             [
              0.8888888888888888,
              "#fdca26"
             ],
             [
              1,
              "#f0f921"
             ]
            ],
            "type": "histogram2dcontour"
           }
          ],
          "mesh3d": [
           {
            "colorbar": {
             "outlinewidth": 0,
             "ticks": ""
            },
            "type": "mesh3d"
           }
          ],
          "parcoords": [
           {
            "line": {
             "colorbar": {
              "outlinewidth": 0,
              "ticks": ""
             }
            },
            "type": "parcoords"
           }
          ],
          "pie": [
           {
            "automargin": true,
            "type": "pie"
           }
          ],
          "scatter": [
           {
            "marker": {
             "colorbar": {
              "outlinewidth": 0,
              "ticks": ""
             }
            },
            "type": "scatter"
           }
          ],
          "scatter3d": [
           {
            "line": {
             "colorbar": {
              "outlinewidth": 0,
              "ticks": ""
             }
            },
            "marker": {
             "colorbar": {
              "outlinewidth": 0,
              "ticks": ""
             }
            },
            "type": "scatter3d"
           }
          ],
          "scattercarpet": [
           {
            "marker": {
             "colorbar": {
              "outlinewidth": 0,
              "ticks": ""
             }
            },
            "type": "scattercarpet"
           }
          ],
          "scattergeo": [
           {
            "marker": {
             "colorbar": {
              "outlinewidth": 0,
              "ticks": ""
             }
            },
            "type": "scattergeo"
           }
          ],
          "scattergl": [
           {
            "marker": {
             "colorbar": {
              "outlinewidth": 0,
              "ticks": ""
             }
            },
            "type": "scattergl"
           }
          ],
          "scattermapbox": [
           {
            "marker": {
             "colorbar": {
              "outlinewidth": 0,
              "ticks": ""
             }
            },
            "type": "scattermapbox"
           }
          ],
          "scatterpolar": [
           {
            "marker": {
             "colorbar": {
              "outlinewidth": 0,
              "ticks": ""
             }
            },
            "type": "scatterpolar"
           }
          ],
          "scatterpolargl": [
           {
            "marker": {
             "colorbar": {
              "outlinewidth": 0,
              "ticks": ""
             }
            },
            "type": "scatterpolargl"
           }
          ],
          "scatterternary": [
           {
            "marker": {
             "colorbar": {
              "outlinewidth": 0,
              "ticks": ""
             }
            },
            "type": "scatterternary"
           }
          ],
          "surface": [
           {
            "colorbar": {
             "outlinewidth": 0,
             "ticks": ""
            },
            "colorscale": [
             [
              0,
              "#0d0887"
             ],
             [
              0.1111111111111111,
              "#46039f"
             ],
             [
              0.2222222222222222,
              "#7201a8"
             ],
             [
              0.3333333333333333,
              "#9c179e"
             ],
             [
              0.4444444444444444,
              "#bd3786"
             ],
             [
              0.5555555555555556,
              "#d8576b"
             ],
             [
              0.6666666666666666,
              "#ed7953"
             ],
             [
              0.7777777777777778,
              "#fb9f3a"
             ],
             [
              0.8888888888888888,
              "#fdca26"
             ],
             [
              1,
              "#f0f921"
             ]
            ],
            "type": "surface"
           }
          ],
          "table": [
           {
            "cells": {
             "fill": {
              "color": "#EBF0F8"
             },
             "line": {
              "color": "white"
             }
            },
            "header": {
             "fill": {
              "color": "#C8D4E3"
             },
             "line": {
              "color": "white"
             }
            },
            "type": "table"
           }
          ]
         },
         "layout": {
          "annotationdefaults": {
           "arrowcolor": "#2a3f5f",
           "arrowhead": 0,
           "arrowwidth": 1
          },
          "autotypenumbers": "strict",
          "coloraxis": {
           "colorbar": {
            "outlinewidth": 0,
            "ticks": ""
           }
          },
          "colorscale": {
           "diverging": [
            [
             0,
             "#8e0152"
            ],
            [
             0.1,
             "#c51b7d"
            ],
            [
             0.2,
             "#de77ae"
            ],
            [
             0.3,
             "#f1b6da"
            ],
            [
             0.4,
             "#fde0ef"
            ],
            [
             0.5,
             "#f7f7f7"
            ],
            [
             0.6,
             "#e6f5d0"
            ],
            [
             0.7,
             "#b8e186"
            ],
            [
             0.8,
             "#7fbc41"
            ],
            [
             0.9,
             "#4d9221"
            ],
            [
             1,
             "#276419"
            ]
           ],
           "sequential": [
            [
             0,
             "#0d0887"
            ],
            [
             0.1111111111111111,
             "#46039f"
            ],
            [
             0.2222222222222222,
             "#7201a8"
            ],
            [
             0.3333333333333333,
             "#9c179e"
            ],
            [
             0.4444444444444444,
             "#bd3786"
            ],
            [
             0.5555555555555556,
             "#d8576b"
            ],
            [
             0.6666666666666666,
             "#ed7953"
            ],
            [
             0.7777777777777778,
             "#fb9f3a"
            ],
            [
             0.8888888888888888,
             "#fdca26"
            ],
            [
             1,
             "#f0f921"
            ]
           ],
           "sequentialminus": [
            [
             0,
             "#0d0887"
            ],
            [
             0.1111111111111111,
             "#46039f"
            ],
            [
             0.2222222222222222,
             "#7201a8"
            ],
            [
             0.3333333333333333,
             "#9c179e"
            ],
            [
             0.4444444444444444,
             "#bd3786"
            ],
            [
             0.5555555555555556,
             "#d8576b"
            ],
            [
             0.6666666666666666,
             "#ed7953"
            ],
            [
             0.7777777777777778,
             "#fb9f3a"
            ],
            [
             0.8888888888888888,
             "#fdca26"
            ],
            [
             1,
             "#f0f921"
            ]
           ]
          },
          "colorway": [
           "#636efa",
           "#EF553B",
           "#00cc96",
           "#ab63fa",
           "#FFA15A",
           "#19d3f3",
           "#FF6692",
           "#B6E880",
           "#FF97FF",
           "#FECB52"
          ],
          "font": {
           "color": "#2a3f5f"
          },
          "geo": {
           "bgcolor": "white",
           "lakecolor": "white",
           "landcolor": "#E5ECF6",
           "showlakes": true,
           "showland": true,
           "subunitcolor": "white"
          },
          "hoverlabel": {
           "align": "left"
          },
          "hovermode": "closest",
          "mapbox": {
           "style": "light"
          },
          "paper_bgcolor": "white",
          "plot_bgcolor": "#E5ECF6",
          "polar": {
           "angularaxis": {
            "gridcolor": "white",
            "linecolor": "white",
            "ticks": ""
           },
           "bgcolor": "#E5ECF6",
           "radialaxis": {
            "gridcolor": "white",
            "linecolor": "white",
            "ticks": ""
           }
          },
          "scene": {
           "xaxis": {
            "backgroundcolor": "#E5ECF6",
            "gridcolor": "white",
            "gridwidth": 2,
            "linecolor": "white",
            "showbackground": true,
            "ticks": "",
            "zerolinecolor": "white"
           },
           "yaxis": {
            "backgroundcolor": "#E5ECF6",
            "gridcolor": "white",
            "gridwidth": 2,
            "linecolor": "white",
            "showbackground": true,
            "ticks": "",
            "zerolinecolor": "white"
           },
           "zaxis": {
            "backgroundcolor": "#E5ECF6",
            "gridcolor": "white",
            "gridwidth": 2,
            "linecolor": "white",
            "showbackground": true,
            "ticks": "",
            "zerolinecolor": "white"
           }
          },
          "shapedefaults": {
           "line": {
            "color": "#2a3f5f"
           }
          },
          "ternary": {
           "aaxis": {
            "gridcolor": "white",
            "linecolor": "white",
            "ticks": ""
           },
           "baxis": {
            "gridcolor": "white",
            "linecolor": "white",
            "ticks": ""
           },
           "bgcolor": "#E5ECF6",
           "caxis": {
            "gridcolor": "white",
            "linecolor": "white",
            "ticks": ""
           }
          },
          "title": {
           "x": 0.05
          },
          "xaxis": {
           "automargin": true,
           "gridcolor": "white",
           "linecolor": "white",
           "ticks": "",
           "title": {
            "standoff": 15
           },
           "zerolinecolor": "white",
           "zerolinewidth": 2
          },
          "yaxis": {
           "automargin": true,
           "gridcolor": "white",
           "linecolor": "white",
           "ticks": "",
           "title": {
            "standoff": 15
           },
           "zerolinecolor": "white",
           "zerolinewidth": 2
          }
         }
        },
        "xaxis": {
         "anchor": "y",
         "domain": [
          0,
          1
         ],
         "title": {
          "text": "Wall Temp [C]"
         }
        },
        "yaxis": {
         "anchor": "x",
         "domain": [
          0,
          1
         ],
         "title": {
          "text": "Injector Temp [C]"
         }
        }
       }
      },
      "text/html": [
       "<div>                            <div id=\"3e39d943-bde3-4459-adc7-a3a976134cc2\" class=\"plotly-graph-div\" style=\"height:525px; width:100%;\"></div>            <script type=\"text/javascript\">                require([\"plotly\"], function(Plotly) {                    window.PLOTLYENV=window.PLOTLYENV || {};                                    if (document.getElementById(\"3e39d943-bde3-4459-adc7-a3a976134cc2\")) {                    Plotly.newPlot(                        \"3e39d943-bde3-4459-adc7-a3a976134cc2\",                        [{\"hovertemplate\":\"Wall Temp [C]=%{x}<br>Injector Temp [C]=%{y}<extra></extra>\",\"legendgroup\":\"\",\"marker\":{\"color\":\"#636efa\",\"symbol\":\"circle\"},\"mode\":\"markers\",\"name\":\"\",\"orientation\":\"v\",\"showlegend\":false,\"x\":[56.935774484666666,61.46727650933334,62.31811269133333,61.82202479066667,60.85544840533333,59.75977045533333,58.673587291333334,57.64210459466666,56.68772684666667,55.813182321999996,55.016317494,55.65392964666667,61.871396892,71.22979024266667,80.58819071333333,84.72806650866666,85.14921061066667,84.28589731866667,83.00301157666667,81.62783508333334,80.287793478,79.703616842,84.23167978933334,92.56270141666667,101.80110067066667,107.63562978,108.48156381333334,107.47003682666667,105.87923686666666,104.34830117999999,106.59127604666668,113.50078174666666,121.85698902666667,129.51670632666668,131.97793274,131.16241965333333,129.3625763,127.32605032666667,125.30724335333333,124.65008596,129.30344087333333,136.79371439333332,145.00312093333332,152.83860678000002,156.00712891333333,155.10895589333333,154.36778361333333,158.62871397333336,165.44292195333335,172.86003825333333,179.01117860000002,179.62798563333334,177.49405518,174.72851564666664,174.39670716666666,179.34639384,186.23562824666666,193.53633115333332,200.67081909333334,204.16614278666665,202.64888509333332,199.67902019333332,198.1860860333333,202.21966044,208.64738159333334,215.5792867,222.47864074,229.17128601333334,235.65744832000001,241.92031046,247.96418760666666,252.51919046,251.24885457333332,247.3866099,243.52226155333335,244.62016805333332,249.79031982,255.89308675333334,262.0868347066667,268.12266642000003,273.9745280133333,279.60542806,285.0778646,290.37296548666666,295.49937133333333,300.37825318,301.3224263533333,297.28062134,292.87257689333336,293.9388956733334,298.58813273333334,303.9475158733333,309.3155273333333,314.55785115333333,319.6187479733333,324.49163208000004,329.20671996666664,333.76493734,338.1774454733333,342.47202961333335,346.6205993666666,350.52572836666667,349.91291300666666,344.70472207999995,339.06710408666663,338.1007670066667,341.9188679933333,346.7303263333333,351.3944742733333,356.00705364,360.5527119866667,364.91309204000004,369.10147298666664,373.1117472266667,376.94286294666665,380.6869832333333,384.2861796133333,387.7961832666667,391.22416992,394.53285930000004,397.75081584,400.31269226],\"xaxis\":\"x\",\"y\":[40.42002894066666,40.78146209666667,41.126491292,41.399348958000004,41.65439071666666,41.873931375333335,42.051701864,42.20870920733333,42.340703837999996,42.48096898266667,42.591761016,42.671688334,42.78788528333334,43.03044204733333,43.398081462,43.79860458466667,44.167415364,44.400818634,44.64208526533333,44.845559437333335,45.03930104733333,45.202798462000004,45.380691782666666,45.614046986,45.96808649733334,46.479313151333336,46.82813034,47.190990702,47.378195954666666,47.597270456000004,47.8773585,48.16482976333334,48.55087356533333,48.93222554533334,49.47872238066667,49.88111089066667,50.204853058,50.556013998000005,50.82560145066667,51.043668112,51.21800461,51.473727161333336,52.002516428,52.506726838,53.103932953333334,53.423658498,53.88785197,54.40524368133333,54.986646016,55.702745564,56.438249715333335,56.95699615533333,57.436218262666664,57.94828949,58.321872457333335,58.64828008,58.984814705999995,59.25970891266666,59.745205688000006,60.01827646866666,60.470559692,60.932573700666666,61.259245809333336,61.67975209666667,61.935144296666664,62.375296528,62.750156403333335,63.440953572666665,63.98639729666666,64.506578064,65.25726064133333,65.91165161133333,66.623975118,67.21643524066667,67.637247722,68.109418232,68.56359965,69.03116048133333,69.437922668,69.79887949733333,70.07876434333333,70.53375803533332,71.23891448933334,72.193247988,72.95808766666667,73.73537699466667,74.42178039466667,75.05020650333333,75.50475514666667,76.00152892999999,76.435131328,76.78264872266666,77.03197377466667,77.61442769466666,78.18153737466668,78.475165304,79.03933054533333,79.75205841066666,80.28025156666666,80.935306294,81.53850962466666,82.12267354333333,82.75129241933334,83.282603962,83.26004994666667,83.63294423399999,83.70677541133334,82.618276978,78.68882242866667,80.76554362066666,82.14157358866667,82.45289916933334,82.929261778,83.36343282,84.16694081733334,84.64059804333333,85.696091716,86.44595286,86.88026885933333,86.93805643666666,87.00769551533334,87.229529572],\"yaxis\":\"y\",\"type\":\"scatter\"},{\"hovertemplate\":\"<b>OLS trendline</b><br>Injector Temp [C] = 0.138735 * Wall Temp [C] + 32.8766<br>R<sup>2</sup>=0.993347<br><br>Wall Temp [C]=%{x}<br>Injector Temp [C]=%{y} <b>(trend)</b><extra></extra>\",\"legendgroup\":\"\",\"marker\":{\"color\":\"#636efa\",\"symbol\":\"circle\"},\"mode\":\"lines\",\"name\":\"\",\"showlegend\":false,\"x\":[55.016317494,55.65392964666667,55.813182321999996,56.68772684666667,56.935774484666666,57.64210459466666,58.673587291333334,59.75977045533333,60.85544840533333,61.46727650933334,61.82202479066667,61.871396892,62.31811269133333,71.22979024266667,79.703616842,80.287793478,80.58819071333333,81.62783508333334,83.00301157666667,84.23167978933334,84.28589731866667,84.72806650866666,85.14921061066667,92.56270141666667,101.80110067066667,104.34830117999999,105.87923686666666,106.59127604666668,107.47003682666667,107.63562978,108.48156381333334,113.50078174666666,121.85698902666667,124.65008596,125.30724335333333,127.32605032666667,129.30344087333333,129.3625763,129.51670632666668,131.16241965333333,131.97793274,136.79371439333332,145.00312093333332,152.83860678000002,154.36778361333333,155.10895589333333,156.00712891333333,158.62871397333336,165.44292195333335,172.86003825333333,174.39670716666666,174.72851564666664,177.49405518,179.01117860000002,179.34639384,179.62798563333334,186.23562824666666,193.53633115333332,198.1860860333333,199.67902019333332,200.67081909333334,202.21966044,202.64888509333332,204.16614278666665,208.64738159333334,215.5792867,222.47864074,229.17128601333334,235.65744832000001,241.92031046,243.52226155333335,244.62016805333332,247.3866099,247.96418760666666,249.79031982,251.24885457333332,252.51919046,255.89308675333334,262.0868347066667,268.12266642000003,273.9745280133333,279.60542806,285.0778646,290.37296548666666,292.87257689333336,293.9388956733334,295.49937133333333,297.28062134,298.58813273333334,300.37825318,301.3224263533333,303.9475158733333,309.3155273333333,314.55785115333333,319.6187479733333,324.49163208000004,329.20671996666664,333.76493734,338.1007670066667,338.1774454733333,339.06710408666663,341.9188679933333,342.47202961333335,344.70472207999995,346.6205993666666,346.7303263333333,349.91291300666666,350.52572836666667,351.3944742733333,356.00705364,360.5527119866667,364.91309204000004,369.10147298666664,373.1117472266667,376.94286294666665,380.6869832333333,384.2861796133333,387.7961832666667,391.22416992,394.53285930000004,397.75081584,400.31269226],\"xaxis\":\"x\",\"y\":[40.509325895771745,40.59778532325711,40.61987931946873,40.74120967309973,40.7756226809993,40.873615727218635,41.01671897333241,41.16741111498911,41.31942052033055,41.404302785470804,41.45351895824436,41.46036862037741,41.522343950823085,42.75870980556431,43.934330198701865,44.01537622418109,44.05705197854781,44.20128753832181,44.39207330798262,44.56253318113184,44.57005507603996,44.63139963046145,44.68982725922598,45.71834145805995,47.000035204755655,47.35342228780244,47.56581738377584,47.66460248055689,47.786517778391605,47.80949139610923,47.92685245951759,48.623196064246606,49.78249848476409,50.170000126005476,50.261171171819015,50.54125132449121,50.81558554936686,50.82378973111772,50.845173034212266,51.07349186106197,51.1866324598596,51.854752234814846,52.993688184335,54.080748067317124,54.29289914793064,54.3957260392981,54.520334503549776,54.88404136287154,55.829413771719146,56.85843095520022,57.07162145312206,57.11765506156699,57.50133351371642,57.71181235825625,57.758318605181984,57.797385377543,58.714099841278966,59.72696635686134,60.372052327873405,60.579175263837875,60.716772959408274,60.93165220570053,60.99120089362573,61.2016983666408,61.82340517948156,62.78510635558692,63.74229154386279,64.67079889235933,65.57065972754769,66.43954090712863,66.66178835957,66.81410694386341,67.19791057888543,67.278041098742,67.53139042627355,67.73374094407308,67.909981601938,68.37806072065467,69.23735331043525,70.07473731500048,70.88659813682594,71.66780375261011,72.42702485787575,73.16164321631322,73.50842800240122,73.6563642492265,73.87285758755314,74.11998016063936,74.30137838023278,74.5497315980623,74.68072191562572,75.04491496788461,75.78964860964552,76.5169449164531,77.2190708614925,77.89511277266921,78.54926274966274,79.18164922083106,79.78318262696722,79.79382065077749,79.91724786474094,80.31288869663555,80.38963183901049,80.69938549807455,80.96518565135258,80.98040867464417,81.42194636157217,81.50696559414658,81.62749147373117,82.26741988208987,82.89806397067645,83.5030033864691,84.08408042379217,84.6404477418335,85.1719594167663,85.6914017385754,86.19073797275887,86.67770001127529,87.15328338200169,87.61231598835593,88.05876073068188,88.41418388322637],\"yaxis\":\"y\",\"type\":\"scatter\"}],                        {\"template\":{\"data\":{\"bar\":[{\"error_x\":{\"color\":\"#2a3f5f\"},\"error_y\":{\"color\":\"#2a3f5f\"},\"marker\":{\"line\":{\"color\":\"#E5ECF6\",\"width\":0.5},\"pattern\":{\"fillmode\":\"overlay\",\"size\":10,\"solidity\":0.2}},\"type\":\"bar\"}],\"barpolar\":[{\"marker\":{\"line\":{\"color\":\"#E5ECF6\",\"width\":0.5},\"pattern\":{\"fillmode\":\"overlay\",\"size\":10,\"solidity\":0.2}},\"type\":\"barpolar\"}],\"carpet\":[{\"aaxis\":{\"endlinecolor\":\"#2a3f5f\",\"gridcolor\":\"white\",\"linecolor\":\"white\",\"minorgridcolor\":\"white\",\"startlinecolor\":\"#2a3f5f\"},\"baxis\":{\"endlinecolor\":\"#2a3f5f\",\"gridcolor\":\"white\",\"linecolor\":\"white\",\"minorgridcolor\":\"white\",\"startlinecolor\":\"#2a3f5f\"},\"type\":\"carpet\"}],\"choropleth\":[{\"colorbar\":{\"outlinewidth\":0,\"ticks\":\"\"},\"type\":\"choropleth\"}],\"contour\":[{\"colorbar\":{\"outlinewidth\":0,\"ticks\":\"\"},\"colorscale\":[[0.0,\"#0d0887\"],[0.1111111111111111,\"#46039f\"],[0.2222222222222222,\"#7201a8\"],[0.3333333333333333,\"#9c179e\"],[0.4444444444444444,\"#bd3786\"],[0.5555555555555556,\"#d8576b\"],[0.6666666666666666,\"#ed7953\"],[0.7777777777777778,\"#fb9f3a\"],[0.8888888888888888,\"#fdca26\"],[1.0,\"#f0f921\"]],\"type\":\"contour\"}],\"contourcarpet\":[{\"colorbar\":{\"outlinewidth\":0,\"ticks\":\"\"},\"type\":\"contourcarpet\"}],\"heatmap\":[{\"colorbar\":{\"outlinewidth\":0,\"ticks\":\"\"},\"colorscale\":[[0.0,\"#0d0887\"],[0.1111111111111111,\"#46039f\"],[0.2222222222222222,\"#7201a8\"],[0.3333333333333333,\"#9c179e\"],[0.4444444444444444,\"#bd3786\"],[0.5555555555555556,\"#d8576b\"],[0.6666666666666666,\"#ed7953\"],[0.7777777777777778,\"#fb9f3a\"],[0.8888888888888888,\"#fdca26\"],[1.0,\"#f0f921\"]],\"type\":\"heatmap\"}],\"heatmapgl\":[{\"colorbar\":{\"outlinewidth\":0,\"ticks\":\"\"},\"colorscale\":[[0.0,\"#0d0887\"],[0.1111111111111111,\"#46039f\"],[0.2222222222222222,\"#7201a8\"],[0.3333333333333333,\"#9c179e\"],[0.4444444444444444,\"#bd3786\"],[0.5555555555555556,\"#d8576b\"],[0.6666666666666666,\"#ed7953\"],[0.7777777777777778,\"#fb9f3a\"],[0.8888888888888888,\"#fdca26\"],[1.0,\"#f0f921\"]],\"type\":\"heatmapgl\"}],\"histogram\":[{\"marker\":{\"pattern\":{\"fillmode\":\"overlay\",\"size\":10,\"solidity\":0.2}},\"type\":\"histogram\"}],\"histogram2d\":[{\"colorbar\":{\"outlinewidth\":0,\"ticks\":\"\"},\"colorscale\":[[0.0,\"#0d0887\"],[0.1111111111111111,\"#46039f\"],[0.2222222222222222,\"#7201a8\"],[0.3333333333333333,\"#9c179e\"],[0.4444444444444444,\"#bd3786\"],[0.5555555555555556,\"#d8576b\"],[0.6666666666666666,\"#ed7953\"],[0.7777777777777778,\"#fb9f3a\"],[0.8888888888888888,\"#fdca26\"],[1.0,\"#f0f921\"]],\"type\":\"histogram2d\"}],\"histogram2dcontour\":[{\"colorbar\":{\"outlinewidth\":0,\"ticks\":\"\"},\"colorscale\":[[0.0,\"#0d0887\"],[0.1111111111111111,\"#46039f\"],[0.2222222222222222,\"#7201a8\"],[0.3333333333333333,\"#9c179e\"],[0.4444444444444444,\"#bd3786\"],[0.5555555555555556,\"#d8576b\"],[0.6666666666666666,\"#ed7953\"],[0.7777777777777778,\"#fb9f3a\"],[0.8888888888888888,\"#fdca26\"],[1.0,\"#f0f921\"]],\"type\":\"histogram2dcontour\"}],\"mesh3d\":[{\"colorbar\":{\"outlinewidth\":0,\"ticks\":\"\"},\"type\":\"mesh3d\"}],\"parcoords\":[{\"line\":{\"colorbar\":{\"outlinewidth\":0,\"ticks\":\"\"}},\"type\":\"parcoords\"}],\"pie\":[{\"automargin\":true,\"type\":\"pie\"}],\"scatter\":[{\"marker\":{\"colorbar\":{\"outlinewidth\":0,\"ticks\":\"\"}},\"type\":\"scatter\"}],\"scatter3d\":[{\"line\":{\"colorbar\":{\"outlinewidth\":0,\"ticks\":\"\"}},\"marker\":{\"colorbar\":{\"outlinewidth\":0,\"ticks\":\"\"}},\"type\":\"scatter3d\"}],\"scattercarpet\":[{\"marker\":{\"colorbar\":{\"outlinewidth\":0,\"ticks\":\"\"}},\"type\":\"scattercarpet\"}],\"scattergeo\":[{\"marker\":{\"colorbar\":{\"outlinewidth\":0,\"ticks\":\"\"}},\"type\":\"scattergeo\"}],\"scattergl\":[{\"marker\":{\"colorbar\":{\"outlinewidth\":0,\"ticks\":\"\"}},\"type\":\"scattergl\"}],\"scattermapbox\":[{\"marker\":{\"colorbar\":{\"outlinewidth\":0,\"ticks\":\"\"}},\"type\":\"scattermapbox\"}],\"scatterpolar\":[{\"marker\":{\"colorbar\":{\"outlinewidth\":0,\"ticks\":\"\"}},\"type\":\"scatterpolar\"}],\"scatterpolargl\":[{\"marker\":{\"colorbar\":{\"outlinewidth\":0,\"ticks\":\"\"}},\"type\":\"scatterpolargl\"}],\"scatterternary\":[{\"marker\":{\"colorbar\":{\"outlinewidth\":0,\"ticks\":\"\"}},\"type\":\"scatterternary\"}],\"surface\":[{\"colorbar\":{\"outlinewidth\":0,\"ticks\":\"\"},\"colorscale\":[[0.0,\"#0d0887\"],[0.1111111111111111,\"#46039f\"],[0.2222222222222222,\"#7201a8\"],[0.3333333333333333,\"#9c179e\"],[0.4444444444444444,\"#bd3786\"],[0.5555555555555556,\"#d8576b\"],[0.6666666666666666,\"#ed7953\"],[0.7777777777777778,\"#fb9f3a\"],[0.8888888888888888,\"#fdca26\"],[1.0,\"#f0f921\"]],\"type\":\"surface\"}],\"table\":[{\"cells\":{\"fill\":{\"color\":\"#EBF0F8\"},\"line\":{\"color\":\"white\"}},\"header\":{\"fill\":{\"color\":\"#C8D4E3\"},\"line\":{\"color\":\"white\"}},\"type\":\"table\"}]},\"layout\":{\"annotationdefaults\":{\"arrowcolor\":\"#2a3f5f\",\"arrowhead\":0,\"arrowwidth\":1},\"autotypenumbers\":\"strict\",\"coloraxis\":{\"colorbar\":{\"outlinewidth\":0,\"ticks\":\"\"}},\"colorscale\":{\"diverging\":[[0,\"#8e0152\"],[0.1,\"#c51b7d\"],[0.2,\"#de77ae\"],[0.3,\"#f1b6da\"],[0.4,\"#fde0ef\"],[0.5,\"#f7f7f7\"],[0.6,\"#e6f5d0\"],[0.7,\"#b8e186\"],[0.8,\"#7fbc41\"],[0.9,\"#4d9221\"],[1,\"#276419\"]],\"sequential\":[[0.0,\"#0d0887\"],[0.1111111111111111,\"#46039f\"],[0.2222222222222222,\"#7201a8\"],[0.3333333333333333,\"#9c179e\"],[0.4444444444444444,\"#bd3786\"],[0.5555555555555556,\"#d8576b\"],[0.6666666666666666,\"#ed7953\"],[0.7777777777777778,\"#fb9f3a\"],[0.8888888888888888,\"#fdca26\"],[1.0,\"#f0f921\"]],\"sequentialminus\":[[0.0,\"#0d0887\"],[0.1111111111111111,\"#46039f\"],[0.2222222222222222,\"#7201a8\"],[0.3333333333333333,\"#9c179e\"],[0.4444444444444444,\"#bd3786\"],[0.5555555555555556,\"#d8576b\"],[0.6666666666666666,\"#ed7953\"],[0.7777777777777778,\"#fb9f3a\"],[0.8888888888888888,\"#fdca26\"],[1.0,\"#f0f921\"]]},\"colorway\":[\"#636efa\",\"#EF553B\",\"#00cc96\",\"#ab63fa\",\"#FFA15A\",\"#19d3f3\",\"#FF6692\",\"#B6E880\",\"#FF97FF\",\"#FECB52\"],\"font\":{\"color\":\"#2a3f5f\"},\"geo\":{\"bgcolor\":\"white\",\"lakecolor\":\"white\",\"landcolor\":\"#E5ECF6\",\"showlakes\":true,\"showland\":true,\"subunitcolor\":\"white\"},\"hoverlabel\":{\"align\":\"left\"},\"hovermode\":\"closest\",\"mapbox\":{\"style\":\"light\"},\"paper_bgcolor\":\"white\",\"plot_bgcolor\":\"#E5ECF6\",\"polar\":{\"angularaxis\":{\"gridcolor\":\"white\",\"linecolor\":\"white\",\"ticks\":\"\"},\"bgcolor\":\"#E5ECF6\",\"radialaxis\":{\"gridcolor\":\"white\",\"linecolor\":\"white\",\"ticks\":\"\"}},\"scene\":{\"xaxis\":{\"backgroundcolor\":\"#E5ECF6\",\"gridcolor\":\"white\",\"gridwidth\":2,\"linecolor\":\"white\",\"showbackground\":true,\"ticks\":\"\",\"zerolinecolor\":\"white\"},\"yaxis\":{\"backgroundcolor\":\"#E5ECF6\",\"gridcolor\":\"white\",\"gridwidth\":2,\"linecolor\":\"white\",\"showbackground\":true,\"ticks\":\"\",\"zerolinecolor\":\"white\"},\"zaxis\":{\"backgroundcolor\":\"#E5ECF6\",\"gridcolor\":\"white\",\"gridwidth\":2,\"linecolor\":\"white\",\"showbackground\":true,\"ticks\":\"\",\"zerolinecolor\":\"white\"}},\"shapedefaults\":{\"line\":{\"color\":\"#2a3f5f\"}},\"ternary\":{\"aaxis\":{\"gridcolor\":\"white\",\"linecolor\":\"white\",\"ticks\":\"\"},\"baxis\":{\"gridcolor\":\"white\",\"linecolor\":\"white\",\"ticks\":\"\"},\"bgcolor\":\"#E5ECF6\",\"caxis\":{\"gridcolor\":\"white\",\"linecolor\":\"white\",\"ticks\":\"\"}},\"title\":{\"x\":0.05},\"xaxis\":{\"automargin\":true,\"gridcolor\":\"white\",\"linecolor\":\"white\",\"ticks\":\"\",\"title\":{\"standoff\":15},\"zerolinecolor\":\"white\",\"zerolinewidth\":2},\"yaxis\":{\"automargin\":true,\"gridcolor\":\"white\",\"linecolor\":\"white\",\"ticks\":\"\",\"title\":{\"standoff\":15},\"zerolinecolor\":\"white\",\"zerolinewidth\":2}}},\"xaxis\":{\"anchor\":\"y\",\"domain\":[0.0,1.0],\"title\":{\"text\":\"Wall Temp [C]\"}},\"yaxis\":{\"anchor\":\"x\",\"domain\":[0.0,1.0],\"title\":{\"text\":\"Injector Temp [C]\"}},\"legend\":{\"tracegroupgap\":0},\"margin\":{\"t\":60}},                        {\"responsive\": true}                    ).then(function(){\n",
       "                            \n",
       "var gd = document.getElementById('3e39d943-bde3-4459-adc7-a3a976134cc2');\n",
       "var x = new MutationObserver(function (mutations, observer) {{\n",
       "        var display = window.getComputedStyle(gd).display;\n",
       "        if (!display || display === 'none') {{\n",
       "            console.log([gd, 'removed!']);\n",
       "            Plotly.purge(gd);\n",
       "            observer.disconnect();\n",
       "        }}\n",
       "}});\n",
       "\n",
       "// Listen for the removal of the full notebook cells\n",
       "var notebookContainer = gd.closest('#notebook-container');\n",
       "if (notebookContainer) {{\n",
       "    x.observe(notebookContainer, {childList: true});\n",
       "}}\n",
       "\n",
       "// Listen for the clearing of the current output cell\n",
       "var outputEl = gd.closest('.output');\n",
       "if (outputEl) {{\n",
       "    x.observe(outputEl, {childList: true});\n",
       "}}\n",
       "\n",
       "                        })                };                });            </script>        </div>"
      ]
     },
     "metadata": {},
     "output_type": "display_data"
    }
   ],
   "source": [
    "fig14inj = px.scatter(June14HeatingFilt, x=\"Wall Temp [C]\", y=\"Injector Temp [C]\", trendline=\"ols\")\n",
    "fig14inj.show()"
   ]
  },
  {
   "cell_type": "code",
   "execution_count": 81,
   "id": "6fccc5a3",
   "metadata": {
    "collapsed": true
   },
   "outputs": [
    {
     "data": {
      "application/vnd.plotly.v1+json": {
       "config": {
        "plotlyServerURL": "https://plot.ly"
       },
       "data": [
        {
         "hovertemplate": "Wall Temp [C]=%{x}<br>Injector Temp [C]=%{y}<extra></extra>",
         "legendgroup": "",
         "marker": {
          "color": "#636efa",
          "symbol": "circle"
         },
         "mode": "markers",
         "name": "",
         "orientation": "v",
         "showlegend": false,
         "type": "scatter",
         "x": [
          21.467992782,
          21.491050337999997,
          21.516554514,
          21.544210306666667,
          23.383564123333333,
          35.297876994666666,
          54.19170252466667,
          75.15282287666668,
          95.99884236999999,
          115.94801890666666,
          133.28598175333335,
          144.50969644666665,
          152.40819193333334,
          159.06800944,
          165.23399149333332,
          171.12679443333334,
          176.8213216133333,
          181.98653767333332,
          187.31461386,
          195.26128437999998,
          208.05585224666666,
          222.5552927533333,
          237.1949585,
          251.51134134,
          265.4667806,
          278.9541382,
          292.0002400866667,
          304.64209797999996,
          316.88417154666666,
          328.81524862,
          340.4143717466667,
          351.6939107266666,
          362.6494568,
          373.3432963133334,
          383.69018350666664,
          393.70282594,
          403.29643146666666,
          412.48720906666665,
          421.32496540666665,
          429.80466308666666,
          437.99857584666665,
          445.99790039333334,
          453.80137735999995,
          461.4715922066667,
          469.00543213333333,
          476.40194092,
          483.61771647333336,
          490.625236,
          497.4003601066667,
          503.8320577066667,
          502.3599995933334,
          493.42195028,
          485.23202717333334,
          487.11563314666665,
          493.71888834000003,
          500.80207112,
          507.34561768,
          505.6987447066667,
          497.80555014000004,
          496.6663655533333,
          502.8454569533333,
          509.92820638666666,
          512.49823
         ],
         "xaxis": "x",
         "y": [
          22.208595658666663,
          22.192193986666666,
          22.178863271333334,
          22.176185226666668,
          22.173021952666666,
          22.174749500666668,
          22.16845906533333,
          25.767104211333333,
          33.179978561333336,
          36.77582855266667,
          39.88019358266667,
          43.69035695466666,
          48.41751073133333,
          54.20141016733333,
          59.510003662,
          64.95791727666666,
          68.66244710266666,
          71.60722961333335,
          74.235483806,
          77.986876932,
          83.19779357933334,
          86.85496724466665,
          87.20699818933333,
          87.87750345866667,
          94.92263082133333,
          99.53638000333333,
          94.892884318,
          91.34022725466666,
          91.07015380933333,
          92.10676778266667,
          92.53228759733334,
          92.35313008666667,
          94.07109273066666,
          97.398356628,
          106.49743652666666,
          109.58512369333333,
          111.56582488666666,
          113.60813396,
          115.28782654,
          117.00575154666667,
          117.69612171333333,
          115.22708435999999,
          110.25571137333333,
          106.81626637333333,
          106.22419078,
          106.00566355333333,
          105.53444926,
          109.14757945333334,
          111.34720051333333,
          106.70863699333333,
          104.27410329333334,
          101.67400308666667,
          101.8452357,
          102.62322083333333,
          101.97245889333334,
          100.99978435333333,
          101.26885275333333,
          104.23270214,
          108.0012792,
          110.13227844666667,
          111.64101206666666,
          111.15036518666666,
          111.0825577
         ],
         "yaxis": "y"
        },
        {
         "hovertemplate": "<b>OLS trendline</b><br>Injector Temp [C] = 0.174733 * Wall Temp [C] + 28.4683<br>R<sup>2</sup>=0.868142<br><br>Wall Temp [C]=%{x}<br>Injector Temp [C]=%{y} <b>(trend)</b><extra></extra>",
         "legendgroup": "",
         "marker": {
          "color": "#636efa",
          "symbol": "circle"
         },
         "mode": "lines",
         "name": "",
         "showlegend": false,
         "type": "scatter",
         "x": [
          21.467992782,
          21.491050337999997,
          21.516554514,
          21.544210306666667,
          23.383564123333333,
          35.297876994666666,
          54.19170252466667,
          75.15282287666668,
          95.99884236999999,
          115.94801890666666,
          133.28598175333335,
          144.50969644666665,
          152.40819193333334,
          159.06800944,
          165.23399149333332,
          171.12679443333334,
          176.8213216133333,
          181.98653767333332,
          187.31461386,
          195.26128437999998,
          208.05585224666666,
          222.5552927533333,
          237.1949585,
          251.51134134,
          265.4667806,
          278.9541382,
          292.0002400866667,
          304.64209797999996,
          316.88417154666666,
          328.81524862,
          340.4143717466667,
          351.6939107266666,
          362.6494568,
          373.3432963133334,
          383.69018350666664,
          393.70282594,
          403.29643146666666,
          412.48720906666665,
          421.32496540666665,
          429.80466308666666,
          437.99857584666665,
          445.99790039333334,
          453.80137735999995,
          461.4715922066667,
          469.00543213333333,
          476.40194092,
          483.61771647333336,
          485.23202717333334,
          487.11563314666665,
          490.625236,
          493.42195028,
          493.71888834000003,
          496.6663655533333,
          497.4003601066667,
          497.80555014000004,
          500.80207112,
          502.3599995933334,
          502.8454569533333,
          503.8320577066667,
          505.6987447066667,
          507.34561768,
          509.92820638666666,
          512.49823
         ],
         "xaxis": "x",
         "y": [
          32.21944851484028,
          32.22347743109816,
          32.22793385264302,
          32.232766232653255,
          32.55416206905338,
          34.635985868106026,
          37.937360951023464,
          41.599960689242096,
          45.2424485074993,
          48.72822825275519,
          51.757742759473174,
          53.71889625734529,
          55.09902418066147,
          56.26271416702109,
          57.3401147961456,
          58.369782015405605,
          59.364803913495926,
          60.26733768418694,
          61.19832849568869,
          62.58687418778403,
          64.82250759535629,
          67.3560385379887,
          69.91407145946054,
          72.41561618424042,
          74.8540921493634,
          77.21077879518515,
          79.4903635002231,
          81.69931343387022,
          83.83840784712511,
          85.92316090572234,
          87.94991065067296,
          89.92081849441485,
          91.83511408102478,
          93.70368089159365,
          95.51162367753659,
          97.2611628691144,
          98.93748247896721,
          100.543414751026,
          102.08766255428026,
          103.56934568864469,
          105.00109276255043,
          106.39883885143027,
          107.76236390235059,
          109.10260366137672,
          110.4190142195823,
          111.71142849376457,
          112.97226270533673,
          113.25433607965707,
          113.58346422877241,
          114.19670771366293,
          114.68538602941064,
          114.73727091163829,
          115.25229248914331,
          115.38054556978727,
          115.45134564559876,
          115.97493678827675,
          116.24715832618944,
          116.33198375392391,
          116.50437547727662,
          116.83054732318578,
          117.11831040167192,
          117.56957391059316,
          118.01864188288368
         ],
         "yaxis": "y"
        }
       ],
       "layout": {
        "legend": {
         "tracegroupgap": 0
        },
        "margin": {
         "t": 60
        },
        "template": {
         "data": {
          "bar": [
           {
            "error_x": {
             "color": "#2a3f5f"
            },
            "error_y": {
             "color": "#2a3f5f"
            },
            "marker": {
             "line": {
              "color": "#E5ECF6",
              "width": 0.5
             },
             "pattern": {
              "fillmode": "overlay",
              "size": 10,
              "solidity": 0.2
             }
            },
            "type": "bar"
           }
          ],
          "barpolar": [
           {
            "marker": {
             "line": {
              "color": "#E5ECF6",
              "width": 0.5
             },
             "pattern": {
              "fillmode": "overlay",
              "size": 10,
              "solidity": 0.2
             }
            },
            "type": "barpolar"
           }
          ],
          "carpet": [
           {
            "aaxis": {
             "endlinecolor": "#2a3f5f",
             "gridcolor": "white",
             "linecolor": "white",
             "minorgridcolor": "white",
             "startlinecolor": "#2a3f5f"
            },
            "baxis": {
             "endlinecolor": "#2a3f5f",
             "gridcolor": "white",
             "linecolor": "white",
             "minorgridcolor": "white",
             "startlinecolor": "#2a3f5f"
            },
            "type": "carpet"
           }
          ],
          "choropleth": [
           {
            "colorbar": {
             "outlinewidth": 0,
             "ticks": ""
            },
            "type": "choropleth"
           }
          ],
          "contour": [
           {
            "colorbar": {
             "outlinewidth": 0,
             "ticks": ""
            },
            "colorscale": [
             [
              0,
              "#0d0887"
             ],
             [
              0.1111111111111111,
              "#46039f"
             ],
             [
              0.2222222222222222,
              "#7201a8"
             ],
             [
              0.3333333333333333,
              "#9c179e"
             ],
             [
              0.4444444444444444,
              "#bd3786"
             ],
             [
              0.5555555555555556,
              "#d8576b"
             ],
             [
              0.6666666666666666,
              "#ed7953"
             ],
             [
              0.7777777777777778,
              "#fb9f3a"
             ],
             [
              0.8888888888888888,
              "#fdca26"
             ],
             [
              1,
              "#f0f921"
             ]
            ],
            "type": "contour"
           }
          ],
          "contourcarpet": [
           {
            "colorbar": {
             "outlinewidth": 0,
             "ticks": ""
            },
            "type": "contourcarpet"
           }
          ],
          "heatmap": [
           {
            "colorbar": {
             "outlinewidth": 0,
             "ticks": ""
            },
            "colorscale": [
             [
              0,
              "#0d0887"
             ],
             [
              0.1111111111111111,
              "#46039f"
             ],
             [
              0.2222222222222222,
              "#7201a8"
             ],
             [
              0.3333333333333333,
              "#9c179e"
             ],
             [
              0.4444444444444444,
              "#bd3786"
             ],
             [
              0.5555555555555556,
              "#d8576b"
             ],
             [
              0.6666666666666666,
              "#ed7953"
             ],
             [
              0.7777777777777778,
              "#fb9f3a"
             ],
             [
              0.8888888888888888,
              "#fdca26"
             ],
             [
              1,
              "#f0f921"
             ]
            ],
            "type": "heatmap"
           }
          ],
          "heatmapgl": [
           {
            "colorbar": {
             "outlinewidth": 0,
             "ticks": ""
            },
            "colorscale": [
             [
              0,
              "#0d0887"
             ],
             [
              0.1111111111111111,
              "#46039f"
             ],
             [
              0.2222222222222222,
              "#7201a8"
             ],
             [
              0.3333333333333333,
              "#9c179e"
             ],
             [
              0.4444444444444444,
              "#bd3786"
             ],
             [
              0.5555555555555556,
              "#d8576b"
             ],
             [
              0.6666666666666666,
              "#ed7953"
             ],
             [
              0.7777777777777778,
              "#fb9f3a"
             ],
             [
              0.8888888888888888,
              "#fdca26"
             ],
             [
              1,
              "#f0f921"
             ]
            ],
            "type": "heatmapgl"
           }
          ],
          "histogram": [
           {
            "marker": {
             "pattern": {
              "fillmode": "overlay",
              "size": 10,
              "solidity": 0.2
             }
            },
            "type": "histogram"
           }
          ],
          "histogram2d": [
           {
            "colorbar": {
             "outlinewidth": 0,
             "ticks": ""
            },
            "colorscale": [
             [
              0,
              "#0d0887"
             ],
             [
              0.1111111111111111,
              "#46039f"
             ],
             [
              0.2222222222222222,
              "#7201a8"
             ],
             [
              0.3333333333333333,
              "#9c179e"
             ],
             [
              0.4444444444444444,
              "#bd3786"
             ],
             [
              0.5555555555555556,
              "#d8576b"
             ],
             [
              0.6666666666666666,
              "#ed7953"
             ],
             [
              0.7777777777777778,
              "#fb9f3a"
             ],
             [
              0.8888888888888888,
              "#fdca26"
             ],
             [
              1,
              "#f0f921"
             ]
            ],
            "type": "histogram2d"
           }
          ],
          "histogram2dcontour": [
           {
            "colorbar": {
             "outlinewidth": 0,
             "ticks": ""
            },
            "colorscale": [
             [
              0,
              "#0d0887"
             ],
             [
              0.1111111111111111,
              "#46039f"
             ],
             [
              0.2222222222222222,
              "#7201a8"
             ],
             [
              0.3333333333333333,
              "#9c179e"
             ],
             [
              0.4444444444444444,
              "#bd3786"
             ],
             [
              0.5555555555555556,
              "#d8576b"
             ],
             [
              0.6666666666666666,
              "#ed7953"
             ],
             [
              0.7777777777777778,
              "#fb9f3a"
             ],
             [
              0.8888888888888888,
              "#fdca26"
             ],
             [
              1,
              "#f0f921"
             ]
            ],
            "type": "histogram2dcontour"
           }
          ],
          "mesh3d": [
           {
            "colorbar": {
             "outlinewidth": 0,
             "ticks": ""
            },
            "type": "mesh3d"
           }
          ],
          "parcoords": [
           {
            "line": {
             "colorbar": {
              "outlinewidth": 0,
              "ticks": ""
             }
            },
            "type": "parcoords"
           }
          ],
          "pie": [
           {
            "automargin": true,
            "type": "pie"
           }
          ],
          "scatter": [
           {
            "marker": {
             "colorbar": {
              "outlinewidth": 0,
              "ticks": ""
             }
            },
            "type": "scatter"
           }
          ],
          "scatter3d": [
           {
            "line": {
             "colorbar": {
              "outlinewidth": 0,
              "ticks": ""
             }
            },
            "marker": {
             "colorbar": {
              "outlinewidth": 0,
              "ticks": ""
             }
            },
            "type": "scatter3d"
           }
          ],
          "scattercarpet": [
           {
            "marker": {
             "colorbar": {
              "outlinewidth": 0,
              "ticks": ""
             }
            },
            "type": "scattercarpet"
           }
          ],
          "scattergeo": [
           {
            "marker": {
             "colorbar": {
              "outlinewidth": 0,
              "ticks": ""
             }
            },
            "type": "scattergeo"
           }
          ],
          "scattergl": [
           {
            "marker": {
             "colorbar": {
              "outlinewidth": 0,
              "ticks": ""
             }
            },
            "type": "scattergl"
           }
          ],
          "scattermapbox": [
           {
            "marker": {
             "colorbar": {
              "outlinewidth": 0,
              "ticks": ""
             }
            },
            "type": "scattermapbox"
           }
          ],
          "scatterpolar": [
           {
            "marker": {
             "colorbar": {
              "outlinewidth": 0,
              "ticks": ""
             }
            },
            "type": "scatterpolar"
           }
          ],
          "scatterpolargl": [
           {
            "marker": {
             "colorbar": {
              "outlinewidth": 0,
              "ticks": ""
             }
            },
            "type": "scatterpolargl"
           }
          ],
          "scatterternary": [
           {
            "marker": {
             "colorbar": {
              "outlinewidth": 0,
              "ticks": ""
             }
            },
            "type": "scatterternary"
           }
          ],
          "surface": [
           {
            "colorbar": {
             "outlinewidth": 0,
             "ticks": ""
            },
            "colorscale": [
             [
              0,
              "#0d0887"
             ],
             [
              0.1111111111111111,
              "#46039f"
             ],
             [
              0.2222222222222222,
              "#7201a8"
             ],
             [
              0.3333333333333333,
              "#9c179e"
             ],
             [
              0.4444444444444444,
              "#bd3786"
             ],
             [
              0.5555555555555556,
              "#d8576b"
             ],
             [
              0.6666666666666666,
              "#ed7953"
             ],
             [
              0.7777777777777778,
              "#fb9f3a"
             ],
             [
              0.8888888888888888,
              "#fdca26"
             ],
             [
              1,
              "#f0f921"
             ]
            ],
            "type": "surface"
           }
          ],
          "table": [
           {
            "cells": {
             "fill": {
              "color": "#EBF0F8"
             },
             "line": {
              "color": "white"
             }
            },
            "header": {
             "fill": {
              "color": "#C8D4E3"
             },
             "line": {
              "color": "white"
             }
            },
            "type": "table"
           }
          ]
         },
         "layout": {
          "annotationdefaults": {
           "arrowcolor": "#2a3f5f",
           "arrowhead": 0,
           "arrowwidth": 1
          },
          "autotypenumbers": "strict",
          "coloraxis": {
           "colorbar": {
            "outlinewidth": 0,
            "ticks": ""
           }
          },
          "colorscale": {
           "diverging": [
            [
             0,
             "#8e0152"
            ],
            [
             0.1,
             "#c51b7d"
            ],
            [
             0.2,
             "#de77ae"
            ],
            [
             0.3,
             "#f1b6da"
            ],
            [
             0.4,
             "#fde0ef"
            ],
            [
             0.5,
             "#f7f7f7"
            ],
            [
             0.6,
             "#e6f5d0"
            ],
            [
             0.7,
             "#b8e186"
            ],
            [
             0.8,
             "#7fbc41"
            ],
            [
             0.9,
             "#4d9221"
            ],
            [
             1,
             "#276419"
            ]
           ],
           "sequential": [
            [
             0,
             "#0d0887"
            ],
            [
             0.1111111111111111,
             "#46039f"
            ],
            [
             0.2222222222222222,
             "#7201a8"
            ],
            [
             0.3333333333333333,
             "#9c179e"
            ],
            [
             0.4444444444444444,
             "#bd3786"
            ],
            [
             0.5555555555555556,
             "#d8576b"
            ],
            [
             0.6666666666666666,
             "#ed7953"
            ],
            [
             0.7777777777777778,
             "#fb9f3a"
            ],
            [
             0.8888888888888888,
             "#fdca26"
            ],
            [
             1,
             "#f0f921"
            ]
           ],
           "sequentialminus": [
            [
             0,
             "#0d0887"
            ],
            [
             0.1111111111111111,
             "#46039f"
            ],
            [
             0.2222222222222222,
             "#7201a8"
            ],
            [
             0.3333333333333333,
             "#9c179e"
            ],
            [
             0.4444444444444444,
             "#bd3786"
            ],
            [
             0.5555555555555556,
             "#d8576b"
            ],
            [
             0.6666666666666666,
             "#ed7953"
            ],
            [
             0.7777777777777778,
             "#fb9f3a"
            ],
            [
             0.8888888888888888,
             "#fdca26"
            ],
            [
             1,
             "#f0f921"
            ]
           ]
          },
          "colorway": [
           "#636efa",
           "#EF553B",
           "#00cc96",
           "#ab63fa",
           "#FFA15A",
           "#19d3f3",
           "#FF6692",
           "#B6E880",
           "#FF97FF",
           "#FECB52"
          ],
          "font": {
           "color": "#2a3f5f"
          },
          "geo": {
           "bgcolor": "white",
           "lakecolor": "white",
           "landcolor": "#E5ECF6",
           "showlakes": true,
           "showland": true,
           "subunitcolor": "white"
          },
          "hoverlabel": {
           "align": "left"
          },
          "hovermode": "closest",
          "mapbox": {
           "style": "light"
          },
          "paper_bgcolor": "white",
          "plot_bgcolor": "#E5ECF6",
          "polar": {
           "angularaxis": {
            "gridcolor": "white",
            "linecolor": "white",
            "ticks": ""
           },
           "bgcolor": "#E5ECF6",
           "radialaxis": {
            "gridcolor": "white",
            "linecolor": "white",
            "ticks": ""
           }
          },
          "scene": {
           "xaxis": {
            "backgroundcolor": "#E5ECF6",
            "gridcolor": "white",
            "gridwidth": 2,
            "linecolor": "white",
            "showbackground": true,
            "ticks": "",
            "zerolinecolor": "white"
           },
           "yaxis": {
            "backgroundcolor": "#E5ECF6",
            "gridcolor": "white",
            "gridwidth": 2,
            "linecolor": "white",
            "showbackground": true,
            "ticks": "",
            "zerolinecolor": "white"
           },
           "zaxis": {
            "backgroundcolor": "#E5ECF6",
            "gridcolor": "white",
            "gridwidth": 2,
            "linecolor": "white",
            "showbackground": true,
            "ticks": "",
            "zerolinecolor": "white"
           }
          },
          "shapedefaults": {
           "line": {
            "color": "#2a3f5f"
           }
          },
          "ternary": {
           "aaxis": {
            "gridcolor": "white",
            "linecolor": "white",
            "ticks": ""
           },
           "baxis": {
            "gridcolor": "white",
            "linecolor": "white",
            "ticks": ""
           },
           "bgcolor": "#E5ECF6",
           "caxis": {
            "gridcolor": "white",
            "linecolor": "white",
            "ticks": ""
           }
          },
          "title": {
           "x": 0.05
          },
          "xaxis": {
           "automargin": true,
           "gridcolor": "white",
           "linecolor": "white",
           "ticks": "",
           "title": {
            "standoff": 15
           },
           "zerolinecolor": "white",
           "zerolinewidth": 2
          },
          "yaxis": {
           "automargin": true,
           "gridcolor": "white",
           "linecolor": "white",
           "ticks": "",
           "title": {
            "standoff": 15
           },
           "zerolinecolor": "white",
           "zerolinewidth": 2
          }
         }
        },
        "xaxis": {
         "anchor": "y",
         "domain": [
          0,
          1
         ],
         "title": {
          "text": "Wall Temp [C]"
         }
        },
        "yaxis": {
         "anchor": "x",
         "domain": [
          0,
          1
         ],
         "title": {
          "text": "Injector Temp [C]"
         }
        }
       }
      },
      "text/html": [
       "<div>                            <div id=\"b21b49ba-7081-43fb-b100-e3bac4b04bf7\" class=\"plotly-graph-div\" style=\"height:525px; width:100%;\"></div>            <script type=\"text/javascript\">                require([\"plotly\"], function(Plotly) {                    window.PLOTLYENV=window.PLOTLYENV || {};                                    if (document.getElementById(\"b21b49ba-7081-43fb-b100-e3bac4b04bf7\")) {                    Plotly.newPlot(                        \"b21b49ba-7081-43fb-b100-e3bac4b04bf7\",                        [{\"hovertemplate\":\"Wall Temp [C]=%{x}<br>Injector Temp [C]=%{y}<extra></extra>\",\"legendgroup\":\"\",\"marker\":{\"color\":\"#636efa\",\"symbol\":\"circle\"},\"mode\":\"markers\",\"name\":\"\",\"orientation\":\"v\",\"showlegend\":false,\"x\":[21.467992782,21.491050337999997,21.516554514,21.544210306666667,23.383564123333333,35.297876994666666,54.19170252466667,75.15282287666668,95.99884236999999,115.94801890666666,133.28598175333335,144.50969644666665,152.40819193333334,159.06800944,165.23399149333332,171.12679443333334,176.8213216133333,181.98653767333332,187.31461386,195.26128437999998,208.05585224666666,222.5552927533333,237.1949585,251.51134134,265.4667806,278.9541382,292.0002400866667,304.64209797999996,316.88417154666666,328.81524862,340.4143717466667,351.6939107266666,362.6494568,373.3432963133334,383.69018350666664,393.70282594,403.29643146666666,412.48720906666665,421.32496540666665,429.80466308666666,437.99857584666665,445.99790039333334,453.80137735999995,461.4715922066667,469.00543213333333,476.40194092,483.61771647333336,490.625236,497.4003601066667,503.8320577066667,502.3599995933334,493.42195028,485.23202717333334,487.11563314666665,493.71888834000003,500.80207112,507.34561768,505.6987447066667,497.80555014000004,496.6663655533333,502.8454569533333,509.92820638666666,512.49823],\"xaxis\":\"x\",\"y\":[22.208595658666663,22.192193986666666,22.178863271333334,22.176185226666668,22.173021952666666,22.174749500666668,22.16845906533333,25.767104211333333,33.179978561333336,36.77582855266667,39.88019358266667,43.69035695466666,48.41751073133333,54.20141016733333,59.510003662,64.95791727666666,68.66244710266666,71.60722961333335,74.235483806,77.986876932,83.19779357933334,86.85496724466665,87.20699818933333,87.87750345866667,94.92263082133333,99.53638000333333,94.892884318,91.34022725466666,91.07015380933333,92.10676778266667,92.53228759733334,92.35313008666667,94.07109273066666,97.398356628,106.49743652666666,109.58512369333333,111.56582488666666,113.60813396,115.28782654,117.00575154666667,117.69612171333333,115.22708435999999,110.25571137333333,106.81626637333333,106.22419078,106.00566355333333,105.53444926,109.14757945333334,111.34720051333333,106.70863699333333,104.27410329333334,101.67400308666667,101.8452357,102.62322083333333,101.97245889333334,100.99978435333333,101.26885275333333,104.23270214,108.0012792,110.13227844666667,111.64101206666666,111.15036518666666,111.0825577],\"yaxis\":\"y\",\"type\":\"scatter\"},{\"hovertemplate\":\"<b>OLS trendline</b><br>Injector Temp [C] = 0.174733 * Wall Temp [C] + 28.4683<br>R<sup>2</sup>=0.868142<br><br>Wall Temp [C]=%{x}<br>Injector Temp [C]=%{y} <b>(trend)</b><extra></extra>\",\"legendgroup\":\"\",\"marker\":{\"color\":\"#636efa\",\"symbol\":\"circle\"},\"mode\":\"lines\",\"name\":\"\",\"showlegend\":false,\"x\":[21.467992782,21.491050337999997,21.516554514,21.544210306666667,23.383564123333333,35.297876994666666,54.19170252466667,75.15282287666668,95.99884236999999,115.94801890666666,133.28598175333335,144.50969644666665,152.40819193333334,159.06800944,165.23399149333332,171.12679443333334,176.8213216133333,181.98653767333332,187.31461386,195.26128437999998,208.05585224666666,222.5552927533333,237.1949585,251.51134134,265.4667806,278.9541382,292.0002400866667,304.64209797999996,316.88417154666666,328.81524862,340.4143717466667,351.6939107266666,362.6494568,373.3432963133334,383.69018350666664,393.70282594,403.29643146666666,412.48720906666665,421.32496540666665,429.80466308666666,437.99857584666665,445.99790039333334,453.80137735999995,461.4715922066667,469.00543213333333,476.40194092,483.61771647333336,485.23202717333334,487.11563314666665,490.625236,493.42195028,493.71888834000003,496.6663655533333,497.4003601066667,497.80555014000004,500.80207112,502.3599995933334,502.8454569533333,503.8320577066667,505.6987447066667,507.34561768,509.92820638666666,512.49823],\"xaxis\":\"x\",\"y\":[32.21944851484028,32.22347743109816,32.22793385264302,32.232766232653255,32.55416206905338,34.635985868106026,37.937360951023464,41.599960689242096,45.2424485074993,48.72822825275519,51.757742759473174,53.71889625734529,55.09902418066147,56.26271416702109,57.3401147961456,58.369782015405605,59.364803913495926,60.26733768418694,61.19832849568869,62.58687418778403,64.82250759535629,67.3560385379887,69.91407145946054,72.41561618424042,74.8540921493634,77.21077879518515,79.4903635002231,81.69931343387022,83.83840784712511,85.92316090572234,87.94991065067296,89.92081849441485,91.83511408102478,93.70368089159365,95.51162367753659,97.2611628691144,98.93748247896721,100.543414751026,102.08766255428026,103.56934568864469,105.00109276255043,106.39883885143027,107.76236390235059,109.10260366137672,110.4190142195823,111.71142849376457,112.97226270533673,113.25433607965707,113.58346422877241,114.19670771366293,114.68538602941064,114.73727091163829,115.25229248914331,115.38054556978727,115.45134564559876,115.97493678827675,116.24715832618944,116.33198375392391,116.50437547727662,116.83054732318578,117.11831040167192,117.56957391059316,118.01864188288368],\"yaxis\":\"y\",\"type\":\"scatter\"}],                        {\"template\":{\"data\":{\"bar\":[{\"error_x\":{\"color\":\"#2a3f5f\"},\"error_y\":{\"color\":\"#2a3f5f\"},\"marker\":{\"line\":{\"color\":\"#E5ECF6\",\"width\":0.5},\"pattern\":{\"fillmode\":\"overlay\",\"size\":10,\"solidity\":0.2}},\"type\":\"bar\"}],\"barpolar\":[{\"marker\":{\"line\":{\"color\":\"#E5ECF6\",\"width\":0.5},\"pattern\":{\"fillmode\":\"overlay\",\"size\":10,\"solidity\":0.2}},\"type\":\"barpolar\"}],\"carpet\":[{\"aaxis\":{\"endlinecolor\":\"#2a3f5f\",\"gridcolor\":\"white\",\"linecolor\":\"white\",\"minorgridcolor\":\"white\",\"startlinecolor\":\"#2a3f5f\"},\"baxis\":{\"endlinecolor\":\"#2a3f5f\",\"gridcolor\":\"white\",\"linecolor\":\"white\",\"minorgridcolor\":\"white\",\"startlinecolor\":\"#2a3f5f\"},\"type\":\"carpet\"}],\"choropleth\":[{\"colorbar\":{\"outlinewidth\":0,\"ticks\":\"\"},\"type\":\"choropleth\"}],\"contour\":[{\"colorbar\":{\"outlinewidth\":0,\"ticks\":\"\"},\"colorscale\":[[0.0,\"#0d0887\"],[0.1111111111111111,\"#46039f\"],[0.2222222222222222,\"#7201a8\"],[0.3333333333333333,\"#9c179e\"],[0.4444444444444444,\"#bd3786\"],[0.5555555555555556,\"#d8576b\"],[0.6666666666666666,\"#ed7953\"],[0.7777777777777778,\"#fb9f3a\"],[0.8888888888888888,\"#fdca26\"],[1.0,\"#f0f921\"]],\"type\":\"contour\"}],\"contourcarpet\":[{\"colorbar\":{\"outlinewidth\":0,\"ticks\":\"\"},\"type\":\"contourcarpet\"}],\"heatmap\":[{\"colorbar\":{\"outlinewidth\":0,\"ticks\":\"\"},\"colorscale\":[[0.0,\"#0d0887\"],[0.1111111111111111,\"#46039f\"],[0.2222222222222222,\"#7201a8\"],[0.3333333333333333,\"#9c179e\"],[0.4444444444444444,\"#bd3786\"],[0.5555555555555556,\"#d8576b\"],[0.6666666666666666,\"#ed7953\"],[0.7777777777777778,\"#fb9f3a\"],[0.8888888888888888,\"#fdca26\"],[1.0,\"#f0f921\"]],\"type\":\"heatmap\"}],\"heatmapgl\":[{\"colorbar\":{\"outlinewidth\":0,\"ticks\":\"\"},\"colorscale\":[[0.0,\"#0d0887\"],[0.1111111111111111,\"#46039f\"],[0.2222222222222222,\"#7201a8\"],[0.3333333333333333,\"#9c179e\"],[0.4444444444444444,\"#bd3786\"],[0.5555555555555556,\"#d8576b\"],[0.6666666666666666,\"#ed7953\"],[0.7777777777777778,\"#fb9f3a\"],[0.8888888888888888,\"#fdca26\"],[1.0,\"#f0f921\"]],\"type\":\"heatmapgl\"}],\"histogram\":[{\"marker\":{\"pattern\":{\"fillmode\":\"overlay\",\"size\":10,\"solidity\":0.2}},\"type\":\"histogram\"}],\"histogram2d\":[{\"colorbar\":{\"outlinewidth\":0,\"ticks\":\"\"},\"colorscale\":[[0.0,\"#0d0887\"],[0.1111111111111111,\"#46039f\"],[0.2222222222222222,\"#7201a8\"],[0.3333333333333333,\"#9c179e\"],[0.4444444444444444,\"#bd3786\"],[0.5555555555555556,\"#d8576b\"],[0.6666666666666666,\"#ed7953\"],[0.7777777777777778,\"#fb9f3a\"],[0.8888888888888888,\"#fdca26\"],[1.0,\"#f0f921\"]],\"type\":\"histogram2d\"}],\"histogram2dcontour\":[{\"colorbar\":{\"outlinewidth\":0,\"ticks\":\"\"},\"colorscale\":[[0.0,\"#0d0887\"],[0.1111111111111111,\"#46039f\"],[0.2222222222222222,\"#7201a8\"],[0.3333333333333333,\"#9c179e\"],[0.4444444444444444,\"#bd3786\"],[0.5555555555555556,\"#d8576b\"],[0.6666666666666666,\"#ed7953\"],[0.7777777777777778,\"#fb9f3a\"],[0.8888888888888888,\"#fdca26\"],[1.0,\"#f0f921\"]],\"type\":\"histogram2dcontour\"}],\"mesh3d\":[{\"colorbar\":{\"outlinewidth\":0,\"ticks\":\"\"},\"type\":\"mesh3d\"}],\"parcoords\":[{\"line\":{\"colorbar\":{\"outlinewidth\":0,\"ticks\":\"\"}},\"type\":\"parcoords\"}],\"pie\":[{\"automargin\":true,\"type\":\"pie\"}],\"scatter\":[{\"marker\":{\"colorbar\":{\"outlinewidth\":0,\"ticks\":\"\"}},\"type\":\"scatter\"}],\"scatter3d\":[{\"line\":{\"colorbar\":{\"outlinewidth\":0,\"ticks\":\"\"}},\"marker\":{\"colorbar\":{\"outlinewidth\":0,\"ticks\":\"\"}},\"type\":\"scatter3d\"}],\"scattercarpet\":[{\"marker\":{\"colorbar\":{\"outlinewidth\":0,\"ticks\":\"\"}},\"type\":\"scattercarpet\"}],\"scattergeo\":[{\"marker\":{\"colorbar\":{\"outlinewidth\":0,\"ticks\":\"\"}},\"type\":\"scattergeo\"}],\"scattergl\":[{\"marker\":{\"colorbar\":{\"outlinewidth\":0,\"ticks\":\"\"}},\"type\":\"scattergl\"}],\"scattermapbox\":[{\"marker\":{\"colorbar\":{\"outlinewidth\":0,\"ticks\":\"\"}},\"type\":\"scattermapbox\"}],\"scatterpolar\":[{\"marker\":{\"colorbar\":{\"outlinewidth\":0,\"ticks\":\"\"}},\"type\":\"scatterpolar\"}],\"scatterpolargl\":[{\"marker\":{\"colorbar\":{\"outlinewidth\":0,\"ticks\":\"\"}},\"type\":\"scatterpolargl\"}],\"scatterternary\":[{\"marker\":{\"colorbar\":{\"outlinewidth\":0,\"ticks\":\"\"}},\"type\":\"scatterternary\"}],\"surface\":[{\"colorbar\":{\"outlinewidth\":0,\"ticks\":\"\"},\"colorscale\":[[0.0,\"#0d0887\"],[0.1111111111111111,\"#46039f\"],[0.2222222222222222,\"#7201a8\"],[0.3333333333333333,\"#9c179e\"],[0.4444444444444444,\"#bd3786\"],[0.5555555555555556,\"#d8576b\"],[0.6666666666666666,\"#ed7953\"],[0.7777777777777778,\"#fb9f3a\"],[0.8888888888888888,\"#fdca26\"],[1.0,\"#f0f921\"]],\"type\":\"surface\"}],\"table\":[{\"cells\":{\"fill\":{\"color\":\"#EBF0F8\"},\"line\":{\"color\":\"white\"}},\"header\":{\"fill\":{\"color\":\"#C8D4E3\"},\"line\":{\"color\":\"white\"}},\"type\":\"table\"}]},\"layout\":{\"annotationdefaults\":{\"arrowcolor\":\"#2a3f5f\",\"arrowhead\":0,\"arrowwidth\":1},\"autotypenumbers\":\"strict\",\"coloraxis\":{\"colorbar\":{\"outlinewidth\":0,\"ticks\":\"\"}},\"colorscale\":{\"diverging\":[[0,\"#8e0152\"],[0.1,\"#c51b7d\"],[0.2,\"#de77ae\"],[0.3,\"#f1b6da\"],[0.4,\"#fde0ef\"],[0.5,\"#f7f7f7\"],[0.6,\"#e6f5d0\"],[0.7,\"#b8e186\"],[0.8,\"#7fbc41\"],[0.9,\"#4d9221\"],[1,\"#276419\"]],\"sequential\":[[0.0,\"#0d0887\"],[0.1111111111111111,\"#46039f\"],[0.2222222222222222,\"#7201a8\"],[0.3333333333333333,\"#9c179e\"],[0.4444444444444444,\"#bd3786\"],[0.5555555555555556,\"#d8576b\"],[0.6666666666666666,\"#ed7953\"],[0.7777777777777778,\"#fb9f3a\"],[0.8888888888888888,\"#fdca26\"],[1.0,\"#f0f921\"]],\"sequentialminus\":[[0.0,\"#0d0887\"],[0.1111111111111111,\"#46039f\"],[0.2222222222222222,\"#7201a8\"],[0.3333333333333333,\"#9c179e\"],[0.4444444444444444,\"#bd3786\"],[0.5555555555555556,\"#d8576b\"],[0.6666666666666666,\"#ed7953\"],[0.7777777777777778,\"#fb9f3a\"],[0.8888888888888888,\"#fdca26\"],[1.0,\"#f0f921\"]]},\"colorway\":[\"#636efa\",\"#EF553B\",\"#00cc96\",\"#ab63fa\",\"#FFA15A\",\"#19d3f3\",\"#FF6692\",\"#B6E880\",\"#FF97FF\",\"#FECB52\"],\"font\":{\"color\":\"#2a3f5f\"},\"geo\":{\"bgcolor\":\"white\",\"lakecolor\":\"white\",\"landcolor\":\"#E5ECF6\",\"showlakes\":true,\"showland\":true,\"subunitcolor\":\"white\"},\"hoverlabel\":{\"align\":\"left\"},\"hovermode\":\"closest\",\"mapbox\":{\"style\":\"light\"},\"paper_bgcolor\":\"white\",\"plot_bgcolor\":\"#E5ECF6\",\"polar\":{\"angularaxis\":{\"gridcolor\":\"white\",\"linecolor\":\"white\",\"ticks\":\"\"},\"bgcolor\":\"#E5ECF6\",\"radialaxis\":{\"gridcolor\":\"white\",\"linecolor\":\"white\",\"ticks\":\"\"}},\"scene\":{\"xaxis\":{\"backgroundcolor\":\"#E5ECF6\",\"gridcolor\":\"white\",\"gridwidth\":2,\"linecolor\":\"white\",\"showbackground\":true,\"ticks\":\"\",\"zerolinecolor\":\"white\"},\"yaxis\":{\"backgroundcolor\":\"#E5ECF6\",\"gridcolor\":\"white\",\"gridwidth\":2,\"linecolor\":\"white\",\"showbackground\":true,\"ticks\":\"\",\"zerolinecolor\":\"white\"},\"zaxis\":{\"backgroundcolor\":\"#E5ECF6\",\"gridcolor\":\"white\",\"gridwidth\":2,\"linecolor\":\"white\",\"showbackground\":true,\"ticks\":\"\",\"zerolinecolor\":\"white\"}},\"shapedefaults\":{\"line\":{\"color\":\"#2a3f5f\"}},\"ternary\":{\"aaxis\":{\"gridcolor\":\"white\",\"linecolor\":\"white\",\"ticks\":\"\"},\"baxis\":{\"gridcolor\":\"white\",\"linecolor\":\"white\",\"ticks\":\"\"},\"bgcolor\":\"#E5ECF6\",\"caxis\":{\"gridcolor\":\"white\",\"linecolor\":\"white\",\"ticks\":\"\"}},\"title\":{\"x\":0.05},\"xaxis\":{\"automargin\":true,\"gridcolor\":\"white\",\"linecolor\":\"white\",\"ticks\":\"\",\"title\":{\"standoff\":15},\"zerolinecolor\":\"white\",\"zerolinewidth\":2},\"yaxis\":{\"automargin\":true,\"gridcolor\":\"white\",\"linecolor\":\"white\",\"ticks\":\"\",\"title\":{\"standoff\":15},\"zerolinecolor\":\"white\",\"zerolinewidth\":2}}},\"xaxis\":{\"anchor\":\"y\",\"domain\":[0.0,1.0],\"title\":{\"text\":\"Wall Temp [C]\"}},\"yaxis\":{\"anchor\":\"x\",\"domain\":[0.0,1.0],\"title\":{\"text\":\"Injector Temp [C]\"}},\"legend\":{\"tracegroupgap\":0},\"margin\":{\"t\":60}},                        {\"responsive\": true}                    ).then(function(){\n",
       "                            \n",
       "var gd = document.getElementById('b21b49ba-7081-43fb-b100-e3bac4b04bf7');\n",
       "var x = new MutationObserver(function (mutations, observer) {{\n",
       "        var display = window.getComputedStyle(gd).display;\n",
       "        if (!display || display === 'none') {{\n",
       "            console.log([gd, 'removed!']);\n",
       "            Plotly.purge(gd);\n",
       "            observer.disconnect();\n",
       "        }}\n",
       "}});\n",
       "\n",
       "// Listen for the removal of the full notebook cells\n",
       "var notebookContainer = gd.closest('#notebook-container');\n",
       "if (notebookContainer) {{\n",
       "    x.observe(notebookContainer, {childList: true});\n",
       "}}\n",
       "\n",
       "// Listen for the clearing of the current output cell\n",
       "var outputEl = gd.closest('.output');\n",
       "if (outputEl) {{\n",
       "    x.observe(outputEl, {childList: true});\n",
       "}}\n",
       "\n",
       "                        })                };                });            </script>        </div>"
      ]
     },
     "metadata": {},
     "output_type": "display_data"
    }
   ],
   "source": [
    "fig17inj = px.scatter(June17HeatingFilt, x=\"Wall Temp [C]\", y=\"Injector Temp [C]\", trendline=\"ols\")\n",
    "fig17inj.show()"
   ]
  },
  {
   "cell_type": "code",
   "execution_count": 82,
   "id": "e65c22f7",
   "metadata": {
    "collapsed": true
   },
   "outputs": [
    {
     "data": {
      "application/vnd.plotly.v1+json": {
       "config": {
        "plotlyServerURL": "https://plot.ly"
       },
       "data": [
        {
         "hovertemplate": "Wall Temp [C]=%{x}<br>Injector Temp [C]=%{y}<extra></extra>",
         "legendgroup": "",
         "marker": {
          "color": "#636efa",
          "symbol": "circle"
         },
         "mode": "markers",
         "name": "",
         "orientation": "v",
         "showlegend": false,
         "type": "scatter",
         "x": [
          92.09059956666667,
          112.44698994000001,
          131.46886749333333,
          149.47705179333335,
          166.72591044666666,
          183.29214071333334,
          199.32816365333332,
          214.65132142,
          229.53596801333333,
          243.93624063333334,
          257.8495310466667,
          271.40841472,
          284.54942424,
          297.2577006,
          309.7106201133333,
          321.80186970666665,
          333.56121826666663,
          345.0816813133333,
          356.24157512,
          367.1835795133333,
          377.91079506666665,
          388.2638265,
          398.36697388,
          408.14721476,
          417.5446858733333,
          426.62576496,
          435.3514526333333,
          443.76917520666666,
          452.04176026,
          460.12963664,
          468.04253744666664,
          475.83244221333337,
          483.3799947,
          490.78515626,
          498.0376383533333,
          501.15966999333335,
          493.52144368,
          486.1514689,
          490.12930908,
          497.39527587333333,
          502.0639363733333,
          496.08402302666667,
          487.8412048466667,
          489.32855224,
          497.1165771533333,
          506.0664917066667,
          514.7145833333333,
          521.7294514933334,
          522.37135416,
          528.1083089066667,
          533.1431536
         ],
         "xaxis": "x",
         "y": [
          38.19511973066667,
          38.775996400000004,
          39.49860432933333,
          40.269368744666664,
          41.045488739999996,
          41.89521814933333,
          42.864974466666666,
          43.92431717066667,
          45.051823424666665,
          46.17266082733333,
          47.32380549133333,
          48.53778432266667,
          49.81682459466666,
          51.15233205133333,
          52.54285583600001,
          53.967216238,
          55.406637827333334,
          56.87953338533334,
          58.399179839333335,
          59.95366846733334,
          61.511194104,
          63.06405970266667,
          64.605045828,
          66.12450663333333,
          67.67524719266666,
          69.23993530333334,
          70.75425923666667,
          72.24430135133333,
          73.74097900333332,
          75.14288889666666,
          76.484700012,
          77.82406819666667,
          79.11301727266667,
          80.36173095666666,
          81.55723164933333,
          82.74677734333333,
          85.92547047933334,
          88.18946380466667,
          90.74582672066667,
          99.63144226066667,
          107.5168396,
          111.25650888666668,
          115.22601775333332,
          117.83706258666666,
          111.56889241333333,
          102.47938384066667,
          97.86413370800001,
          95.80305633533334,
          94.93755544066667,
          94.48164469333332,
          94.41025870285715
         ],
         "yaxis": "y"
        },
        {
         "hovertemplate": "<b>OLS trendline</b><br>Injector Temp [C] = 0.161396 * Wall Temp [C] + 9.11835<br>R<sup>2</sup>=0.804652<br><br>Wall Temp [C]=%{x}<br>Injector Temp [C]=%{y} <b>(trend)</b><extra></extra>",
         "legendgroup": "",
         "marker": {
          "color": "#636efa",
          "symbol": "circle"
         },
         "mode": "lines",
         "name": "",
         "showlegend": false,
         "type": "scatter",
         "x": [
          92.09059956666667,
          112.44698994000001,
          131.46886749333333,
          149.47705179333335,
          166.72591044666666,
          183.29214071333334,
          199.32816365333332,
          214.65132142,
          229.53596801333333,
          243.93624063333334,
          257.8495310466667,
          271.40841472,
          284.54942424,
          297.2577006,
          309.7106201133333,
          321.80186970666665,
          333.56121826666663,
          345.0816813133333,
          356.24157512,
          367.1835795133333,
          377.91079506666665,
          388.2638265,
          398.36697388,
          408.14721476,
          417.5446858733333,
          426.62576496,
          435.3514526333333,
          443.76917520666666,
          452.04176026,
          460.12963664,
          468.04253744666664,
          475.83244221333337,
          483.3799947,
          486.1514689,
          487.8412048466667,
          489.32855224,
          490.12930908,
          490.78515626,
          493.52144368,
          496.08402302666667,
          497.1165771533333,
          497.39527587333333,
          498.0376383533333,
          501.15966999333335,
          502.0639363733333,
          506.0664917066667,
          514.7145833333333,
          521.7294514933334,
          522.37135416,
          528.1083089066667,
          533.1431536
         ],
         "xaxis": "x",
         "y": [
          23.98139137128385,
          27.266827612204885,
          30.336879067199167,
          33.24332467210908,
          36.02721829444906,
          38.70093855110364,
          41.28908556347054,
          43.76217911928613,
          46.16449880633149,
          48.48864256056348,
          50.73418942403421,
          52.92253652240572,
          55.04344048069559,
          57.09450311739364,
          59.10435222737995,
          61.05582932540213,
          62.953738985223616,
          64.81309352262201,
          66.61425369320332,
          68.38024742405983,
          70.11157513475563,
          71.78251109396312,
          73.41311681240626,
          74.99160677269816,
          76.50831929404967,
          77.97396746599125,
          79.38225695067715,
          80.7408421566613,
          82.07600277413144,
          83.381352184494,
          84.65846126936853,
          85.91571930796741,
          87.13386270250714,
          87.58116704332906,
          87.85388335574751,
          88.09393500239398,
          88.22317380623159,
          88.32902479720593,
          88.7706501389473,
          89.18423972439777,
          89.3508896405296,
          89.3958704479416,
          89.49954506475208,
          90.00342790975762,
          90.14937272029681,
          90.79536840554618,
          92.19113421293986,
          93.32330458575498,
          93.4269049906172,
          94.35282548494578,
          95.16542835409473
         ],
         "yaxis": "y"
        }
       ],
       "layout": {
        "legend": {
         "tracegroupgap": 0
        },
        "margin": {
         "t": 60
        },
        "template": {
         "data": {
          "bar": [
           {
            "error_x": {
             "color": "#2a3f5f"
            },
            "error_y": {
             "color": "#2a3f5f"
            },
            "marker": {
             "line": {
              "color": "#E5ECF6",
              "width": 0.5
             },
             "pattern": {
              "fillmode": "overlay",
              "size": 10,
              "solidity": 0.2
             }
            },
            "type": "bar"
           }
          ],
          "barpolar": [
           {
            "marker": {
             "line": {
              "color": "#E5ECF6",
              "width": 0.5
             },
             "pattern": {
              "fillmode": "overlay",
              "size": 10,
              "solidity": 0.2
             }
            },
            "type": "barpolar"
           }
          ],
          "carpet": [
           {
            "aaxis": {
             "endlinecolor": "#2a3f5f",
             "gridcolor": "white",
             "linecolor": "white",
             "minorgridcolor": "white",
             "startlinecolor": "#2a3f5f"
            },
            "baxis": {
             "endlinecolor": "#2a3f5f",
             "gridcolor": "white",
             "linecolor": "white",
             "minorgridcolor": "white",
             "startlinecolor": "#2a3f5f"
            },
            "type": "carpet"
           }
          ],
          "choropleth": [
           {
            "colorbar": {
             "outlinewidth": 0,
             "ticks": ""
            },
            "type": "choropleth"
           }
          ],
          "contour": [
           {
            "colorbar": {
             "outlinewidth": 0,
             "ticks": ""
            },
            "colorscale": [
             [
              0,
              "#0d0887"
             ],
             [
              0.1111111111111111,
              "#46039f"
             ],
             [
              0.2222222222222222,
              "#7201a8"
             ],
             [
              0.3333333333333333,
              "#9c179e"
             ],
             [
              0.4444444444444444,
              "#bd3786"
             ],
             [
              0.5555555555555556,
              "#d8576b"
             ],
             [
              0.6666666666666666,
              "#ed7953"
             ],
             [
              0.7777777777777778,
              "#fb9f3a"
             ],
             [
              0.8888888888888888,
              "#fdca26"
             ],
             [
              1,
              "#f0f921"
             ]
            ],
            "type": "contour"
           }
          ],
          "contourcarpet": [
           {
            "colorbar": {
             "outlinewidth": 0,
             "ticks": ""
            },
            "type": "contourcarpet"
           }
          ],
          "heatmap": [
           {
            "colorbar": {
             "outlinewidth": 0,
             "ticks": ""
            },
            "colorscale": [
             [
              0,
              "#0d0887"
             ],
             [
              0.1111111111111111,
              "#46039f"
             ],
             [
              0.2222222222222222,
              "#7201a8"
             ],
             [
              0.3333333333333333,
              "#9c179e"
             ],
             [
              0.4444444444444444,
              "#bd3786"
             ],
             [
              0.5555555555555556,
              "#d8576b"
             ],
             [
              0.6666666666666666,
              "#ed7953"
             ],
             [
              0.7777777777777778,
              "#fb9f3a"
             ],
             [
              0.8888888888888888,
              "#fdca26"
             ],
             [
              1,
              "#f0f921"
             ]
            ],
            "type": "heatmap"
           }
          ],
          "heatmapgl": [
           {
            "colorbar": {
             "outlinewidth": 0,
             "ticks": ""
            },
            "colorscale": [
             [
              0,
              "#0d0887"
             ],
             [
              0.1111111111111111,
              "#46039f"
             ],
             [
              0.2222222222222222,
              "#7201a8"
             ],
             [
              0.3333333333333333,
              "#9c179e"
             ],
             [
              0.4444444444444444,
              "#bd3786"
             ],
             [
              0.5555555555555556,
              "#d8576b"
             ],
             [
              0.6666666666666666,
              "#ed7953"
             ],
             [
              0.7777777777777778,
              "#fb9f3a"
             ],
             [
              0.8888888888888888,
              "#fdca26"
             ],
             [
              1,
              "#f0f921"
             ]
            ],
            "type": "heatmapgl"
           }
          ],
          "histogram": [
           {
            "marker": {
             "pattern": {
              "fillmode": "overlay",
              "size": 10,
              "solidity": 0.2
             }
            },
            "type": "histogram"
           }
          ],
          "histogram2d": [
           {
            "colorbar": {
             "outlinewidth": 0,
             "ticks": ""
            },
            "colorscale": [
             [
              0,
              "#0d0887"
             ],
             [
              0.1111111111111111,
              "#46039f"
             ],
             [
              0.2222222222222222,
              "#7201a8"
             ],
             [
              0.3333333333333333,
              "#9c179e"
             ],
             [
              0.4444444444444444,
              "#bd3786"
             ],
             [
              0.5555555555555556,
              "#d8576b"
             ],
             [
              0.6666666666666666,
              "#ed7953"
             ],
             [
              0.7777777777777778,
              "#fb9f3a"
             ],
             [
              0.8888888888888888,
              "#fdca26"
             ],
             [
              1,
              "#f0f921"
             ]
            ],
            "type": "histogram2d"
           }
          ],
          "histogram2dcontour": [
           {
            "colorbar": {
             "outlinewidth": 0,
             "ticks": ""
            },
            "colorscale": [
             [
              0,
              "#0d0887"
             ],
             [
              0.1111111111111111,
              "#46039f"
             ],
             [
              0.2222222222222222,
              "#7201a8"
             ],
             [
              0.3333333333333333,
              "#9c179e"
             ],
             [
              0.4444444444444444,
              "#bd3786"
             ],
             [
              0.5555555555555556,
              "#d8576b"
             ],
             [
              0.6666666666666666,
              "#ed7953"
             ],
             [
              0.7777777777777778,
              "#fb9f3a"
             ],
             [
              0.8888888888888888,
              "#fdca26"
             ],
             [
              1,
              "#f0f921"
             ]
            ],
            "type": "histogram2dcontour"
           }
          ],
          "mesh3d": [
           {
            "colorbar": {
             "outlinewidth": 0,
             "ticks": ""
            },
            "type": "mesh3d"
           }
          ],
          "parcoords": [
           {
            "line": {
             "colorbar": {
              "outlinewidth": 0,
              "ticks": ""
             }
            },
            "type": "parcoords"
           }
          ],
          "pie": [
           {
            "automargin": true,
            "type": "pie"
           }
          ],
          "scatter": [
           {
            "marker": {
             "colorbar": {
              "outlinewidth": 0,
              "ticks": ""
             }
            },
            "type": "scatter"
           }
          ],
          "scatter3d": [
           {
            "line": {
             "colorbar": {
              "outlinewidth": 0,
              "ticks": ""
             }
            },
            "marker": {
             "colorbar": {
              "outlinewidth": 0,
              "ticks": ""
             }
            },
            "type": "scatter3d"
           }
          ],
          "scattercarpet": [
           {
            "marker": {
             "colorbar": {
              "outlinewidth": 0,
              "ticks": ""
             }
            },
            "type": "scattercarpet"
           }
          ],
          "scattergeo": [
           {
            "marker": {
             "colorbar": {
              "outlinewidth": 0,
              "ticks": ""
             }
            },
            "type": "scattergeo"
           }
          ],
          "scattergl": [
           {
            "marker": {
             "colorbar": {
              "outlinewidth": 0,
              "ticks": ""
             }
            },
            "type": "scattergl"
           }
          ],
          "scattermapbox": [
           {
            "marker": {
             "colorbar": {
              "outlinewidth": 0,
              "ticks": ""
             }
            },
            "type": "scattermapbox"
           }
          ],
          "scatterpolar": [
           {
            "marker": {
             "colorbar": {
              "outlinewidth": 0,
              "ticks": ""
             }
            },
            "type": "scatterpolar"
           }
          ],
          "scatterpolargl": [
           {
            "marker": {
             "colorbar": {
              "outlinewidth": 0,
              "ticks": ""
             }
            },
            "type": "scatterpolargl"
           }
          ],
          "scatterternary": [
           {
            "marker": {
             "colorbar": {
              "outlinewidth": 0,
              "ticks": ""
             }
            },
            "type": "scatterternary"
           }
          ],
          "surface": [
           {
            "colorbar": {
             "outlinewidth": 0,
             "ticks": ""
            },
            "colorscale": [
             [
              0,
              "#0d0887"
             ],
             [
              0.1111111111111111,
              "#46039f"
             ],
             [
              0.2222222222222222,
              "#7201a8"
             ],
             [
              0.3333333333333333,
              "#9c179e"
             ],
             [
              0.4444444444444444,
              "#bd3786"
             ],
             [
              0.5555555555555556,
              "#d8576b"
             ],
             [
              0.6666666666666666,
              "#ed7953"
             ],
             [
              0.7777777777777778,
              "#fb9f3a"
             ],
             [
              0.8888888888888888,
              "#fdca26"
             ],
             [
              1,
              "#f0f921"
             ]
            ],
            "type": "surface"
           }
          ],
          "table": [
           {
            "cells": {
             "fill": {
              "color": "#EBF0F8"
             },
             "line": {
              "color": "white"
             }
            },
            "header": {
             "fill": {
              "color": "#C8D4E3"
             },
             "line": {
              "color": "white"
             }
            },
            "type": "table"
           }
          ]
         },
         "layout": {
          "annotationdefaults": {
           "arrowcolor": "#2a3f5f",
           "arrowhead": 0,
           "arrowwidth": 1
          },
          "autotypenumbers": "strict",
          "coloraxis": {
           "colorbar": {
            "outlinewidth": 0,
            "ticks": ""
           }
          },
          "colorscale": {
           "diverging": [
            [
             0,
             "#8e0152"
            ],
            [
             0.1,
             "#c51b7d"
            ],
            [
             0.2,
             "#de77ae"
            ],
            [
             0.3,
             "#f1b6da"
            ],
            [
             0.4,
             "#fde0ef"
            ],
            [
             0.5,
             "#f7f7f7"
            ],
            [
             0.6,
             "#e6f5d0"
            ],
            [
             0.7,
             "#b8e186"
            ],
            [
             0.8,
             "#7fbc41"
            ],
            [
             0.9,
             "#4d9221"
            ],
            [
             1,
             "#276419"
            ]
           ],
           "sequential": [
            [
             0,
             "#0d0887"
            ],
            [
             0.1111111111111111,
             "#46039f"
            ],
            [
             0.2222222222222222,
             "#7201a8"
            ],
            [
             0.3333333333333333,
             "#9c179e"
            ],
            [
             0.4444444444444444,
             "#bd3786"
            ],
            [
             0.5555555555555556,
             "#d8576b"
            ],
            [
             0.6666666666666666,
             "#ed7953"
            ],
            [
             0.7777777777777778,
             "#fb9f3a"
            ],
            [
             0.8888888888888888,
             "#fdca26"
            ],
            [
             1,
             "#f0f921"
            ]
           ],
           "sequentialminus": [
            [
             0,
             "#0d0887"
            ],
            [
             0.1111111111111111,
             "#46039f"
            ],
            [
             0.2222222222222222,
             "#7201a8"
            ],
            [
             0.3333333333333333,
             "#9c179e"
            ],
            [
             0.4444444444444444,
             "#bd3786"
            ],
            [
             0.5555555555555556,
             "#d8576b"
            ],
            [
             0.6666666666666666,
             "#ed7953"
            ],
            [
             0.7777777777777778,
             "#fb9f3a"
            ],
            [
             0.8888888888888888,
             "#fdca26"
            ],
            [
             1,
             "#f0f921"
            ]
           ]
          },
          "colorway": [
           "#636efa",
           "#EF553B",
           "#00cc96",
           "#ab63fa",
           "#FFA15A",
           "#19d3f3",
           "#FF6692",
           "#B6E880",
           "#FF97FF",
           "#FECB52"
          ],
          "font": {
           "color": "#2a3f5f"
          },
          "geo": {
           "bgcolor": "white",
           "lakecolor": "white",
           "landcolor": "#E5ECF6",
           "showlakes": true,
           "showland": true,
           "subunitcolor": "white"
          },
          "hoverlabel": {
           "align": "left"
          },
          "hovermode": "closest",
          "mapbox": {
           "style": "light"
          },
          "paper_bgcolor": "white",
          "plot_bgcolor": "#E5ECF6",
          "polar": {
           "angularaxis": {
            "gridcolor": "white",
            "linecolor": "white",
            "ticks": ""
           },
           "bgcolor": "#E5ECF6",
           "radialaxis": {
            "gridcolor": "white",
            "linecolor": "white",
            "ticks": ""
           }
          },
          "scene": {
           "xaxis": {
            "backgroundcolor": "#E5ECF6",
            "gridcolor": "white",
            "gridwidth": 2,
            "linecolor": "white",
            "showbackground": true,
            "ticks": "",
            "zerolinecolor": "white"
           },
           "yaxis": {
            "backgroundcolor": "#E5ECF6",
            "gridcolor": "white",
            "gridwidth": 2,
            "linecolor": "white",
            "showbackground": true,
            "ticks": "",
            "zerolinecolor": "white"
           },
           "zaxis": {
            "backgroundcolor": "#E5ECF6",
            "gridcolor": "white",
            "gridwidth": 2,
            "linecolor": "white",
            "showbackground": true,
            "ticks": "",
            "zerolinecolor": "white"
           }
          },
          "shapedefaults": {
           "line": {
            "color": "#2a3f5f"
           }
          },
          "ternary": {
           "aaxis": {
            "gridcolor": "white",
            "linecolor": "white",
            "ticks": ""
           },
           "baxis": {
            "gridcolor": "white",
            "linecolor": "white",
            "ticks": ""
           },
           "bgcolor": "#E5ECF6",
           "caxis": {
            "gridcolor": "white",
            "linecolor": "white",
            "ticks": ""
           }
          },
          "title": {
           "x": 0.05
          },
          "xaxis": {
           "automargin": true,
           "gridcolor": "white",
           "linecolor": "white",
           "ticks": "",
           "title": {
            "standoff": 15
           },
           "zerolinecolor": "white",
           "zerolinewidth": 2
          },
          "yaxis": {
           "automargin": true,
           "gridcolor": "white",
           "linecolor": "white",
           "ticks": "",
           "title": {
            "standoff": 15
           },
           "zerolinecolor": "white",
           "zerolinewidth": 2
          }
         }
        },
        "xaxis": {
         "anchor": "y",
         "domain": [
          0,
          1
         ],
         "title": {
          "text": "Wall Temp [C]"
         }
        },
        "yaxis": {
         "anchor": "x",
         "domain": [
          0,
          1
         ],
         "title": {
          "text": "Injector Temp [C]"
         }
        }
       }
      },
      "text/html": [
       "<div>                            <div id=\"73f88431-f982-41b3-bc3b-712778058699\" class=\"plotly-graph-div\" style=\"height:525px; width:100%;\"></div>            <script type=\"text/javascript\">                require([\"plotly\"], function(Plotly) {                    window.PLOTLYENV=window.PLOTLYENV || {};                                    if (document.getElementById(\"73f88431-f982-41b3-bc3b-712778058699\")) {                    Plotly.newPlot(                        \"73f88431-f982-41b3-bc3b-712778058699\",                        [{\"hovertemplate\":\"Wall Temp [C]=%{x}<br>Injector Temp [C]=%{y}<extra></extra>\",\"legendgroup\":\"\",\"marker\":{\"color\":\"#636efa\",\"symbol\":\"circle\"},\"mode\":\"markers\",\"name\":\"\",\"orientation\":\"v\",\"showlegend\":false,\"x\":[92.09059956666667,112.44698994000001,131.46886749333333,149.47705179333335,166.72591044666666,183.29214071333334,199.32816365333332,214.65132142,229.53596801333333,243.93624063333334,257.8495310466667,271.40841472,284.54942424,297.2577006,309.7106201133333,321.80186970666665,333.56121826666663,345.0816813133333,356.24157512,367.1835795133333,377.91079506666665,388.2638265,398.36697388,408.14721476,417.5446858733333,426.62576496,435.3514526333333,443.76917520666666,452.04176026,460.12963664,468.04253744666664,475.83244221333337,483.3799947,490.78515626,498.0376383533333,501.15966999333335,493.52144368,486.1514689,490.12930908,497.39527587333333,502.0639363733333,496.08402302666667,487.8412048466667,489.32855224,497.1165771533333,506.0664917066667,514.7145833333333,521.7294514933334,522.37135416,528.1083089066667,533.1431536],\"xaxis\":\"x\",\"y\":[38.19511973066667,38.775996400000004,39.49860432933333,40.269368744666664,41.045488739999996,41.89521814933333,42.864974466666666,43.92431717066667,45.051823424666665,46.17266082733333,47.32380549133333,48.53778432266667,49.81682459466666,51.15233205133333,52.54285583600001,53.967216238,55.406637827333334,56.87953338533334,58.399179839333335,59.95366846733334,61.511194104,63.06405970266667,64.605045828,66.12450663333333,67.67524719266666,69.23993530333334,70.75425923666667,72.24430135133333,73.74097900333332,75.14288889666666,76.484700012,77.82406819666667,79.11301727266667,80.36173095666666,81.55723164933333,82.74677734333333,85.92547047933334,88.18946380466667,90.74582672066667,99.63144226066667,107.5168396,111.25650888666668,115.22601775333332,117.83706258666666,111.56889241333333,102.47938384066667,97.86413370800001,95.80305633533334,94.93755544066667,94.48164469333332,94.41025870285715],\"yaxis\":\"y\",\"type\":\"scatter\"},{\"hovertemplate\":\"<b>OLS trendline</b><br>Injector Temp [C] = 0.161396 * Wall Temp [C] + 9.11835<br>R<sup>2</sup>=0.804652<br><br>Wall Temp [C]=%{x}<br>Injector Temp [C]=%{y} <b>(trend)</b><extra></extra>\",\"legendgroup\":\"\",\"marker\":{\"color\":\"#636efa\",\"symbol\":\"circle\"},\"mode\":\"lines\",\"name\":\"\",\"showlegend\":false,\"x\":[92.09059956666667,112.44698994000001,131.46886749333333,149.47705179333335,166.72591044666666,183.29214071333334,199.32816365333332,214.65132142,229.53596801333333,243.93624063333334,257.8495310466667,271.40841472,284.54942424,297.2577006,309.7106201133333,321.80186970666665,333.56121826666663,345.0816813133333,356.24157512,367.1835795133333,377.91079506666665,388.2638265,398.36697388,408.14721476,417.5446858733333,426.62576496,435.3514526333333,443.76917520666666,452.04176026,460.12963664,468.04253744666664,475.83244221333337,483.3799947,486.1514689,487.8412048466667,489.32855224,490.12930908,490.78515626,493.52144368,496.08402302666667,497.1165771533333,497.39527587333333,498.0376383533333,501.15966999333335,502.0639363733333,506.0664917066667,514.7145833333333,521.7294514933334,522.37135416,528.1083089066667,533.1431536],\"xaxis\":\"x\",\"y\":[23.98139137128385,27.266827612204885,30.336879067199167,33.24332467210908,36.02721829444906,38.70093855110364,41.28908556347054,43.76217911928613,46.16449880633149,48.48864256056348,50.73418942403421,52.92253652240572,55.04344048069559,57.09450311739364,59.10435222737995,61.05582932540213,62.953738985223616,64.81309352262201,66.61425369320332,68.38024742405983,70.11157513475563,71.78251109396312,73.41311681240626,74.99160677269816,76.50831929404967,77.97396746599125,79.38225695067715,80.7408421566613,82.07600277413144,83.381352184494,84.65846126936853,85.91571930796741,87.13386270250714,87.58116704332906,87.85388335574751,88.09393500239398,88.22317380623159,88.32902479720593,88.7706501389473,89.18423972439777,89.3508896405296,89.3958704479416,89.49954506475208,90.00342790975762,90.14937272029681,90.79536840554618,92.19113421293986,93.32330458575498,93.4269049906172,94.35282548494578,95.16542835409473],\"yaxis\":\"y\",\"type\":\"scatter\"}],                        {\"template\":{\"data\":{\"bar\":[{\"error_x\":{\"color\":\"#2a3f5f\"},\"error_y\":{\"color\":\"#2a3f5f\"},\"marker\":{\"line\":{\"color\":\"#E5ECF6\",\"width\":0.5},\"pattern\":{\"fillmode\":\"overlay\",\"size\":10,\"solidity\":0.2}},\"type\":\"bar\"}],\"barpolar\":[{\"marker\":{\"line\":{\"color\":\"#E5ECF6\",\"width\":0.5},\"pattern\":{\"fillmode\":\"overlay\",\"size\":10,\"solidity\":0.2}},\"type\":\"barpolar\"}],\"carpet\":[{\"aaxis\":{\"endlinecolor\":\"#2a3f5f\",\"gridcolor\":\"white\",\"linecolor\":\"white\",\"minorgridcolor\":\"white\",\"startlinecolor\":\"#2a3f5f\"},\"baxis\":{\"endlinecolor\":\"#2a3f5f\",\"gridcolor\":\"white\",\"linecolor\":\"white\",\"minorgridcolor\":\"white\",\"startlinecolor\":\"#2a3f5f\"},\"type\":\"carpet\"}],\"choropleth\":[{\"colorbar\":{\"outlinewidth\":0,\"ticks\":\"\"},\"type\":\"choropleth\"}],\"contour\":[{\"colorbar\":{\"outlinewidth\":0,\"ticks\":\"\"},\"colorscale\":[[0.0,\"#0d0887\"],[0.1111111111111111,\"#46039f\"],[0.2222222222222222,\"#7201a8\"],[0.3333333333333333,\"#9c179e\"],[0.4444444444444444,\"#bd3786\"],[0.5555555555555556,\"#d8576b\"],[0.6666666666666666,\"#ed7953\"],[0.7777777777777778,\"#fb9f3a\"],[0.8888888888888888,\"#fdca26\"],[1.0,\"#f0f921\"]],\"type\":\"contour\"}],\"contourcarpet\":[{\"colorbar\":{\"outlinewidth\":0,\"ticks\":\"\"},\"type\":\"contourcarpet\"}],\"heatmap\":[{\"colorbar\":{\"outlinewidth\":0,\"ticks\":\"\"},\"colorscale\":[[0.0,\"#0d0887\"],[0.1111111111111111,\"#46039f\"],[0.2222222222222222,\"#7201a8\"],[0.3333333333333333,\"#9c179e\"],[0.4444444444444444,\"#bd3786\"],[0.5555555555555556,\"#d8576b\"],[0.6666666666666666,\"#ed7953\"],[0.7777777777777778,\"#fb9f3a\"],[0.8888888888888888,\"#fdca26\"],[1.0,\"#f0f921\"]],\"type\":\"heatmap\"}],\"heatmapgl\":[{\"colorbar\":{\"outlinewidth\":0,\"ticks\":\"\"},\"colorscale\":[[0.0,\"#0d0887\"],[0.1111111111111111,\"#46039f\"],[0.2222222222222222,\"#7201a8\"],[0.3333333333333333,\"#9c179e\"],[0.4444444444444444,\"#bd3786\"],[0.5555555555555556,\"#d8576b\"],[0.6666666666666666,\"#ed7953\"],[0.7777777777777778,\"#fb9f3a\"],[0.8888888888888888,\"#fdca26\"],[1.0,\"#f0f921\"]],\"type\":\"heatmapgl\"}],\"histogram\":[{\"marker\":{\"pattern\":{\"fillmode\":\"overlay\",\"size\":10,\"solidity\":0.2}},\"type\":\"histogram\"}],\"histogram2d\":[{\"colorbar\":{\"outlinewidth\":0,\"ticks\":\"\"},\"colorscale\":[[0.0,\"#0d0887\"],[0.1111111111111111,\"#46039f\"],[0.2222222222222222,\"#7201a8\"],[0.3333333333333333,\"#9c179e\"],[0.4444444444444444,\"#bd3786\"],[0.5555555555555556,\"#d8576b\"],[0.6666666666666666,\"#ed7953\"],[0.7777777777777778,\"#fb9f3a\"],[0.8888888888888888,\"#fdca26\"],[1.0,\"#f0f921\"]],\"type\":\"histogram2d\"}],\"histogram2dcontour\":[{\"colorbar\":{\"outlinewidth\":0,\"ticks\":\"\"},\"colorscale\":[[0.0,\"#0d0887\"],[0.1111111111111111,\"#46039f\"],[0.2222222222222222,\"#7201a8\"],[0.3333333333333333,\"#9c179e\"],[0.4444444444444444,\"#bd3786\"],[0.5555555555555556,\"#d8576b\"],[0.6666666666666666,\"#ed7953\"],[0.7777777777777778,\"#fb9f3a\"],[0.8888888888888888,\"#fdca26\"],[1.0,\"#f0f921\"]],\"type\":\"histogram2dcontour\"}],\"mesh3d\":[{\"colorbar\":{\"outlinewidth\":0,\"ticks\":\"\"},\"type\":\"mesh3d\"}],\"parcoords\":[{\"line\":{\"colorbar\":{\"outlinewidth\":0,\"ticks\":\"\"}},\"type\":\"parcoords\"}],\"pie\":[{\"automargin\":true,\"type\":\"pie\"}],\"scatter\":[{\"marker\":{\"colorbar\":{\"outlinewidth\":0,\"ticks\":\"\"}},\"type\":\"scatter\"}],\"scatter3d\":[{\"line\":{\"colorbar\":{\"outlinewidth\":0,\"ticks\":\"\"}},\"marker\":{\"colorbar\":{\"outlinewidth\":0,\"ticks\":\"\"}},\"type\":\"scatter3d\"}],\"scattercarpet\":[{\"marker\":{\"colorbar\":{\"outlinewidth\":0,\"ticks\":\"\"}},\"type\":\"scattercarpet\"}],\"scattergeo\":[{\"marker\":{\"colorbar\":{\"outlinewidth\":0,\"ticks\":\"\"}},\"type\":\"scattergeo\"}],\"scattergl\":[{\"marker\":{\"colorbar\":{\"outlinewidth\":0,\"ticks\":\"\"}},\"type\":\"scattergl\"}],\"scattermapbox\":[{\"marker\":{\"colorbar\":{\"outlinewidth\":0,\"ticks\":\"\"}},\"type\":\"scattermapbox\"}],\"scatterpolar\":[{\"marker\":{\"colorbar\":{\"outlinewidth\":0,\"ticks\":\"\"}},\"type\":\"scatterpolar\"}],\"scatterpolargl\":[{\"marker\":{\"colorbar\":{\"outlinewidth\":0,\"ticks\":\"\"}},\"type\":\"scatterpolargl\"}],\"scatterternary\":[{\"marker\":{\"colorbar\":{\"outlinewidth\":0,\"ticks\":\"\"}},\"type\":\"scatterternary\"}],\"surface\":[{\"colorbar\":{\"outlinewidth\":0,\"ticks\":\"\"},\"colorscale\":[[0.0,\"#0d0887\"],[0.1111111111111111,\"#46039f\"],[0.2222222222222222,\"#7201a8\"],[0.3333333333333333,\"#9c179e\"],[0.4444444444444444,\"#bd3786\"],[0.5555555555555556,\"#d8576b\"],[0.6666666666666666,\"#ed7953\"],[0.7777777777777778,\"#fb9f3a\"],[0.8888888888888888,\"#fdca26\"],[1.0,\"#f0f921\"]],\"type\":\"surface\"}],\"table\":[{\"cells\":{\"fill\":{\"color\":\"#EBF0F8\"},\"line\":{\"color\":\"white\"}},\"header\":{\"fill\":{\"color\":\"#C8D4E3\"},\"line\":{\"color\":\"white\"}},\"type\":\"table\"}]},\"layout\":{\"annotationdefaults\":{\"arrowcolor\":\"#2a3f5f\",\"arrowhead\":0,\"arrowwidth\":1},\"autotypenumbers\":\"strict\",\"coloraxis\":{\"colorbar\":{\"outlinewidth\":0,\"ticks\":\"\"}},\"colorscale\":{\"diverging\":[[0,\"#8e0152\"],[0.1,\"#c51b7d\"],[0.2,\"#de77ae\"],[0.3,\"#f1b6da\"],[0.4,\"#fde0ef\"],[0.5,\"#f7f7f7\"],[0.6,\"#e6f5d0\"],[0.7,\"#b8e186\"],[0.8,\"#7fbc41\"],[0.9,\"#4d9221\"],[1,\"#276419\"]],\"sequential\":[[0.0,\"#0d0887\"],[0.1111111111111111,\"#46039f\"],[0.2222222222222222,\"#7201a8\"],[0.3333333333333333,\"#9c179e\"],[0.4444444444444444,\"#bd3786\"],[0.5555555555555556,\"#d8576b\"],[0.6666666666666666,\"#ed7953\"],[0.7777777777777778,\"#fb9f3a\"],[0.8888888888888888,\"#fdca26\"],[1.0,\"#f0f921\"]],\"sequentialminus\":[[0.0,\"#0d0887\"],[0.1111111111111111,\"#46039f\"],[0.2222222222222222,\"#7201a8\"],[0.3333333333333333,\"#9c179e\"],[0.4444444444444444,\"#bd3786\"],[0.5555555555555556,\"#d8576b\"],[0.6666666666666666,\"#ed7953\"],[0.7777777777777778,\"#fb9f3a\"],[0.8888888888888888,\"#fdca26\"],[1.0,\"#f0f921\"]]},\"colorway\":[\"#636efa\",\"#EF553B\",\"#00cc96\",\"#ab63fa\",\"#FFA15A\",\"#19d3f3\",\"#FF6692\",\"#B6E880\",\"#FF97FF\",\"#FECB52\"],\"font\":{\"color\":\"#2a3f5f\"},\"geo\":{\"bgcolor\":\"white\",\"lakecolor\":\"white\",\"landcolor\":\"#E5ECF6\",\"showlakes\":true,\"showland\":true,\"subunitcolor\":\"white\"},\"hoverlabel\":{\"align\":\"left\"},\"hovermode\":\"closest\",\"mapbox\":{\"style\":\"light\"},\"paper_bgcolor\":\"white\",\"plot_bgcolor\":\"#E5ECF6\",\"polar\":{\"angularaxis\":{\"gridcolor\":\"white\",\"linecolor\":\"white\",\"ticks\":\"\"},\"bgcolor\":\"#E5ECF6\",\"radialaxis\":{\"gridcolor\":\"white\",\"linecolor\":\"white\",\"ticks\":\"\"}},\"scene\":{\"xaxis\":{\"backgroundcolor\":\"#E5ECF6\",\"gridcolor\":\"white\",\"gridwidth\":2,\"linecolor\":\"white\",\"showbackground\":true,\"ticks\":\"\",\"zerolinecolor\":\"white\"},\"yaxis\":{\"backgroundcolor\":\"#E5ECF6\",\"gridcolor\":\"white\",\"gridwidth\":2,\"linecolor\":\"white\",\"showbackground\":true,\"ticks\":\"\",\"zerolinecolor\":\"white\"},\"zaxis\":{\"backgroundcolor\":\"#E5ECF6\",\"gridcolor\":\"white\",\"gridwidth\":2,\"linecolor\":\"white\",\"showbackground\":true,\"ticks\":\"\",\"zerolinecolor\":\"white\"}},\"shapedefaults\":{\"line\":{\"color\":\"#2a3f5f\"}},\"ternary\":{\"aaxis\":{\"gridcolor\":\"white\",\"linecolor\":\"white\",\"ticks\":\"\"},\"baxis\":{\"gridcolor\":\"white\",\"linecolor\":\"white\",\"ticks\":\"\"},\"bgcolor\":\"#E5ECF6\",\"caxis\":{\"gridcolor\":\"white\",\"linecolor\":\"white\",\"ticks\":\"\"}},\"title\":{\"x\":0.05},\"xaxis\":{\"automargin\":true,\"gridcolor\":\"white\",\"linecolor\":\"white\",\"ticks\":\"\",\"title\":{\"standoff\":15},\"zerolinecolor\":\"white\",\"zerolinewidth\":2},\"yaxis\":{\"automargin\":true,\"gridcolor\":\"white\",\"linecolor\":\"white\",\"ticks\":\"\",\"title\":{\"standoff\":15},\"zerolinecolor\":\"white\",\"zerolinewidth\":2}}},\"xaxis\":{\"anchor\":\"y\",\"domain\":[0.0,1.0],\"title\":{\"text\":\"Wall Temp [C]\"}},\"yaxis\":{\"anchor\":\"x\",\"domain\":[0.0,1.0],\"title\":{\"text\":\"Injector Temp [C]\"}},\"legend\":{\"tracegroupgap\":0},\"margin\":{\"t\":60}},                        {\"responsive\": true}                    ).then(function(){\n",
       "                            \n",
       "var gd = document.getElementById('73f88431-f982-41b3-bc3b-712778058699');\n",
       "var x = new MutationObserver(function (mutations, observer) {{\n",
       "        var display = window.getComputedStyle(gd).display;\n",
       "        if (!display || display === 'none') {{\n",
       "            console.log([gd, 'removed!']);\n",
       "            Plotly.purge(gd);\n",
       "            observer.disconnect();\n",
       "        }}\n",
       "}});\n",
       "\n",
       "// Listen for the removal of the full notebook cells\n",
       "var notebookContainer = gd.closest('#notebook-container');\n",
       "if (notebookContainer) {{\n",
       "    x.observe(notebookContainer, {childList: true});\n",
       "}}\n",
       "\n",
       "// Listen for the clearing of the current output cell\n",
       "var outputEl = gd.closest('.output');\n",
       "if (outputEl) {{\n",
       "    x.observe(outputEl, {childList: true});\n",
       "}}\n",
       "\n",
       "                        })                };                });            </script>        </div>"
      ]
     },
     "metadata": {},
     "output_type": "display_data"
    }
   ],
   "source": [
    "fig18inj = px.scatter(June18HeatingFilt, x=\"Wall Temp [C]\", y=\"Injector Temp [C]\", trendline=\"ols\")\n",
    "fig18inj.show()"
   ]
  },
  {
   "cell_type": "code",
   "execution_count": 83,
   "id": "4586723d",
   "metadata": {
    "collapsed": true
   },
   "outputs": [
    {
     "data": {
      "application/vnd.plotly.v1+json": {
       "config": {
        "plotlyServerURL": "https://plot.ly"
       },
       "data": [
        {
         "hovertemplate": "Wall Temp [C]=%{x}<br>Pressure Temp [C]=%{y}<extra></extra>",
         "legendgroup": "",
         "marker": {
          "color": "#636efa",
          "symbol": "circle"
         },
         "mode": "markers",
         "name": "",
         "orientation": "v",
         "showlegend": false,
         "type": "scatter",
         "x": [
          56.935774484666666,
          61.46727650933334,
          62.31811269133333,
          61.82202479066667,
          60.85544840533333,
          59.75977045533333,
          58.673587291333334,
          57.64210459466666,
          56.68772684666667,
          55.813182321999996,
          55.016317494,
          55.65392964666667,
          61.871396892,
          71.22979024266667,
          80.58819071333333,
          84.72806650866666,
          85.14921061066667,
          84.28589731866667,
          83.00301157666667,
          81.62783508333334,
          80.287793478,
          79.703616842,
          84.23167978933334,
          92.56270141666667,
          101.80110067066667,
          107.63562978,
          108.48156381333334,
          107.47003682666667,
          105.87923686666666,
          104.34830117999999,
          106.59127604666668,
          113.50078174666666,
          121.85698902666667,
          129.51670632666668,
          131.97793274,
          131.16241965333333,
          129.3625763,
          127.32605032666667,
          125.30724335333333,
          124.65008596,
          129.30344087333333,
          136.79371439333332,
          145.00312093333332,
          152.83860678000002,
          156.00712891333333,
          155.10895589333333,
          154.36778361333333,
          158.62871397333336,
          165.44292195333335,
          172.86003825333333,
          179.01117860000002,
          179.62798563333334,
          177.49405518,
          174.72851564666664,
          174.39670716666666,
          179.34639384,
          186.23562824666666,
          193.53633115333332,
          200.67081909333334,
          204.16614278666665,
          202.64888509333332,
          199.67902019333332,
          198.1860860333333,
          202.21966044,
          208.64738159333334,
          215.5792867,
          222.47864074,
          229.17128601333334,
          235.65744832000001,
          241.92031046,
          247.96418760666666,
          252.51919046,
          251.24885457333332,
          247.3866099,
          243.52226155333335,
          244.62016805333332,
          249.79031982,
          255.89308675333334,
          262.0868347066667,
          268.12266642000003,
          273.9745280133333,
          279.60542806,
          285.0778646,
          290.37296548666666,
          295.49937133333333,
          300.37825318,
          301.3224263533333,
          297.28062134,
          292.87257689333336,
          293.9388956733334,
          298.58813273333334,
          303.9475158733333,
          309.3155273333333,
          314.55785115333333,
          319.6187479733333,
          324.49163208000004,
          329.20671996666664,
          333.76493734,
          338.1774454733333,
          342.47202961333335,
          346.6205993666666,
          350.52572836666667,
          349.91291300666666,
          344.70472207999995,
          339.06710408666663,
          338.1007670066667,
          341.9188679933333,
          346.7303263333333,
          351.3944742733333,
          356.00705364,
          360.5527119866667,
          364.91309204000004,
          369.10147298666664,
          373.1117472266667,
          376.94286294666665,
          380.6869832333333,
          384.2861796133333,
          387.7961832666667,
          391.22416992,
          394.53285930000004,
          397.75081584,
          400.31269226
         ],
         "xaxis": "x",
         "y": [
          22.006181844,
          22.025152333999998,
          22.044868468,
          22.072639974,
          22.114363860666668,
          22.1691082,
          22.233525975333336,
          22.304876963333335,
          22.381868109333332,
          22.463808568,
          22.558599345333334,
          22.674366378666665,
          22.82675348933333,
          22.984261449333335,
          23.12991587266667,
          23.241066995999997,
          23.350507991333334,
          23.45718739866667,
          23.58220698066667,
          23.714967347333335,
          23.854660034666665,
          24.015789285333334,
          24.222750727333334,
          24.432209015333335,
          24.634945044000002,
          24.805317178666666,
          24.970862326,
          25.143963496666668,
          25.328359859333332,
          25.530799611333336,
          25.775837452666668,
          26.033703993333333,
          26.292346700666666,
          26.536335881333333,
          26.751096854000004,
          26.976208878,
          27.216959507333335,
          27.467554346,
          27.724804052,
          28.008148956666666,
          28.316171264666664,
          28.618165716,
          28.914812470666668,
          29.204673131333333,
          29.462532425333332,
          29.7361173,
          30.052873738000002,
          30.396830240666667,
          30.717432785333333,
          31.06374092133333,
          31.387298839333333,
          31.689620717333334,
          32.02949129866667,
          32.38381423933333,
          32.778474171999996,
          33.180618794666664,
          33.58455352866667,
          33.99192860866667,
          34.401527914,
          34.73995361266667,
          35.021127066,
          35.392825826,
          35.80993576,
          36.267513019333336,
          36.72173385666667,
          37.16786321,
          37.60171432533333,
          38.02871983866667,
          38.471943155999995,
          38.943038432,
          39.388651276000004,
          39.83951721266667,
          40.28276011,
          40.770377604000004,
          41.27805023266667,
          41.805820464,
          42.343094380000004,
          42.870814513333336,
          43.40898768266666,
          43.89461466533333,
          44.432470957999996,
          44.94615020733333,
          45.477212015999996,
          45.99922129266667,
          46.49501571733333,
          47.00701268466666,
          47.49514211133333,
          47.995996092666665,
          48.547277578,
          49.11352589933333,
          49.68567174333334,
          50.258000692,
          50.84225947066667,
          51.453640492666665,
          52.06412124733333,
          52.66756464666666,
          53.281224314000006,
          53.93128026266666,
          54.548590088666664,
          55.12499847466667,
          55.71648559533333,
          56.33471883133333,
          56.871560414,
          57.38585306866666,
          57.94830627333333,
          58.554792277333334,
          59.15013402266666,
          59.069855244,
          59.25830128933333,
          60.437678782666666,
          61.07376861533333,
          61.69908548866667,
          62.320509337333334,
          62.97730585866667,
          63.50314254733333,
          64.099310556,
          64.77061614866666,
          65.24723968466667,
          65.83059794133334,
          66.44491373733334,
          67.02480723066667,
          67.362305451
         ],
         "yaxis": "y"
        },
        {
         "hovertemplate": "<b>OLS trendline</b><br>Pressure Temp [C] = 0.128791 * Wall Temp [C] + 11.5242<br>R<sup>2</sup>=0.971724<br><br>Wall Temp [C]=%{x}<br>Pressure Temp [C]=%{y} <b>(trend)</b><extra></extra>",
         "legendgroup": "",
         "marker": {
          "color": "#636efa",
          "symbol": "circle"
         },
         "mode": "lines",
         "name": "",
         "showlegend": false,
         "type": "scatter",
         "x": [
          55.016317494,
          55.65392964666667,
          55.813182321999996,
          56.68772684666667,
          56.935774484666666,
          57.64210459466666,
          58.673587291333334,
          59.75977045533333,
          60.85544840533333,
          61.46727650933334,
          61.82202479066667,
          61.871396892,
          62.31811269133333,
          71.22979024266667,
          79.703616842,
          80.287793478,
          80.58819071333333,
          81.62783508333334,
          83.00301157666667,
          84.23167978933334,
          84.28589731866667,
          84.72806650866666,
          85.14921061066667,
          92.56270141666667,
          101.80110067066667,
          104.34830117999999,
          105.87923686666666,
          106.59127604666668,
          107.47003682666667,
          107.63562978,
          108.48156381333334,
          113.50078174666666,
          121.85698902666667,
          124.65008596,
          125.30724335333333,
          127.32605032666667,
          129.30344087333333,
          129.3625763,
          129.51670632666668,
          131.16241965333333,
          131.97793274,
          136.79371439333332,
          145.00312093333332,
          152.83860678000002,
          154.36778361333333,
          155.10895589333333,
          156.00712891333333,
          158.62871397333336,
          165.44292195333335,
          172.86003825333333,
          174.39670716666666,
          174.72851564666664,
          177.49405518,
          179.01117860000002,
          179.34639384,
          179.62798563333334,
          186.23562824666666,
          193.53633115333332,
          198.1860860333333,
          199.67902019333332,
          200.67081909333334,
          202.21966044,
          202.64888509333332,
          204.16614278666665,
          208.64738159333334,
          215.5792867,
          222.47864074,
          229.17128601333334,
          235.65744832000001,
          241.92031046,
          243.52226155333335,
          244.62016805333332,
          247.3866099,
          247.96418760666666,
          249.79031982,
          251.24885457333332,
          252.51919046,
          255.89308675333334,
          262.0868347066667,
          268.12266642000003,
          273.9745280133333,
          279.60542806,
          285.0778646,
          290.37296548666666,
          292.87257689333336,
          293.9388956733334,
          295.49937133333333,
          297.28062134,
          298.58813273333334,
          300.37825318,
          301.3224263533333,
          303.9475158733333,
          309.3155273333333,
          314.55785115333333,
          319.6187479733333,
          324.49163208000004,
          329.20671996666664,
          333.76493734,
          338.1007670066667,
          338.1774454733333,
          339.06710408666663,
          341.9188679933333,
          342.47202961333335,
          344.70472207999995,
          346.6205993666666,
          346.7303263333333,
          349.91291300666666,
          350.52572836666667,
          351.3944742733333,
          356.00705364,
          360.5527119866667,
          364.91309204000004,
          369.10147298666664,
          373.1117472266667,
          376.94286294666665,
          380.6869832333333,
          384.2861796133333,
          387.7961832666667,
          391.22416992,
          394.53285930000004,
          397.75081584,
          400.31269226
         ],
         "xaxis": "x",
         "y": [
          18.609810771413954,
          18.691929778649637,
          18.71244016500803,
          18.825074041022894,
          18.85702046126367,
          18.947989755326343,
          19.08083592941006,
          19.22072705716029,
          19.361841032368762,
          19.440639274041608,
          19.48632782712175,
          19.492686532691707,
          19.550219717723273,
          20.69796778096099,
          21.7893243758977,
          21.8645613443243,
          21.903249946225547,
          22.037147274225816,
          22.214258278045428,
          22.3725002648461,
          22.379483020217062,
          22.43643064074334,
          22.490670409252715,
          23.445464797335575,
          24.635291829352553,
          24.963349530545752,
          25.160520990037156,
          25.252225563624663,
          25.365402457367118,
          25.38672941745733,
          25.49567850619988,
          26.142110968412275,
          27.218319198163357,
          27.578046261581278,
          27.662682529118563,
          27.92268764940565,
          28.177358687167967,
          28.184974825772002,
          28.204825458671863,
          28.416779299286702,
          28.521810429550907,
          29.142042033954286,
          30.1993435804186,
          31.20848733065367,
          31.40543226483654,
          31.500888933235434,
          31.616565957927953,
          31.954203754840588,
          32.831815626061605,
          33.787076946850775,
          33.98498679703965,
          34.02772089935564,
          34.38389880468344,
          34.57929136202941,
          34.62246422597803,
          34.658730847336386,
          35.50973886107289,
          36.4500071296602,
          37.048855901657305,
          37.24113308861915,
          37.368868328144956,
          37.568345883931656,
          37.623626358535844,
          37.819036209141956,
          38.396181548123366,
          39.28895180545095,
          40.17752976301143,
          41.039485394390404,
          41.8748477807021,
          42.68145101001601,
          42.8877686482142,
          43.02916964165595,
          43.38546375724549,
          43.4598508398545,
          43.69504109432637,
          43.88288793109312,
          44.04649635893227,
          44.4810254264319,
          45.27872733796002,
          46.05609098460259,
          46.80976084882232,
          47.53497275035481,
          48.23977590372256,
          48.92173973739051,
          49.2436683680353,
          49.38100113254448,
          49.581977088662484,
          49.811386897704324,
          49.97978321374194,
          50.21033545980211,
          50.331936911920636,
          50.67002605339265,
          51.361380147070676,
          52.036546744673814,
          52.68834709202051,
          53.315933005401305,
          53.92319611144889,
          54.510255633286846,
          55.0686735151929,
          55.07854904772891,
          55.19312948945992,
          55.56041235868787,
          55.631654857572656,
          55.91920660522746,
          56.16595525973234,
          56.180087157206316,
          56.589977177279806,
          56.66890256910541,
          56.78078963257677,
          57.3748505155168,
          57.96029254183276,
          58.52187230415764,
          59.06130004847937,
          59.57778916800811,
          60.07120419815713,
          60.553414958454184,
          61.01696075559079,
          61.46901929023424,
          61.9105147347793,
          62.336645707974355,
          62.75109106521414,
          63.08103889853419
         ],
         "yaxis": "y"
        }
       ],
       "layout": {
        "legend": {
         "tracegroupgap": 0
        },
        "margin": {
         "t": 60
        },
        "template": {
         "data": {
          "bar": [
           {
            "error_x": {
             "color": "#2a3f5f"
            },
            "error_y": {
             "color": "#2a3f5f"
            },
            "marker": {
             "line": {
              "color": "#E5ECF6",
              "width": 0.5
             },
             "pattern": {
              "fillmode": "overlay",
              "size": 10,
              "solidity": 0.2
             }
            },
            "type": "bar"
           }
          ],
          "barpolar": [
           {
            "marker": {
             "line": {
              "color": "#E5ECF6",
              "width": 0.5
             },
             "pattern": {
              "fillmode": "overlay",
              "size": 10,
              "solidity": 0.2
             }
            },
            "type": "barpolar"
           }
          ],
          "carpet": [
           {
            "aaxis": {
             "endlinecolor": "#2a3f5f",
             "gridcolor": "white",
             "linecolor": "white",
             "minorgridcolor": "white",
             "startlinecolor": "#2a3f5f"
            },
            "baxis": {
             "endlinecolor": "#2a3f5f",
             "gridcolor": "white",
             "linecolor": "white",
             "minorgridcolor": "white",
             "startlinecolor": "#2a3f5f"
            },
            "type": "carpet"
           }
          ],
          "choropleth": [
           {
            "colorbar": {
             "outlinewidth": 0,
             "ticks": ""
            },
            "type": "choropleth"
           }
          ],
          "contour": [
           {
            "colorbar": {
             "outlinewidth": 0,
             "ticks": ""
            },
            "colorscale": [
             [
              0,
              "#0d0887"
             ],
             [
              0.1111111111111111,
              "#46039f"
             ],
             [
              0.2222222222222222,
              "#7201a8"
             ],
             [
              0.3333333333333333,
              "#9c179e"
             ],
             [
              0.4444444444444444,
              "#bd3786"
             ],
             [
              0.5555555555555556,
              "#d8576b"
             ],
             [
              0.6666666666666666,
              "#ed7953"
             ],
             [
              0.7777777777777778,
              "#fb9f3a"
             ],
             [
              0.8888888888888888,
              "#fdca26"
             ],
             [
              1,
              "#f0f921"
             ]
            ],
            "type": "contour"
           }
          ],
          "contourcarpet": [
           {
            "colorbar": {
             "outlinewidth": 0,
             "ticks": ""
            },
            "type": "contourcarpet"
           }
          ],
          "heatmap": [
           {
            "colorbar": {
             "outlinewidth": 0,
             "ticks": ""
            },
            "colorscale": [
             [
              0,
              "#0d0887"
             ],
             [
              0.1111111111111111,
              "#46039f"
             ],
             [
              0.2222222222222222,
              "#7201a8"
             ],
             [
              0.3333333333333333,
              "#9c179e"
             ],
             [
              0.4444444444444444,
              "#bd3786"
             ],
             [
              0.5555555555555556,
              "#d8576b"
             ],
             [
              0.6666666666666666,
              "#ed7953"
             ],
             [
              0.7777777777777778,
              "#fb9f3a"
             ],
             [
              0.8888888888888888,
              "#fdca26"
             ],
             [
              1,
              "#f0f921"
             ]
            ],
            "type": "heatmap"
           }
          ],
          "heatmapgl": [
           {
            "colorbar": {
             "outlinewidth": 0,
             "ticks": ""
            },
            "colorscale": [
             [
              0,
              "#0d0887"
             ],
             [
              0.1111111111111111,
              "#46039f"
             ],
             [
              0.2222222222222222,
              "#7201a8"
             ],
             [
              0.3333333333333333,
              "#9c179e"
             ],
             [
              0.4444444444444444,
              "#bd3786"
             ],
             [
              0.5555555555555556,
              "#d8576b"
             ],
             [
              0.6666666666666666,
              "#ed7953"
             ],
             [
              0.7777777777777778,
              "#fb9f3a"
             ],
             [
              0.8888888888888888,
              "#fdca26"
             ],
             [
              1,
              "#f0f921"
             ]
            ],
            "type": "heatmapgl"
           }
          ],
          "histogram": [
           {
            "marker": {
             "pattern": {
              "fillmode": "overlay",
              "size": 10,
              "solidity": 0.2
             }
            },
            "type": "histogram"
           }
          ],
          "histogram2d": [
           {
            "colorbar": {
             "outlinewidth": 0,
             "ticks": ""
            },
            "colorscale": [
             [
              0,
              "#0d0887"
             ],
             [
              0.1111111111111111,
              "#46039f"
             ],
             [
              0.2222222222222222,
              "#7201a8"
             ],
             [
              0.3333333333333333,
              "#9c179e"
             ],
             [
              0.4444444444444444,
              "#bd3786"
             ],
             [
              0.5555555555555556,
              "#d8576b"
             ],
             [
              0.6666666666666666,
              "#ed7953"
             ],
             [
              0.7777777777777778,
              "#fb9f3a"
             ],
             [
              0.8888888888888888,
              "#fdca26"
             ],
             [
              1,
              "#f0f921"
             ]
            ],
            "type": "histogram2d"
           }
          ],
          "histogram2dcontour": [
           {
            "colorbar": {
             "outlinewidth": 0,
             "ticks": ""
            },
            "colorscale": [
             [
              0,
              "#0d0887"
             ],
             [
              0.1111111111111111,
              "#46039f"
             ],
             [
              0.2222222222222222,
              "#7201a8"
             ],
             [
              0.3333333333333333,
              "#9c179e"
             ],
             [
              0.4444444444444444,
              "#bd3786"
             ],
             [
              0.5555555555555556,
              "#d8576b"
             ],
             [
              0.6666666666666666,
              "#ed7953"
             ],
             [
              0.7777777777777778,
              "#fb9f3a"
             ],
             [
              0.8888888888888888,
              "#fdca26"
             ],
             [
              1,
              "#f0f921"
             ]
            ],
            "type": "histogram2dcontour"
           }
          ],
          "mesh3d": [
           {
            "colorbar": {
             "outlinewidth": 0,
             "ticks": ""
            },
            "type": "mesh3d"
           }
          ],
          "parcoords": [
           {
            "line": {
             "colorbar": {
              "outlinewidth": 0,
              "ticks": ""
             }
            },
            "type": "parcoords"
           }
          ],
          "pie": [
           {
            "automargin": true,
            "type": "pie"
           }
          ],
          "scatter": [
           {
            "marker": {
             "colorbar": {
              "outlinewidth": 0,
              "ticks": ""
             }
            },
            "type": "scatter"
           }
          ],
          "scatter3d": [
           {
            "line": {
             "colorbar": {
              "outlinewidth": 0,
              "ticks": ""
             }
            },
            "marker": {
             "colorbar": {
              "outlinewidth": 0,
              "ticks": ""
             }
            },
            "type": "scatter3d"
           }
          ],
          "scattercarpet": [
           {
            "marker": {
             "colorbar": {
              "outlinewidth": 0,
              "ticks": ""
             }
            },
            "type": "scattercarpet"
           }
          ],
          "scattergeo": [
           {
            "marker": {
             "colorbar": {
              "outlinewidth": 0,
              "ticks": ""
             }
            },
            "type": "scattergeo"
           }
          ],
          "scattergl": [
           {
            "marker": {
             "colorbar": {
              "outlinewidth": 0,
              "ticks": ""
             }
            },
            "type": "scattergl"
           }
          ],
          "scattermapbox": [
           {
            "marker": {
             "colorbar": {
              "outlinewidth": 0,
              "ticks": ""
             }
            },
            "type": "scattermapbox"
           }
          ],
          "scatterpolar": [
           {
            "marker": {
             "colorbar": {
              "outlinewidth": 0,
              "ticks": ""
             }
            },
            "type": "scatterpolar"
           }
          ],
          "scatterpolargl": [
           {
            "marker": {
             "colorbar": {
              "outlinewidth": 0,
              "ticks": ""
             }
            },
            "type": "scatterpolargl"
           }
          ],
          "scatterternary": [
           {
            "marker": {
             "colorbar": {
              "outlinewidth": 0,
              "ticks": ""
             }
            },
            "type": "scatterternary"
           }
          ],
          "surface": [
           {
            "colorbar": {
             "outlinewidth": 0,
             "ticks": ""
            },
            "colorscale": [
             [
              0,
              "#0d0887"
             ],
             [
              0.1111111111111111,
              "#46039f"
             ],
             [
              0.2222222222222222,
              "#7201a8"
             ],
             [
              0.3333333333333333,
              "#9c179e"
             ],
             [
              0.4444444444444444,
              "#bd3786"
             ],
             [
              0.5555555555555556,
              "#d8576b"
             ],
             [
              0.6666666666666666,
              "#ed7953"
             ],
             [
              0.7777777777777778,
              "#fb9f3a"
             ],
             [
              0.8888888888888888,
              "#fdca26"
             ],
             [
              1,
              "#f0f921"
             ]
            ],
            "type": "surface"
           }
          ],
          "table": [
           {
            "cells": {
             "fill": {
              "color": "#EBF0F8"
             },
             "line": {
              "color": "white"
             }
            },
            "header": {
             "fill": {
              "color": "#C8D4E3"
             },
             "line": {
              "color": "white"
             }
            },
            "type": "table"
           }
          ]
         },
         "layout": {
          "annotationdefaults": {
           "arrowcolor": "#2a3f5f",
           "arrowhead": 0,
           "arrowwidth": 1
          },
          "autotypenumbers": "strict",
          "coloraxis": {
           "colorbar": {
            "outlinewidth": 0,
            "ticks": ""
           }
          },
          "colorscale": {
           "diverging": [
            [
             0,
             "#8e0152"
            ],
            [
             0.1,
             "#c51b7d"
            ],
            [
             0.2,
             "#de77ae"
            ],
            [
             0.3,
             "#f1b6da"
            ],
            [
             0.4,
             "#fde0ef"
            ],
            [
             0.5,
             "#f7f7f7"
            ],
            [
             0.6,
             "#e6f5d0"
            ],
            [
             0.7,
             "#b8e186"
            ],
            [
             0.8,
             "#7fbc41"
            ],
            [
             0.9,
             "#4d9221"
            ],
            [
             1,
             "#276419"
            ]
           ],
           "sequential": [
            [
             0,
             "#0d0887"
            ],
            [
             0.1111111111111111,
             "#46039f"
            ],
            [
             0.2222222222222222,
             "#7201a8"
            ],
            [
             0.3333333333333333,
             "#9c179e"
            ],
            [
             0.4444444444444444,
             "#bd3786"
            ],
            [
             0.5555555555555556,
             "#d8576b"
            ],
            [
             0.6666666666666666,
             "#ed7953"
            ],
            [
             0.7777777777777778,
             "#fb9f3a"
            ],
            [
             0.8888888888888888,
             "#fdca26"
            ],
            [
             1,
             "#f0f921"
            ]
           ],
           "sequentialminus": [
            [
             0,
             "#0d0887"
            ],
            [
             0.1111111111111111,
             "#46039f"
            ],
            [
             0.2222222222222222,
             "#7201a8"
            ],
            [
             0.3333333333333333,
             "#9c179e"
            ],
            [
             0.4444444444444444,
             "#bd3786"
            ],
            [
             0.5555555555555556,
             "#d8576b"
            ],
            [
             0.6666666666666666,
             "#ed7953"
            ],
            [
             0.7777777777777778,
             "#fb9f3a"
            ],
            [
             0.8888888888888888,
             "#fdca26"
            ],
            [
             1,
             "#f0f921"
            ]
           ]
          },
          "colorway": [
           "#636efa",
           "#EF553B",
           "#00cc96",
           "#ab63fa",
           "#FFA15A",
           "#19d3f3",
           "#FF6692",
           "#B6E880",
           "#FF97FF",
           "#FECB52"
          ],
          "font": {
           "color": "#2a3f5f"
          },
          "geo": {
           "bgcolor": "white",
           "lakecolor": "white",
           "landcolor": "#E5ECF6",
           "showlakes": true,
           "showland": true,
           "subunitcolor": "white"
          },
          "hoverlabel": {
           "align": "left"
          },
          "hovermode": "closest",
          "mapbox": {
           "style": "light"
          },
          "paper_bgcolor": "white",
          "plot_bgcolor": "#E5ECF6",
          "polar": {
           "angularaxis": {
            "gridcolor": "white",
            "linecolor": "white",
            "ticks": ""
           },
           "bgcolor": "#E5ECF6",
           "radialaxis": {
            "gridcolor": "white",
            "linecolor": "white",
            "ticks": ""
           }
          },
          "scene": {
           "xaxis": {
            "backgroundcolor": "#E5ECF6",
            "gridcolor": "white",
            "gridwidth": 2,
            "linecolor": "white",
            "showbackground": true,
            "ticks": "",
            "zerolinecolor": "white"
           },
           "yaxis": {
            "backgroundcolor": "#E5ECF6",
            "gridcolor": "white",
            "gridwidth": 2,
            "linecolor": "white",
            "showbackground": true,
            "ticks": "",
            "zerolinecolor": "white"
           },
           "zaxis": {
            "backgroundcolor": "#E5ECF6",
            "gridcolor": "white",
            "gridwidth": 2,
            "linecolor": "white",
            "showbackground": true,
            "ticks": "",
            "zerolinecolor": "white"
           }
          },
          "shapedefaults": {
           "line": {
            "color": "#2a3f5f"
           }
          },
          "ternary": {
           "aaxis": {
            "gridcolor": "white",
            "linecolor": "white",
            "ticks": ""
           },
           "baxis": {
            "gridcolor": "white",
            "linecolor": "white",
            "ticks": ""
           },
           "bgcolor": "#E5ECF6",
           "caxis": {
            "gridcolor": "white",
            "linecolor": "white",
            "ticks": ""
           }
          },
          "title": {
           "x": 0.05
          },
          "xaxis": {
           "automargin": true,
           "gridcolor": "white",
           "linecolor": "white",
           "ticks": "",
           "title": {
            "standoff": 15
           },
           "zerolinecolor": "white",
           "zerolinewidth": 2
          },
          "yaxis": {
           "automargin": true,
           "gridcolor": "white",
           "linecolor": "white",
           "ticks": "",
           "title": {
            "standoff": 15
           },
           "zerolinecolor": "white",
           "zerolinewidth": 2
          }
         }
        },
        "xaxis": {
         "anchor": "y",
         "domain": [
          0,
          1
         ],
         "title": {
          "text": "Wall Temp [C]"
         }
        },
        "yaxis": {
         "anchor": "x",
         "domain": [
          0,
          1
         ],
         "title": {
          "text": "Pressure Temp [C]"
         }
        }
       }
      },
      "text/html": [
       "<div>                            <div id=\"2dcf229e-2c12-4155-a94c-27eca162cdf4\" class=\"plotly-graph-div\" style=\"height:525px; width:100%;\"></div>            <script type=\"text/javascript\">                require([\"plotly\"], function(Plotly) {                    window.PLOTLYENV=window.PLOTLYENV || {};                                    if (document.getElementById(\"2dcf229e-2c12-4155-a94c-27eca162cdf4\")) {                    Plotly.newPlot(                        \"2dcf229e-2c12-4155-a94c-27eca162cdf4\",                        [{\"hovertemplate\":\"Wall Temp [C]=%{x}<br>Pressure Temp [C]=%{y}<extra></extra>\",\"legendgroup\":\"\",\"marker\":{\"color\":\"#636efa\",\"symbol\":\"circle\"},\"mode\":\"markers\",\"name\":\"\",\"orientation\":\"v\",\"showlegend\":false,\"x\":[56.935774484666666,61.46727650933334,62.31811269133333,61.82202479066667,60.85544840533333,59.75977045533333,58.673587291333334,57.64210459466666,56.68772684666667,55.813182321999996,55.016317494,55.65392964666667,61.871396892,71.22979024266667,80.58819071333333,84.72806650866666,85.14921061066667,84.28589731866667,83.00301157666667,81.62783508333334,80.287793478,79.703616842,84.23167978933334,92.56270141666667,101.80110067066667,107.63562978,108.48156381333334,107.47003682666667,105.87923686666666,104.34830117999999,106.59127604666668,113.50078174666666,121.85698902666667,129.51670632666668,131.97793274,131.16241965333333,129.3625763,127.32605032666667,125.30724335333333,124.65008596,129.30344087333333,136.79371439333332,145.00312093333332,152.83860678000002,156.00712891333333,155.10895589333333,154.36778361333333,158.62871397333336,165.44292195333335,172.86003825333333,179.01117860000002,179.62798563333334,177.49405518,174.72851564666664,174.39670716666666,179.34639384,186.23562824666666,193.53633115333332,200.67081909333334,204.16614278666665,202.64888509333332,199.67902019333332,198.1860860333333,202.21966044,208.64738159333334,215.5792867,222.47864074,229.17128601333334,235.65744832000001,241.92031046,247.96418760666666,252.51919046,251.24885457333332,247.3866099,243.52226155333335,244.62016805333332,249.79031982,255.89308675333334,262.0868347066667,268.12266642000003,273.9745280133333,279.60542806,285.0778646,290.37296548666666,295.49937133333333,300.37825318,301.3224263533333,297.28062134,292.87257689333336,293.9388956733334,298.58813273333334,303.9475158733333,309.3155273333333,314.55785115333333,319.6187479733333,324.49163208000004,329.20671996666664,333.76493734,338.1774454733333,342.47202961333335,346.6205993666666,350.52572836666667,349.91291300666666,344.70472207999995,339.06710408666663,338.1007670066667,341.9188679933333,346.7303263333333,351.3944742733333,356.00705364,360.5527119866667,364.91309204000004,369.10147298666664,373.1117472266667,376.94286294666665,380.6869832333333,384.2861796133333,387.7961832666667,391.22416992,394.53285930000004,397.75081584,400.31269226],\"xaxis\":\"x\",\"y\":[22.006181844,22.025152333999998,22.044868468,22.072639974,22.114363860666668,22.1691082,22.233525975333336,22.304876963333335,22.381868109333332,22.463808568,22.558599345333334,22.674366378666665,22.82675348933333,22.984261449333335,23.12991587266667,23.241066995999997,23.350507991333334,23.45718739866667,23.58220698066667,23.714967347333335,23.854660034666665,24.015789285333334,24.222750727333334,24.432209015333335,24.634945044000002,24.805317178666666,24.970862326,25.143963496666668,25.328359859333332,25.530799611333336,25.775837452666668,26.033703993333333,26.292346700666666,26.536335881333333,26.751096854000004,26.976208878,27.216959507333335,27.467554346,27.724804052,28.008148956666666,28.316171264666664,28.618165716,28.914812470666668,29.204673131333333,29.462532425333332,29.7361173,30.052873738000002,30.396830240666667,30.717432785333333,31.06374092133333,31.387298839333333,31.689620717333334,32.02949129866667,32.38381423933333,32.778474171999996,33.180618794666664,33.58455352866667,33.99192860866667,34.401527914,34.73995361266667,35.021127066,35.392825826,35.80993576,36.267513019333336,36.72173385666667,37.16786321,37.60171432533333,38.02871983866667,38.471943155999995,38.943038432,39.388651276000004,39.83951721266667,40.28276011,40.770377604000004,41.27805023266667,41.805820464,42.343094380000004,42.870814513333336,43.40898768266666,43.89461466533333,44.432470957999996,44.94615020733333,45.477212015999996,45.99922129266667,46.49501571733333,47.00701268466666,47.49514211133333,47.995996092666665,48.547277578,49.11352589933333,49.68567174333334,50.258000692,50.84225947066667,51.453640492666665,52.06412124733333,52.66756464666666,53.281224314000006,53.93128026266666,54.548590088666664,55.12499847466667,55.71648559533333,56.33471883133333,56.871560414,57.38585306866666,57.94830627333333,58.554792277333334,59.15013402266666,59.069855244,59.25830128933333,60.437678782666666,61.07376861533333,61.69908548866667,62.320509337333334,62.97730585866667,63.50314254733333,64.099310556,64.77061614866666,65.24723968466667,65.83059794133334,66.44491373733334,67.02480723066667,67.362305451],\"yaxis\":\"y\",\"type\":\"scatter\"},{\"hovertemplate\":\"<b>OLS trendline</b><br>Pressure Temp [C] = 0.128791 * Wall Temp [C] + 11.5242<br>R<sup>2</sup>=0.971724<br><br>Wall Temp [C]=%{x}<br>Pressure Temp [C]=%{y} <b>(trend)</b><extra></extra>\",\"legendgroup\":\"\",\"marker\":{\"color\":\"#636efa\",\"symbol\":\"circle\"},\"mode\":\"lines\",\"name\":\"\",\"showlegend\":false,\"x\":[55.016317494,55.65392964666667,55.813182321999996,56.68772684666667,56.935774484666666,57.64210459466666,58.673587291333334,59.75977045533333,60.85544840533333,61.46727650933334,61.82202479066667,61.871396892,62.31811269133333,71.22979024266667,79.703616842,80.287793478,80.58819071333333,81.62783508333334,83.00301157666667,84.23167978933334,84.28589731866667,84.72806650866666,85.14921061066667,92.56270141666667,101.80110067066667,104.34830117999999,105.87923686666666,106.59127604666668,107.47003682666667,107.63562978,108.48156381333334,113.50078174666666,121.85698902666667,124.65008596,125.30724335333333,127.32605032666667,129.30344087333333,129.3625763,129.51670632666668,131.16241965333333,131.97793274,136.79371439333332,145.00312093333332,152.83860678000002,154.36778361333333,155.10895589333333,156.00712891333333,158.62871397333336,165.44292195333335,172.86003825333333,174.39670716666666,174.72851564666664,177.49405518,179.01117860000002,179.34639384,179.62798563333334,186.23562824666666,193.53633115333332,198.1860860333333,199.67902019333332,200.67081909333334,202.21966044,202.64888509333332,204.16614278666665,208.64738159333334,215.5792867,222.47864074,229.17128601333334,235.65744832000001,241.92031046,243.52226155333335,244.62016805333332,247.3866099,247.96418760666666,249.79031982,251.24885457333332,252.51919046,255.89308675333334,262.0868347066667,268.12266642000003,273.9745280133333,279.60542806,285.0778646,290.37296548666666,292.87257689333336,293.9388956733334,295.49937133333333,297.28062134,298.58813273333334,300.37825318,301.3224263533333,303.9475158733333,309.3155273333333,314.55785115333333,319.6187479733333,324.49163208000004,329.20671996666664,333.76493734,338.1007670066667,338.1774454733333,339.06710408666663,341.9188679933333,342.47202961333335,344.70472207999995,346.6205993666666,346.7303263333333,349.91291300666666,350.52572836666667,351.3944742733333,356.00705364,360.5527119866667,364.91309204000004,369.10147298666664,373.1117472266667,376.94286294666665,380.6869832333333,384.2861796133333,387.7961832666667,391.22416992,394.53285930000004,397.75081584,400.31269226],\"xaxis\":\"x\",\"y\":[18.609810771413954,18.691929778649637,18.71244016500803,18.825074041022894,18.85702046126367,18.947989755326343,19.08083592941006,19.22072705716029,19.361841032368762,19.440639274041608,19.48632782712175,19.492686532691707,19.550219717723273,20.69796778096099,21.7893243758977,21.8645613443243,21.903249946225547,22.037147274225816,22.214258278045428,22.3725002648461,22.379483020217062,22.43643064074334,22.490670409252715,23.445464797335575,24.635291829352553,24.963349530545752,25.160520990037156,25.252225563624663,25.365402457367118,25.38672941745733,25.49567850619988,26.142110968412275,27.218319198163357,27.578046261581278,27.662682529118563,27.92268764940565,28.177358687167967,28.184974825772002,28.204825458671863,28.416779299286702,28.521810429550907,29.142042033954286,30.1993435804186,31.20848733065367,31.40543226483654,31.500888933235434,31.616565957927953,31.954203754840588,32.831815626061605,33.787076946850775,33.98498679703965,34.02772089935564,34.38389880468344,34.57929136202941,34.62246422597803,34.658730847336386,35.50973886107289,36.4500071296602,37.048855901657305,37.24113308861915,37.368868328144956,37.568345883931656,37.623626358535844,37.819036209141956,38.396181548123366,39.28895180545095,40.17752976301143,41.039485394390404,41.8748477807021,42.68145101001601,42.8877686482142,43.02916964165595,43.38546375724549,43.4598508398545,43.69504109432637,43.88288793109312,44.04649635893227,44.4810254264319,45.27872733796002,46.05609098460259,46.80976084882232,47.53497275035481,48.23977590372256,48.92173973739051,49.2436683680353,49.38100113254448,49.581977088662484,49.811386897704324,49.97978321374194,50.21033545980211,50.331936911920636,50.67002605339265,51.361380147070676,52.036546744673814,52.68834709202051,53.315933005401305,53.92319611144889,54.510255633286846,55.0686735151929,55.07854904772891,55.19312948945992,55.56041235868787,55.631654857572656,55.91920660522746,56.16595525973234,56.180087157206316,56.589977177279806,56.66890256910541,56.78078963257677,57.3748505155168,57.96029254183276,58.52187230415764,59.06130004847937,59.57778916800811,60.07120419815713,60.553414958454184,61.01696075559079,61.46901929023424,61.9105147347793,62.336645707974355,62.75109106521414,63.08103889853419],\"yaxis\":\"y\",\"type\":\"scatter\"}],                        {\"template\":{\"data\":{\"bar\":[{\"error_x\":{\"color\":\"#2a3f5f\"},\"error_y\":{\"color\":\"#2a3f5f\"},\"marker\":{\"line\":{\"color\":\"#E5ECF6\",\"width\":0.5},\"pattern\":{\"fillmode\":\"overlay\",\"size\":10,\"solidity\":0.2}},\"type\":\"bar\"}],\"barpolar\":[{\"marker\":{\"line\":{\"color\":\"#E5ECF6\",\"width\":0.5},\"pattern\":{\"fillmode\":\"overlay\",\"size\":10,\"solidity\":0.2}},\"type\":\"barpolar\"}],\"carpet\":[{\"aaxis\":{\"endlinecolor\":\"#2a3f5f\",\"gridcolor\":\"white\",\"linecolor\":\"white\",\"minorgridcolor\":\"white\",\"startlinecolor\":\"#2a3f5f\"},\"baxis\":{\"endlinecolor\":\"#2a3f5f\",\"gridcolor\":\"white\",\"linecolor\":\"white\",\"minorgridcolor\":\"white\",\"startlinecolor\":\"#2a3f5f\"},\"type\":\"carpet\"}],\"choropleth\":[{\"colorbar\":{\"outlinewidth\":0,\"ticks\":\"\"},\"type\":\"choropleth\"}],\"contour\":[{\"colorbar\":{\"outlinewidth\":0,\"ticks\":\"\"},\"colorscale\":[[0.0,\"#0d0887\"],[0.1111111111111111,\"#46039f\"],[0.2222222222222222,\"#7201a8\"],[0.3333333333333333,\"#9c179e\"],[0.4444444444444444,\"#bd3786\"],[0.5555555555555556,\"#d8576b\"],[0.6666666666666666,\"#ed7953\"],[0.7777777777777778,\"#fb9f3a\"],[0.8888888888888888,\"#fdca26\"],[1.0,\"#f0f921\"]],\"type\":\"contour\"}],\"contourcarpet\":[{\"colorbar\":{\"outlinewidth\":0,\"ticks\":\"\"},\"type\":\"contourcarpet\"}],\"heatmap\":[{\"colorbar\":{\"outlinewidth\":0,\"ticks\":\"\"},\"colorscale\":[[0.0,\"#0d0887\"],[0.1111111111111111,\"#46039f\"],[0.2222222222222222,\"#7201a8\"],[0.3333333333333333,\"#9c179e\"],[0.4444444444444444,\"#bd3786\"],[0.5555555555555556,\"#d8576b\"],[0.6666666666666666,\"#ed7953\"],[0.7777777777777778,\"#fb9f3a\"],[0.8888888888888888,\"#fdca26\"],[1.0,\"#f0f921\"]],\"type\":\"heatmap\"}],\"heatmapgl\":[{\"colorbar\":{\"outlinewidth\":0,\"ticks\":\"\"},\"colorscale\":[[0.0,\"#0d0887\"],[0.1111111111111111,\"#46039f\"],[0.2222222222222222,\"#7201a8\"],[0.3333333333333333,\"#9c179e\"],[0.4444444444444444,\"#bd3786\"],[0.5555555555555556,\"#d8576b\"],[0.6666666666666666,\"#ed7953\"],[0.7777777777777778,\"#fb9f3a\"],[0.8888888888888888,\"#fdca26\"],[1.0,\"#f0f921\"]],\"type\":\"heatmapgl\"}],\"histogram\":[{\"marker\":{\"pattern\":{\"fillmode\":\"overlay\",\"size\":10,\"solidity\":0.2}},\"type\":\"histogram\"}],\"histogram2d\":[{\"colorbar\":{\"outlinewidth\":0,\"ticks\":\"\"},\"colorscale\":[[0.0,\"#0d0887\"],[0.1111111111111111,\"#46039f\"],[0.2222222222222222,\"#7201a8\"],[0.3333333333333333,\"#9c179e\"],[0.4444444444444444,\"#bd3786\"],[0.5555555555555556,\"#d8576b\"],[0.6666666666666666,\"#ed7953\"],[0.7777777777777778,\"#fb9f3a\"],[0.8888888888888888,\"#fdca26\"],[1.0,\"#f0f921\"]],\"type\":\"histogram2d\"}],\"histogram2dcontour\":[{\"colorbar\":{\"outlinewidth\":0,\"ticks\":\"\"},\"colorscale\":[[0.0,\"#0d0887\"],[0.1111111111111111,\"#46039f\"],[0.2222222222222222,\"#7201a8\"],[0.3333333333333333,\"#9c179e\"],[0.4444444444444444,\"#bd3786\"],[0.5555555555555556,\"#d8576b\"],[0.6666666666666666,\"#ed7953\"],[0.7777777777777778,\"#fb9f3a\"],[0.8888888888888888,\"#fdca26\"],[1.0,\"#f0f921\"]],\"type\":\"histogram2dcontour\"}],\"mesh3d\":[{\"colorbar\":{\"outlinewidth\":0,\"ticks\":\"\"},\"type\":\"mesh3d\"}],\"parcoords\":[{\"line\":{\"colorbar\":{\"outlinewidth\":0,\"ticks\":\"\"}},\"type\":\"parcoords\"}],\"pie\":[{\"automargin\":true,\"type\":\"pie\"}],\"scatter\":[{\"marker\":{\"colorbar\":{\"outlinewidth\":0,\"ticks\":\"\"}},\"type\":\"scatter\"}],\"scatter3d\":[{\"line\":{\"colorbar\":{\"outlinewidth\":0,\"ticks\":\"\"}},\"marker\":{\"colorbar\":{\"outlinewidth\":0,\"ticks\":\"\"}},\"type\":\"scatter3d\"}],\"scattercarpet\":[{\"marker\":{\"colorbar\":{\"outlinewidth\":0,\"ticks\":\"\"}},\"type\":\"scattercarpet\"}],\"scattergeo\":[{\"marker\":{\"colorbar\":{\"outlinewidth\":0,\"ticks\":\"\"}},\"type\":\"scattergeo\"}],\"scattergl\":[{\"marker\":{\"colorbar\":{\"outlinewidth\":0,\"ticks\":\"\"}},\"type\":\"scattergl\"}],\"scattermapbox\":[{\"marker\":{\"colorbar\":{\"outlinewidth\":0,\"ticks\":\"\"}},\"type\":\"scattermapbox\"}],\"scatterpolar\":[{\"marker\":{\"colorbar\":{\"outlinewidth\":0,\"ticks\":\"\"}},\"type\":\"scatterpolar\"}],\"scatterpolargl\":[{\"marker\":{\"colorbar\":{\"outlinewidth\":0,\"ticks\":\"\"}},\"type\":\"scatterpolargl\"}],\"scatterternary\":[{\"marker\":{\"colorbar\":{\"outlinewidth\":0,\"ticks\":\"\"}},\"type\":\"scatterternary\"}],\"surface\":[{\"colorbar\":{\"outlinewidth\":0,\"ticks\":\"\"},\"colorscale\":[[0.0,\"#0d0887\"],[0.1111111111111111,\"#46039f\"],[0.2222222222222222,\"#7201a8\"],[0.3333333333333333,\"#9c179e\"],[0.4444444444444444,\"#bd3786\"],[0.5555555555555556,\"#d8576b\"],[0.6666666666666666,\"#ed7953\"],[0.7777777777777778,\"#fb9f3a\"],[0.8888888888888888,\"#fdca26\"],[1.0,\"#f0f921\"]],\"type\":\"surface\"}],\"table\":[{\"cells\":{\"fill\":{\"color\":\"#EBF0F8\"},\"line\":{\"color\":\"white\"}},\"header\":{\"fill\":{\"color\":\"#C8D4E3\"},\"line\":{\"color\":\"white\"}},\"type\":\"table\"}]},\"layout\":{\"annotationdefaults\":{\"arrowcolor\":\"#2a3f5f\",\"arrowhead\":0,\"arrowwidth\":1},\"autotypenumbers\":\"strict\",\"coloraxis\":{\"colorbar\":{\"outlinewidth\":0,\"ticks\":\"\"}},\"colorscale\":{\"diverging\":[[0,\"#8e0152\"],[0.1,\"#c51b7d\"],[0.2,\"#de77ae\"],[0.3,\"#f1b6da\"],[0.4,\"#fde0ef\"],[0.5,\"#f7f7f7\"],[0.6,\"#e6f5d0\"],[0.7,\"#b8e186\"],[0.8,\"#7fbc41\"],[0.9,\"#4d9221\"],[1,\"#276419\"]],\"sequential\":[[0.0,\"#0d0887\"],[0.1111111111111111,\"#46039f\"],[0.2222222222222222,\"#7201a8\"],[0.3333333333333333,\"#9c179e\"],[0.4444444444444444,\"#bd3786\"],[0.5555555555555556,\"#d8576b\"],[0.6666666666666666,\"#ed7953\"],[0.7777777777777778,\"#fb9f3a\"],[0.8888888888888888,\"#fdca26\"],[1.0,\"#f0f921\"]],\"sequentialminus\":[[0.0,\"#0d0887\"],[0.1111111111111111,\"#46039f\"],[0.2222222222222222,\"#7201a8\"],[0.3333333333333333,\"#9c179e\"],[0.4444444444444444,\"#bd3786\"],[0.5555555555555556,\"#d8576b\"],[0.6666666666666666,\"#ed7953\"],[0.7777777777777778,\"#fb9f3a\"],[0.8888888888888888,\"#fdca26\"],[1.0,\"#f0f921\"]]},\"colorway\":[\"#636efa\",\"#EF553B\",\"#00cc96\",\"#ab63fa\",\"#FFA15A\",\"#19d3f3\",\"#FF6692\",\"#B6E880\",\"#FF97FF\",\"#FECB52\"],\"font\":{\"color\":\"#2a3f5f\"},\"geo\":{\"bgcolor\":\"white\",\"lakecolor\":\"white\",\"landcolor\":\"#E5ECF6\",\"showlakes\":true,\"showland\":true,\"subunitcolor\":\"white\"},\"hoverlabel\":{\"align\":\"left\"},\"hovermode\":\"closest\",\"mapbox\":{\"style\":\"light\"},\"paper_bgcolor\":\"white\",\"plot_bgcolor\":\"#E5ECF6\",\"polar\":{\"angularaxis\":{\"gridcolor\":\"white\",\"linecolor\":\"white\",\"ticks\":\"\"},\"bgcolor\":\"#E5ECF6\",\"radialaxis\":{\"gridcolor\":\"white\",\"linecolor\":\"white\",\"ticks\":\"\"}},\"scene\":{\"xaxis\":{\"backgroundcolor\":\"#E5ECF6\",\"gridcolor\":\"white\",\"gridwidth\":2,\"linecolor\":\"white\",\"showbackground\":true,\"ticks\":\"\",\"zerolinecolor\":\"white\"},\"yaxis\":{\"backgroundcolor\":\"#E5ECF6\",\"gridcolor\":\"white\",\"gridwidth\":2,\"linecolor\":\"white\",\"showbackground\":true,\"ticks\":\"\",\"zerolinecolor\":\"white\"},\"zaxis\":{\"backgroundcolor\":\"#E5ECF6\",\"gridcolor\":\"white\",\"gridwidth\":2,\"linecolor\":\"white\",\"showbackground\":true,\"ticks\":\"\",\"zerolinecolor\":\"white\"}},\"shapedefaults\":{\"line\":{\"color\":\"#2a3f5f\"}},\"ternary\":{\"aaxis\":{\"gridcolor\":\"white\",\"linecolor\":\"white\",\"ticks\":\"\"},\"baxis\":{\"gridcolor\":\"white\",\"linecolor\":\"white\",\"ticks\":\"\"},\"bgcolor\":\"#E5ECF6\",\"caxis\":{\"gridcolor\":\"white\",\"linecolor\":\"white\",\"ticks\":\"\"}},\"title\":{\"x\":0.05},\"xaxis\":{\"automargin\":true,\"gridcolor\":\"white\",\"linecolor\":\"white\",\"ticks\":\"\",\"title\":{\"standoff\":15},\"zerolinecolor\":\"white\",\"zerolinewidth\":2},\"yaxis\":{\"automargin\":true,\"gridcolor\":\"white\",\"linecolor\":\"white\",\"ticks\":\"\",\"title\":{\"standoff\":15},\"zerolinecolor\":\"white\",\"zerolinewidth\":2}}},\"xaxis\":{\"anchor\":\"y\",\"domain\":[0.0,1.0],\"title\":{\"text\":\"Wall Temp [C]\"}},\"yaxis\":{\"anchor\":\"x\",\"domain\":[0.0,1.0],\"title\":{\"text\":\"Pressure Temp [C]\"}},\"legend\":{\"tracegroupgap\":0},\"margin\":{\"t\":60}},                        {\"responsive\": true}                    ).then(function(){\n",
       "                            \n",
       "var gd = document.getElementById('2dcf229e-2c12-4155-a94c-27eca162cdf4');\n",
       "var x = new MutationObserver(function (mutations, observer) {{\n",
       "        var display = window.getComputedStyle(gd).display;\n",
       "        if (!display || display === 'none') {{\n",
       "            console.log([gd, 'removed!']);\n",
       "            Plotly.purge(gd);\n",
       "            observer.disconnect();\n",
       "        }}\n",
       "}});\n",
       "\n",
       "// Listen for the removal of the full notebook cells\n",
       "var notebookContainer = gd.closest('#notebook-container');\n",
       "if (notebookContainer) {{\n",
       "    x.observe(notebookContainer, {childList: true});\n",
       "}}\n",
       "\n",
       "// Listen for the clearing of the current output cell\n",
       "var outputEl = gd.closest('.output');\n",
       "if (outputEl) {{\n",
       "    x.observe(outputEl, {childList: true});\n",
       "}}\n",
       "\n",
       "                        })                };                });            </script>        </div>"
      ]
     },
     "metadata": {},
     "output_type": "display_data"
    }
   ],
   "source": [
    "fig14p = px.scatter(June14HeatingFilt, x=\"Wall Temp [C]\", y=\"Pressure Temp [C]\", trendline=\"ols\")\n",
    "fig14p.show()"
   ]
  },
  {
   "cell_type": "code",
   "execution_count": 84,
   "id": "1dc07da6",
   "metadata": {
    "collapsed": true
   },
   "outputs": [
    {
     "data": {
      "application/vnd.plotly.v1+json": {
       "config": {
        "plotlyServerURL": "https://plot.ly"
       },
       "data": [
        {
         "hovertemplate": "Wall Temp [C]=%{x}<br>Pressure Temp [C]=%{y}<extra></extra>",
         "legendgroup": "",
         "marker": {
          "color": "#636efa",
          "symbol": "circle"
         },
         "mode": "markers",
         "name": "",
         "orientation": "v",
         "showlegend": false,
         "type": "scatter",
         "x": [
          21.467992782,
          21.491050337999997,
          21.516554514,
          21.544210306666667,
          23.383564123333333,
          35.297876994666666,
          54.19170252466667,
          75.15282287666668,
          95.99884236999999,
          115.94801890666666,
          133.28598175333335,
          144.50969644666665,
          152.40819193333334,
          159.06800944,
          165.23399149333332,
          171.12679443333334,
          176.8213216133333,
          181.98653767333332,
          187.31461386,
          195.26128437999998,
          208.05585224666666,
          222.5552927533333,
          237.1949585,
          251.51134134,
          265.4667806,
          278.9541382,
          292.0002400866667,
          304.64209797999996,
          316.88417154666666,
          328.81524862,
          340.4143717466667,
          351.6939107266666,
          362.6494568,
          373.3432963133334,
          383.69018350666664,
          393.70282594,
          403.29643146666666,
          412.48720906666665,
          421.32496540666665,
          429.80466308666666,
          437.99857584666665,
          445.99790039333334,
          453.80137735999995,
          461.4715922066667,
          469.00543213333333,
          476.40194092,
          483.61771647333336,
          490.625236,
          497.4003601066667,
          503.8320577066667,
          502.3599995933334,
          493.42195028,
          485.23202717333334,
          487.11563314666665,
          493.71888834000003,
          500.80207112,
          507.34561768,
          505.6987447066667,
          497.80555014000004,
          496.6663655533333,
          502.8454569533333,
          509.92820638666666,
          512.49823
         ],
         "xaxis": "x",
         "y": [
          21.360885238666665,
          21.369098028,
          21.377304075999998,
          21.381863911333333,
          21.414684804666667,
          21.503462726666665,
          21.597079213333334,
          21.686909994,
          21.78073628666667,
          21.880856958,
          21.973388545333332,
          22.056715394666664,
          22.161633682666665,
          22.298535537333336,
          22.475664264,
          22.690975316,
          22.948217390666667,
          23.250861104000002,
          23.597463100000002,
          24.009680302,
          24.487471008666667,
          25.0090566,
          25.560746511999998,
          26.143457158666667,
          26.775422668666668,
          27.44516538,
          28.216457876,
          28.920769119333332,
          29.634153875333332,
          30.388110478666665,
          31.223767344000002,
          32.09288419133333,
          32.942918649333336,
          33.851495869333334,
          34.83416290333333,
          35.830181122,
          36.84067077733334,
          37.904905191333334,
          38.924325560666674,
          39.93503697733333,
          41.008871968,
          42.11225713066666,
          43.17330093333333,
          44.225850424,
          45.31665954466667,
          46.438472239333336,
          47.66446914666667,
          48.905826315333336,
          49.95005696666667,
          51.107924143333335,
          52.32871983733333,
          53.475803884,
          54.71719945266667,
          55.970864106,
          57.262375895333335,
          58.582644146,
          59.91498794466667,
          61.143714396,
          62.33951416,
          63.63019587066666,
          64.91697133333334,
          66.09843088733334,
          66.7802887
         ],
         "yaxis": "y"
        },
        {
         "hovertemplate": "<b>OLS trendline</b><br>Pressure Temp [C] = 0.0790432 * Wall Temp [C] + 11.5899<br>R<sup>2</sup>=0.805678<br><br>Wall Temp [C]=%{x}<br>Pressure Temp [C]=%{y} <b>(trend)</b><extra></extra>",
         "legendgroup": "",
         "marker": {
          "color": "#636efa",
          "symbol": "circle"
         },
         "mode": "lines",
         "name": "",
         "showlegend": false,
         "type": "scatter",
         "x": [
          21.467992782,
          21.491050337999997,
          21.516554514,
          21.544210306666667,
          23.383564123333333,
          35.297876994666666,
          54.19170252466667,
          75.15282287666668,
          95.99884236999999,
          115.94801890666666,
          133.28598175333335,
          144.50969644666665,
          152.40819193333334,
          159.06800944,
          165.23399149333332,
          171.12679443333334,
          176.8213216133333,
          181.98653767333332,
          187.31461386,
          195.26128437999998,
          208.05585224666666,
          222.5552927533333,
          237.1949585,
          251.51134134,
          265.4667806,
          278.9541382,
          292.0002400866667,
          304.64209797999996,
          316.88417154666666,
          328.81524862,
          340.4143717466667,
          351.6939107266666,
          362.6494568,
          373.3432963133334,
          383.69018350666664,
          393.70282594,
          403.29643146666666,
          412.48720906666665,
          421.32496540666665,
          429.80466308666666,
          437.99857584666665,
          445.99790039333334,
          453.80137735999995,
          461.4715922066667,
          469.00543213333333,
          476.40194092,
          483.61771647333336,
          485.23202717333334,
          487.11563314666665,
          490.625236,
          493.42195028,
          493.71888834000003,
          496.6663655533333,
          497.4003601066667,
          497.80555014000004,
          500.80207112,
          502.3599995933334,
          502.8454569533333,
          503.8320577066667,
          505.6987447066667,
          507.34561768,
          509.92820638666666,
          512.49823
         ],
         "xaxis": "x",
         "y": [
          13.286749933239312,
          13.288572476665617,
          13.290588408810036,
          13.29277441165977,
          13.438162856437515,
          14.379908486485888,
          15.873337257404394,
          17.53017166368475,
          19.177908127697286,
          20.754755238341183,
          22.125203615945534,
          23.012362143634377,
          23.636684644550265,
          24.163098051815528,
          24.650477115668625,
          25.1162632233034,
          25.56637697680906,
          25.974652276047216,
          26.395800563787006,
          27.023930974366586,
          28.035254791939145,
          29.18133722932032,
          30.3385035209211,
          31.470116491242628,
          32.5731993194712,
          33.63928346698933,
          34.67048934294844,
          35.6697424728024,
          36.63739536295593,
          37.58046608947819,
          38.497298107815894,
          39.388869166767485,
          40.254830783755025,
          41.10010627205881,
          41.91795753248442,
          42.70938901146768,
          43.46769846487178,
          44.19416710263703,
          44.89273180397644,
          45.562994396583484,
          46.210667629447315,
          46.84295998373723,
          47.45977191505921,
          48.06605037957398,
          48.66154933155242,
          49.24619318828859,
          49.81655130865589,
          49.94415162129525,
          50.093037898941,
          50.37044820249987,
          50.59150949912076,
          50.61498043894079,
          50.84795852297302,
          50.905975814490034,
          50.93800333864117,
          51.17485799981538,
          51.29800167981893,
          51.33637379177301,
          51.41435789023409,
          51.56190683778169,
          51.692080977291916,
          51.89621709953255,
          52.09936003636118
         ],
         "yaxis": "y"
        }
       ],
       "layout": {
        "legend": {
         "tracegroupgap": 0
        },
        "margin": {
         "t": 60
        },
        "template": {
         "data": {
          "bar": [
           {
            "error_x": {
             "color": "#2a3f5f"
            },
            "error_y": {
             "color": "#2a3f5f"
            },
            "marker": {
             "line": {
              "color": "#E5ECF6",
              "width": 0.5
             },
             "pattern": {
              "fillmode": "overlay",
              "size": 10,
              "solidity": 0.2
             }
            },
            "type": "bar"
           }
          ],
          "barpolar": [
           {
            "marker": {
             "line": {
              "color": "#E5ECF6",
              "width": 0.5
             },
             "pattern": {
              "fillmode": "overlay",
              "size": 10,
              "solidity": 0.2
             }
            },
            "type": "barpolar"
           }
          ],
          "carpet": [
           {
            "aaxis": {
             "endlinecolor": "#2a3f5f",
             "gridcolor": "white",
             "linecolor": "white",
             "minorgridcolor": "white",
             "startlinecolor": "#2a3f5f"
            },
            "baxis": {
             "endlinecolor": "#2a3f5f",
             "gridcolor": "white",
             "linecolor": "white",
             "minorgridcolor": "white",
             "startlinecolor": "#2a3f5f"
            },
            "type": "carpet"
           }
          ],
          "choropleth": [
           {
            "colorbar": {
             "outlinewidth": 0,
             "ticks": ""
            },
            "type": "choropleth"
           }
          ],
          "contour": [
           {
            "colorbar": {
             "outlinewidth": 0,
             "ticks": ""
            },
            "colorscale": [
             [
              0,
              "#0d0887"
             ],
             [
              0.1111111111111111,
              "#46039f"
             ],
             [
              0.2222222222222222,
              "#7201a8"
             ],
             [
              0.3333333333333333,
              "#9c179e"
             ],
             [
              0.4444444444444444,
              "#bd3786"
             ],
             [
              0.5555555555555556,
              "#d8576b"
             ],
             [
              0.6666666666666666,
              "#ed7953"
             ],
             [
              0.7777777777777778,
              "#fb9f3a"
             ],
             [
              0.8888888888888888,
              "#fdca26"
             ],
             [
              1,
              "#f0f921"
             ]
            ],
            "type": "contour"
           }
          ],
          "contourcarpet": [
           {
            "colorbar": {
             "outlinewidth": 0,
             "ticks": ""
            },
            "type": "contourcarpet"
           }
          ],
          "heatmap": [
           {
            "colorbar": {
             "outlinewidth": 0,
             "ticks": ""
            },
            "colorscale": [
             [
              0,
              "#0d0887"
             ],
             [
              0.1111111111111111,
              "#46039f"
             ],
             [
              0.2222222222222222,
              "#7201a8"
             ],
             [
              0.3333333333333333,
              "#9c179e"
             ],
             [
              0.4444444444444444,
              "#bd3786"
             ],
             [
              0.5555555555555556,
              "#d8576b"
             ],
             [
              0.6666666666666666,
              "#ed7953"
             ],
             [
              0.7777777777777778,
              "#fb9f3a"
             ],
             [
              0.8888888888888888,
              "#fdca26"
             ],
             [
              1,
              "#f0f921"
             ]
            ],
            "type": "heatmap"
           }
          ],
          "heatmapgl": [
           {
            "colorbar": {
             "outlinewidth": 0,
             "ticks": ""
            },
            "colorscale": [
             [
              0,
              "#0d0887"
             ],
             [
              0.1111111111111111,
              "#46039f"
             ],
             [
              0.2222222222222222,
              "#7201a8"
             ],
             [
              0.3333333333333333,
              "#9c179e"
             ],
             [
              0.4444444444444444,
              "#bd3786"
             ],
             [
              0.5555555555555556,
              "#d8576b"
             ],
             [
              0.6666666666666666,
              "#ed7953"
             ],
             [
              0.7777777777777778,
              "#fb9f3a"
             ],
             [
              0.8888888888888888,
              "#fdca26"
             ],
             [
              1,
              "#f0f921"
             ]
            ],
            "type": "heatmapgl"
           }
          ],
          "histogram": [
           {
            "marker": {
             "pattern": {
              "fillmode": "overlay",
              "size": 10,
              "solidity": 0.2
             }
            },
            "type": "histogram"
           }
          ],
          "histogram2d": [
           {
            "colorbar": {
             "outlinewidth": 0,
             "ticks": ""
            },
            "colorscale": [
             [
              0,
              "#0d0887"
             ],
             [
              0.1111111111111111,
              "#46039f"
             ],
             [
              0.2222222222222222,
              "#7201a8"
             ],
             [
              0.3333333333333333,
              "#9c179e"
             ],
             [
              0.4444444444444444,
              "#bd3786"
             ],
             [
              0.5555555555555556,
              "#d8576b"
             ],
             [
              0.6666666666666666,
              "#ed7953"
             ],
             [
              0.7777777777777778,
              "#fb9f3a"
             ],
             [
              0.8888888888888888,
              "#fdca26"
             ],
             [
              1,
              "#f0f921"
             ]
            ],
            "type": "histogram2d"
           }
          ],
          "histogram2dcontour": [
           {
            "colorbar": {
             "outlinewidth": 0,
             "ticks": ""
            },
            "colorscale": [
             [
              0,
              "#0d0887"
             ],
             [
              0.1111111111111111,
              "#46039f"
             ],
             [
              0.2222222222222222,
              "#7201a8"
             ],
             [
              0.3333333333333333,
              "#9c179e"
             ],
             [
              0.4444444444444444,
              "#bd3786"
             ],
             [
              0.5555555555555556,
              "#d8576b"
             ],
             [
              0.6666666666666666,
              "#ed7953"
             ],
             [
              0.7777777777777778,
              "#fb9f3a"
             ],
             [
              0.8888888888888888,
              "#fdca26"
             ],
             [
              1,
              "#f0f921"
             ]
            ],
            "type": "histogram2dcontour"
           }
          ],
          "mesh3d": [
           {
            "colorbar": {
             "outlinewidth": 0,
             "ticks": ""
            },
            "type": "mesh3d"
           }
          ],
          "parcoords": [
           {
            "line": {
             "colorbar": {
              "outlinewidth": 0,
              "ticks": ""
             }
            },
            "type": "parcoords"
           }
          ],
          "pie": [
           {
            "automargin": true,
            "type": "pie"
           }
          ],
          "scatter": [
           {
            "marker": {
             "colorbar": {
              "outlinewidth": 0,
              "ticks": ""
             }
            },
            "type": "scatter"
           }
          ],
          "scatter3d": [
           {
            "line": {
             "colorbar": {
              "outlinewidth": 0,
              "ticks": ""
             }
            },
            "marker": {
             "colorbar": {
              "outlinewidth": 0,
              "ticks": ""
             }
            },
            "type": "scatter3d"
           }
          ],
          "scattercarpet": [
           {
            "marker": {
             "colorbar": {
              "outlinewidth": 0,
              "ticks": ""
             }
            },
            "type": "scattercarpet"
           }
          ],
          "scattergeo": [
           {
            "marker": {
             "colorbar": {
              "outlinewidth": 0,
              "ticks": ""
             }
            },
            "type": "scattergeo"
           }
          ],
          "scattergl": [
           {
            "marker": {
             "colorbar": {
              "outlinewidth": 0,
              "ticks": ""
             }
            },
            "type": "scattergl"
           }
          ],
          "scattermapbox": [
           {
            "marker": {
             "colorbar": {
              "outlinewidth": 0,
              "ticks": ""
             }
            },
            "type": "scattermapbox"
           }
          ],
          "scatterpolar": [
           {
            "marker": {
             "colorbar": {
              "outlinewidth": 0,
              "ticks": ""
             }
            },
            "type": "scatterpolar"
           }
          ],
          "scatterpolargl": [
           {
            "marker": {
             "colorbar": {
              "outlinewidth": 0,
              "ticks": ""
             }
            },
            "type": "scatterpolargl"
           }
          ],
          "scatterternary": [
           {
            "marker": {
             "colorbar": {
              "outlinewidth": 0,
              "ticks": ""
             }
            },
            "type": "scatterternary"
           }
          ],
          "surface": [
           {
            "colorbar": {
             "outlinewidth": 0,
             "ticks": ""
            },
            "colorscale": [
             [
              0,
              "#0d0887"
             ],
             [
              0.1111111111111111,
              "#46039f"
             ],
             [
              0.2222222222222222,
              "#7201a8"
             ],
             [
              0.3333333333333333,
              "#9c179e"
             ],
             [
              0.4444444444444444,
              "#bd3786"
             ],
             [
              0.5555555555555556,
              "#d8576b"
             ],
             [
              0.6666666666666666,
              "#ed7953"
             ],
             [
              0.7777777777777778,
              "#fb9f3a"
             ],
             [
              0.8888888888888888,
              "#fdca26"
             ],
             [
              1,
              "#f0f921"
             ]
            ],
            "type": "surface"
           }
          ],
          "table": [
           {
            "cells": {
             "fill": {
              "color": "#EBF0F8"
             },
             "line": {
              "color": "white"
             }
            },
            "header": {
             "fill": {
              "color": "#C8D4E3"
             },
             "line": {
              "color": "white"
             }
            },
            "type": "table"
           }
          ]
         },
         "layout": {
          "annotationdefaults": {
           "arrowcolor": "#2a3f5f",
           "arrowhead": 0,
           "arrowwidth": 1
          },
          "autotypenumbers": "strict",
          "coloraxis": {
           "colorbar": {
            "outlinewidth": 0,
            "ticks": ""
           }
          },
          "colorscale": {
           "diverging": [
            [
             0,
             "#8e0152"
            ],
            [
             0.1,
             "#c51b7d"
            ],
            [
             0.2,
             "#de77ae"
            ],
            [
             0.3,
             "#f1b6da"
            ],
            [
             0.4,
             "#fde0ef"
            ],
            [
             0.5,
             "#f7f7f7"
            ],
            [
             0.6,
             "#e6f5d0"
            ],
            [
             0.7,
             "#b8e186"
            ],
            [
             0.8,
             "#7fbc41"
            ],
            [
             0.9,
             "#4d9221"
            ],
            [
             1,
             "#276419"
            ]
           ],
           "sequential": [
            [
             0,
             "#0d0887"
            ],
            [
             0.1111111111111111,
             "#46039f"
            ],
            [
             0.2222222222222222,
             "#7201a8"
            ],
            [
             0.3333333333333333,
             "#9c179e"
            ],
            [
             0.4444444444444444,
             "#bd3786"
            ],
            [
             0.5555555555555556,
             "#d8576b"
            ],
            [
             0.6666666666666666,
             "#ed7953"
            ],
            [
             0.7777777777777778,
             "#fb9f3a"
            ],
            [
             0.8888888888888888,
             "#fdca26"
            ],
            [
             1,
             "#f0f921"
            ]
           ],
           "sequentialminus": [
            [
             0,
             "#0d0887"
            ],
            [
             0.1111111111111111,
             "#46039f"
            ],
            [
             0.2222222222222222,
             "#7201a8"
            ],
            [
             0.3333333333333333,
             "#9c179e"
            ],
            [
             0.4444444444444444,
             "#bd3786"
            ],
            [
             0.5555555555555556,
             "#d8576b"
            ],
            [
             0.6666666666666666,
             "#ed7953"
            ],
            [
             0.7777777777777778,
             "#fb9f3a"
            ],
            [
             0.8888888888888888,
             "#fdca26"
            ],
            [
             1,
             "#f0f921"
            ]
           ]
          },
          "colorway": [
           "#636efa",
           "#EF553B",
           "#00cc96",
           "#ab63fa",
           "#FFA15A",
           "#19d3f3",
           "#FF6692",
           "#B6E880",
           "#FF97FF",
           "#FECB52"
          ],
          "font": {
           "color": "#2a3f5f"
          },
          "geo": {
           "bgcolor": "white",
           "lakecolor": "white",
           "landcolor": "#E5ECF6",
           "showlakes": true,
           "showland": true,
           "subunitcolor": "white"
          },
          "hoverlabel": {
           "align": "left"
          },
          "hovermode": "closest",
          "mapbox": {
           "style": "light"
          },
          "paper_bgcolor": "white",
          "plot_bgcolor": "#E5ECF6",
          "polar": {
           "angularaxis": {
            "gridcolor": "white",
            "linecolor": "white",
            "ticks": ""
           },
           "bgcolor": "#E5ECF6",
           "radialaxis": {
            "gridcolor": "white",
            "linecolor": "white",
            "ticks": ""
           }
          },
          "scene": {
           "xaxis": {
            "backgroundcolor": "#E5ECF6",
            "gridcolor": "white",
            "gridwidth": 2,
            "linecolor": "white",
            "showbackground": true,
            "ticks": "",
            "zerolinecolor": "white"
           },
           "yaxis": {
            "backgroundcolor": "#E5ECF6",
            "gridcolor": "white",
            "gridwidth": 2,
            "linecolor": "white",
            "showbackground": true,
            "ticks": "",
            "zerolinecolor": "white"
           },
           "zaxis": {
            "backgroundcolor": "#E5ECF6",
            "gridcolor": "white",
            "gridwidth": 2,
            "linecolor": "white",
            "showbackground": true,
            "ticks": "",
            "zerolinecolor": "white"
           }
          },
          "shapedefaults": {
           "line": {
            "color": "#2a3f5f"
           }
          },
          "ternary": {
           "aaxis": {
            "gridcolor": "white",
            "linecolor": "white",
            "ticks": ""
           },
           "baxis": {
            "gridcolor": "white",
            "linecolor": "white",
            "ticks": ""
           },
           "bgcolor": "#E5ECF6",
           "caxis": {
            "gridcolor": "white",
            "linecolor": "white",
            "ticks": ""
           }
          },
          "title": {
           "x": 0.05
          },
          "xaxis": {
           "automargin": true,
           "gridcolor": "white",
           "linecolor": "white",
           "ticks": "",
           "title": {
            "standoff": 15
           },
           "zerolinecolor": "white",
           "zerolinewidth": 2
          },
          "yaxis": {
           "automargin": true,
           "gridcolor": "white",
           "linecolor": "white",
           "ticks": "",
           "title": {
            "standoff": 15
           },
           "zerolinecolor": "white",
           "zerolinewidth": 2
          }
         }
        },
        "xaxis": {
         "anchor": "y",
         "domain": [
          0,
          1
         ],
         "title": {
          "text": "Wall Temp [C]"
         }
        },
        "yaxis": {
         "anchor": "x",
         "domain": [
          0,
          1
         ],
         "title": {
          "text": "Pressure Temp [C]"
         }
        }
       }
      },
      "text/html": [
       "<div>                            <div id=\"c3fb9226-d8ac-41c7-a1b1-3129b3e8740d\" class=\"plotly-graph-div\" style=\"height:525px; width:100%;\"></div>            <script type=\"text/javascript\">                require([\"plotly\"], function(Plotly) {                    window.PLOTLYENV=window.PLOTLYENV || {};                                    if (document.getElementById(\"c3fb9226-d8ac-41c7-a1b1-3129b3e8740d\")) {                    Plotly.newPlot(                        \"c3fb9226-d8ac-41c7-a1b1-3129b3e8740d\",                        [{\"hovertemplate\":\"Wall Temp [C]=%{x}<br>Pressure Temp [C]=%{y}<extra></extra>\",\"legendgroup\":\"\",\"marker\":{\"color\":\"#636efa\",\"symbol\":\"circle\"},\"mode\":\"markers\",\"name\":\"\",\"orientation\":\"v\",\"showlegend\":false,\"x\":[21.467992782,21.491050337999997,21.516554514,21.544210306666667,23.383564123333333,35.297876994666666,54.19170252466667,75.15282287666668,95.99884236999999,115.94801890666666,133.28598175333335,144.50969644666665,152.40819193333334,159.06800944,165.23399149333332,171.12679443333334,176.8213216133333,181.98653767333332,187.31461386,195.26128437999998,208.05585224666666,222.5552927533333,237.1949585,251.51134134,265.4667806,278.9541382,292.0002400866667,304.64209797999996,316.88417154666666,328.81524862,340.4143717466667,351.6939107266666,362.6494568,373.3432963133334,383.69018350666664,393.70282594,403.29643146666666,412.48720906666665,421.32496540666665,429.80466308666666,437.99857584666665,445.99790039333334,453.80137735999995,461.4715922066667,469.00543213333333,476.40194092,483.61771647333336,490.625236,497.4003601066667,503.8320577066667,502.3599995933334,493.42195028,485.23202717333334,487.11563314666665,493.71888834000003,500.80207112,507.34561768,505.6987447066667,497.80555014000004,496.6663655533333,502.8454569533333,509.92820638666666,512.49823],\"xaxis\":\"x\",\"y\":[21.360885238666665,21.369098028,21.377304075999998,21.381863911333333,21.414684804666667,21.503462726666665,21.597079213333334,21.686909994,21.78073628666667,21.880856958,21.973388545333332,22.056715394666664,22.161633682666665,22.298535537333336,22.475664264,22.690975316,22.948217390666667,23.250861104000002,23.597463100000002,24.009680302,24.487471008666667,25.0090566,25.560746511999998,26.143457158666667,26.775422668666668,27.44516538,28.216457876,28.920769119333332,29.634153875333332,30.388110478666665,31.223767344000002,32.09288419133333,32.942918649333336,33.851495869333334,34.83416290333333,35.830181122,36.84067077733334,37.904905191333334,38.924325560666674,39.93503697733333,41.008871968,42.11225713066666,43.17330093333333,44.225850424,45.31665954466667,46.438472239333336,47.66446914666667,48.905826315333336,49.95005696666667,51.107924143333335,52.32871983733333,53.475803884,54.71719945266667,55.970864106,57.262375895333335,58.582644146,59.91498794466667,61.143714396,62.33951416,63.63019587066666,64.91697133333334,66.09843088733334,66.7802887],\"yaxis\":\"y\",\"type\":\"scatter\"},{\"hovertemplate\":\"<b>OLS trendline</b><br>Pressure Temp [C] = 0.0790432 * Wall Temp [C] + 11.5899<br>R<sup>2</sup>=0.805678<br><br>Wall Temp [C]=%{x}<br>Pressure Temp [C]=%{y} <b>(trend)</b><extra></extra>\",\"legendgroup\":\"\",\"marker\":{\"color\":\"#636efa\",\"symbol\":\"circle\"},\"mode\":\"lines\",\"name\":\"\",\"showlegend\":false,\"x\":[21.467992782,21.491050337999997,21.516554514,21.544210306666667,23.383564123333333,35.297876994666666,54.19170252466667,75.15282287666668,95.99884236999999,115.94801890666666,133.28598175333335,144.50969644666665,152.40819193333334,159.06800944,165.23399149333332,171.12679443333334,176.8213216133333,181.98653767333332,187.31461386,195.26128437999998,208.05585224666666,222.5552927533333,237.1949585,251.51134134,265.4667806,278.9541382,292.0002400866667,304.64209797999996,316.88417154666666,328.81524862,340.4143717466667,351.6939107266666,362.6494568,373.3432963133334,383.69018350666664,393.70282594,403.29643146666666,412.48720906666665,421.32496540666665,429.80466308666666,437.99857584666665,445.99790039333334,453.80137735999995,461.4715922066667,469.00543213333333,476.40194092,483.61771647333336,485.23202717333334,487.11563314666665,490.625236,493.42195028,493.71888834000003,496.6663655533333,497.4003601066667,497.80555014000004,500.80207112,502.3599995933334,502.8454569533333,503.8320577066667,505.6987447066667,507.34561768,509.92820638666666,512.49823],\"xaxis\":\"x\",\"y\":[13.286749933239312,13.288572476665617,13.290588408810036,13.29277441165977,13.438162856437515,14.379908486485888,15.873337257404394,17.53017166368475,19.177908127697286,20.754755238341183,22.125203615945534,23.012362143634377,23.636684644550265,24.163098051815528,24.650477115668625,25.1162632233034,25.56637697680906,25.974652276047216,26.395800563787006,27.023930974366586,28.035254791939145,29.18133722932032,30.3385035209211,31.470116491242628,32.5731993194712,33.63928346698933,34.67048934294844,35.6697424728024,36.63739536295593,37.58046608947819,38.497298107815894,39.388869166767485,40.254830783755025,41.10010627205881,41.91795753248442,42.70938901146768,43.46769846487178,44.19416710263703,44.89273180397644,45.562994396583484,46.210667629447315,46.84295998373723,47.45977191505921,48.06605037957398,48.66154933155242,49.24619318828859,49.81655130865589,49.94415162129525,50.093037898941,50.37044820249987,50.59150949912076,50.61498043894079,50.84795852297302,50.905975814490034,50.93800333864117,51.17485799981538,51.29800167981893,51.33637379177301,51.41435789023409,51.56190683778169,51.692080977291916,51.89621709953255,52.09936003636118],\"yaxis\":\"y\",\"type\":\"scatter\"}],                        {\"template\":{\"data\":{\"bar\":[{\"error_x\":{\"color\":\"#2a3f5f\"},\"error_y\":{\"color\":\"#2a3f5f\"},\"marker\":{\"line\":{\"color\":\"#E5ECF6\",\"width\":0.5},\"pattern\":{\"fillmode\":\"overlay\",\"size\":10,\"solidity\":0.2}},\"type\":\"bar\"}],\"barpolar\":[{\"marker\":{\"line\":{\"color\":\"#E5ECF6\",\"width\":0.5},\"pattern\":{\"fillmode\":\"overlay\",\"size\":10,\"solidity\":0.2}},\"type\":\"barpolar\"}],\"carpet\":[{\"aaxis\":{\"endlinecolor\":\"#2a3f5f\",\"gridcolor\":\"white\",\"linecolor\":\"white\",\"minorgridcolor\":\"white\",\"startlinecolor\":\"#2a3f5f\"},\"baxis\":{\"endlinecolor\":\"#2a3f5f\",\"gridcolor\":\"white\",\"linecolor\":\"white\",\"minorgridcolor\":\"white\",\"startlinecolor\":\"#2a3f5f\"},\"type\":\"carpet\"}],\"choropleth\":[{\"colorbar\":{\"outlinewidth\":0,\"ticks\":\"\"},\"type\":\"choropleth\"}],\"contour\":[{\"colorbar\":{\"outlinewidth\":0,\"ticks\":\"\"},\"colorscale\":[[0.0,\"#0d0887\"],[0.1111111111111111,\"#46039f\"],[0.2222222222222222,\"#7201a8\"],[0.3333333333333333,\"#9c179e\"],[0.4444444444444444,\"#bd3786\"],[0.5555555555555556,\"#d8576b\"],[0.6666666666666666,\"#ed7953\"],[0.7777777777777778,\"#fb9f3a\"],[0.8888888888888888,\"#fdca26\"],[1.0,\"#f0f921\"]],\"type\":\"contour\"}],\"contourcarpet\":[{\"colorbar\":{\"outlinewidth\":0,\"ticks\":\"\"},\"type\":\"contourcarpet\"}],\"heatmap\":[{\"colorbar\":{\"outlinewidth\":0,\"ticks\":\"\"},\"colorscale\":[[0.0,\"#0d0887\"],[0.1111111111111111,\"#46039f\"],[0.2222222222222222,\"#7201a8\"],[0.3333333333333333,\"#9c179e\"],[0.4444444444444444,\"#bd3786\"],[0.5555555555555556,\"#d8576b\"],[0.6666666666666666,\"#ed7953\"],[0.7777777777777778,\"#fb9f3a\"],[0.8888888888888888,\"#fdca26\"],[1.0,\"#f0f921\"]],\"type\":\"heatmap\"}],\"heatmapgl\":[{\"colorbar\":{\"outlinewidth\":0,\"ticks\":\"\"},\"colorscale\":[[0.0,\"#0d0887\"],[0.1111111111111111,\"#46039f\"],[0.2222222222222222,\"#7201a8\"],[0.3333333333333333,\"#9c179e\"],[0.4444444444444444,\"#bd3786\"],[0.5555555555555556,\"#d8576b\"],[0.6666666666666666,\"#ed7953\"],[0.7777777777777778,\"#fb9f3a\"],[0.8888888888888888,\"#fdca26\"],[1.0,\"#f0f921\"]],\"type\":\"heatmapgl\"}],\"histogram\":[{\"marker\":{\"pattern\":{\"fillmode\":\"overlay\",\"size\":10,\"solidity\":0.2}},\"type\":\"histogram\"}],\"histogram2d\":[{\"colorbar\":{\"outlinewidth\":0,\"ticks\":\"\"},\"colorscale\":[[0.0,\"#0d0887\"],[0.1111111111111111,\"#46039f\"],[0.2222222222222222,\"#7201a8\"],[0.3333333333333333,\"#9c179e\"],[0.4444444444444444,\"#bd3786\"],[0.5555555555555556,\"#d8576b\"],[0.6666666666666666,\"#ed7953\"],[0.7777777777777778,\"#fb9f3a\"],[0.8888888888888888,\"#fdca26\"],[1.0,\"#f0f921\"]],\"type\":\"histogram2d\"}],\"histogram2dcontour\":[{\"colorbar\":{\"outlinewidth\":0,\"ticks\":\"\"},\"colorscale\":[[0.0,\"#0d0887\"],[0.1111111111111111,\"#46039f\"],[0.2222222222222222,\"#7201a8\"],[0.3333333333333333,\"#9c179e\"],[0.4444444444444444,\"#bd3786\"],[0.5555555555555556,\"#d8576b\"],[0.6666666666666666,\"#ed7953\"],[0.7777777777777778,\"#fb9f3a\"],[0.8888888888888888,\"#fdca26\"],[1.0,\"#f0f921\"]],\"type\":\"histogram2dcontour\"}],\"mesh3d\":[{\"colorbar\":{\"outlinewidth\":0,\"ticks\":\"\"},\"type\":\"mesh3d\"}],\"parcoords\":[{\"line\":{\"colorbar\":{\"outlinewidth\":0,\"ticks\":\"\"}},\"type\":\"parcoords\"}],\"pie\":[{\"automargin\":true,\"type\":\"pie\"}],\"scatter\":[{\"marker\":{\"colorbar\":{\"outlinewidth\":0,\"ticks\":\"\"}},\"type\":\"scatter\"}],\"scatter3d\":[{\"line\":{\"colorbar\":{\"outlinewidth\":0,\"ticks\":\"\"}},\"marker\":{\"colorbar\":{\"outlinewidth\":0,\"ticks\":\"\"}},\"type\":\"scatter3d\"}],\"scattercarpet\":[{\"marker\":{\"colorbar\":{\"outlinewidth\":0,\"ticks\":\"\"}},\"type\":\"scattercarpet\"}],\"scattergeo\":[{\"marker\":{\"colorbar\":{\"outlinewidth\":0,\"ticks\":\"\"}},\"type\":\"scattergeo\"}],\"scattergl\":[{\"marker\":{\"colorbar\":{\"outlinewidth\":0,\"ticks\":\"\"}},\"type\":\"scattergl\"}],\"scattermapbox\":[{\"marker\":{\"colorbar\":{\"outlinewidth\":0,\"ticks\":\"\"}},\"type\":\"scattermapbox\"}],\"scatterpolar\":[{\"marker\":{\"colorbar\":{\"outlinewidth\":0,\"ticks\":\"\"}},\"type\":\"scatterpolar\"}],\"scatterpolargl\":[{\"marker\":{\"colorbar\":{\"outlinewidth\":0,\"ticks\":\"\"}},\"type\":\"scatterpolargl\"}],\"scatterternary\":[{\"marker\":{\"colorbar\":{\"outlinewidth\":0,\"ticks\":\"\"}},\"type\":\"scatterternary\"}],\"surface\":[{\"colorbar\":{\"outlinewidth\":0,\"ticks\":\"\"},\"colorscale\":[[0.0,\"#0d0887\"],[0.1111111111111111,\"#46039f\"],[0.2222222222222222,\"#7201a8\"],[0.3333333333333333,\"#9c179e\"],[0.4444444444444444,\"#bd3786\"],[0.5555555555555556,\"#d8576b\"],[0.6666666666666666,\"#ed7953\"],[0.7777777777777778,\"#fb9f3a\"],[0.8888888888888888,\"#fdca26\"],[1.0,\"#f0f921\"]],\"type\":\"surface\"}],\"table\":[{\"cells\":{\"fill\":{\"color\":\"#EBF0F8\"},\"line\":{\"color\":\"white\"}},\"header\":{\"fill\":{\"color\":\"#C8D4E3\"},\"line\":{\"color\":\"white\"}},\"type\":\"table\"}]},\"layout\":{\"annotationdefaults\":{\"arrowcolor\":\"#2a3f5f\",\"arrowhead\":0,\"arrowwidth\":1},\"autotypenumbers\":\"strict\",\"coloraxis\":{\"colorbar\":{\"outlinewidth\":0,\"ticks\":\"\"}},\"colorscale\":{\"diverging\":[[0,\"#8e0152\"],[0.1,\"#c51b7d\"],[0.2,\"#de77ae\"],[0.3,\"#f1b6da\"],[0.4,\"#fde0ef\"],[0.5,\"#f7f7f7\"],[0.6,\"#e6f5d0\"],[0.7,\"#b8e186\"],[0.8,\"#7fbc41\"],[0.9,\"#4d9221\"],[1,\"#276419\"]],\"sequential\":[[0.0,\"#0d0887\"],[0.1111111111111111,\"#46039f\"],[0.2222222222222222,\"#7201a8\"],[0.3333333333333333,\"#9c179e\"],[0.4444444444444444,\"#bd3786\"],[0.5555555555555556,\"#d8576b\"],[0.6666666666666666,\"#ed7953\"],[0.7777777777777778,\"#fb9f3a\"],[0.8888888888888888,\"#fdca26\"],[1.0,\"#f0f921\"]],\"sequentialminus\":[[0.0,\"#0d0887\"],[0.1111111111111111,\"#46039f\"],[0.2222222222222222,\"#7201a8\"],[0.3333333333333333,\"#9c179e\"],[0.4444444444444444,\"#bd3786\"],[0.5555555555555556,\"#d8576b\"],[0.6666666666666666,\"#ed7953\"],[0.7777777777777778,\"#fb9f3a\"],[0.8888888888888888,\"#fdca26\"],[1.0,\"#f0f921\"]]},\"colorway\":[\"#636efa\",\"#EF553B\",\"#00cc96\",\"#ab63fa\",\"#FFA15A\",\"#19d3f3\",\"#FF6692\",\"#B6E880\",\"#FF97FF\",\"#FECB52\"],\"font\":{\"color\":\"#2a3f5f\"},\"geo\":{\"bgcolor\":\"white\",\"lakecolor\":\"white\",\"landcolor\":\"#E5ECF6\",\"showlakes\":true,\"showland\":true,\"subunitcolor\":\"white\"},\"hoverlabel\":{\"align\":\"left\"},\"hovermode\":\"closest\",\"mapbox\":{\"style\":\"light\"},\"paper_bgcolor\":\"white\",\"plot_bgcolor\":\"#E5ECF6\",\"polar\":{\"angularaxis\":{\"gridcolor\":\"white\",\"linecolor\":\"white\",\"ticks\":\"\"},\"bgcolor\":\"#E5ECF6\",\"radialaxis\":{\"gridcolor\":\"white\",\"linecolor\":\"white\",\"ticks\":\"\"}},\"scene\":{\"xaxis\":{\"backgroundcolor\":\"#E5ECF6\",\"gridcolor\":\"white\",\"gridwidth\":2,\"linecolor\":\"white\",\"showbackground\":true,\"ticks\":\"\",\"zerolinecolor\":\"white\"},\"yaxis\":{\"backgroundcolor\":\"#E5ECF6\",\"gridcolor\":\"white\",\"gridwidth\":2,\"linecolor\":\"white\",\"showbackground\":true,\"ticks\":\"\",\"zerolinecolor\":\"white\"},\"zaxis\":{\"backgroundcolor\":\"#E5ECF6\",\"gridcolor\":\"white\",\"gridwidth\":2,\"linecolor\":\"white\",\"showbackground\":true,\"ticks\":\"\",\"zerolinecolor\":\"white\"}},\"shapedefaults\":{\"line\":{\"color\":\"#2a3f5f\"}},\"ternary\":{\"aaxis\":{\"gridcolor\":\"white\",\"linecolor\":\"white\",\"ticks\":\"\"},\"baxis\":{\"gridcolor\":\"white\",\"linecolor\":\"white\",\"ticks\":\"\"},\"bgcolor\":\"#E5ECF6\",\"caxis\":{\"gridcolor\":\"white\",\"linecolor\":\"white\",\"ticks\":\"\"}},\"title\":{\"x\":0.05},\"xaxis\":{\"automargin\":true,\"gridcolor\":\"white\",\"linecolor\":\"white\",\"ticks\":\"\",\"title\":{\"standoff\":15},\"zerolinecolor\":\"white\",\"zerolinewidth\":2},\"yaxis\":{\"automargin\":true,\"gridcolor\":\"white\",\"linecolor\":\"white\",\"ticks\":\"\",\"title\":{\"standoff\":15},\"zerolinecolor\":\"white\",\"zerolinewidth\":2}}},\"xaxis\":{\"anchor\":\"y\",\"domain\":[0.0,1.0],\"title\":{\"text\":\"Wall Temp [C]\"}},\"yaxis\":{\"anchor\":\"x\",\"domain\":[0.0,1.0],\"title\":{\"text\":\"Pressure Temp [C]\"}},\"legend\":{\"tracegroupgap\":0},\"margin\":{\"t\":60}},                        {\"responsive\": true}                    ).then(function(){\n",
       "                            \n",
       "var gd = document.getElementById('c3fb9226-d8ac-41c7-a1b1-3129b3e8740d');\n",
       "var x = new MutationObserver(function (mutations, observer) {{\n",
       "        var display = window.getComputedStyle(gd).display;\n",
       "        if (!display || display === 'none') {{\n",
       "            console.log([gd, 'removed!']);\n",
       "            Plotly.purge(gd);\n",
       "            observer.disconnect();\n",
       "        }}\n",
       "}});\n",
       "\n",
       "// Listen for the removal of the full notebook cells\n",
       "var notebookContainer = gd.closest('#notebook-container');\n",
       "if (notebookContainer) {{\n",
       "    x.observe(notebookContainer, {childList: true});\n",
       "}}\n",
       "\n",
       "// Listen for the clearing of the current output cell\n",
       "var outputEl = gd.closest('.output');\n",
       "if (outputEl) {{\n",
       "    x.observe(outputEl, {childList: true});\n",
       "}}\n",
       "\n",
       "                        })                };                });            </script>        </div>"
      ]
     },
     "metadata": {},
     "output_type": "display_data"
    }
   ],
   "source": [
    "fig17p = px.scatter(June17HeatingFilt, x=\"Wall Temp [C]\", y=\"Pressure Temp [C]\", trendline=\"ols\")\n",
    "fig17p.show()"
   ]
  },
  {
   "cell_type": "code",
   "execution_count": 85,
   "id": "f18256f4",
   "metadata": {
    "collapsed": true
   },
   "outputs": [
    {
     "data": {
      "application/vnd.plotly.v1+json": {
       "config": {
        "plotlyServerURL": "https://plot.ly"
       },
       "data": [
        {
         "hovertemplate": "Wall Temp [C]=%{x}<br>Pressure Temp [C]=%{y}<extra></extra>",
         "legendgroup": "",
         "marker": {
          "color": "#636efa",
          "symbol": "circle"
         },
         "mode": "markers",
         "name": "",
         "orientation": "v",
         "showlegend": false,
         "type": "scatter",
         "x": [
          92.09059956666667,
          112.44698994000001,
          131.46886749333333,
          149.47705179333335,
          166.72591044666666,
          183.29214071333334,
          199.32816365333332,
          214.65132142,
          229.53596801333333,
          243.93624063333334,
          257.8495310466667,
          271.40841472,
          284.54942424,
          297.2577006,
          309.7106201133333,
          321.80186970666665,
          333.56121826666663,
          345.0816813133333,
          356.24157512,
          367.1835795133333,
          377.91079506666665,
          388.2638265,
          398.36697388,
          408.14721476,
          417.5446858733333,
          426.62576496,
          435.3514526333333,
          443.76917520666666,
          452.04176026,
          460.12963664,
          468.04253744666664,
          475.83244221333337,
          483.3799947,
          490.78515626,
          498.0376383533333,
          501.15966999333335,
          493.52144368,
          486.1514689,
          490.12930908,
          497.39527587333333,
          502.0639363733333,
          496.08402302666667,
          487.8412048466667,
          489.32855224,
          497.1165771533333,
          506.0664917066667,
          514.7145833333333,
          521.7294514933334,
          522.37135416,
          528.1083089066667,
          533.1431536
         ],
         "xaxis": "x",
         "y": [
          22.043672942666667,
          22.163637036,
          22.307517370000003,
          22.48643786066667,
          22.700286738,
          22.948893611333336,
          23.244626489999998,
          23.581846236666667,
          23.97556940666667,
          24.43151525,
          24.926638157333333,
          25.474317424666665,
          26.086834462000002,
          26.742708332,
          27.46398849466667,
          28.224384435999998,
          29.033908081333333,
          29.898736954,
          30.839110692000002,
          31.83110008266667,
          32.852203878,
          33.931497446,
          35.05646260666666,
          36.253601836,
          37.498681387333335,
          38.778706105999994,
          40.091676582666665,
          41.44020334933334,
          42.803513082,
          44.20153096466667,
          45.65324350866667,
          47.14884948733334,
          48.644389088666664,
          50.16063664666667,
          51.70272038666667,
          53.24274520866666,
          57.135459135333335,
          57.614453379333334,
          61.003790284000004,
          61.690536498,
          62.77455902133333,
          64.27776514666667,
          65.50839182466667,
          66.90881449333334,
          67.36043141666667,
          68.46302693666667,
          69.67136484866667,
          70.86619974666668,
          72.00353647799999,
          73.09685160333333,
          73.91209411714286
         ],
         "yaxis": "y"
        },
        {
         "hovertemplate": "<b>OLS trendline</b><br>Pressure Temp [C] = 0.119524 * Wall Temp [C] + -3.05079<br>R<sup>2</sup>=0.777481<br><br>Wall Temp [C]=%{x}<br>Pressure Temp [C]=%{y} <b>(trend)</b><extra></extra>",
         "legendgroup": "",
         "marker": {
          "color": "#636efa",
          "symbol": "circle"
         },
         "mode": "lines",
         "name": "",
         "showlegend": false,
         "type": "scatter",
         "x": [
          92.09059956666667,
          112.44698994000001,
          131.46886749333333,
          149.47705179333335,
          166.72591044666666,
          183.29214071333334,
          199.32816365333332,
          214.65132142,
          229.53596801333333,
          243.93624063333334,
          257.8495310466667,
          271.40841472,
          284.54942424,
          297.2577006,
          309.7106201133333,
          321.80186970666665,
          333.56121826666663,
          345.0816813133333,
          356.24157512,
          367.1835795133333,
          377.91079506666665,
          388.2638265,
          398.36697388,
          408.14721476,
          417.5446858733333,
          426.62576496,
          435.3514526333333,
          443.76917520666666,
          452.04176026,
          460.12963664,
          468.04253744666664,
          475.83244221333337,
          483.3799947,
          486.1514689,
          487.8412048466667,
          489.32855224,
          490.12930908,
          490.78515626,
          493.52144368,
          496.08402302666667,
          497.1165771533333,
          497.39527587333333,
          498.0376383533333,
          501.15966999333335,
          502.0639363733333,
          506.0664917066667,
          514.7145833333333,
          521.7294514933334,
          522.37135416,
          528.1083089066667,
          533.1431536
         ],
         "xaxis": "x",
         "y": [
          7.956261701766238,
          10.389342790155977,
          12.662917313530674,
          14.815330971011162,
          16.8769868449676,
          18.85705211334338,
          20.773744780006414,
          22.605232813627968,
          24.384308154069764,
          26.105489087270808,
          27.768463866252333,
          29.389078466396768,
          30.9597469964789,
          32.47869344574977,
          33.967118574539896,
          35.412315398780315,
          36.817842020562914,
          38.19481604465398,
          39.52869332208174,
          40.83652754368187,
          42.11868930297327,
          43.35612700808558,
          44.563697523912104,
          45.73267290159974,
          46.855898032637356,
          47.94130666269018,
          48.98423742162248,
          49.99035890116134,
          50.97913293605745,
          51.94582981622686,
          52.891612882571735,
          53.82269494675551,
          54.72481005076697,
          55.05606826203677,
          55.25803258384467,
          55.435806577574205,
          55.53151639095816,
          55.609905994481494,
          55.936958534342494,
          56.24324875729089,
          56.36666395380935,
          56.39997519281363,
          56.47675304848034,
          56.84991135411931,
          56.957993061519005,
          57.43639524914478,
          58.470051403384595,
          59.30849784426255,
          59.38522074111264,
          60.070925615261054,
          60.672711353383676
         ],
         "yaxis": "y"
        }
       ],
       "layout": {
        "legend": {
         "tracegroupgap": 0
        },
        "margin": {
         "t": 60
        },
        "template": {
         "data": {
          "bar": [
           {
            "error_x": {
             "color": "#2a3f5f"
            },
            "error_y": {
             "color": "#2a3f5f"
            },
            "marker": {
             "line": {
              "color": "#E5ECF6",
              "width": 0.5
             },
             "pattern": {
              "fillmode": "overlay",
              "size": 10,
              "solidity": 0.2
             }
            },
            "type": "bar"
           }
          ],
          "barpolar": [
           {
            "marker": {
             "line": {
              "color": "#E5ECF6",
              "width": 0.5
             },
             "pattern": {
              "fillmode": "overlay",
              "size": 10,
              "solidity": 0.2
             }
            },
            "type": "barpolar"
           }
          ],
          "carpet": [
           {
            "aaxis": {
             "endlinecolor": "#2a3f5f",
             "gridcolor": "white",
             "linecolor": "white",
             "minorgridcolor": "white",
             "startlinecolor": "#2a3f5f"
            },
            "baxis": {
             "endlinecolor": "#2a3f5f",
             "gridcolor": "white",
             "linecolor": "white",
             "minorgridcolor": "white",
             "startlinecolor": "#2a3f5f"
            },
            "type": "carpet"
           }
          ],
          "choropleth": [
           {
            "colorbar": {
             "outlinewidth": 0,
             "ticks": ""
            },
            "type": "choropleth"
           }
          ],
          "contour": [
           {
            "colorbar": {
             "outlinewidth": 0,
             "ticks": ""
            },
            "colorscale": [
             [
              0,
              "#0d0887"
             ],
             [
              0.1111111111111111,
              "#46039f"
             ],
             [
              0.2222222222222222,
              "#7201a8"
             ],
             [
              0.3333333333333333,
              "#9c179e"
             ],
             [
              0.4444444444444444,
              "#bd3786"
             ],
             [
              0.5555555555555556,
              "#d8576b"
             ],
             [
              0.6666666666666666,
              "#ed7953"
             ],
             [
              0.7777777777777778,
              "#fb9f3a"
             ],
             [
              0.8888888888888888,
              "#fdca26"
             ],
             [
              1,
              "#f0f921"
             ]
            ],
            "type": "contour"
           }
          ],
          "contourcarpet": [
           {
            "colorbar": {
             "outlinewidth": 0,
             "ticks": ""
            },
            "type": "contourcarpet"
           }
          ],
          "heatmap": [
           {
            "colorbar": {
             "outlinewidth": 0,
             "ticks": ""
            },
            "colorscale": [
             [
              0,
              "#0d0887"
             ],
             [
              0.1111111111111111,
              "#46039f"
             ],
             [
              0.2222222222222222,
              "#7201a8"
             ],
             [
              0.3333333333333333,
              "#9c179e"
             ],
             [
              0.4444444444444444,
              "#bd3786"
             ],
             [
              0.5555555555555556,
              "#d8576b"
             ],
             [
              0.6666666666666666,
              "#ed7953"
             ],
             [
              0.7777777777777778,
              "#fb9f3a"
             ],
             [
              0.8888888888888888,
              "#fdca26"
             ],
             [
              1,
              "#f0f921"
             ]
            ],
            "type": "heatmap"
           }
          ],
          "heatmapgl": [
           {
            "colorbar": {
             "outlinewidth": 0,
             "ticks": ""
            },
            "colorscale": [
             [
              0,
              "#0d0887"
             ],
             [
              0.1111111111111111,
              "#46039f"
             ],
             [
              0.2222222222222222,
              "#7201a8"
             ],
             [
              0.3333333333333333,
              "#9c179e"
             ],
             [
              0.4444444444444444,
              "#bd3786"
             ],
             [
              0.5555555555555556,
              "#d8576b"
             ],
             [
              0.6666666666666666,
              "#ed7953"
             ],
             [
              0.7777777777777778,
              "#fb9f3a"
             ],
             [
              0.8888888888888888,
              "#fdca26"
             ],
             [
              1,
              "#f0f921"
             ]
            ],
            "type": "heatmapgl"
           }
          ],
          "histogram": [
           {
            "marker": {
             "pattern": {
              "fillmode": "overlay",
              "size": 10,
              "solidity": 0.2
             }
            },
            "type": "histogram"
           }
          ],
          "histogram2d": [
           {
            "colorbar": {
             "outlinewidth": 0,
             "ticks": ""
            },
            "colorscale": [
             [
              0,
              "#0d0887"
             ],
             [
              0.1111111111111111,
              "#46039f"
             ],
             [
              0.2222222222222222,
              "#7201a8"
             ],
             [
              0.3333333333333333,
              "#9c179e"
             ],
             [
              0.4444444444444444,
              "#bd3786"
             ],
             [
              0.5555555555555556,
              "#d8576b"
             ],
             [
              0.6666666666666666,
              "#ed7953"
             ],
             [
              0.7777777777777778,
              "#fb9f3a"
             ],
             [
              0.8888888888888888,
              "#fdca26"
             ],
             [
              1,
              "#f0f921"
             ]
            ],
            "type": "histogram2d"
           }
          ],
          "histogram2dcontour": [
           {
            "colorbar": {
             "outlinewidth": 0,
             "ticks": ""
            },
            "colorscale": [
             [
              0,
              "#0d0887"
             ],
             [
              0.1111111111111111,
              "#46039f"
             ],
             [
              0.2222222222222222,
              "#7201a8"
             ],
             [
              0.3333333333333333,
              "#9c179e"
             ],
             [
              0.4444444444444444,
              "#bd3786"
             ],
             [
              0.5555555555555556,
              "#d8576b"
             ],
             [
              0.6666666666666666,
              "#ed7953"
             ],
             [
              0.7777777777777778,
              "#fb9f3a"
             ],
             [
              0.8888888888888888,
              "#fdca26"
             ],
             [
              1,
              "#f0f921"
             ]
            ],
            "type": "histogram2dcontour"
           }
          ],
          "mesh3d": [
           {
            "colorbar": {
             "outlinewidth": 0,
             "ticks": ""
            },
            "type": "mesh3d"
           }
          ],
          "parcoords": [
           {
            "line": {
             "colorbar": {
              "outlinewidth": 0,
              "ticks": ""
             }
            },
            "type": "parcoords"
           }
          ],
          "pie": [
           {
            "automargin": true,
            "type": "pie"
           }
          ],
          "scatter": [
           {
            "marker": {
             "colorbar": {
              "outlinewidth": 0,
              "ticks": ""
             }
            },
            "type": "scatter"
           }
          ],
          "scatter3d": [
           {
            "line": {
             "colorbar": {
              "outlinewidth": 0,
              "ticks": ""
             }
            },
            "marker": {
             "colorbar": {
              "outlinewidth": 0,
              "ticks": ""
             }
            },
            "type": "scatter3d"
           }
          ],
          "scattercarpet": [
           {
            "marker": {
             "colorbar": {
              "outlinewidth": 0,
              "ticks": ""
             }
            },
            "type": "scattercarpet"
           }
          ],
          "scattergeo": [
           {
            "marker": {
             "colorbar": {
              "outlinewidth": 0,
              "ticks": ""
             }
            },
            "type": "scattergeo"
           }
          ],
          "scattergl": [
           {
            "marker": {
             "colorbar": {
              "outlinewidth": 0,
              "ticks": ""
             }
            },
            "type": "scattergl"
           }
          ],
          "scattermapbox": [
           {
            "marker": {
             "colorbar": {
              "outlinewidth": 0,
              "ticks": ""
             }
            },
            "type": "scattermapbox"
           }
          ],
          "scatterpolar": [
           {
            "marker": {
             "colorbar": {
              "outlinewidth": 0,
              "ticks": ""
             }
            },
            "type": "scatterpolar"
           }
          ],
          "scatterpolargl": [
           {
            "marker": {
             "colorbar": {
              "outlinewidth": 0,
              "ticks": ""
             }
            },
            "type": "scatterpolargl"
           }
          ],
          "scatterternary": [
           {
            "marker": {
             "colorbar": {
              "outlinewidth": 0,
              "ticks": ""
             }
            },
            "type": "scatterternary"
           }
          ],
          "surface": [
           {
            "colorbar": {
             "outlinewidth": 0,
             "ticks": ""
            },
            "colorscale": [
             [
              0,
              "#0d0887"
             ],
             [
              0.1111111111111111,
              "#46039f"
             ],
             [
              0.2222222222222222,
              "#7201a8"
             ],
             [
              0.3333333333333333,
              "#9c179e"
             ],
             [
              0.4444444444444444,
              "#bd3786"
             ],
             [
              0.5555555555555556,
              "#d8576b"
             ],
             [
              0.6666666666666666,
              "#ed7953"
             ],
             [
              0.7777777777777778,
              "#fb9f3a"
             ],
             [
              0.8888888888888888,
              "#fdca26"
             ],
             [
              1,
              "#f0f921"
             ]
            ],
            "type": "surface"
           }
          ],
          "table": [
           {
            "cells": {
             "fill": {
              "color": "#EBF0F8"
             },
             "line": {
              "color": "white"
             }
            },
            "header": {
             "fill": {
              "color": "#C8D4E3"
             },
             "line": {
              "color": "white"
             }
            },
            "type": "table"
           }
          ]
         },
         "layout": {
          "annotationdefaults": {
           "arrowcolor": "#2a3f5f",
           "arrowhead": 0,
           "arrowwidth": 1
          },
          "autotypenumbers": "strict",
          "coloraxis": {
           "colorbar": {
            "outlinewidth": 0,
            "ticks": ""
           }
          },
          "colorscale": {
           "diverging": [
            [
             0,
             "#8e0152"
            ],
            [
             0.1,
             "#c51b7d"
            ],
            [
             0.2,
             "#de77ae"
            ],
            [
             0.3,
             "#f1b6da"
            ],
            [
             0.4,
             "#fde0ef"
            ],
            [
             0.5,
             "#f7f7f7"
            ],
            [
             0.6,
             "#e6f5d0"
            ],
            [
             0.7,
             "#b8e186"
            ],
            [
             0.8,
             "#7fbc41"
            ],
            [
             0.9,
             "#4d9221"
            ],
            [
             1,
             "#276419"
            ]
           ],
           "sequential": [
            [
             0,
             "#0d0887"
            ],
            [
             0.1111111111111111,
             "#46039f"
            ],
            [
             0.2222222222222222,
             "#7201a8"
            ],
            [
             0.3333333333333333,
             "#9c179e"
            ],
            [
             0.4444444444444444,
             "#bd3786"
            ],
            [
             0.5555555555555556,
             "#d8576b"
            ],
            [
             0.6666666666666666,
             "#ed7953"
            ],
            [
             0.7777777777777778,
             "#fb9f3a"
            ],
            [
             0.8888888888888888,
             "#fdca26"
            ],
            [
             1,
             "#f0f921"
            ]
           ],
           "sequentialminus": [
            [
             0,
             "#0d0887"
            ],
            [
             0.1111111111111111,
             "#46039f"
            ],
            [
             0.2222222222222222,
             "#7201a8"
            ],
            [
             0.3333333333333333,
             "#9c179e"
            ],
            [
             0.4444444444444444,
             "#bd3786"
            ],
            [
             0.5555555555555556,
             "#d8576b"
            ],
            [
             0.6666666666666666,
             "#ed7953"
            ],
            [
             0.7777777777777778,
             "#fb9f3a"
            ],
            [
             0.8888888888888888,
             "#fdca26"
            ],
            [
             1,
             "#f0f921"
            ]
           ]
          },
          "colorway": [
           "#636efa",
           "#EF553B",
           "#00cc96",
           "#ab63fa",
           "#FFA15A",
           "#19d3f3",
           "#FF6692",
           "#B6E880",
           "#FF97FF",
           "#FECB52"
          ],
          "font": {
           "color": "#2a3f5f"
          },
          "geo": {
           "bgcolor": "white",
           "lakecolor": "white",
           "landcolor": "#E5ECF6",
           "showlakes": true,
           "showland": true,
           "subunitcolor": "white"
          },
          "hoverlabel": {
           "align": "left"
          },
          "hovermode": "closest",
          "mapbox": {
           "style": "light"
          },
          "paper_bgcolor": "white",
          "plot_bgcolor": "#E5ECF6",
          "polar": {
           "angularaxis": {
            "gridcolor": "white",
            "linecolor": "white",
            "ticks": ""
           },
           "bgcolor": "#E5ECF6",
           "radialaxis": {
            "gridcolor": "white",
            "linecolor": "white",
            "ticks": ""
           }
          },
          "scene": {
           "xaxis": {
            "backgroundcolor": "#E5ECF6",
            "gridcolor": "white",
            "gridwidth": 2,
            "linecolor": "white",
            "showbackground": true,
            "ticks": "",
            "zerolinecolor": "white"
           },
           "yaxis": {
            "backgroundcolor": "#E5ECF6",
            "gridcolor": "white",
            "gridwidth": 2,
            "linecolor": "white",
            "showbackground": true,
            "ticks": "",
            "zerolinecolor": "white"
           },
           "zaxis": {
            "backgroundcolor": "#E5ECF6",
            "gridcolor": "white",
            "gridwidth": 2,
            "linecolor": "white",
            "showbackground": true,
            "ticks": "",
            "zerolinecolor": "white"
           }
          },
          "shapedefaults": {
           "line": {
            "color": "#2a3f5f"
           }
          },
          "ternary": {
           "aaxis": {
            "gridcolor": "white",
            "linecolor": "white",
            "ticks": ""
           },
           "baxis": {
            "gridcolor": "white",
            "linecolor": "white",
            "ticks": ""
           },
           "bgcolor": "#E5ECF6",
           "caxis": {
            "gridcolor": "white",
            "linecolor": "white",
            "ticks": ""
           }
          },
          "title": {
           "x": 0.05
          },
          "xaxis": {
           "automargin": true,
           "gridcolor": "white",
           "linecolor": "white",
           "ticks": "",
           "title": {
            "standoff": 15
           },
           "zerolinecolor": "white",
           "zerolinewidth": 2
          },
          "yaxis": {
           "automargin": true,
           "gridcolor": "white",
           "linecolor": "white",
           "ticks": "",
           "title": {
            "standoff": 15
           },
           "zerolinecolor": "white",
           "zerolinewidth": 2
          }
         }
        },
        "xaxis": {
         "anchor": "y",
         "domain": [
          0,
          1
         ],
         "title": {
          "text": "Wall Temp [C]"
         }
        },
        "yaxis": {
         "anchor": "x",
         "domain": [
          0,
          1
         ],
         "title": {
          "text": "Pressure Temp [C]"
         }
        }
       }
      },
      "text/html": [
       "<div>                            <div id=\"c91d82c4-bc88-4248-b5d9-575a8c3e52fb\" class=\"plotly-graph-div\" style=\"height:525px; width:100%;\"></div>            <script type=\"text/javascript\">                require([\"plotly\"], function(Plotly) {                    window.PLOTLYENV=window.PLOTLYENV || {};                                    if (document.getElementById(\"c91d82c4-bc88-4248-b5d9-575a8c3e52fb\")) {                    Plotly.newPlot(                        \"c91d82c4-bc88-4248-b5d9-575a8c3e52fb\",                        [{\"hovertemplate\":\"Wall Temp [C]=%{x}<br>Pressure Temp [C]=%{y}<extra></extra>\",\"legendgroup\":\"\",\"marker\":{\"color\":\"#636efa\",\"symbol\":\"circle\"},\"mode\":\"markers\",\"name\":\"\",\"orientation\":\"v\",\"showlegend\":false,\"x\":[92.09059956666667,112.44698994000001,131.46886749333333,149.47705179333335,166.72591044666666,183.29214071333334,199.32816365333332,214.65132142,229.53596801333333,243.93624063333334,257.8495310466667,271.40841472,284.54942424,297.2577006,309.7106201133333,321.80186970666665,333.56121826666663,345.0816813133333,356.24157512,367.1835795133333,377.91079506666665,388.2638265,398.36697388,408.14721476,417.5446858733333,426.62576496,435.3514526333333,443.76917520666666,452.04176026,460.12963664,468.04253744666664,475.83244221333337,483.3799947,490.78515626,498.0376383533333,501.15966999333335,493.52144368,486.1514689,490.12930908,497.39527587333333,502.0639363733333,496.08402302666667,487.8412048466667,489.32855224,497.1165771533333,506.0664917066667,514.7145833333333,521.7294514933334,522.37135416,528.1083089066667,533.1431536],\"xaxis\":\"x\",\"y\":[22.043672942666667,22.163637036,22.307517370000003,22.48643786066667,22.700286738,22.948893611333336,23.244626489999998,23.581846236666667,23.97556940666667,24.43151525,24.926638157333333,25.474317424666665,26.086834462000002,26.742708332,27.46398849466667,28.224384435999998,29.033908081333333,29.898736954,30.839110692000002,31.83110008266667,32.852203878,33.931497446,35.05646260666666,36.253601836,37.498681387333335,38.778706105999994,40.091676582666665,41.44020334933334,42.803513082,44.20153096466667,45.65324350866667,47.14884948733334,48.644389088666664,50.16063664666667,51.70272038666667,53.24274520866666,57.135459135333335,57.614453379333334,61.003790284000004,61.690536498,62.77455902133333,64.27776514666667,65.50839182466667,66.90881449333334,67.36043141666667,68.46302693666667,69.67136484866667,70.86619974666668,72.00353647799999,73.09685160333333,73.91209411714286],\"yaxis\":\"y\",\"type\":\"scatter\"},{\"hovertemplate\":\"<b>OLS trendline</b><br>Pressure Temp [C] = 0.119524 * Wall Temp [C] + -3.05079<br>R<sup>2</sup>=0.777481<br><br>Wall Temp [C]=%{x}<br>Pressure Temp [C]=%{y} <b>(trend)</b><extra></extra>\",\"legendgroup\":\"\",\"marker\":{\"color\":\"#636efa\",\"symbol\":\"circle\"},\"mode\":\"lines\",\"name\":\"\",\"showlegend\":false,\"x\":[92.09059956666667,112.44698994000001,131.46886749333333,149.47705179333335,166.72591044666666,183.29214071333334,199.32816365333332,214.65132142,229.53596801333333,243.93624063333334,257.8495310466667,271.40841472,284.54942424,297.2577006,309.7106201133333,321.80186970666665,333.56121826666663,345.0816813133333,356.24157512,367.1835795133333,377.91079506666665,388.2638265,398.36697388,408.14721476,417.5446858733333,426.62576496,435.3514526333333,443.76917520666666,452.04176026,460.12963664,468.04253744666664,475.83244221333337,483.3799947,486.1514689,487.8412048466667,489.32855224,490.12930908,490.78515626,493.52144368,496.08402302666667,497.1165771533333,497.39527587333333,498.0376383533333,501.15966999333335,502.0639363733333,506.0664917066667,514.7145833333333,521.7294514933334,522.37135416,528.1083089066667,533.1431536],\"xaxis\":\"x\",\"y\":[7.956261701766238,10.389342790155977,12.662917313530674,14.815330971011162,16.8769868449676,18.85705211334338,20.773744780006414,22.605232813627968,24.384308154069764,26.105489087270808,27.768463866252333,29.389078466396768,30.9597469964789,32.47869344574977,33.967118574539896,35.412315398780315,36.817842020562914,38.19481604465398,39.52869332208174,40.83652754368187,42.11868930297327,43.35612700808558,44.563697523912104,45.73267290159974,46.855898032637356,47.94130666269018,48.98423742162248,49.99035890116134,50.97913293605745,51.94582981622686,52.891612882571735,53.82269494675551,54.72481005076697,55.05606826203677,55.25803258384467,55.435806577574205,55.53151639095816,55.609905994481494,55.936958534342494,56.24324875729089,56.36666395380935,56.39997519281363,56.47675304848034,56.84991135411931,56.957993061519005,57.43639524914478,58.470051403384595,59.30849784426255,59.38522074111264,60.070925615261054,60.672711353383676],\"yaxis\":\"y\",\"type\":\"scatter\"}],                        {\"template\":{\"data\":{\"bar\":[{\"error_x\":{\"color\":\"#2a3f5f\"},\"error_y\":{\"color\":\"#2a3f5f\"},\"marker\":{\"line\":{\"color\":\"#E5ECF6\",\"width\":0.5},\"pattern\":{\"fillmode\":\"overlay\",\"size\":10,\"solidity\":0.2}},\"type\":\"bar\"}],\"barpolar\":[{\"marker\":{\"line\":{\"color\":\"#E5ECF6\",\"width\":0.5},\"pattern\":{\"fillmode\":\"overlay\",\"size\":10,\"solidity\":0.2}},\"type\":\"barpolar\"}],\"carpet\":[{\"aaxis\":{\"endlinecolor\":\"#2a3f5f\",\"gridcolor\":\"white\",\"linecolor\":\"white\",\"minorgridcolor\":\"white\",\"startlinecolor\":\"#2a3f5f\"},\"baxis\":{\"endlinecolor\":\"#2a3f5f\",\"gridcolor\":\"white\",\"linecolor\":\"white\",\"minorgridcolor\":\"white\",\"startlinecolor\":\"#2a3f5f\"},\"type\":\"carpet\"}],\"choropleth\":[{\"colorbar\":{\"outlinewidth\":0,\"ticks\":\"\"},\"type\":\"choropleth\"}],\"contour\":[{\"colorbar\":{\"outlinewidth\":0,\"ticks\":\"\"},\"colorscale\":[[0.0,\"#0d0887\"],[0.1111111111111111,\"#46039f\"],[0.2222222222222222,\"#7201a8\"],[0.3333333333333333,\"#9c179e\"],[0.4444444444444444,\"#bd3786\"],[0.5555555555555556,\"#d8576b\"],[0.6666666666666666,\"#ed7953\"],[0.7777777777777778,\"#fb9f3a\"],[0.8888888888888888,\"#fdca26\"],[1.0,\"#f0f921\"]],\"type\":\"contour\"}],\"contourcarpet\":[{\"colorbar\":{\"outlinewidth\":0,\"ticks\":\"\"},\"type\":\"contourcarpet\"}],\"heatmap\":[{\"colorbar\":{\"outlinewidth\":0,\"ticks\":\"\"},\"colorscale\":[[0.0,\"#0d0887\"],[0.1111111111111111,\"#46039f\"],[0.2222222222222222,\"#7201a8\"],[0.3333333333333333,\"#9c179e\"],[0.4444444444444444,\"#bd3786\"],[0.5555555555555556,\"#d8576b\"],[0.6666666666666666,\"#ed7953\"],[0.7777777777777778,\"#fb9f3a\"],[0.8888888888888888,\"#fdca26\"],[1.0,\"#f0f921\"]],\"type\":\"heatmap\"}],\"heatmapgl\":[{\"colorbar\":{\"outlinewidth\":0,\"ticks\":\"\"},\"colorscale\":[[0.0,\"#0d0887\"],[0.1111111111111111,\"#46039f\"],[0.2222222222222222,\"#7201a8\"],[0.3333333333333333,\"#9c179e\"],[0.4444444444444444,\"#bd3786\"],[0.5555555555555556,\"#d8576b\"],[0.6666666666666666,\"#ed7953\"],[0.7777777777777778,\"#fb9f3a\"],[0.8888888888888888,\"#fdca26\"],[1.0,\"#f0f921\"]],\"type\":\"heatmapgl\"}],\"histogram\":[{\"marker\":{\"pattern\":{\"fillmode\":\"overlay\",\"size\":10,\"solidity\":0.2}},\"type\":\"histogram\"}],\"histogram2d\":[{\"colorbar\":{\"outlinewidth\":0,\"ticks\":\"\"},\"colorscale\":[[0.0,\"#0d0887\"],[0.1111111111111111,\"#46039f\"],[0.2222222222222222,\"#7201a8\"],[0.3333333333333333,\"#9c179e\"],[0.4444444444444444,\"#bd3786\"],[0.5555555555555556,\"#d8576b\"],[0.6666666666666666,\"#ed7953\"],[0.7777777777777778,\"#fb9f3a\"],[0.8888888888888888,\"#fdca26\"],[1.0,\"#f0f921\"]],\"type\":\"histogram2d\"}],\"histogram2dcontour\":[{\"colorbar\":{\"outlinewidth\":0,\"ticks\":\"\"},\"colorscale\":[[0.0,\"#0d0887\"],[0.1111111111111111,\"#46039f\"],[0.2222222222222222,\"#7201a8\"],[0.3333333333333333,\"#9c179e\"],[0.4444444444444444,\"#bd3786\"],[0.5555555555555556,\"#d8576b\"],[0.6666666666666666,\"#ed7953\"],[0.7777777777777778,\"#fb9f3a\"],[0.8888888888888888,\"#fdca26\"],[1.0,\"#f0f921\"]],\"type\":\"histogram2dcontour\"}],\"mesh3d\":[{\"colorbar\":{\"outlinewidth\":0,\"ticks\":\"\"},\"type\":\"mesh3d\"}],\"parcoords\":[{\"line\":{\"colorbar\":{\"outlinewidth\":0,\"ticks\":\"\"}},\"type\":\"parcoords\"}],\"pie\":[{\"automargin\":true,\"type\":\"pie\"}],\"scatter\":[{\"marker\":{\"colorbar\":{\"outlinewidth\":0,\"ticks\":\"\"}},\"type\":\"scatter\"}],\"scatter3d\":[{\"line\":{\"colorbar\":{\"outlinewidth\":0,\"ticks\":\"\"}},\"marker\":{\"colorbar\":{\"outlinewidth\":0,\"ticks\":\"\"}},\"type\":\"scatter3d\"}],\"scattercarpet\":[{\"marker\":{\"colorbar\":{\"outlinewidth\":0,\"ticks\":\"\"}},\"type\":\"scattercarpet\"}],\"scattergeo\":[{\"marker\":{\"colorbar\":{\"outlinewidth\":0,\"ticks\":\"\"}},\"type\":\"scattergeo\"}],\"scattergl\":[{\"marker\":{\"colorbar\":{\"outlinewidth\":0,\"ticks\":\"\"}},\"type\":\"scattergl\"}],\"scattermapbox\":[{\"marker\":{\"colorbar\":{\"outlinewidth\":0,\"ticks\":\"\"}},\"type\":\"scattermapbox\"}],\"scatterpolar\":[{\"marker\":{\"colorbar\":{\"outlinewidth\":0,\"ticks\":\"\"}},\"type\":\"scatterpolar\"}],\"scatterpolargl\":[{\"marker\":{\"colorbar\":{\"outlinewidth\":0,\"ticks\":\"\"}},\"type\":\"scatterpolargl\"}],\"scatterternary\":[{\"marker\":{\"colorbar\":{\"outlinewidth\":0,\"ticks\":\"\"}},\"type\":\"scatterternary\"}],\"surface\":[{\"colorbar\":{\"outlinewidth\":0,\"ticks\":\"\"},\"colorscale\":[[0.0,\"#0d0887\"],[0.1111111111111111,\"#46039f\"],[0.2222222222222222,\"#7201a8\"],[0.3333333333333333,\"#9c179e\"],[0.4444444444444444,\"#bd3786\"],[0.5555555555555556,\"#d8576b\"],[0.6666666666666666,\"#ed7953\"],[0.7777777777777778,\"#fb9f3a\"],[0.8888888888888888,\"#fdca26\"],[1.0,\"#f0f921\"]],\"type\":\"surface\"}],\"table\":[{\"cells\":{\"fill\":{\"color\":\"#EBF0F8\"},\"line\":{\"color\":\"white\"}},\"header\":{\"fill\":{\"color\":\"#C8D4E3\"},\"line\":{\"color\":\"white\"}},\"type\":\"table\"}]},\"layout\":{\"annotationdefaults\":{\"arrowcolor\":\"#2a3f5f\",\"arrowhead\":0,\"arrowwidth\":1},\"autotypenumbers\":\"strict\",\"coloraxis\":{\"colorbar\":{\"outlinewidth\":0,\"ticks\":\"\"}},\"colorscale\":{\"diverging\":[[0,\"#8e0152\"],[0.1,\"#c51b7d\"],[0.2,\"#de77ae\"],[0.3,\"#f1b6da\"],[0.4,\"#fde0ef\"],[0.5,\"#f7f7f7\"],[0.6,\"#e6f5d0\"],[0.7,\"#b8e186\"],[0.8,\"#7fbc41\"],[0.9,\"#4d9221\"],[1,\"#276419\"]],\"sequential\":[[0.0,\"#0d0887\"],[0.1111111111111111,\"#46039f\"],[0.2222222222222222,\"#7201a8\"],[0.3333333333333333,\"#9c179e\"],[0.4444444444444444,\"#bd3786\"],[0.5555555555555556,\"#d8576b\"],[0.6666666666666666,\"#ed7953\"],[0.7777777777777778,\"#fb9f3a\"],[0.8888888888888888,\"#fdca26\"],[1.0,\"#f0f921\"]],\"sequentialminus\":[[0.0,\"#0d0887\"],[0.1111111111111111,\"#46039f\"],[0.2222222222222222,\"#7201a8\"],[0.3333333333333333,\"#9c179e\"],[0.4444444444444444,\"#bd3786\"],[0.5555555555555556,\"#d8576b\"],[0.6666666666666666,\"#ed7953\"],[0.7777777777777778,\"#fb9f3a\"],[0.8888888888888888,\"#fdca26\"],[1.0,\"#f0f921\"]]},\"colorway\":[\"#636efa\",\"#EF553B\",\"#00cc96\",\"#ab63fa\",\"#FFA15A\",\"#19d3f3\",\"#FF6692\",\"#B6E880\",\"#FF97FF\",\"#FECB52\"],\"font\":{\"color\":\"#2a3f5f\"},\"geo\":{\"bgcolor\":\"white\",\"lakecolor\":\"white\",\"landcolor\":\"#E5ECF6\",\"showlakes\":true,\"showland\":true,\"subunitcolor\":\"white\"},\"hoverlabel\":{\"align\":\"left\"},\"hovermode\":\"closest\",\"mapbox\":{\"style\":\"light\"},\"paper_bgcolor\":\"white\",\"plot_bgcolor\":\"#E5ECF6\",\"polar\":{\"angularaxis\":{\"gridcolor\":\"white\",\"linecolor\":\"white\",\"ticks\":\"\"},\"bgcolor\":\"#E5ECF6\",\"radialaxis\":{\"gridcolor\":\"white\",\"linecolor\":\"white\",\"ticks\":\"\"}},\"scene\":{\"xaxis\":{\"backgroundcolor\":\"#E5ECF6\",\"gridcolor\":\"white\",\"gridwidth\":2,\"linecolor\":\"white\",\"showbackground\":true,\"ticks\":\"\",\"zerolinecolor\":\"white\"},\"yaxis\":{\"backgroundcolor\":\"#E5ECF6\",\"gridcolor\":\"white\",\"gridwidth\":2,\"linecolor\":\"white\",\"showbackground\":true,\"ticks\":\"\",\"zerolinecolor\":\"white\"},\"zaxis\":{\"backgroundcolor\":\"#E5ECF6\",\"gridcolor\":\"white\",\"gridwidth\":2,\"linecolor\":\"white\",\"showbackground\":true,\"ticks\":\"\",\"zerolinecolor\":\"white\"}},\"shapedefaults\":{\"line\":{\"color\":\"#2a3f5f\"}},\"ternary\":{\"aaxis\":{\"gridcolor\":\"white\",\"linecolor\":\"white\",\"ticks\":\"\"},\"baxis\":{\"gridcolor\":\"white\",\"linecolor\":\"white\",\"ticks\":\"\"},\"bgcolor\":\"#E5ECF6\",\"caxis\":{\"gridcolor\":\"white\",\"linecolor\":\"white\",\"ticks\":\"\"}},\"title\":{\"x\":0.05},\"xaxis\":{\"automargin\":true,\"gridcolor\":\"white\",\"linecolor\":\"white\",\"ticks\":\"\",\"title\":{\"standoff\":15},\"zerolinecolor\":\"white\",\"zerolinewidth\":2},\"yaxis\":{\"automargin\":true,\"gridcolor\":\"white\",\"linecolor\":\"white\",\"ticks\":\"\",\"title\":{\"standoff\":15},\"zerolinecolor\":\"white\",\"zerolinewidth\":2}}},\"xaxis\":{\"anchor\":\"y\",\"domain\":[0.0,1.0],\"title\":{\"text\":\"Wall Temp [C]\"}},\"yaxis\":{\"anchor\":\"x\",\"domain\":[0.0,1.0],\"title\":{\"text\":\"Pressure Temp [C]\"}},\"legend\":{\"tracegroupgap\":0},\"margin\":{\"t\":60}},                        {\"responsive\": true}                    ).then(function(){\n",
       "                            \n",
       "var gd = document.getElementById('c91d82c4-bc88-4248-b5d9-575a8c3e52fb');\n",
       "var x = new MutationObserver(function (mutations, observer) {{\n",
       "        var display = window.getComputedStyle(gd).display;\n",
       "        if (!display || display === 'none') {{\n",
       "            console.log([gd, 'removed!']);\n",
       "            Plotly.purge(gd);\n",
       "            observer.disconnect();\n",
       "        }}\n",
       "}});\n",
       "\n",
       "// Listen for the removal of the full notebook cells\n",
       "var notebookContainer = gd.closest('#notebook-container');\n",
       "if (notebookContainer) {{\n",
       "    x.observe(notebookContainer, {childList: true});\n",
       "}}\n",
       "\n",
       "// Listen for the clearing of the current output cell\n",
       "var outputEl = gd.closest('.output');\n",
       "if (outputEl) {{\n",
       "    x.observe(outputEl, {childList: true});\n",
       "}}\n",
       "\n",
       "                        })                };                });            </script>        </div>"
      ]
     },
     "metadata": {},
     "output_type": "display_data"
    }
   ],
   "source": [
    "fig18p = px.scatter(June18HeatingFilt, x=\"Wall Temp [C]\", y=\"Pressure Temp [C]\", trendline=\"ols\")\n",
    "fig18p.show()"
   ]
  },
  {
   "cell_type": "code",
   "execution_count": 86,
   "id": "ba3af770",
   "metadata": {},
   "outputs": [],
   "source": [
    "temp2 = [40, 60, 80, 100, 120, 140, 160, 180, 200, 220, 240, 260, 280, 300, 320, 340, 360, 380, 400, 420, 440, 460, 480, 500, 520, 540, 560, 580, 600, 620, 640, 660, 680, 700, 720]"
   ]
  },
  {
   "cell_type": "code",
   "execution_count": 87,
   "id": "f9f45e71",
   "metadata": {},
   "outputs": [],
   "source": [
    "LinearTable = pd.DataFrame()\n",
    "LinearTable[\"Wall Temp [C]\"] = temp2\n",
    "LinearTable[\"Internal Temp [C]\"] = (  ((LinearTable[\"Wall Temp [C]\"]*0.947131)-3.49425)+((LinearTable[\"Wall Temp [C]\"]*0.927913)-7.14268)+((LinearTable[\"Wall Temp [C]\"]*0.964099)-23.6889)+((LinearTable[\"Wall Temp [C]\"]*1.01302)-46.4805)  )/4\n",
    "LinearTable[\"Injector Temp [C]\"] = (  ((LinearTable[\"Wall Temp [C]\"]*0.13217)+39.8724)+((LinearTable[\"Wall Temp [C]\"]*0.138735)+32.8766)+((LinearTable[\"Wall Temp [C]\"]*0.174733)+28.4683)+((LinearTable[\"Wall Temp [C]\"]*0.161396)+9.11835)  )/4\n",
    "LinearTable[\"Pressure Temp [C]\"] = (  ((LinearTable[\"Wall Temp [C]\"]*0.128791)+11.5242)+((LinearTable[\"Wall Temp [C]\"]*0.0790432)+11.5899)+((LinearTable[\"Wall Temp [C]\"]*0.119524)-3.05079)  )/3"
   ]
  },
  {
   "cell_type": "code",
   "execution_count": 88,
   "id": "e5c7f2c7",
   "metadata": {},
   "outputs": [],
   "source": [
    "June14Cooling = June14Test.iloc[June14maxid + 8:,:]\n",
    "June17Cooling = June17Test.iloc[June17maxid + 8:,:]\n",
    "June18Cooling = June18Test.iloc[June18maxid + 8:,:]"
   ]
  },
  {
   "cell_type": "code",
   "execution_count": 89,
   "id": "84bc82fe",
   "metadata": {},
   "outputs": [],
   "source": [
    "June18Cooling = June18Cooling.drop(columns=(\"Time\"))\n",
    "June17Cooling = June17Cooling.drop(columns=(\"Time\"))\n",
    "June14Cooling = June14Cooling.drop(columns=(\"Time\"))"
   ]
  },
  {
   "cell_type": "code",
   "execution_count": 90,
   "id": "68dec92b",
   "metadata": {},
   "outputs": [],
   "source": [
    "June18Cooling[\"l\"]=0\n",
    "June17Cooling[\"l\"]=0\n",
    "June14Cooling[\"l\"]=0"
   ]
  },
  {
   "cell_type": "code",
   "execution_count": 91,
   "id": "5d6e46d1",
   "metadata": {},
   "outputs": [],
   "source": [
    "i = 0\n",
    "j = 0\n",
    "for index, row in June18Cooling.iterrows():\n",
    "    June18Cooling.loc[index,\"l\"] = i\n",
    "    j += 1\n",
    "    if j == 15:\n",
    "        j = 0\n",
    "        i += 1"
   ]
  },
  {
   "cell_type": "code",
   "execution_count": 92,
   "id": "15506b4e",
   "metadata": {},
   "outputs": [],
   "source": [
    "i = 0\n",
    "j = 0\n",
    "for index, row in June17Cooling.iterrows():\n",
    "    June17Cooling.loc[index,\"l\"] = i\n",
    "    j += 1\n",
    "    if j == 15:\n",
    "        j = 0\n",
    "        i += 1"
   ]
  },
  {
   "cell_type": "code",
   "execution_count": 93,
   "id": "318b6201",
   "metadata": {},
   "outputs": [],
   "source": [
    "i = 0\n",
    "j = 0\n",
    "for index, row in June14Cooling.iterrows():\n",
    "    June14Cooling.loc[index,\"l\"] = i\n",
    "    j += 1\n",
    "    if j == 15:\n",
    "        j = 0\n",
    "        i += 1"
   ]
  },
  {
   "cell_type": "code",
   "execution_count": 94,
   "id": "695b58dd",
   "metadata": {},
   "outputs": [],
   "source": [
    "June14CoolingFilt=June14Cooling.groupby([\"l\"]).mean()\n",
    "June17CoolingFilt=June17Cooling.groupby([\"l\"]).mean()\n",
    "June18CoolingFilt=June18Cooling.groupby([\"l\"]).mean()\n",
    "June14CoolingFilt[\"walllimit\"] = 0\n",
    "June17CoolingFilt[\"walllimit\"] = 0\n",
    "June18CoolingFilt[\"walllimit\"] = 0"
   ]
  },
  {
   "cell_type": "code",
   "execution_count": 95,
   "id": "85a49845",
   "metadata": {},
   "outputs": [],
   "source": [
    "temp3 = [520, 500, 480, 460, 440, 420, 400, 380, 360, 340, 320, 300, 280, 360, 340, 320, 300, 280, 260, 240, 220, 200, 180, 160, 140, 120, 100]"
   ]
  },
  {
   "cell_type": "code",
   "execution_count": 96,
   "id": "a3ec8a26",
   "metadata": {},
   "outputs": [],
   "source": [
    "for index, row in June14CoolingFilt.iterrows():\n",
    "    for te in temp:\n",
    "        if (row[\"Wall Temp [C]\"] <= te + 10) and (row[\"Wall Temp [C]\"] >= te - 10):\n",
    "            June14CoolingFilt.loc[index,\"walllimit\"] = te"
   ]
  },
  {
   "cell_type": "code",
   "execution_count": 97,
   "id": "a09fa7cf",
   "metadata": {},
   "outputs": [],
   "source": [
    "for index, row in June17CoolingFilt.iterrows():\n",
    "    for te in temp:\n",
    "        if (row[\"Wall Temp [C]\"] <= te + 10) and (row[\"Wall Temp [C]\"] >= te - 10):\n",
    "            June17CoolingFilt.loc[index,\"walllimit\"] = te"
   ]
  },
  {
   "cell_type": "code",
   "execution_count": 98,
   "id": "30179353",
   "metadata": {},
   "outputs": [],
   "source": [
    "for index, row in June18CoolingFilt.iterrows():\n",
    "    for te in temp:\n",
    "        if (row[\"Wall Temp [C]\"] <= te + 10) and (row[\"Wall Temp [C]\"] >= te - 10):\n",
    "            June18CoolingFilt.loc[index,\"walllimit\"] = te"
   ]
  },
  {
   "cell_type": "code",
   "execution_count": 99,
   "id": "8670713b",
   "metadata": {},
   "outputs": [],
   "source": [
    "June14CoolingFilt = June14CoolingFilt.drop(June14CoolingFilt[June14CoolingFilt['Rate of Temp Change [C/min]'] >= 0].index)\n",
    "June17CoolingFilt = June17CoolingFilt.drop(June17CoolingFilt[June17CoolingFilt['Rate of Temp Change [C/min]'] >= 0].index)\n",
    "June18CoolingFilt = June18CoolingFilt.drop(June18CoolingFilt[June18CoolingFilt['Rate of Temp Change [C/min]'] >= 0].index)"
   ]
  },
  {
   "cell_type": "code",
   "execution_count": 100,
   "id": "9ae390a1",
   "metadata": {},
   "outputs": [],
   "source": [
    "co = []\n",
    "for te in temp3:\n",
    "    sums = 0\n",
    "    i = 0\n",
    "    for index14, row14 in June14CoolingFilt.iterrows():\n",
    "        if row14[\"walllimit\"] == te:\n",
    "            sums += row14[\"Rate of Temp Change [C/min]\"]\n",
    "            i += 1\n",
    "    for index17, row17 in June17CoolingFilt.iterrows():\n",
    "        if row17[\"walllimit\"] == te:\n",
    "            sums += row17[\"Rate of Temp Change [C/min]\"]\n",
    "            i += 1\n",
    "    for index18, row18 in June18CoolingFilt.iterrows():\n",
    "        if row18[\"walllimit\"] == te:\n",
    "            sums += row18[\"Rate of Temp Change [C/min]\"]\n",
    "            i += 1\n",
    "    co.append(sums/i)"
   ]
  },
  {
   "cell_type": "code",
   "execution_count": 101,
   "id": "4ff1cd73",
   "metadata": {},
   "outputs": [
    {
     "data": {
      "text/plain": [
       "[-34.55930436,\n",
       " -27.749425601303027,\n",
       " -27.536707661479163,\n",
       " -25.583726470111106,\n",
       " -21.827830932750004,\n",
       " -19.091868780583333,\n",
       " -17.931034308666664,\n",
       " -16.781361602923077,\n",
       " -14.715583816875002,\n",
       " -12.82555244701,\n",
       " -11.525194690323335,\n",
       " -9.912802236397221,\n",
       " -8.794051843450001,\n",
       " -14.715583816875002,\n",
       " -12.82555244701,\n",
       " -11.525194690323335,\n",
       " -9.912802236397221,\n",
       " -8.794051843450001,\n",
       " -7.763027430835556,\n",
       " -6.875257761979047,\n",
       " -6.002038891900812,\n",
       " -5.153354318094203,\n",
       " -4.3556697676499985,\n",
       " -3.623186568300001,\n",
       " -2.9614785158863635,\n",
       " -2.37016552262647,\n",
       " -1.8474658599790692]"
      ]
     },
     "execution_count": 101,
     "metadata": {},
     "output_type": "execute_result"
    }
   ],
   "source": [
    "co"
   ]
  },
  {
   "cell_type": "code",
   "execution_count": 102,
   "id": "f0e46da2",
   "metadata": {},
   "outputs": [],
   "source": [
    "Cooling = pd.DataFrame()\n",
    "Cooling[\"Wall Temp [C]\"] = temp3\n",
    "Cooling[\"Cooling Rate [C/min]\"] = co"
   ]
  },
  {
   "cell_type": "code",
   "execution_count": 103,
   "id": "ecade5af",
   "metadata": {},
   "outputs": [
    {
     "data": {
      "text/html": [
       "<div>\n",
       "<style scoped>\n",
       "    .dataframe tbody tr th:only-of-type {\n",
       "        vertical-align: middle;\n",
       "    }\n",
       "\n",
       "    .dataframe tbody tr th {\n",
       "        vertical-align: top;\n",
       "    }\n",
       "\n",
       "    .dataframe thead th {\n",
       "        text-align: right;\n",
       "    }\n",
       "</style>\n",
       "<table border=\"1\" class=\"dataframe\">\n",
       "  <thead>\n",
       "    <tr style=\"text-align: right;\">\n",
       "      <th></th>\n",
       "      <th>Wall Temp [C]</th>\n",
       "      <th>Internal Temp [C]</th>\n",
       "      <th>Injector Temp [C]</th>\n",
       "      <th>Pressure Temp [C]</th>\n",
       "    </tr>\n",
       "  </thead>\n",
       "  <tbody>\n",
       "    <tr>\n",
       "      <th>0</th>\n",
       "      <td>40</td>\n",
       "      <td>18.320048</td>\n",
       "      <td>33.654252</td>\n",
       "      <td>11.052546</td>\n",
       "    </tr>\n",
       "    <tr>\n",
       "      <th>1</th>\n",
       "      <td>60</td>\n",
       "      <td>37.580862</td>\n",
       "      <td>36.689422</td>\n",
       "      <td>13.234934</td>\n",
       "    </tr>\n",
       "    <tr>\n",
       "      <th>2</th>\n",
       "      <td>80</td>\n",
       "      <td>56.841678</td>\n",
       "      <td>39.724592</td>\n",
       "      <td>15.417322</td>\n",
       "    </tr>\n",
       "    <tr>\n",
       "      <th>3</th>\n",
       "      <td>100</td>\n",
       "      <td>76.102492</td>\n",
       "      <td>42.759762</td>\n",
       "      <td>17.599710</td>\n",
       "    </tr>\n",
       "    <tr>\n",
       "      <th>4</th>\n",
       "      <td>120</td>\n",
       "      <td>95.363307</td>\n",
       "      <td>45.794933</td>\n",
       "      <td>19.782098</td>\n",
       "    </tr>\n",
       "    <tr>\n",
       "      <th>5</th>\n",
       "      <td>140</td>\n",
       "      <td>114.624122</td>\n",
       "      <td>48.830103</td>\n",
       "      <td>21.964486</td>\n",
       "    </tr>\n",
       "    <tr>\n",
       "      <th>6</th>\n",
       "      <td>160</td>\n",
       "      <td>133.884938</td>\n",
       "      <td>51.865273</td>\n",
       "      <td>24.146874</td>\n",
       "    </tr>\n",
       "    <tr>\n",
       "      <th>7</th>\n",
       "      <td>180</td>\n",
       "      <td>153.145753</td>\n",
       "      <td>54.900442</td>\n",
       "      <td>26.329262</td>\n",
       "    </tr>\n",
       "    <tr>\n",
       "      <th>8</th>\n",
       "      <td>200</td>\n",
       "      <td>172.406567</td>\n",
       "      <td>57.935612</td>\n",
       "      <td>28.511650</td>\n",
       "    </tr>\n",
       "    <tr>\n",
       "      <th>9</th>\n",
       "      <td>220</td>\n",
       "      <td>191.667383</td>\n",
       "      <td>60.970782</td>\n",
       "      <td>30.694038</td>\n",
       "    </tr>\n",
       "    <tr>\n",
       "      <th>10</th>\n",
       "      <td>240</td>\n",
       "      <td>210.928197</td>\n",
       "      <td>64.005953</td>\n",
       "      <td>32.876426</td>\n",
       "    </tr>\n",
       "    <tr>\n",
       "      <th>11</th>\n",
       "      <td>260</td>\n",
       "      <td>230.189012</td>\n",
       "      <td>67.041123</td>\n",
       "      <td>35.058814</td>\n",
       "    </tr>\n",
       "    <tr>\n",
       "      <th>12</th>\n",
       "      <td>280</td>\n",
       "      <td>249.449827</td>\n",
       "      <td>70.076292</td>\n",
       "      <td>37.241202</td>\n",
       "    </tr>\n",
       "    <tr>\n",
       "      <th>13</th>\n",
       "      <td>300</td>\n",
       "      <td>268.710643</td>\n",
       "      <td>73.111463</td>\n",
       "      <td>39.423590</td>\n",
       "    </tr>\n",
       "    <tr>\n",
       "      <th>14</th>\n",
       "      <td>320</td>\n",
       "      <td>287.971457</td>\n",
       "      <td>76.146632</td>\n",
       "      <td>41.605978</td>\n",
       "    </tr>\n",
       "    <tr>\n",
       "      <th>15</th>\n",
       "      <td>340</td>\n",
       "      <td>307.232273</td>\n",
       "      <td>79.181803</td>\n",
       "      <td>43.788366</td>\n",
       "    </tr>\n",
       "    <tr>\n",
       "      <th>16</th>\n",
       "      <td>360</td>\n",
       "      <td>326.493088</td>\n",
       "      <td>82.216972</td>\n",
       "      <td>45.970754</td>\n",
       "    </tr>\n",
       "    <tr>\n",
       "      <th>17</th>\n",
       "      <td>380</td>\n",
       "      <td>345.753903</td>\n",
       "      <td>85.252143</td>\n",
       "      <td>48.153142</td>\n",
       "    </tr>\n",
       "    <tr>\n",
       "      <th>18</th>\n",
       "      <td>400</td>\n",
       "      <td>365.014718</td>\n",
       "      <td>88.287312</td>\n",
       "      <td>50.335530</td>\n",
       "    </tr>\n",
       "    <tr>\n",
       "      <th>19</th>\n",
       "      <td>420</td>\n",
       "      <td>384.275532</td>\n",
       "      <td>91.322483</td>\n",
       "      <td>52.517918</td>\n",
       "    </tr>\n",
       "    <tr>\n",
       "      <th>20</th>\n",
       "      <td>440</td>\n",
       "      <td>403.536347</td>\n",
       "      <td>94.357653</td>\n",
       "      <td>54.700306</td>\n",
       "    </tr>\n",
       "    <tr>\n",
       "      <th>21</th>\n",
       "      <td>460</td>\n",
       "      <td>422.797163</td>\n",
       "      <td>97.392822</td>\n",
       "      <td>56.882694</td>\n",
       "    </tr>\n",
       "    <tr>\n",
       "      <th>22</th>\n",
       "      <td>480</td>\n",
       "      <td>442.057977</td>\n",
       "      <td>100.427993</td>\n",
       "      <td>59.065082</td>\n",
       "    </tr>\n",
       "    <tr>\n",
       "      <th>23</th>\n",
       "      <td>500</td>\n",
       "      <td>461.318792</td>\n",
       "      <td>103.463162</td>\n",
       "      <td>61.247470</td>\n",
       "    </tr>\n",
       "    <tr>\n",
       "      <th>24</th>\n",
       "      <td>520</td>\n",
       "      <td>480.579607</td>\n",
       "      <td>106.498333</td>\n",
       "      <td>63.429858</td>\n",
       "    </tr>\n",
       "    <tr>\n",
       "      <th>25</th>\n",
       "      <td>540</td>\n",
       "      <td>499.840422</td>\n",
       "      <td>109.533502</td>\n",
       "      <td>65.612246</td>\n",
       "    </tr>\n",
       "    <tr>\n",
       "      <th>26</th>\n",
       "      <td>560</td>\n",
       "      <td>519.101238</td>\n",
       "      <td>112.568673</td>\n",
       "      <td>67.794634</td>\n",
       "    </tr>\n",
       "    <tr>\n",
       "      <th>27</th>\n",
       "      <td>580</td>\n",
       "      <td>538.362053</td>\n",
       "      <td>115.603843</td>\n",
       "      <td>69.977022</td>\n",
       "    </tr>\n",
       "    <tr>\n",
       "      <th>28</th>\n",
       "      <td>600</td>\n",
       "      <td>557.622867</td>\n",
       "      <td>118.639013</td>\n",
       "      <td>72.159410</td>\n",
       "    </tr>\n",
       "    <tr>\n",
       "      <th>29</th>\n",
       "      <td>620</td>\n",
       "      <td>576.883683</td>\n",
       "      <td>121.674183</td>\n",
       "      <td>74.341798</td>\n",
       "    </tr>\n",
       "    <tr>\n",
       "      <th>30</th>\n",
       "      <td>640</td>\n",
       "      <td>596.144497</td>\n",
       "      <td>124.709352</td>\n",
       "      <td>76.524186</td>\n",
       "    </tr>\n",
       "    <tr>\n",
       "      <th>31</th>\n",
       "      <td>660</td>\n",
       "      <td>615.405313</td>\n",
       "      <td>127.744523</td>\n",
       "      <td>78.706574</td>\n",
       "    </tr>\n",
       "    <tr>\n",
       "      <th>32</th>\n",
       "      <td>680</td>\n",
       "      <td>634.666127</td>\n",
       "      <td>130.779693</td>\n",
       "      <td>80.888962</td>\n",
       "    </tr>\n",
       "    <tr>\n",
       "      <th>33</th>\n",
       "      <td>700</td>\n",
       "      <td>653.926942</td>\n",
       "      <td>133.814863</td>\n",
       "      <td>83.071350</td>\n",
       "    </tr>\n",
       "    <tr>\n",
       "      <th>34</th>\n",
       "      <td>720</td>\n",
       "      <td>673.187757</td>\n",
       "      <td>136.850033</td>\n",
       "      <td>85.253738</td>\n",
       "    </tr>\n",
       "  </tbody>\n",
       "</table>\n",
       "</div>"
      ],
      "text/plain": [
       "    Wall Temp [C]  Internal Temp [C]  Injector Temp [C]  Pressure Temp [C]\n",
       "0              40          18.320048          33.654252          11.052546\n",
       "1              60          37.580862          36.689422          13.234934\n",
       "2              80          56.841678          39.724592          15.417322\n",
       "3             100          76.102492          42.759762          17.599710\n",
       "4             120          95.363307          45.794933          19.782098\n",
       "5             140         114.624122          48.830103          21.964486\n",
       "6             160         133.884938          51.865273          24.146874\n",
       "7             180         153.145753          54.900442          26.329262\n",
       "8             200         172.406567          57.935612          28.511650\n",
       "9             220         191.667383          60.970782          30.694038\n",
       "10            240         210.928197          64.005953          32.876426\n",
       "11            260         230.189012          67.041123          35.058814\n",
       "12            280         249.449827          70.076292          37.241202\n",
       "13            300         268.710643          73.111463          39.423590\n",
       "14            320         287.971457          76.146632          41.605978\n",
       "15            340         307.232273          79.181803          43.788366\n",
       "16            360         326.493088          82.216972          45.970754\n",
       "17            380         345.753903          85.252143          48.153142\n",
       "18            400         365.014718          88.287312          50.335530\n",
       "19            420         384.275532          91.322483          52.517918\n",
       "20            440         403.536347          94.357653          54.700306\n",
       "21            460         422.797163          97.392822          56.882694\n",
       "22            480         442.057977         100.427993          59.065082\n",
       "23            500         461.318792         103.463162          61.247470\n",
       "24            520         480.579607         106.498333          63.429858\n",
       "25            540         499.840422         109.533502          65.612246\n",
       "26            560         519.101238         112.568673          67.794634\n",
       "27            580         538.362053         115.603843          69.977022\n",
       "28            600         557.622867         118.639013          72.159410\n",
       "29            620         576.883683         121.674183          74.341798\n",
       "30            640         596.144497         124.709352          76.524186\n",
       "31            660         615.405313         127.744523          78.706574\n",
       "32            680         634.666127         130.779693          80.888962\n",
       "33            700         653.926942         133.814863          83.071350\n",
       "34            720         673.187757         136.850033          85.253738"
      ]
     },
     "execution_count": 103,
     "metadata": {},
     "output_type": "execute_result"
    }
   ],
   "source": [
    "LinearTable"
   ]
  },
  {
   "cell_type": "code",
   "execution_count": 104,
   "id": "a06ae9e0",
   "metadata": {},
   "outputs": [
    {
     "data": {
      "text/html": [
       "<div>\n",
       "<style scoped>\n",
       "    .dataframe tbody tr th:only-of-type {\n",
       "        vertical-align: middle;\n",
       "    }\n",
       "\n",
       "    .dataframe tbody tr th {\n",
       "        vertical-align: top;\n",
       "    }\n",
       "\n",
       "    .dataframe thead th {\n",
       "        text-align: right;\n",
       "    }\n",
       "</style>\n",
       "<table border=\"1\" class=\"dataframe\">\n",
       "  <thead>\n",
       "    <tr style=\"text-align: right;\">\n",
       "      <th></th>\n",
       "      <th>Wall Temp [C]</th>\n",
       "      <th>Lowess Internal Temp [C]</th>\n",
       "      <th>Lowess Injector Temp [C]</th>\n",
       "      <th>Lowess Pressure Temp [C]</th>\n",
       "    </tr>\n",
       "  </thead>\n",
       "  <tbody>\n",
       "    <tr>\n",
       "      <th>0</th>\n",
       "      <td>40</td>\n",
       "      <td>31.769110</td>\n",
       "      <td>32.549687</td>\n",
       "      <td>20.663160</td>\n",
       "    </tr>\n",
       "    <tr>\n",
       "      <th>1</th>\n",
       "      <td>60</td>\n",
       "      <td>50.920304</td>\n",
       "      <td>41.603281</td>\n",
       "      <td>21.704508</td>\n",
       "    </tr>\n",
       "    <tr>\n",
       "      <th>2</th>\n",
       "      <td>80</td>\n",
       "      <td>69.682638</td>\n",
       "      <td>44.739006</td>\n",
       "      <td>23.559585</td>\n",
       "    </tr>\n",
       "    <tr>\n",
       "      <th>3</th>\n",
       "      <td>100</td>\n",
       "      <td>89.373624</td>\n",
       "      <td>50.283276</td>\n",
       "      <td>24.530853</td>\n",
       "    </tr>\n",
       "    <tr>\n",
       "      <th>4</th>\n",
       "      <td>120</td>\n",
       "      <td>110.500943</td>\n",
       "      <td>55.037498</td>\n",
       "      <td>26.006572</td>\n",
       "    </tr>\n",
       "    <tr>\n",
       "      <th>5</th>\n",
       "      <td>140</td>\n",
       "      <td>125.172236</td>\n",
       "      <td>58.045427</td>\n",
       "      <td>25.996177</td>\n",
       "    </tr>\n",
       "    <tr>\n",
       "      <th>6</th>\n",
       "      <td>160</td>\n",
       "      <td>139.720936</td>\n",
       "      <td>59.147037</td>\n",
       "      <td>28.746125</td>\n",
       "    </tr>\n",
       "    <tr>\n",
       "      <th>7</th>\n",
       "      <td>180</td>\n",
       "      <td>153.955950</td>\n",
       "      <td>60.944056</td>\n",
       "      <td>28.891906</td>\n",
       "    </tr>\n",
       "    <tr>\n",
       "      <th>8</th>\n",
       "      <td>200</td>\n",
       "      <td>177.533731</td>\n",
       "      <td>64.268035</td>\n",
       "      <td>32.672978</td>\n",
       "    </tr>\n",
       "    <tr>\n",
       "      <th>9</th>\n",
       "      <td>220</td>\n",
       "      <td>193.547623</td>\n",
       "      <td>68.233133</td>\n",
       "      <td>33.640933</td>\n",
       "    </tr>\n",
       "    <tr>\n",
       "      <th>10</th>\n",
       "      <td>240</td>\n",
       "      <td>218.360739</td>\n",
       "      <td>69.435984</td>\n",
       "      <td>36.099094</td>\n",
       "    </tr>\n",
       "    <tr>\n",
       "      <th>11</th>\n",
       "      <td>260</td>\n",
       "      <td>229.997566</td>\n",
       "      <td>65.833592</td>\n",
       "      <td>37.610038</td>\n",
       "    </tr>\n",
       "    <tr>\n",
       "      <th>12</th>\n",
       "      <td>280</td>\n",
       "      <td>250.378016</td>\n",
       "      <td>73.444375</td>\n",
       "      <td>34.092066</td>\n",
       "    </tr>\n",
       "    <tr>\n",
       "      <th>13</th>\n",
       "      <td>300</td>\n",
       "      <td>270.122122</td>\n",
       "      <td>76.240310</td>\n",
       "      <td>44.373961</td>\n",
       "    </tr>\n",
       "    <tr>\n",
       "      <th>14</th>\n",
       "      <td>320</td>\n",
       "      <td>289.891673</td>\n",
       "      <td>78.319869</td>\n",
       "      <td>41.744236</td>\n",
       "    </tr>\n",
       "    <tr>\n",
       "      <th>15</th>\n",
       "      <td>340</td>\n",
       "      <td>315.693823</td>\n",
       "      <td>83.830515</td>\n",
       "      <td>53.674256</td>\n",
       "    </tr>\n",
       "    <tr>\n",
       "      <th>16</th>\n",
       "      <td>360</td>\n",
       "      <td>328.522792</td>\n",
       "      <td>82.898214</td>\n",
       "      <td>49.109322</td>\n",
       "    </tr>\n",
       "    <tr>\n",
       "      <th>17</th>\n",
       "      <td>380</td>\n",
       "      <td>350.123642</td>\n",
       "      <td>85.654260</td>\n",
       "      <td>51.968482</td>\n",
       "    </tr>\n",
       "    <tr>\n",
       "      <th>18</th>\n",
       "      <td>400</td>\n",
       "      <td>370.369226</td>\n",
       "      <td>88.459019</td>\n",
       "      <td>51.927858</td>\n",
       "    </tr>\n",
       "    <tr>\n",
       "      <th>19</th>\n",
       "      <td>420</td>\n",
       "      <td>391.733475</td>\n",
       "      <td>90.159522</td>\n",
       "      <td>40.530710</td>\n",
       "    </tr>\n",
       "    <tr>\n",
       "      <th>20</th>\n",
       "      <td>440</td>\n",
       "      <td>410.925035</td>\n",
       "      <td>90.018652</td>\n",
       "      <td>44.409779</td>\n",
       "    </tr>\n",
       "    <tr>\n",
       "      <th>21</th>\n",
       "      <td>460</td>\n",
       "      <td>426.166553</td>\n",
       "      <td>92.071356</td>\n",
       "      <td>48.708216</td>\n",
       "    </tr>\n",
       "    <tr>\n",
       "      <th>22</th>\n",
       "      <td>480</td>\n",
       "      <td>446.032643</td>\n",
       "      <td>95.008415</td>\n",
       "      <td>53.029474</td>\n",
       "    </tr>\n",
       "    <tr>\n",
       "      <th>23</th>\n",
       "      <td>500</td>\n",
       "      <td>463.805675</td>\n",
       "      <td>98.181062</td>\n",
       "      <td>56.352140</td>\n",
       "    </tr>\n",
       "    <tr>\n",
       "      <th>24</th>\n",
       "      <td>520</td>\n",
       "      <td>490.489154</td>\n",
       "      <td>93.974358</td>\n",
       "      <td>70.929076</td>\n",
       "    </tr>\n",
       "  </tbody>\n",
       "</table>\n",
       "</div>"
      ],
      "text/plain": [
       "    Wall Temp [C]  Lowess Internal Temp [C]  Lowess Injector Temp [C]  \\\n",
       "0              40                 31.769110                 32.549687   \n",
       "1              60                 50.920304                 41.603281   \n",
       "2              80                 69.682638                 44.739006   \n",
       "3             100                 89.373624                 50.283276   \n",
       "4             120                110.500943                 55.037498   \n",
       "5             140                125.172236                 58.045427   \n",
       "6             160                139.720936                 59.147037   \n",
       "7             180                153.955950                 60.944056   \n",
       "8             200                177.533731                 64.268035   \n",
       "9             220                193.547623                 68.233133   \n",
       "10            240                218.360739                 69.435984   \n",
       "11            260                229.997566                 65.833592   \n",
       "12            280                250.378016                 73.444375   \n",
       "13            300                270.122122                 76.240310   \n",
       "14            320                289.891673                 78.319869   \n",
       "15            340                315.693823                 83.830515   \n",
       "16            360                328.522792                 82.898214   \n",
       "17            380                350.123642                 85.654260   \n",
       "18            400                370.369226                 88.459019   \n",
       "19            420                391.733475                 90.159522   \n",
       "20            440                410.925035                 90.018652   \n",
       "21            460                426.166553                 92.071356   \n",
       "22            480                446.032643                 95.008415   \n",
       "23            500                463.805675                 98.181062   \n",
       "24            520                490.489154                 93.974358   \n",
       "\n",
       "    Lowess Pressure Temp [C]  \n",
       "0                  20.663160  \n",
       "1                  21.704508  \n",
       "2                  23.559585  \n",
       "3                  24.530853  \n",
       "4                  26.006572  \n",
       "5                  25.996177  \n",
       "6                  28.746125  \n",
       "7                  28.891906  \n",
       "8                  32.672978  \n",
       "9                  33.640933  \n",
       "10                 36.099094  \n",
       "11                 37.610038  \n",
       "12                 34.092066  \n",
       "13                 44.373961  \n",
       "14                 41.744236  \n",
       "15                 53.674256  \n",
       "16                 49.109322  \n",
       "17                 51.968482  \n",
       "18                 51.927858  \n",
       "19                 40.530710  \n",
       "20                 44.409779  \n",
       "21                 48.708216  \n",
       "22                 53.029474  \n",
       "23                 56.352140  \n",
       "24                 70.929076  "
      ]
     },
     "execution_count": 104,
     "metadata": {},
     "output_type": "execute_result"
    }
   ],
   "source": [
    "LowessTable"
   ]
  },
  {
   "cell_type": "code",
   "execution_count": 105,
   "id": "7d10b412",
   "metadata": {
    "scrolled": false
   },
   "outputs": [
    {
     "data": {
      "text/html": [
       "<div>\n",
       "<style scoped>\n",
       "    .dataframe tbody tr th:only-of-type {\n",
       "        vertical-align: middle;\n",
       "    }\n",
       "\n",
       "    .dataframe tbody tr th {\n",
       "        vertical-align: top;\n",
       "    }\n",
       "\n",
       "    .dataframe thead th {\n",
       "        text-align: right;\n",
       "    }\n",
       "</style>\n",
       "<table border=\"1\" class=\"dataframe\">\n",
       "  <thead>\n",
       "    <tr style=\"text-align: right;\">\n",
       "      <th></th>\n",
       "      <th>Wall Temp [C]</th>\n",
       "      <th>Cooling Rate [C/min]</th>\n",
       "    </tr>\n",
       "  </thead>\n",
       "  <tbody>\n",
       "    <tr>\n",
       "      <th>0</th>\n",
       "      <td>520</td>\n",
       "      <td>-34.559304</td>\n",
       "    </tr>\n",
       "    <tr>\n",
       "      <th>1</th>\n",
       "      <td>500</td>\n",
       "      <td>-27.749426</td>\n",
       "    </tr>\n",
       "    <tr>\n",
       "      <th>2</th>\n",
       "      <td>480</td>\n",
       "      <td>-27.536708</td>\n",
       "    </tr>\n",
       "    <tr>\n",
       "      <th>3</th>\n",
       "      <td>460</td>\n",
       "      <td>-25.583726</td>\n",
       "    </tr>\n",
       "    <tr>\n",
       "      <th>4</th>\n",
       "      <td>440</td>\n",
       "      <td>-21.827831</td>\n",
       "    </tr>\n",
       "    <tr>\n",
       "      <th>5</th>\n",
       "      <td>420</td>\n",
       "      <td>-19.091869</td>\n",
       "    </tr>\n",
       "    <tr>\n",
       "      <th>6</th>\n",
       "      <td>400</td>\n",
       "      <td>-17.931034</td>\n",
       "    </tr>\n",
       "    <tr>\n",
       "      <th>7</th>\n",
       "      <td>380</td>\n",
       "      <td>-16.781362</td>\n",
       "    </tr>\n",
       "    <tr>\n",
       "      <th>8</th>\n",
       "      <td>360</td>\n",
       "      <td>-14.715584</td>\n",
       "    </tr>\n",
       "    <tr>\n",
       "      <th>9</th>\n",
       "      <td>340</td>\n",
       "      <td>-12.825552</td>\n",
       "    </tr>\n",
       "    <tr>\n",
       "      <th>10</th>\n",
       "      <td>320</td>\n",
       "      <td>-11.525195</td>\n",
       "    </tr>\n",
       "    <tr>\n",
       "      <th>11</th>\n",
       "      <td>300</td>\n",
       "      <td>-9.912802</td>\n",
       "    </tr>\n",
       "    <tr>\n",
       "      <th>12</th>\n",
       "      <td>280</td>\n",
       "      <td>-8.794052</td>\n",
       "    </tr>\n",
       "    <tr>\n",
       "      <th>13</th>\n",
       "      <td>360</td>\n",
       "      <td>-14.715584</td>\n",
       "    </tr>\n",
       "    <tr>\n",
       "      <th>14</th>\n",
       "      <td>340</td>\n",
       "      <td>-12.825552</td>\n",
       "    </tr>\n",
       "    <tr>\n",
       "      <th>15</th>\n",
       "      <td>320</td>\n",
       "      <td>-11.525195</td>\n",
       "    </tr>\n",
       "    <tr>\n",
       "      <th>16</th>\n",
       "      <td>300</td>\n",
       "      <td>-9.912802</td>\n",
       "    </tr>\n",
       "    <tr>\n",
       "      <th>17</th>\n",
       "      <td>280</td>\n",
       "      <td>-8.794052</td>\n",
       "    </tr>\n",
       "    <tr>\n",
       "      <th>18</th>\n",
       "      <td>260</td>\n",
       "      <td>-7.763027</td>\n",
       "    </tr>\n",
       "    <tr>\n",
       "      <th>19</th>\n",
       "      <td>240</td>\n",
       "      <td>-6.875258</td>\n",
       "    </tr>\n",
       "    <tr>\n",
       "      <th>20</th>\n",
       "      <td>220</td>\n",
       "      <td>-6.002039</td>\n",
       "    </tr>\n",
       "    <tr>\n",
       "      <th>21</th>\n",
       "      <td>200</td>\n",
       "      <td>-5.153354</td>\n",
       "    </tr>\n",
       "    <tr>\n",
       "      <th>22</th>\n",
       "      <td>180</td>\n",
       "      <td>-4.355670</td>\n",
       "    </tr>\n",
       "    <tr>\n",
       "      <th>23</th>\n",
       "      <td>160</td>\n",
       "      <td>-3.623187</td>\n",
       "    </tr>\n",
       "    <tr>\n",
       "      <th>24</th>\n",
       "      <td>140</td>\n",
       "      <td>-2.961479</td>\n",
       "    </tr>\n",
       "    <tr>\n",
       "      <th>25</th>\n",
       "      <td>120</td>\n",
       "      <td>-2.370166</td>\n",
       "    </tr>\n",
       "    <tr>\n",
       "      <th>26</th>\n",
       "      <td>100</td>\n",
       "      <td>-1.847466</td>\n",
       "    </tr>\n",
       "  </tbody>\n",
       "</table>\n",
       "</div>"
      ],
      "text/plain": [
       "    Wall Temp [C]  Cooling Rate [C/min]\n",
       "0             520            -34.559304\n",
       "1             500            -27.749426\n",
       "2             480            -27.536708\n",
       "3             460            -25.583726\n",
       "4             440            -21.827831\n",
       "5             420            -19.091869\n",
       "6             400            -17.931034\n",
       "7             380            -16.781362\n",
       "8             360            -14.715584\n",
       "9             340            -12.825552\n",
       "10            320            -11.525195\n",
       "11            300             -9.912802\n",
       "12            280             -8.794052\n",
       "13            360            -14.715584\n",
       "14            340            -12.825552\n",
       "15            320            -11.525195\n",
       "16            300             -9.912802\n",
       "17            280             -8.794052\n",
       "18            260             -7.763027\n",
       "19            240             -6.875258\n",
       "20            220             -6.002039\n",
       "21            200             -5.153354\n",
       "22            180             -4.355670\n",
       "23            160             -3.623187\n",
       "24            140             -2.961479\n",
       "25            120             -2.370166\n",
       "26            100             -1.847466"
      ]
     },
     "execution_count": 105,
     "metadata": {},
     "output_type": "execute_result"
    }
   ],
   "source": [
    "Cooling"
   ]
  },
  {
   "cell_type": "markdown",
   "id": "0b45c22b",
   "metadata": {},
   "source": [
    "At 380 Amps, took 9 mins 41 secs to heat to 500 C\n",
    "At 500 C, took 1 hr 42 mins 52 secs to cool to 52 C"
   ]
  }
 ],
 "metadata": {
  "kernelspec": {
   "display_name": "Python 3 (ipykernel)",
   "language": "python",
   "name": "python3"
  },
  "language_info": {
   "codemirror_mode": {
    "name": "ipython",
    "version": 3
   },
   "file_extension": ".py",
   "mimetype": "text/x-python",
   "name": "python",
   "nbconvert_exporter": "python",
   "pygments_lexer": "ipython3",
   "version": "3.9.12"
  }
 },
 "nbformat": 4,
 "nbformat_minor": 5
}
